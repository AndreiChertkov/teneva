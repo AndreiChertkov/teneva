{
 "cells": [
  {
   "cell_type": "markdown",
   "id": "f1114c6c-5fa9-4cd0-8cc6-837147b57db6",
   "metadata": {},
   "source": [
    "**teneva** (demo)\n",
    "\n",
    "---"
   ]
  },
  {
   "cell_type": "markdown",
   "id": "80379731-78d3-4a3e-ab01-fef85dba7253",
   "metadata": {},
   "source": [
    "# Introduction"
   ]
  },
  {
   "cell_type": "markdown",
   "id": "717535c4-fab8-4aee-a2e6-342ebe69afec",
   "metadata": {},
   "source": [
    "This python package, named teneva (**ten**sor **eva**luation), provides very compact implementation for the multidimensional cross approximation algorithm in the tensor-train (TT) format. This package also contains a function for quickly calculating the values of the constructed low-rank tensor approximation, as well as a number of auxiliary useful utilities.\n",
    "\n",
    "> See [github repo](https://github.com/AndreiChertkov/teneva) for more details and the License file.\n",
    "\n",
    "> Below, we provide a brief description and demonstration of the capabilities of each function from the `teneva` package. The program code is organized within a functional paradigm. Most functions take $Y$ - a list of the TT-cores $G_1, G_2, \\ldots, G_d$ (3D numpy arrays) - as an input argument and return its updated representation as a new list of TT-cores or some related scalar values (mean, norm, etc.). Sometimes to demonstrate a specific function, it is also necessary to use some other functions from the package, in this case we do not provide comments for the auxiliary function, however all relevant information can be found in the relevant subsection."
   ]
  },
  {
   "cell_type": "markdown",
   "id": "c86a292a-ec7c-4922-b530-d762f1ef1fbc",
   "metadata": {},
   "source": [
    "# Loading and importing modules"
   ]
  },
  {
   "cell_type": "code",
   "execution_count": 1,
   "id": "a4906ed5-76bb-4eb9-8ca6-eeff53e8ec60",
   "metadata": {},
   "outputs": [],
   "source": [
    "import numpy as np\n",
    "import teneva\n",
    "from time import perf_counter as tpc\n",
    "np.random.seed(42)"
   ]
  },
  {
   "cell_type": "markdown",
   "id": "c5bac174-24bd-4bc1-8e9b-d7262612d240",
   "metadata": {},
   "source": [
    "# Modules, functions and classes of `teneva.core`"
   ]
  },
  {
   "cell_type": "markdown",
   "id": "2a4f092c-2935-485b-9371-262c7942b632",
   "metadata": {},
   "source": [
    "## Module `als`"
   ]
  },
  {
   "cell_type": "markdown",
   "id": "28281bf0-fcf2-412b-9976-f87a57d945db",
   "metadata": {},
   "source": [
    "This module contains the function `als` which computes the TT-approximation for the tensor by TT-ALS algorithm, using given random samples."
   ]
  },
  {
   "cell_type": "markdown",
   "id": "d4b15db8-b8e5-44b9-8183-8774087c3d09",
   "metadata": {},
   "source": [
    "### Function `als`"
   ]
  },
  {
   "cell_type": "markdown",
   "id": "4d12eefa-20c7-4545-9696-0664150c4e67",
   "metadata": {},
   "source": [
    "Build TT-tensor by TT-ALS from the given random tensor samples."
   ]
  },
  {
   "cell_type": "code",
   "execution_count": 2,
   "id": "f32d70d8-920e-48fa-a423-2fd49afde310",
   "metadata": {},
   "outputs": [],
   "source": [
    "d         = 10          # Dimension of the function\n",
    "A         = [-2.] * d   # Lower bound for spatial grid\n",
    "B         = [+2.] * d   # Upper bound for spatial grid\n",
    "N         = [10] * d    # Shape of the tensor (it may be non-uniform)\n",
    "M_tst     = 10000       # Number of test points"
   ]
  },
  {
   "cell_type": "code",
   "execution_count": 9,
   "id": "827453cf-47ec-4826-a731-6e27d089641b",
   "metadata": {},
   "outputs": [],
   "source": [
    "evals     = 10000       # Number of calls to target function\n",
    "nswp      = 50          # Sweep number for ALS iterations\n",
    "r         = 3           # TT-rank of the initial random tensor"
   ]
  },
  {
   "cell_type": "code",
   "execution_count": 10,
   "id": "287ff5fc-18f1-49ea-91a5-ba0c92d329db",
   "metadata": {},
   "outputs": [],
   "source": [
    "# Target function\n",
    "# (the function takes as input a set of tensor indices I of the shape [samples, dim], which\n",
    "# are transformed into points X of a uniform spatial grid using the function \"ind2poi\"):\n",
    "\n",
    "from scipy.optimize import rosen\n",
    "def func(I): \n",
    "    X = teneva.ind2poi(I, A, B, N)\n",
    "    return rosen(X.T)"
   ]
  },
  {
   "cell_type": "code",
   "execution_count": 11,
   "id": "faab04be-8554-4552-b912-8bd3076f3c53",
   "metadata": {},
   "outputs": [],
   "source": [
    "# Train data:\n",
    "\n",
    "I_trn = teneva.sample_lhs(N, evals) \n",
    "Y_trn = func(I_trn)"
   ]
  },
  {
   "cell_type": "code",
   "execution_count": 12,
   "id": "b176c329-f9b9-4d06-ad66-6421688e4fde",
   "metadata": {},
   "outputs": [],
   "source": [
    "# Test data\n",
    "# (we generate M_tst random tensor elements for accuracy check):\n",
    "\n",
    "I_tst = np.vstack([np.random.choice(N[i], M_tst) for i in range(d)]).T\n",
    "Y_tst = func(I_tst)"
   ]
  },
  {
   "cell_type": "code",
   "execution_count": 13,
   "id": "ba1be68f-61b6-43ab-b837-455a65bf1a25",
   "metadata": {},
   "outputs": [
    {
     "name": "stdout",
     "output_type": "stream",
     "text": [
      "Build time     :       3.17\n"
     ]
    }
   ],
   "source": [
    "# Build tensor\n",
    "# (we generate random initial r-rank approximation in the TT-format using\n",
    "# the function \"rand\") and then compute the resulting TT-tensor by TT-ALS):\n",
    "\n",
    "t = tpc()\n",
    "Y = teneva.rand(N, r)\n",
    "Y = teneva.als(I_trn, Y_trn, Y, nswp)\n",
    "t = tpc() - t\n",
    "\n",
    "print(f'Build time     : {t:-10.2f}')"
   ]
  },
  {
   "cell_type": "code",
   "execution_count": 14,
   "id": "90ead4b4-b3bf-4dcd-a6ad-9abf25ad881c",
   "metadata": {},
   "outputs": [
    {
     "name": "stdout",
     "output_type": "stream",
     "text": [
      "Error on train :   8.44e-01\n",
      "Error on test  :   3.91e+00\n"
     ]
    }
   ],
   "source": [
    "# Check result:\n",
    "\n",
    "get = teneva.getter(Y)\n",
    "\n",
    "Z = np.array([get(i) for i in I_trn])\n",
    "e_trn = np.linalg.norm(Z - Y_trn) / np.linalg.norm(Y_trn)\n",
    "\n",
    "Z = np.array([get(i) for i in I_tst])\n",
    "e_tst = np.linalg.norm(Z - Y_tst) / np.linalg.norm(Y_tst)\n",
    "\n",
    "print(f'Error on train : {e_trn:-10.2e}')\n",
    "print(f'Error on test  : {e_tst:-10.2e}')"
   ]
  },
  {
   "cell_type": "markdown",
   "id": "69f07851-d702-4443-876a-4effb9c3d479",
   "metadata": {},
   "source": [
    "### Function `als2`"
   ]
  },
  {
   "cell_type": "markdown",
   "id": "68536a5c-8676-4c25-a263-de51c54d86f4",
   "metadata": {},
   "source": [
    "Build TT-tensor by TT-ALS from the given random tensor samples. This is the alternative realization of the algorithm. The version from \"als\" function in many cases works better."
   ]
  },
  {
   "cell_type": "code",
   "execution_count": 21,
   "id": "58f7e81d-16b4-4c01-98f4-788456f754d6",
   "metadata": {},
   "outputs": [],
   "source": [
    "d         = 5           # Dimension of the function\n",
    "A         = [-2.] * d   # Lower bound for spatial grid\n",
    "B         = [+2.] * d   # Upper bound for spatial grid\n",
    "N         = [10] * d    # Shape of the tensor (it may be non-uniform)\n",
    "M_tst     = 10000       # Number of test points"
   ]
  },
  {
   "cell_type": "code",
   "execution_count": 22,
   "id": "45d6d0b4-6b5e-4942-a8a5-9379fd27baca",
   "metadata": {},
   "outputs": [],
   "source": [
    "evals     = 10000       # Number of calls to target function\n",
    "nswp      = 50          # Sweep number for ALS iterations\n",
    "r         = 3           # TT-rank of the initial random tensor"
   ]
  },
  {
   "cell_type": "code",
   "execution_count": 23,
   "id": "6ec3b825-f8c9-4ee6-9ecf-af16ba034013",
   "metadata": {},
   "outputs": [],
   "source": [
    "# Target function\n",
    "# (the function takes as input a set of tensor indices I of the shape [samples, dim], which\n",
    "# are transformed into points X of a uniform spatial grid using the function \"ind2poi\"):\n",
    "\n",
    "from scipy.optimize import rosen\n",
    "def func(I): \n",
    "    X = teneva.ind2poi(I, A, B, N)\n",
    "    return rosen(X.T)"
   ]
  },
  {
   "cell_type": "code",
   "execution_count": 24,
   "id": "9c625aef-0493-427e-9634-e66e3e45de41",
   "metadata": {},
   "outputs": [],
   "source": [
    "# Train data:\n",
    "\n",
    "I_trn = teneva.sample_lhs(N, evals) \n",
    "Y_trn = func(I_trn)"
   ]
  },
  {
   "cell_type": "code",
   "execution_count": 25,
   "id": "b2caab70-398e-4892-b644-0dda3c312608",
   "metadata": {},
   "outputs": [],
   "source": [
    "# Test data\n",
    "# (we generate M_tst random tensor elements for accuracy check):\n",
    "\n",
    "I_tst = np.vstack([np.random.choice(N[i], M_tst) for i in range(d)]).T\n",
    "Y_tst = func(I_tst)"
   ]
  },
  {
   "cell_type": "code",
   "execution_count": 26,
   "id": "63cca6b5-50c9-400e-b7e6-694bdcd40810",
   "metadata": {},
   "outputs": [
    {
     "name": "stdout",
     "output_type": "stream",
     "text": [
      "Build time     :     106.83\n"
     ]
    }
   ],
   "source": [
    "# Build tensor\n",
    "# (we generate random initial r-rank approximation in the TT-format using\n",
    "# the function \"rand\") and then compute the resulting TT-tensor by TT-ALS):\n",
    "\n",
    "t = tpc()\n",
    "Y = teneva.rand(N, r)\n",
    "Y = teneva.als2(I_trn, Y_trn, Y, nswp)\n",
    "t = tpc() - t\n",
    "\n",
    "print(f'Build time     : {t:-10.2f}')"
   ]
  },
  {
   "cell_type": "code",
   "execution_count": 27,
   "id": "f2410df6-1e1c-48b4-b24d-4d7b1539b580",
   "metadata": {},
   "outputs": [
    {
     "name": "stdout",
     "output_type": "stream",
     "text": [
      "Error on train :   1.54e-15\n",
      "Error on test  :   1.60e-15\n"
     ]
    }
   ],
   "source": [
    "# Check result:\n",
    "\n",
    "get = teneva.getter(Y)\n",
    "\n",
    "Z = np.array([get(i) for i in I_trn])\n",
    "e_trn = np.linalg.norm(Z - Y_trn) / np.linalg.norm(Y_trn)\n",
    "\n",
    "Z = np.array([get(i) for i in I_tst])\n",
    "e_tst = np.linalg.norm(Z - Y_tst) / np.linalg.norm(Y_tst)\n",
    "\n",
    "print(f'Error on train : {e_trn:-10.2e}')\n",
    "print(f'Error on test  : {e_tst:-10.2e}')"
   ]
  },
  {
   "cell_type": "markdown",
   "id": "4f820318-3154-4e4f-b9d8-5a31a8ec1006",
   "metadata": {},
   "source": [
    "## Module `anova`"
   ]
  },
  {
   "cell_type": "markdown",
   "id": "848f3491-185b-4650-9ec9-21874c01057b",
   "metadata": {},
   "source": [
    "This module contains the function \"anova\" which computes the TT-approximation for the tensor, using given random samples."
   ]
  },
  {
   "cell_type": "markdown",
   "id": "50f10c3b-1b3f-4576-b948-edf15a51fc23",
   "metadata": {},
   "source": [
    "### Function `anova`"
   ]
  },
  {
   "cell_type": "markdown",
   "id": "293e4833-0ad9-4cd4-af1c-7608eef5ffb1",
   "metadata": {},
   "source": [
    "Construct TT-ANOVA from the given random tensor samples."
   ]
  },
  {
   "cell_type": "code",
   "execution_count": 28,
   "id": "773bb162-b69b-4eec-815b-deb31f0bf173",
   "metadata": {},
   "outputs": [],
   "source": [
    "d         = 10          # Dimension of the function\n",
    "A         = [-5.] * d   # Lower bound for spatial grid\n",
    "B         = [+5.] * d   # Upper bound for spatial grid\n",
    "N         = [10] * d    # Shape of the tensor (it may be non-uniform)\n",
    "M_tst     = 10000       # Number of test points"
   ]
  },
  {
   "cell_type": "code",
   "execution_count": 29,
   "id": "88fd28fe-e472-4000-8f77-edc14e1c8727",
   "metadata": {},
   "outputs": [],
   "source": [
    "evals     = 10000       # Number of calls to target function\n",
    "order     = 1           # Order of ANOVA decomposition (1 or 2)\n",
    "r         = 3           # TT-rank of the resulting tensor"
   ]
  },
  {
   "cell_type": "code",
   "execution_count": 30,
   "id": "8a38f9d3-c994-4896-abff-8bf9626bd2cc",
   "metadata": {},
   "outputs": [],
   "source": [
    "# Target function:\n",
    "\n",
    "from scipy.optimize import rosen\n",
    "def func(I): \n",
    "    X = teneva.ind2poi(I, A, B, N)\n",
    "    return rosen(X.T)"
   ]
  },
  {
   "cell_type": "code",
   "execution_count": 31,
   "id": "a6cc8b85-f403-4068-b2d1-2f247a4cec60",
   "metadata": {},
   "outputs": [],
   "source": [
    "# Train data:\n",
    "\n",
    "I_trn = teneva.sample_lhs(N, evals) \n",
    "Y_trn = func(I_trn)"
   ]
  },
  {
   "cell_type": "code",
   "execution_count": 32,
   "id": "40ff7216-f166-4975-88df-8dc3699c99c2",
   "metadata": {},
   "outputs": [],
   "source": [
    "# Test data:\n",
    "\n",
    "I_tst = np.vstack([np.random.choice(N[i], M_tst) for i in range(d)]).T\n",
    "Y_tst = func(I_tst)"
   ]
  },
  {
   "cell_type": "code",
   "execution_count": 33,
   "id": "a9846ffc-98fa-4dd0-83f1-a3c3fe57dd01",
   "metadata": {},
   "outputs": [
    {
     "name": "stdout",
     "output_type": "stream",
     "text": [
      "Build time     :       0.01\n"
     ]
    }
   ],
   "source": [
    "# Build tensor:\n",
    "\n",
    "t = tpc()\n",
    "Y = teneva.anova(I_trn, Y_trn, r, order)\n",
    "t = tpc() - t\n",
    "\n",
    "print(f'Build time     : {t:-10.2f}')"
   ]
  },
  {
   "cell_type": "code",
   "execution_count": 34,
   "id": "5d99c4b8-e6df-4e5a-bf5c-84a3903653de",
   "metadata": {},
   "outputs": [
    {
     "name": "stdout",
     "output_type": "stream",
     "text": [
      "Error on train :   9.59e-02\n",
      "Error on test  :   9.68e-02\n"
     ]
    }
   ],
   "source": [
    "# Check result:\n",
    "\n",
    "get = teneva.getter(Y)\n",
    "\n",
    "Z = np.array([get(i) for i in I_trn])\n",
    "e_trn = np.linalg.norm(Z - Y_trn) / np.linalg.norm(Y_trn)\n",
    "\n",
    "Z = np.array([get(i) for i in I_tst])\n",
    "e_tst = np.linalg.norm(Z - Y_tst) / np.linalg.norm(Y_tst)\n",
    "\n",
    "print(f'Error on train : {e_trn:-10.2e}')\n",
    "print(f'Error on test  : {e_tst:-10.2e}')"
   ]
  },
  {
   "cell_type": "markdown",
   "id": "f7bcd177-3567-4675-bae5-16c489007799",
   "metadata": {},
   "source": [
    "## Module `cheb`"
   ]
  },
  {
   "cell_type": "markdown",
   "id": "31538ec5-f8c4-4659-82fa-ef56c092f98c",
   "metadata": {},
   "source": [
    "This module contains the functions for construction of the Chebyshev interpolation in the TT-format as well as calculating the values of the function using the constructed interpolation coefficients."
   ]
  },
  {
   "cell_type": "markdown",
   "id": "2ee615f0-55bc-4584-b16a-05158b0138ee",
   "metadata": {},
   "source": [
    "### Function `cheb_bld`"
   ]
  },
  {
   "cell_type": "markdown",
   "id": "7b14008b-210c-4c22-ab95-f7a4b7058d20",
   "metadata": {},
   "source": [
    "Compute the function values on the Chebyshev grid using TT-CAM."
   ]
  },
  {
   "cell_type": "code",
   "execution_count": 2,
   "id": "de22f392-e51b-414e-8451-49430e34f8a0",
   "metadata": {},
   "outputs": [
    {
     "name": "stdout",
     "output_type": "stream",
     "text": [
      "  5  6  7  8 \n",
      " / \\/ \\/ \\/ \\\n",
      " 1  3  3  3  1 \n",
      "\n"
     ]
    }
   ],
   "source": [
    "from scipy.optimize import rosen\n",
    "f = lambda X: rosen(X.T)                  # Target function\n",
    "\n",
    "a = [-2., -4., -3., -2.]                  # Grid lower bounds\n",
    "b = [+2., +3., +4., +2.]                  # Grid upper bounds\n",
    "n = [5, 6, 7, 8]                          # Grid size\n",
    "Y0 = teneva.rand(n, r=2)                  # Initial approximation for TT-CAM\n",
    "e = 1.E-3                                 # Accuracy for TT-CAM\n",
    "Y = teneva.cheb_bld(f, a, b, n,           # TT-tensor of values on the Cheb. grid\n",
    "    Y0=Y0, e=e)                           # TT-CAM arguments (Y0 and e are required)\n",
    "teneva.show(Y)                            # Show the result"
   ]
  },
  {
   "cell_type": "markdown",
   "id": "064b1ce4-cd1c-460e-87d3-e9a491d07adf",
   "metadata": {},
   "source": [
    "### Function `cheb_get`"
   ]
  },
  {
   "cell_type": "markdown",
   "id": "671c92c0-6b3e-4e6e-82d4-025c27657b2d",
   "metadata": {},
   "source": [
    "Compute the Chebyshev approximation in given points (approx. f(X))."
   ]
  },
  {
   "cell_type": "code",
   "execution_count": 4,
   "id": "c35dcb58-c9cc-4b18-94ad-1992a0cdfcca",
   "metadata": {},
   "outputs": [
    {
     "name": "stdout",
     "output_type": "stream",
     "text": [
      "  5  6  7  8 \n",
      " / \\/ \\/ \\/ \\\n",
      " 1  3  3  3  1 \n",
      "\n"
     ]
    }
   ],
   "source": [
    "# In the beginning we compute the function values on the Chebyshev grid using TT-CAM\n",
    "# (see teneva.core.cheb.cheb_bld function for more details):\n",
    "\n",
    "from scipy.optimize import rosen\n",
    "f = lambda X: rosen(X.T)                  # Target function\n",
    "\n",
    "a = [-2., -4., -3., -2.]                  # Grid lower bounds\n",
    "b = [+2., +3., +4., +2.]                  # Grid upper bounds\n",
    "n = [5, 6, 7, 8]                          # Grid size\n",
    "Y0 = teneva.rand(n, r=2)                  # Initial approximation for TT-CAM\n",
    "e = 1.E-3                                 # Accuracy for TT-CAM\n",
    "Y = teneva.cheb_bld(f, a, b, n,           # TT-tensor of values on the Cheb. grid\n",
    "    Y0=Y0, e=e)                           # TT-CAM arguments\n",
    "teneva.show(Y)                            # Show the result"
   ]
  },
  {
   "cell_type": "code",
   "execution_count": 3,
   "id": "fcadcb07-e301-4c1b-9524-5215a864f47a",
   "metadata": {},
   "outputs": [
    {
     "name": "stdout",
     "output_type": "stream",
     "text": [
      "  5  6  7  8 \n",
      " / \\/ \\/ \\/ \\\n",
      " 1  3  3  3  1 \n",
      "\n"
     ]
    }
   ],
   "source": [
    "# Then we should compute the TT-tensor for Chebyshev interpolation coefficients\n",
    "# (see teneva.core.cheb.cheb_int function for more details):\n",
    "\n",
    "A = teneva.cheb_int(Y, e)\n",
    "teneva.show(A)                            # Show the result"
   ]
  },
  {
   "cell_type": "code",
   "execution_count": 6,
   "id": "a0850047-83f8-49ff-94bb-903c829d38ef",
   "metadata": {},
   "outputs": [
    {
     "name": "stdout",
     "output_type": "stream",
     "text": [
      "[ 3.00000000e+00  5.40600000e+03 -2.20268248e-12 -1.00000000e+00]\n",
      "[3.0000000e+00 5.4060000e+03 0.0000000e+00 9.9999996e+17]\n"
     ]
    }
   ],
   "source": [
    "# Finally we compute the approximation in selected points inside the bounds:\n",
    "# (the values for points outside the bounds will be set as \"z\")\n",
    "\n",
    "X = np.array([\n",
    "    [0., 0., 0., 0.],\n",
    "    [0., 2., 3., 2.],\n",
    "    [1., 1., 1., 1.],\n",
    "    [1., 1., 1., 99999999],\n",
    "])\n",
    "Z = teneva.cheb_get(X, A, a, b, z=-1.)\n",
    "print(Z)       # Print the result\n",
    "print(f(X))    # We can check the result by comparing it to the true values"
   ]
  },
  {
   "cell_type": "markdown",
   "id": "c7e0a456-c3b6-4e60-befa-c502d8d8481a",
   "metadata": {},
   "source": [
    "### Function `cheb_get_full`"
   ]
  },
  {
   "cell_type": "markdown",
   "id": "f9458bbd-0a87-47d5-88d6-f940d6442879",
   "metadata": {},
   "source": [
    "Compute the Chebyshev approximation (TT-tensor) on the full given grid."
   ]
  },
  {
   "cell_type": "code",
   "execution_count": 2,
   "id": "18cd0f07-cbb2-4791-b40a-2796aeb36080",
   "metadata": {},
   "outputs": [
    {
     "name": "stdout",
     "output_type": "stream",
     "text": [
      "  5  5  5  5 \n",
      " / \\/ \\/ \\/ \\\n",
      " 1  3  3  3  1 \n",
      "\n"
     ]
    }
   ],
   "source": [
    "# In the beginning we compute the function values on the Chebyshev grid using TT-CAM\n",
    "# (see teneva.core.cheb.cheb_bld function for more details):\n",
    "\n",
    "from scipy.optimize import rosen\n",
    "f = lambda X: rosen(X.T)                  # Target function\n",
    "\n",
    "d = 4\n",
    "a = -2.                                   # Grid lower bounds (it works now only for constant bounds)\n",
    "b = +3.                                   # Grid upper bounds (it works now only for constant bounds)\n",
    "n = 5                                     # Grid size (it works now only for constant grid sizes)\n",
    "Y0 = teneva.rand([n]*d, r=2)              # Initial approximation for TT-CAM\n",
    "e = 1.E-3                                 # Accuracy for TT-CAM\n",
    "Y = teneva.cheb_bld(f, a, b, [n]*d,       # TT-tensor of values on the Cheb. grid\n",
    "    Y0=Y0, e=e)                           # TT-CAM arguments\n",
    "teneva.show(Y)                            # Show the result"
   ]
  },
  {
   "cell_type": "code",
   "execution_count": 3,
   "id": "543a2d83-de00-40d9-b320-dee04dd33d73",
   "metadata": {},
   "outputs": [
    {
     "name": "stdout",
     "output_type": "stream",
     "text": [
      "  5  5  5  5 \n",
      " / \\/ \\/ \\/ \\\n",
      " 1  3  3  3  1 \n",
      "\n"
     ]
    }
   ],
   "source": [
    "# Then we should compute the TT-tensor for Chebyshev interpolation coefficients\n",
    "# (see teneva.core.cheb.cheb_int function for more details):\n",
    "\n",
    "A = teneva.cheb_int(Y, e)\n",
    "teneva.show(A)                            # Show the result"
   ]
  },
  {
   "cell_type": "code",
   "execution_count": 4,
   "id": "db8311a0-74ef-4e64-b5a9-b8cabfb54327",
   "metadata": {},
   "outputs": [
    {
     "name": "stdout",
     "output_type": "stream",
     "text": [
      " 10 10 10 10 \n",
      " / \\/ \\/ \\/ \\\n",
      " 1  3  3  3  1 \n",
      "\n"
     ]
    }
   ],
   "source": [
    "m = 10                                    # New size of the grid\n",
    "Z = teneva.cheb_get_full(A, a, b, m)      # Compute tensor on finer grid\n",
    "teneva.show(Z)"
   ]
  },
  {
   "cell_type": "markdown",
   "id": "d4b4f55c-7d6d-4d2b-b8a3-5f4f114890af",
   "metadata": {},
   "source": [
    "### Function `cheb_int`"
   ]
  },
  {
   "cell_type": "markdown",
   "id": "12ea8644-69b0-4aae-9a2b-3567b94f3685",
   "metadata": {},
   "source": [
    "Compute the TT-tensor for Chebyshev interpolation coefficients."
   ]
  },
  {
   "cell_type": "code",
   "execution_count": 7,
   "id": "23b82b6e-1806-457a-b1ca-f85e42be9c91",
   "metadata": {},
   "outputs": [
    {
     "name": "stdout",
     "output_type": "stream",
     "text": [
      "  5  6  7  8 \n",
      " / \\/ \\/ \\/ \\\n",
      " 1  3  3  3  1 \n",
      "\n"
     ]
    }
   ],
   "source": [
    "# In the beginning we compute the function values on the Chebyshev grid using TT-CAM\n",
    "# (see teneva.core.cheb.cheb_bld function for more details):\n",
    "\n",
    "from scipy.optimize import rosen\n",
    "f = lambda X: rosen(X.T)                  # Target function\n",
    "\n",
    "a = [-2., -4., -3., -2.]                  # Grid lower bounds\n",
    "b = [+2., +3., +4., +2.]                  # Grid upper bounds\n",
    "n = [5, 6, 7, 8]                          # Grid size\n",
    "Y0 = teneva.rand(n, r=2)                  # Initial approximation for TT-CAM\n",
    "e = 1.E-3                                 # Accuracy for TT-CAM\n",
    "Y = teneva.cheb_bld(f, a, b, n,           # TT-tensor of values on the Cheb. grid\n",
    "    Y0=Y0, e=e)                           # TT-CAM arguments\n",
    "teneva.show(Y)                            # Show the result"
   ]
  },
  {
   "cell_type": "code",
   "execution_count": 8,
   "id": "a9726b98-7e6a-4bbe-a4fe-dd55864dfc1f",
   "metadata": {},
   "outputs": [
    {
     "name": "stdout",
     "output_type": "stream",
     "text": [
      "  5  6  7  8 \n",
      " / \\/ \\/ \\/ \\\n",
      " 1  3  3  3  1 \n",
      "\n"
     ]
    }
   ],
   "source": [
    "# Then we can compute the TT-tensor for Chebyshev interpolation coefficients:\n",
    "\n",
    "A = teneva.cheb_int(Y, e)\n",
    "teneva.show(A)                            # Show the result"
   ]
  },
  {
   "cell_type": "markdown",
   "id": "a12a0390-f00d-4c69-9395-dc2fd6183ec4",
   "metadata": {},
   "source": [
    "### Function `cheb_pol`"
   ]
  },
  {
   "cell_type": "markdown",
   "id": "e0835a56-e882-4e96-9905-f73627985a44",
   "metadata": {},
   "source": [
    "Compute the Chebyshev polynomials in the given points."
   ]
  },
  {
   "cell_type": "code",
   "execution_count": 9,
   "id": "8709202b-fe42-46d0-a2a9-9b29ab9fa470",
   "metadata": {},
   "outputs": [],
   "source": [
    "a = [-2., -4., -3., -2.]                  # Grid lower bounds\n",
    "b = [+2., +3., +4., +2.]                  # Grid upper bounds\n",
    "X = np.array([                            # Two 4-dim points\n",
    "    [0., 0., 0., 0.],\n",
    "    [0., 2., 3., 2.],\n",
    "])\n",
    "m = 3                                    # Maximum order of polynomial      \n",
    "T = teneva.cheb_pol(X, a, b, m)          # Compute polynomials"
   ]
  },
  {
   "cell_type": "code",
   "execution_count": 10,
   "id": "83ed8f81-d375-4add-b40b-39baefbf3fac",
   "metadata": {},
   "outputs": [
    {
     "name": "stdout",
     "output_type": "stream",
     "text": [
      "(3, 2, 4)\n",
      "1.0\n",
      "0.0\n",
      "-1.0\n"
     ]
    }
   ],
   "source": [
    "print(T.shape)\n",
    "print(T[0, 0, 0])                        # 0-th order pol. is 1\n",
    "print(T[1, 0, 0])                        # 1-th order pol. is x (=0 for x=0)\n",
    "print(T[2, 0, 0])                        # 2-th order pol. is 2x^2-1 (=-1 for x=0)"
   ]
  },
  {
   "cell_type": "code",
   "execution_count": 11,
   "id": "aaa20487-4213-4bf7-b699-0ff4a1cfb442",
   "metadata": {},
   "outputs": [
    {
     "name": "stdout",
     "output_type": "stream",
     "text": [
      "1.0\n",
      "1.0\n",
      "1.0\n"
     ]
    }
   ],
   "source": [
    "# Note that grid is scaled from [a, b] limits to [-1, 1] limit:\n",
    "\n",
    "print(T[0, 1, 3])                        # 0-th order pol. is 1\n",
    "print(T[1, 1, 3])                        # 1-th order pol. is x (=0 for x=2 with lim [-2, 2])\n",
    "print(T[2, 1, 3])                        # 2-th order pol. is 2x^2-1 (=-1 for x=2 with lim [-2, 2])"
   ]
  },
  {
   "cell_type": "markdown",
   "id": "c51330db-dbb6-49e9-93b0-c0ff89c62be8",
   "metadata": {},
   "source": [
    "### Function `cheb_sum`"
   ]
  },
  {
   "cell_type": "markdown",
   "id": "b62823d3-8ee9-4920-8d79-c2a52e97bd0d",
   "metadata": {},
   "source": [
    "Integrate the function from its Chebyshev approximation in the TT-format.\n",
    "\n",
    "> Note that this function works only for symmetric grids!"
   ]
  },
  {
   "cell_type": "code",
   "execution_count": 12,
   "id": "4e2edf9f-442b-482c-95ce-924b1ce6c717",
   "metadata": {},
   "outputs": [
    {
     "name": "stdout",
     "output_type": "stream",
     "text": [
      " 50 50 50 50 \n",
      " / \\/ \\/ \\/ \\\n",
      " 1  1  1  1  1 \n",
      "\n"
     ]
    }
   ],
   "source": [
    "# In the beginning we compute the function values on the Chebyshev grid using TT-CAM\n",
    "# (see teneva.core.cheb.cheb_bld function for more details):\n",
    "                 \n",
    "d = 4\n",
    "def f(X): # Target function\n",
    "    a = 2.\n",
    "    r = np.exp(-np.sum(X*X, axis=1) / a) / (np.pi * a)**(d/2)\n",
    "    return r.reshape(-1)\n",
    "\n",
    "a = [-12., -14., -13., -12.]              # Grid lower bounds\n",
    "b = [+12., +14., +13., +12.]              # Grid upper bounds\n",
    "n = [50, 50, 50, 50]                      # Grid size\n",
    "Y0 = teneva.rand(n, r=2)                  # Initial approximation for TT-CAM\n",
    "e = 1.E-5                                 # Accuracy for TT-CAM\n",
    "Y = teneva.cheb_bld(f, a, b, n,           # TT-tensor of values on the Cheb. grid\n",
    "    Y0=Y0, e=e)                           # TT-CAM arguments\n",
    "teneva.show(Y)                            # Show the result"
   ]
  },
  {
   "cell_type": "code",
   "execution_count": 13,
   "id": "3d629e1d-40de-4315-a35d-0116a582d685",
   "metadata": {},
   "outputs": [
    {
     "name": "stdout",
     "output_type": "stream",
     "text": [
      " 50 50 50 50 \n",
      " / \\/ \\/ \\/ \\\n",
      " 1  1  1  1  1 \n",
      "\n"
     ]
    }
   ],
   "source": [
    "# Then we should compute the TT-tensor for Chebyshev interpolation coefficients\n",
    "# (see teneva.core.cheb.cheb_int function for more details):\n",
    "\n",
    "A = teneva.cheb_int(Y, e)\n",
    "teneva.show(A)                            # Show the result"
   ]
  },
  {
   "cell_type": "code",
   "execution_count": 14,
   "id": "a01eb180-53fa-4f90-8756-edc317e2a486",
   "metadata": {},
   "outputs": [
    {
     "name": "stdout",
     "output_type": "stream",
     "text": [
      "1.0000000205312076\n"
     ]
    }
   ],
   "source": [
    "# Finally we compute the integral:\n",
    "\n",
    "v = teneva.cheb_sum(A, a, b)\n",
    "print(v)       # Print the result (the real value is 1.)"
   ]
  },
  {
   "cell_type": "markdown",
   "id": "177047af-7444-4e64-82fc-87832a1dde3d",
   "metadata": {},
   "source": [
    "## Module `cross`"
   ]
  },
  {
   "cell_type": "markdown",
   "id": "1c78d95b-f94e-4fbc-b583-7610007c74cf",
   "metadata": {},
   "source": [
    "This module computes the TT-approximation for implicit tensor given functionally by multidimensional cross approximation method in the TT-format (TT-CAM)."
   ]
  },
  {
   "cell_type": "markdown",
   "id": "4f4371b3-3864-45de-94af-965e4dec1237",
   "metadata": {},
   "source": [
    "### Function `cross`"
   ]
  },
  {
   "cell_type": "markdown",
   "id": "4c151e39-a0cc-4c8f-b248-f68521bf698e",
   "metadata": {},
   "source": [
    "Compute the TT-approximation for implicit tensor given functionally."
   ]
  },
  {
   "cell_type": "code",
   "execution_count": 58,
   "id": "3aee279a-54d2-4a83-95c0-e90579537cb1",
   "metadata": {},
   "outputs": [],
   "source": [
    "d         = 5                           # Dimension of the function\n",
    "a         = [-5., -4., -3., -2., -1.]   # Lower bounds for spatial grid\n",
    "b         = [+5., +4., +3., +2., +1.]   # Upper bounds for spatial grid\n",
    "n         = [ 50,  60,  70,  80,  90]   # Shape of the tensor"
   ]
  },
  {
   "cell_type": "code",
   "execution_count": 64,
   "id": "6d0b30c8-04c9-47af-afaf-7c4c15c9e30c",
   "metadata": {},
   "outputs": [],
   "source": [
    "evals     = 10000       # Number of calls to target function\n",
    "nswp      = 4           # Sweep number\n",
    "dr_min    = 1           # Cross parameter (minimum number of added rows)\n",
    "dr_max    = 1           # Cross parameter (maximum number of added rows)\n",
    "r         = 3           # TT-rank of the initial tensor\n",
    "e         = 1.E-4       # Desired accuracy"
   ]
  },
  {
   "cell_type": "code",
   "execution_count": 65,
   "id": "1dea74c3-0fb4-4a88-8c1c-05c162316dbb",
   "metadata": {},
   "outputs": [],
   "source": [
    "# Target function\n",
    "# (we transform indices into points using \"ind2poi\" function):\n",
    "\n",
    "from scipy.optimize import rosen\n",
    "def func(I): \n",
    "    X = teneva.ind2poi(I, a, b, n)\n",
    "    return rosen(X.T)"
   ]
  },
  {
   "cell_type": "code",
   "execution_count": 66,
   "id": "97a50a92-2f64-48bd-93ec-22b97516fc02",
   "metadata": {},
   "outputs": [],
   "source": [
    "# Test data:\n",
    "\n",
    "m_tst = 10000 # Number of test points\n",
    "I_tst = np.vstack([np.random.choice(n[i], m_tst) for i in range(d)]).T\n",
    "Y_tst = func(I_tst)"
   ]
  },
  {
   "cell_type": "code",
   "execution_count": 67,
   "id": "447dfbe4-b187-4005-969f-0c366d20490f",
   "metadata": {},
   "outputs": [
    {
     "name": "stdout",
     "output_type": "stream",
     "text": [
      "Build time     :       0.13\n",
      "Evals func     :       9301\n",
      "Cache uses     :       2689\n",
      "Iter accuracy  :  -1.00e+00\n",
      "Sweep number   :          1\n",
      "Stop condition :      evals\n",
      "TT-rank of res :        3.0\n"
     ]
    }
   ],
   "source": [
    "# Build tensor\n",
    "# (note: cache is optional (it may be None) and it is effictive only for\n",
    "# complex functions with long computing time for one call):\n",
    "\n",
    "t = tpc()\n",
    "cache, info = {}, {}\n",
    "Y = teneva.rand(n, r)\n",
    "Y = teneva.cross(func, Y, e, evals, nswp, dr_min, dr_max, cache, info)\n",
    "t = tpc() - t\n",
    "\n",
    "print(f'Build time     : {t:-10.2f}')\n",
    "print(f'Evals func     : {info[\"k_evals\"]:-10d}')\n",
    "print(f'Cache uses     : {info[\"k_cache\"]:-10d}')\n",
    "print(f'Iter accuracy  : {info[\"e\"]:-10.2e}')\n",
    "print(f'Sweep number   : {info[\"nswp\"]:-10d}')\n",
    "print(f'Stop condition : {info[\"stop\"]:>10}')\n",
    "print(f'TT-rank of res : {teneva.erank(Y):-10.1f}')"
   ]
  },
  {
   "cell_type": "code",
   "execution_count": 68,
   "id": "a4f1e9e4-59f3-4d55-a5d3-42e9a8e4d875",
   "metadata": {},
   "outputs": [
    {
     "name": "stdout",
     "output_type": "stream",
     "text": [
      "Error on test  :   8.02e-15\n"
     ]
    }
   ],
   "source": [
    "# Check result:\n",
    "\n",
    "get = teneva.getter(Y)                     # Fast getter for TT-tensor values\n",
    "\n",
    "Z = np.array([get(i) for i in I_tst])      # Compute approximation in test points\n",
    "e_tst = np.linalg.norm(Z - Y_tst)          # Accuracy of the result\n",
    "e_tst /= np.linalg.norm(Y_tst)\n",
    "\n",
    "print(f'Error on test  : {e_tst:-10.2e}')"
   ]
  },
  {
   "cell_type": "markdown",
   "id": "974628c1-009f-4164-bb08-908c40d125eb",
   "metadata": {},
   "source": [
    "## Module `grid`"
   ]
  },
  {
   "cell_type": "markdown",
   "id": "d4533515-1e89-4911-93db-129de892ad76",
   "metadata": {},
   "source": [
    "Module contains a set of functions for creating and transforming multidimensional grids."
   ]
  },
  {
   "cell_type": "markdown",
   "id": "14d79c84-3276-457e-879d-31c4041c70c3",
   "metadata": {},
   "source": [
    "### Function `grid_flat`"
   ]
  },
  {
   "cell_type": "markdown",
   "id": "8278d143-9f81-4599-afd0-b10e4a4b0a7b",
   "metadata": {},
   "source": [
    "Compute the multiindices for the full grid in the form of flat array."
   ]
  },
  {
   "cell_type": "code",
   "execution_count": 3,
   "id": "fbda4e6f-f5de-41c7-aa05-2d97070fa609",
   "metadata": {},
   "outputs": [
    {
     "name": "stdout",
     "output_type": "stream",
     "text": [
      "[[0 1 0 1 0 1 0 1 0 1 0 1 0 1 0 1 0 1 0 1 0 1 0 1]\n",
      " [0 0 1 1 2 2 0 0 1 1 2 2 0 0 1 1 2 2 0 0 1 1 2 2]\n",
      " [0 0 0 0 0 0 1 1 1 1 1 1 2 2 2 2 2 2 3 3 3 3 3 3]]\n"
     ]
    }
   ],
   "source": [
    "n = [2, 3, 4]\n",
    "I = teneva.grid_flat(n)\n",
    "print(I)"
   ]
  },
  {
   "cell_type": "markdown",
   "id": "395e5f83-a893-4338-83df-7c0693056d49",
   "metadata": {},
   "source": [
    "### Function `grid_prep_opts`"
   ]
  },
  {
   "cell_type": "markdown",
   "id": "4ee0d35e-a7fd-4bcb-a770-07d847f02815",
   "metadata": {},
   "source": [
    "Helper function that prepare grid parameters (a, b, n)."
   ]
  },
  {
   "cell_type": "code",
   "execution_count": 2,
   "id": "3a009fd9-2d71-41b7-8dba-74e9ae7b5fd4",
   "metadata": {},
   "outputs": [
    {
     "data": {
      "text/plain": [
       "(array([-5., -5., -5.]), array([5., 5., 5.]), array([7, 7, 7]))"
      ]
     },
     "execution_count": 2,
     "metadata": {},
     "output_type": "execute_result"
    }
   ],
   "source": [
    "d = 3           # Dimension of the tensor/grid\n",
    "a = -5.         # Lower bounds for grid\n",
    "b = +5.         # Upper bounds for grid\n",
    "n = 7           # Shape of the tensor/grid\n",
    "teneva.grid_prep_opts(a, b, n, d)"
   ]
  },
  {
   "cell_type": "code",
   "execution_count": 3,
   "id": "9d9caa95-d72c-44be-9d18-3913b900a9cd",
   "metadata": {},
   "outputs": [
    {
     "data": {
      "text/plain": [
       "(array([-5., -5., -5.]), array([5., 5., 5.]), array([7, 7, 7]))"
      ]
     },
     "execution_count": 3,
     "metadata": {},
     "output_type": "execute_result"
    }
   ],
   "source": [
    "d = None        # Dimension of the tensor/grid\n",
    "a = -5.         # Lower bounds for grid\n",
    "b = +5.         # Upper bounds for grid\n",
    "n = [7, 7, 7]   # Shape of the tensor/grid\n",
    "teneva.grid_prep_opts(a, b, n, d)"
   ]
  },
  {
   "cell_type": "code",
   "execution_count": 4,
   "id": "c9422824-288c-41c3-980a-3f1f944d492e",
   "metadata": {},
   "outputs": [
    {
     "data": {
      "text/plain": [
       "(array([-5., -4.]), array([5., 5.]), array([6, 6]))"
      ]
     },
     "execution_count": 4,
     "metadata": {},
     "output_type": "execute_result"
    }
   ],
   "source": [
    "d = None        # Dimension of the tensor/grid\n",
    "a = [-5., -4.]  # Lower bounds for grid\n",
    "b = +5.         # Upper bounds for grid\n",
    "n = 6           # Shape of the tensor/grid\n",
    "teneva.grid_prep_opts(a, b, n, d)"
   ]
  },
  {
   "cell_type": "code",
   "execution_count": 5,
   "id": "3a35da9b-1f75-41fb-9eb5-159f80761807",
   "metadata": {},
   "outputs": [
    {
     "data": {
      "text/plain": [
       "(array([-5., -4.]), array([5., 4.]), array([100, 200]))"
      ]
     },
     "execution_count": 5,
     "metadata": {},
     "output_type": "execute_result"
    }
   ],
   "source": [
    "a = [-5., -4.]  # Lower bounds for grid\n",
    "b = [+5., +4.]  # Upper bounds for grid\n",
    "n = [100, 200]  # Shape of the tensor/grid\n",
    "teneva.grid_prep_opts(a, b, n)"
   ]
  },
  {
   "cell_type": "code",
   "execution_count": 6,
   "id": "2b5abb94-32ef-403d-977d-2e6cd85ffb81",
   "metadata": {},
   "outputs": [
    {
     "data": {
      "text/plain": [
       "(array([[-5., -4.],\n",
       "        [-5., -4.]]),\n",
       " array([[5., 4.],\n",
       "        [5., 4.]]),\n",
       " array([[100, 200],\n",
       "        [100, 200]]))"
      ]
     },
     "execution_count": 6,
     "metadata": {},
     "output_type": "execute_result"
    }
   ],
   "source": [
    "a = [-5., -4.]  # Lower bounds for grid\n",
    "b = [+5., +4.]  # Upper bounds for grid\n",
    "n = [100, 200]  # Shape of the tensor/grid\n",
    "teneva.grid_prep_opts(a, b, n, reps=2)"
   ]
  },
  {
   "cell_type": "markdown",
   "id": "e8f186af-1efe-4574-81e4-22766c497946",
   "metadata": {},
   "source": [
    "### Function `ind2poi`"
   ]
  },
  {
   "cell_type": "markdown",
   "id": "1f7a1187-2692-47d5-b9e4-4c39e2985136",
   "metadata": {},
   "source": [
    "Transforms multiindices (samples) into points of the spatial grid."
   ]
  },
  {
   "cell_type": "code",
   "execution_count": 7,
   "id": "d5ea686f-21c5-4589-9e4e-2e0f5fb9277a",
   "metadata": {},
   "outputs": [],
   "source": [
    "d = 3           # Dimension of the tensor/grid\n",
    "a = [-5.] * d   # Lower bounds for grid\n",
    "b = [+5.] * d   # Upper bounds for grid\n",
    "n = [7] * d     # Shape of the tensor/grid"
   ]
  },
  {
   "cell_type": "code",
   "execution_count": 8,
   "id": "a68069c6-9773-4371-aa3b-2a02a6414531",
   "metadata": {},
   "outputs": [
    {
     "name": "stdout",
     "output_type": "stream",
     "text": [
      "(50, 3)\n",
      "[6 4 5]\n"
     ]
    }
   ],
   "source": [
    "# Random inidices (samples x dimension):\n",
    "I = np.vstack([np.random.choice(n[i], 50) for i in range(d)]).T\n",
    "print(I.shape)\n",
    "print(I[0, :]) # The 1th sample"
   ]
  },
  {
   "cell_type": "code",
   "execution_count": 9,
   "id": "d84155d5-1c6d-42bc-88ea-dc6462eb4afb",
   "metadata": {},
   "outputs": [
    {
     "name": "stdout",
     "output_type": "stream",
     "text": [
      "(50, 3)\n",
      "[5.         1.66666667 3.33333333]\n"
     ]
    }
   ],
   "source": [
    "X = teneva.ind2poi(I, a, b, n)\n",
    "print(X.shape)\n",
    "print(X[0, :]) # The 1th point"
   ]
  },
  {
   "cell_type": "markdown",
   "id": "2377a935-91e6-4c70-b4a3-0c0a923936d7",
   "metadata": {},
   "source": [
    "Grid bounds and tensor shape may be also numbers:"
   ]
  },
  {
   "cell_type": "code",
   "execution_count": 10,
   "id": "6562a365-2708-4d9b-acf3-e4d1a0ee350f",
   "metadata": {},
   "outputs": [
    {
     "name": "stdout",
     "output_type": "stream",
     "text": [
      "(50, 3)\n",
      "[5.         1.66666667 3.33333333]\n"
     ]
    }
   ],
   "source": [
    "X = teneva.ind2poi(I, -5, 5, 7)\n",
    "print(X.shape)\n",
    "print(X[0, :]) # The 1th point"
   ]
  },
  {
   "cell_type": "markdown",
   "id": "36b26ba9-f28f-4700-91a5-eba26b827bdd",
   "metadata": {},
   "source": [
    "We may also compute only one point while function call:"
   ]
  },
  {
   "cell_type": "code",
   "execution_count": 11,
   "id": "a1734c4e-34c0-4828-ac6c-fec7f8cc2bc8",
   "metadata": {},
   "outputs": [
    {
     "name": "stdout",
     "output_type": "stream",
     "text": [
      "[5.         1.66666667 3.33333333]\n"
     ]
    }
   ],
   "source": [
    "X = teneva.ind2poi(I[0, :], -5, 5, 7)\n",
    "print(X)"
   ]
  },
  {
   "cell_type": "markdown",
   "id": "34d1c3d8-e955-4368-838b-5ada6e85a162",
   "metadata": {},
   "source": [
    "By default the uniform (kind=\"uni\") grid is used. We may also use the Chebyshev grid:"
   ]
  },
  {
   "cell_type": "code",
   "execution_count": 12,
   "id": "54bcb738-179b-45da-9ddf-b446820a8ef6",
   "metadata": {},
   "outputs": [
    {
     "name": "stdout",
     "output_type": "stream",
     "text": [
      "(50, 3)\n",
      "[-5.         -2.5        -4.33012702]\n"
     ]
    }
   ],
   "source": [
    "X = teneva.ind2poi(I, a, b, n, 'cheb')\n",
    "print(X.shape)\n",
    "print(X[0, :]) # The 1th point"
   ]
  },
  {
   "cell_type": "markdown",
   "id": "4ff4f2e8-b580-4b07-89e0-c78e068741b6",
   "metadata": {},
   "source": [
    "### Function `ind2str`"
   ]
  },
  {
   "cell_type": "markdown",
   "id": "abec0c85-b1db-4131-aba4-dd6d02faf999",
   "metadata": {},
   "source": [
    "Helper function which ransforms array of int like [1, 2, 3] into string like '1-2-3'."
   ]
  },
  {
   "cell_type": "code",
   "execution_count": 13,
   "id": "8e333d56-6b9b-44ad-9c1c-fef0ea5bf3e2",
   "metadata": {},
   "outputs": [
    {
     "name": "stdout",
     "output_type": "stream",
     "text": [
      "1-2-3-4-5\n"
     ]
    }
   ],
   "source": [
    "i = [1, 2, 3, 4, 5]\n",
    "s = teneva.ind2str(i)\n",
    "print(s)"
   ]
  },
  {
   "cell_type": "markdown",
   "id": "533f3a54-b876-4fd5-8ec9-afaf3f1a4d76",
   "metadata": {},
   "source": [
    "### Function `sample_lhs`"
   ]
  },
  {
   "cell_type": "markdown",
   "id": "e9a5d0be-463e-46d3-be7f-1ce3bd500d28",
   "metadata": {},
   "source": [
    "Build LHS samples (indices) for the tensor."
   ]
  },
  {
   "cell_type": "code",
   "execution_count": 14,
   "id": "8407e2b0-69ce-4889-bd5f-c092dc6715cd",
   "metadata": {},
   "outputs": [
    {
     "name": "stdout",
     "output_type": "stream",
     "text": [
      "[[3 4 2]\n",
      " [0 1 4]\n",
      " [1 3 1]\n",
      " [2 1 4]\n",
      " [4 0 3]\n",
      " [1 2 0]\n",
      " [0 2 0]\n",
      " [2 3 2]]\n"
     ]
    }
   ],
   "source": [
    "d = 3           # Dimension of the tensor/grid\n",
    "n = [5] * d     # Shape of the tensor/grid\n",
    "m = 8           # Number of samples\n",
    "I = teneva.sample_lhs(n, m)\n",
    "print(I)"
   ]
  },
  {
   "cell_type": "markdown",
   "id": "de97c6f7-2811-4ecc-a444-c42567dd1cde",
   "metadata": {},
   "source": [
    "### Function `sample_tt`"
   ]
  },
  {
   "cell_type": "markdown",
   "id": "c23133ca-7ab7-4ef7-8117-d7b3545c59d0",
   "metadata": {},
   "source": [
    "Generate special samples (indices) for the tensor, which are are the best (in many cases) for the subsequent construction of the TT-tensor."
   ]
  },
  {
   "cell_type": "code",
   "execution_count": 15,
   "id": "de3b9810-e308-484f-af79-065293a9af1d",
   "metadata": {},
   "outputs": [
    {
     "name": "stdout",
     "output_type": "stream",
     "text": [
      "(40, 3)\n",
      "(4,)\n",
      "(3,)\n"
     ]
    }
   ],
   "source": [
    "d = 3           # Dimension of the tensor/grid\n",
    "n = [5] * d     # Shape of the tensor/grid\n",
    "m = 2           # The expected TT-rank\n",
    "I, idx, idx_many = teneva.sample_tt(n, m)\n",
    "print(I.shape)\n",
    "print(idx.shape)\n",
    "print(idx_many.shape)"
   ]
  },
  {
   "cell_type": "markdown",
   "id": "3eb054ce-b791-49db-a962-00eef66536d8",
   "metadata": {},
   "source": [
    "### Function `str2ind`"
   ]
  },
  {
   "cell_type": "markdown",
   "id": "167543f7-5e59-42df-b972-3a50edd890fd",
   "metadata": {},
   "source": [
    "Helper function which transforms string like '1-2-3' into array of int like [1, 2, 3]."
   ]
  },
  {
   "cell_type": "code",
   "execution_count": 16,
   "id": "8aece0db-b424-4f51-9fba-b96b3db57481",
   "metadata": {},
   "outputs": [
    {
     "name": "stdout",
     "output_type": "stream",
     "text": [
      "[1 2 3 4 5]\n"
     ]
    }
   ],
   "source": [
    "s = '1-2-3-4-5'\n",
    "i = teneva.str2ind(s)\n",
    "print(i)"
   ]
  },
  {
   "cell_type": "markdown",
   "id": "74637865-5c00-4a78-ae84-d1e8d5698f4d",
   "metadata": {},
   "source": [
    "## Module `maxvol`"
   ]
  },
  {
   "cell_type": "markdown",
   "id": "e6c18e29-a3e4-4ecb-a597-1f4ca1974d62",
   "metadata": {},
   "source": [
    "Module contains functions with maxvol-like algorithms."
   ]
  },
  {
   "cell_type": "markdown",
   "id": "571959bc-ab8c-4531-acf1-ab930d98b6c5",
   "metadata": {},
   "source": [
    "### Function `maxvol`"
   ]
  },
  {
   "cell_type": "markdown",
   "id": "8857d531-d90d-4d65-bb1a-47f0aef8c742",
   "metadata": {},
   "source": [
    "Compute the maximal-volume submatrix for the given tall matrix."
   ]
  },
  {
   "cell_type": "code",
   "execution_count": 2,
   "id": "4373542a-7ed4-4b48-9770-f29f068fbec9",
   "metadata": {},
   "outputs": [],
   "source": [
    "n = 5000                        # Number of rows\n",
    "r = 50                          # Number of columns\n",
    "A = np.random.randn(n, r)       # Random tall matrix"
   ]
  },
  {
   "cell_type": "code",
   "execution_count": 3,
   "id": "88962926-216c-418c-a9f6-50fb98cf7288",
   "metadata": {},
   "outputs": [],
   "source": [
    "e = 1.01                        # Accuracy parameter\n",
    "k = 500                         # Maximum number of iterations"
   ]
  },
  {
   "cell_type": "code",
   "execution_count": 4,
   "id": "3f17cf9c-a753-42f3-acd8-ad97a0dd64c1",
   "metadata": {},
   "outputs": [],
   "source": [
    "I, B = teneva.maxvol(A, e, k)   # Row numbers and coefficient matrix\n",
    "C = A[I, :]                     # Maximal-volume square submatrix"
   ]
  },
  {
   "cell_type": "code",
   "execution_count": 5,
   "id": "a6d673ed-43e0-4570-b233-70b3728401c2",
   "metadata": {},
   "outputs": [
    {
     "name": "stdout",
     "output_type": "stream",
     "text": [
      "|Det C|        :   2.41e+40\n",
      "Max |B|        :   1.01e+00\n",
      "Max |A - B C|  :   1.20e-14\n",
      "Selected rows  :         50 >  [  70  138  169  230  239  278  346  387  393  416  549  670  673  821\n",
      "  931 1007 1195 1278 1281 1551 1658 1822 1823 1927 2312 2335 2381 2529\n",
      " 2570 2634 2757 2818 3208 3239 3408 3626 3688 3739 3822 3833 3834 4079\n",
      " 4144 4197 4529 4627 4874 4896 4905 4977]\n"
     ]
    }
   ],
   "source": [
    "print(f'|Det C|        : {np.abs(np.linalg.det(C)):-10.2e}')\n",
    "print(f'Max |B|        : {np.max(np.abs(B)):-10.2e}')\n",
    "print(f'Max |A - B C|  : {np.max(np.abs(A - B @ C)):-10.2e}')\n",
    "print(f'Selected rows  : {I.size:-10d} > ', np.sort(I))"
   ]
  },
  {
   "cell_type": "markdown",
   "id": "c6b99efc-ddf0-4a59-8da7-210e8b357f6e",
   "metadata": {},
   "source": [
    "### Function `maxvol_rect`"
   ]
  },
  {
   "cell_type": "markdown",
   "id": "a9ff8033-a322-49d4-b463-6b4939d0549f",
   "metadata": {},
   "source": [
    "Compute the maximal-volume rectangular submatrix for the given tall matrix."
   ]
  },
  {
   "cell_type": "code",
   "execution_count": 6,
   "id": "e4b3e869-22eb-4131-8c5d-8c4e97a32a3f",
   "metadata": {},
   "outputs": [],
   "source": [
    "n = 5000                        # Number of rows\n",
    "r = 50                          # Number of columns\n",
    "A = np.random.randn(n, r)       # Random tall matrix"
   ]
  },
  {
   "cell_type": "code",
   "execution_count": 7,
   "id": "ea3dba4c-674a-44a2-9dc0-3883d3191eb9",
   "metadata": {},
   "outputs": [],
   "source": [
    "e = 1.01                        # Accuracy parameter\n",
    "dr_min = 2                      # Minimum number of added rows\n",
    "dr_max = 8                      # Maximum number of added rows\n",
    "e0 = 1.05                       # Accuracy parameter for the original maxvol algorithm\n",
    "k0 = 50                         # Maximum number of iterations for the original maxvol algorithm"
   ]
  },
  {
   "cell_type": "code",
   "execution_count": 8,
   "id": "1a7ac4cd-d223-47ad-b09f-ce7dbb139b08",
   "metadata": {},
   "outputs": [],
   "source": [
    "I, B = teneva.maxvol_rect(A, e,\n",
    "    dr_min, dr_max, e0, k0)     # Row numbers and coefficient matrix\n",
    "C = A[I, :]                     # Maximal-volume rectangular submatrix"
   ]
  },
  {
   "cell_type": "code",
   "execution_count": 9,
   "id": "84265061-07ef-4448-b30a-b54e6d3160ee",
   "metadata": {},
   "outputs": [
    {
     "name": "stdout",
     "output_type": "stream",
     "text": [
      "Max |B|        :   1.00e+00\n",
      "Max |A - B C|  :   9.71e-15\n",
      "Selected rows  :         58 >  [ 233  294  306  553  564  566  574  623  732  739  754  899  901 1095\n",
      " 1142 1190 1275 1316 1416 1560 1605 1622 2028 2051 2084 2085 2108 2293\n",
      " 2339 2519 2574 2667 2705 2757 2782 2975 3147 3159 3170 3251 3330 3360\n",
      " 3499 3564 3599 3627 3641 3849 3893 4135 4274 4453 4549 4740 4819 4837\n",
      " 4891 4933]\n"
     ]
    }
   ],
   "source": [
    "print(f'Max |B|        : {np.max(np.abs(B)):-10.2e}')\n",
    "print(f'Max |A - B C|  : {np.max(np.abs(A - B @ C)):-10.2e}')\n",
    "print(f'Selected rows  : {I.size:-10d} > ', np.sort(I))"
   ]
  },
  {
   "cell_type": "markdown",
   "id": "7088426f-32dd-47d7-bb37-3b724abac930",
   "metadata": {},
   "source": [
    "We may select \"dr_max\" as None. In this case the number of added rows will be determined by the precision parameter \"e\" (the resulting submatrix can even has the same size as the original matrix \"A\"):"
   ]
  },
  {
   "cell_type": "code",
   "execution_count": 10,
   "id": "5d684db3-dd7a-4e52-963a-15a141a20807",
   "metadata": {},
   "outputs": [
    {
     "name": "stdout",
     "output_type": "stream",
     "text": [
      "Max |B|        :   1.00e+00\n",
      "Max |A - B C|  :   7.27e-15\n",
      "Selected rows  :         93 >  [ 233  281  294  306  362  526  553  564  566  574  608  623  642  732\n",
      "  739  745  754  761  899  901 1095 1102 1142 1190 1219 1275 1283 1316\n",
      " 1416 1560 1605 1622 1955 1968 2028 2051 2084 2085 2108 2214 2243 2292\n",
      " 2293 2339 2409 2422 2507 2519 2566 2574 2643 2661 2665 2667 2705 2757\n",
      " 2782 2864 2975 3147 3159 3170 3251 3258 3330 3360 3487 3499 3506 3532\n",
      " 3564 3599 3627 3641 3849 3893 3907 4066 4115 4135 4201 4274 4453 4502\n",
      " 4526 4549 4740 4767 4819 4837 4891 4933 4979]\n"
     ]
    }
   ],
   "source": [
    "e = 1.01                        # Accuracy parameter\n",
    "dr_max = None                   # Maximum number of added rows\n",
    "I, B = teneva.maxvol_rect(A, e,\n",
    "    dr_min, dr_max, e0, k0)     # Row numbers and coefficient matrix\n",
    "C = A[I, :]                     # Maximal-volume rectangular submatrix\n",
    "\n",
    "print(f'Max |B|        : {np.max(np.abs(B)):-10.2e}')\n",
    "print(f'Max |A - B C|  : {np.max(np.abs(A - B @ C)):-10.2e}')\n",
    "print(f'Selected rows  : {I.size:-10d} > ', np.sort(I))"
   ]
  },
  {
   "cell_type": "code",
   "execution_count": 11,
   "id": "59d4fae1-f43c-4f07-aa05-e7d806823061",
   "metadata": {},
   "outputs": [
    {
     "name": "stdout",
     "output_type": "stream",
     "text": [
      "Max |B|        :   1.00e+00\n",
      "Max |A - B C|  :   0.00e+00\n",
      "Selected rows  :         20 >  [ 0  1  2  3  4  5  6  7  8  9 10 11 12 13 14 15 16 17 18 19]\n"
     ]
    }
   ],
   "source": [
    "A = np.random.randn(20, 5)      # Random tall matrix\n",
    "e = 0.1                         # Accuracy parameter (we select very small value here)\n",
    "dr_max = None                   # Maximum number of added rows\n",
    "I, B = teneva.maxvol_rect(A, e,\n",
    "    dr_min, dr_max, e0, k0)     # Row numbers and coefficient matrix\n",
    "C = A[I, :]                     # Maximal-volume rectangular submatrix\n",
    "\n",
    "print(f'Max |B|        : {np.max(np.abs(B)):-10.2e}')\n",
    "print(f'Max |A - B C|  : {np.max(np.abs(A - B @ C)):-10.2e}')\n",
    "print(f'Selected rows  : {I.size:-10d} > ', np.sort(I))"
   ]
  },
  {
   "cell_type": "markdown",
   "id": "87789cee-6eb6-4446-a6f0-d9b99e91cf47",
   "metadata": {},
   "source": [
    "## Module `stat`"
   ]
  },
  {
   "cell_type": "markdown",
   "id": "21ff4661-8bcb-423b-bdb4-5711609fa997",
   "metadata": {},
   "source": [
    "Module contains helper functions for processing statistics."
   ]
  },
  {
   "cell_type": "markdown",
   "id": "2c6a2d30-23fc-4c00-b875-cc672d115272",
   "metadata": {},
   "source": [
    "### Function `cdf_confidence`"
   ]
  },
  {
   "cell_type": "markdown",
   "id": "8976fa71-cfda-40ae-aecd-a7a819057134",
   "metadata": {},
   "source": [
    "Constructs a Dvoretzky-Kiefer-Wolfowitz confidence band for the CDF."
   ]
  },
  {
   "cell_type": "code",
   "execution_count": 6,
   "id": "18090640-bd27-4880-afe0-3b30059595cf",
   "metadata": {},
   "outputs": [
    {
     "name": "stdout",
     "output_type": "stream",
     "text": [
      "[0.06724474 0.         0.21821913 1.         0.         0.\n",
      " 1.         0.33796532 0.         0.11309064]\n",
      "[0.92618356 0.29120511 1.         1.         0.19531603 0.19533245\n",
      " 1.         1.         0.         0.97202945]\n"
     ]
    }
   ],
   "source": [
    "x = np.random.randn(10)                     # Statistical points\n",
    "cdf_min, cdf_max = teneva.cdf_confidence(x) # Compute the confidence\n",
    "print(f'{cdf_min}')\n",
    "print(f'{cdf_max}')"
   ]
  },
  {
   "cell_type": "markdown",
   "id": "e93b46d4-98a5-4e6f-9f64-903b33422237",
   "metadata": {},
   "source": [
    "### Function `cdf_getter`"
   ]
  },
  {
   "cell_type": "markdown",
   "id": "608990c7-42b1-4972-aabb-b6fbdb59e2ee",
   "metadata": {},
   "source": [
    "Build the getter for CDF."
   ]
  },
  {
   "cell_type": "code",
   "execution_count": 7,
   "id": "9d52c3c4-a7b0-4895-ae77-95516f507eef",
   "metadata": {},
   "outputs": [
    {
     "data": {
      "text/plain": [
       "array([0.   , 0.   , 0.147, 0.488, 1.   ])"
      ]
     },
     "execution_count": 7,
     "metadata": {},
     "output_type": "execute_result"
    }
   ],
   "source": [
    "x = np.random.randn(1000)      # Statistical points\n",
    "cdf = teneva.cdf_getter(x)     # Build the CDF getter\n",
    "z = [-10000, -10, -1, 0, 100]  # Points for CDF computations\n",
    "cdf(z)"
   ]
  },
  {
   "cell_type": "markdown",
   "id": "ae32d59b-2bda-4a76-9443-38e4f50c8331",
   "metadata": {},
   "source": [
    "## Module `svd`"
   ]
  },
  {
   "cell_type": "markdown",
   "id": "9337b52a-b2b1-4ae7-8efe-c0799907fcbc",
   "metadata": {},
   "source": [
    "Module contains the basic implementation of the TT-SVD algorithm as well as new original TT-SVD-incomplete algorithm, which implements efficient construction of the TT-tensor based on specially selected elements. This module also contains functions for constructing the SVD decomposition and skeleton decomposition for the matrices."
   ]
  },
  {
   "cell_type": "markdown",
   "id": "d457b75d-2f7e-48df-8790-07539a2f57e3",
   "metadata": {},
   "source": [
    "### Function `matrix_skeleton`"
   ]
  },
  {
   "cell_type": "markdown",
   "id": "37614943-d4ac-40f7-b725-b973dcf18f90",
   "metadata": {},
   "source": [
    "Construct truncated skeleton decomposition A = U V for the given matrix."
   ]
  },
  {
   "cell_type": "code",
   "execution_count": 4,
   "id": "7f952b16-9ee0-45a7-ac78-e9bcd4f82d30",
   "metadata": {},
   "outputs": [],
   "source": [
    "m, n = 100, 30                                        # Shape of the matrix\n",
    "A = np.outer(np.random.randn(m), np.random.randn(n))  # Build random matrix,\n",
    "A += np.outer(np.random.randn(m), np.random.randn(n)) # which has rank 3,\n",
    "A += np.outer(np.random.randn(m), np.random.randn(n)) # as a sum of rank-1 matrices"
   ]
  },
  {
   "cell_type": "code",
   "execution_count": 5,
   "id": "3435b2c8-cd4c-4476-b726-2e7f8a384645",
   "metadata": {},
   "outputs": [
    {
     "name": "stdout",
     "output_type": "stream",
     "text": [
      "Shape of U : (100, 3)\n",
      "Shape of V : (3, 30)\n",
      "Error      : 8.92e-16\n"
     ]
    }
   ],
   "source": [
    "U, V = teneva.matrix_skeleton(A, e=1.E-10)            # Compute skeleton decomp.\n",
    "e = np.linalg.norm(A - U @ V) / np.linalg.norm(A)     # Approximation error\n",
    "print(f'Shape of U :', U.shape)\n",
    "print(f'Shape of V :',V.shape)\n",
    "print(f'Error      : {e:-8.2e}')"
   ]
  },
  {
   "cell_type": "code",
   "execution_count": 6,
   "id": "b9528a8d-6fff-4f5e-94b3-a7ecdd7ded46",
   "metadata": {},
   "outputs": [
    {
     "name": "stdout",
     "output_type": "stream",
     "text": [
      "Shape of U : (100, 2)\n",
      "Shape of V : (2, 30)\n",
      "Error      : 4.37e-01\n"
     ]
    }
   ],
   "source": [
    "U, V = teneva.matrix_skeleton(A, r=2)                 # Compute skeleton decomp with small rank\n",
    "e = np.linalg.norm(A - U @ V) / np.linalg.norm(A)     # Approximation error\n",
    "print(f'Shape of U :', U.shape)\n",
    "print(f'Shape of V :',V.shape)\n",
    "print(f'Error      : {e:-8.2e}')"
   ]
  },
  {
   "cell_type": "markdown",
   "id": "a71a99ba-5e27-4015-a53d-c9add7eef672",
   "metadata": {},
   "source": [
    "### Function `matrix_svd`"
   ]
  },
  {
   "cell_type": "markdown",
   "id": "6bd497e9-7655-4ede-a195-9027998b7068",
   "metadata": {},
   "source": [
    "Construct truncated SVD decomposition A = U V for the given matrix."
   ]
  },
  {
   "cell_type": "code",
   "execution_count": 7,
   "id": "087b19c1-7cd3-42fd-b710-b61afb6836da",
   "metadata": {},
   "outputs": [],
   "source": [
    "m, n = 100, 30                                        # Shape of the matrix\n",
    "A = np.outer(np.random.randn(m), np.random.randn(n))  # Build random matrix,\n",
    "A += np.outer(np.random.randn(m), np.random.randn(n)) # which has rank 3,\n",
    "A += np.outer(np.random.randn(m), np.random.randn(n)) # as a sum of rank-1 matrices"
   ]
  },
  {
   "cell_type": "code",
   "execution_count": 8,
   "id": "53a400da-bc4d-4f4b-a187-497b94389b79",
   "metadata": {},
   "outputs": [
    {
     "name": "stdout",
     "output_type": "stream",
     "text": [
      "Shape of U : (100, 17)\n",
      "Shape of V : (17, 30)\n",
      "Error      : 4.98e-16\n"
     ]
    }
   ],
   "source": [
    "U, V = teneva.matrix_svd(A, e=1.E-10)                 # Compute SVD-decomp.\n",
    "e = np.linalg.norm(A - U @ V) / np.linalg.norm(A)     # Approximation error\n",
    "print(f'Shape of U :', U.shape)\n",
    "print(f'Shape of V :',V.shape)\n",
    "print(f'Error      : {e:-8.2e}')"
   ]
  },
  {
   "cell_type": "code",
   "execution_count": 9,
   "id": "f71f16b8-57d3-4705-8ef0-c38ec43c7913",
   "metadata": {},
   "outputs": [
    {
     "name": "stdout",
     "output_type": "stream",
     "text": [
      "Shape of U : (100, 3)\n",
      "Shape of V : (3, 30)\n",
      "Error      : 4.78e-16\n"
     ]
    }
   ],
   "source": [
    "U, V = teneva.matrix_svd(A, r=3)                      # Compute SVD-decomp.\n",
    "e = np.linalg.norm(A - U @ V) / np.linalg.norm(A)     # Approximation error\n",
    "print(f'Shape of U :', U.shape)\n",
    "print(f'Shape of V :',V.shape)\n",
    "print(f'Error      : {e:-8.2e}')"
   ]
  },
  {
   "cell_type": "code",
   "execution_count": 10,
   "id": "d3850869-a1c2-4ed8-97f8-2d2135947ef0",
   "metadata": {},
   "outputs": [
    {
     "name": "stdout",
     "output_type": "stream",
     "text": [
      "Shape of U : (100, 3)\n",
      "Shape of V : (3, 30)\n",
      "Error      : 4.78e-16\n"
     ]
    }
   ],
   "source": [
    "U, V = teneva.matrix_svd(A, e=1.E-2)                  # Compute SVD-decomp.\n",
    "e = np.linalg.norm(A - U @ V) / np.linalg.norm(A)     # Approximation error\n",
    "print(f'Shape of U :', U.shape)\n",
    "print(f'Shape of V :',V.shape)\n",
    "print(f'Error      : {e:-8.2e}')"
   ]
  },
  {
   "cell_type": "code",
   "execution_count": 11,
   "id": "7f9c5c55-736d-4c8b-ace8-a2863952d058",
   "metadata": {},
   "outputs": [
    {
     "name": "stdout",
     "output_type": "stream",
     "text": [
      "Shape of U : (100, 2)\n",
      "Shape of V : (2, 30)\n",
      "Error      : 3.79e-01\n"
     ]
    }
   ],
   "source": [
    "U, V = teneva.matrix_svd(A, r=2)                      # Compute SVD-decomp.\n",
    "e = np.linalg.norm(A - U @ V) / np.linalg.norm(A)     # Approximation error\n",
    "print(f'Shape of U :', U.shape)\n",
    "print(f'Shape of V :',V.shape)\n",
    "print(f'Error      : {e:-8.2e}')"
   ]
  },
  {
   "cell_type": "markdown",
   "id": "2d03077c-bd48-4091-9e7e-75a77162f1a2",
   "metadata": {},
   "source": [
    "### Function `svd`"
   ]
  },
  {
   "cell_type": "markdown",
   "id": "0e99f65c-14e3-486f-90f3-b63f2013bb7f",
   "metadata": {},
   "source": [
    "Construct TT-tensor from the given full tensor using TT-SVD algorithm."
   ]
  },
  {
   "cell_type": "code",
   "execution_count": 12,
   "id": "c65acc63-bbac-4db0-9043-fe290e48fe10",
   "metadata": {},
   "outputs": [],
   "source": [
    "d = 20                                          # Dimension number\n",
    "t = np.arange(2**d)                             # Tensor will be 2^d\n",
    "Z_full = np.cos(t).reshape([2] * d, order='F')  # Construct d-dim full array"
   ]
  },
  {
   "cell_type": "code",
   "execution_count": 13,
   "id": "5bf384d9-0bb0-43a0-b430-7c3f3450ddb1",
   "metadata": {},
   "outputs": [],
   "source": [
    "Y = teneva.svd(Z_full)                          # Construct TT-tensor by TT-SVD\n",
    "Y_full = teneva.full(Y)                         # Convert it back to numpy to chech result\n",
    "e = np.linalg.norm(Y_full - Z_full)             # Compute error for TT-tensor vs full tensor \n",
    "e /= np.linalg.norm(Z_full)                     #"
   ]
  },
  {
   "cell_type": "code",
   "execution_count": 14,
   "id": "eb9937a1-0beb-45c1-8409-4f026ea14b39",
   "metadata": {},
   "outputs": [
    {
     "name": "stdout",
     "output_type": "stream",
     "text": [
      "Size (np) :  1048576\n",
      "Size (tt) :      152\n",
      "Erank     :     2.00\n",
      "Error     : 1.58e-14\n"
     ]
    }
   ],
   "source": [
    "print(f'Size (np) : {Z_full.size:-8d}')         # Size of original tensor\n",
    "print(f'Size (tt) : {teneva.size(Y):-8d}')      # Size of the TT-tensor\n",
    "print(f'Erank     : {teneva.erank(Y):-8.2f}')   # Eff. rank of the TT-tensor\n",
    "print(f'Error     : {e:-8.2e}')                 # Rel. error for TT-tensor vs full tensor"
   ]
  },
  {
   "cell_type": "markdown",
   "id": "03397e1c-0f9d-43d1-be03-e7cdace3e44b",
   "metadata": {},
   "source": [
    "### Function `svd_incomplete`"
   ]
  },
  {
   "cell_type": "markdown",
   "id": "f8e68dad-027c-43bd-9855-290d3a43c58f",
   "metadata": {},
   "source": [
    "Construct TT-tensor from the given specially selected samples."
   ]
  },
  {
   "cell_type": "code",
   "execution_count": 15,
   "id": "753f4e87-f675-4c44-ad33-0f7de145dbcb",
   "metadata": {},
   "outputs": [],
   "source": [
    "d = 20                                              # Dimension number\n",
    "n = [2] * d                                         # Shape of the tensor/grid\n",
    "t = np.arange(2**d)                                 # Tensor will be 2^d\n",
    "Z_full = np.cos(t).reshape([2] * d, order='F')      # Construct d-dim full array"
   ]
  },
  {
   "cell_type": "code",
   "execution_count": 16,
   "id": "7a9002f2-c955-4721-894b-be2ef89e648d",
   "metadata": {},
   "outputs": [],
   "source": [
    "m = 4                                               # The expected TT-rank\n",
    "I_trn, idx, idx_many = teneva.sample_tt(n, m)       # Generate special samples (indices) for the tensor"
   ]
  },
  {
   "cell_type": "code",
   "execution_count": 17,
   "id": "bf972071-9baa-4bc9-abc5-bf888f627e03",
   "metadata": {},
   "outputs": [],
   "source": [
    "Y_trn = np.array([Z_full[tuple(i)] for i in I_trn]) # Compute tensor values in I multiindices"
   ]
  },
  {
   "cell_type": "code",
   "execution_count": 18,
   "id": "fc8a1a3e-b9c8-43c2-bad0-a12df8c21594",
   "metadata": {},
   "outputs": [
    {
     "name": "stdout",
     "output_type": "stream",
     "text": [
      "  2  2  2  2  2  2  2  2  2  2  2  2  2  2  2  2  2  2  2  2 \n",
      " / \\/ \\/ \\/ \\/ \\/ \\/ \\/ \\/ \\/ \\/ \\/ \\/ \\/ \\/ \\/ \\/ \\/ \\/ \\/ \\\n",
      " 1  2  2  2  2  2  2  2  2  2  2  2  2  2  2  2  2  2  2  2  1 \n",
      "\n"
     ]
    }
   ],
   "source": [
    "Y = teneva.svd_incomplete(I_trn, Y_trn,\n",
    "    idx, idx_many, e=1.E-10, r=3)                   # Construct TT-tensor\n",
    "teneva.show(Y)                                      # Show the tensor"
   ]
  },
  {
   "cell_type": "code",
   "execution_count": 19,
   "id": "592a3c73-7f3a-4dda-ac42-f655451e7241",
   "metadata": {},
   "outputs": [],
   "source": [
    "Y_full = teneva.full(Y)                          # Convert it back to numpy to chech result\n",
    "e = np.linalg.norm(Y_full - Z_full)              # Compute error for TT-tensor vs full tensor \n",
    "e /= np.linalg.norm(Z_full)                      #"
   ]
  },
  {
   "cell_type": "code",
   "execution_count": 20,
   "id": "e848bbf1-5129-4fbf-b109-4359216409b6",
   "metadata": {},
   "outputs": [
    {
     "name": "stdout",
     "output_type": "stream",
     "text": [
      "Size (np) :  1048576\n",
      "Size (tt) :      152\n",
      "Erank     :     2.00\n",
      "Error     : 2.25e-15\n"
     ]
    }
   ],
   "source": [
    "print(f'Size (np) : {Z_full.size:-8d}')          # Size of original tensor\n",
    "print(f'Size (tt) : {teneva.size(Y):-8d}')       # Size of the TT-tensor\n",
    "print(f'Erank     : {teneva.erank(Y):-8.2f}')    # Eff. rank of the TT-tensor\n",
    "print(f'Error     : {e:-8.2e}')                  # Rel. error for TT-tensor vs full tensor"
   ]
  },
  {
   "cell_type": "markdown",
   "id": "176c6203-877a-457c-933b-fb99a1e4d183",
   "metadata": {},
   "source": [
    "## Module `tensor`"
   ]
  },
  {
   "cell_type": "markdown",
   "id": "f2e3edb1-8d71-4a55-aab4-7630b9acf989",
   "metadata": {},
   "source": [
    "This module contains the basic operations and utilities for TT-tensors, including \"add\", \"mul\", \"norm\", \"mean\", etc."
   ]
  },
  {
   "cell_type": "code",
   "execution_count": 2,
   "id": "15cdd5c3-8e5f-4574-919c-87e2cb68594b",
   "metadata": {},
   "outputs": [],
   "source": [
    "import matplotlib.pyplot as plt\n",
    "import numpy as np\n",
    "import teneva\n",
    "from time import perf_counter as tpc\n",
    "np.random.seed(42)"
   ]
  },
  {
   "cell_type": "markdown",
   "id": "f40dccd7-44b9-485e-8412-a688a2adb8d7",
   "metadata": {},
   "source": [
    "### Function `accuracy`"
   ]
  },
  {
   "cell_type": "markdown",
   "id": "c2e801d8-40c3-407f-bcd3-e1d8cfbd384f",
   "metadata": {},
   "source": [
    "Compute $\\frac{|| Y_1 - Y_2 ||}{|| Y_2 ||}$ for tensors in the TT-format."
   ]
  },
  {
   "cell_type": "code",
   "execution_count": 3,
   "id": "ec13df29-b202-4925-8b27-229099d92e13",
   "metadata": {},
   "outputs": [
    {
     "name": "stdout",
     "output_type": "stream",
     "text": [
      "Accuracy     : 1.00e-04\n"
     ]
    }
   ],
   "source": [
    "Y1 = teneva.rand([5]*10, 2)                 # 10-dim random TT-tensor with TT-rank 2\n",
    "Y2 = teneva.add(Y1, teneva.mul(1.E-4, Y1))  # The TT-tensor Y1 + eps * Y1 (eps = 1.E-4)\n",
    "eps = teneva.accuracy(Y1, Y2)               # The relative difference (\"accuracy\")\n",
    "print(f'Accuracy     : {eps:-8.2e}')"
   ]
  },
  {
   "cell_type": "markdown",
   "id": "7b27165c-6912-42eb-b9c1-e5800b8236bd",
   "metadata": {},
   "source": [
    "### Function `add`"
   ]
  },
  {
   "cell_type": "markdown",
   "id": "396c334a-9b4f-472c-93cc-d4af4cd7c5b3",
   "metadata": {},
   "source": [
    "Compute element wise sum $Y = Y_1 + Y_2$ for the given TT-tensors $Y_1$ and $Y_2$ presented as lists of TT-cores."
   ]
  },
  {
   "cell_type": "code",
   "execution_count": 4,
   "id": "0bc6741d-d398-475e-8672-212926ff6046",
   "metadata": {},
   "outputs": [],
   "source": [
    "Y1 = teneva.rand([5]*10, 2) # 10-dim random TT-tensor with TT-rank 2\n",
    "Y2 = teneva.rand([5]*10, 3) # 10-dim random TT-tensor with TT-rank 3"
   ]
  },
  {
   "cell_type": "code",
   "execution_count": 5,
   "id": "4bccd23a-702e-4b70-aaad-4671a8adfbcd",
   "metadata": {},
   "outputs": [
    {
     "name": "stdout",
     "output_type": "stream",
     "text": [
      "  5  5  5  5  5  5  5  5  5  5 \n",
      " / \\/ \\/ \\/ \\/ \\/ \\/ \\/ \\/ \\/ \\\n",
      " 1  5  5  5  5  5  5  5  5  5  1 \n",
      "\n"
     ]
    }
   ],
   "source": [
    "Y = teneva.add(Y1, Y2)      # Compute the sum of Y1 and Y2\n",
    "teneva.show(Y)              # Print the resulting TT-tensor (note that it has TT-rank 2 + 3 = 5)"
   ]
  },
  {
   "cell_type": "code",
   "execution_count": 6,
   "id": "d41e0921-3253-4453-859a-fe412add7b48",
   "metadata": {},
   "outputs": [
    {
     "name": "stdout",
     "output_type": "stream",
     "text": [
      "Error     : 1.08e-16\n"
     ]
    }
   ],
   "source": [
    "Y1_full = teneva.full(Y1)                       # Compute tensors in the full format\n",
    "Y2_full = teneva.full(Y2)                       # to check the result\n",
    "Y_full = teneva.full(Y)\n",
    "\n",
    "Z_full = Y1_full + Y2_full\n",
    "\n",
    "e = np.linalg.norm(Y_full - Z_full)             # Compute error for TT-tensor vs full tensor \n",
    "e /= np.linalg.norm(Z_full)\n",
    "\n",
    "print(f'Error     : {e:-8.2e}')                 # Rel. error for TT-tensor vs full tensor"
   ]
  },
  {
   "cell_type": "markdown",
   "id": "76ecb853-823d-4369-a00c-31efbe3031f8",
   "metadata": {},
   "source": [
    "This function also supports float argument:"
   ]
  },
  {
   "cell_type": "code",
   "execution_count": 7,
   "id": "7afb1c12-e5c0-4e0f-9be9-e428803e774f",
   "metadata": {},
   "outputs": [
    {
     "name": "stdout",
     "output_type": "stream",
     "text": [
      "  5  5  5  5  5  5  5  5  5  5 \n",
      " / \\/ \\/ \\/ \\/ \\/ \\/ \\/ \\/ \\/ \\\n",
      " 1  3  3  3  3  3  3  3  3  3  1 \n",
      "\n"
     ]
    }
   ],
   "source": [
    "Y1 = teneva.rand([5]*10, 2) # 10-dim random TT-tensor with TT-rank 2\n",
    "Y2 = 42.                    # Just a number\n",
    "Y = teneva.add(Y1, Y2)      # Compute the sum of Y1 and Y2\n",
    "teneva.show(Y)              # Print the resulting TT-tensor (note that it has TT-rank 2 + 1 = 3)"
   ]
  },
  {
   "cell_type": "code",
   "execution_count": 8,
   "id": "8c144840-adfd-41f7-92a8-4aa273389ef7",
   "metadata": {},
   "outputs": [
    {
     "name": "stdout",
     "output_type": "stream",
     "text": [
      "  5  5  5  5  5  5  5  5  5  5 \n",
      " / \\/ \\/ \\/ \\/ \\/ \\/ \\/ \\/ \\/ \\\n",
      " 1  3  3  3  3  3  3  3  3  3  1 \n",
      "\n"
     ]
    }
   ],
   "source": [
    "Y1 = 42.                    # Just a number\n",
    "Y2 = teneva.rand([5]*10, 2) # 10-dim random TT-tensor with TT-rank 2\n",
    "Y = teneva.add(Y1, Y2)      # Compute the sum of Y1 and Y2\n",
    "teneva.show(Y)              # Print the resulting TT-tensor (note that it has TT-rank 2 + 1 = 3)"
   ]
  },
  {
   "cell_type": "code",
   "execution_count": 9,
   "id": "a7038ff4-b671-428b-8396-cf0d45d8dacf",
   "metadata": {},
   "outputs": [
    {
     "name": "stdout",
     "output_type": "stream",
     "text": [
      "Error     : 9.12e-17\n"
     ]
    }
   ],
   "source": [
    "Y1_full = 42.                                   # Compute tensors in the full format\n",
    "Y2_full = teneva.full(Y2)                       # to check the result\n",
    "Y_full = teneva.full(Y)\n",
    "\n",
    "Z_full = Y1_full + Y2_full\n",
    "\n",
    "e = np.linalg.norm(Y_full - Z_full)             # Compute error for TT-tensor vs full tensor \n",
    "e /= np.linalg.norm(Z_full)\n",
    "\n",
    "print(f'Error     : {e:-8.2e}')                 # Rel. error for TT-tensor vs full tensor"
   ]
  },
  {
   "cell_type": "markdown",
   "id": "4a7ed852-a223-4d60-8e69-f98d161fa7e6",
   "metadata": {},
   "source": [
    "If both arguments are numbers, then function returns the sum of numbers:"
   ]
  },
  {
   "cell_type": "code",
   "execution_count": 10,
   "id": "a18da53d-906e-4718-83f7-e2c858394b94",
   "metadata": {},
   "outputs": [
    {
     "name": "stdout",
     "output_type": "stream",
     "text": [
      "42.0\n"
     ]
    }
   ],
   "source": [
    "Y1 = 40.                    # Just a number\n",
    "Y2 = 2                      # Just a number\n",
    "Y = teneva.add(Y1, Y2)      # Compute the sum of Y1 and Y2\n",
    "print(Y)                    # The result is a number"
   ]
  },
  {
   "cell_type": "markdown",
   "id": "3928f129-9c84-40e0-b67c-20445b211d48",
   "metadata": {},
   "source": [
    "### Function `add_many`"
   ]
  },
  {
   "cell_type": "markdown",
   "id": "39dc4199-f696-40c1-94f3-fbe64175e764",
   "metadata": {},
   "source": [
    "Compute element wise sum $Y = Y_1 + Y_2 + \\ldots + Y_m$ for the given TT-tensors given as lists of TT-cores. The result is truncated to the given accuracy `e` and/or maximum TT-rank `r`. Additionally, the intermediate result is truncated with a frequency `trunc_freq`."
   ]
  },
  {
   "cell_type": "code",
   "execution_count": 11,
   "id": "0526ad10-b30d-4b77-9d5d-52883dc25235",
   "metadata": {},
   "outputs": [
    {
     "name": "stdout",
     "output_type": "stream",
     "text": [
      "  5  5  5  5  5  5  5  5  5  5 \n",
      " / \\/ \\/ \\/ \\/ \\/ \\/ \\/ \\/ \\/ \\\n",
      " 1  5 20 20 20 20 20 20 20  5  1 \n",
      "\n"
     ]
    }
   ],
   "source": [
    "Y_all = [teneva.rand([5]*10, 2) for _ in range(10)]     # 10 random TT-tensors with TT-rank 2\n",
    "Y = teneva.add_many(Y_all, e=1.E-4, r=50, trunc_freq=2)\n",
    "teneva.show(Y)"
   ]
  },
  {
   "cell_type": "markdown",
   "id": "34c01e46-ddce-4530-85f1-f66aaa693b6b",
   "metadata": {},
   "source": [
    "This function also supports float arguments:"
   ]
  },
  {
   "cell_type": "code",
   "execution_count": 12,
   "id": "bac9bd6a-5d75-48fd-b3ae-4dd3263f7026",
   "metadata": {},
   "outputs": [
    {
     "name": "stdout",
     "output_type": "stream",
     "text": [
      "  5  5  5  5  5  5  5  5  5  5 \n",
      " / \\/ \\/ \\/ \\/ \\/ \\/ \\/ \\/ \\/ \\\n",
      " 1  5  7  7  7  7  7  7  7  5  1 \n",
      "\n"
     ]
    }
   ],
   "source": [
    "Y_all = [\n",
    "    42.,\n",
    "    teneva.rand([5]*10, 2),\n",
    "    33.,\n",
    "    teneva.rand([5]*10, 4)\n",
    "]\n",
    "Y = teneva.add_many(Y_all, e=1.E-4, r=50, trunc_freq=2)\n",
    "teneva.show(Y)"
   ]
  },
  {
   "cell_type": "markdown",
   "id": "17339b59-1704-4069-a6c2-ad8d521ac8e1",
   "metadata": {},
   "source": [
    "If all arguments are numbers, then function returns the sum of numbers:"
   ]
  },
  {
   "cell_type": "code",
   "execution_count": 13,
   "id": "871866d7-c4a0-4f02-9578-4660d67df706",
   "metadata": {},
   "outputs": [
    {
     "name": "stdout",
     "output_type": "stream",
     "text": [
      "42.0\n"
     ]
    }
   ],
   "source": [
    "Y_all = [10., 20., 2., 10.]\n",
    "Y = teneva.add_many(Y_all, e=1.E-4, r=50, trunc_freq=2)\n",
    "print(Y)"
   ]
  },
  {
   "cell_type": "markdown",
   "id": "069ea320-ce42-4c23-9fc1-681ad67a7504",
   "metadata": {},
   "source": [
    "### Function `const`"
   ]
  },
  {
   "cell_type": "markdown",
   "id": "0a0facae-18fe-4398-a6ba-7be565ce89b9",
   "metadata": {},
   "source": [
    "Build TT-tensor (with TT-rank equals 1) with all values equal to given number."
   ]
  },
  {
   "cell_type": "code",
   "execution_count": 14,
   "id": "c82f0ee0-4286-4c76-aefc-d504f0026c33",
   "metadata": {},
   "outputs": [
    {
     "name": "stdout",
     "output_type": "stream",
     "text": [
      " 10 10 10 10 10 \n",
      " / \\/ \\/ \\/ \\/ \\\n",
      " 1  1  1  1  1  1 \n",
      "\n",
      "Min value : 42.0\n",
      "Max value : 42.0\n"
     ]
    }
   ],
   "source": [
    "n = [10] * 5                     # Shape of the tensor  \n",
    "Y = teneva.const(n, v=42.)       # Tensor of all 42\n",
    "teneva.show(Y)                   # Print the resulting TT-tensor\n",
    "Y_full = teneva.full(Y)\n",
    "print(f'Min value : {np.min(Y_full)}')\n",
    "print(f'Max value : {np.max(Y_full)}')"
   ]
  },
  {
   "cell_type": "markdown",
   "id": "6b5a9bf4-06e3-4363-8ebc-4625e0ee8b59",
   "metadata": {},
   "source": [
    "### Function `copy`"
   ]
  },
  {
   "cell_type": "markdown",
   "id": "fbca6272-b47c-4947-8def-bd9518ac2537",
   "metadata": {},
   "source": [
    "Return a copy of the given TT-tensor."
   ]
  },
  {
   "cell_type": "code",
   "execution_count": 15,
   "id": "e77b8414-2775-4ac0-adcd-f815e370dc43",
   "metadata": {},
   "outputs": [
    {
     "name": "stdout",
     "output_type": "stream",
     "text": [
      "0.5136144642310962\n",
      "0.5136144642310962\n"
     ]
    }
   ],
   "source": [
    "Y = teneva.rand([5]*10, 2) # 10-dim random TT-tensor with TT-rank 2\n",
    "Z = teneva.copy(Y)         # The copy of Y\n",
    "print(Y[2][1, 2, 0])\n",
    "print(Z[2][1, 2, 0])"
   ]
  },
  {
   "cell_type": "code",
   "execution_count": 16,
   "id": "ea126872-9277-4caa-8a31-515d65841592",
   "metadata": {},
   "outputs": [
    {
     "name": "stdout",
     "output_type": "stream",
     "text": [
      "0.5136144642310962\n",
      "42.0\n"
     ]
    }
   ],
   "source": [
    "Z[2][1, 2, 0] = 42.\n",
    "\n",
    "print(Y[2][1, 2, 0])\n",
    "print(Z[2][1, 2, 0])"
   ]
  },
  {
   "cell_type": "markdown",
   "id": "4d007a37-c65e-4e82-b0f4-3d12d276acb0",
   "metadata": {},
   "source": [
    "It also supports numbers for convenience:"
   ]
  },
  {
   "cell_type": "code",
   "execution_count": 17,
   "id": "73c430c8-86c4-4daa-b859-4389d60600d6",
   "metadata": {},
   "outputs": [
    {
     "data": {
      "text/plain": [
       "42.0"
      ]
     },
     "execution_count": 17,
     "metadata": {},
     "output_type": "execute_result"
    }
   ],
   "source": [
    "teneva.copy(42.)"
   ]
  },
  {
   "cell_type": "markdown",
   "id": "7ac92913-9526-47ed-a44a-2fe4bd96b646",
   "metadata": {},
   "source": [
    "### Function `erank`"
   ]
  },
  {
   "cell_type": "markdown",
   "id": "c78b83bd-b02a-49b0-bdc1-ce9db56a50a0",
   "metadata": {},
   "source": [
    "Compute the effective TT-rank of the given TT-tensor, i.e. constant rank of TT-tensor, which would have the same number of parameters as the given TT-tensor."
   ]
  },
  {
   "cell_type": "code",
   "execution_count": 18,
   "id": "de8bf966-aded-4819-a193-988a8f08613e",
   "metadata": {},
   "outputs": [
    {
     "data": {
      "text/plain": [
       "2.0"
      ]
     },
     "execution_count": 18,
     "metadata": {},
     "output_type": "execute_result"
    }
   ],
   "source": [
    "Y = teneva.rand([5]*10, 2) # 10-dim random TT-tensor with TT-rank 2\n",
    "teneva.erank(Y)            # The effective TT-rank"
   ]
  },
  {
   "cell_type": "markdown",
   "id": "67a27aaa-67fd-4c3b-b6f6-ac21fdee9305",
   "metadata": {},
   "source": [
    "### Function `full`"
   ]
  },
  {
   "cell_type": "markdown",
   "id": "353d1b34-fb76-44d1-8dcd-0dba678fe5f5",
   "metadata": {},
   "source": [
    "For a given TT-tensor (list of TT-cores), calculates the tensor in full format (this function can only be used for relatively small tensors)."
   ]
  },
  {
   "cell_type": "code",
   "execution_count": 20,
   "id": "0f98b3a6-2f46-4200-b2ea-b86de55ae6e2",
   "metadata": {},
   "outputs": [
    {
     "name": "stdout",
     "output_type": "stream",
     "text": [
      "   10  10  10  10  10 \n",
      "  / \\ / \\ / \\ / \\ / \\ \n",
      " 1   10 100 100  10  1  \n",
      "\n"
     ]
    },
    {
     "data": {
      "text/plain": [
       "1.865174681370263e-14"
      ]
     },
     "execution_count": 20,
     "metadata": {},
     "output_type": "execute_result"
    }
   ],
   "source": [
    "n = [10] * 5              # Shape of the tensor      \n",
    "Y0 = np.random.randn(*n)  # Create 5-dim random numpy tensor\n",
    "Y1 = teneva.svd(Y0)       # Compute TT-tensor from Y0 by TT-SVD\n",
    "teneva.show(Y1)           # Print the TT-tensor\n",
    "Y2 = teneva.full(Y1)      # Compute full tensor from the TT-tensor\n",
    "abs(np.max(Y2-Y0))        # Compare original tensor and reconstructed tensor"
   ]
  },
  {
   "cell_type": "markdown",
   "id": "8bab5a0e-8111-4234-b42a-5221861fc11e",
   "metadata": {},
   "source": [
    "### Function `get`"
   ]
  },
  {
   "cell_type": "markdown",
   "id": "7f224529-9633-4e3f-875d-71d472a13377",
   "metadata": {},
   "source": [
    "Compute the element with multiindex $k$ from the TT-tensor $Y$. See also a function `tensor.getter` that performs the same operation, but with an acceleration."
   ]
  },
  {
   "cell_type": "code",
   "execution_count": 21,
   "id": "96de9c2c-661b-450d-8236-a7d0676d83cc",
   "metadata": {},
   "outputs": [
    {
     "name": "stdout",
     "output_type": "stream",
     "text": [
      "   10  10  10  10  10 \n",
      "  / \\ / \\ / \\ / \\ / \\ \n",
      " 1   10 100 100  10  1  \n",
      "\n"
     ]
    },
    {
     "data": {
      "text/plain": [
       "9.992007221626409e-16"
      ]
     },
     "execution_count": 21,
     "metadata": {},
     "output_type": "execute_result"
    }
   ],
   "source": [
    "n = [10] * 5              # Shape of the tensor      \n",
    "Y0 = np.random.randn(*n)  # Create 5-dim random numpy tensor\n",
    "Y1 = teneva.svd(Y0)       # Compute TT-tensor from Y0 by TT-SVD\n",
    "teneva.show(Y1)           # Print the TT-tensor\n",
    "k = [1, 2, 3, 4, 5]       # Select some tensor element\n",
    "y1 = teneva.get(Y1, k)    # Compute the element of the TT-tensor\n",
    "y0 = Y0[tuple(k)]         # Compute the same element of the original tensor\n",
    "abs(np.max(y1-y0))        # Compare original tensor and reconstructed tensor"
   ]
  },
  {
   "cell_type": "markdown",
   "id": "4abd806e-48f9-405c-902d-d808c854ab42",
   "metadata": {},
   "source": [
    "### Function `getter`"
   ]
  },
  {
   "cell_type": "markdown",
   "id": "5af1f65d-4874-47f9-9393-14dd390df648",
   "metadata": {},
   "source": [
    "Build fast (accelerated by numba) function that computes the element with multiindex $k$ for the TT-tensor $Y$. See also a function `tensor.get` for more details."
   ]
  },
  {
   "cell_type": "code",
   "execution_count": 22,
   "id": "c9109d28-8370-4c6b-a4d5-7b59960c496d",
   "metadata": {},
   "outputs": [
    {
     "data": {
      "text/plain": [
       "5.995204332975845e-15"
      ]
     },
     "execution_count": 22,
     "metadata": {},
     "output_type": "execute_result"
    }
   ],
   "source": [
    "n = [10] * 5              # Shape of the tensor      \n",
    "Y0 = np.random.randn(*n)  # Create 5-dim random numpy tensor\n",
    "Y1 = teneva.svd(Y0)       # Compute TT-tensor from Y0 by TT-SVD\n",
    "get = teneva.getter(Y1)   # Build (compile) function to compute the element of the TT-tensor\n",
    "k = (1, 2, 3, 4, 5)       # Select some tensor element\n",
    "y1 = get(k)               # Compute the element of the TT-tensor\n",
    "y0 = Y0[k]                # Compute the same element of the original tensor\n",
    "abs(np.max(y1-y0))        # Compare original tensor and reconstructed tensor"
   ]
  },
  {
   "cell_type": "markdown",
   "id": "2ea9e47c-6353-4f81-92b8-e222391f41b4",
   "metadata": {},
   "source": [
    "### Function `mean`"
   ]
  },
  {
   "cell_type": "markdown",
   "id": "99812e8c-7ede-4619-b52e-a15b36c1dddf",
   "metadata": {},
   "source": [
    "Compute mean value of the TT-tensor."
   ]
  },
  {
   "cell_type": "code",
   "execution_count": 23,
   "id": "3e58bdfb-05cf-4dcb-a052-32edec1e5abc",
   "metadata": {},
   "outputs": [
    {
     "data": {
      "text/plain": [
       "-2.4711421770053888e-05"
      ]
     },
     "execution_count": 23,
     "metadata": {},
     "output_type": "execute_result"
    }
   ],
   "source": [
    "Y = teneva.rand([5]*10, 2)   # 10-dim random TT-tensor with TT-rank 2\n",
    "teneva.mean(Y)               # The mean value"
   ]
  },
  {
   "cell_type": "markdown",
   "id": "b7762382-0e9c-4f6f-ba67-2b86d5b4b706",
   "metadata": {},
   "source": [
    "The probability of tensor inputs my be also set:"
   ]
  },
  {
   "cell_type": "code",
   "execution_count": 24,
   "id": "625b9d53-86b6-4cec-8219-48e16799dc2c",
   "metadata": {},
   "outputs": [
    {
     "data": {
      "text/plain": [
       "0.0"
      ]
     },
     "execution_count": 24,
     "metadata": {},
     "output_type": "execute_result"
    }
   ],
   "source": [
    "n = [5]*10                   # Shape of the tensor\n",
    "Y = teneva.rand(n, 2)        # 10-dim random TT-tensor with TT-rank 2\n",
    "P = [np.zeros(k) for k in n] # The \"probability\"\n",
    "teneva.mean(Y, P)            # The mean value"
   ]
  },
  {
   "cell_type": "markdown",
   "id": "ba160f63-c92d-4631-b389-d4093fceb6e0",
   "metadata": {},
   "source": [
    "### Function `mul`"
   ]
  },
  {
   "cell_type": "markdown",
   "id": "78e5dba1-a971-4e33-8d3a-a8d7289611d7",
   "metadata": {},
   "source": [
    "Compute element wise product $Y = Y_1 + Y_2$ for the given TT-tensors $Y_1$ and $Y_2$ presented as lists of TT-cores."
   ]
  },
  {
   "cell_type": "code",
   "execution_count": 25,
   "id": "1ad97d50-76ef-46b2-86c4-720339c6a542",
   "metadata": {},
   "outputs": [],
   "source": [
    "Y1 = teneva.rand([5]*10, 2) # 10-dim random TT-tensor with TT-rank 2\n",
    "Y2 = teneva.rand([5]*10, 3) # 10-dim random TT-tensor with TT-rank 3"
   ]
  },
  {
   "cell_type": "code",
   "execution_count": 26,
   "id": "580c4464-dc6e-48c6-aba7-d611b618c08e",
   "metadata": {},
   "outputs": [
    {
     "name": "stdout",
     "output_type": "stream",
     "text": [
      "  5  5  5  5  5  5  5  5  5  5 \n",
      " / \\/ \\/ \\/ \\/ \\/ \\/ \\/ \\/ \\/ \\\n",
      " 1  6  6  6  6  6  6  6  6  6  1 \n",
      "\n"
     ]
    }
   ],
   "source": [
    "Y = teneva.mul(Y1, Y2)      # Compute the product of Y1 and Y2\n",
    "teneva.show(Y)              # Print the resulting TT-tensor (note that it has TT-rank 2 x 3 = 6)"
   ]
  },
  {
   "cell_type": "code",
   "execution_count": 27,
   "id": "abf6a6c8-49e5-4dff-9368-ed0bfb3b404d",
   "metadata": {},
   "outputs": [
    {
     "name": "stdout",
     "output_type": "stream",
     "text": [
      "Error     : 4.41e-16\n"
     ]
    }
   ],
   "source": [
    "Y1_full = teneva.full(Y1)                       # Compute tensors in the full format\n",
    "Y2_full = teneva.full(Y2)                       # to check the result\n",
    "Y_full = teneva.full(Y)\n",
    "\n",
    "Z_full = Y1_full * Y2_full\n",
    "\n",
    "e = np.linalg.norm(Y_full - Z_full)             # Compute error for TT-tensor vs full tensor \n",
    "e /= np.linalg.norm(Z_full)                     #\n",
    "\n",
    "print(f'Error     : {e:-8.2e}')                 # Rel. error for TT-tensor vs full tensor"
   ]
  },
  {
   "cell_type": "markdown",
   "id": "d538682a-1c78-4171-b3aa-bc23f0cbfe1a",
   "metadata": {},
   "source": [
    "This function also supports float argument:"
   ]
  },
  {
   "cell_type": "code",
   "execution_count": 28,
   "id": "a8ce03ff-1693-47b9-bc40-1ca86677ee86",
   "metadata": {},
   "outputs": [
    {
     "name": "stdout",
     "output_type": "stream",
     "text": [
      "  5  5  5  5  5  5  5  5  5  5 \n",
      " / \\/ \\/ \\/ \\/ \\/ \\/ \\/ \\/ \\/ \\\n",
      " 1  2  2  2  2  2  2  2  2  2  1 \n",
      "\n"
     ]
    }
   ],
   "source": [
    "Y1 = teneva.rand([5]*10, 2) # 10-dim random TT-tensor with TT-rank 2\n",
    "Y2 = 42.                    # Just a number\n",
    "Y = teneva.mul(Y1, Y2)      # Compute the product of Y1 and Y2\n",
    "teneva.show(Y)              # Print the resulting TT-tensor (note that it has TT-rank 2 x 1 = 2)"
   ]
  },
  {
   "cell_type": "code",
   "execution_count": 29,
   "id": "a1909a97-4c6f-4f63-a7a3-9ba220f1a149",
   "metadata": {},
   "outputs": [
    {
     "name": "stdout",
     "output_type": "stream",
     "text": [
      "  5  5  5  5  5  5  5  5  5  5 \n",
      " / \\/ \\/ \\/ \\/ \\/ \\/ \\/ \\/ \\/ \\\n",
      " 1  2  2  2  2  2  2  2  2  2  1 \n",
      "\n"
     ]
    }
   ],
   "source": [
    "Y1 = 42.                    # Just a number\n",
    "Y2 = teneva.rand([5]*10, 2) # 10-dim random TT-tensor with TT-rank 2\n",
    "Y = teneva.mul(Y1, Y2)      # Compute the product of Y1 and Y2\n",
    "teneva.show(Y)              # Print the resulting TT-tensor (note that it has TT-rank 2 x 1 = 2)"
   ]
  },
  {
   "cell_type": "code",
   "execution_count": 30,
   "id": "5d954a84-0073-45e1-8d05-df5c571efa12",
   "metadata": {},
   "outputs": [
    {
     "name": "stdout",
     "output_type": "stream",
     "text": [
      "42.0\n"
     ]
    }
   ],
   "source": [
    "Y1 = 21.                    # Just a number\n",
    "Y2 = 2                      # Just a number\n",
    "Y = teneva.mul(Y1, Y2)      # Compute the product of Y1 and Y2\n",
    "print(Y)                    # The result is a number"
   ]
  },
  {
   "cell_type": "markdown",
   "id": "fb1a8b4b-dfe2-49a9-8399-6db527eb0f9a",
   "metadata": {},
   "source": [
    "### Function `mul_scalar`"
   ]
  },
  {
   "cell_type": "markdown",
   "id": "b4d65cc9-4947-422f-99ff-6daa3b8a42d8",
   "metadata": {},
   "source": [
    "Compute scalar product for Y1 and Y2 in the TT-format."
   ]
  },
  {
   "cell_type": "code",
   "execution_count": 31,
   "id": "8d141725-74ef-4d46-8399-0c1045443e89",
   "metadata": {},
   "outputs": [],
   "source": [
    "Y1 = teneva.rand([5]*10, 2)           # 10-dim random TT-tensor with TT-rank 2\n",
    "Y2 = teneva.rand([5]*10, 3)           # 10-dim random TT-tensor with TT-rank 3"
   ]
  },
  {
   "cell_type": "code",
   "execution_count": 32,
   "id": "6f7065e8-d024-46de-b974-6170de6d3900",
   "metadata": {},
   "outputs": [
    {
     "name": "stdout",
     "output_type": "stream",
     "text": [
      "-376850.76200628746\n"
     ]
    }
   ],
   "source": [
    "v = teneva.mul_scalar(Y1, Y2)         # Compute the product of Y1 and Y2\n",
    "print(v)                              # Print the resulting value"
   ]
  },
  {
   "cell_type": "code",
   "execution_count": 33,
   "id": "4fba4d5c-f300-4f80-b439-5622a15bb0e7",
   "metadata": {},
   "outputs": [
    {
     "name": "stdout",
     "output_type": "stream",
     "text": [
      "-376850.76200628735\n",
      "Error     : 3.09e-16\n"
     ]
    }
   ],
   "source": [
    "Y1_full = teneva.full(Y1)             # Compute tensors in the full format\n",
    "Y2_full = teneva.full(Y2)             # to check the result\n",
    "\n",
    "v_full = np.sum(Y1_full * Y2_full)\n",
    "print(v_full)                         # Print the resulting value from full tensor\n",
    "\n",
    "e = abs((v - v_full)/v_full)          # Compute error for TT-tensor vs full tensor \n",
    "print(f'Error     : {e:-8.2e}')       # Rel. error"
   ]
  },
  {
   "cell_type": "markdown",
   "id": "b8786abc-cc8b-4413-89ca-2adfe506fbd6",
   "metadata": {},
   "source": [
    "### Function `norm`"
   ]
  },
  {
   "cell_type": "markdown",
   "id": "83657a1a-9287-4095-8df3-73a13551f7d6",
   "metadata": {},
   "source": [
    "Compute Frobenius norm of the given TT-tensor."
   ]
  },
  {
   "cell_type": "code",
   "execution_count": 34,
   "id": "260da7d6-b54e-49c6-87a8-4bf8d7825323",
   "metadata": {},
   "outputs": [],
   "source": [
    "Y = teneva.rand([5]*10, 2)            # 10-dim random TT-tensor with TT-rank 2"
   ]
  },
  {
   "cell_type": "code",
   "execution_count": 35,
   "id": "5b0d342e-9a7a-4cd2-85fa-381db350841a",
   "metadata": {},
   "outputs": [
    {
     "name": "stdout",
     "output_type": "stream",
     "text": [
      "46625.68010134915\n"
     ]
    }
   ],
   "source": [
    "v = teneva.norm(Y)                    # Compute the Frobenius norm\n",
    "print(v)                              # Print the resulting value"
   ]
  },
  {
   "cell_type": "code",
   "execution_count": 36,
   "id": "2fe0ef44-f37a-46ae-aa5b-eb2cbf4c0abb",
   "metadata": {},
   "outputs": [
    {
     "name": "stdout",
     "output_type": "stream",
     "text": [
      "46625.680101349135\n",
      "Error     : 3.12e-16\n"
     ]
    }
   ],
   "source": [
    "Y_full = teneva.full(Y)               # Compute tensor in the full format to check the result\n",
    "\n",
    "v_full = np.linalg.norm(Y_full)\n",
    "print(v_full)                         # Print the resulting value from full tensor\n",
    "\n",
    "e = abs((v - v_full)/v_full)          # Compute error for TT-tensor vs full tensor \n",
    "print(f'Error     : {e:-8.2e}')       # Rel. error"
   ]
  },
  {
   "cell_type": "markdown",
   "id": "6f92b6e0-7ba1-46e5-bdcc-d3f831958697",
   "metadata": {},
   "source": [
    "### Function `orthogonalize`"
   ]
  },
  {
   "cell_type": "markdown",
   "id": "1394deb2-f36f-45d0-ad1c-a63e4c192e86",
   "metadata": {},
   "source": [
    "Orthogonalize TT-tensor."
   ]
  },
  {
   "cell_type": "code",
   "execution_count": 37,
   "id": "a3d8e77e-8267-4fb8-ac65-20ad97e15c0d",
   "metadata": {},
   "outputs": [
    {
     "name": "stdout",
     "output_type": "stream",
     "text": [
      " 12 13 14 15 16 \n",
      " / \\/ \\/ \\/ \\/ \\\n",
      " 1  2  3  4  5  1 \n",
      "\n"
     ]
    }
   ],
   "source": [
    "d = 5                                # Dimension of the tensor\n",
    "n = [12, 13, 14, 15, 16]             # Shape of the tensor\n",
    "r = [1, 2, 3, 4, 5, 1]               # TT-ranks for TT-tensor\n",
    "Y = teneva.rand(n, r)                # Build random TT-tensor\n",
    "teneva.show(Y)                       # Print the resulting TT-tensor"
   ]
  },
  {
   "cell_type": "code",
   "execution_count": 38,
   "id": "5c42504f-4146-46e8-a81a-c8b92566a71a",
   "metadata": {},
   "outputs": [
    {
     "name": "stdout",
     "output_type": "stream",
     "text": [
      " 12 13 14 15 16 \n",
      " / \\/ \\/ \\/ \\/ \\\n",
      " 1  2  3  4  5  1 \n",
      "\n"
     ]
    }
   ],
   "source": [
    "Z = teneva.orthogonalize(Y, d-1)\n",
    "teneva.show(Z)"
   ]
  },
  {
   "cell_type": "code",
   "execution_count": 39,
   "id": "7663a520-a949-4f6c-8f65-a9cd3c02902f",
   "metadata": {},
   "outputs": [
    {
     "name": "stdout",
     "output_type": "stream",
     "text": [
      "Accuracy     : 0.00e+00\n"
     ]
    }
   ],
   "source": [
    "eps = teneva.accuracy(Y, Z)          # The relative difference (\"accuracy\")\n",
    "print(f'Accuracy     : {eps:-8.2e}')"
   ]
  },
  {
   "cell_type": "code",
   "execution_count": 40,
   "id": "1f724c4e-2e3b-47d7-b62f-8ecb1e58c03b",
   "metadata": {},
   "outputs": [
    {
     "name": "stdout",
     "output_type": "stream",
     "text": [
      "[[1.00000000e+00 3.20923843e-17]\n",
      " [3.20923843e-17 1.00000000e+00]]\n",
      "[[ 1.00000000e+00 -1.73472348e-17 -5.55111512e-17]\n",
      " [-1.73472348e-17  1.00000000e+00 -3.46944695e-18]\n",
      " [-5.55111512e-17 -3.46944695e-18  1.00000000e+00]]\n",
      "[[ 1.00000000e+00 -8.67361738e-17  5.55111512e-17  2.77555756e-17]\n",
      " [-8.67361738e-17  1.00000000e+00  6.93889390e-18  5.55111512e-17]\n",
      " [ 5.55111512e-17  6.93889390e-18  1.00000000e+00 -6.93889390e-18]\n",
      " [ 2.77555756e-17  5.55111512e-17 -6.93889390e-18  1.00000000e+00]]\n",
      "[[ 1.00000000e+00 -1.30104261e-18 -3.12250226e-17 -6.93889390e-18\n",
      "   4.85722573e-17]\n",
      " [-1.30104261e-18  1.00000000e+00 -1.04083409e-17  1.21430643e-17\n",
      "   1.73472348e-17]\n",
      " [-3.12250226e-17 -1.04083409e-17  1.00000000e+00 -6.20163643e-17\n",
      "   0.00000000e+00]\n",
      " [-6.93889390e-18  1.21430643e-17 -6.20163643e-17  1.00000000e+00\n",
      "   1.73472348e-17]\n",
      " [ 4.85722573e-17  1.73472348e-17  0.00000000e+00  1.73472348e-17\n",
      "   1.00000000e+00]]\n",
      "[[52656524.31621235]]\n"
     ]
    }
   ],
   "source": [
    "for G in Z:\n",
    "    print(sum([G[:, i, :].T @ G[:, i, :] for i in range(G.shape[1])]))"
   ]
  },
  {
   "cell_type": "markdown",
   "id": "1c1fe417-d16c-4da3-ab9e-d615fe6711e6",
   "metadata": {},
   "source": [
    "### Function `rand`"
   ]
  },
  {
   "cell_type": "markdown",
   "id": "856e4db9-4d89-4221-8aa3-ba8470d8aea4",
   "metadata": {},
   "source": [
    "Construct random TT-tensor."
   ]
  },
  {
   "cell_type": "code",
   "execution_count": 41,
   "id": "d970730c-8514-4232-a20c-17a7c1d4b92f",
   "metadata": {},
   "outputs": [
    {
     "name": "stdout",
     "output_type": "stream",
     "text": [
      " 12 13 14 15 16 \n",
      " / \\/ \\/ \\/ \\/ \\\n",
      " 1  2  3  4  5  1 \n",
      "\n"
     ]
    }
   ],
   "source": [
    "n = [12, 13, 14, 15, 16]    # Shape of the tensor\n",
    "r = [1, 2, 3, 4, 5, 1]      # TT-ranks for TT-tensor\n",
    "Y = teneva.rand(n, r)       # Build random TT-tensor\n",
    "teneva.show(Y)              # Print the resulting TT-tensor"
   ]
  },
  {
   "cell_type": "markdown",
   "id": "3d49f672-d4d4-483c-b2b7-bd02748b01b0",
   "metadata": {},
   "source": [
    "If all inner TT-ranks are equal, we may pass it as a number:"
   ]
  },
  {
   "cell_type": "code",
   "execution_count": 42,
   "id": "7c467744-9ae6-4bcf-8b6a-d35609a85701",
   "metadata": {},
   "outputs": [
    {
     "name": "stdout",
     "output_type": "stream",
     "text": [
      " 12 13 14 15 16 \n",
      " / \\/ \\/ \\/ \\/ \\\n",
      " 1  5  5  5  5  1 \n",
      "\n"
     ]
    }
   ],
   "source": [
    "n = [12, 13, 14, 15, 16]    # Shape of the tensor\n",
    "r = 5                       # TT-ranks for TT-tensor\n",
    "Y = teneva.rand(n, r)       # Build random TT-tensor\n",
    "teneva.show(Y)              # Print the resulting TT-tensor"
   ]
  },
  {
   "cell_type": "markdown",
   "id": "d1cc49ba-f6df-471f-b949-26136e552bbd",
   "metadata": {},
   "source": [
    "### Function `ranks`"
   ]
  },
  {
   "cell_type": "markdown",
   "id": "bc2ce1ea-feb6-464d-a975-064c21f85531",
   "metadata": {},
   "source": [
    "Function get the TT-ranks of the given TT-tensor."
   ]
  },
  {
   "cell_type": "code",
   "execution_count": 43,
   "id": "cfc931f9-2a4e-41f7-954e-1f2eeaf0bfd8",
   "metadata": {},
   "outputs": [
    {
     "data": {
      "text/plain": [
       "array([1, 2, 2, 2, 2, 1])"
      ]
     },
     "execution_count": 43,
     "metadata": {},
     "output_type": "execute_result"
    }
   ],
   "source": [
    "Y = teneva.rand([10, 12, 8, 8, 30], 2) # 5-dim random TT-tensor with TT-rank 2\n",
    "teneva.ranks(Y)                        # TT-ranks of the TT-tensor"
   ]
  },
  {
   "cell_type": "markdown",
   "id": "065d7d27-0041-4ee1-b9a8-8f22e592c33a",
   "metadata": {},
   "source": [
    "### Function `shape`"
   ]
  },
  {
   "cell_type": "markdown",
   "id": "d5d48dfe-7cdb-4fde-a072-ff539f7723ac",
   "metadata": {},
   "source": [
    "Function get the shape of the given TT-tensor."
   ]
  },
  {
   "cell_type": "code",
   "execution_count": 44,
   "id": "58b62f5d-46b9-40e0-a976-c303aa7dee7f",
   "metadata": {},
   "outputs": [
    {
     "data": {
      "text/plain": [
       "array([10, 12,  8,  8, 30])"
      ]
     },
     "execution_count": 44,
     "metadata": {},
     "output_type": "execute_result"
    }
   ],
   "source": [
    "Y = teneva.rand([10, 12, 8, 8, 30], 2) # 5-dim random TT-tensor with TT-rank 2\n",
    "teneva.shape(Y)                        # Shape of the TT-tensor"
   ]
  },
  {
   "cell_type": "markdown",
   "id": "fa32d566-3b8c-4c0d-911a-7244635e50d6",
   "metadata": {},
   "source": [
    "### Function `show`"
   ]
  },
  {
   "cell_type": "markdown",
   "id": "04b10909-53d5-4bc4-a118-ffd30601b682",
   "metadata": {},
   "source": [
    "Displays mode sizes and TT-ranks of the given TT-tensor Y in a compact and clear form."
   ]
  },
  {
   "cell_type": "code",
   "execution_count": 45,
   "id": "b08ae353-d8de-49b7-b29a-e32cdba9342a",
   "metadata": {},
   "outputs": [
    {
     "name": "stdout",
     "output_type": "stream",
     "text": [
      " 10 12  8  8 30 \n",
      " / \\/ \\/ \\/ \\/ \\\n",
      " 1  2  2  2  2  1 \n",
      "\n"
     ]
    }
   ],
   "source": [
    "Y = teneva.rand([10, 12, 8, 8, 30], 2) # 5-dim random TT-tensor with TT-rank 2\n",
    "teneva.show(Y)                         # Print the resulting TT-tensor"
   ]
  },
  {
   "cell_type": "markdown",
   "id": "5b86e29a-635a-44ca-9d91-4806ad383a64",
   "metadata": {},
   "source": [
    "### Function `size`"
   ]
  },
  {
   "cell_type": "markdown",
   "id": "70e8a816-1112-4dba-9c03-8a9d1fbf5a37",
   "metadata": {},
   "source": [
    "Function get the size (number of parameters) of the given TT-tensor."
   ]
  },
  {
   "cell_type": "code",
   "execution_count": 46,
   "id": "23cf9c1e-ef67-4b94-87c1-8af4226c337c",
   "metadata": {},
   "outputs": [
    {
     "data": {
      "text/plain": [
       "192"
      ]
     },
     "execution_count": 46,
     "metadata": {},
     "output_type": "execute_result"
    }
   ],
   "source": [
    "Y = teneva.rand([10, 12, 8, 8, 30], 2) # 5-dim random TT-tensor with TT-rank 2\n",
    "teneva.size(Y)                         # Size of the TT-tensor"
   ]
  },
  {
   "cell_type": "markdown",
   "id": "4b66402a-a6f9-4bc9-ba08-835eaeb998e4",
   "metadata": {},
   "source": [
    "### Function `sub`"
   ]
  },
  {
   "cell_type": "markdown",
   "id": "9761dcd5-5d40-4231-bf39-697a7211b193",
   "metadata": {},
   "source": [
    "Compute element wise difference $Y = Y_1 - Y_2$ for the given TT-tensors $Y_1$ and $Y_2$ presented as lists of TT-cores."
   ]
  },
  {
   "cell_type": "code",
   "execution_count": 47,
   "id": "ac607ffd-06d1-42bd-9384-ad3681b2ea04",
   "metadata": {},
   "outputs": [],
   "source": [
    "Y1 = teneva.rand([5]*10, 2) # 10-dim random TT-tensor with TT-rank 2\n",
    "Y2 = teneva.rand([5]*10, 3) # 10-dim random TT-tensor with TT-rank 3"
   ]
  },
  {
   "cell_type": "code",
   "execution_count": 48,
   "id": "0791c56d-8b7d-4c6d-bc75-185e80671862",
   "metadata": {},
   "outputs": [
    {
     "name": "stdout",
     "output_type": "stream",
     "text": [
      "  5  5  5  5  5  5  5  5  5  5 \n",
      " / \\/ \\/ \\/ \\/ \\/ \\/ \\/ \\/ \\/ \\\n",
      " 1  5  5  5  5  5  5  5  5  5  1 \n",
      "\n"
     ]
    }
   ],
   "source": [
    "Y = teneva.sub(Y1, Y2)      # Compute the difference between Y1 and Y2\n",
    "teneva.show(Y)              # Print the resulting TT-tensor (note that it has TT-rank 2 + 3 = 5)"
   ]
  },
  {
   "cell_type": "code",
   "execution_count": 49,
   "id": "19eb7c18-f977-4724-a218-da63efd9f21e",
   "metadata": {},
   "outputs": [
    {
     "name": "stdout",
     "output_type": "stream",
     "text": [
      "Error     : 1.16e-16\n"
     ]
    }
   ],
   "source": [
    "Y1_full = teneva.full(Y1)                       # Compute tensors in the full format\n",
    "Y2_full = teneva.full(Y2)                       # to check the result\n",
    "Y_full = teneva.full(Y)\n",
    "\n",
    "Z_full = Y1_full - Y2_full\n",
    "\n",
    "e = np.linalg.norm(Y_full - Z_full)             # Compute error for TT-tensor vs full tensor \n",
    "e /= np.linalg.norm(Z_full)                     \n",
    "\n",
    "print(f'Error     : {e:-8.2e}')                 # Rel. error for TT-tensor vs full tensor"
   ]
  },
  {
   "cell_type": "markdown",
   "id": "74a73158-8629-4e2e-8848-759d3c32a476",
   "metadata": {},
   "source": [
    "This function also supports float argument:"
   ]
  },
  {
   "cell_type": "code",
   "execution_count": 50,
   "id": "081e2b2f-ecba-43b0-90b9-59bda3e377d3",
   "metadata": {},
   "outputs": [
    {
     "name": "stdout",
     "output_type": "stream",
     "text": [
      "  5  5  5  5  5  5  5  5  5  5 \n",
      " / \\/ \\/ \\/ \\/ \\/ \\/ \\/ \\/ \\/ \\\n",
      " 1  3  3  3  3  3  3  3  3  3  1 \n",
      "\n"
     ]
    }
   ],
   "source": [
    "Y1 = teneva.rand([5]*10, 2) # 10-dim random TT-tensor with TT-rank 2\n",
    "Y2 = 42.                    # Just a number\n",
    "Y = teneva.sub(Y1, Y2)      # Compute the difference between Y1 and Y2\n",
    "teneva.show(Y)              # Print the resulting TT-tensor (note that it has TT-rank 2 + 1 = 3)"
   ]
  },
  {
   "cell_type": "code",
   "execution_count": 51,
   "id": "c77c455d-80dc-4ff6-b547-72952af3bb31",
   "metadata": {},
   "outputs": [
    {
     "name": "stdout",
     "output_type": "stream",
     "text": [
      "  5  5  5  5  5  5  5  5  5  5 \n",
      " / \\/ \\/ \\/ \\/ \\/ \\/ \\/ \\/ \\/ \\\n",
      " 1  3  3  3  3  3  3  3  3  3  1 \n",
      "\n"
     ]
    }
   ],
   "source": [
    "Y1 = 42.                    # Just a number\n",
    "Y2 = teneva.rand([5]*10, 2) # 10-dim random TT-tensor with TT-rank 2\n",
    "Y = teneva.sub(Y1, Y2)      # Compute the difference between Y1 and Y2\n",
    "teneva.show(Y)              # Print the resulting TT-tensor (note that it has TT-rank 2 + 1 = 3)"
   ]
  },
  {
   "cell_type": "code",
   "execution_count": 52,
   "id": "dbd8b4f1-93a3-47f4-b447-ae1440fff3cc",
   "metadata": {},
   "outputs": [
    {
     "name": "stdout",
     "output_type": "stream",
     "text": [
      "42.0\n"
     ]
    }
   ],
   "source": [
    "Y1 = 44.                    # Just a number\n",
    "Y2 = 2                      # Just a number\n",
    "Y = teneva.sub(Y1, Y2)      # Compute the difference between Y1 and Y2\n",
    "print(Y)                    # The result is a number"
   ]
  },
  {
   "cell_type": "markdown",
   "id": "4e854ca4-a31f-45a5-b41e-92fe280ee5b0",
   "metadata": {},
   "source": [
    "### Function `sum`"
   ]
  },
  {
   "cell_type": "markdown",
   "id": "662667df-bdb7-44de-a6b3-cbe9db0ddd2e",
   "metadata": {},
   "source": [
    "Compute sum of all tensor elements."
   ]
  },
  {
   "cell_type": "code",
   "execution_count": 53,
   "id": "69f278da-0751-482f-a90e-9f03bb40e0dc",
   "metadata": {},
   "outputs": [
    {
     "data": {
      "text/plain": [
       "4321.971758381398"
      ]
     },
     "execution_count": 53,
     "metadata": {},
     "output_type": "execute_result"
    }
   ],
   "source": [
    "Y = teneva.rand([10, 12, 8, 8, 30], 2) # 5-dim random TT-tensor with TT-rank 2\n",
    "teneva.sum(Y)                          # Sum of the TT-tensor elements"
   ]
  },
  {
   "cell_type": "code",
   "execution_count": 54,
   "id": "ed02debf-9ee5-4825-b214-16f78d6ca81e",
   "metadata": {},
   "outputs": [
    {
     "data": {
      "text/plain": [
       "4321.9717583814"
      ]
     },
     "execution_count": 54,
     "metadata": {},
     "output_type": "execute_result"
    }
   ],
   "source": [
    "Z = teneva.full(Y)                     # Compute tensors in the full format to check the result\n",
    "np.sum(Z)"
   ]
  },
  {
   "cell_type": "markdown",
   "id": "84d0a7d9-6cb7-4ad8-ae99-7fb4ffd3ddb8",
   "metadata": {},
   "source": [
    "### Function `truncate`"
   ]
  },
  {
   "cell_type": "markdown",
   "id": "c78aefb3-444d-4933-a2a3-8ae363494c0d",
   "metadata": {},
   "source": [
    "Truncate (round) given TT-tensor up to a given accuracy and the rank constraint."
   ]
  },
  {
   "cell_type": "code",
   "execution_count": 55,
   "id": "cc5e6c54-8d9e-4567-a968-14be5e0c6253",
   "metadata": {},
   "outputs": [
    {
     "name": "stdout",
     "output_type": "stream",
     "text": [
      "  5  5  5  5  5  5  5  5  5  5 \n",
      " / \\/ \\/ \\/ \\/ \\/ \\/ \\/ \\/ \\/ \\\n",
      " 1  9  9  9  9  9  9  9  9  9  1 \n",
      "\n"
     ]
    }
   ],
   "source": [
    "Y = teneva.rand([5]*10, 3)           # 10-dim random TT-tensor with TT-rank 3\n",
    "Y = teneva.add(Y, teneva.add(Y, Y))  # Compute Y + Y + Y (the real TT-rank is still 3)\n",
    "teneva.show(Y)                       # Print the resulting TT-tensor (note that it has TT-rank 3 + 3 + 3 = 9)"
   ]
  },
  {
   "cell_type": "code",
   "execution_count": 56,
   "id": "4625261b-fb1b-4d8a-8f00-1c3f036eb6a7",
   "metadata": {},
   "outputs": [
    {
     "name": "stdout",
     "output_type": "stream",
     "text": [
      "  5  5  5  5  5  5  5  5  5  5 \n",
      " / \\/ \\/ \\/ \\/ \\/ \\/ \\/ \\/ \\/ \\\n",
      " 1  3  3  3  3  3  3  3  3  3  1 \n",
      "\n",
      "Accuracy     : 0.00e+00\n"
     ]
    }
   ],
   "source": [
    "Z = teneva.truncate(Y, e=1.E-2)      # Truncate (round) the TT-tensor\n",
    "teneva.show(Z)                       # Print the resulting TT-tensor (note that it has TT-rank 3)\n",
    "eps = teneva.accuracy(Y, Z)          # The relative difference (\"accuracy\")\n",
    "print(f'Accuracy     : {eps:-8.2e}')"
   ]
  },
  {
   "cell_type": "code",
   "execution_count": 57,
   "id": "4523250f-e13a-4972-b268-e2a9c7fc292f",
   "metadata": {},
   "outputs": [
    {
     "name": "stdout",
     "output_type": "stream",
     "text": [
      "  5  5  5  5  5  5  5  5  5  5 \n",
      " / \\/ \\/ \\/ \\/ \\/ \\/ \\/ \\/ \\/ \\\n",
      " 1  2  2  2  2  2  2  2  2  2  1 \n",
      "\n",
      "Accuracy     : 1.27e+00\n"
     ]
    }
   ],
   "source": [
    "Z = teneva.truncate(Y, e=1.E-6, r=2) # Truncate (round) the TT-tensor\n",
    "teneva.show(Z)                       # Print the resulting TT-tensor (note that it has TT-rank 2)\n",
    "eps = teneva.accuracy(Y, Z)          # The relative difference (\"accuracy\")\n",
    "print(f'Accuracy     : {eps:-8.2e}')"
   ]
  },
  {
   "cell_type": "markdown",
   "id": "b235aa14-0bb3-420f-aec5-8e9f1646a13e",
   "metadata": {},
   "source": [
    "# Modules, functions and classes of `teneva.demo`"
   ]
  },
  {
   "cell_type": "markdown",
   "id": "0596482f-7845-4eee-80d5-f14107ffd557",
   "metadata": {},
   "source": [
    "This module contains various helpers, including analytical functions, for testing and evaluating the effectiveness of algorithms."
   ]
  },
  {
   "cell_type": "markdown",
   "id": "bc005739-748e-4db5-8c2d-be17f2510b5c",
   "metadata": {},
   "source": [
    "## Module `demo_func`"
   ]
  },
  {
   "cell_type": "markdown",
   "id": "eb732cf1-2664-47d1-9fd0-eed37b3d6353",
   "metadata": {},
   "source": [
    "This module contains various analytical functions for testing and evaluating the effectiveness of algorithms."
   ]
  },
  {
   "cell_type": "markdown",
   "id": "7d4376ff-368e-431e-81dd-be70b20567ff",
   "metadata": {},
   "source": [
    "### Class `DemoFuncAckley`"
   ]
  },
  {
   "cell_type": "markdown",
   "id": "26dfdcae-f9d0-4829-9380-33075d2d5324",
   "metadata": {},
   "source": [
    "Ackley function for demo and tests."
   ]
  },
  {
   "cell_type": "code",
   "execution_count": 2,
   "id": "20176613-1bef-4011-9059-27fd9b6eafcf",
   "metadata": {},
   "outputs": [
    {
     "name": "stdout",
     "output_type": "stream",
     "text": [
      "[0.         3.62538494 6.59359908 9.02376728]\n",
      "0.0 9.023767278119472\n"
     ]
    }
   ],
   "source": [
    "X = np.array([\n",
    "    [0., 0., 0.],\n",
    "    [1., 1., 1.],\n",
    "    [2., 2., 2.],\n",
    "    [3., 3., 3.],\n",
    "])\n",
    "Func = teneva.DemoFuncAckley(d=X.shape[1])\n",
    "print(Func.comp(X))\n",
    "print(Func.calc(X[0]), Func.calc(X[-1]))"
   ]
  },
  {
   "cell_type": "code",
   "execution_count": 3,
   "id": "83d7980e-f0b2-437e-a507-0e8c973a997a",
   "metadata": {},
   "outputs": [
    {
     "data": {
      "image/png": "[encoded data removed]",
      "text/plain": [
       "<Figure size 720x720 with 2 Axes>"
      ]
     },
     "metadata": {
      "needs_background": "light"
     },
     "output_type": "display_data"
    }
   ],
   "source": [
    "teneva.DemoFuncAckley(d=2).plot()"
   ]
  },
  {
   "cell_type": "markdown",
   "id": "a84e7129-a5f2-4765-932d-1ad5ef7280c4",
   "metadata": {},
   "source": [
    "### Class `DemoFuncGrienwank`"
   ]
  },
  {
   "cell_type": "markdown",
   "id": "624442e9-ae78-4205-9a6f-5af7e0cf8de7",
   "metadata": {},
   "source": [
    "Grienwank function for demo and tests."
   ]
  },
  {
   "cell_type": "code",
   "execution_count": 4,
   "id": "5a163856-8d0b-40e2-a83e-6f392ef55c99",
   "metadata": {},
   "outputs": [
    {
     "name": "stdout",
     "output_type": "stream",
     "text": [
      "[0.         0.65656774 1.02923026 1.08990201]\n",
      "0.0 1.0899020113755438\n"
     ]
    }
   ],
   "source": [
    "X = np.array([\n",
    "    [0., 0., 0.],\n",
    "    [1., 1., 1.],\n",
    "    [2., 2., 2.],\n",
    "    [3., 3., 3.],\n",
    "])\n",
    "Func = teneva.DemoFuncGrienwank(d=X.shape[1])\n",
    "print(Func.comp(X))\n",
    "print(Func.calc(X[0]), Func.calc(X[-1]))"
   ]
  },
  {
   "cell_type": "code",
   "execution_count": 5,
   "id": "05977ee2-20bc-4161-986c-5dbac3d43d31",
   "metadata": {},
   "outputs": [
    {
     "data": {
      "image/png": "[encoded data removed]",
      "text/plain": [
       "<Figure size 720x720 with 2 Axes>"
      ]
     },
     "metadata": {
      "needs_background": "light"
     },
     "output_type": "display_data"
    }
   ],
   "source": [
    "teneva.DemoFuncGrienwank(d=2).plot()"
   ]
  },
  {
   "cell_type": "markdown",
   "id": "f348db68-ddf8-41e0-869c-221639ad1ba0",
   "metadata": {},
   "source": [
    "### Class `DemoFuncMichalewicz`"
   ]
  },
  {
   "cell_type": "markdown",
   "id": "0787209c-f886-45d5-84ea-e5f4b51df39e",
   "metadata": {},
   "source": [
    "Michalewicz function for demo and tests."
   ]
  },
  {
   "cell_type": "code",
   "execution_count": 6,
   "id": "c6e4a2cc-daba-4abf-8172-5fc96818c0b1",
   "metadata": {},
   "outputs": [
    {
     "name": "stdout",
     "output_type": "stream",
     "text": [
      "[-0.00000000e+00 -1.45382977e-02 -3.70232531e-01 -3.26333212e-04]\n",
      "-0.0 -0.000326333211876712\n"
     ]
    }
   ],
   "source": [
    "X = np.array([\n",
    "    [0., 0., 0.],\n",
    "    [1., 1., 1.],\n",
    "    [2., 2., 2.],\n",
    "    [3., 3., 3.],\n",
    "])\n",
    "Func = teneva.DemoFuncMichalewicz(d=X.shape[1])\n",
    "print(Func.comp(X))\n",
    "print(Func.calc(X[0]), Func.calc(X[-1]))"
   ]
  },
  {
   "cell_type": "code",
   "execution_count": 7,
   "id": "0bb07879-a80e-46a3-a4ab-37c973ca8602",
   "metadata": {},
   "outputs": [
    {
     "name": "stdout",
     "output_type": "stream",
     "text": [
      "-1.801140718473825\n"
     ]
    }
   ],
   "source": [
    "Func = teneva.DemoFuncMichalewicz(d=2)\n",
    "x = np.array([2.2, 1.57])\n",
    "print(Func.calc(x))"
   ]
  },
  {
   "cell_type": "code",
   "execution_count": 8,
   "id": "3d747f02-109a-4ffe-9b09-bb1152bdd6b8",
   "metadata": {},
   "outputs": [
    {
     "data": {
      "image/png": "[encoded data removed]",
      "text/plain": [
       "<Figure size 720x720 with 2 Axes>"
      ]
     },
     "metadata": {
      "needs_background": "light"
     },
     "output_type": "display_data"
    }
   ],
   "source": [
    "teneva.DemoFuncMichalewicz(d=2).plot()"
   ]
  },
  {
   "cell_type": "markdown",
   "id": "07679bb1-ebb9-47ea-bb37-43b24c561401",
   "metadata": {},
   "source": [
    "### Class `DemoFuncPiston`"
   ]
  },
  {
   "cell_type": "markdown",
   "id": "a3c15ca8-600a-4966-95d7-5936011246f8",
   "metadata": {},
   "source": [
    "Piston function for demo and tests."
   ]
  },
  {
   "cell_type": "code",
   "execution_count": 9,
   "id": "36e11deb-8194-4d6a-8082-2cda65256261",
   "metadata": {},
   "outputs": [
    {
     "name": "stdout",
     "output_type": "stream",
     "text": [
      "[0.46439702]\n",
      "0.4643970224718025\n"
     ]
    }
   ],
   "source": [
    "Func = teneva.DemoFuncPiston()\n",
    "X_spec = (Func.a + Func.b) / 2\n",
    "X_spec = X_spec.reshape(1, -1)\n",
    "print(Func.comp(X_spec))\n",
    "print(Func.calc(X_spec[0]))"
   ]
  },
  {
   "cell_type": "markdown",
   "id": "29ef2924-6ae1-4873-ac23-1eaf2ad70c44",
   "metadata": {},
   "source": [
    "### Class `DemoFuncRastrigin`"
   ]
  },
  {
   "cell_type": "markdown",
   "id": "46d050f5-73a6-4e9d-8892-7da9aba951ef",
   "metadata": {},
   "source": [
    "Rastrigin function for demo and tests."
   ]
  },
  {
   "cell_type": "code",
   "execution_count": 10,
   "id": "062ee6b6-1ed6-4c42-92aa-3349faf9b829",
   "metadata": {},
   "outputs": [
    {
     "name": "stdout",
     "output_type": "stream",
     "text": [
      "[ 0.  3. 12. 27.]\n",
      "0.0 27.0\n"
     ]
    }
   ],
   "source": [
    "X = np.array([\n",
    "    [0., 0., 0.],\n",
    "    [1., 1., 1.],\n",
    "    [2., 2., 2.],\n",
    "    [3., 3., 3.],\n",
    "])\n",
    "Func = teneva.DemoFuncRastrigin(d=X.shape[1])\n",
    "print(Func.comp(X))\n",
    "print(Func.calc(X[0]), Func.calc(X[-1]))"
   ]
  },
  {
   "cell_type": "code",
   "execution_count": 11,
   "id": "ed76771d-0f8d-43f6-a2fa-9e41ef6f73cb",
   "metadata": {},
   "outputs": [
    {
     "data": {
      "image/png": "[encoded data removed]",
      "text/plain": [
       "<Figure size 720x720 with 2 Axes>"
      ]
     },
     "metadata": {
      "needs_background": "light"
     },
     "output_type": "display_data"
    }
   ],
   "source": [
    "teneva.DemoFuncRastrigin(d=2).plot()"
   ]
  },
  {
   "cell_type": "markdown",
   "id": "2d5b8e31-da9d-4b48-b72e-353213657dfb",
   "metadata": {},
   "source": [
    "### Class `DemoFuncRosenbrock`"
   ]
  },
  {
   "cell_type": "markdown",
   "id": "18560a62-cfbe-4032-bb63-63f3169f370d",
   "metadata": {},
   "source": [
    "Rosenbrock function for demo and tests."
   ]
  },
  {
   "cell_type": "code",
   "execution_count": 12,
   "id": "c23419bf-7ef1-41e7-accf-87f4af58ad70",
   "metadata": {},
   "outputs": [
    {
     "name": "stdout",
     "output_type": "stream",
     "text": [
      "[2.000e+00 0.000e+00 8.020e+02 7.208e+03]\n",
      "2.0 7208.0\n"
     ]
    }
   ],
   "source": [
    "X = np.array([\n",
    "    [0., 0., 0.],\n",
    "    [1., 1., 1.],\n",
    "    [2., 2., 2.],\n",
    "    [3., 3., 3.],\n",
    "])\n",
    "Func = teneva.DemoFuncRosenbrock(d=X.shape[1])\n",
    "print(Func.comp(X))\n",
    "print(Func.calc(X[0]), Func.calc(X[-1]))"
   ]
  },
  {
   "cell_type": "code",
   "execution_count": 13,
   "id": "732ced38-a76b-45c4-9705-8095a127f682",
   "metadata": {},
   "outputs": [
    {
     "data": {
      "image/png": "[encoded data removed]",
      "text/plain": [
       "<Figure size 720x720 with 2 Axes>"
      ]
     },
     "metadata": {
      "needs_background": "light"
     },
     "output_type": "display_data"
    }
   ],
   "source": [
    "teneva.DemoFuncRosenbrock(d=2).plot()"
   ]
  },
  {
   "cell_type": "markdown",
   "id": "73ea63fd-130b-4eef-821a-24c065077e62",
   "metadata": {},
   "source": [
    "### Class `DemoFuncSchwefel`"
   ]
  },
  {
   "cell_type": "markdown",
   "id": "93e1d5c8-44a0-4f2f-8dd6-b658e2fd4ea9",
   "metadata": {},
   "source": [
    "Schwefel function for demo and tests."
   ]
  },
  {
   "cell_type": "code",
   "execution_count": 14,
   "id": "ac8b7eef-17d4-45af-99ce-82bd10705371",
   "metadata": {},
   "outputs": [
    {
     "name": "stdout",
     "output_type": "stream",
     "text": [
      "[1256.9487     1254.42428705 1251.02210432 1248.0654602 ]\n",
      "1256.9487 1248.0654601950866\n"
     ]
    }
   ],
   "source": [
    "X = np.array([\n",
    "    [0., 0., 0.],\n",
    "    [1., 1., 1.],\n",
    "    [2., 2., 2.],\n",
    "    [3., 3., 3.],\n",
    "])\n",
    "Func = teneva.DemoFuncSchwefel(d=X.shape[1])\n",
    "print(Func.comp(X))\n",
    "print(Func.calc(X[0]), Func.calc(X[-1]))"
   ]
  },
  {
   "cell_type": "code",
   "execution_count": 15,
   "id": "54f651ef-add2-4ac3-8be4-4ec80ad1172b",
   "metadata": {},
   "outputs": [
    {
     "data": {
      "image/png": "[encoded data removed]",
      "text/plain": [
       "<Figure size 720x720 with 2 Axes>"
      ]
     },
     "metadata": {
      "needs_background": "light"
     },
     "output_type": "display_data"
    }
   ],
   "source": [
    "teneva.DemoFuncSchwefel(d=2).plot()"
   ]
  },
  {
   "cell_type": "code",
   "execution_count": 18,
   "id": "f1728bfa-fa37-408a-9b05-05ad9eebd9da",
   "metadata": {},
   "outputs": [
    {
     "data": {
      "text/plain": [
       "array([0.92797577, 1.39196365, 1.85595153])"
      ]
     },
     "execution_count": 18,
     "metadata": {},
     "output_type": "execute_result"
    }
   ],
   "source": [
    "a = np.array([-2., -3., -4.])\n",
    "b = np.array([+2., +3., +4.])\n",
    "a + (b - a) * np.random.uniform()"
   ]
  },
  {
   "cell_type": "markdown",
   "id": "2ade7590-67e9-4502-b55a-0cce8953b7a9",
   "metadata": {},
   "source": [
    "---"
   ]
  }
 ],
 "metadata": {
  "kernelspec": {
   "display_name": "Python 3",
   "language": "python",
   "name": "python3"
  },
  "language_info": {
   "codemirror_mode": {
    "name": "ipython",
    "version": 3
   },
   "file_extension": ".py",
   "mimetype": "text/x-python",
   "name": "python",
   "nbconvert_exporter": "python",
   "pygments_lexer": "ipython3",
   "version": "3.8.8"
  }
 },
 "nbformat": 4,
 "nbformat_minor": 5
}

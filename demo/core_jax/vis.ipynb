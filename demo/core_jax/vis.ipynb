{
 "cells": [
  {
   "cell_type": "markdown",
   "id": "e51b9291-f33c-40ad-96ee-e2f9454ffc69",
   "metadata": {},
   "source": [
    "**Demo for `teneva.core_jax.vis`**\n",
    "\n",
    "---\n",
    "\n",
    "This module contains the functions for visualization of TT-tensors."
   ]
  },
  {
   "cell_type": "markdown",
   "id": "3896a55c-1131-44fc-b746-1433ad4ddb08",
   "metadata": {},
   "source": [
    "## Loading and importing modules"
   ]
  },
  {
   "cell_type": "code",
   "execution_count": 1,
   "id": "9941ed2c-6272-4144-8c96-4e800f0b5c49",
   "metadata": {},
   "outputs": [],
   "source": [
    "import jax\n",
    "import jax.numpy as np\n",
    "import teneva as teneva_base\n",
    "import teneva.core_jax as teneva\n",
    "from time import perf_counter as tpc\n",
    "rng = jax.random.PRNGKey(42)"
   ]
  },
  {
   "cell_type": "markdown",
   "id": "c73f6184-e339-423b-a43c-51892aa3f60b",
   "metadata": {},
   "source": [
    "## Function `show`"
   ]
  },
  {
   "cell_type": "markdown",
   "id": "1ba7aa15-86d0-4048-bca5-2ad506beee11",
   "metadata": {},
   "source": [
    "Check and display mode size and TT-rank of the given TT-tensor."
   ]
  },
  {
   "cell_type": "code",
   "execution_count": 2,
   "id": "3d370cf1-0446-4827-ad30-b191e3909af9",
   "metadata": {},
   "outputs": [
    {
     "name": "stdout",
     "output_type": "stream",
     "text": [
      "TT-tensor-jax | d =     5 | n =     4 | r =     3 |\n"
     ]
    }
   ],
   "source": [
    "# 5-dim random TT-tensor with mode size 4 and TT-rank 3:\n",
    "rng, key = jax.random.split(rng)\n",
    "Y = teneva.rand(5, 4, 3, key)\n",
    "\n",
    "# Print the resulting TT-tensor:\n",
    "teneva.show(Y)"
   ]
  },
  {
   "cell_type": "markdown",
   "id": "babf8dc1-78f2-49e9-b8b5-d099ce2e4ac0",
   "metadata": {},
   "source": [
    "If an incorrect TT-tensor is passed to the function (the correctness of the shape of all cores is explicitly checked), then an error will be generated:"
   ]
  },
  {
   "cell_type": "code",
   "execution_count": 3,
   "id": "0e80ca45-5b06-4dbb-af09-a05e1bbff92a",
   "metadata": {
    "tags": []
   },
   "outputs": [
    {
     "name": "stdout",
     "output_type": "stream",
     "text": [
      "Error : Invalid TT-tensor\n"
     ]
    }
   ],
   "source": [
    "Y = []\n",
    "\n",
    "try:\n",
    "    teneva.show(Y)\n",
    "except ValueError as e:\n",
    "    print('Error :', e)"
   ]
  },
  {
   "cell_type": "code",
   "execution_count": 4,
   "id": "27466813-d231-4800-b056-26cac8164f9b",
   "metadata": {
    "tags": []
   },
   "outputs": [
    {
     "name": "stdout",
     "output_type": "stream",
     "text": [
      "Error : Invalid TT-tensor\n"
     ]
    }
   ],
   "source": [
    "Y = [42.]\n",
    "\n",
    "try:\n",
    "    teneva.show(Y)\n",
    "except ValueError as e:\n",
    "    print('Error :', e)"
   ]
  },
  {
   "cell_type": "code",
   "execution_count": 5,
   "id": "0c883bb7-62d2-4035-b31c-3182a3f53118",
   "metadata": {
    "tags": []
   },
   "outputs": [
    {
     "name": "stdout",
     "output_type": "stream",
     "text": [
      "Error : Invalid shape of middle cores for TT-tensor\n"
     ]
    }
   ],
   "source": [
    "Y = [\n",
    "    np.zeros((1, 5, 7)),\n",
    "    np.zeros((100, 42, 7, 1)),\n",
    "    np.zeros((42, 7, 1))]\n",
    "\n",
    "try:\n",
    "    teneva.show(Y)\n",
    "except ValueError as e:\n",
    "    print('Error :', e)"
   ]
  },
  {
   "cell_type": "code",
   "execution_count": 6,
   "id": "2d96d8f2-4dbf-45ff-92b5-eaaecac17460",
   "metadata": {
    "tags": []
   },
   "outputs": [
    {
     "name": "stdout",
     "output_type": "stream",
     "text": [
      "Error : Invalid left core of TT-tensor\n"
     ]
    }
   ],
   "source": [
    "import numpy as onp # Numpy is not supported!\n",
    "\n",
    "Y = [\n",
    "    onp.zeros((1, 5, 3)),\n",
    "    onp.zeros((100, 3, 5, 3)),\n",
    "    onp.zeros((3, 5, 1))]\n",
    "\n",
    "try:\n",
    "    teneva.show(Y)\n",
    "except ValueError as e:\n",
    "    print('Error :', e)"
   ]
  },
  {
   "cell_type": "code",
   "execution_count": 8,
   "id": "7d969e72-55c3-4170-b6be-7c0a0d9704d9",
   "metadata": {
    "tags": []
   },
   "outputs": [
    {
     "name": "stdout",
     "output_type": "stream",
     "text": [
      "Error : TT-rank should be no greater than mode size\n"
     ]
    }
   ],
   "source": [
    "rng, key = jax.random.split(rng)\n",
    "Y = teneva.rand(5, 6, 7, key)\n",
    "\n",
    "try:\n",
    "    teneva.show(Y)\n",
    "except ValueError as e:\n",
    "    print('Error :', e)"
   ]
  },
  {
   "cell_type": "markdown",
   "id": "5157c326-a02c-41fc-b82d-af0d55ddfb18",
   "metadata": {},
   "source": [
    "---"
   ]
  }
 ],
 "metadata": {
  "kernelspec": {
   "display_name": "Python 3 (ipykernel)",
   "language": "python",
   "name": "python3"
  },
  "language_info": {
   "codemirror_mode": {
    "name": "ipython",
    "version": 3
   },
   "file_extension": ".py",
   "mimetype": "text/x-python",
   "name": "python",
   "nbconvert_exporter": "python",
   "pygments_lexer": "ipython3",
   "version": "3.8.16"
  }
 },
 "nbformat": 4,
 "nbformat_minor": 5
}

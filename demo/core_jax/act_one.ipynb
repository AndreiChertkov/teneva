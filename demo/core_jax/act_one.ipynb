{
 "cells": [
  {
   "cell_type": "markdown",
   "id": "2d1cd616-8baa-4143-8b82-ab9f5e529411",
   "metadata": {},
   "source": [
    "**Demo for `teneva.core_jax.act_one`**\n",
    "\n",
    "---\n",
    "\n",
    "This module contains the basic operations with one TT-tensor (Y), including \"copy\", \"get\", \"sum\", etc."
   ]
  },
  {
   "cell_type": "markdown",
   "id": "e1dc347f-8afa-418c-ac29-544189f40ec3",
   "metadata": {},
   "source": [
    "## Loading and importing modules"
   ]
  },
  {
   "cell_type": "code",
   "execution_count": 1,
   "id": "22c02559-23ab-4428-8213-20ee7725cd82",
   "metadata": {
    "tags": []
   },
   "outputs": [],
   "source": [
    "import jax\n",
    "import jax.numpy as np\n",
    "import teneva as teneva_base\n",
    "import teneva.core_jax as teneva\n",
    "from time import perf_counter as tpc\n",
    "rng = jax.random.PRNGKey(42)"
   ]
  },
  {
   "cell_type": "markdown",
   "id": "96777c3d-a17d-48f1-a1f3-b0e5d6d2e8a5",
   "metadata": {
    "jp-MarkdownHeadingCollapsed": true,
    "tags": []
   },
   "source": [
    "## Function `convert`"
   ]
  },
  {
   "cell_type": "markdown",
   "id": "1c8e6468-b6bd-4c0a-b8ce-aaee29446a0a",
   "metadata": {},
   "source": [
    "Convert TT-tensor from base (numpy) format and back."
   ]
  },
  {
   "cell_type": "code",
   "execution_count": 2,
   "id": "62ab42f6-e2e9-48bd-be87-5481fdeebb5e",
   "metadata": {
    "tags": []
   },
   "outputs": [],
   "source": [
    "import numpy as onp"
   ]
  },
  {
   "cell_type": "markdown",
   "id": "630c46a0-a261-4043-a648-b9bf8736a1c4",
   "metadata": {},
   "source": [
    "Let build jax TT-tensor and convert it to numpy (base) version:"
   ]
  },
  {
   "cell_type": "code",
   "execution_count": 3,
   "id": "c09a4fc3-e49a-41c5-ab54-a12a7792f00f",
   "metadata": {
    "tags": []
   },
   "outputs": [
    {
     "name": "stdout",
     "output_type": "stream",
     "text": [
      "TT-tensor-jax | d =     6 | n =     5 | r =     4 |\n",
      "Is jax   :  True\n",
      "Is numpy :  False\n"
     ]
    }
   ],
   "source": [
    "rng, key = jax.random.split(rng)\n",
    "Y = teneva.rand(6, 5, 4, key)\n",
    "teneva.show(Y)\n",
    "\n",
    "print('Is jax   : ', isinstance(Y[0], np.ndarray))\n",
    "print('Is numpy : ', isinstance(Y[0], onp.ndarray))"
   ]
  },
  {
   "cell_type": "code",
   "execution_count": 4,
   "id": "b065ae1f-0a62-4ba1-b9a0-1c81a6ab9ac6",
   "metadata": {
    "tags": []
   },
   "outputs": [
    {
     "name": "stdout",
     "output_type": "stream",
     "text": [
      "TT-tensor     6D : |5| |5| |5| |5| |5| |5|\n",
      "<rank>  =    4.0 :   \\4/ \\4/ \\4/ \\4/ \\4/\n",
      "Is jax   :  False\n",
      "Is numpy :  True\n"
     ]
    }
   ],
   "source": [
    "Y_base = teneva.convert(Y)\n",
    "teneva_base.show(Y_base)\n",
    "\n",
    "print('Is jax   : ', isinstance(Y_base[0], np.ndarray))\n",
    "print('Is numpy : ', isinstance(Y_base[0], onp.ndarray))"
   ]
  },
  {
   "cell_type": "markdown",
   "id": "afd67cad-d51d-4ef5-9bd3-0c982a2fc4fa",
   "metadata": {},
   "source": [
    "And now let convert the numpy (base) TT-tensor back into jax format:"
   ]
  },
  {
   "cell_type": "code",
   "execution_count": 5,
   "id": "a984580f-fa93-4092-a088-af8c05313759",
   "metadata": {
    "tags": []
   },
   "outputs": [
    {
     "name": "stdout",
     "output_type": "stream",
     "text": [
      "TT-tensor-jax | d =     6 | n =     5 | r =     4 |\n",
      "Is jax   :  True\n",
      "Is numpy :  False\n",
      "Error    :  0.0\n"
     ]
    }
   ],
   "source": [
    "Z = teneva.convert(Y_base)\n",
    "teneva.show(Z)\n",
    "\n",
    "# Check that it is the same:\n",
    "e = np.max(np.abs(teneva.full(Y) - teneva.full(Z)))\n",
    "\n",
    "print('Is jax   : ', isinstance(Z[0], np.ndarray))\n",
    "print('Is numpy : ', isinstance(Z[0], onp.ndarray))\n",
    "print('Error    : ', e)   "
   ]
  },
  {
   "cell_type": "markdown",
   "id": "200a3c92-ae1e-4ff2-a30d-39b83175dddf",
   "metadata": {
    "jp-MarkdownHeadingCollapsed": true,
    "tags": []
   },
   "source": [
    "## Function `copy`"
   ]
  },
  {
   "cell_type": "markdown",
   "id": "2bb8131e-c604-49fd-922a-a27a96855396",
   "metadata": {},
   "source": [
    "Return a copy of the given TT-tensor."
   ]
  },
  {
   "cell_type": "code",
   "execution_count": 6,
   "id": "2aaf90b0-107e-46ea-bca5-0d7661506cb1",
   "metadata": {
    "tags": []
   },
   "outputs": [
    {
     "name": "stdout",
     "output_type": "stream",
     "text": [
      "0.19049883\n",
      "0.19049883\n"
     ]
    }
   ],
   "source": [
    "# 10-dim random TT-tensor with mode size 4 and TT-rank 12:\n",
    "rng, key = jax.random.split(rng)\n",
    "Y = teneva.rand(10, 9, 7, key)\n",
    "\n",
    "Z = teneva.copy(Y) # The copy of Y  \n",
    "\n",
    "print(Y[2][1, 2, 0])\n",
    "print(Z[2][1, 2, 0])"
   ]
  },
  {
   "cell_type": "markdown",
   "id": "905d2392-9fee-422f-84bb-197b712045fd",
   "metadata": {
    "jp-MarkdownHeadingCollapsed": true,
    "tags": []
   },
   "source": [
    "## Function `get`"
   ]
  },
  {
   "cell_type": "markdown",
   "id": "b090e284-1a1b-4113-b91f-59584cefe05e",
   "metadata": {},
   "source": [
    "Compute the element with multiindex \"k\" from the TT-tensor \"Y\"."
   ]
  },
  {
   "cell_type": "code",
   "execution_count": 7,
   "id": "5d5dca4d-b617-43da-b2f5-66768eeeacbc",
   "metadata": {
    "tags": []
   },
   "outputs": [
    {
     "name": "stdout",
     "output_type": "stream",
     "text": [
      "TT-tensor-jax | d =     5 | n =     2 | r =     2 |\n",
      "Error : 4.8e-07\n"
     ]
    }
   ],
   "source": [
    "d = 5  # Dimension of the tensor\n",
    "n = 4  # Mode size of the tensor\n",
    "r = 2  # Rank of the tensor\n",
    "\n",
    "# Construct d-dim full array:\n",
    "t = np.arange(2**d) # Tensor will be 2^d\n",
    "Y0 = np.cos(t).reshape([2] * d, order='F')\n",
    "\n",
    "# Compute TT-tensor from Y0 by TT-SVD:  \n",
    "Y1 = teneva.svd(Y0, r)\n",
    "\n",
    "# Print the TT-tensor:\n",
    "teneva.show(Y1)\n",
    "\n",
    "# Select some tensor element and compute the value:\n",
    "k = np.array([0, 1, 0, 1, 0])\n",
    "y1 = teneva.get(Y1, k)\n",
    "\n",
    "# Compute the same element of the original tensor:\n",
    "y0 = Y0[tuple(k)]\n",
    "\n",
    "# Compare values:\n",
    "e = np.abs(y1-y0)\n",
    "print(f'Error : {e:7.1e}')"
   ]
  },
  {
   "cell_type": "markdown",
   "id": "f5318e41-0369-4cc4-835a-d4435e7bdf62",
   "metadata": {
    "tags": []
   },
   "source": [
    "Let compare this function with numpy realization:"
   ]
  },
  {
   "cell_type": "code",
   "execution_count": 8,
   "id": "f5caa57d-adb4-48c9-b4cf-385fd9bc96de",
   "metadata": {
    "tags": []
   },
   "outputs": [
    {
     "name": "stdout",
     "output_type": "stream",
     "text": [
      "-0.83907104\n",
      "-0.8390711\n"
     ]
    }
   ],
   "source": [
    "Y1_base = teneva.convert(Y1) # Convert tensor to numpy version\n",
    "y1_base = teneva_base.get(Y1_base, k)\n",
    "\n",
    "print(y1)\n",
    "print(y1_base)"
   ]
  },
  {
   "cell_type": "markdown",
   "id": "2ca906df-570b-44bb-ba08-dbf8e0fc5bc4",
   "metadata": {
    "jp-MarkdownHeadingCollapsed": true,
    "tags": []
   },
   "source": [
    "## Function `get_many`"
   ]
  },
  {
   "cell_type": "markdown",
   "id": "209f5bfa-1d52-489f-91c4-65fd1233b2f7",
   "metadata": {},
   "source": [
    "Compute the elements of the TT-tensor on many multi-indices."
   ]
  },
  {
   "cell_type": "code",
   "execution_count": 9,
   "id": "86ecd198-5f76-4d4e-ab90-61a731abd48e",
   "metadata": {
    "tags": []
   },
   "outputs": [
    {
     "name": "stdout",
     "output_type": "stream",
     "text": [
      "TT-tensor-jax | d =     5 | n =     2 | r =     2 |\n",
      "Error : 6.6e-07\n"
     ]
    }
   ],
   "source": [
    "d = 5  # Dimension of the tensor\n",
    "n = 4  # Mode size of the tensor\n",
    "r = 2  # Rank of the tensor\n",
    "\n",
    "# Construct d-dim full array:\n",
    "t = np.arange(2**d) # Tensor will be 2^d\n",
    "Y0 = np.cos(t).reshape([2] * d, order='F')\n",
    "\n",
    "# Compute TT-tensor from Y0 by TT-SVD:  \n",
    "Y1 = teneva.svd(Y0, r)\n",
    "\n",
    "# Print the TT-tensor:\n",
    "teneva.show(Y1)\n",
    "\n",
    "# Select some tensor element and compute the value:\n",
    "K = np.array([\n",
    "    [0, 1, 0, 1, 0],\n",
    "    [0, 0, 0, 0, 0],\n",
    "    [1, 1, 1, 1, 1],\n",
    "])\n",
    "y1 = teneva.get_many(Y1, K)\n",
    "\n",
    "# Compute the same elements of the original tensor:\n",
    "y0 = np.array([Y0[tuple(k)] for k in K])\n",
    "\n",
    "# Compare values:\n",
    "e = np.max(np.abs(y1-y0))\n",
    "print(f'Error : {e:7.1e}')"
   ]
  },
  {
   "cell_type": "markdown",
   "id": "b592303f-a7e3-463d-afab-e3d265e9e6f7",
   "metadata": {},
   "source": [
    "We can compare the calculation time using the base function (\"get\") with \"jax.vmap\" and the function \"get_many\":"
   ]
  },
  {
   "cell_type": "code",
   "execution_count": 10,
   "id": "5068b019-9787-46d3-a2de-9f3216abf231",
   "metadata": {
    "tags": []
   },
   "outputs": [
    {
     "name": "stdout",
     "output_type": "stream",
     "text": [
      "m: 1.0e+00 | T1 :   0.0661 | T2 :   0.0627\n",
      "m: 1.0e+01 | T1 :   0.0935 | T2 :   0.0884\n",
      "m: 1.0e+02 | T1 :   0.0928 | T2 :   0.1028\n",
      "m: 1.0e+03 | T1 :   0.1571 | T2 :   0.1447\n",
      "m: 1.0e+04 | T1 :   0.4959 | T2 :   0.5186\n"
     ]
    }
   ],
   "source": [
    "d = 1000   # Dimension of the tensor\n",
    "n = 100    # Mode size of the tensor\n",
    "r = 10     # Rank of the tensor\n",
    "\n",
    "rng, key = jax.random.split(rng)\n",
    "Y = teneva.rand(d, n, r, key)\n",
    "\n",
    "get1 = jax.jit(jax.vmap(teneva.get, (None, 0)))\n",
    "get2 = jax.jit(teneva.get_many)\n",
    "\n",
    "for m in [1, 1.E+1, 1.E+2, 1.E+3, 1.E+4]:\n",
    "    # TODO: remove teneva_base here\n",
    "    I = np.array(teneva_base.sample_lhs([n]*d, int(m)))\n",
    "\n",
    "    t1 = tpc()\n",
    "    y1 = get1(Y, I)\n",
    "    t1 = tpc() - t1\n",
    "\n",
    "    t2 = tpc()\n",
    "    y2 = get2(Y, I)\n",
    "    t2 = tpc() - t2\n",
    "\n",
    "    print(f'm: {m:-7.1e} | T1 : {t1:-8.4f} | T2 : {t2:-8.4f}')"
   ]
  },
  {
   "cell_type": "markdown",
   "id": "663a28fe-257c-462f-a924-416d102a0d58",
   "metadata": {
    "jp-MarkdownHeadingCollapsed": true,
    "tags": []
   },
   "source": [
    "## Function `get_stab`"
   ]
  },
  {
   "cell_type": "markdown",
   "id": "024e8089-1932-43c5-a161-6bfcb8d03ab3",
   "metadata": {},
   "source": [
    "Compute the element with multiindex \"k\" from the TT-tensor \"Y\" with stabilization factor."
   ]
  },
  {
   "cell_type": "code",
   "execution_count": 11,
   "id": "bc409b23-b050-4558-9e23-6cff9947a5aa",
   "metadata": {
    "tags": []
   },
   "outputs": [
    {
     "name": "stdout",
     "output_type": "stream",
     "text": [
      "TT-tensor-jax | d =     5 | n =     2 | r =     2 |\n",
      "-1.6781421\n",
      "[ 0.  0.  0. -1.  0.]\n",
      "-0.83907104\n",
      "Error : 4.8e-07\n"
     ]
    }
   ],
   "source": [
    "d = 5  # Dimension of the tensor\n",
    "n = 4  # Mode size of the tensor\n",
    "r = 2  # Rank of the tensor\n",
    "\n",
    "# Construct d-dim full array:\n",
    "t = np.arange(2**d) # Tensor will be 2^d\n",
    "Y0 = np.cos(t).reshape([2] * d, order='F')\n",
    "\n",
    "# Compute TT-tensor from Y0 by TT-SVD:  \n",
    "Y1 = teneva.svd(Y0, r)\n",
    "\n",
    "# Print the TT-tensor:\n",
    "teneva.show(Y1)\n",
    "\n",
    "# Select some tensor element and compute the value:\n",
    "k = np.array([0, 1, 0, 1, 0])\n",
    "y1, p1 = teneva.get_stab(Y1, k)\n",
    "print(y1)\n",
    "print(p1)\n",
    "\n",
    "# Reconstruct the value:\n",
    "y1 = y1 * 2.**np.sum(p1)\n",
    "print(y1)\n",
    "\n",
    "# Compute the same element of the original tensor:\n",
    "y0 = Y0[tuple(k)]\n",
    "\n",
    "# Compare values:\n",
    "e = np.abs(y1-y0)\n",
    "print(f'Error : {e:7.1e}')"
   ]
  },
  {
   "cell_type": "markdown",
   "id": "cd33b4f4-bb22-46c4-8aef-4a64ec3ac3f1",
   "metadata": {},
   "source": [
    "We can check it also for big random tensor:"
   ]
  },
  {
   "cell_type": "code",
   "execution_count": 12,
   "id": "f539c5aa-c878-47a4-9c73-f64bc3983aa4",
   "metadata": {
    "tags": []
   },
   "outputs": [
    {
     "name": "stdout",
     "output_type": "stream",
     "text": [
      "-1.1911157 792.0\n"
     ]
    }
   ],
   "source": [
    "rng, key = jax.random.split(rng)\n",
    "Y = teneva.rand(d=1000, n=100, r=10, key=key)\n",
    "k = np.zeros(1000, dtype=np.int32)\n",
    "y, p = teneva.get_stab(Y, k)\n",
    "print(y, np.sum(p))"
   ]
  },
  {
   "cell_type": "markdown",
   "id": "7b61ad3b-7794-4a62-aaa5-3fb49a9c3d37",
   "metadata": {
    "jp-MarkdownHeadingCollapsed": true,
    "tags": []
   },
   "source": [
    "## Function `grad`"
   ]
  },
  {
   "cell_type": "markdown",
   "id": "9d5f9021-86fd-469e-b72f-426e6d9e407c",
   "metadata": {},
   "source": [
    "Compute gradients of the TT-tensor for given multi-index."
   ]
  },
  {
   "cell_type": "code",
   "execution_count": 13,
   "id": "ad3c8096-0f05-4307-bbdf-581bcb936490",
   "metadata": {
    "tags": []
   },
   "outputs": [],
   "source": [
    "l = 1.E-4   # Learning rate\n",
    "d = 5       # Dimension of the tensor\n",
    "n = 4       # Mode size of the tensor\n",
    "r = 2       # Rank of the tensor\n",
    "\n",
    "rng, key = jax.random.split(rng)\n",
    "Y = teneva.rand(d, n, r, key=key)\n",
    "\n",
    "# Targer multi-index for gradient:\n",
    "i = np.array([0, 1, 2, 3, 0])\n",
    "\n",
    "y = teneva.get(Y, i)\n",
    "dY = teneva.grad(Y, i)"
   ]
  },
  {
   "cell_type": "markdown",
   "id": "ef4bc0df-7e2c-4b48-ad7d-c6f28c17ae90",
   "metadata": {},
   "source": [
    "Let compare this function with numpy (base) realization:"
   ]
  },
  {
   "cell_type": "code",
   "execution_count": 14,
   "id": "424b6d1a-4b00-4833-9d2b-34f1677a53fb",
   "metadata": {
    "tags": []
   },
   "outputs": [
    {
     "name": "stdout",
     "output_type": "stream",
     "text": [
      "Error :  5.9604645e-08\n"
     ]
    }
   ],
   "source": [
    "Y_base = teneva.convert(Y) # Convert it to numpy version\n",
    "y_base, dY_base = teneva_base.get_and_grad(Y_base, i)\n",
    "dY_base = [G[:, k, :] for G, k in zip(dY_base, i)]\n",
    "dY_base = [dY_base[0], np.array(dY_base[1:-1]), dY_base[-1]]\n",
    "print('Error : ', np.max(np.array([np.max(np.abs(g-g_base)) for g, g_base in zip(dY, dY_base)])))"
   ]
  },
  {
   "cell_type": "markdown",
   "id": "a1efb684-ee92-4f0a-978e-68848edcd9ea",
   "metadata": {},
   "source": [
    "Let apply the gradient:"
   ]
  },
  {
   "cell_type": "code",
   "execution_count": 15,
   "id": "2e9dbf4c-2eb6-488c-8f72-c0bbc724201e",
   "metadata": {
    "tags": []
   },
   "outputs": [
    {
     "name": "stdout",
     "output_type": "stream",
     "text": [
      "Old value at multi-index :  2.11916e-01\n",
      "New value at multi-index :  2.11819e-01\n",
      "Difference for tensors   :      1.7e-04\n"
     ]
    }
   ],
   "source": [
    "Z = teneva.copy(Y) # TODO\n",
    "Z[0] = Z[0].at[:, i[0], :].add(-l * dY[0])\n",
    "for k in range(1, d-1):\n",
    "    Z[1] = Z[1].at[k-1, :, i[k], :].add(-l * dY[1][k-1])\n",
    "Z[2] = Z[2].at[:, i[d-1], :].add(-l * dY[2])\n",
    "\n",
    "z = teneva.get(Z, i)\n",
    "e = np.max(np.abs(teneva.full(Y) - teneva.full(Z)))\n",
    "\n",
    "print(f'Old value at multi-index : {y:-12.5e}')\n",
    "print(f'New value at multi-index : {z:-12.5e}')\n",
    "print(f'Difference for tensors   : {e:-12.1e}')"
   ]
  },
  {
   "cell_type": "markdown",
   "id": "b340976b-51db-44f1-876e-f6b084525970",
   "metadata": {
    "jp-MarkdownHeadingCollapsed": true,
    "tags": []
   },
   "source": [
    "## Function `interface_ltr`"
   ]
  },
  {
   "cell_type": "markdown",
   "id": "8f2d3e99-b974-432f-8559-4f6711e5e1ee",
   "metadata": {},
   "source": [
    "Generate the left to right interface vectors for the TT-tensor Y."
   ]
  },
  {
   "cell_type": "code",
   "execution_count": 16,
   "id": "f10604e8-56a4-452e-b706-293c5f6f845a",
   "metadata": {
    "tags": []
   },
   "outputs": [
    {
     "name": "stdout",
     "output_type": "stream",
     "text": [
      "[-0.46863997  0.5238826  -0.04652507 -0.7097598 ]\n",
      "[-0.3369044  -0.22432232  0.8403437  -0.3605514 ]\n",
      "[ 0.20289943  0.80434436  0.54934067 -0.10043337]\n",
      "[-0.7899511  -0.04141854  0.5076321  -0.34142572]\n",
      "[ 0.0697167   0.09638917 -0.20285943 -0.9719551 ]\n",
      "[ 0.37379828 -0.00510346 -0.5085104  -0.7756713 ]\n",
      "[ 0.47192457 -0.48247743  0.6201052  -0.3999652 ]\n"
     ]
    }
   ],
   "source": [
    "rng, key = jax.random.split(rng)\n",
    "Y = teneva.rand(d=8, n=5, r=4, key=key)\n",
    "zm, zr = teneva.interface_ltr(Y)\n",
    "\n",
    "for z in zm:\n",
    "    print(z)\n",
    "print(zr)"
   ]
  },
  {
   "cell_type": "markdown",
   "id": "849a8b39-a691-4e9b-b11b-3d2e3edabed4",
   "metadata": {},
   "source": [
    "Let compare this function with numpy (base) realization:"
   ]
  },
  {
   "cell_type": "code",
   "execution_count": 17,
   "id": "3ab0fecb-c916-4821-9d8b-8a7c1f7da615",
   "metadata": {
    "tags": []
   },
   "outputs": [
    {
     "name": "stdout",
     "output_type": "stream",
     "text": [
      "[1.]\n",
      "[-0.46863996  0.52388265 -0.04652507 -0.7097598 ]\n",
      "[-0.33690442 -0.22432231  0.84034375 -0.36055138]\n",
      "[ 0.20289945  0.80434431  0.54934069 -0.10043337]\n",
      "[-0.7899511  -0.04141856  0.50763206 -0.34142562]\n",
      "[ 0.06971664  0.09638914 -0.2028594  -0.97195514]\n",
      "[ 0.37379827 -0.00510348 -0.50851045 -0.77567128]\n",
      "[ 0.47192461 -0.48247745  0.62010522 -0.39996525]\n",
      "[1.]\n"
     ]
    }
   ],
   "source": [
    "Y_base = teneva.convert(Y) # Convert it to numpy version\n",
    "phi_l = teneva_base.interface(Y_base, ltr=True)\n",
    "for phi in phi_l:\n",
    "    print(phi)"
   ]
  },
  {
   "cell_type": "markdown",
   "id": "cca92d2f-a671-424d-baa2-3b5db5ccb98b",
   "metadata": {
    "jp-MarkdownHeadingCollapsed": true,
    "tags": []
   },
   "source": [
    "## Function `interface_rtl`"
   ]
  },
  {
   "cell_type": "markdown",
   "id": "e8639f7b-6975-4341-a451-5de21ac818d1",
   "metadata": {},
   "source": [
    "Generate the right to left interface vectors for the TT-tensor Y."
   ]
  },
  {
   "cell_type": "code",
   "execution_count": 18,
   "id": "aa788e59-75e3-497e-81ef-d5e3dcfbe62d",
   "metadata": {
    "tags": []
   },
   "outputs": [
    {
     "name": "stdout",
     "output_type": "stream",
     "text": [
      "[ 0.26914886  0.32372084  0.86451733 -0.27454227]\n",
      "[-0.44757462  0.32706285  0.83166337 -0.03229539]\n",
      "[ 0.07637926 -0.8496607   0.2919713  -0.4324299 ]\n",
      "[ 0.57197976 -0.48798612 -0.15620424  0.6405536 ]\n",
      "[-0.31179526 -0.57576454 -0.01529724 -0.7556752 ]\n",
      "[ 0.2509977   0.8163165   0.04465267 -0.51829886]\n",
      "[ 0.49726936  0.15992026 -0.22335434  0.822959  ]\n"
     ]
    }
   ],
   "source": [
    "rng, key = jax.random.split(rng)\n",
    "Y = teneva.rand(d=8, n=5, r=4, key=key)\n",
    "zl, zm = teneva.interface_rtl(Y)\n",
    "\n",
    "print(zl)\n",
    "for z in zm:\n",
    "    print(z)"
   ]
  },
  {
   "cell_type": "markdown",
   "id": "29abbb63-dc08-4b64-906b-c49b4ed60844",
   "metadata": {},
   "source": [
    "Let compare this function with numpy (base) realization:"
   ]
  },
  {
   "cell_type": "code",
   "execution_count": 19,
   "id": "784757fc-91dc-4643-87b8-8c60081d498b",
   "metadata": {
    "tags": []
   },
   "outputs": [
    {
     "name": "stdout",
     "output_type": "stream",
     "text": [
      "[-1.]\n",
      "[ 0.26914881  0.32372084  0.86451738 -0.27454224]\n",
      "[-0.44757464  0.32706281  0.83166331 -0.03229539]\n",
      "[ 0.07637926 -0.84966072  0.29197133 -0.43242989]\n",
      "[ 0.57197979 -0.48798613 -0.15620422  0.64055359]\n",
      "[-0.31179527 -0.57576449 -0.01529725 -0.75567517]\n",
      "[ 0.2509977   0.81631648  0.04465267 -0.51829886]\n",
      "[ 0.49726936  0.15992026 -0.22335435  0.82295901]\n",
      "[1.]\n"
     ]
    }
   ],
   "source": [
    "Y_base = teneva.convert(Y) # Convert it to numpy version\n",
    "phi_r = teneva_base.interface(Y_base, ltr=False)\n",
    "for phi in phi_r:\n",
    "    print(phi)"
   ]
  },
  {
   "cell_type": "markdown",
   "id": "594d7eed-ec1c-4531-8555-e5b3b6b85cef",
   "metadata": {
    "jp-MarkdownHeadingCollapsed": true,
    "tags": []
   },
   "source": [
    "## Function `mean`"
   ]
  },
  {
   "cell_type": "markdown",
   "id": "d62cd4a0-10a1-4cd4-9817-658826ee3d23",
   "metadata": {},
   "source": [
    "Compute mean value of the TT-tensor."
   ]
  },
  {
   "cell_type": "code",
   "execution_count": 20,
   "id": "8d66bf89-cc47-41ad-9e73-c831e33a161f",
   "metadata": {
    "tags": []
   },
   "outputs": [
    {
     "name": "stdout",
     "output_type": "stream",
     "text": [
      "Error     : 1.86e-09\n"
     ]
    }
   ],
   "source": [
    "d = 6     # Dimension of the tensor\n",
    "n = 5     # Mode size of the tensor\n",
    "r = 4     # Rank of the tensor\n",
    "\n",
    "rng, key = jax.random.split(rng)\n",
    "Y = teneva.rand(d, n, r, key)\n",
    "\n",
    "m = teneva.mean(Y)\n",
    "\n",
    "# Compute tensor in the full format to check the result:\n",
    "Y_full = teneva.full(Y)\n",
    "m_full = np.mean(Y_full)\n",
    "e = abs(m - m_full)\n",
    "print(f'Error     : {e:-8.2e}')"
   ]
  },
  {
   "cell_type": "markdown",
   "id": "c010ed92-54c3-4205-be70-396a95e4223c",
   "metadata": {},
   "source": [
    "We can check it also for big random tensor:"
   ]
  },
  {
   "cell_type": "code",
   "execution_count": 21,
   "id": "b0ed5b61-f472-49ae-94d4-b93b8c3c295c",
   "metadata": {
    "tags": []
   },
   "outputs": [
    {
     "data": {
      "text/plain": [
       "Array(0., dtype=float32)"
      ]
     },
     "execution_count": 21,
     "metadata": {},
     "output_type": "execute_result"
    }
   ],
   "source": [
    "rng, key = jax.random.split(rng)\n",
    "Y = teneva.rand(d=1000, n=100, r=10, key=key)\n",
    "teneva.mean(Y)"
   ]
  },
  {
   "cell_type": "markdown",
   "id": "b3dd5f46-5dda-42ea-9322-884a3cb1cec6",
   "metadata": {
    "jp-MarkdownHeadingCollapsed": true,
    "tags": []
   },
   "source": [
    "## Function `mean_stab`"
   ]
  },
  {
   "cell_type": "markdown",
   "id": "979ee56d-e0ef-4912-86b3-95fffae1b667",
   "metadata": {},
   "source": [
    "Compute mean value of the TT-tensor with stabilization factor."
   ]
  },
  {
   "cell_type": "code",
   "execution_count": 22,
   "id": "bd284ab8-f2f0-4189-a57b-642a8349500d",
   "metadata": {
    "tags": []
   },
   "outputs": [
    {
     "name": "stdout",
     "output_type": "stream",
     "text": [
      "1.4634157\n",
      "[-2. -1. -1. -1. -2. -1.]\n",
      "0.0057164677\n",
      "Error     : 1.68e-08\n"
     ]
    }
   ],
   "source": [
    "d = 6     # Dimension of the tensor\n",
    "n = 5     # Mode size of the tensor\n",
    "r = 4     # Rank of the tensor\n",
    "\n",
    "rng, key = jax.random.split(rng)\n",
    "Y = teneva.rand(d, n, r, key)\n",
    "\n",
    "m, p = teneva.mean_stab(Y)\n",
    "print(m)\n",
    "print(p)\n",
    "\n",
    "# Reconstruct the value:\n",
    "m = m * 2.**np.sum(p)\n",
    "print(m)\n",
    "\n",
    "# Compute tensor in the full format to check the result:\n",
    "Y_full = teneva.full(Y)\n",
    "m_full = np.mean(Y_full)\n",
    "e = abs(m - m_full)\n",
    "print(f'Error     : {e:-8.2e}')"
   ]
  },
  {
   "cell_type": "markdown",
   "id": "76aa296b-509f-4e96-b483-625816cef3b5",
   "metadata": {},
   "source": [
    "We can check it also for big random tensor:"
   ]
  },
  {
   "cell_type": "code",
   "execution_count": 23,
   "id": "0c695920-8ba7-4b04-a3ac-b0f282b83241",
   "metadata": {
    "tags": []
   },
   "outputs": [
    {
     "name": "stdout",
     "output_type": "stream",
     "text": [
      "1.6542045 -2525.0\n"
     ]
    }
   ],
   "source": [
    "rng, key = jax.random.split(rng)\n",
    "Y = teneva.rand(d=1000, n=100, r=10, key=key)\n",
    "m, p = teneva.mean_stab(Y)\n",
    "print(m, np.sum(p))"
   ]
  },
  {
   "cell_type": "markdown",
   "id": "a397ba46-3b10-4494-9b1f-b743c1e63780",
   "metadata": {},
   "source": [
    "## Function `norm`"
   ]
  },
  {
   "cell_type": "markdown",
   "id": "87e9128d-10a4-4122-8ea3-72d35c0bcc9a",
   "metadata": {},
   "source": [
    "Compute Frobenius norm of the given TT-tensor."
   ]
  },
  {
   "cell_type": "code",
   "execution_count": 24,
   "id": "5ebc776c-9e2b-4351-bb6c-a92091678c6e",
   "metadata": {
    "tags": []
   },
   "outputs": [],
   "source": [
    "d = 5   # Dimension of the tensor\n",
    "n = 6   # Mode size of the tensor\n",
    "r = 3   # TT-rank of the tensor"
   ]
  },
  {
   "cell_type": "code",
   "execution_count": 25,
   "id": "f048e409-6327-4147-bb86-0abb31796c78",
   "metadata": {
    "tags": []
   },
   "outputs": [],
   "source": [
    "rng, key = jax.random.split(rng)\n",
    "Y = teneva.rand(d, n, r, key)"
   ]
  },
  {
   "cell_type": "code",
   "execution_count": 26,
   "id": "1f092bc8-2f16-4517-a0f2-5cc2bc37a2b8",
   "metadata": {
    "tags": []
   },
   "outputs": [
    {
     "name": "stdout",
     "output_type": "stream",
     "text": [
      "[34.549458]\n"
     ]
    }
   ],
   "source": [
    "v = teneva.norm(Y)  # Compute the Frobenius norm\n",
    "print(v)            # Print the resulting value"
   ]
  },
  {
   "cell_type": "markdown",
   "id": "5018f631-a343-4dc1-842c-c0391f4d1e7c",
   "metadata": {},
   "source": [
    "Let check the result:"
   ]
  },
  {
   "cell_type": "code",
   "execution_count": 27,
   "id": "37f7de75-d195-430d-a785-38300212d182",
   "metadata": {
    "tags": []
   },
   "outputs": [
    {
     "name": "stdout",
     "output_type": "stream",
     "text": [
      "34.549458\n",
      "Error     : 0.00e+00\n"
     ]
    }
   ],
   "source": [
    "Y_full = teneva.full(Y)\n",
    "\n",
    "v_full = np.linalg.norm(Y_full)\n",
    "print(v_full)\n",
    "\n",
    "e = abs((v - v_full)/v_full).item()\n",
    "print(f'Error     : {e:-8.2e}') "
   ]
  },
  {
   "cell_type": "markdown",
   "id": "c726e371-dd03-4b0a-a88a-acf2b8715c57",
   "metadata": {},
   "source": [
    "## Function `norm_stab`"
   ]
  },
  {
   "cell_type": "markdown",
   "id": "6ef8ee06-eee5-4979-8dcb-28531943b2ce",
   "metadata": {},
   "source": [
    "Compute Frobenius norm of the given TT-tensor with stabilization factor."
   ]
  },
  {
   "cell_type": "code",
   "execution_count": 28,
   "id": "3089f854-4e73-4da8-a6ce-d0a59e1974f5",
   "metadata": {
    "tags": []
   },
   "outputs": [],
   "source": [
    "d = 5   # Dimension of the tensor\n",
    "n = 6   # Mode size of the tensor\n",
    "r = 3   # Rank of the tensor"
   ]
  },
  {
   "cell_type": "code",
   "execution_count": 29,
   "id": "29da08cf-c82f-4a8e-9e07-bc51e36f67e9",
   "metadata": {
    "tags": []
   },
   "outputs": [],
   "source": [
    "rng, key = jax.random.split(rng)\n",
    "Y = teneva.rand(d, n, r, key)"
   ]
  },
  {
   "cell_type": "code",
   "execution_count": 30,
   "id": "3f9a351b-50b6-416d-9202-319c01fcafa6",
   "metadata": {
    "tags": []
   },
   "outputs": [
    {
     "name": "stdout",
     "output_type": "stream",
     "text": [
      "[1.3547028]\n",
      "[0.  1.5 1.  1.5 1. ]\n",
      "[43.35049]\n"
     ]
    }
   ],
   "source": [
    "v, p = teneva.norm_stab(Y) # Compute the Frobenius norm\n",
    "print(v) # Print the scaled value\n",
    "print(p) # Print the scale factors\n",
    "\n",
    "v = v * 2**np.sum(p) # Resulting value\n",
    "print(v)   # Print the resulting value"
   ]
  },
  {
   "cell_type": "markdown",
   "id": "cc825ac7-4836-4557-b488-745d2c9bb4c7",
   "metadata": {},
   "source": [
    "Let check the result:"
   ]
  },
  {
   "cell_type": "code",
   "execution_count": 31,
   "id": "a2de8b08-d4a4-4f66-a251-3a28bb9d1fca",
   "metadata": {
    "tags": []
   },
   "outputs": [
    {
     "name": "stdout",
     "output_type": "stream",
     "text": [
      "43.350483\n",
      "Error     : 1.76e-07\n"
     ]
    }
   ],
   "source": [
    "Y_full = teneva.full(Y)\n",
    "\n",
    "v_full = np.linalg.norm(Y_full)\n",
    "print(v_full)\n",
    "\n",
    "e = abs((v - v_full)/v_full).item()\n",
    "print(f'Error     : {e:-8.2e}') "
   ]
  },
  {
   "cell_type": "markdown",
   "id": "31599d04-9c79-47a9-a23c-9110e94f0ba1",
   "metadata": {
    "jp-MarkdownHeadingCollapsed": true,
    "tags": []
   },
   "source": [
    "## Function `sum`"
   ]
  },
  {
   "cell_type": "markdown",
   "id": "f1273f98-0c04-4d2a-8d93-ebb7ee1f561a",
   "metadata": {},
   "source": [
    "Compute sum of all tensor elements."
   ]
  },
  {
   "cell_type": "code",
   "execution_count": 32,
   "id": "c1ec3479-058f-4f06-b554-2ebf4d71741b",
   "metadata": {
    "tags": []
   },
   "outputs": [
    {
     "name": "stdout",
     "output_type": "stream",
     "text": [
      "Error     : 1.22e-04\n"
     ]
    }
   ],
   "source": [
    "d = 6     # Dimension of the tensor\n",
    "n = 5     # Mode size of the tensor\n",
    "r = 4     # Rank of the tensor\n",
    "\n",
    "rng, key = jax.random.split(rng)\n",
    "Y = teneva.rand(d, n, r, key)\n",
    "\n",
    "m = teneva.sum(Y)\n",
    "\n",
    "# Compute tensor in the full format to check the result:\n",
    "Y_full = teneva.full(Y)\n",
    "m_full = np.sum(Y_full)\n",
    "e = abs(m - m_full)\n",
    "print(f'Error     : {e:-8.2e}')"
   ]
  },
  {
   "cell_type": "markdown",
   "id": "4a7ce835-3bec-448c-b96b-ab981a85dcd3",
   "metadata": {},
   "source": [
    "We can check it also for big random tensor:"
   ]
  },
  {
   "cell_type": "code",
   "execution_count": 33,
   "id": "60d80f70-6fdf-4ddb-9c22-8f8e02a54369",
   "metadata": {
    "tags": []
   },
   "outputs": [
    {
     "data": {
      "text/plain": [
       "Array(0., dtype=float32)"
      ]
     },
     "execution_count": 33,
     "metadata": {},
     "output_type": "execute_result"
    }
   ],
   "source": [
    "rng, key = jax.random.split(rng)\n",
    "Y = teneva.rand(d=1000, n=100, r=10, key=key, a=-0.01, b=+0.01)\n",
    "teneva.sum(Y)"
   ]
  },
  {
   "cell_type": "markdown",
   "id": "51b07c76-09d5-4545-8d83-676ec8e431c8",
   "metadata": {
    "tags": []
   },
   "source": [
    "## Function `sum_stab`"
   ]
  },
  {
   "cell_type": "markdown",
   "id": "5240f397-fcc4-403f-9848-24e404bca3c5",
   "metadata": {},
   "source": [
    "Compute sum of all tensor elements with stabilization factor."
   ]
  },
  {
   "cell_type": "code",
   "execution_count": 34,
   "id": "880b337a-6c42-489f-bcb3-48e2a43da854",
   "metadata": {
    "tags": []
   },
   "outputs": [
    {
     "name": "stdout",
     "output_type": "stream",
     "text": [
      "-1.0640556\n",
      "[ 1.  1.  0. -1.  2.  2.]\n",
      "-34.049778\n",
      "Error     : 2.56e-04\n"
     ]
    }
   ],
   "source": [
    "d = 6     # Dimension of the tensor\n",
    "n = 5     # Mode size of the tensor\n",
    "r = 4     # Rank of the tensor\n",
    "\n",
    "rng, key = jax.random.split(rng)\n",
    "Y = teneva.rand(d, n, r, key)\n",
    "\n",
    "m, p = teneva.sum_stab(Y)\n",
    "print(m)\n",
    "print(p)\n",
    "\n",
    "# Reconstruct the value:\n",
    "m = m * 2.**np.sum(p)\n",
    "print(m)\n",
    "\n",
    "# Compute tensor in the full format to check the result:\n",
    "Y_full = teneva.full(Y)\n",
    "m_full = np.sum(Y_full)\n",
    "e = abs(m - m_full)\n",
    "print(f'Error     : {e:-8.2e}')"
   ]
  },
  {
   "cell_type": "markdown",
   "id": "0a9329a9-ebfe-46c4-8bc4-05c639ac87c5",
   "metadata": {},
   "source": [
    "We can check it also for big random tensor:"
   ]
  },
  {
   "cell_type": "code",
   "execution_count": 35,
   "id": "3b934e67-d76b-4461-9a7a-ded4a4bd5ec8",
   "metadata": {
    "tags": []
   },
   "outputs": [
    {
     "name": "stdout",
     "output_type": "stream",
     "text": [
      "-1.3892597 -2537.0\n"
     ]
    }
   ],
   "source": [
    "rng, key = jax.random.split(rng)\n",
    "Y = teneva.rand(d=1000, n=100, r=10, key=key, a=-0.01, b=+0.01)\n",
    "m, p = teneva.sum_stab(Y)\n",
    "print(m, np.sum(p))"
   ]
  },
  {
   "cell_type": "markdown",
   "id": "2e05c469-385b-46dc-b0b9-fef87d4bf047",
   "metadata": {},
   "source": [
    "---"
   ]
  }
 ],
 "metadata": {
  "kernelspec": {
   "display_name": "Python 3 (ipykernel)",
   "language": "python",
   "name": "python3"
  },
  "language_info": {
   "codemirror_mode": {
    "name": "ipython",
    "version": 3
   },
   "file_extension": ".py",
   "mimetype": "text/x-python",
   "name": "python",
   "nbconvert_exporter": "python",
   "pygments_lexer": "ipython3",
   "version": "3.8.16"
  }
 },
 "nbformat": 4,
 "nbformat_minor": 5
}

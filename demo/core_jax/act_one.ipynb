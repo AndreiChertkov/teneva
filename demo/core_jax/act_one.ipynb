{
 "cells": [
  {
   "cell_type": "markdown",
   "id": "2d1cd616-8baa-4143-8b82-ab9f5e529411",
   "metadata": {},
   "source": [
    "**Demo for `teneva.core_jax.act_one`**\n",
    "\n",
    "---\n",
    "\n",
    "This module contains the basic operations with one TT-tensor (Y), including \"copy\", \"get\", \"sum\", etc."
   ]
  },
  {
   "cell_type": "markdown",
   "id": "e1dc347f-8afa-418c-ac29-544189f40ec3",
   "metadata": {},
   "source": [
    "## Loading and importing modules"
   ]
  },
  {
   "cell_type": "code",
   "execution_count": 1,
   "id": "22c02559-23ab-4428-8213-20ee7725cd82",
   "metadata": {
    "tags": []
   },
   "outputs": [],
   "source": [
    "import jax\n",
    "import jax.numpy as np\n",
    "import teneva as teneva_base\n",
    "import teneva.core_jax as teneva\n",
    "from time import perf_counter as tpc\n",
    "rng = jax.random.PRNGKey(42)"
   ]
  },
  {
   "cell_type": "markdown",
   "id": "200a3c92-ae1e-4ff2-a30d-39b83175dddf",
   "metadata": {
    "tags": []
   },
   "source": [
    "## Function `copy`"
   ]
  },
  {
   "cell_type": "markdown",
   "id": "2bb8131e-c604-49fd-922a-a27a96855396",
   "metadata": {},
   "source": [
    "Return a copy of the given TT-tensor."
   ]
  },
  {
   "cell_type": "code",
   "execution_count": 2,
   "id": "2aaf90b0-107e-46ea-bca5-0d7661506cb1",
   "metadata": {
    "tags": []
   },
   "outputs": [
    {
     "name": "stdout",
     "output_type": "stream",
     "text": [
      "0.798532\n",
      "0.798532\n"
     ]
    }
   ],
   "source": [
    "# 10-dim random TT-tensor with mode size 4 and TT-rank 12:\n",
    "rng, key = jax.random.split(rng)\n",
    "Y = teneva.rand(10, 4, 12, key)\n",
    "\n",
    "Z = teneva.copy(Y) # The copy of Y  \n",
    "\n",
    "print(Y[2][1, 2, 0])\n",
    "print(Z[2][1, 2, 0])"
   ]
  },
  {
   "cell_type": "markdown",
   "id": "905d2392-9fee-422f-84bb-197b712045fd",
   "metadata": {},
   "source": [
    "## Function `get`"
   ]
  },
  {
   "cell_type": "markdown",
   "id": "b090e284-1a1b-4113-b91f-59584cefe05e",
   "metadata": {},
   "source": [
    "Compute the element with multiindex \"k\" from the TT-tensor \"Y\"."
   ]
  },
  {
   "cell_type": "code",
   "execution_count": 3,
   "id": "5d5dca4d-b617-43da-b2f5-66768eeeacbc",
   "metadata": {
    "tags": []
   },
   "outputs": [
    {
     "name": "stdout",
     "output_type": "stream",
     "text": [
      "TT-tensor-jax | d =     5 | n =     2 | r =     2 |\n",
      "Error : 4.8e-07\n"
     ]
    }
   ],
   "source": [
    "d = 5  # Dimension of the tensor\n",
    "n = 4  # Mode size of the tensor\n",
    "r = 2  # Rank of the tensor\n",
    "\n",
    "# Construct d-dim full array:\n",
    "t = np.arange(2**d) # Tensor will be 2^d\n",
    "Y0 = np.cos(t).reshape([2] * d, order='F')\n",
    "\n",
    "# Compute TT-tensor from Y0 by TT-SVD:  \n",
    "Y1 = teneva.svd(Y0, r)\n",
    "\n",
    "# Print the TT-tensor:\n",
    "teneva.show(Y1)\n",
    "\n",
    "# Select some tensor element and compute the value:\n",
    "k = np.array([0, 1, 0, 1, 0])\n",
    "y1 = teneva.get(Y1, k)\n",
    "\n",
    "# Compute the same element of the original tensor:\n",
    "y0 = Y0[tuple(k)]\n",
    "\n",
    "# Compare values:\n",
    "e = np.abs(y1-y0)\n",
    "print(f'Error : {e:7.1e}')"
   ]
  },
  {
   "cell_type": "markdown",
   "id": "2ca906df-570b-44bb-ba08-dbf8e0fc5bc4",
   "metadata": {},
   "source": [
    "## Function `get_many`"
   ]
  },
  {
   "cell_type": "markdown",
   "id": "209f5bfa-1d52-489f-91c4-65fd1233b2f7",
   "metadata": {},
   "source": [
    "Compute the elements of the TT-tensor on many multi-indices."
   ]
  },
  {
   "cell_type": "code",
   "execution_count": 4,
   "id": "86ecd198-5f76-4d4e-ab90-61a731abd48e",
   "metadata": {
    "tags": []
   },
   "outputs": [
    {
     "name": "stdout",
     "output_type": "stream",
     "text": [
      "TT-tensor-jax | d =     5 | n =     2 | r =     2 |\n",
      "Error : 6.6e-07\n"
     ]
    }
   ],
   "source": [
    "d = 5  # Dimension of the tensor\n",
    "n = 4  # Mode size of the tensor\n",
    "r = 2  # Rank of the tensor\n",
    "\n",
    "# Construct d-dim full array:\n",
    "t = np.arange(2**d) # Tensor will be 2^d\n",
    "Y0 = np.cos(t).reshape([2] * d, order='F')\n",
    "\n",
    "# Compute TT-tensor from Y0 by TT-SVD:  \n",
    "Y1 = teneva.svd(Y0, r)\n",
    "\n",
    "# Print the TT-tensor:\n",
    "teneva.show(Y1)\n",
    "\n",
    "# Select some tensor element and compute the value:\n",
    "K = np.array([\n",
    "    [0, 1, 0, 1, 0],\n",
    "    [0, 0, 0, 0, 0],\n",
    "    [1, 1, 1, 1, 1],\n",
    "])\n",
    "y1 = teneva.get_many(Y1, K)\n",
    "\n",
    "# Compute the same elements of the original tensor:\n",
    "y0 = np.array([Y0[tuple(k)] for k in K])\n",
    "\n",
    "# Compare values:\n",
    "e = np.max(np.abs(y1-y0))\n",
    "print(f'Error : {e:7.1e}')"
   ]
  },
  {
   "cell_type": "markdown",
   "id": "b592303f-a7e3-463d-afab-e3d265e9e6f7",
   "metadata": {},
   "source": [
    "We can compare the calculation time using the base function (\"get\") with \"jax.vmap\" and the function \"get_many\":"
   ]
  },
  {
   "cell_type": "code",
   "execution_count": 5,
   "id": "5068b019-9787-46d3-a2de-9f3216abf231",
   "metadata": {
    "tags": []
   },
   "outputs": [
    {
     "name": "stdout",
     "output_type": "stream",
     "text": [
      "m: 1.0e+00 | T1 :   0.0650 | T2 :   0.0623\n",
      "m: 1.0e+01 | T1 :   0.0894 | T2 :   0.0965\n",
      "m: 1.0e+02 | T1 :   0.0938 | T2 :   0.0960\n",
      "m: 1.0e+03 | T1 :   0.1464 | T2 :   0.1485\n",
      "m: 1.0e+04 | T1 :   0.4759 | T2 :   0.4678\n"
     ]
    }
   ],
   "source": [
    "d = 1000   # Dimension of the tensor\n",
    "n = 100    # Mode size of the tensor\n",
    "r = 10     # Rank of the tensor\n",
    "\n",
    "rng, key = jax.random.split(rng)\n",
    "Y = teneva.rand(d, n, r, key)\n",
    "\n",
    "get1 = jax.jit(jax.vmap(teneva.get, (None, 0)))\n",
    "get2 = jax.jit(teneva.get_many)\n",
    "\n",
    "for m in [1, 1.E+1, 1.E+2, 1.E+3, 1.E+4]:\n",
    "    # TODO: remove teneva_base here\n",
    "    I = np.array(teneva_base.sample_lhs([n]*d, int(m)))\n",
    "\n",
    "    t1 = tpc()\n",
    "    y1 = get1(Y, I)\n",
    "    t1 = tpc() - t1\n",
    "\n",
    "    t2 = tpc()\n",
    "    y2 = get2(Y, I)\n",
    "    t2 = tpc() - t2\n",
    "\n",
    "    print(f'm: {m:-7.1e} | T1 : {t1:-8.4f} | T2 : {t2:-8.4f}')"
   ]
  },
  {
   "cell_type": "markdown",
   "id": "663a28fe-257c-462f-a924-416d102a0d58",
   "metadata": {},
   "source": [
    "## Function `get_stab`"
   ]
  },
  {
   "cell_type": "markdown",
   "id": "024e8089-1932-43c5-a161-6bfcb8d03ab3",
   "metadata": {},
   "source": [
    "Compute the element with multiindex \"k\" from the TT-tensor \"Y\" with stabilization factor."
   ]
  },
  {
   "cell_type": "code",
   "execution_count": 6,
   "id": "bc409b23-b050-4558-9e23-6cff9947a5aa",
   "metadata": {
    "tags": []
   },
   "outputs": [
    {
     "name": "stdout",
     "output_type": "stream",
     "text": [
      "TT-tensor-jax | d =     5 | n =     2 | r =     2 |\n",
      "-1.6781421\n",
      "[ 0.  0.  0. -1.  0.]\n",
      "-0.83907104\n",
      "Error : 4.8e-07\n"
     ]
    }
   ],
   "source": [
    "d = 5  # Dimension of the tensor\n",
    "n = 4  # Mode size of the tensor\n",
    "r = 2  # Rank of the tensor\n",
    "\n",
    "# Construct d-dim full array:\n",
    "t = np.arange(2**d) # Tensor will be 2^d\n",
    "Y0 = np.cos(t).reshape([2] * d, order='F')\n",
    "\n",
    "# Compute TT-tensor from Y0 by TT-SVD:  \n",
    "Y1 = teneva.svd(Y0, r)\n",
    "\n",
    "# Print the TT-tensor:\n",
    "teneva.show(Y1)\n",
    "\n",
    "# Select some tensor element and compute the value:\n",
    "k = np.array([0, 1, 0, 1, 0])\n",
    "y1, p1 = teneva.get_stab(Y1, k)\n",
    "print(y1)\n",
    "print(p1)\n",
    "\n",
    "# Reconstruct the value:\n",
    "y1 = y1 * 2.**np.sum(p1)\n",
    "print(y1)\n",
    "\n",
    "# Compute the same element of the original tensor:\n",
    "y0 = Y0[tuple(k)]\n",
    "\n",
    "# Compare values:\n",
    "e = np.abs(y1-y0)\n",
    "print(f'Error : {e:7.1e}')"
   ]
  },
  {
   "cell_type": "markdown",
   "id": "cd33b4f4-bb22-46c4-8aef-4a64ec3ac3f1",
   "metadata": {},
   "source": [
    "We can check it also for big random tensor:"
   ]
  },
  {
   "cell_type": "code",
   "execution_count": 7,
   "id": "f539c5aa-c878-47a4-9c73-f64bc3983aa4",
   "metadata": {
    "tags": []
   },
   "outputs": [
    {
     "name": "stdout",
     "output_type": "stream",
     "text": [
      "-1.1663944 808.0\n"
     ]
    }
   ],
   "source": [
    "rng, key = jax.random.split(rng)\n",
    "Y = teneva.rand(d=1000, n=100, r=10, key=key)\n",
    "k = np.zeros(1000, dtype=np.int32)\n",
    "y, p = teneva.get_stab(Y, k)\n",
    "print(y, np.sum(p))"
   ]
  },
  {
   "cell_type": "markdown",
   "id": "594d7eed-ec1c-4531-8555-e5b3b6b85cef",
   "metadata": {},
   "source": [
    "## Function `mean`"
   ]
  },
  {
   "cell_type": "markdown",
   "id": "d62cd4a0-10a1-4cd4-9817-658826ee3d23",
   "metadata": {},
   "source": [
    "Compute mean value of the TT-tensor."
   ]
  },
  {
   "cell_type": "code",
   "execution_count": 8,
   "id": "8d66bf89-cc47-41ad-9e73-c831e33a161f",
   "metadata": {
    "tags": []
   },
   "outputs": [
    {
     "name": "stdout",
     "output_type": "stream",
     "text": [
      "Error     : 5.59e-09\n"
     ]
    }
   ],
   "source": [
    "d = 6     # Dimension of the tensor\n",
    "n = 5     # Mode size of the tensor\n",
    "r = 4     # Rank of the tensor\n",
    "\n",
    "rng, key = jax.random.split(rng)\n",
    "Y = teneva.rand(d, n, r, key)\n",
    "\n",
    "m = teneva.mean(Y)\n",
    "\n",
    "# Compute tensor in the full format to check the result:\n",
    "Y_full = teneva.full(Y)\n",
    "m_full = np.mean(Y_full)\n",
    "e = abs(m - m_full)\n",
    "print(f'Error     : {e:-8.2e}')"
   ]
  },
  {
   "cell_type": "markdown",
   "id": "c010ed92-54c3-4205-be70-396a95e4223c",
   "metadata": {},
   "source": [
    "We can check it also for big random tensor:"
   ]
  },
  {
   "cell_type": "code",
   "execution_count": 9,
   "id": "b0ed5b61-f472-49ae-94d4-b93b8c3c295c",
   "metadata": {
    "tags": []
   },
   "outputs": [
    {
     "data": {
      "text/plain": [
       "Array(0., dtype=float32)"
      ]
     },
     "execution_count": 9,
     "metadata": {},
     "output_type": "execute_result"
    }
   ],
   "source": [
    "rng, key = jax.random.split(rng)\n",
    "Y = teneva.rand(d=1000, n=100, r=10, key=key)\n",
    "teneva.mean(Y)"
   ]
  },
  {
   "cell_type": "markdown",
   "id": "b3dd5f46-5dda-42ea-9322-884a3cb1cec6",
   "metadata": {
    "tags": []
   },
   "source": [
    "## Function `mean_stab`"
   ]
  },
  {
   "cell_type": "markdown",
   "id": "979ee56d-e0ef-4912-86b3-95fffae1b667",
   "metadata": {},
   "source": [
    "Compute mean value of the TT-tensor with stabilization factor."
   ]
  },
  {
   "cell_type": "code",
   "execution_count": 10,
   "id": "bd284ab8-f2f0-4189-a57b-642a8349500d",
   "metadata": {
    "tags": []
   },
   "outputs": [
    {
     "name": "stdout",
     "output_type": "stream",
     "text": [
      "-1.5127699\n",
      "[-2. -2. -1.  0. -2. -3.]\n",
      "-0.0014773144\n",
      "Error     : 1.28e-09\n"
     ]
    }
   ],
   "source": [
    "d = 6     # Dimension of the tensor\n",
    "n = 5     # Mode size of the tensor\n",
    "r = 4     # Rank of the tensor\n",
    "\n",
    "rng, key = jax.random.split(rng)\n",
    "Y = teneva.rand(d, n, r, key)\n",
    "\n",
    "m, p = teneva.mean_stab(Y)\n",
    "print(m)\n",
    "print(p)\n",
    "\n",
    "# Reconstruct the value:\n",
    "m = m * 2.**np.sum(p)\n",
    "print(m)\n",
    "\n",
    "# Compute tensor in the full format to check the result:\n",
    "Y_full = teneva.full(Y)\n",
    "m_full = np.mean(Y_full)\n",
    "e = abs(m - m_full)\n",
    "print(f'Error     : {e:-8.2e}')"
   ]
  },
  {
   "cell_type": "markdown",
   "id": "76aa296b-509f-4e96-b483-625816cef3b5",
   "metadata": {},
   "source": [
    "We can check it also for big random tensor:"
   ]
  },
  {
   "cell_type": "code",
   "execution_count": 11,
   "id": "0c695920-8ba7-4b04-a3ac-b0f282b83241",
   "metadata": {
    "tags": []
   },
   "outputs": [
    {
     "name": "stdout",
     "output_type": "stream",
     "text": [
      "-1.5990865 -2530.0\n"
     ]
    }
   ],
   "source": [
    "rng, key = jax.random.split(rng)\n",
    "Y = teneva.rand(d=1000, n=100, r=10, key=key)\n",
    "m, p = teneva.mean_stab(Y)\n",
    "print(m, np.sum(p))"
   ]
  },
  {
   "cell_type": "markdown",
   "id": "31599d04-9c79-47a9-a23c-9110e94f0ba1",
   "metadata": {},
   "source": [
    "## Function `sum`"
   ]
  },
  {
   "cell_type": "markdown",
   "id": "f1273f98-0c04-4d2a-8d93-ebb7ee1f561a",
   "metadata": {},
   "source": [
    "Compute sum of all tensor elements."
   ]
  },
  {
   "cell_type": "code",
   "execution_count": 12,
   "id": "c1ec3479-058f-4f06-b554-2ebf4d71741b",
   "metadata": {
    "tags": []
   },
   "outputs": [
    {
     "name": "stdout",
     "output_type": "stream",
     "text": [
      "Error     : 7.63e-05\n"
     ]
    }
   ],
   "source": [
    "d = 6     # Dimension of the tensor\n",
    "n = 5     # Mode size of the tensor\n",
    "r = 4     # Rank of the tensor\n",
    "\n",
    "rng, key = jax.random.split(rng)\n",
    "Y = teneva.rand(d, n, r, key)\n",
    "\n",
    "m = teneva.sum(Y)\n",
    "\n",
    "# Compute tensor in the full format to check the result:\n",
    "Y_full = teneva.full(Y)\n",
    "m_full = np.sum(Y_full)\n",
    "e = abs(m - m_full)\n",
    "print(f'Error     : {e:-8.2e}')"
   ]
  },
  {
   "cell_type": "markdown",
   "id": "4a7ce835-3bec-448c-b96b-ab981a85dcd3",
   "metadata": {},
   "source": [
    "We can check it also for big random tensor:"
   ]
  },
  {
   "cell_type": "code",
   "execution_count": 13,
   "id": "60d80f70-6fdf-4ddb-9c22-8f8e02a54369",
   "metadata": {
    "tags": []
   },
   "outputs": [
    {
     "data": {
      "text/plain": [
       "Array(0., dtype=float32)"
      ]
     },
     "execution_count": 13,
     "metadata": {},
     "output_type": "execute_result"
    }
   ],
   "source": [
    "rng, key = jax.random.split(rng)\n",
    "Y = teneva.rand(d=1000, n=100, r=10, key=key, a=-0.01, b=+0.01)\n",
    "teneva.sum(Y)"
   ]
  },
  {
   "cell_type": "markdown",
   "id": "51b07c76-09d5-4545-8d83-676ec8e431c8",
   "metadata": {},
   "source": [
    "## Function `sum_stab`"
   ]
  },
  {
   "cell_type": "markdown",
   "id": "5240f397-fcc4-403f-9848-24e404bca3c5",
   "metadata": {},
   "source": [
    "Compute sum of all tensor elements with stabilization factor."
   ]
  },
  {
   "cell_type": "code",
   "execution_count": 14,
   "id": "880b337a-6c42-489f-bcb3-48e2a43da854",
   "metadata": {
    "tags": []
   },
   "outputs": [
    {
     "name": "stdout",
     "output_type": "stream",
     "text": [
      "1.3956219\n",
      "[1. 1. 1. 1. 1. 1.]\n",
      "89.3198\n",
      "Error     : 2.67e-04\n"
     ]
    }
   ],
   "source": [
    "d = 6     # Dimension of the tensor\n",
    "n = 5     # Mode size of the tensor\n",
    "r = 4     # Rank of the tensor\n",
    "\n",
    "rng, key = jax.random.split(rng)\n",
    "Y = teneva.rand(d, n, r, key)\n",
    "\n",
    "m, p = teneva.sum_stab(Y)\n",
    "print(m)\n",
    "print(p)\n",
    "\n",
    "# Reconstruct the value:\n",
    "m = m * 2.**np.sum(p)\n",
    "print(m)\n",
    "\n",
    "# Compute tensor in the full format to check the result:\n",
    "Y_full = teneva.full(Y)\n",
    "m_full = np.sum(Y_full)\n",
    "e = abs(m - m_full)\n",
    "print(f'Error     : {e:-8.2e}')"
   ]
  },
  {
   "cell_type": "markdown",
   "id": "0a9329a9-ebfe-46c4-8bc4-05c639ac87c5",
   "metadata": {},
   "source": [
    "We can check it also for big random tensor:"
   ]
  },
  {
   "cell_type": "code",
   "execution_count": 15,
   "id": "3b934e67-d76b-4461-9a7a-ded4a4bd5ec8",
   "metadata": {
    "tags": []
   },
   "outputs": [
    {
     "name": "stdout",
     "output_type": "stream",
     "text": [
      "1.654193 -2525.0\n"
     ]
    }
   ],
   "source": [
    "rng, key = jax.random.split(rng)\n",
    "Y = teneva.rand(d=1000, n=100, r=10, key=key, a=-0.01, b=+0.01)\n",
    "m, p = teneva.sum_stab(Y)\n",
    "print(m, np.sum(p))"
   ]
  },
  {
   "cell_type": "markdown",
   "id": "2e05c469-385b-46dc-b0b9-fef87d4bf047",
   "metadata": {},
   "source": [
    "---"
   ]
  }
 ],
 "metadata": {
  "kernelspec": {
   "display_name": "Python 3 (ipykernel)",
   "language": "python",
   "name": "python3"
  },
  "language_info": {
   "codemirror_mode": {
    "name": "ipython",
    "version": 3
   },
   "file_extension": ".py",
   "mimetype": "text/x-python",
   "name": "python",
   "nbconvert_exporter": "python",
   "pygments_lexer": "ipython3",
   "version": "3.8.16"
  }
 },
 "nbformat": 4,
 "nbformat_minor": 5
}

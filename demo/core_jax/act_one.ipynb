{
 "cells": [
  {
   "cell_type": "markdown",
   "id": "2d1cd616-8baa-4143-8b82-ab9f5e529411",
   "metadata": {},
   "source": [
    "**Demo for `teneva.core_jax.act_one`**\n",
    "\n",
    "---\n",
    "\n",
    "This module contains the basic operations with one TT-tensor (Y), including \"copy\", \"get\", \"sum\", etc."
   ]
  },
  {
   "cell_type": "markdown",
   "id": "e1dc347f-8afa-418c-ac29-544189f40ec3",
   "metadata": {},
   "source": [
    "## Loading and importing modules"
   ]
  },
  {
   "cell_type": "code",
   "execution_count": 1,
   "id": "22c02559-23ab-4428-8213-20ee7725cd82",
   "metadata": {
    "tags": []
   },
   "outputs": [],
   "source": [
    "import jax\n",
    "import jax.numpy as np\n",
    "import teneva as teneva_base\n",
    "import teneva.core_jax as teneva\n",
    "from time import perf_counter as tpc\n",
    "rng = jax.random.PRNGKey(42)"
   ]
  },
  {
   "cell_type": "markdown",
   "id": "96777c3d-a17d-48f1-a1f3-b0e5d6d2e8a5",
   "metadata": {
    "tags": []
   },
   "source": [
    "## Function `convert`"
   ]
  },
  {
   "cell_type": "markdown",
   "id": "1c8e6468-b6bd-4c0a-b8ce-aaee29446a0a",
   "metadata": {},
   "source": [
    "Convert TT-tensor from base (numpy) format and back."
   ]
  },
  {
   "cell_type": "code",
   "execution_count": 2,
   "id": "62ab42f6-e2e9-48bd-be87-5481fdeebb5e",
   "metadata": {
    "tags": []
   },
   "outputs": [],
   "source": [
    "import numpy as onp"
   ]
  },
  {
   "cell_type": "markdown",
   "id": "630c46a0-a261-4043-a648-b9bf8736a1c4",
   "metadata": {},
   "source": [
    "Let build jax TT-tensor and convert it to numpy (base) version:"
   ]
  },
  {
   "cell_type": "code",
   "execution_count": 3,
   "id": "c09a4fc3-e49a-41c5-ab54-a12a7792f00f",
   "metadata": {
    "tags": []
   },
   "outputs": [
    {
     "name": "stdout",
     "output_type": "stream",
     "text": [
      "TT-tensor-jax | d =     6 | n =     5 | r =     4 |\n",
      "Is jax   :  True\n",
      "Is numpy :  False\n"
     ]
    }
   ],
   "source": [
    "rng, key = jax.random.split(rng)\n",
    "Y = teneva.rand(6, 5, 4, key)\n",
    "teneva.show(Y)\n",
    "\n",
    "print('Is jax   : ', isinstance(Y[0], np.ndarray))\n",
    "print('Is numpy : ', isinstance(Y[0], onp.ndarray))"
   ]
  },
  {
   "cell_type": "code",
   "execution_count": 4,
   "id": "b065ae1f-0a62-4ba1-b9a0-1c81a6ab9ac6",
   "metadata": {
    "tags": []
   },
   "outputs": [
    {
     "name": "stdout",
     "output_type": "stream",
     "text": [
      "TT-tensor     6D : |5| |5| |5| |5| |5| |5|\n",
      "<rank>  =    4.0 :   \\4/ \\4/ \\4/ \\4/ \\4/\n",
      "Is jax   :  False\n",
      "Is numpy :  True\n"
     ]
    }
   ],
   "source": [
    "Y_base = teneva.convert(Y)\n",
    "teneva_base.show(Y_base)\n",
    "\n",
    "print('Is jax   : ', isinstance(Y_base[0], np.ndarray))\n",
    "print('Is numpy : ', isinstance(Y_base[0], onp.ndarray))"
   ]
  },
  {
   "cell_type": "markdown",
   "id": "afd67cad-d51d-4ef5-9bd3-0c982a2fc4fa",
   "metadata": {},
   "source": [
    "And now let convert the numpy (base) TT-tensor back into jax format:"
   ]
  },
  {
   "cell_type": "code",
   "execution_count": 5,
   "id": "a984580f-fa93-4092-a088-af8c05313759",
   "metadata": {
    "tags": []
   },
   "outputs": [
    {
     "name": "stdout",
     "output_type": "stream",
     "text": [
      "TT-tensor-jax | d =     6 | n =     5 | r =     4 |\n",
      "Is jax   :  True\n",
      "Is numpy :  False\n",
      "Error    :  0.0\n"
     ]
    }
   ],
   "source": [
    "Z = teneva.convert(Y_base)\n",
    "teneva.show(Z)\n",
    "\n",
    "# Check that it is the same:\n",
    "e = np.max(np.abs(teneva.full(Y) - teneva.full(Z)))\n",
    "\n",
    "print('Is jax   : ', isinstance(Z[0], np.ndarray))\n",
    "print('Is numpy : ', isinstance(Z[0], onp.ndarray))\n",
    "print('Error    : ', e)   "
   ]
  },
  {
   "cell_type": "markdown",
   "id": "200a3c92-ae1e-4ff2-a30d-39b83175dddf",
   "metadata": {
    "tags": []
   },
   "source": [
    "## Function `copy`"
   ]
  },
  {
   "cell_type": "markdown",
   "id": "2bb8131e-c604-49fd-922a-a27a96855396",
   "metadata": {},
   "source": [
    "Return a copy of the given TT-tensor."
   ]
  },
  {
   "cell_type": "code",
   "execution_count": 6,
   "id": "2aaf90b0-107e-46ea-bca5-0d7661506cb1",
   "metadata": {
    "tags": []
   },
   "outputs": [
    {
     "name": "stdout",
     "output_type": "stream",
     "text": [
      "0.19049883\n",
      "0.19049883\n"
     ]
    }
   ],
   "source": [
    "# 10-dim random TT-tensor with mode size 4 and TT-rank 12:\n",
    "rng, key = jax.random.split(rng)\n",
    "Y = teneva.rand(10, 9, 7, key)\n",
    "\n",
    "Z = teneva.copy(Y) # The copy of Y  \n",
    "\n",
    "print(Y[2][1, 2, 0])\n",
    "print(Z[2][1, 2, 0])"
   ]
  },
  {
   "cell_type": "markdown",
   "id": "905d2392-9fee-422f-84bb-197b712045fd",
   "metadata": {},
   "source": [
    "## Function `get`"
   ]
  },
  {
   "cell_type": "markdown",
   "id": "b090e284-1a1b-4113-b91f-59584cefe05e",
   "metadata": {},
   "source": [
    "Compute the element with multiindex \"k\" from the TT-tensor \"Y\"."
   ]
  },
  {
   "cell_type": "code",
   "execution_count": 7,
   "id": "5d5dca4d-b617-43da-b2f5-66768eeeacbc",
   "metadata": {
    "tags": []
   },
   "outputs": [
    {
     "name": "stdout",
     "output_type": "stream",
     "text": [
      "TT-tensor-jax | d =     5 | n =     2 | r =     2 |\n",
      "Error : 4.8e-07\n"
     ]
    }
   ],
   "source": [
    "d = 5  # Dimension of the tensor\n",
    "n = 4  # Mode size of the tensor\n",
    "r = 2  # Rank of the tensor\n",
    "\n",
    "# Construct d-dim full array:\n",
    "t = np.arange(2**d) # Tensor will be 2^d\n",
    "Y0 = np.cos(t).reshape([2] * d, order='F')\n",
    "\n",
    "# Compute TT-tensor from Y0 by TT-SVD:  \n",
    "Y1 = teneva.svd(Y0, r)\n",
    "\n",
    "# Print the TT-tensor:\n",
    "teneva.show(Y1)\n",
    "\n",
    "# Select some tensor element and compute the value:\n",
    "k = np.array([0, 1, 0, 1, 0])\n",
    "y1 = teneva.get(Y1, k)\n",
    "\n",
    "# Compute the same element of the original tensor:\n",
    "y0 = Y0[tuple(k)]\n",
    "\n",
    "# Compare values:\n",
    "e = np.abs(y1-y0)\n",
    "print(f'Error : {e:7.1e}')"
   ]
  },
  {
   "cell_type": "markdown",
   "id": "2ca906df-570b-44bb-ba08-dbf8e0fc5bc4",
   "metadata": {},
   "source": [
    "## Function `get_many`"
   ]
  },
  {
   "cell_type": "markdown",
   "id": "209f5bfa-1d52-489f-91c4-65fd1233b2f7",
   "metadata": {},
   "source": [
    "Compute the elements of the TT-tensor on many multi-indices."
   ]
  },
  {
   "cell_type": "code",
   "execution_count": 8,
   "id": "86ecd198-5f76-4d4e-ab90-61a731abd48e",
   "metadata": {
    "tags": []
   },
   "outputs": [
    {
     "name": "stdout",
     "output_type": "stream",
     "text": [
      "TT-tensor-jax | d =     5 | n =     2 | r =     2 |\n",
      "Error : 6.6e-07\n"
     ]
    }
   ],
   "source": [
    "d = 5  # Dimension of the tensor\n",
    "n = 4  # Mode size of the tensor\n",
    "r = 2  # Rank of the tensor\n",
    "\n",
    "# Construct d-dim full array:\n",
    "t = np.arange(2**d) # Tensor will be 2^d\n",
    "Y0 = np.cos(t).reshape([2] * d, order='F')\n",
    "\n",
    "# Compute TT-tensor from Y0 by TT-SVD:  \n",
    "Y1 = teneva.svd(Y0, r)\n",
    "\n",
    "# Print the TT-tensor:\n",
    "teneva.show(Y1)\n",
    "\n",
    "# Select some tensor element and compute the value:\n",
    "K = np.array([\n",
    "    [0, 1, 0, 1, 0],\n",
    "    [0, 0, 0, 0, 0],\n",
    "    [1, 1, 1, 1, 1],\n",
    "])\n",
    "y1 = teneva.get_many(Y1, K)\n",
    "\n",
    "# Compute the same elements of the original tensor:\n",
    "y0 = np.array([Y0[tuple(k)] for k in K])\n",
    "\n",
    "# Compare values:\n",
    "e = np.max(np.abs(y1-y0))\n",
    "print(f'Error : {e:7.1e}')"
   ]
  },
  {
   "cell_type": "markdown",
   "id": "b592303f-a7e3-463d-afab-e3d265e9e6f7",
   "metadata": {},
   "source": [
    "We can compare the calculation time using the base function (\"get\") with \"jax.vmap\" and the function \"get_many\":"
   ]
  },
  {
   "cell_type": "code",
   "execution_count": 9,
   "id": "5068b019-9787-46d3-a2de-9f3216abf231",
   "metadata": {
    "tags": []
   },
   "outputs": [
    {
     "name": "stdout",
     "output_type": "stream",
     "text": [
      "m: 1.0e+00 | T1 :   0.0624 | T2 :   0.0596\n",
      "m: 1.0e+01 | T1 :   0.0949 | T2 :   0.0972\n",
      "m: 1.0e+02 | T1 :   0.1019 | T2 :   0.0962\n",
      "m: 1.0e+03 | T1 :   0.1455 | T2 :   0.1498\n",
      "m: 1.0e+04 | T1 :   0.4869 | T2 :   0.4776\n"
     ]
    }
   ],
   "source": [
    "d = 1000   # Dimension of the tensor\n",
    "n = 100    # Mode size of the tensor\n",
    "r = 10     # Rank of the tensor\n",
    "\n",
    "rng, key = jax.random.split(rng)\n",
    "Y = teneva.rand(d, n, r, key)\n",
    "\n",
    "get1 = jax.jit(jax.vmap(teneva.get, (None, 0)))\n",
    "get2 = jax.jit(teneva.get_many)\n",
    "\n",
    "for m in [1, 1.E+1, 1.E+2, 1.E+3, 1.E+4]:\n",
    "    # TODO: remove teneva_base here\n",
    "    I = np.array(teneva_base.sample_lhs([n]*d, int(m)))\n",
    "\n",
    "    t1 = tpc()\n",
    "    y1 = get1(Y, I)\n",
    "    t1 = tpc() - t1\n",
    "\n",
    "    t2 = tpc()\n",
    "    y2 = get2(Y, I)\n",
    "    t2 = tpc() - t2\n",
    "\n",
    "    print(f'm: {m:-7.1e} | T1 : {t1:-8.4f} | T2 : {t2:-8.4f}')"
   ]
  },
  {
   "cell_type": "markdown",
   "id": "663a28fe-257c-462f-a924-416d102a0d58",
   "metadata": {},
   "source": [
    "## Function `get_stab`"
   ]
  },
  {
   "cell_type": "markdown",
   "id": "024e8089-1932-43c5-a161-6bfcb8d03ab3",
   "metadata": {},
   "source": [
    "Compute the element with multiindex \"k\" from the TT-tensor \"Y\" with stabilization factor."
   ]
  },
  {
   "cell_type": "code",
   "execution_count": 10,
   "id": "bc409b23-b050-4558-9e23-6cff9947a5aa",
   "metadata": {
    "tags": []
   },
   "outputs": [
    {
     "name": "stdout",
     "output_type": "stream",
     "text": [
      "TT-tensor-jax | d =     5 | n =     2 | r =     2 |\n",
      "-1.6781421\n",
      "[ 0.  0.  0. -1.  0.]\n",
      "-0.83907104\n",
      "Error : 4.8e-07\n"
     ]
    }
   ],
   "source": [
    "d = 5  # Dimension of the tensor\n",
    "n = 4  # Mode size of the tensor\n",
    "r = 2  # Rank of the tensor\n",
    "\n",
    "# Construct d-dim full array:\n",
    "t = np.arange(2**d) # Tensor will be 2^d\n",
    "Y0 = np.cos(t).reshape([2] * d, order='F')\n",
    "\n",
    "# Compute TT-tensor from Y0 by TT-SVD:  \n",
    "Y1 = teneva.svd(Y0, r)\n",
    "\n",
    "# Print the TT-tensor:\n",
    "teneva.show(Y1)\n",
    "\n",
    "# Select some tensor element and compute the value:\n",
    "k = np.array([0, 1, 0, 1, 0])\n",
    "y1, p1 = teneva.get_stab(Y1, k)\n",
    "print(y1)\n",
    "print(p1)\n",
    "\n",
    "# Reconstruct the value:\n",
    "y1 = y1 * 2.**np.sum(p1)\n",
    "print(y1)\n",
    "\n",
    "# Compute the same element of the original tensor:\n",
    "y0 = Y0[tuple(k)]\n",
    "\n",
    "# Compare values:\n",
    "e = np.abs(y1-y0)\n",
    "print(f'Error : {e:7.1e}')"
   ]
  },
  {
   "cell_type": "markdown",
   "id": "cd33b4f4-bb22-46c4-8aef-4a64ec3ac3f1",
   "metadata": {},
   "source": [
    "We can check it also for big random tensor:"
   ]
  },
  {
   "cell_type": "code",
   "execution_count": 11,
   "id": "f539c5aa-c878-47a4-9c73-f64bc3983aa4",
   "metadata": {
    "tags": []
   },
   "outputs": [
    {
     "name": "stdout",
     "output_type": "stream",
     "text": [
      "-1.1911157 792.0\n"
     ]
    }
   ],
   "source": [
    "rng, key = jax.random.split(rng)\n",
    "Y = teneva.rand(d=1000, n=100, r=10, key=key)\n",
    "k = np.zeros(1000, dtype=np.int32)\n",
    "y, p = teneva.get_stab(Y, k)\n",
    "print(y, np.sum(p))"
   ]
  },
  {
   "cell_type": "markdown",
   "id": "b340976b-51db-44f1-876e-f6b084525970",
   "metadata": {},
   "source": [
    "## Function `interface_ltr`"
   ]
  },
  {
   "cell_type": "markdown",
   "id": "8f2d3e99-b974-432f-8559-4f6711e5e1ee",
   "metadata": {},
   "source": [
    "Generate the left to right interface vectors for the TT-tensor Y."
   ]
  },
  {
   "cell_type": "code",
   "execution_count": 12,
   "id": "f10604e8-56a4-452e-b706-293c5f6f845a",
   "metadata": {
    "tags": []
   },
   "outputs": [
    {
     "name": "stdout",
     "output_type": "stream",
     "text": [
      "[ 0.6159539   0.05393152 -0.59480584 -0.51371026]\n",
      "[-0.09011538  0.28736737  0.9508705   0.07172485]\n",
      "[-0.10756405 -0.65141314 -0.5013524   0.55922854]\n",
      "[ 0.41511503 -0.6911681  -0.5902755   0.03925423]\n",
      "[-0.66395193 -0.09679152 -0.04487634 -0.74012524]\n",
      "[ 0.17707978 -0.15525422 -0.07720309  0.96880263]\n",
      "[ 0.17707978 -0.15525422 -0.07720309  0.96880263]\n"
     ]
    }
   ],
   "source": [
    "rng, key = jax.random.split(rng)\n",
    "Y = teneva.rand(d=8, n=5, r=4, key=key)\n",
    "zm, zr = teneva.interface_ltr(Y)\n",
    "\n",
    "for z in zm:\n",
    "    print(z)\n",
    "print(zr)"
   ]
  },
  {
   "cell_type": "markdown",
   "id": "cca92d2f-a671-424d-baa2-3b5db5ccb98b",
   "metadata": {},
   "source": [
    "## Function `interface_rtl`"
   ]
  },
  {
   "cell_type": "markdown",
   "id": "e8639f7b-6975-4341-a451-5de21ac818d1",
   "metadata": {},
   "source": [
    "Generate the right to left interface vectors for the TT-tensor Y."
   ]
  },
  {
   "cell_type": "code",
   "execution_count": 13,
   "id": "aa788e59-75e3-497e-81ef-d5e3dcfbe62d",
   "metadata": {
    "tags": []
   },
   "outputs": [
    {
     "name": "stdout",
     "output_type": "stream",
     "text": [
      "[-0.95776975  0.17451975  0.18542242 -0.13356045]\n",
      "[-0.20214106 -0.9513638   0.19919026 -0.11987165]\n",
      "[ 0.34267044  0.69565064 -0.52662045  0.34830743]\n",
      "[ 0.2049764   0.15211944  0.96648353 -0.02745909]\n",
      "[ 0.03999171 -0.23093204 -0.9616975  -0.14215827]\n",
      "[ 0.8828743  -0.3793065   0.2701475   0.06066062]\n",
      "[-0.4844946   0.3101102   0.69839716 -0.42583805]\n"
     ]
    }
   ],
   "source": [
    "rng, key = jax.random.split(rng)\n",
    "Y = teneva.rand(d=8, n=5, r=4, key=key)\n",
    "zl, zm = teneva.interface_rtl(Y)\n",
    "\n",
    "print(zl)\n",
    "for z in zm:\n",
    "    print(z)"
   ]
  },
  {
   "cell_type": "markdown",
   "id": "594d7eed-ec1c-4531-8555-e5b3b6b85cef",
   "metadata": {},
   "source": [
    "## Function `mean`"
   ]
  },
  {
   "cell_type": "markdown",
   "id": "d62cd4a0-10a1-4cd4-9817-658826ee3d23",
   "metadata": {},
   "source": [
    "Compute mean value of the TT-tensor."
   ]
  },
  {
   "cell_type": "code",
   "execution_count": 14,
   "id": "8d66bf89-cc47-41ad-9e73-c831e33a161f",
   "metadata": {
    "tags": []
   },
   "outputs": [
    {
     "name": "stdout",
     "output_type": "stream",
     "text": [
      "Error     : 2.61e-08\n"
     ]
    }
   ],
   "source": [
    "d = 6     # Dimension of the tensor\n",
    "n = 5     # Mode size of the tensor\n",
    "r = 4     # Rank of the tensor\n",
    "\n",
    "rng, key = jax.random.split(rng)\n",
    "Y = teneva.rand(d, n, r, key)\n",
    "\n",
    "m = teneva.mean(Y)\n",
    "\n",
    "# Compute tensor in the full format to check the result:\n",
    "Y_full = teneva.full(Y)\n",
    "m_full = np.mean(Y_full)\n",
    "e = abs(m - m_full)\n",
    "print(f'Error     : {e:-8.2e}')"
   ]
  },
  {
   "cell_type": "markdown",
   "id": "c010ed92-54c3-4205-be70-396a95e4223c",
   "metadata": {},
   "source": [
    "We can check it also for big random tensor:"
   ]
  },
  {
   "cell_type": "code",
   "execution_count": 15,
   "id": "b0ed5b61-f472-49ae-94d4-b93b8c3c295c",
   "metadata": {
    "tags": []
   },
   "outputs": [
    {
     "data": {
      "text/plain": [
       "Array(0., dtype=float32)"
      ]
     },
     "execution_count": 15,
     "metadata": {},
     "output_type": "execute_result"
    }
   ],
   "source": [
    "rng, key = jax.random.split(rng)\n",
    "Y = teneva.rand(d=1000, n=100, r=10, key=key)\n",
    "teneva.mean(Y)"
   ]
  },
  {
   "cell_type": "markdown",
   "id": "b3dd5f46-5dda-42ea-9322-884a3cb1cec6",
   "metadata": {
    "tags": []
   },
   "source": [
    "## Function `mean_stab`"
   ]
  },
  {
   "cell_type": "markdown",
   "id": "979ee56d-e0ef-4912-86b3-95fffae1b667",
   "metadata": {},
   "source": [
    "Compute mean value of the TT-tensor with stabilization factor."
   ]
  },
  {
   "cell_type": "code",
   "execution_count": 16,
   "id": "bd284ab8-f2f0-4189-a57b-642a8349500d",
   "metadata": {
    "tags": []
   },
   "outputs": [
    {
     "name": "stdout",
     "output_type": "stream",
     "text": [
      "1.7866555\n",
      "[-2. -1. -3. -1.  0. -3.]\n",
      "0.0017447808\n",
      "Error     : 5.82e-09\n"
     ]
    }
   ],
   "source": [
    "d = 6     # Dimension of the tensor\n",
    "n = 5     # Mode size of the tensor\n",
    "r = 4     # Rank of the tensor\n",
    "\n",
    "rng, key = jax.random.split(rng)\n",
    "Y = teneva.rand(d, n, r, key)\n",
    "\n",
    "m, p = teneva.mean_stab(Y)\n",
    "print(m)\n",
    "print(p)\n",
    "\n",
    "# Reconstruct the value:\n",
    "m = m * 2.**np.sum(p)\n",
    "print(m)\n",
    "\n",
    "# Compute tensor in the full format to check the result:\n",
    "Y_full = teneva.full(Y)\n",
    "m_full = np.mean(Y_full)\n",
    "e = abs(m - m_full)\n",
    "print(f'Error     : {e:-8.2e}')"
   ]
  },
  {
   "cell_type": "markdown",
   "id": "76aa296b-509f-4e96-b483-625816cef3b5",
   "metadata": {},
   "source": [
    "We can check it also for big random tensor:"
   ]
  },
  {
   "cell_type": "code",
   "execution_count": 17,
   "id": "0c695920-8ba7-4b04-a3ac-b0f282b83241",
   "metadata": {
    "tags": []
   },
   "outputs": [
    {
     "name": "stdout",
     "output_type": "stream",
     "text": [
      "1.968759 -2512.0\n"
     ]
    }
   ],
   "source": [
    "rng, key = jax.random.split(rng)\n",
    "Y = teneva.rand(d=1000, n=100, r=10, key=key)\n",
    "m, p = teneva.mean_stab(Y)\n",
    "print(m, np.sum(p))"
   ]
  },
  {
   "cell_type": "markdown",
   "id": "31599d04-9c79-47a9-a23c-9110e94f0ba1",
   "metadata": {},
   "source": [
    "## Function `sum`"
   ]
  },
  {
   "cell_type": "markdown",
   "id": "f1273f98-0c04-4d2a-8d93-ebb7ee1f561a",
   "metadata": {},
   "source": [
    "Compute sum of all tensor elements."
   ]
  },
  {
   "cell_type": "code",
   "execution_count": 18,
   "id": "c1ec3479-058f-4f06-b554-2ebf4d71741b",
   "metadata": {
    "tags": []
   },
   "outputs": [
    {
     "name": "stdout",
     "output_type": "stream",
     "text": [
      "Error     : 2.29e-04\n"
     ]
    }
   ],
   "source": [
    "d = 6     # Dimension of the tensor\n",
    "n = 5     # Mode size of the tensor\n",
    "r = 4     # Rank of the tensor\n",
    "\n",
    "rng, key = jax.random.split(rng)\n",
    "Y = teneva.rand(d, n, r, key)\n",
    "\n",
    "m = teneva.sum(Y)\n",
    "\n",
    "# Compute tensor in the full format to check the result:\n",
    "Y_full = teneva.full(Y)\n",
    "m_full = np.sum(Y_full)\n",
    "e = abs(m - m_full)\n",
    "print(f'Error     : {e:-8.2e}')"
   ]
  },
  {
   "cell_type": "markdown",
   "id": "4a7ce835-3bec-448c-b96b-ab981a85dcd3",
   "metadata": {},
   "source": [
    "We can check it also for big random tensor:"
   ]
  },
  {
   "cell_type": "code",
   "execution_count": 19,
   "id": "60d80f70-6fdf-4ddb-9c22-8f8e02a54369",
   "metadata": {
    "tags": []
   },
   "outputs": [
    {
     "data": {
      "text/plain": [
       "Array(0., dtype=float32)"
      ]
     },
     "execution_count": 19,
     "metadata": {},
     "output_type": "execute_result"
    }
   ],
   "source": [
    "rng, key = jax.random.split(rng)\n",
    "Y = teneva.rand(d=1000, n=100, r=10, key=key, a=-0.01, b=+0.01)\n",
    "teneva.sum(Y)"
   ]
  },
  {
   "cell_type": "markdown",
   "id": "51b07c76-09d5-4545-8d83-676ec8e431c8",
   "metadata": {},
   "source": [
    "## Function `sum_stab`"
   ]
  },
  {
   "cell_type": "markdown",
   "id": "5240f397-fcc4-403f-9848-24e404bca3c5",
   "metadata": {},
   "source": [
    "Compute sum of all tensor elements with stabilization factor."
   ]
  },
  {
   "cell_type": "code",
   "execution_count": 20,
   "id": "880b337a-6c42-489f-bcb3-48e2a43da854",
   "metadata": {
    "tags": []
   },
   "outputs": [
    {
     "name": "stdout",
     "output_type": "stream",
     "text": [
      "-1.7985754\n",
      "[1. 1. 1. 0. 1. 1.]\n",
      "-57.554413\n",
      "Error     : 8.77e-05\n"
     ]
    }
   ],
   "source": [
    "d = 6     # Dimension of the tensor\n",
    "n = 5     # Mode size of the tensor\n",
    "r = 4     # Rank of the tensor\n",
    "\n",
    "rng, key = jax.random.split(rng)\n",
    "Y = teneva.rand(d, n, r, key)\n",
    "\n",
    "m, p = teneva.sum_stab(Y)\n",
    "print(m)\n",
    "print(p)\n",
    "\n",
    "# Reconstruct the value:\n",
    "m = m * 2.**np.sum(p)\n",
    "print(m)\n",
    "\n",
    "# Compute tensor in the full format to check the result:\n",
    "Y_full = teneva.full(Y)\n",
    "m_full = np.sum(Y_full)\n",
    "e = abs(m - m_full)\n",
    "print(f'Error     : {e:-8.2e}')"
   ]
  },
  {
   "cell_type": "markdown",
   "id": "0a9329a9-ebfe-46c4-8bc4-05c639ac87c5",
   "metadata": {},
   "source": [
    "We can check it also for big random tensor:"
   ]
  },
  {
   "cell_type": "code",
   "execution_count": 21,
   "id": "3b934e67-d76b-4461-9a7a-ded4a4bd5ec8",
   "metadata": {
    "tags": []
   },
   "outputs": [
    {
     "name": "stdout",
     "output_type": "stream",
     "text": [
      "1.4154698 -2540.0\n"
     ]
    }
   ],
   "source": [
    "rng, key = jax.random.split(rng)\n",
    "Y = teneva.rand(d=1000, n=100, r=10, key=key, a=-0.01, b=+0.01)\n",
    "m, p = teneva.sum_stab(Y)\n",
    "print(m, np.sum(p))"
   ]
  },
  {
   "cell_type": "markdown",
   "id": "2e05c469-385b-46dc-b0b9-fef87d4bf047",
   "metadata": {},
   "source": [
    "---"
   ]
  }
 ],
 "metadata": {
  "kernelspec": {
   "display_name": "Python 3 (ipykernel)",
   "language": "python",
   "name": "python3"
  },
  "language_info": {
   "codemirror_mode": {
    "name": "ipython",
    "version": 3
   },
   "file_extension": ".py",
   "mimetype": "text/x-python",
   "name": "python",
   "nbconvert_exporter": "python",
   "pygments_lexer": "ipython3",
   "version": "3.8.16"
  }
 },
 "nbformat": 4,
 "nbformat_minor": 5
}

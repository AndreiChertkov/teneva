{
 "cells": [
  {
   "cell_type": "markdown",
   "id": "2d1cd616-8baa-4143-8b82-ab9f5e529411",
   "metadata": {},
   "source": [
    "**Demo for `teneva.core_jax.act_one`**\n",
    "\n",
    "---\n",
    "\n",
    "This module contains the basic operations with one TT-tensor (Y), including \"copy\", \"get\", \"sum\", etc."
   ]
  },
  {
   "cell_type": "markdown",
   "id": "e1dc347f-8afa-418c-ac29-544189f40ec3",
   "metadata": {},
   "source": [
    "## Loading and importing modules"
   ]
  },
  {
   "cell_type": "code",
   "execution_count": 1,
   "id": "22c02559-23ab-4428-8213-20ee7725cd82",
   "metadata": {
    "tags": []
   },
   "outputs": [],
   "source": [
    "import jax\n",
    "import jax.numpy as np\n",
    "import teneva as teneva_base\n",
    "import teneva.core_jax as teneva\n",
    "from time import perf_counter as tpc\n",
    "rng = jax.random.PRNGKey(42)"
   ]
  },
  {
   "cell_type": "markdown",
   "id": "200a3c92-ae1e-4ff2-a30d-39b83175dddf",
   "metadata": {
    "jp-MarkdownHeadingCollapsed": true,
    "tags": []
   },
   "source": [
    "## Function `copy`"
   ]
  },
  {
   "cell_type": "markdown",
   "id": "2bb8131e-c604-49fd-922a-a27a96855396",
   "metadata": {},
   "source": [
    "Return a copy of the given TT-tensor."
   ]
  },
  {
   "cell_type": "code",
   "execution_count": 2,
   "id": "2aaf90b0-107e-46ea-bca5-0d7661506cb1",
   "metadata": {
    "tags": []
   },
   "outputs": [
    {
     "name": "stdout",
     "output_type": "stream",
     "text": [
      "0.798532\n",
      "0.798532\n"
     ]
    }
   ],
   "source": [
    "# 10-dim random TT-tensor with mode size 4 and TT-rank 12:\n",
    "rng, key = jax.random.split(rng)\n",
    "Y = teneva.rand(10, 4, 12, key)\n",
    "\n",
    "Z = teneva.copy(Y) # The copy of Y  \n",
    "\n",
    "print(Y[2][1, 2, 0])\n",
    "print(Z[2][1, 2, 0])"
   ]
  },
  {
   "cell_type": "markdown",
   "id": "905d2392-9fee-422f-84bb-197b712045fd",
   "metadata": {},
   "source": [
    "## Function `get`"
   ]
  },
  {
   "cell_type": "markdown",
   "id": "b090e284-1a1b-4113-b91f-59584cefe05e",
   "metadata": {},
   "source": [
    "Compute the element with multiindex \"k\" from the TT-tensor \"Y\"."
   ]
  },
  {
   "cell_type": "code",
   "execution_count": 3,
   "id": "5d5dca4d-b617-43da-b2f5-66768eeeacbc",
   "metadata": {
    "tags": []
   },
   "outputs": [
    {
     "name": "stdout",
     "output_type": "stream",
     "text": [
      "TT-tensor     5D (rank =     2)\n",
      "Error : 4.8e-07\n"
     ]
    }
   ],
   "source": [
    "d = 5  # Dimension of the tensor\n",
    "n = 4  # Mode size of the tensor\n",
    "r = 2  # Rank of the tensor\n",
    "\n",
    "# Construct d-dim full array:\n",
    "t = np.arange(2**d) # Tensor will be 2^d\n",
    "Y0 = np.cos(t).reshape([2] * d, order='F')\n",
    "\n",
    "# Compute TT-tensor from Y0 by TT-SVD:  \n",
    "Y1 = teneva.svd(Y0, r)\n",
    "\n",
    "# Print the TT-tensor:\n",
    "teneva.show(Y1)\n",
    "\n",
    "# Select some tensor element and compute the value:\n",
    "k = np.array([0, 1, 0, 1, 0])\n",
    "y1 = teneva.get(Y1, k)\n",
    "\n",
    "# Compute the same element of the original tensor:\n",
    "y0 = Y0[tuple(k)]\n",
    "\n",
    "# Compare original tensor and reconstructed tensor:\n",
    "e = np.abs(y1-y0)\n",
    "print(f'Error : {e:7.1e}')"
   ]
  },
  {
   "cell_type": "markdown",
   "id": "2ca906df-570b-44bb-ba08-dbf8e0fc5bc4",
   "metadata": {},
   "source": [
    "## Function `get_many`"
   ]
  },
  {
   "cell_type": "code",
   "execution_count": 4,
   "id": "86ecd198-5f76-4d4e-ab90-61a731abd48e",
   "metadata": {
    "tags": []
   },
   "outputs": [
    {
     "name": "stdout",
     "output_type": "stream",
     "text": [
      "TT-tensor     5D (rank =     2)\n",
      "Error : 6.6e-07\n"
     ]
    }
   ],
   "source": [
    "d = 5  # Dimension of the tensor\n",
    "n = 4  # Mode size of the tensor\n",
    "r = 2  # Rank of the tensor\n",
    "\n",
    "# Construct d-dim full array:\n",
    "t = np.arange(2**d) # Tensor will be 2^d\n",
    "Y0 = np.cos(t).reshape([2] * d, order='F')\n",
    "\n",
    "# Compute TT-tensor from Y0 by TT-SVD:  \n",
    "Y1 = teneva.svd(Y0, r)\n",
    "\n",
    "# Print the TT-tensor:\n",
    "teneva.show(Y1)\n",
    "\n",
    "# Select some tensor element and compute the value:\n",
    "K = np.array([\n",
    "    [0, 1, 0, 1, 0],\n",
    "    [0, 0, 0, 0, 0],\n",
    "    [1, 1, 1, 1, 1],\n",
    "])\n",
    "y1 = teneva.get_many(Y1, K)\n",
    "\n",
    "# Compute the same element of the original tensor:\n",
    "y0 = np.array([Y0[tuple(k)] for k in K])\n",
    "\n",
    "# Compare original tensor and reconstructed tensor:\n",
    "e = np.max(np.abs(y1-y0))\n",
    "print(f'Error : {e:7.1e}')"
   ]
  },
  {
   "cell_type": "markdown",
   "id": "b592303f-a7e3-463d-afab-e3d265e9e6f7",
   "metadata": {},
   "source": [
    "We can compare the calculation time using the base function (\"get\") with \"jax.vmap\" and the function \"get_many\":"
   ]
  },
  {
   "cell_type": "code",
   "execution_count": 5,
   "id": "5068b019-9787-46d3-a2de-9f3216abf231",
   "metadata": {
    "tags": []
   },
   "outputs": [
    {
     "name": "stdout",
     "output_type": "stream",
     "text": [
      "m: 1.0e+00 | T1 :   0.0659 | T2 :   0.0654\n",
      "m: 1.0e+01 | T1 :   0.0873 | T2 :   0.0859\n",
      "m: 1.0e+02 | T1 :   0.0953 | T2 :   0.0974\n",
      "m: 1.0e+03 | T1 :   0.2014 | T2 :   0.1640\n",
      "m: 1.0e+04 | T1 :   0.4863 | T2 :   0.4746\n",
      "m: 1.0e+05 | T1 :   8.0010 | T2 :   7.9864\n",
      "m: 1.0e+06 | T1 :  92.5100 | T2 :  90.8101\n"
     ]
    }
   ],
   "source": [
    "d = 1000   # Dimension of the tensor\n",
    "n = 100    # Mode size of the tensor\n",
    "r = 10     # Rank of the tensor\n",
    "\n",
    "rng, key = jax.random.split(rng)\n",
    "Y = teneva.rand(d, n, r, key)\n",
    "\n",
    "get1 = jax.jit(jax.vmap(teneva.get, (None, 0)))\n",
    "get2 = jax.jit(teneva.get_many)\n",
    "\n",
    "for m in [1, 1.E+1, 1.E+2, 1.E+3, 1.E+4, 1.E+5, 1.E+6]:\n",
    "    I = np.array(teneva_base.sample_lhs([n]*d, int(m))) # TODO\n",
    "\n",
    "    t1 = tpc()\n",
    "    y1 = get1(Y, I)\n",
    "    t1 = tpc() - t1\n",
    "\n",
    "    t2 = tpc()\n",
    "    y2 = get2(Y, I)\n",
    "    t2 = tpc() - t2\n",
    "\n",
    "    print(f'm: {m:-7.1e} | T1 : {t1:-8.4f} | T2 : {t2:-8.4f}')"
   ]
  },
  {
   "cell_type": "markdown",
   "id": "2e05c469-385b-46dc-b0b9-fef87d4bf047",
   "metadata": {},
   "source": [
    "---"
   ]
  }
 ],
 "metadata": {
  "kernelspec": {
   "display_name": "Python 3 (ipykernel)",
   "language": "python",
   "name": "python3"
  },
  "language_info": {
   "codemirror_mode": {
    "name": "ipython",
    "version": 3
   },
   "file_extension": ".py",
   "mimetype": "text/x-python",
   "name": "python",
   "nbconvert_exporter": "python",
   "pygments_lexer": "ipython3",
   "version": "3.8.16"
  }
 },
 "nbformat": 4,
 "nbformat_minor": 5
}

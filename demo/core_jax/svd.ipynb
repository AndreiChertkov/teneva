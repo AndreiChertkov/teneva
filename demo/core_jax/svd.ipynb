{
 "cells": [
  {
   "cell_type": "markdown",
   "id": "3771b850-c28b-4c97-9a4e-370e9295f018",
   "metadata": {},
   "source": [
    "**Demo for `teneva.core.svd`**\n",
    "\n",
    "---\n",
    "\n",
    "Module contains the basic implementation of the TT-SVD algorithm as well as functions for constructing the SVD decomposition and skeleton decomposition for the matrices."
   ]
  },
  {
   "cell_type": "markdown",
   "id": "2a2bd0a7-6416-495e-b686-5c6c5f7cd448",
   "metadata": {},
   "source": [
    "## Loading and importing modules"
   ]
  },
  {
   "cell_type": "code",
   "execution_count": 1,
   "id": "a675a004-7206-47c9-8b49-b0abedf84ed2",
   "metadata": {
    "tags": []
   },
   "outputs": [],
   "source": [
    "import jax\n",
    "import jax.numpy as np\n",
    "import teneva as teneva_base\n",
    "import teneva.core_jax as teneva\n",
    "from time import perf_counter as tpc\n",
    "rng = jax.random.PRNGKey(42)"
   ]
  },
  {
   "cell_type": "markdown",
   "id": "18c43ae6-8896-436c-af07-3b0e10a308c1",
   "metadata": {},
   "source": [
    "## Function `matrix_skeleton`"
   ]
  },
  {
   "cell_type": "markdown",
   "id": "6a5b4bdb-716d-41b3-876c-9a914636afda",
   "metadata": {},
   "source": [
    "Construct truncated skeleton decomposition A = U V for the given matrix."
   ]
  },
  {
   "cell_type": "code",
   "execution_count": 6,
   "id": "34bdef94-3e15-4417-b9b1-905be2c62afb",
   "metadata": {
    "tags": []
   },
   "outputs": [],
   "source": [
    "# Shape of the matrix:\n",
    "m, n = 100, 30\n",
    "\n",
    "# Build random matrix, which has rank 3,\n",
    "# as a sum of rank-1 matrices:\n",
    "rng, key = jax.random.split(rng)\n",
    "keys = jax.random.split(key, 6)\n",
    "u = [jax.random.normal(keys[i], (m, )) for i in range(3)]\n",
    "v = [jax.random.normal(keys[i], (m, )) for i in range(3, 6)]\n",
    "A = np.outer(u[0], v[0]) + np.outer(u[1], v[1]) + np.outer(u[2], v[2])"
   ]
  },
  {
   "cell_type": "code",
   "execution_count": 7,
   "id": "6a91cede-4784-4f82-9e73-5b5ccc587484",
   "metadata": {
    "tags": []
   },
   "outputs": [
    {
     "name": "stdout",
     "output_type": "stream",
     "text": [
      "Shape of U : (100, 3)\n",
      "Shape of V : (3, 100)\n",
      "Error      : 2.82e-07\n"
     ]
    }
   ],
   "source": [
    "# Compute skeleton decomp.:\n",
    "U, V = teneva.matrix_skeleton(A, r=3)\n",
    "\n",
    "# Approximation error\n",
    "e = np.linalg.norm(A - U @ V) / np.linalg.norm(A)\n",
    "\n",
    "print(f'Shape of U :', U.shape)\n",
    "print(f'Shape of V :', V.shape)\n",
    "print(f'Error      : {e:-8.2e}')"
   ]
  },
  {
   "cell_type": "code",
   "execution_count": 8,
   "id": "a1793895-69a0-4b4e-a3a6-0a2323a2a497",
   "metadata": {
    "tags": []
   },
   "outputs": [
    {
     "name": "stdout",
     "output_type": "stream",
     "text": [
      "Shape of U : (100, 2)\n",
      "Shape of V : (2, 100)\n",
      "Error      : 5.11e-01\n"
     ]
    }
   ],
   "source": [
    "# Compute skeleton decomp with small rank:\n",
    "U, V = teneva.matrix_skeleton(A, r=2)\n",
    "\n",
    "# Approximation error:\n",
    "e = np.linalg.norm(A - U @ V) / np.linalg.norm(A)\n",
    "print(f'Shape of U :', U.shape)\n",
    "print(f'Shape of V :', V.shape)\n",
    "print(f'Error      : {e:-8.2e}')"
   ]
  },
  {
   "cell_type": "markdown",
   "id": "240ae76b-6fbc-4f96-af1c-115c71d88c64",
   "metadata": {},
   "source": [
    "---"
   ]
  }
 ],
 "metadata": {
  "kernelspec": {
   "display_name": "Python 3 (ipykernel)",
   "language": "python",
   "name": "python3"
  },
  "language_info": {
   "codemirror_mode": {
    "name": "ipython",
    "version": 3
   },
   "file_extension": ".py",
   "mimetype": "text/x-python",
   "name": "python",
   "nbconvert_exporter": "python",
   "pygments_lexer": "ipython3",
   "version": "3.8.16"
  }
 },
 "nbformat": 4,
 "nbformat_minor": 5
}

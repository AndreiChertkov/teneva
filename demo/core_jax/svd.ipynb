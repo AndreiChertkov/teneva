{
 "cells": [
  {
   "cell_type": "markdown",
   "id": "3771b850-c28b-4c97-9a4e-370e9295f018",
   "metadata": {},
   "source": [
    "**Demo for `teneva.core_jax.svd`**\n",
    "\n",
    "---\n",
    "\n",
    "Module contains the basic implementation of the TT-SVD algorithm as well as functions for constructing the skeleton decomposition for the matrices."
   ]
  },
  {
   "cell_type": "markdown",
   "id": "2a2bd0a7-6416-495e-b686-5c6c5f7cd448",
   "metadata": {},
   "source": [
    "## Loading and importing modules"
   ]
  },
  {
   "cell_type": "code",
   "execution_count": 1,
   "id": "a675a004-7206-47c9-8b49-b0abedf84ed2",
   "metadata": {
    "tags": []
   },
   "outputs": [],
   "source": [
    "import jax\n",
    "import jax.numpy as np\n",
    "import teneva as teneva_base\n",
    "import teneva.core_jax as teneva\n",
    "from time import perf_counter as tpc\n",
    "rng = jax.random.PRNGKey(42)"
   ]
  },
  {
   "cell_type": "markdown",
   "id": "18c43ae6-8896-436c-af07-3b0e10a308c1",
   "metadata": {},
   "source": [
    "## Function `matrix_skeleton`"
   ]
  },
  {
   "cell_type": "markdown",
   "id": "6a5b4bdb-716d-41b3-876c-9a914636afda",
   "metadata": {},
   "source": [
    "Construct truncated skeleton decomposition A = U V for the given matrix."
   ]
  },
  {
   "cell_type": "code",
   "execution_count": 2,
   "id": "34bdef94-3e15-4417-b9b1-905be2c62afb",
   "metadata": {
    "tags": []
   },
   "outputs": [],
   "source": [
    "# Shape of the matrix:\n",
    "m, n = 100, 30\n",
    "\n",
    "# Build random matrix, which has rank 3 as a sum of rank-1 matrices:\n",
    "rng, key = jax.random.split(rng)\n",
    "keys = jax.random.split(key, 6)\n",
    "u = [jax.random.normal(keys[i], (m, )) for i in range(3)]\n",
    "v = [jax.random.normal(keys[i], (m, )) for i in range(3, 6)]\n",
    "A = np.outer(u[0], v[0]) + np.outer(u[1], v[1]) + np.outer(u[2], v[2])"
   ]
  },
  {
   "cell_type": "code",
   "execution_count": 3,
   "id": "6a91cede-4784-4f82-9e73-5b5ccc587484",
   "metadata": {
    "tags": []
   },
   "outputs": [
    {
     "name": "stdout",
     "output_type": "stream",
     "text": [
      "Shape of U : (100, 3)\n",
      "Shape of V : (3, 100)\n",
      "Error      : 3.31e-07\n"
     ]
    }
   ],
   "source": [
    "# Compute skeleton decomp.:\n",
    "U, V = teneva.matrix_skeleton(A, r=3)\n",
    "\n",
    "# Approximation error\n",
    "e = np.linalg.norm(A - U @ V) / np.linalg.norm(A)\n",
    "\n",
    "print(f'Shape of U :', U.shape)\n",
    "print(f'Shape of V :', V.shape)\n",
    "print(f'Error      : {e:-8.2e}')"
   ]
  },
  {
   "cell_type": "code",
   "execution_count": 4,
   "id": "a1793895-69a0-4b4e-a3a6-0a2323a2a497",
   "metadata": {
    "tags": []
   },
   "outputs": [
    {
     "name": "stdout",
     "output_type": "stream",
     "text": [
      "Shape of U : (100, 2)\n",
      "Shape of V : (2, 100)\n",
      "Error      : 4.62e-01\n"
     ]
    }
   ],
   "source": [
    "# Compute skeleton decomp with small rank:\n",
    "U, V = teneva.matrix_skeleton(A, r=2)\n",
    "\n",
    "# Approximation error:\n",
    "e = np.linalg.norm(A - U @ V) / np.linalg.norm(A)\n",
    "print(f'Shape of U :', U.shape)\n",
    "print(f'Shape of V :', V.shape)\n",
    "print(f'Error      : {e:-8.2e}')"
   ]
  },
  {
   "cell_type": "markdown",
   "id": "b21e4fb3-fdd9-4abf-ae09-45a24c713082",
   "metadata": {},
   "source": [
    "## Function `svd`"
   ]
  },
  {
   "cell_type": "markdown",
   "id": "f9169db1-525c-4a67-b8e3-c9408088eaee",
   "metadata": {},
   "source": [
    "Construct TT-tensor from the given full tensor using TT-SVD algorithm. Note that this function does not take advantage of jax's ability to speed up the code and can be slow, but it should only be meaningfully used for tensors of small dimensions."
   ]
  },
  {
   "cell_type": "code",
   "execution_count": 5,
   "id": "18f2511e-2df0-4014-85c4-76c77c57f8b8",
   "metadata": {
    "tags": []
   },
   "outputs": [],
   "source": [
    "d = 5               # Dimension number\n",
    "t = np.arange(2**d) # Tensor will be 2^d\n",
    "\n",
    "# Construct d-dim full array:\n",
    "Z_full = np.cos(t).reshape([2] * d, order='F')"
   ]
  },
  {
   "cell_type": "code",
   "execution_count": 6,
   "id": "da39e946-f7ec-461c-9c1e-c8ee947bd5b1",
   "metadata": {
    "tags": []
   },
   "outputs": [],
   "source": [
    "# Construct TT-tensor by TT-SVD:\n",
    "Y = teneva.svd(Z_full, r=2)\n",
    "\n",
    "# Convert it back to numpy to check result:\n",
    "Y_full = teneva.full(Y)\n",
    "\n",
    "# Compute error for TT-tensor vs full tensor:\n",
    "e = np.linalg.norm(Y_full - Z_full)\n",
    "e /= np.linalg.norm(Z_full)"
   ]
  },
  {
   "cell_type": "code",
   "execution_count": 7,
   "id": "b059e053-77c9-4034-8d91-e6bc45b184f8",
   "metadata": {
    "tags": []
   },
   "outputs": [
    {
     "name": "stdout",
     "output_type": "stream",
     "text": [
      "Size (np) :       32\n",
      "Size (tt) :       32\n",
      "Error     : 6.60e-07\n"
     ]
    }
   ],
   "source": [
    "# Size of the original tensor:\n",
    "print(f'Size (np) : {Z_full.size:-8d}')\n",
    "\n",
    "# Size of the TT-tensor:\n",
    "print(f'Size (tt) : {Y[0].size + Y[1].size + Y[2].size:-8d}') # TODO  \n",
    "\n",
    "# Rel. error for the TT-tensor vs full tensor:\n",
    "print(f'Error     : {e:-8.2e}')               "
   ]
  },
  {
   "cell_type": "markdown",
   "id": "9649e46b-7ebb-4c46-bb45-5fef1ea363c2",
   "metadata": {},
   "source": [
    "We can also try a lower rank (it will lead to huge error in this case):"
   ]
  },
  {
   "cell_type": "code",
   "execution_count": 8,
   "id": "96873d54-72ee-4945-8b92-65e14ae7bdaa",
   "metadata": {
    "tags": []
   },
   "outputs": [
    {
     "name": "stdout",
     "output_type": "stream",
     "text": [
      "Size (np) :       32\n",
      "Size (tt) :       10\n",
      "Error     : 7.13e-01\n"
     ]
    }
   ],
   "source": [
    "# Construct TT-tensor by TT-SVD:\n",
    "Y = teneva.svd(Z_full, r=1)\n",
    "\n",
    "# Convert it back to numpy to check result:\n",
    "Y_full = teneva.full(Y)\n",
    "\n",
    "# Compute error for TT-tensor vs full tensor:\n",
    "e = np.linalg.norm(Y_full - Z_full)\n",
    "e /= np.linalg.norm(Z_full)\n",
    "\n",
    "print(f'Size (np) : {Z_full.size:-8d}')\n",
    "print(f'Size (tt) : {Y[0].size + Y[1].size + Y[2].size:-8d}') # TODO   \n",
    "print(f'Error     : {e:-8.2e}')  "
   ]
  },
  {
   "cell_type": "markdown",
   "id": "2c2a0c50-00b8-4315-9256-9b2028f229cc",
   "metadata": {},
   "source": [
    "Note that in jax version rank can not be greater than mode size:"
   ]
  },
  {
   "cell_type": "code",
   "execution_count": 9,
   "id": "bbd40b99-732b-42d5-8bb5-d7453dd01db0",
   "metadata": {
    "tags": []
   },
   "outputs": [
    {
     "name": "stdout",
     "output_type": "stream",
     "text": [
      "Error : Rank can not be greater than mode size\n"
     ]
    }
   ],
   "source": [
    "try:\n",
    "    Y = teneva.svd(Z_full, r=3)\n",
    "except ValueError as e:\n",
    "    print('Error :', e)"
   ]
  },
  {
   "cell_type": "markdown",
   "id": "240ae76b-6fbc-4f96-af1c-115c71d88c64",
   "metadata": {},
   "source": [
    "---"
   ]
  }
 ],
 "metadata": {
  "kernelspec": {
   "display_name": "Python 3 (ipykernel)",
   "language": "python",
   "name": "python3"
  },
  "language_info": {
   "codemirror_mode": {
    "name": "ipython",
    "version": 3
   },
   "file_extension": ".py",
   "mimetype": "text/x-python",
   "name": "python",
   "nbconvert_exporter": "python",
   "pygments_lexer": "ipython3",
   "version": "3.8.16"
  }
 },
 "nbformat": 4,
 "nbformat_minor": 5
}

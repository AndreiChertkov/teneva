{
 "cells": [
  {
   "cell_type": "markdown",
   "id": "e51b9291-f33c-40ad-96ee-e2f9454ffc69",
   "metadata": {},
   "source": [
    "**Demo for `teneva.core_jax.als`**\n",
    "\n",
    "---\n",
    "\n",
    "This module contains the function \"als\" which computes the TT-approximation for the tensor by TT-ALS algorithm, using given random samples."
   ]
  },
  {
   "cell_type": "markdown",
   "id": "3896a55c-1131-44fc-b746-1433ad4ddb08",
   "metadata": {},
   "source": [
    "## Loading and importing modules"
   ]
  },
  {
   "cell_type": "code",
   "execution_count": 1,
   "id": "9941ed2c-6272-4144-8c96-4e800f0b5c49",
   "metadata": {},
   "outputs": [],
   "source": [
    "import jax\n",
    "import jax.numpy as np\n",
    "import teneva as teneva_base\n",
    "import teneva.core_jax as teneva\n",
    "from time import perf_counter as tpc\n",
    "rng = jax.random.PRNGKey(42)\n",
    "from jax.config import config\n",
    "config.update('jax_enable_x64', True)"
   ]
  },
  {
   "cell_type": "markdown",
   "id": "3f6437a4-a93e-4265-9fc6-7d4f46a76c4d",
   "metadata": {},
   "source": [
    "## Function `als`"
   ]
  },
  {
   "cell_type": "markdown",
   "id": "cfe8a9e9-ac37-4f38-8008-f81f857ad833",
   "metadata": {},
   "source": [
    "Build TT-tensor by TT-ALS method using given random tensor samples."
   ]
  },
  {
   "cell_type": "code",
   "execution_count": 2,
   "id": "d905d98d-0183-4522-9395-60a001494b18",
   "metadata": {},
   "outputs": [],
   "source": [
    "d = 50             # Dimension of the function\n",
    "n = 20             # Shape of the tensor\n",
    "r = 3              # TT-rank of the initial random tensor\n",
    "nswp = 50          # Sweep number for ALS iterations\n",
    "m = int(1.E+4)     # Number of calls to target function\n",
    "m_tst = int(1.E+4) # Number of test points"
   ]
  },
  {
   "cell_type": "markdown",
   "id": "e588a535-a646-4545-9f10-e4d09e0255d2",
   "metadata": {},
   "source": [
    "We set the target function (the function takes as input a multi-index i of the shape [dimension], which is transformed into point x of a uniform spatial grid):"
   ]
  },
  {
   "cell_type": "code",
   "execution_count": 3,
   "id": "391dd65e-ca27-46f8-a0cc-15a0e3919f08",
   "metadata": {},
   "outputs": [],
   "source": [
    "a = -2.048 # Lower bound for the spatial grid\n",
    "b = +2.048 # Upper bound for the spatial grid\n",
    "\n",
    "def func_base(i):\n",
    "    \"\"\"Michalewicz function.\"\"\"\n",
    "    x = i / n * (b - a) + a\n",
    "    y1 = 100. * (x[1:] - x[:-1]**2)**2\n",
    "    y2 = (x[:-1] - 1.)**2\n",
    "    return np.sum(y1 + y2)\n",
    "\n",
    "    y1 = np.sin(((np.arange(d) + 1) * x**2 / np.pi))\n",
    "    return -np.sum(np.sin(x) * y1**(2 * 10))\n",
    "\n",
    "func = jax.vmap(func_base)"
   ]
  },
  {
   "cell_type": "markdown",
   "id": "bcdae82e-67d7-4177-97e2-d097d5738bbe",
   "metadata": {},
   "source": [
    "We prepare train data from the LHS random distribution:"
   ]
  },
  {
   "cell_type": "code",
   "execution_count": 4,
   "id": "fe4f4875-86df-4026-9129-c400a502e302",
   "metadata": {},
   "outputs": [],
   "source": [
    "rng, key = jax.random.split(rng)\n",
    "I_trn = teneva.sample_lhs(d, n, m, key)\n",
    "y_trn = func(I_trn)"
   ]
  },
  {
   "cell_type": "markdown",
   "id": "61880140-49a5-404e-9ab1-5172c88e52fa",
   "metadata": {},
   "source": [
    "We prepare test data from a random tensor multi-indices:"
   ]
  },
  {
   "cell_type": "code",
   "execution_count": 5,
   "id": "1a65ce75-e437-41fd-834c-a6a6a610ab7a",
   "metadata": {},
   "outputs": [],
   "source": [
    "rng, key = jax.random.split(rng)\n",
    "I_tst = teneva.sample_rand(d, n, m_tst, key)\n",
    "y_tst = func(I_tst)"
   ]
  },
  {
   "cell_type": "markdown",
   "id": "5588bcc8-939a-4f9d-aac5-58f073e6ab9c",
   "metadata": {},
   "source": [
    "We build the initial approximation by the TT-ANOVA method:"
   ]
  },
  {
   "cell_type": "code",
   "execution_count": 6,
   "id": "adfd6716-f2ed-4020-bb5a-df5297f31dd8",
   "metadata": {},
   "outputs": [],
   "source": [
    "# TODO: replace with jax-version!\n",
    "Y_anova_base = teneva_base.anova(I_trn, y_trn, r)\n",
    "Y_anova = teneva.convert(Y_anova_base)"
   ]
  },
  {
   "cell_type": "markdown",
   "id": "2814afbf-f6b5-4659-bd10-3c2674653d3c",
   "metadata": {},
   "source": [
    "And now we will build the TT-tensor, which approximates the target function by the TT-ALS method:"
   ]
  },
  {
   "cell_type": "code",
   "execution_count": 7,
   "id": "b2d92846-f484-4c39-a53a-36c1784803c4",
   "metadata": {
    "tags": []
   },
   "outputs": [
    {
     "name": "stdout",
     "output_type": "stream",
     "text": [
      "Build time     :      11.86\n"
     ]
    }
   ],
   "source": [
    "t = tpc()\n",
    "Y = teneva.als(I_trn, y_trn, Y_anova, nswp)\n",
    "t = tpc() - t\n",
    "\n",
    "print(f'Build time     : {t:-10.2f}')"
   ]
  },
  {
   "cell_type": "markdown",
   "id": "b2acdd08-8619-47f0-ba1b-6b25c6ff6677",
   "metadata": {},
   "source": [
    "We can check the accuracy of the result:"
   ]
  },
  {
   "cell_type": "code",
   "execution_count": 8,
   "id": "12dc6d0b-26ab-46f2-90c4-7e174dbeb8b0",
   "metadata": {
    "tags": []
   },
   "outputs": [
    {
     "name": "stdout",
     "output_type": "stream",
     "text": [
      "Error on train :   4.24e-02\n",
      "Error on test  :   4.24e+05\n"
     ]
    }
   ],
   "source": [
    "# Compute approximation in train points:\n",
    "y_our = teneva.get_many(Y, I_trn)\n",
    "\n",
    "# Accuracy of the result for train points:\n",
    "e_trn = np.linalg.norm(y_our - y_trn)          \n",
    "e_trn /= np.linalg.norm(y_trn)\n",
    "\n",
    "# Compute approximation in test points:\n",
    "y_our = teneva.get_many(Y, I_tst)\n",
    "\n",
    "# Accuracy of the result for test points:\n",
    "e_tst = np.linalg.norm(y_our - y_tst)          \n",
    "e_tst /= np.linalg.norm(y_tst)\n",
    "\n",
    "print(f'Error on train : {e_trn:-10.2e}')\n",
    "print(f'Error on test  : {e_tst:-10.2e}')"
   ]
  },
  {
   "cell_type": "markdown",
   "id": "0c0d641d-5561-4a93-98f7-69d43bf6829c",
   "metadata": {},
   "source": [
    "We can compare the result with the base (numpy) ALS method (we run it on the same train data with the same initial approximation and parameters):"
   ]
  },
  {
   "cell_type": "code",
   "execution_count": 9,
   "id": "14ea42b1-22af-49c4-8023-c53fc4d9a91b",
   "metadata": {
    "tags": []
   },
   "outputs": [
    {
     "name": "stdout",
     "output_type": "stream",
     "text": [
      "Build time     :      19.64\n",
      "Error on train :   2.05e-02\n",
      "Error on test  :   3.26e-01\n"
     ]
    }
   ],
   "source": [
    "t = tpc()\n",
    "Y = teneva_base.als(I_trn, y_trn, Y_anova_base, nswp, e=-1.)\n",
    "t = tpc() - t\n",
    "\n",
    "print(f'Build time     : {t:-10.2f}')\n",
    "\n",
    "# Compute approximation in train points:\n",
    "y_our = teneva_base.get_many(Y, I_trn)\n",
    "\n",
    "# Accuracy of the result for train points:\n",
    "e_trn = np.linalg.norm(y_our - y_trn)          \n",
    "e_trn /= np.linalg.norm(y_trn)\n",
    "\n",
    "# Compute approximation in test points:\n",
    "y_our = teneva_base.get_many(Y, I_tst)\n",
    "\n",
    "# Accuracy of the result for test points:\n",
    "e_tst = np.linalg.norm(y_our - y_tst)          \n",
    "e_tst /= np.linalg.norm(y_tst)\n",
    "\n",
    "print(f'Error on train : {e_trn:-10.2e}')\n",
    "print(f'Error on test  : {e_tst:-10.2e}')"
   ]
  },
  {
   "cell_type": "markdown",
   "id": "5fa6be88-4023-4642-8fea-567df27aaad9",
   "metadata": {},
   "source": [
    "---"
   ]
  }
 ],
 "metadata": {
  "kernelspec": {
   "display_name": "Python 3 (ipykernel)",
   "language": "python",
   "name": "python3"
  },
  "language_info": {
   "codemirror_mode": {
    "name": "ipython",
    "version": 3
   },
   "file_extension": ".py",
   "mimetype": "text/x-python",
   "name": "python",
   "nbconvert_exporter": "python",
   "pygments_lexer": "ipython3",
   "version": "3.8.16"
  }
 },
 "nbformat": 4,
 "nbformat_minor": 5
}

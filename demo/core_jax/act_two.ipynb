{
 "cells": [
  {
   "cell_type": "markdown",
   "id": "e51b9291-f33c-40ad-96ee-e2f9454ffc69",
   "metadata": {},
   "source": [
    "**Demo for `teneva.core_jax.act_two`**\n",
    "\n",
    "---\n",
    "\n",
    "This module contains the basic operations with a pair of TT-tensors (Y1, Y2), including \"add\", \"mul\", \"sub\", etc."
   ]
  },
  {
   "cell_type": "markdown",
   "id": "3896a55c-1131-44fc-b746-1433ad4ddb08",
   "metadata": {},
   "source": [
    "## Loading and importing modules"
   ]
  },
  {
   "cell_type": "code",
   "execution_count": 1,
   "id": "9941ed2c-6272-4144-8c96-4e800f0b5c49",
   "metadata": {},
   "outputs": [],
   "source": [
    "import jax\n",
    "import jax.numpy as np\n",
    "import teneva as teneva_base\n",
    "import teneva.core_jax as teneva\n",
    "from time import perf_counter as tpc\n",
    "rng = jax.random.PRNGKey(42)"
   ]
  },
  {
   "cell_type": "markdown",
   "id": "cdeb7c7a-10f7-44ac-960e-8e32a8251906",
   "metadata": {
    "tags": []
   },
   "source": [
    "## Function `accuracy`"
   ]
  },
  {
   "cell_type": "markdown",
   "id": "5b41e0b9-472d-4db4-9757-dbbea7a25440",
   "metadata": {},
   "source": [
    "Compute || Y_1 - Y_2 || / || Y_2 || for tensors in the TT-format."
   ]
  },
  {
   "cell_type": "code",
   "execution_count": 2,
   "id": "059d18ec-8296-4d93-8c7e-9bb6f975cd1e",
   "metadata": {
    "tags": []
   },
   "outputs": [],
   "source": [
    "d = 20  # Dimension of the tensor\n",
    "n = 10  # Mode size of the tensor\n",
    "r = 2   # TT-rank of the tensor"
   ]
  },
  {
   "cell_type": "code",
   "execution_count": 3,
   "id": "f9c81848-f46b-4bae-9e5a-ffe06ed69e1e",
   "metadata": {
    "tags": []
   },
   "outputs": [],
   "source": [
    "rng, key = jax.random.split(rng)\n",
    "Y1 = teneva.rand(d, n, r, key)"
   ]
  },
  {
   "cell_type": "markdown",
   "id": "702b46ce-34a2-4e8a-a33f-89d8e3c5320f",
   "metadata": {
    "tags": []
   },
   "source": [
    "Let construct the TT-tensor Y2 = Y1 + eps * Y1 (eps = 1.E-4):"
   ]
  },
  {
   "cell_type": "code",
   "execution_count": 4,
   "id": "b7f23454-1109-4f7d-847e-60daa87109a1",
   "metadata": {},
   "outputs": [],
   "source": [
    "rng, key = jax.random.split(rng)\n",
    "Z2 = teneva.rand(d, n, r, key)\n",
    "Z2[0] = Z2[0] * 1.E-4\n",
    "\n",
    "Y2 = teneva.add(Y1, Z2) "
   ]
  },
  {
   "cell_type": "code",
   "execution_count": 5,
   "id": "5d35ad34-026c-4628-ae20-d0448a8b751e",
   "metadata": {
    "tags": []
   },
   "outputs": [
    {
     "name": "stdout",
     "output_type": "stream",
     "text": [
      "Accuracy     : 8.99e-05\n"
     ]
    }
   ],
   "source": [
    "eps = teneva.accuracy(Y1, Y2)\n",
    "\n",
    "print(f'Accuracy     : {eps.item():-8.2e}')"
   ]
  },
  {
   "cell_type": "markdown",
   "id": "c2cfea5d-2280-42c7-9a70-a1ca4f3c720f",
   "metadata": {},
   "source": [
    "Note that this function works correctly even for very large dimension values due to the use of balancing (stabilization) in the scalar product:"
   ]
  },
  {
   "cell_type": "code",
   "execution_count": 6,
   "id": "9256f0c6-de99-408c-a1a3-c264c30e7a4d",
   "metadata": {},
   "outputs": [
    {
     "name": "stdout",
     "output_type": "stream",
     "text": [
      "d =    10 | eps =  5.0e-01 | expected value 0.5\n",
      "d =    50 | eps =  5.0e-01 | expected value 0.5\n",
      "d =   100 | eps =  5.0e-01 | expected value 0.5\n",
      "d =   250 | eps =  5.0e-01 | expected value 0.5\n",
      "d =  1000 | eps =  5.0e-01 | expected value 0.5\n",
      "d = 10000 | eps =  5.0e-01 | expected value 0.5\n"
     ]
    }
   ],
   "source": [
    "for d in [10, 50, 100, 250, 1000, 10000]:\n",
    "    rng, key = jax.random.split(rng)\n",
    "    Y1 = teneva.rand(d, n, r, key)\n",
    "    Y2 = teneva.add(Y1, Y1)\n",
    "    eps = teneva.accuracy(Y1, Y2).item()\n",
    "\n",
    "    print(f'd = {d:-5d} | eps = {eps:-8.1e} | expected value 0.5')"
   ]
  },
  {
   "cell_type": "markdown",
   "id": "4cc4a355-734c-4609-9334-43dae8fd1fe2",
   "metadata": {
    "tags": []
   },
   "source": [
    "## Function `add`"
   ]
  },
  {
   "cell_type": "markdown",
   "id": "ef9280eb-4bfa-4e09-8b93-48a82bf50f6b",
   "metadata": {},
   "source": [
    "Compute element wise sum Y = Y1 + Y2 for the given TT-tensors Y1 and Y2 presented as lists of TT-cores."
   ]
  },
  {
   "cell_type": "code",
   "execution_count": 7,
   "id": "82bc11a6-8e09-48c3-964d-c56e8855c4da",
   "metadata": {
    "tags": []
   },
   "outputs": [],
   "source": [
    "d = 5   # Dimension of the tensor\n",
    "n = 6   # Mode size of the tensor\n",
    "r1 = 2  # TT-rank of the 1th tensor\n",
    "r2 = 3  # TT-rank of the 2th tensor"
   ]
  },
  {
   "cell_type": "code",
   "execution_count": 8,
   "id": "254593eb-1a0a-40ee-9ef2-bd3735db5d93",
   "metadata": {
    "tags": []
   },
   "outputs": [],
   "source": [
    "rng, key = jax.random.split(rng)\n",
    "Y1 = teneva.rand(d, n, r1, key)\n",
    "\n",
    "rng, key = jax.random.split(rng)\n",
    "Y2 = teneva.rand(d, n, r2, key)"
   ]
  },
  {
   "cell_type": "code",
   "execution_count": 9,
   "id": "5d604a6a-c385-496f-90e4-77e542b28098",
   "metadata": {},
   "outputs": [
    {
     "name": "stdout",
     "output_type": "stream",
     "text": [
      "TT-tensor-jax | d =     5 | n =     6 | r =     5 |\n"
     ]
    }
   ],
   "source": [
    "Y = teneva.add(Y1, Y2)\n",
    "teneva.show(Y)  # Note that the result has TT-rank 2 + 3 = 5"
   ]
  },
  {
   "cell_type": "markdown",
   "id": "0b9db6dd-4708-4653-a918-0f75f4b6075d",
   "metadata": {},
   "source": [
    "Let check the result:"
   ]
  },
  {
   "cell_type": "code",
   "execution_count": 10,
   "id": "384fbadb-7d2b-487a-b24a-6feb8a08fe67",
   "metadata": {},
   "outputs": [
    {
     "name": "stdout",
     "output_type": "stream",
     "text": [
      "Error     : 5.60e-08\n"
     ]
    }
   ],
   "source": [
    "Y1_full = teneva.full(Y1)\n",
    "Y2_full = teneva.full(Y2)\n",
    "Y_full = teneva.full(Y)\n",
    "\n",
    "Z_full = Y1_full + Y2_full\n",
    "\n",
    "# Compute error for TT-tensor vs full tensor:\n",
    "e = np.linalg.norm(Y_full - Z_full)\n",
    "e /= np.linalg.norm(Z_full)\n",
    "print(f'Error     : {e:-8.2e}')"
   ]
  },
  {
   "cell_type": "markdown",
   "id": "a2e3c3be-fc14-4ccb-96aa-823a573fa509",
   "metadata": {
    "tags": []
   },
   "source": [
    "## Function `mul`"
   ]
  },
  {
   "cell_type": "markdown",
   "id": "85a3ffc1-63a4-4eb0-a40d-0db7a81e2723",
   "metadata": {},
   "source": [
    "Compute element wise product Y = Y1 + Y2 for the given TT-tensors Y1 and Y2 presented as lists of TT-cores."
   ]
  },
  {
   "cell_type": "code",
   "execution_count": 11,
   "id": "7846341f-abd9-4a7b-819b-d13253679f20",
   "metadata": {
    "tags": []
   },
   "outputs": [],
   "source": [
    "d = 5   # Dimension of the tensor\n",
    "n = 6   # Mode size of the tensor\n",
    "r1 = 2  # TT-rank of the 1th tensor\n",
    "r2 = 3  # TT-rank of the 2th tensor"
   ]
  },
  {
   "cell_type": "code",
   "execution_count": 12,
   "id": "9580aa92-a726-456b-9e66-5a60a11e8613",
   "metadata": {
    "tags": []
   },
   "outputs": [],
   "source": [
    "rng, key = jax.random.split(rng)\n",
    "Y1 = teneva.rand(d, n, r1, key)\n",
    "\n",
    "rng, key = jax.random.split(rng)\n",
    "Y2 = teneva.rand(d, n, r2, key)"
   ]
  },
  {
   "cell_type": "code",
   "execution_count": 13,
   "id": "090a99ca-0108-456b-a6a3-dc59fd806c38",
   "metadata": {
    "tags": []
   },
   "outputs": [
    {
     "name": "stdout",
     "output_type": "stream",
     "text": [
      "TT-tensor-jax | d =     5 | n =     6 | r =     6 |\n"
     ]
    }
   ],
   "source": [
    "Y = teneva.mul(Y1, Y2)\n",
    "teneva.show(Y)  # Note that the result has TT-rank 2 * 3 = 6"
   ]
  },
  {
   "cell_type": "markdown",
   "id": "524b7239-92df-477d-9040-956fb5098a9f",
   "metadata": {
    "tags": []
   },
   "source": [
    "Let check the result:"
   ]
  },
  {
   "cell_type": "code",
   "execution_count": 14,
   "id": "2f96fffb-7b02-4a6f-ab65-7d439b26071c",
   "metadata": {},
   "outputs": [
    {
     "name": "stdout",
     "output_type": "stream",
     "text": [
      "Error     : 1.51e-07\n"
     ]
    }
   ],
   "source": [
    "Y1_full = teneva.full(Y1)\n",
    "Y2_full = teneva.full(Y2)\n",
    "Y_full = teneva.full(Y)\n",
    "\n",
    "Z_full = Y1_full * Y2_full\n",
    "\n",
    "# Compute error for TT-tensor vs full tensor:\n",
    "e = np.linalg.norm(Y_full - Z_full)\n",
    "e /= np.linalg.norm(Z_full)\n",
    "print(f'Error     : {e:-8.2e}')"
   ]
  },
  {
   "cell_type": "markdown",
   "id": "df44bc69-c8a0-46b7-b88a-eac408aca953",
   "metadata": {
    "tags": []
   },
   "source": [
    "## Function `mul_scalar`"
   ]
  },
  {
   "cell_type": "markdown",
   "id": "fbf17810-bc3c-4192-a7bd-15189b443da7",
   "metadata": {},
   "source": [
    "Compute scalar product for Y1 and Y2 in the TT-format."
   ]
  },
  {
   "cell_type": "code",
   "execution_count": 15,
   "id": "b77caed1-53fe-436b-ac41-261f281a01b5",
   "metadata": {
    "tags": []
   },
   "outputs": [],
   "source": [
    "d = 5   # Dimension of the tensor\n",
    "n = 6   # Mode size of the tensor\n",
    "r1 = 2  # TT-rank of the 1th tensor\n",
    "r2 = 3  # TT-rank of the 2th tensor"
   ]
  },
  {
   "cell_type": "code",
   "execution_count": 16,
   "id": "7260537a-4cf2-4030-a9fb-4b1ae6c4279b",
   "metadata": {
    "tags": []
   },
   "outputs": [],
   "source": [
    "rng, key = jax.random.split(rng)\n",
    "Y1 = teneva.rand(d, n, r1, key)\n",
    "\n",
    "rng, key = jax.random.split(rng)\n",
    "Y2 = teneva.rand(d, n, r2, key)"
   ]
  },
  {
   "cell_type": "code",
   "execution_count": 17,
   "id": "8041a91f-fe2d-40d4-a991-a7e41718486d",
   "metadata": {
    "tags": []
   },
   "outputs": [
    {
     "name": "stdout",
     "output_type": "stream",
     "text": [
      "[2.6991057]\n"
     ]
    }
   ],
   "source": [
    "v = teneva.mul_scalar(Y1, Y2)\n",
    "\n",
    "print(v) # Print the resulting value"
   ]
  },
  {
   "cell_type": "markdown",
   "id": "c4a3a89c-3667-4a35-8473-a3d955db848d",
   "metadata": {},
   "source": [
    "Let check the result:"
   ]
  },
  {
   "cell_type": "code",
   "execution_count": 18,
   "id": "b0e51057-c82a-4505-bdd0-b5738cc9aa89",
   "metadata": {},
   "outputs": [
    {
     "name": "stdout",
     "output_type": "stream",
     "text": [
      "2.6991096\n",
      "Error     : 1.41e-06\n"
     ]
    }
   ],
   "source": [
    "Y1_full = teneva.full(Y1)\n",
    "Y2_full = teneva.full(Y2)\n",
    "\n",
    "v_full = np.sum(Y1_full * Y2_full)\n",
    "\n",
    "print(v_full) # Print the resulting value from full tensor\n",
    "\n",
    "# Compute error for TT-tensor vs full tensor :\n",
    "e = np.abs((v - v_full)/v_full).item()\n",
    "print(f'Error     : {e:-8.2e}')"
   ]
  },
  {
   "cell_type": "markdown",
   "id": "b147a816-34be-4c6e-97da-71268c3d0d3a",
   "metadata": {
    "tags": []
   },
   "source": [
    "## Function `mul_scalar_stab`"
   ]
  },
  {
   "cell_type": "markdown",
   "id": "3ce1e2c5-605d-4397-832c-50b8d9933ac0",
   "metadata": {},
   "source": [
    "Compute scalar product for Y1 and Y2 in the TT-format with stabilization factor."
   ]
  },
  {
   "cell_type": "code",
   "execution_count": 19,
   "id": "23b1465b-93d4-4b0c-a39d-0716deff52e9",
   "metadata": {
    "tags": []
   },
   "outputs": [],
   "source": [
    "d = 5   # Dimension of the tensor\n",
    "n = 6   # Mode size of the tensor\n",
    "r1 = 2  # TT-rank of the 1th tensor\n",
    "r2 = 3  # TT-rank of the 2th tensor"
   ]
  },
  {
   "cell_type": "code",
   "execution_count": 20,
   "id": "9bb56f3f-afaf-4f6c-9d20-27773f169c60",
   "metadata": {
    "tags": []
   },
   "outputs": [],
   "source": [
    "rng, key = jax.random.split(rng)\n",
    "Y1 = teneva.rand(d, n, r1, key)\n",
    "\n",
    "rng, key = jax.random.split(rng)\n",
    "Y2 = teneva.rand(d, n, r2, key)"
   ]
  },
  {
   "cell_type": "code",
   "execution_count": 21,
   "id": "b54a59f6-08c6-4506-b520-5fac102296d8",
   "metadata": {
    "tags": []
   },
   "outputs": [
    {
     "name": "stdout",
     "output_type": "stream",
     "text": [
      "[-1.0362672]\n",
      "[-1.  1.  0.  2. -3.]\n",
      "[-0.5181336]\n"
     ]
    }
   ],
   "source": [
    "v, p = teneva.mul_scalar_stab(Y1, Y2)\n",
    "print(v) # Print the scaled value\n",
    "print(p) # Print the scale factors\n",
    "\n",
    "v = v * 2**np.sum(p) # Resulting value\n",
    "print(v)   # Print the resulting value"
   ]
  },
  {
   "cell_type": "markdown",
   "id": "38898cc5-988b-4c0c-9eae-a3c6269edb7d",
   "metadata": {},
   "source": [
    "Let check the result:"
   ]
  },
  {
   "cell_type": "code",
   "execution_count": 22,
   "id": "7b0f99bf-6241-4cc1-bfe9-a822de5d6ce7",
   "metadata": {
    "tags": []
   },
   "outputs": [
    {
     "name": "stdout",
     "output_type": "stream",
     "text": [
      "-0.51813036\n",
      "Error     : 6.21e-06\n"
     ]
    }
   ],
   "source": [
    "Y1_full = teneva.full(Y1)\n",
    "Y2_full = teneva.full(Y2)\n",
    "\n",
    "v_full = np.sum(Y1_full * Y2_full)\n",
    "\n",
    "print(v_full) # Print the resulting value from full tensor\n",
    "\n",
    "# Compute error for TT-tensor vs full tensor :\n",
    "e = abs((v - v_full)/v_full).item()\n",
    "print(f'Error     : {e:-8.2e}')"
   ]
  },
  {
   "cell_type": "markdown",
   "id": "039faa18-7ec1-4470-a2b9-38320772fe07",
   "metadata": {},
   "source": [
    "## Function `sub`"
   ]
  },
  {
   "cell_type": "markdown",
   "id": "9e22aafe-227c-4700-9714-13994967234a",
   "metadata": {},
   "source": [
    "Compute element wise difference Y = Y1 - Y2 for the given TT-tensors Y1 and Y2."
   ]
  },
  {
   "cell_type": "code",
   "execution_count": 23,
   "id": "383f5ff4-2e8c-4544-a165-800dda02e65f",
   "metadata": {
    "tags": []
   },
   "outputs": [],
   "source": [
    "d = 5   # Dimensions of the tensors\n",
    "n = 6   # Mode sizes of the tensors\n",
    "r1 = 2  # TT-rank of the 1th tensor\n",
    "r2 = 3  # TT-rank of the 2th tensor"
   ]
  },
  {
   "cell_type": "code",
   "execution_count": 24,
   "id": "5720a336-0f1b-4264-a2c4-aa6ac22fc5ad",
   "metadata": {
    "tags": []
   },
   "outputs": [],
   "source": [
    "rng, key = jax.random.split(rng)\n",
    "Y1 = teneva.rand(d, n, r1, key)\n",
    "\n",
    "rng, key = jax.random.split(rng)\n",
    "Y2 = teneva.rand(d, n, r2, key)"
   ]
  },
  {
   "cell_type": "code",
   "execution_count": 25,
   "id": "baa5846d-ff19-4349-bd77-162c5e640079",
   "metadata": {
    "tags": []
   },
   "outputs": [
    {
     "name": "stdout",
     "output_type": "stream",
     "text": [
      "TT-tensor-jax | d =     5 | n =     6 | r =     5 |\n"
     ]
    }
   ],
   "source": [
    "Y = teneva.sub(Y1, Y2)\n",
    "teneva.show(Y)  # Note that the result has TT-rank 2 + 3 = 5"
   ]
  },
  {
   "cell_type": "markdown",
   "id": "af7f2db6-1684-4adb-b525-703faa221ed6",
   "metadata": {},
   "source": [
    "Let check the result:"
   ]
  },
  {
   "cell_type": "code",
   "execution_count": 27,
   "id": "2b6a860e-36dd-4c6a-bdf3-32c5e2a5d31f",
   "metadata": {
    "tags": []
   },
   "outputs": [
    {
     "name": "stdout",
     "output_type": "stream",
     "text": [
      "Error     : 5.56e-08\n"
     ]
    }
   ],
   "source": [
    "Y1_full = teneva.full(Y1)\n",
    "Y2_full = teneva.full(Y2)\n",
    "Y_full = teneva.full(Y)\n",
    "\n",
    "Z_full = Y1_full - Y2_full\n",
    "\n",
    "# Compute error for TT-tensor vs full tensor:\n",
    "e = np.linalg.norm(Y_full - Z_full)\n",
    "e /= np.linalg.norm(Z_full)\n",
    "print(f'Error     : {e:-8.2e}')"
   ]
  },
  {
   "cell_type": "markdown",
   "id": "5157c326-a02c-41fc-b82d-af0d55ddfb18",
   "metadata": {},
   "source": [
    "---"
   ]
  }
 ],
 "metadata": {
  "kernelspec": {
   "display_name": "Python 3 (ipykernel)",
   "language": "python",
   "name": "python3"
  },
  "language_info": {
   "codemirror_mode": {
    "name": "ipython",
    "version": 3
   },
   "file_extension": ".py",
   "mimetype": "text/x-python",
   "name": "python",
   "nbconvert_exporter": "python",
   "pygments_lexer": "ipython3",
   "version": "3.8.16"
  }
 },
 "nbformat": 4,
 "nbformat_minor": 5
}

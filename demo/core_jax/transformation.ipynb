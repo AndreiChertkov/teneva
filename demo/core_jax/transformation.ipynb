{
 "cells": [
  {
   "cell_type": "markdown",
   "id": "28fef7d0-6442-42da-b7a9-eaecf1ee8f5b",
   "metadata": {},
   "source": [
    "**Demo for `teneva.core_jax.transformation`**\n",
    "\n",
    "---\n",
    "\n",
    "This module contains the functions for orthogonalization and truncation of the TT-tensors."
   ]
  },
  {
   "cell_type": "markdown",
   "id": "eae38652-f2a9-46d0-8580-52557ed762c4",
   "metadata": {},
   "source": [
    "## Loading and importing modules"
   ]
  },
  {
   "cell_type": "code",
   "execution_count": 1,
   "id": "37d5d966-46b7-4d35-9d1e-6c70477a7018",
   "metadata": {
    "tags": []
   },
   "outputs": [],
   "source": [
    "import jax\n",
    "import jax.numpy as np\n",
    "import teneva as teneva_base\n",
    "import teneva.core_jax as teneva\n",
    "from time import perf_counter as tpc\n",
    "rng = jax.random.PRNGKey(42)"
   ]
  },
  {
   "cell_type": "markdown",
   "id": "7476c10f-0ac3-44f0-9d20-fc055d77e3d6",
   "metadata": {},
   "source": [
    "## Function `full`"
   ]
  },
  {
   "cell_type": "markdown",
   "id": "448ff060-1001-493b-abbe-e73bc6ed3dff",
   "metadata": {},
   "source": [
    "For a given TT-tensor (list of TT-cores), calculates the tensor in full format (this function can only be used for relatively small tensors)."
   ]
  },
  {
   "cell_type": "code",
   "execution_count": 2,
   "id": "fe78a2d4-d466-4ee9-a4a0-68f3d39d7f3e",
   "metadata": {
    "tags": []
   },
   "outputs": [
    {
     "name": "stdout",
     "output_type": "stream",
     "text": [
      "TT-tensor     5D (shape =     6; rank =     4)\n",
      "Error : 9.7e-08\n"
     ]
    }
   ],
   "source": [
    "d = 5     # Dimension of the tensor\n",
    "n = 6     # Mode size of the tensor\n",
    "r = 4     # Rank of the tensor\n",
    "\n",
    "rng, key = jax.random.split(rng)\n",
    "Y = teneva.rand(d, n, r, key)\n",
    "teneva.show(Y)\n",
    "\n",
    "Z = teneva.full(Y)\n",
    "\n",
    "# Compare original tensor and reconstructed tensor\n",
    "k = np.array([0, 1, 2, 3, 4])\n",
    "y = teneva.get(Y, k)\n",
    "z = Z[tuple(k)]\n",
    "e = np.abs(z-y)\n",
    "print(f'Error : {e:7.1e}')"
   ]
  },
  {
   "cell_type": "markdown",
   "id": "0c3a12a8-48db-456d-9083-2d3ed6715bad",
   "metadata": {},
   "source": [
    "---"
   ]
  }
 ],
 "metadata": {
  "kernelspec": {
   "display_name": "Python 3 (ipykernel)",
   "language": "python",
   "name": "python3"
  },
  "language_info": {
   "codemirror_mode": {
    "name": "ipython",
    "version": 3
   },
   "file_extension": ".py",
   "mimetype": "text/x-python",
   "name": "python",
   "nbconvert_exporter": "python",
   "pygments_lexer": "ipython3",
   "version": "3.8.16"
  }
 },
 "nbformat": 4,
 "nbformat_minor": 5
}

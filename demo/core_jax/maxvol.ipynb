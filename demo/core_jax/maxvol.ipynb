{
 "cells": [
  {
   "cell_type": "markdown",
   "id": "3c2b07f5-7a87-43c0-8509-8db9f60b8b48",
   "metadata": {},
   "source": [
    "**Demo for `teneva.core_jax.maxvol`**\n",
    "\n",
    "---\n",
    "\n",
    "Module contains functions with maxvol-like algorithms."
   ]
  },
  {
   "cell_type": "markdown",
   "id": "5bc72e60-18ff-4433-bed2-5d8aa3be63ba",
   "metadata": {},
   "source": [
    "## Loading and importing modules"
   ]
  },
  {
   "cell_type": "code",
   "execution_count": 1,
   "id": "1bb9f456-e68a-4c1d-9921-a774f86f3936",
   "metadata": {
    "tags": []
   },
   "outputs": [],
   "source": [
    "import jax\n",
    "import jax.numpy as np\n",
    "import teneva as teneva_base\n",
    "import teneva.core_jax as teneva\n",
    "from time import perf_counter as tpc\n",
    "rng = jax.random.PRNGKey(42)"
   ]
  },
  {
   "cell_type": "markdown",
   "id": "8a2f4093-a095-44a2-8016-2fc791034ba4",
   "metadata": {},
   "source": [
    "## Function `maxvol`"
   ]
  },
  {
   "cell_type": "markdown",
   "id": "53fd44f3-a639-4dd2-a938-f073b80d54ae",
   "metadata": {},
   "source": [
    "Compute the maximal-volume submatrix for the given tall matrix."
   ]
  },
  {
   "cell_type": "code",
   "execution_count": 2,
   "id": "699f1217-f66a-46e2-9ee9-4985938fe761",
   "metadata": {
    "tags": []
   },
   "outputs": [],
   "source": [
    "n = 5000                           # Number of rows\n",
    "r = 50                             # Number of columns\n",
    "rng, key = jax.random.split(rng)\n",
    "A = jax.random.normal(key, (n, r)) # Random tall matrix"
   ]
  },
  {
   "cell_type": "code",
   "execution_count": 3,
   "id": "33f31ef4-c7b8-4166-af48-ad21531760e6",
   "metadata": {
    "tags": []
   },
   "outputs": [],
   "source": [
    "e = 1.01  # Accuracy parameter\n",
    "k = 500   # Maximum number of iterations"
   ]
  },
  {
   "cell_type": "code",
   "execution_count": 4,
   "id": "3e00886d-4dc1-41e3-b38b-6905bbf2b149",
   "metadata": {
    "tags": []
   },
   "outputs": [],
   "source": [
    "# Compute row numbers and coefficient matrix:\n",
    "I, B = teneva.maxvol(A, e, k)\n",
    "\n",
    "# Maximal-volume square submatrix:\n",
    "C = A[I, :]"
   ]
  },
  {
   "cell_type": "code",
   "execution_count": 5,
   "id": "2c4d45f8-567a-4cd3-9855-8a702646c41b",
   "metadata": {
    "tags": []
   },
   "outputs": [
    {
     "name": "stdout",
     "output_type": "stream",
     "text": [
      "|Det C|        :        inf\n",
      "Max |B|        :   1.00e+00\n",
      "Max |A - B C|  :   5.78e-06\n",
      "Selected rows  :         50 >  [  57  110  310  531  590  623  699 1074 1294 1369 1429 1485 1504 1723\n",
      " 1781 1835 1917 1952 2120 2147 2342 2687 2762 2785 3027 3088 3147 3236\n",
      " 3393 3491 3619 3714 3820 3870 3879 4030 4037 4039 4049 4087 4118 4285\n",
      " 4328 4446 4582 4587 4664 4694 4805 4931]\n"
     ]
    }
   ],
   "source": [
    "print(f'|Det C|        : {np.abs(np.linalg.det(C)):-10.2e}')\n",
    "print(f'Max |B|        : {np.max(np.abs(B)):-10.2e}')\n",
    "print(f'Max |A - B C|  : {np.max(np.abs(A - B @ C)):-10.2e}')\n",
    "print(f'Selected rows  : {I.size:-10d} > ', np.sort(I))"
   ]
  },
  {
   "cell_type": "markdown",
   "id": "e0e7d613-dbc5-454f-bcf2-98a7c6ed52c4",
   "metadata": {},
   "source": [
    "## Function `maxvol_rect`"
   ]
  },
  {
   "cell_type": "markdown",
   "id": "dc312c83-b2d0-4839-8ca5-cc001e807e7d",
   "metadata": {},
   "source": [
    "Compute the maximal-volume rectangular submatrix for the given tall matrix."
   ]
  },
  {
   "cell_type": "code",
   "execution_count": 6,
   "id": "f0323900-188c-4c85-b56c-c2c597649005",
   "metadata": {
    "tags": []
   },
   "outputs": [],
   "source": [
    "n = 5000                           # Number of rows\n",
    "r = 50                             # Number of columns\n",
    "rng, key = jax.random.split(rng)\n",
    "A = jax.random.normal(key, (n, r)) # Random tall matrix"
   ]
  },
  {
   "cell_type": "code",
   "execution_count": 7,
   "id": "fa38e874-9924-4db5-84e8-a3425fb26690",
   "metadata": {
    "tags": []
   },
   "outputs": [],
   "source": [
    "e = 1.01    # Accuracy parameter\n",
    "dr_min = 2  # Minimum number of added rows\n",
    "dr_max = 8  # Maximum number of added rows\n",
    "e0 = 1.05   # Accuracy parameter for the original maxvol algorithm\n",
    "k0 = 50     # Maximum number of iterations for the original maxvol algorithm"
   ]
  },
  {
   "cell_type": "markdown",
   "id": "8946501f-da7a-4e3a-ae09-6148eebd0cce",
   "metadata": {},
   "source": [
    "THIS IS DRAFT !!!"
   ]
  },
  {
   "cell_type": "code",
   "execution_count": 8,
   "id": "9ea593b0-69aa-4005-bd5d-82d64a659714",
   "metadata": {
    "tags": []
   },
   "outputs": [
    {
     "name": "stderr",
     "output_type": "stream",
     "text": [
      "/Users/andrei/opt/anaconda3/envs/teneva/lib/python3.8/site-packages/jax-0.4.3-py3.8.egg/jax/_src/ops/scatter.py:87: FutureWarning: scatter inputs have incompatible types: cannot safely cast value from dtype=float32 to dtype=int32. In future JAX releases this will result in an error.\n",
      "  warnings.warn(\"scatter inputs have incompatible types: cannot safely cast \"\n"
     ]
    },
    {
     "ename": "TypeError",
     "evalue": "body_fun output and input must have identical types, got\n('ShapedArray(int32[58])', 'DIFFERENT ShapedArray(float32[5000,51]) vs. ShapedArray(float32[5000,50])', 'ShapedArray(float32[5000])', 'ShapedArray(int32[5000])', 'ShapedArray(float32[])', 'ShapedArray(int32[], weak_type=True)').",
     "output_type": "error",
     "traceback": [
      "\u001b[0;31m---------------------------------------------------------------------------\u001b[0m",
      "\u001b[0;31mTypeError\u001b[0m                                 Traceback (most recent call last)",
      "Cell \u001b[0;32mIn[8], line 2\u001b[0m\n\u001b[1;32m      1\u001b[0m \u001b[38;5;66;03m# Row numbers and coefficient matrix:\u001b[39;00m\n\u001b[0;32m----> 2\u001b[0m I, B \u001b[38;5;241m=\u001b[39m \u001b[43mteneva\u001b[49m\u001b[38;5;241;43m.\u001b[39;49m\u001b[43mmaxvol_rect\u001b[49m\u001b[43m(\u001b[49m\u001b[43mA\u001b[49m\u001b[43m,\u001b[49m\u001b[43m \u001b[49m\u001b[43me\u001b[49m\u001b[43m,\u001b[49m\n\u001b[1;32m      3\u001b[0m \u001b[43m    \u001b[49m\u001b[43mdr_min\u001b[49m\u001b[43m,\u001b[49m\u001b[43m \u001b[49m\u001b[43mdr_max\u001b[49m\u001b[43m,\u001b[49m\u001b[43m \u001b[49m\u001b[43me0\u001b[49m\u001b[43m,\u001b[49m\u001b[43m \u001b[49m\u001b[43mk0\u001b[49m\u001b[43m)\u001b[49m\n\u001b[1;32m      5\u001b[0m \u001b[38;5;66;03m# Maximal-volume rectangular submatrix:\u001b[39;00m\n\u001b[1;32m      6\u001b[0m C \u001b[38;5;241m=\u001b[39m A[I, :]\n",
      "File \u001b[0;32m~/opt/anaconda3/envs/teneva/lib/python3.8/site-packages/teneva-0.12.9-py3.8.egg/teneva/core_jax/maxvol.py:151\u001b[0m, in \u001b[0;36mmaxvol_rect\u001b[0;34m(A, e, dr_min, dr_max, e0, k0)\u001b[0m\n\u001b[1;32m    147\u001b[0m     F \u001b[38;5;241m=\u001b[39m S \u001b[38;5;241m*\u001b[39m (F \u001b[38;5;241m-\u001b[39m l \u001b[38;5;241m*\u001b[39m v \u001b[38;5;241m*\u001b[39m v)\n\u001b[1;32m    149\u001b[0m     \u001b[38;5;28;01mreturn\u001b[39;00m I, B, F, S, F[i], k_cur\u001b[38;5;241m+\u001b[39m\u001b[38;5;241m1\u001b[39m\n\u001b[0;32m--> 151\u001b[0m I, B, F, S, f, k \u001b[38;5;241m=\u001b[39m \u001b[43mjax\u001b[49m\u001b[38;5;241;43m.\u001b[39;49m\u001b[43mlax\u001b[49m\u001b[38;5;241;43m.\u001b[39;49m\u001b[43mwhile_loop\u001b[49m\u001b[43m(\u001b[49m\u001b[43mcond\u001b[49m\u001b[43m,\u001b[49m\u001b[43m \u001b[49m\u001b[43mbody\u001b[49m\u001b[43m,\u001b[49m\u001b[43m \u001b[49m\u001b[43m(\u001b[49m\u001b[43mI\u001b[49m\u001b[43m,\u001b[49m\u001b[43m \u001b[49m\u001b[43mB\u001b[49m\u001b[43m,\u001b[49m\u001b[43m \u001b[49m\u001b[43mF\u001b[49m\u001b[43m,\u001b[49m\u001b[43m \u001b[49m\u001b[43mS\u001b[49m\u001b[43m,\u001b[49m\u001b[43m \u001b[49m\u001b[38;5;241;43m2\u001b[39;49m\u001b[43m \u001b[49m\u001b[38;5;241;43m*\u001b[39;49m\u001b[43m \u001b[49m\u001b[43me\u001b[49m\u001b[38;5;241;43m*\u001b[39;49m\u001b[43me\u001b[49m\u001b[43m,\u001b[49m\u001b[43m \u001b[49m\u001b[43mr\u001b[49m\u001b[43m)\u001b[49m\u001b[43m)\u001b[49m\n\u001b[1;32m    152\u001b[0m I \u001b[38;5;241m=\u001b[39m I[:B\u001b[38;5;241m.\u001b[39mshape[\u001b[38;5;241m1\u001b[39m]]\n\u001b[1;32m    153\u001b[0m \u001b[38;5;66;03m#B[I] = np.eye(B.shape[1], dtype=B.dtype)\u001b[39;00m\n",
      "    \u001b[0;31m[... skipping hidden 2 frame]\u001b[0m\n",
      "File \u001b[0;32m~/opt/anaconda3/envs/teneva/lib/python3.8/site-packages/jax-0.4.3-py3.8.egg/jax/_src/lax/control_flow/common.py:108\u001b[0m, in \u001b[0;36m_check_tree_and_avals\u001b[0;34m(what, tree1, avals1, tree2, avals2)\u001b[0m\n\u001b[1;32m    105\u001b[0m \u001b[38;5;28;01mif\u001b[39;00m \u001b[38;5;129;01mnot\u001b[39;00m \u001b[38;5;28mall\u001b[39m(\u001b[38;5;28mmap\u001b[39m(core\u001b[38;5;241m.\u001b[39mtypematch, avals1, avals2)):\n\u001b[1;32m    106\u001b[0m   diff \u001b[38;5;241m=\u001b[39m tree_map(_show_diff, tree_unflatten(tree1, avals1),\n\u001b[1;32m    107\u001b[0m                   tree_unflatten(tree2, avals2))\n\u001b[0;32m--> 108\u001b[0m   \u001b[38;5;28;01mraise\u001b[39;00m \u001b[38;5;167;01mTypeError\u001b[39;00m(\u001b[38;5;124mf\u001b[39m\u001b[38;5;124m\"\u001b[39m\u001b[38;5;132;01m{\u001b[39;00mwhat\u001b[38;5;132;01m}\u001b[39;00m\u001b[38;5;124m must have identical types, got\u001b[39m\u001b[38;5;130;01m\\n\u001b[39;00m\u001b[38;5;132;01m{\u001b[39;00mdiff\u001b[38;5;132;01m}\u001b[39;00m\u001b[38;5;124m.\u001b[39m\u001b[38;5;124m\"\u001b[39m)\n",
      "\u001b[0;31mTypeError\u001b[0m: body_fun output and input must have identical types, got\n('ShapedArray(int32[58])', 'DIFFERENT ShapedArray(float32[5000,51]) vs. ShapedArray(float32[5000,50])', 'ShapedArray(float32[5000])', 'ShapedArray(int32[5000])', 'ShapedArray(float32[])', 'ShapedArray(int32[], weak_type=True)')."
     ]
    }
   ],
   "source": [
    "# Row numbers and coefficient matrix:\n",
    "I, B = teneva.maxvol_rect(A, e,\n",
    "    dr_min, dr_max, e0, k0)\n",
    "\n",
    "# Maximal-volume rectangular submatrix:\n",
    "C = A[I, :]"
   ]
  },
  {
   "cell_type": "markdown",
   "id": "cc2eb1ba-402c-4c08-87e2-14c1084a9be5",
   "metadata": {
    "tags": []
   },
   "source": [
    "---"
   ]
  }
 ],
 "metadata": {
  "kernelspec": {
   "display_name": "Python 3 (ipykernel)",
   "language": "python",
   "name": "python3"
  },
  "language_info": {
   "codemirror_mode": {
    "name": "ipython",
    "version": 3
   },
   "file_extension": ".py",
   "mimetype": "text/x-python",
   "name": "python",
   "nbconvert_exporter": "python",
   "pygments_lexer": "ipython3",
   "version": "3.8.16"
  }
 },
 "nbformat": 4,
 "nbformat_minor": 5
}

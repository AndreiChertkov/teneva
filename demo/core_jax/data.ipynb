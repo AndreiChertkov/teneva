{
 "cells": [
  {
   "cell_type": "markdown",
   "id": "e51b9291-f33c-40ad-96ee-e2f9454ffc69",
   "metadata": {},
   "source": [
    "**Demo for `teneva.core_jax.data`**\n",
    "\n",
    "---\n",
    "\n",
    "This module contains functions for working with datasets, including \"accuracy_on_data\" function."
   ]
  },
  {
   "cell_type": "markdown",
   "id": "3896a55c-1131-44fc-b746-1433ad4ddb08",
   "metadata": {},
   "source": [
    "## Loading and importing modules"
   ]
  },
  {
   "cell_type": "code",
   "execution_count": 1,
   "id": "9941ed2c-6272-4144-8c96-4e800f0b5c49",
   "metadata": {},
   "outputs": [],
   "source": [
    "import jax\n",
    "import jax.numpy as np\n",
    "import teneva as teneva_base\n",
    "import teneva.core_jax as teneva\n",
    "from time import perf_counter as tpc\n",
    "rng = jax.random.PRNGKey(42)"
   ]
  },
  {
   "cell_type": "markdown",
   "id": "c73f6184-e339-423b-a43c-51892aa3f60b",
   "metadata": {},
   "source": [
    "## Function `accuracy_on_data`"
   ]
  },
  {
   "cell_type": "markdown",
   "id": "1ba7aa15-86d0-4048-bca5-2ad506beee11",
   "metadata": {},
   "source": [
    "Compute the relative error of TT-tensor on the dataset."
   ]
  },
  {
   "cell_type": "markdown",
   "id": "52f0dbf0-3888-421f-a034-fefe82c819b1",
   "metadata": {},
   "source": [
    "Let generate a random TT-tensor:"
   ]
  },
  {
   "cell_type": "code",
   "execution_count": 2,
   "id": "4383f85f-3fcf-45ad-ae5e-9d630a03e04b",
   "metadata": {
    "tags": []
   },
   "outputs": [],
   "source": [
    "d = 20  # Dimension of the tensor\n",
    "n = 10  # Mode size of the tensor\n",
    "r = 2   # TT-rank of the tensor"
   ]
  },
  {
   "cell_type": "code",
   "execution_count": 3,
   "id": "83bae3f1-cb11-4eba-9774-c0019e7e0b8e",
   "metadata": {
    "tags": []
   },
   "outputs": [],
   "source": [
    "rng, key = jax.random.split(rng)\n",
    "Y = teneva.rand(d, n, r, key)"
   ]
  },
  {
   "cell_type": "markdown",
   "id": "2e8b5e3f-8fce-4016-9c01-0a43d21924ff",
   "metadata": {},
   "source": [
    "Then we generate some random multi-indices, compute related\n",
    "tensor values and add some noise:"
   ]
  },
  {
   "cell_type": "code",
   "execution_count": 4,
   "id": "492910ed-0cf4-4f4d-b2a1-2827e3b48847",
   "metadata": {
    "tags": []
   },
   "outputs": [],
   "source": [
    "m = 100 # Size of the dataset\n",
    "I_data = teneva_base.sample_lhs([n]*d, m)\n",
    "y_data = teneva.get_many(Y, I_data)\n",
    "\n",
    "rng, key = jax.random.split(rng)\n",
    "y_data = y_data + 1.E-5*jax.random.normal(key, (m, ))"
   ]
  },
  {
   "cell_type": "markdown",
   "id": "5182adc4-9eb6-4b0d-8e44-21e8ab5e814a",
   "metadata": {
    "tags": []
   },
   "source": [
    "And then let compute the accuracy:"
   ]
  },
  {
   "cell_type": "code",
   "execution_count": 5,
   "id": "22ea3536-0dd9-4a30-bc6c-38449681bf59",
   "metadata": {},
   "outputs": [
    {
     "name": "stdout",
     "output_type": "stream",
     "text": [
      "Accuracy     : 4.11e-04\n"
     ]
    }
   ],
   "source": [
    "eps = teneva.accuracy_on_data(Y, I_data, y_data)\n",
    "\n",
    "print(f'Accuracy     : {eps:-8.2e}')"
   ]
  },
  {
   "cell_type": "markdown",
   "id": "5157c326-a02c-41fc-b82d-af0d55ddfb18",
   "metadata": {},
   "source": [
    "---"
   ]
  }
 ],
 "metadata": {
  "kernelspec": {
   "display_name": "Python 3 (ipykernel)",
   "language": "python",
   "name": "python3"
  },
  "language_info": {
   "codemirror_mode": {
    "name": "ipython",
    "version": 3
   },
   "file_extension": ".py",
   "mimetype": "text/x-python",
   "name": "python",
   "nbconvert_exporter": "python",
   "pygments_lexer": "ipython3",
   "version": "3.8.16"
  }
 },
 "nbformat": 4,
 "nbformat_minor": 5
}

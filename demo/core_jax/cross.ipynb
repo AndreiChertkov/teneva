{
 "cells": [
  {
   "cell_type": "markdown",
   "id": "e51b9291-f33c-40ad-96ee-e2f9454ffc69",
   "metadata": {},
   "source": [
    "**Demo for `teneva.core_jax.cross`**\n",
    "\n",
    "---\n",
    "\n",
    "This module contains the function \"cross\" which computes the TT-approximation for implicit tensor given functionally by the multidimensional cross approximation method in the TT-format (TT-cross)."
   ]
  },
  {
   "cell_type": "markdown",
   "id": "3896a55c-1131-44fc-b746-1433ad4ddb08",
   "metadata": {},
   "source": [
    "## Loading and importing modules"
   ]
  },
  {
   "cell_type": "code",
   "execution_count": 1,
   "id": "9941ed2c-6272-4144-8c96-4e800f0b5c49",
   "metadata": {},
   "outputs": [],
   "source": [
    "import jax\n",
    "import jax.numpy as np\n",
    "import teneva as teneva_base\n",
    "import teneva.core_jax as teneva\n",
    "from time import perf_counter as tpc\n",
    "rng = jax.random.PRNGKey(42)"
   ]
  },
  {
   "cell_type": "code",
   "execution_count": 2,
   "id": "13519b66-7914-4eb9-ba6e-6377c9fb419c",
   "metadata": {},
   "outputs": [],
   "source": [
    "from jax.config import config\n",
    "config.update('jax_enable_x64', True)"
   ]
  },
  {
   "cell_type": "markdown",
   "id": "fd009f7c-372c-4461-aab5-597711528485",
   "metadata": {},
   "source": [
    "## Function `cross`"
   ]
  },
  {
   "cell_type": "markdown",
   "id": "854fb8ee-c87f-4cc7-8f75-ffdc571a324f",
   "metadata": {},
   "source": [
    "Compute the TT-approximation for implicit tensor given functionally."
   ]
  },
  {
   "cell_type": "code",
   "execution_count": 3,
   "id": "0d04284f-cb66-4e05-beba-07ecaf612c7d",
   "metadata": {
    "tags": []
   },
   "outputs": [],
   "source": [
    "d = 10             # Dimension of the function\n",
    "n = 5              # Shape of the tensor\n",
    "r = 3              # TT-rank of the initial random tensor\n",
    "nswp = 5           # Sweep number for TT-cross iterations\n",
    "m_tst = int(1.E+4) # Number of test points"
   ]
  },
  {
   "cell_type": "markdown",
   "id": "78a452a9-795a-4281-b8f5-85ccc034a376",
   "metadata": {},
   "source": [
    "We set the target function (the function takes as input a multi-index i of the shape [dimension], which is transformed into point x of a uniform spatial grid):"
   ]
  },
  {
   "cell_type": "code",
   "execution_count": 4,
   "id": "21cfd1a8-e82b-4652-90cf-efcf53e44071",
   "metadata": {
    "tags": []
   },
   "outputs": [],
   "source": [
    "a = -2.048 # Lower bound for the spatial grid\n",
    "b = +2.048 # Upper bound for the spatial grid\n",
    "\n",
    "def func_base(i):\n",
    "    \"\"\"Michalewicz function.\"\"\"\n",
    "    x = i / n * (b - a) + a\n",
    "    y1 = 100. * (x[1:] - x[:-1]**2)**2\n",
    "    y2 = (x[:-1] - 1.)**2\n",
    "    return np.sum(y1 + y2)\n",
    "\n",
    "    y1 = np.sin(((np.arange(d) + 1) * x**2 / np.pi))\n",
    "    return -np.sum(np.sin(x) * y1**(2 * 10))\n",
    "\n",
    "func = jax.jit(jax.vmap(func_base))"
   ]
  },
  {
   "cell_type": "markdown",
   "id": "c92a8af0-a8c4-44a4-b19c-ccd8b27927e7",
   "metadata": {},
   "source": [
    "We prepare test data from random tensor multi-indices:"
   ]
  },
  {
   "cell_type": "code",
   "execution_count": 5,
   "id": "cec80246-5ec5-4036-9388-eb34a251b7d7",
   "metadata": {},
   "outputs": [],
   "source": [
    "rng, key = jax.random.split(rng)\n",
    "I_tst = teneva.sample_rand(d, n, m_tst, key)\n",
    "y_tst = func(I_tst)"
   ]
  },
  {
   "cell_type": "markdown",
   "id": "dd7451d0-64a3-4939-8a47-9c6c58eccea8",
   "metadata": {},
   "source": [
    "We build a random initial approximation:"
   ]
  },
  {
   "cell_type": "code",
   "execution_count": 6,
   "id": "7ce018a0-dc27-436d-8f51-f2270b001e4d",
   "metadata": {
    "tags": []
   },
   "outputs": [],
   "source": [
    "rng, key = jax.random.split(rng)\n",
    "Y0 = teneva.rand(d, n, r, key)"
   ]
  },
  {
   "cell_type": "markdown",
   "id": "4a10b4cc-7fa3-4834-8b9b-02149648e1ef",
   "metadata": {},
   "source": [
    "And now we run the TT-cross method:"
   ]
  },
  {
   "cell_type": "code",
   "execution_count": 7,
   "id": "f390e0a1-5ca4-4c51-9020-98e6a2555cb3",
   "metadata": {
    "tags": []
   },
   "outputs": [],
   "source": [
    "from functools import partial\n",
    "\n",
    "\n",
    "def cross(f, Y0, nswp=10):\n",
    "    Y = teneva.copy(Y0)\n",
    "    d = len(Y[1]) + 2\n",
    "    n = Y[0].shape[1]\n",
    "\n",
    "    Ir = [np.zeros((1, 0)) for i in range(d+1)]\n",
    "    Ic = [np.zeros((1, 0)) for i in range(d+1)]\n",
    "\n",
    "    Y = teneva.convert(Y)\n",
    "\n",
    "    R = np.ones((1, 1))\n",
    "    for i in range(d-1, -1, -1):\n",
    "        G = np.tensordot(Y[i], R, 1)\n",
    "        Y[i], R, Ic[i] = _iter_rtl(G, Ic[i+1])\n",
    "    Y[0] = np.tensordot(R, Y[0], 1)\n",
    "\n",
    "    for fff in Ic:\n",
    "        print(fff)\n",
    "    Icl = Ic[1]\n",
    "    Icm = np.vstack(Ic[2:-1])\n",
    "    \n",
    "    @partial(jax.jit, static_argnums=[2])\n",
    "    def _func(Ir, Ic, ig):\n",
    "        n, r1, r2 = ig.shape[0], Ir.shape[0], Ic.shape[0]\n",
    "        I = np.kron(np.kron(np.ones(r2), ig), np.ones(r1)).reshape((-1,1))\n",
    "        I = np.hstack((np.kron(np.ones((n*r2, 1)), Ir), I))\n",
    "        I = np.hstack((I, np.kron(Ic, np.ones((r1*n, 1)))))\n",
    "        return np.reshape(f(I), (r1, n, r2), order='F')\n",
    "\n",
    "    @jax.jit\n",
    "    def _iter_ltr_body(args, Ic):\n",
    "        R, Ir, ig = args\n",
    "        #Z = _func(Ir, Ic, ig)\n",
    "        \n",
    "        n, r1, r2 = ig.shape[0], Ir.shape[0], Ic.shape[0]\n",
    "        I = np.kron(np.kron(np.ones(r2), ig), np.ones(r1)).reshape((-1,1))\n",
    "        I = np.hstack((np.kron(np.ones((n*r2, 1)), Ir), I))\n",
    "        I = np.hstack((I, np.kron(Ic, np.ones((r1*n, 1)))))\n",
    "        Z = np.reshape(f(I), (r1, n, r2), order='F')\n",
    "    \n",
    "        G, R, Ir = _iter_ltr(Z, Ir)\n",
    "        return (R, Ir, ig), (G, Ir)\n",
    "    \n",
    "    @jax.jit\n",
    "    def _iter_rtl_body(args, Ir):\n",
    "        R, Ic, ig = args\n",
    "        #Z = _func(Ir, Ic, ig)\n",
    "        \n",
    "        n, r1, r2 = ig.shape[0], Ir.shape[0], Ic.shape[0]\n",
    "        I = np.kron(np.kron(np.ones(r2), ig), np.ones(r1)).reshape((-1,1))\n",
    "        I = np.hstack((np.kron(np.ones((n*r2, 1)), Ir), I))\n",
    "        I = np.hstack((I, np.kron(Ic, np.ones((r1*n, 1)))))\n",
    "        Z = np.reshape(f(I), (r1, n, r2), order='F')\n",
    "        \n",
    "        G, R, Ic = _iter_rtl(Z, Ic)\n",
    "        return (R, Ic, ig), (G, Ic)\n",
    "\n",
    "    ig = np.arange(n)\n",
    "\n",
    "    for _ in range(nswp):\n",
    "        (R, _, _), (Yl, Irl) = _iter_ltr_body(\n",
    "            (None, np.zeros((1, 0)), ig), Icl)\n",
    "        (R, _, _), (Ym, Irm) = jax.lax.scan(_iter_ltr_body,\n",
    "            (R, Irl, ig), Icm)\n",
    "        Irm, Irr = _shift_ltr(Irl, Irm)\n",
    "        (R, _, _), (Yr, _) = _iter_ltr_body(\n",
    "            (R, Irr, ig), np.zeros((1, 0)))\n",
    "        Yr = np.tensordot(Yr, R, 1)\n",
    "        \n",
    "        (R, _, _), (Yr, Icr) = _iter_rtl_body(\n",
    "            (None, Irr, ig), np.zeros((1, 0)))\n",
    "        (R, _, _), (Ym, Icm) = jax.lax.scan(_iter_rtl_body,\n",
    "            (R, Icr, ig), Irm, reverse=True)\n",
    "        Icl, Icm = _shift_rtl(Icm, Icr)\n",
    "        (R, _, _), (Yl, _) = _iter_rtl_body(\n",
    "            (R, Icl, ig), np.zeros((1, 0)))\n",
    "        Yl = np.tensordot(R, Yl, 1)\n",
    "        \n",
    "    import numpy as onp\n",
    "    Y = [onp.array(G) for G in Y]\n",
    "    return teneva.convert(Y)\n",
    "\n",
    "\n",
    "def _iter_ltr(Z, Ir):\n",
    "    r1, n, r2 = Z.shape\n",
    "\n",
    "    I = np.kron(np.arange(n), np.ones(r1)).reshape((-1,1))\n",
    "    I = np.hstack((np.kron(np.ones((n, 1)), Ir), I))\n",
    "\n",
    "    Q, R = np.linalg.qr(np.reshape(Z, (r1 * n, r2), order='F'))\n",
    "    ind, B = teneva.maxvol(Q)\n",
    "    G = np.reshape(B, (r1, n, -1), order='F')\n",
    "    R = Q[ind, :] @ R\n",
    "\n",
    "    return G, R, I[ind, :]\n",
    "\n",
    "\n",
    "def _iter_rtl(Z, Il):\n",
    "    r1, n, r2 = Z.shape\n",
    "\n",
    "    I = np.kron(np.ones(r2), np.arange(n)).reshape((-1,1))\n",
    "    I = np.hstack((I, np.kron(Il, np.ones((n, 1)))))\n",
    "\n",
    "    Q, R = np.linalg.qr(np.reshape(Z, (r1, n * r2), order='F').T)\n",
    "    ind, B = teneva.maxvol(Q)\n",
    "    G = np.reshape(B.T, (-1, n, r2), order='F')\n",
    "    R = (Q[ind, :] @ R).T\n",
    "\n",
    "    return G, R, I[ind, :]\n",
    "\n",
    "\n",
    "@jax.jit\n",
    "def _shift_ltr(Zl_ltr, Zm_ltr):\n",
    "    return np.vstack((Zl_ltr[None], Zm_ltr[:-1])), Zm_ltr[-1]\n",
    "\n",
    "\n",
    "@jax.jit\n",
    "def _shift_rtl(Zm_rtl, Zr_rtl):\n",
    "    return Zm_rtl[0], np.vstack((Zm_rtl[1:], Zr_rtl[None]))"
   ]
  },
  {
   "cell_type": "code",
   "execution_count": 82,
   "id": "da98bc7f-1aee-4bb1-9f5f-239c60310a02",
   "metadata": {
    "tags": []
   },
   "outputs": [
    {
     "name": "stdout",
     "output_type": "stream",
     "text": [
      "[[0. 3. 4. 0. 3. 2. 2. 2. 0. 4.]]\n",
      "[[3. 4. 0. 3. 2. 2. 2. 0. 4.]\n",
      " [0. 4. 0. 3. 2. 2. 2. 0. 4.]\n",
      " [3. 1. 0. 3. 2. 2. 2. 0. 4.]]\n",
      "[[4. 0. 3. 2. 2. 2. 0. 4.]\n",
      " [0. 4. 3. 2. 2. 2. 0. 4.]\n",
      " [1. 0. 3. 2. 2. 2. 0. 4.]]\n",
      "[[4. 3. 2. 2. 2. 0. 4.]\n",
      " [3. 3. 2. 2. 2. 0. 4.]\n",
      " [0. 3. 2. 2. 2. 0. 4.]]\n",
      "[[0. 0. 1. 2. 0. 4.]\n",
      " [3. 2. 2. 2. 0. 4.]\n",
      " [4. 2. 2. 2. 0. 4.]]\n",
      "[[0. 1. 2. 0. 4.]\n",
      " [2. 2. 2. 0. 4.]\n",
      " [4. 2. 2. 0. 4.]]\n",
      "[[2. 2. 0. 4.]\n",
      " [0. 4. 4. 1.]\n",
      " [1. 2. 0. 4.]]\n",
      "[[2. 0. 4.]\n",
      " [4. 4. 1.]\n",
      " [4. 1. 2.]]\n",
      "[[0. 4.]\n",
      " [4. 1.]\n",
      " [1. 2.]]\n",
      "[[2.]\n",
      " [4.]\n",
      " [1.]]\n",
      "[]\n"
     ]
    },
    {
     "ename": "TypeError",
     "evalue": "Cannot concatenate arrays with shapes that differ in dimensions other than the one being concatenated: concatenating along dimension 0 for shapes (3, 8), (3, 7), (3, 6), (3, 5), (3, 4), (3, 3), (3, 2), (3, 1).",
     "output_type": "error",
     "traceback": [
      "\u001b[0;31m---------------------------------------------------------------------------\u001b[0m",
      "\u001b[0;31mTypeError\u001b[0m                                 Traceback (most recent call last)",
      "Cell \u001b[0;32mIn[82], line 2\u001b[0m\n\u001b[1;32m      1\u001b[0m t \u001b[38;5;241m=\u001b[39m tpc()\n\u001b[0;32m----> 2\u001b[0m Y \u001b[38;5;241m=\u001b[39m \u001b[43mcross\u001b[49m\u001b[43m(\u001b[49m\u001b[43mfunc\u001b[49m\u001b[43m,\u001b[49m\u001b[43m \u001b[49m\u001b[43mY0\u001b[49m\u001b[43m,\u001b[49m\u001b[43m \u001b[49m\u001b[43mnswp\u001b[49m\u001b[43m)\u001b[49m\n\u001b[1;32m      3\u001b[0m t \u001b[38;5;241m=\u001b[39m tpc() \u001b[38;5;241m-\u001b[39m t\n\u001b[1;32m      5\u001b[0m \u001b[38;5;28mprint\u001b[39m(\u001b[38;5;124mf\u001b[39m\u001b[38;5;124m'\u001b[39m\u001b[38;5;124mBuild time           : \u001b[39m\u001b[38;5;132;01m{\u001b[39;00mt\u001b[38;5;132;01m:\u001b[39;00m\u001b[38;5;124m-10.2f\u001b[39m\u001b[38;5;132;01m}\u001b[39;00m\u001b[38;5;124m'\u001b[39m)\n",
      "Cell \u001b[0;32mIn[81], line 23\u001b[0m, in \u001b[0;36mcross\u001b[0;34m(f, Y0, nswp)\u001b[0m\n\u001b[1;32m     21\u001b[0m     \u001b[38;5;28mprint\u001b[39m(fff)\n\u001b[1;32m     22\u001b[0m Icl \u001b[38;5;241m=\u001b[39m Ic[\u001b[38;5;241m1\u001b[39m]\n\u001b[0;32m---> 23\u001b[0m Icm \u001b[38;5;241m=\u001b[39m \u001b[43mnp\u001b[49m\u001b[38;5;241;43m.\u001b[39;49m\u001b[43mvstack\u001b[49m\u001b[43m(\u001b[49m\u001b[43mIc\u001b[49m\u001b[43m[\u001b[49m\u001b[38;5;241;43m2\u001b[39;49m\u001b[43m:\u001b[49m\u001b[38;5;241;43m-\u001b[39;49m\u001b[38;5;241;43m1\u001b[39;49m\u001b[43m]\u001b[49m\u001b[43m)\u001b[49m\n\u001b[1;32m     25\u001b[0m \u001b[38;5;129m@partial\u001b[39m(jax\u001b[38;5;241m.\u001b[39mjit, static_argnums\u001b[38;5;241m=\u001b[39m[\u001b[38;5;241m2\u001b[39m])\n\u001b[1;32m     26\u001b[0m \u001b[38;5;28;01mdef\u001b[39;00m \u001b[38;5;21m_func\u001b[39m(Ir, Ic, ig):\n\u001b[1;32m     27\u001b[0m     n, r1, r2 \u001b[38;5;241m=\u001b[39m ig\u001b[38;5;241m.\u001b[39mshape[\u001b[38;5;241m0\u001b[39m], Ir\u001b[38;5;241m.\u001b[39mshape[\u001b[38;5;241m0\u001b[39m], Ic\u001b[38;5;241m.\u001b[39mshape[\u001b[38;5;241m0\u001b[39m]\n",
      "File \u001b[0;32m~/opt/anaconda3/envs/teneva/lib/python3.8/site-packages/jax-0.4.3-py3.8.egg/jax/_src/numpy/lax_numpy.py:1830\u001b[0m, in \u001b[0;36mvstack\u001b[0;34m(tup, dtype)\u001b[0m\n\u001b[1;32m   1828\u001b[0m \u001b[38;5;28;01melse\u001b[39;00m:\n\u001b[1;32m   1829\u001b[0m   arrs \u001b[38;5;241m=\u001b[39m [atleast_2d(m) \u001b[38;5;28;01mfor\u001b[39;00m m \u001b[38;5;129;01min\u001b[39;00m tup]\n\u001b[0;32m-> 1830\u001b[0m \u001b[38;5;28;01mreturn\u001b[39;00m \u001b[43mconcatenate\u001b[49m\u001b[43m(\u001b[49m\u001b[43marrs\u001b[49m\u001b[43m,\u001b[49m\u001b[43m \u001b[49m\u001b[43maxis\u001b[49m\u001b[38;5;241;43m=\u001b[39;49m\u001b[38;5;241;43m0\u001b[39;49m\u001b[43m,\u001b[49m\u001b[43m \u001b[49m\u001b[43mdtype\u001b[49m\u001b[38;5;241;43m=\u001b[39;49m\u001b[43mdtype\u001b[49m\u001b[43m)\u001b[49m\n",
      "File \u001b[0;32m~/opt/anaconda3/envs/teneva/lib/python3.8/site-packages/jax-0.4.3-py3.8.egg/jax/_src/numpy/lax_numpy.py:1818\u001b[0m, in \u001b[0;36mconcatenate\u001b[0;34m(arrays, axis, dtype)\u001b[0m\n\u001b[1;32m   1816\u001b[0m k \u001b[38;5;241m=\u001b[39m \u001b[38;5;241m16\u001b[39m\n\u001b[1;32m   1817\u001b[0m \u001b[38;5;28;01mwhile\u001b[39;00m \u001b[38;5;28mlen\u001b[39m(arrays_out) \u001b[38;5;241m>\u001b[39m \u001b[38;5;241m1\u001b[39m:\n\u001b[0;32m-> 1818\u001b[0m   arrays_out \u001b[38;5;241m=\u001b[39m [lax\u001b[38;5;241m.\u001b[39mconcatenate(arrays_out[i:i\u001b[38;5;241m+\u001b[39mk], axis)\n\u001b[1;32m   1819\u001b[0m                 \u001b[38;5;28;01mfor\u001b[39;00m i \u001b[38;5;129;01min\u001b[39;00m \u001b[38;5;28mrange\u001b[39m(\u001b[38;5;241m0\u001b[39m, \u001b[38;5;28mlen\u001b[39m(arrays_out), k)]\n\u001b[1;32m   1820\u001b[0m \u001b[38;5;28;01mreturn\u001b[39;00m arrays_out[\u001b[38;5;241m0\u001b[39m]\n",
      "File \u001b[0;32m~/opt/anaconda3/envs/teneva/lib/python3.8/site-packages/jax-0.4.3-py3.8.egg/jax/_src/numpy/lax_numpy.py:1818\u001b[0m, in \u001b[0;36m<listcomp>\u001b[0;34m(.0)\u001b[0m\n\u001b[1;32m   1816\u001b[0m k \u001b[38;5;241m=\u001b[39m \u001b[38;5;241m16\u001b[39m\n\u001b[1;32m   1817\u001b[0m \u001b[38;5;28;01mwhile\u001b[39;00m \u001b[38;5;28mlen\u001b[39m(arrays_out) \u001b[38;5;241m>\u001b[39m \u001b[38;5;241m1\u001b[39m:\n\u001b[0;32m-> 1818\u001b[0m   arrays_out \u001b[38;5;241m=\u001b[39m [\u001b[43mlax\u001b[49m\u001b[38;5;241;43m.\u001b[39;49m\u001b[43mconcatenate\u001b[49m\u001b[43m(\u001b[49m\u001b[43marrays_out\u001b[49m\u001b[43m[\u001b[49m\u001b[43mi\u001b[49m\u001b[43m:\u001b[49m\u001b[43mi\u001b[49m\u001b[38;5;241;43m+\u001b[39;49m\u001b[43mk\u001b[49m\u001b[43m]\u001b[49m\u001b[43m,\u001b[49m\u001b[43m \u001b[49m\u001b[43maxis\u001b[49m\u001b[43m)\u001b[49m\n\u001b[1;32m   1819\u001b[0m                 \u001b[38;5;28;01mfor\u001b[39;00m i \u001b[38;5;129;01min\u001b[39;00m \u001b[38;5;28mrange\u001b[39m(\u001b[38;5;241m0\u001b[39m, \u001b[38;5;28mlen\u001b[39m(arrays_out), k)]\n\u001b[1;32m   1820\u001b[0m \u001b[38;5;28;01mreturn\u001b[39;00m arrays_out[\u001b[38;5;241m0\u001b[39m]\n",
      "File \u001b[0;32m~/opt/anaconda3/envs/teneva/lib/python3.8/site-packages/jax-0.4.3-py3.8.egg/jax/_src/lax/lax.py:644\u001b[0m, in \u001b[0;36mconcatenate\u001b[0;34m(operands, dimension)\u001b[0m\n\u001b[1;32m    642\u001b[0m   \u001b[38;5;28;01mif\u001b[39;00m \u001b[38;5;28misinstance\u001b[39m(op, Array):\n\u001b[1;32m    643\u001b[0m     \u001b[38;5;28;01mreturn\u001b[39;00m type_cast(Array, op)\n\u001b[0;32m--> 644\u001b[0m \u001b[38;5;28;01mreturn\u001b[39;00m \u001b[43mconcatenate_p\u001b[49m\u001b[38;5;241;43m.\u001b[39;49m\u001b[43mbind\u001b[49m\u001b[43m(\u001b[49m\u001b[38;5;241;43m*\u001b[39;49m\u001b[43moperands\u001b[49m\u001b[43m,\u001b[49m\u001b[43m \u001b[49m\u001b[43mdimension\u001b[49m\u001b[38;5;241;43m=\u001b[39;49m\u001b[43mdimension\u001b[49m\u001b[43m)\u001b[49m\n",
      "File \u001b[0;32m~/opt/anaconda3/envs/teneva/lib/python3.8/site-packages/jax-0.4.3-py3.8.egg/jax/_src/core.py:343\u001b[0m, in \u001b[0;36mPrimitive.bind\u001b[0;34m(self, *args, **params)\u001b[0m\n\u001b[1;32m    340\u001b[0m \u001b[38;5;28;01mdef\u001b[39;00m \u001b[38;5;21mbind\u001b[39m(\u001b[38;5;28mself\u001b[39m, \u001b[38;5;241m*\u001b[39margs, \u001b[38;5;241m*\u001b[39m\u001b[38;5;241m*\u001b[39mparams):\n\u001b[1;32m    341\u001b[0m   \u001b[38;5;28;01massert\u001b[39;00m (\u001b[38;5;129;01mnot\u001b[39;00m config\u001b[38;5;241m.\u001b[39mjax_enable_checks \u001b[38;5;129;01mor\u001b[39;00m\n\u001b[1;32m    342\u001b[0m           \u001b[38;5;28mall\u001b[39m(\u001b[38;5;28misinstance\u001b[39m(arg, Tracer) \u001b[38;5;129;01mor\u001b[39;00m valid_jaxtype(arg) \u001b[38;5;28;01mfor\u001b[39;00m arg \u001b[38;5;129;01min\u001b[39;00m args)), args\n\u001b[0;32m--> 343\u001b[0m   \u001b[38;5;28;01mreturn\u001b[39;00m \u001b[38;5;28;43mself\u001b[39;49m\u001b[38;5;241;43m.\u001b[39;49m\u001b[43mbind_with_trace\u001b[49m\u001b[43m(\u001b[49m\u001b[43mfind_top_trace\u001b[49m\u001b[43m(\u001b[49m\u001b[43margs\u001b[49m\u001b[43m)\u001b[49m\u001b[43m,\u001b[49m\u001b[43m \u001b[49m\u001b[43margs\u001b[49m\u001b[43m,\u001b[49m\u001b[43m \u001b[49m\u001b[43mparams\u001b[49m\u001b[43m)\u001b[49m\n",
      "File \u001b[0;32m~/opt/anaconda3/envs/teneva/lib/python3.8/site-packages/jax-0.4.3-py3.8.egg/jax/_src/core.py:346\u001b[0m, in \u001b[0;36mPrimitive.bind_with_trace\u001b[0;34m(self, trace, args, params)\u001b[0m\n\u001b[1;32m    345\u001b[0m \u001b[38;5;28;01mdef\u001b[39;00m \u001b[38;5;21mbind_with_trace\u001b[39m(\u001b[38;5;28mself\u001b[39m, trace, args, params):\n\u001b[0;32m--> 346\u001b[0m   out \u001b[38;5;241m=\u001b[39m \u001b[43mtrace\u001b[49m\u001b[38;5;241;43m.\u001b[39;49m\u001b[43mprocess_primitive\u001b[49m\u001b[43m(\u001b[49m\u001b[38;5;28;43mself\u001b[39;49m\u001b[43m,\u001b[49m\u001b[43m \u001b[49m\u001b[38;5;28;43mmap\u001b[39;49m\u001b[43m(\u001b[49m\u001b[43mtrace\u001b[49m\u001b[38;5;241;43m.\u001b[39;49m\u001b[43mfull_raise\u001b[49m\u001b[43m,\u001b[49m\u001b[43m \u001b[49m\u001b[43margs\u001b[49m\u001b[43m)\u001b[49m\u001b[43m,\u001b[49m\u001b[43m \u001b[49m\u001b[43mparams\u001b[49m\u001b[43m)\u001b[49m\n\u001b[1;32m    347\u001b[0m   \u001b[38;5;28;01mreturn\u001b[39;00m \u001b[38;5;28mmap\u001b[39m(full_lower, out) \u001b[38;5;28;01mif\u001b[39;00m \u001b[38;5;28mself\u001b[39m\u001b[38;5;241m.\u001b[39mmultiple_results \u001b[38;5;28;01melse\u001b[39;00m full_lower(out)\n",
      "File \u001b[0;32m~/opt/anaconda3/envs/teneva/lib/python3.8/site-packages/jax-0.4.3-py3.8.egg/jax/_src/core.py:728\u001b[0m, in \u001b[0;36mEvalTrace.process_primitive\u001b[0;34m(self, primitive, tracers, params)\u001b[0m\n\u001b[1;32m    727\u001b[0m \u001b[38;5;28;01mdef\u001b[39;00m \u001b[38;5;21mprocess_primitive\u001b[39m(\u001b[38;5;28mself\u001b[39m, primitive, tracers, params):\n\u001b[0;32m--> 728\u001b[0m   \u001b[38;5;28;01mreturn\u001b[39;00m \u001b[43mprimitive\u001b[49m\u001b[38;5;241;43m.\u001b[39;49m\u001b[43mimpl\u001b[49m\u001b[43m(\u001b[49m\u001b[38;5;241;43m*\u001b[39;49m\u001b[43mtracers\u001b[49m\u001b[43m,\u001b[49m\u001b[43m \u001b[49m\u001b[38;5;241;43m*\u001b[39;49m\u001b[38;5;241;43m*\u001b[39;49m\u001b[43mparams\u001b[49m\u001b[43m)\u001b[49m\n",
      "File \u001b[0;32m~/opt/anaconda3/envs/teneva/lib/python3.8/site-packages/jax-0.4.3-py3.8.egg/jax/_src/dispatch.py:122\u001b[0m, in \u001b[0;36mapply_primitive\u001b[0;34m(prim, *args, **params)\u001b[0m\n\u001b[1;32m    120\u001b[0m \u001b[38;5;28;01mdef\u001b[39;00m \u001b[38;5;21mapply_primitive\u001b[39m(prim, \u001b[38;5;241m*\u001b[39margs, \u001b[38;5;241m*\u001b[39m\u001b[38;5;241m*\u001b[39mparams):\n\u001b[1;32m    121\u001b[0m \u001b[38;5;250m  \u001b[39m\u001b[38;5;124;03m\"\"\"Impl rule that compiles and runs a single primitive 'prim' using XLA.\"\"\"\u001b[39;00m\n\u001b[0;32m--> 122\u001b[0m   compiled_fun \u001b[38;5;241m=\u001b[39m \u001b[43mxla_primitive_callable\u001b[49m\u001b[43m(\u001b[49m\u001b[43mprim\u001b[49m\u001b[43m,\u001b[49m\u001b[43m \u001b[49m\u001b[38;5;241;43m*\u001b[39;49m\u001b[43munsafe_map\u001b[49m\u001b[43m(\u001b[49m\u001b[43marg_spec\u001b[49m\u001b[43m,\u001b[49m\u001b[43m \u001b[49m\u001b[43margs\u001b[49m\u001b[43m)\u001b[49m\u001b[43m,\u001b[49m\n\u001b[1;32m    123\u001b[0m \u001b[43m                                        \u001b[49m\u001b[38;5;241;43m*\u001b[39;49m\u001b[38;5;241;43m*\u001b[39;49m\u001b[43mparams\u001b[49m\u001b[43m)\u001b[49m\n\u001b[1;32m    124\u001b[0m   \u001b[38;5;28;01mreturn\u001b[39;00m compiled_fun(\u001b[38;5;241m*\u001b[39margs)\n",
      "File \u001b[0;32m~/opt/anaconda3/envs/teneva/lib/python3.8/site-packages/jax-0.4.3-py3.8.egg/jax/_src/util.py:253\u001b[0m, in \u001b[0;36mcache.<locals>.wrap.<locals>.wrapper\u001b[0;34m(*args, **kwargs)\u001b[0m\n\u001b[1;32m    251\u001b[0m   \u001b[38;5;28;01mreturn\u001b[39;00m f(\u001b[38;5;241m*\u001b[39margs, \u001b[38;5;241m*\u001b[39m\u001b[38;5;241m*\u001b[39mkwargs)\n\u001b[1;32m    252\u001b[0m \u001b[38;5;28;01melse\u001b[39;00m:\n\u001b[0;32m--> 253\u001b[0m   \u001b[38;5;28;01mreturn\u001b[39;00m \u001b[43mcached\u001b[49m\u001b[43m(\u001b[49m\u001b[43mconfig\u001b[49m\u001b[38;5;241;43m.\u001b[39;49m\u001b[43m_trace_context\u001b[49m\u001b[43m(\u001b[49m\u001b[43m)\u001b[49m\u001b[43m,\u001b[49m\u001b[43m \u001b[49m\u001b[38;5;241;43m*\u001b[39;49m\u001b[43margs\u001b[49m\u001b[43m,\u001b[49m\u001b[43m \u001b[49m\u001b[38;5;241;43m*\u001b[39;49m\u001b[38;5;241;43m*\u001b[39;49m\u001b[43mkwargs\u001b[49m\u001b[43m)\u001b[49m\n",
      "File \u001b[0;32m~/opt/anaconda3/envs/teneva/lib/python3.8/site-packages/jax-0.4.3-py3.8.egg/jax/_src/util.py:246\u001b[0m, in \u001b[0;36mcache.<locals>.wrap.<locals>.cached\u001b[0;34m(_, *args, **kwargs)\u001b[0m\n\u001b[1;32m    244\u001b[0m \u001b[38;5;129m@functools\u001b[39m\u001b[38;5;241m.\u001b[39mlru_cache(max_size)\n\u001b[1;32m    245\u001b[0m \u001b[38;5;28;01mdef\u001b[39;00m \u001b[38;5;21mcached\u001b[39m(_, \u001b[38;5;241m*\u001b[39margs, \u001b[38;5;241m*\u001b[39m\u001b[38;5;241m*\u001b[39mkwargs):\n\u001b[0;32m--> 246\u001b[0m   \u001b[38;5;28;01mreturn\u001b[39;00m \u001b[43mf\u001b[49m\u001b[43m(\u001b[49m\u001b[38;5;241;43m*\u001b[39;49m\u001b[43margs\u001b[49m\u001b[43m,\u001b[49m\u001b[43m \u001b[49m\u001b[38;5;241;43m*\u001b[39;49m\u001b[38;5;241;43m*\u001b[39;49m\u001b[43mkwargs\u001b[49m\u001b[43m)\u001b[49m\n",
      "File \u001b[0;32m~/opt/anaconda3/envs/teneva/lib/python3.8/site-packages/jax-0.4.3-py3.8.egg/jax/_src/dispatch.py:201\u001b[0m, in \u001b[0;36mxla_primitive_callable\u001b[0;34m(prim, *arg_specs, **params)\u001b[0m\n\u001b[1;32m    199\u001b[0m   \u001b[38;5;28;01melse\u001b[39;00m:\n\u001b[1;32m    200\u001b[0m     \u001b[38;5;28;01mreturn\u001b[39;00m out,\n\u001b[0;32m--> 201\u001b[0m compiled \u001b[38;5;241m=\u001b[39m \u001b[43m_xla_callable_uncached\u001b[49m\u001b[43m(\u001b[49m\u001b[43mlu\u001b[49m\u001b[38;5;241;43m.\u001b[39;49m\u001b[43mwrap_init\u001b[49m\u001b[43m(\u001b[49m\u001b[43mprim_fun\u001b[49m\u001b[43m)\u001b[49m\u001b[43m,\u001b[49m\u001b[43m \u001b[49m\u001b[43mdevice\u001b[49m\u001b[43m,\u001b[49m\u001b[43m \u001b[49m\u001b[38;5;28;43;01mNone\u001b[39;49;00m\u001b[43m,\u001b[49m\n\u001b[1;32m    202\u001b[0m \u001b[43m                                  \u001b[49m\u001b[43mprim\u001b[49m\u001b[38;5;241;43m.\u001b[39;49m\u001b[43mname\u001b[49m\u001b[43m,\u001b[49m\u001b[43m \u001b[49m\u001b[43mdonated_invars\u001b[49m\u001b[43m,\u001b[49m\u001b[43m \u001b[49m\u001b[38;5;28;43;01mFalse\u001b[39;49;00m\u001b[43m,\u001b[49m\u001b[43m \u001b[49m\u001b[38;5;241;43m*\u001b[39;49m\u001b[43marg_specs\u001b[49m\u001b[43m)\u001b[49m\n\u001b[1;32m    203\u001b[0m \u001b[38;5;28;01mif\u001b[39;00m \u001b[38;5;129;01mnot\u001b[39;00m prim\u001b[38;5;241m.\u001b[39mmultiple_results:\n\u001b[1;32m    204\u001b[0m   \u001b[38;5;28;01mreturn\u001b[39;00m \u001b[38;5;28;01mlambda\u001b[39;00m \u001b[38;5;241m*\u001b[39margs, \u001b[38;5;241m*\u001b[39m\u001b[38;5;241m*\u001b[39mkw: compiled(\u001b[38;5;241m*\u001b[39margs, \u001b[38;5;241m*\u001b[39m\u001b[38;5;241m*\u001b[39mkw)[\u001b[38;5;241m0\u001b[39m]\n",
      "File \u001b[0;32m~/opt/anaconda3/envs/teneva/lib/python3.8/site-packages/jax-0.4.3-py3.8.egg/jax/_src/dispatch.py:351\u001b[0m, in \u001b[0;36m_xla_callable_uncached\u001b[0;34m(fun, device, backend, name, donated_invars, keep_unused, *arg_specs)\u001b[0m\n\u001b[1;32m    348\u001b[0m \u001b[38;5;28;01mdef\u001b[39;00m \u001b[38;5;21m_xla_callable_uncached\u001b[39m(fun: lu\u001b[38;5;241m.\u001b[39mWrappedFun, device, backend, name,\n\u001b[1;32m    349\u001b[0m                            donated_invars, keep_unused, \u001b[38;5;241m*\u001b[39marg_specs):\n\u001b[1;32m    350\u001b[0m   \u001b[38;5;28;01mif\u001b[39;00m config\u001b[38;5;241m.\u001b[39mjax_array:\n\u001b[0;32m--> 351\u001b[0m     computation \u001b[38;5;241m=\u001b[39m \u001b[43msharded_lowering\u001b[49m\u001b[43m(\u001b[49m\u001b[43mfun\u001b[49m\u001b[43m,\u001b[49m\u001b[43m \u001b[49m\u001b[43mdevice\u001b[49m\u001b[43m,\u001b[49m\u001b[43m \u001b[49m\u001b[43mbackend\u001b[49m\u001b[43m,\u001b[49m\u001b[43m \u001b[49m\u001b[43mname\u001b[49m\u001b[43m,\u001b[49m\u001b[43m \u001b[49m\u001b[43mdonated_invars\u001b[49m\u001b[43m,\u001b[49m\n\u001b[1;32m    352\u001b[0m \u001b[43m                                   \u001b[49m\u001b[38;5;28;43;01mFalse\u001b[39;49;00m\u001b[43m,\u001b[49m\u001b[43m \u001b[49m\u001b[43mkeep_unused\u001b[49m\u001b[43m,\u001b[49m\u001b[43m \u001b[49m\u001b[38;5;241;43m*\u001b[39;49m\u001b[43marg_specs\u001b[49m\u001b[43m)\u001b[49m\n\u001b[1;32m    353\u001b[0m     allow_prop \u001b[38;5;241m=\u001b[39m [\u001b[38;5;28;01mTrue\u001b[39;00m] \u001b[38;5;241m*\u001b[39m \u001b[38;5;28mlen\u001b[39m(computation\u001b[38;5;241m.\u001b[39mcompile_args[\u001b[38;5;124m'\u001b[39m\u001b[38;5;124mglobal_out_avals\u001b[39m\u001b[38;5;124m'\u001b[39m])\n\u001b[1;32m    354\u001b[0m     \u001b[38;5;28;01mreturn\u001b[39;00m computation\u001b[38;5;241m.\u001b[39mcompile(_allow_propagation_to_outputs\u001b[38;5;241m=\u001b[39mallow_prop)\u001b[38;5;241m.\u001b[39munsafe_call\n",
      "File \u001b[0;32m~/opt/anaconda3/envs/teneva/lib/python3.8/site-packages/jax-0.4.3-py3.8.egg/jax/_src/dispatch.py:342\u001b[0m, in \u001b[0;36msharded_lowering\u001b[0;34m(fun, device, backend, name, donated_invars, always_lower, keep_unused, *arg_specs)\u001b[0m\n\u001b[1;32m    337\u001b[0m in_shardings \u001b[38;5;241m=\u001b[39m [pxla\u001b[38;5;241m.\u001b[39m_UNSPECIFIED \u001b[38;5;28;01mif\u001b[39;00m i \u001b[38;5;129;01mis\u001b[39;00m \u001b[38;5;28;01mNone\u001b[39;00m \u001b[38;5;28;01melse\u001b[39;00m i \u001b[38;5;28;01mfor\u001b[39;00m i \u001b[38;5;129;01min\u001b[39;00m in_shardings]\n\u001b[1;32m    339\u001b[0m \u001b[38;5;66;03m# Pass in a singleton `_UNSPECIFIED` for out_shardings because we don't know\u001b[39;00m\n\u001b[1;32m    340\u001b[0m \u001b[38;5;66;03m# the number of output avals at this stage. lower_sharding_computation will\u001b[39;00m\n\u001b[1;32m    341\u001b[0m \u001b[38;5;66;03m# apply it to all out_avals.\u001b[39;00m\n\u001b[0;32m--> 342\u001b[0m \u001b[38;5;28;01mreturn\u001b[39;00m \u001b[43mpxla\u001b[49m\u001b[38;5;241;43m.\u001b[39;49m\u001b[43mlower_sharding_computation\u001b[49m\u001b[43m(\u001b[49m\n\u001b[1;32m    343\u001b[0m \u001b[43m    \u001b[49m\u001b[43mfun\u001b[49m\u001b[43m,\u001b[49m\u001b[43m \u001b[49m\u001b[38;5;124;43m'\u001b[39;49m\u001b[38;5;124;43mjit\u001b[39;49m\u001b[38;5;124;43m'\u001b[39;49m\u001b[43m,\u001b[49m\u001b[43m \u001b[49m\u001b[43mname\u001b[49m\u001b[43m,\u001b[49m\u001b[43m \u001b[49m\u001b[43min_shardings\u001b[49m\u001b[43m,\u001b[49m\u001b[43m \u001b[49m\u001b[43mpxla\u001b[49m\u001b[38;5;241;43m.\u001b[39;49m\u001b[43m_UNSPECIFIED\u001b[49m\u001b[43m,\u001b[49m\u001b[43m \u001b[49m\u001b[43mdonated_invars\u001b[49m\u001b[43m,\u001b[49m\n\u001b[1;32m    344\u001b[0m \u001b[43m    \u001b[49m\u001b[43min_avals\u001b[49m\u001b[43m,\u001b[49m\u001b[43m \u001b[49m\u001b[43min_is_global\u001b[49m\u001b[38;5;241;43m=\u001b[39;49m\u001b[43m(\u001b[49m\u001b[38;5;28;43;01mTrue\u001b[39;49;00m\u001b[43m,\u001b[49m\u001b[43m)\u001b[49m\u001b[43m \u001b[49m\u001b[38;5;241;43m*\u001b[39;49m\u001b[43m \u001b[49m\u001b[38;5;28;43mlen\u001b[39;49m\u001b[43m(\u001b[49m\u001b[43marg_specs\u001b[49m\u001b[43m)\u001b[49m\u001b[43m,\u001b[49m\u001b[43m \u001b[49m\u001b[43mkeep_unused\u001b[49m\u001b[38;5;241;43m=\u001b[39;49m\u001b[43mkeep_unused\u001b[49m\u001b[43m,\u001b[49m\n\u001b[1;32m    345\u001b[0m \u001b[43m    \u001b[49m\u001b[43malways_lower\u001b[49m\u001b[38;5;241;43m=\u001b[39;49m\u001b[43malways_lower\u001b[49m\u001b[43m,\u001b[49m\u001b[43m \u001b[49m\u001b[43mdevices_from_context\u001b[49m\u001b[38;5;241;43m=\u001b[39;49m\u001b[43mda\u001b[49m\u001b[43m)\u001b[49m\n",
      "File \u001b[0;32m~/opt/anaconda3/envs/teneva/lib/python3.8/site-packages/jax-0.4.3-py3.8.egg/jax/_src/profiler.py:314\u001b[0m, in \u001b[0;36mannotate_function.<locals>.wrapper\u001b[0;34m(*args, **kwargs)\u001b[0m\n\u001b[1;32m    311\u001b[0m \u001b[38;5;129m@wraps\u001b[39m(func)\n\u001b[1;32m    312\u001b[0m \u001b[38;5;28;01mdef\u001b[39;00m \u001b[38;5;21mwrapper\u001b[39m(\u001b[38;5;241m*\u001b[39margs, \u001b[38;5;241m*\u001b[39m\u001b[38;5;241m*\u001b[39mkwargs):\n\u001b[1;32m    313\u001b[0m   \u001b[38;5;28;01mwith\u001b[39;00m TraceAnnotation(name, \u001b[38;5;241m*\u001b[39m\u001b[38;5;241m*\u001b[39mdecorator_kwargs):\n\u001b[0;32m--> 314\u001b[0m     \u001b[38;5;28;01mreturn\u001b[39;00m \u001b[43mfunc\u001b[49m\u001b[43m(\u001b[49m\u001b[38;5;241;43m*\u001b[39;49m\u001b[43margs\u001b[49m\u001b[43m,\u001b[49m\u001b[43m \u001b[49m\u001b[38;5;241;43m*\u001b[39;49m\u001b[38;5;241;43m*\u001b[39;49m\u001b[43mkwargs\u001b[49m\u001b[43m)\u001b[49m\n\u001b[1;32m    315\u001b[0m   \u001b[38;5;28;01mreturn\u001b[39;00m wrapper\n",
      "File \u001b[0;32m~/opt/anaconda3/envs/teneva/lib/python3.8/site-packages/jax-0.4.3-py3.8.egg/jax/_src/interpreters/pxla.py:2797\u001b[0m, in \u001b[0;36mlower_sharding_computation\u001b[0;34m(fun, api_name, fun_name, in_shardings, out_shardings, donated_invars, global_in_avals, in_is_global, keep_unused, always_lower, devices_from_context)\u001b[0m\n\u001b[1;32m   2792\u001b[0m name_stack \u001b[38;5;241m=\u001b[39m new_name_stack(wrap_name(fun_name, api_name))\n\u001b[1;32m   2794\u001b[0m \u001b[38;5;28;01mwith\u001b[39;00m dispatch\u001b[38;5;241m.\u001b[39mlog_elapsed_time(\u001b[38;5;124mf\u001b[39m\u001b[38;5;124m\"\u001b[39m\u001b[38;5;124mFinished tracing + transforming \u001b[39m\u001b[38;5;132;01m{\u001b[39;00mname_stack\u001b[38;5;132;01m}\u001b[39;00m\u001b[38;5;124m \u001b[39m\u001b[38;5;124m\"\u001b[39m\n\u001b[1;32m   2795\u001b[0m                                \u001b[38;5;124m\"\u001b[39m\u001b[38;5;124min \u001b[39m\u001b[38;5;132;01m{elapsed_time}\u001b[39;00m\u001b[38;5;124m sec\u001b[39m\u001b[38;5;124m\"\u001b[39m,\n\u001b[1;32m   2796\u001b[0m                                event\u001b[38;5;241m=\u001b[39mdispatch\u001b[38;5;241m.\u001b[39mJAXPR_TRACE_EVENT):\n\u001b[0;32m-> 2797\u001b[0m   jaxpr, global_out_avals, consts \u001b[38;5;241m=\u001b[39m \u001b[43mpe\u001b[49m\u001b[38;5;241;43m.\u001b[39;49m\u001b[43mtrace_to_jaxpr_final\u001b[49m\u001b[43m(\u001b[49m\n\u001b[1;32m   2798\u001b[0m \u001b[43m      \u001b[49m\u001b[43mfun\u001b[49m\u001b[43m,\u001b[49m\u001b[43m \u001b[49m\u001b[43mglobal_in_avals\u001b[49m\u001b[43m,\u001b[49m\u001b[43m \u001b[49m\u001b[43mdebug_info\u001b[49m\u001b[38;5;241;43m=\u001b[39;49m\u001b[43mpe\u001b[49m\u001b[38;5;241;43m.\u001b[39;49m\u001b[43mdebug_info_final\u001b[49m\u001b[43m(\u001b[49m\u001b[43mfun\u001b[49m\u001b[43m,\u001b[49m\u001b[43m \u001b[49m\u001b[43mapi_name\u001b[49m\u001b[43m)\u001b[49m\u001b[43m)\u001b[49m\n\u001b[1;32m   2799\u001b[0m kept_outputs \u001b[38;5;241m=\u001b[39m [\u001b[38;5;28;01mTrue\u001b[39;00m] \u001b[38;5;241m*\u001b[39m \u001b[38;5;28mlen\u001b[39m(global_out_avals)\n\u001b[1;32m   2801\u001b[0m \u001b[38;5;28;01mif\u001b[39;00m _is_unspecified(out_shardings):\n",
      "File \u001b[0;32m~/opt/anaconda3/envs/teneva/lib/python3.8/site-packages/jax-0.4.3-py3.8.egg/jax/_src/profiler.py:314\u001b[0m, in \u001b[0;36mannotate_function.<locals>.wrapper\u001b[0;34m(*args, **kwargs)\u001b[0m\n\u001b[1;32m    311\u001b[0m \u001b[38;5;129m@wraps\u001b[39m(func)\n\u001b[1;32m    312\u001b[0m \u001b[38;5;28;01mdef\u001b[39;00m \u001b[38;5;21mwrapper\u001b[39m(\u001b[38;5;241m*\u001b[39margs, \u001b[38;5;241m*\u001b[39m\u001b[38;5;241m*\u001b[39mkwargs):\n\u001b[1;32m    313\u001b[0m   \u001b[38;5;28;01mwith\u001b[39;00m TraceAnnotation(name, \u001b[38;5;241m*\u001b[39m\u001b[38;5;241m*\u001b[39mdecorator_kwargs):\n\u001b[0;32m--> 314\u001b[0m     \u001b[38;5;28;01mreturn\u001b[39;00m \u001b[43mfunc\u001b[49m\u001b[43m(\u001b[49m\u001b[38;5;241;43m*\u001b[39;49m\u001b[43margs\u001b[49m\u001b[43m,\u001b[49m\u001b[43m \u001b[49m\u001b[38;5;241;43m*\u001b[39;49m\u001b[38;5;241;43m*\u001b[39;49m\u001b[43mkwargs\u001b[49m\u001b[43m)\u001b[49m\n\u001b[1;32m    315\u001b[0m   \u001b[38;5;28;01mreturn\u001b[39;00m wrapper\n",
      "File \u001b[0;32m~/opt/anaconda3/envs/teneva/lib/python3.8/site-packages/jax-0.4.3-py3.8.egg/jax/interpreters/partial_eval.py:2073\u001b[0m, in \u001b[0;36mtrace_to_jaxpr_final\u001b[0;34m(fun, in_avals, debug_info, keep_inputs)\u001b[0m\n\u001b[1;32m   2071\u001b[0m   main\u001b[38;5;241m.\u001b[39mjaxpr_stack \u001b[38;5;241m=\u001b[39m ()  \u001b[38;5;66;03m# type: ignore\u001b[39;00m\n\u001b[1;32m   2072\u001b[0m   \u001b[38;5;28;01mwith\u001b[39;00m core\u001b[38;5;241m.\u001b[39mnew_sublevel():\n\u001b[0;32m-> 2073\u001b[0m     jaxpr, out_avals, consts \u001b[38;5;241m=\u001b[39m \u001b[43mtrace_to_subjaxpr_dynamic\u001b[49m\u001b[43m(\u001b[49m\n\u001b[1;32m   2074\u001b[0m \u001b[43m      \u001b[49m\u001b[43mfun\u001b[49m\u001b[43m,\u001b[49m\u001b[43m \u001b[49m\u001b[43mmain\u001b[49m\u001b[43m,\u001b[49m\u001b[43m \u001b[49m\u001b[43min_avals\u001b[49m\u001b[43m,\u001b[49m\u001b[43m \u001b[49m\u001b[43mkeep_inputs\u001b[49m\u001b[38;5;241;43m=\u001b[39;49m\u001b[43mkeep_inputs\u001b[49m\u001b[43m,\u001b[49m\u001b[43m \u001b[49m\u001b[43mdebug_info\u001b[49m\u001b[38;5;241;43m=\u001b[39;49m\u001b[43mdebug_info\u001b[49m\u001b[43m)\u001b[49m\n\u001b[1;32m   2075\u001b[0m   \u001b[38;5;28;01mdel\u001b[39;00m fun, main\n\u001b[1;32m   2076\u001b[0m \u001b[38;5;28;01mreturn\u001b[39;00m jaxpr, out_avals, consts\n",
      "File \u001b[0;32m~/opt/anaconda3/envs/teneva/lib/python3.8/site-packages/jax-0.4.3-py3.8.egg/jax/interpreters/partial_eval.py:2006\u001b[0m, in \u001b[0;36mtrace_to_subjaxpr_dynamic\u001b[0;34m(fun, main, in_avals, keep_inputs, debug_info)\u001b[0m\n\u001b[1;32m   2004\u001b[0m in_tracers \u001b[38;5;241m=\u001b[39m _input_type_to_tracers(trace\u001b[38;5;241m.\u001b[39mnew_arg, in_avals)\n\u001b[1;32m   2005\u001b[0m in_tracers_ \u001b[38;5;241m=\u001b[39m [t \u001b[38;5;28;01mfor\u001b[39;00m t, keep \u001b[38;5;129;01min\u001b[39;00m \u001b[38;5;28mzip\u001b[39m(in_tracers, keep_inputs) \u001b[38;5;28;01mif\u001b[39;00m keep]\n\u001b[0;32m-> 2006\u001b[0m ans \u001b[38;5;241m=\u001b[39m \u001b[43mfun\u001b[49m\u001b[38;5;241;43m.\u001b[39;49m\u001b[43mcall_wrapped\u001b[49m\u001b[43m(\u001b[49m\u001b[38;5;241;43m*\u001b[39;49m\u001b[43min_tracers_\u001b[49m\u001b[43m)\u001b[49m\n\u001b[1;32m   2007\u001b[0m out_tracers \u001b[38;5;241m=\u001b[39m \u001b[38;5;28mmap\u001b[39m(trace\u001b[38;5;241m.\u001b[39mfull_raise, ans)\n\u001b[1;32m   2008\u001b[0m jaxpr, consts \u001b[38;5;241m=\u001b[39m frame\u001b[38;5;241m.\u001b[39mto_jaxpr(out_tracers)\n",
      "File \u001b[0;32m~/opt/anaconda3/envs/teneva/lib/python3.8/site-packages/jax-0.4.3-py3.8.egg/jax/_src/linear_util.py:165\u001b[0m, in \u001b[0;36mWrappedFun.call_wrapped\u001b[0;34m(self, *args, **kwargs)\u001b[0m\n\u001b[1;32m    162\u001b[0m gen \u001b[38;5;241m=\u001b[39m gen_static_args \u001b[38;5;241m=\u001b[39m out_store \u001b[38;5;241m=\u001b[39m \u001b[38;5;28;01mNone\u001b[39;00m\n\u001b[1;32m    164\u001b[0m \u001b[38;5;28;01mtry\u001b[39;00m:\n\u001b[0;32m--> 165\u001b[0m   ans \u001b[38;5;241m=\u001b[39m \u001b[38;5;28;43mself\u001b[39;49m\u001b[38;5;241;43m.\u001b[39;49m\u001b[43mf\u001b[49m\u001b[43m(\u001b[49m\u001b[38;5;241;43m*\u001b[39;49m\u001b[43margs\u001b[49m\u001b[43m,\u001b[49m\u001b[43m \u001b[49m\u001b[38;5;241;43m*\u001b[39;49m\u001b[38;5;241;43m*\u001b[39;49m\u001b[38;5;28;43mdict\u001b[39;49m\u001b[43m(\u001b[49m\u001b[38;5;28;43mself\u001b[39;49m\u001b[38;5;241;43m.\u001b[39;49m\u001b[43mparams\u001b[49m\u001b[43m,\u001b[49m\u001b[43m \u001b[49m\u001b[38;5;241;43m*\u001b[39;49m\u001b[38;5;241;43m*\u001b[39;49m\u001b[43mkwargs\u001b[49m\u001b[43m)\u001b[49m\u001b[43m)\u001b[49m\n\u001b[1;32m    166\u001b[0m \u001b[38;5;28;01mexcept\u001b[39;00m:\n\u001b[1;32m    167\u001b[0m   \u001b[38;5;66;03m# Some transformations yield from inside context managers, so we have to\u001b[39;00m\n\u001b[1;32m    168\u001b[0m   \u001b[38;5;66;03m# interrupt them before reraising the exception. Otherwise they will only\u001b[39;00m\n\u001b[1;32m    169\u001b[0m   \u001b[38;5;66;03m# get garbage-collected at some later time, running their cleanup tasks\u001b[39;00m\n\u001b[1;32m    170\u001b[0m   \u001b[38;5;66;03m# only after this exception is handled, which can corrupt the global\u001b[39;00m\n\u001b[1;32m    171\u001b[0m   \u001b[38;5;66;03m# state.\u001b[39;00m\n\u001b[1;32m    172\u001b[0m   \u001b[38;5;28;01mwhile\u001b[39;00m stack:\n",
      "File \u001b[0;32m~/opt/anaconda3/envs/teneva/lib/python3.8/site-packages/jax-0.4.3-py3.8.egg/jax/_src/dispatch.py:196\u001b[0m, in \u001b[0;36mxla_primitive_callable.<locals>.prim_fun\u001b[0;34m(*args)\u001b[0m\n\u001b[1;32m    195\u001b[0m \u001b[38;5;28;01mdef\u001b[39;00m \u001b[38;5;21mprim_fun\u001b[39m(\u001b[38;5;241m*\u001b[39margs):\n\u001b[0;32m--> 196\u001b[0m   out \u001b[38;5;241m=\u001b[39m \u001b[43mprim\u001b[49m\u001b[38;5;241;43m.\u001b[39;49m\u001b[43mbind\u001b[49m\u001b[43m(\u001b[49m\u001b[38;5;241;43m*\u001b[39;49m\u001b[43margs\u001b[49m\u001b[43m,\u001b[49m\u001b[43m \u001b[49m\u001b[38;5;241;43m*\u001b[39;49m\u001b[38;5;241;43m*\u001b[39;49m\u001b[43mparams\u001b[49m\u001b[43m)\u001b[49m\n\u001b[1;32m    197\u001b[0m   \u001b[38;5;28;01mif\u001b[39;00m prim\u001b[38;5;241m.\u001b[39mmultiple_results:\n\u001b[1;32m    198\u001b[0m     \u001b[38;5;28;01mreturn\u001b[39;00m out\n",
      "File \u001b[0;32m~/opt/anaconda3/envs/teneva/lib/python3.8/site-packages/jax-0.4.3-py3.8.egg/jax/_src/core.py:343\u001b[0m, in \u001b[0;36mPrimitive.bind\u001b[0;34m(self, *args, **params)\u001b[0m\n\u001b[1;32m    340\u001b[0m \u001b[38;5;28;01mdef\u001b[39;00m \u001b[38;5;21mbind\u001b[39m(\u001b[38;5;28mself\u001b[39m, \u001b[38;5;241m*\u001b[39margs, \u001b[38;5;241m*\u001b[39m\u001b[38;5;241m*\u001b[39mparams):\n\u001b[1;32m    341\u001b[0m   \u001b[38;5;28;01massert\u001b[39;00m (\u001b[38;5;129;01mnot\u001b[39;00m config\u001b[38;5;241m.\u001b[39mjax_enable_checks \u001b[38;5;129;01mor\u001b[39;00m\n\u001b[1;32m    342\u001b[0m           \u001b[38;5;28mall\u001b[39m(\u001b[38;5;28misinstance\u001b[39m(arg, Tracer) \u001b[38;5;129;01mor\u001b[39;00m valid_jaxtype(arg) \u001b[38;5;28;01mfor\u001b[39;00m arg \u001b[38;5;129;01min\u001b[39;00m args)), args\n\u001b[0;32m--> 343\u001b[0m   \u001b[38;5;28;01mreturn\u001b[39;00m \u001b[38;5;28;43mself\u001b[39;49m\u001b[38;5;241;43m.\u001b[39;49m\u001b[43mbind_with_trace\u001b[49m\u001b[43m(\u001b[49m\u001b[43mfind_top_trace\u001b[49m\u001b[43m(\u001b[49m\u001b[43margs\u001b[49m\u001b[43m)\u001b[49m\u001b[43m,\u001b[49m\u001b[43m \u001b[49m\u001b[43margs\u001b[49m\u001b[43m,\u001b[49m\u001b[43m \u001b[49m\u001b[43mparams\u001b[49m\u001b[43m)\u001b[49m\n",
      "File \u001b[0;32m~/opt/anaconda3/envs/teneva/lib/python3.8/site-packages/jax-0.4.3-py3.8.egg/jax/_src/core.py:346\u001b[0m, in \u001b[0;36mPrimitive.bind_with_trace\u001b[0;34m(self, trace, args, params)\u001b[0m\n\u001b[1;32m    345\u001b[0m \u001b[38;5;28;01mdef\u001b[39;00m \u001b[38;5;21mbind_with_trace\u001b[39m(\u001b[38;5;28mself\u001b[39m, trace, args, params):\n\u001b[0;32m--> 346\u001b[0m   out \u001b[38;5;241m=\u001b[39m \u001b[43mtrace\u001b[49m\u001b[38;5;241;43m.\u001b[39;49m\u001b[43mprocess_primitive\u001b[49m\u001b[43m(\u001b[49m\u001b[38;5;28;43mself\u001b[39;49m\u001b[43m,\u001b[49m\u001b[43m \u001b[49m\u001b[38;5;28;43mmap\u001b[39;49m\u001b[43m(\u001b[49m\u001b[43mtrace\u001b[49m\u001b[38;5;241;43m.\u001b[39;49m\u001b[43mfull_raise\u001b[49m\u001b[43m,\u001b[49m\u001b[43m \u001b[49m\u001b[43margs\u001b[49m\u001b[43m)\u001b[49m\u001b[43m,\u001b[49m\u001b[43m \u001b[49m\u001b[43mparams\u001b[49m\u001b[43m)\u001b[49m\n\u001b[1;32m    347\u001b[0m   \u001b[38;5;28;01mreturn\u001b[39;00m \u001b[38;5;28mmap\u001b[39m(full_lower, out) \u001b[38;5;28;01mif\u001b[39;00m \u001b[38;5;28mself\u001b[39m\u001b[38;5;241m.\u001b[39mmultiple_results \u001b[38;5;28;01melse\u001b[39;00m full_lower(out)\n",
      "File \u001b[0;32m~/opt/anaconda3/envs/teneva/lib/python3.8/site-packages/jax-0.4.3-py3.8.egg/jax/interpreters/partial_eval.py:1721\u001b[0m, in \u001b[0;36mDynamicJaxprTrace.process_primitive\u001b[0;34m(self, primitive, tracers, params)\u001b[0m\n\u001b[1;32m   1719\u001b[0m \u001b[38;5;28;01mif\u001b[39;00m primitive \u001b[38;5;129;01min\u001b[39;00m custom_staging_rules:\n\u001b[1;32m   1720\u001b[0m   \u001b[38;5;28;01mreturn\u001b[39;00m custom_staging_rules[primitive](\u001b[38;5;28mself\u001b[39m, \u001b[38;5;241m*\u001b[39mtracers, \u001b[38;5;241m*\u001b[39m\u001b[38;5;241m*\u001b[39mparams)\n\u001b[0;32m-> 1721\u001b[0m \u001b[38;5;28;01mreturn\u001b[39;00m \u001b[38;5;28;43mself\u001b[39;49m\u001b[38;5;241;43m.\u001b[39;49m\u001b[43mdefault_process_primitive\u001b[49m\u001b[43m(\u001b[49m\u001b[43mprimitive\u001b[49m\u001b[43m,\u001b[49m\u001b[43m \u001b[49m\u001b[43mtracers\u001b[49m\u001b[43m,\u001b[49m\u001b[43m \u001b[49m\u001b[43mparams\u001b[49m\u001b[43m)\u001b[49m\n",
      "File \u001b[0;32m~/opt/anaconda3/envs/teneva/lib/python3.8/site-packages/jax-0.4.3-py3.8.egg/jax/interpreters/partial_eval.py:1725\u001b[0m, in \u001b[0;36mDynamicJaxprTrace.default_process_primitive\u001b[0;34m(self, primitive, tracers, params)\u001b[0m\n\u001b[1;32m   1723\u001b[0m \u001b[38;5;28;01mdef\u001b[39;00m \u001b[38;5;21mdefault_process_primitive\u001b[39m(\u001b[38;5;28mself\u001b[39m, primitive, tracers, params):\n\u001b[1;32m   1724\u001b[0m   avals \u001b[38;5;241m=\u001b[39m [t\u001b[38;5;241m.\u001b[39maval \u001b[38;5;28;01mfor\u001b[39;00m t \u001b[38;5;129;01min\u001b[39;00m tracers]\n\u001b[0;32m-> 1725\u001b[0m   out_avals, effects \u001b[38;5;241m=\u001b[39m \u001b[43mprimitive\u001b[49m\u001b[38;5;241;43m.\u001b[39;49m\u001b[43mabstract_eval\u001b[49m\u001b[43m(\u001b[49m\u001b[38;5;241;43m*\u001b[39;49m\u001b[43mavals\u001b[49m\u001b[43m,\u001b[49m\u001b[43m \u001b[49m\u001b[38;5;241;43m*\u001b[39;49m\u001b[38;5;241;43m*\u001b[39;49m\u001b[43mparams\u001b[49m\u001b[43m)\u001b[49m\n\u001b[1;32m   1726\u001b[0m   out_avals \u001b[38;5;241m=\u001b[39m [out_avals] \u001b[38;5;28;01mif\u001b[39;00m \u001b[38;5;129;01mnot\u001b[39;00m primitive\u001b[38;5;241m.\u001b[39mmultiple_results \u001b[38;5;28;01melse\u001b[39;00m out_avals\n\u001b[1;32m   1727\u001b[0m   source_info \u001b[38;5;241m=\u001b[39m source_info_util\u001b[38;5;241m.\u001b[39mcurrent()\n",
      "File \u001b[0;32m~/opt/anaconda3/envs/teneva/lib/python3.8/site-packages/jax-0.4.3-py3.8.egg/jax/_src/core.py:379\u001b[0m, in \u001b[0;36m_effect_free_abstract_eval.<locals>.abstract_eval_\u001b[0;34m(*args, **kwargs)\u001b[0m\n\u001b[1;32m    378\u001b[0m \u001b[38;5;28;01mdef\u001b[39;00m \u001b[38;5;21mabstract_eval_\u001b[39m(\u001b[38;5;241m*\u001b[39margs, \u001b[38;5;241m*\u001b[39m\u001b[38;5;241m*\u001b[39mkwargs):\n\u001b[0;32m--> 379\u001b[0m   \u001b[38;5;28;01mreturn\u001b[39;00m \u001b[43mabstract_eval\u001b[49m\u001b[43m(\u001b[49m\u001b[38;5;241;43m*\u001b[39;49m\u001b[43margs\u001b[49m\u001b[43m,\u001b[49m\u001b[43m \u001b[49m\u001b[38;5;241;43m*\u001b[39;49m\u001b[38;5;241;43m*\u001b[39;49m\u001b[43mkwargs\u001b[49m\u001b[43m)\u001b[49m, no_effects\n",
      "File \u001b[0;32m~/opt/anaconda3/envs/teneva/lib/python3.8/site-packages/jax-0.4.3-py3.8.egg/jax/_src/lax/utils.py:66\u001b[0m, in \u001b[0;36mstandard_abstract_eval\u001b[0;34m(prim, shape_rule, dtype_rule, weak_type_rule, named_shape_rule, *avals, **kwargs)\u001b[0m\n\u001b[1;32m     64\u001b[0m   \u001b[38;5;28;01mreturn\u001b[39;00m core\u001b[38;5;241m.\u001b[39mConcreteArray(out\u001b[38;5;241m.\u001b[39mdtype, out, weak_type\u001b[38;5;241m=\u001b[39mweak_type)\n\u001b[1;32m     65\u001b[0m \u001b[38;5;28;01melif\u001b[39;00m least_specialized \u001b[38;5;129;01mis\u001b[39;00m core\u001b[38;5;241m.\u001b[39mShapedArray:\n\u001b[0;32m---> 66\u001b[0m   \u001b[38;5;28;01mreturn\u001b[39;00m core\u001b[38;5;241m.\u001b[39mShapedArray(\u001b[43mshape_rule\u001b[49m\u001b[43m(\u001b[49m\u001b[38;5;241;43m*\u001b[39;49m\u001b[43mavals\u001b[49m\u001b[43m,\u001b[49m\u001b[43m \u001b[49m\u001b[38;5;241;43m*\u001b[39;49m\u001b[38;5;241;43m*\u001b[39;49m\u001b[43mkwargs\u001b[49m\u001b[43m)\u001b[49m,\n\u001b[1;32m     67\u001b[0m                           dtype_rule(\u001b[38;5;241m*\u001b[39mavals, \u001b[38;5;241m*\u001b[39m\u001b[38;5;241m*\u001b[39mkwargs), weak_type\u001b[38;5;241m=\u001b[39mweak_type,\n\u001b[1;32m     68\u001b[0m                           named_shape\u001b[38;5;241m=\u001b[39mnamed_shape_rule(\u001b[38;5;241m*\u001b[39mavals, \u001b[38;5;241m*\u001b[39m\u001b[38;5;241m*\u001b[39mkwargs))\n\u001b[1;32m     69\u001b[0m \u001b[38;5;28;01melif\u001b[39;00m least_specialized \u001b[38;5;129;01mis\u001b[39;00m core\u001b[38;5;241m.\u001b[39mDShapedArray:\n\u001b[1;32m     70\u001b[0m   shape \u001b[38;5;241m=\u001b[39m shape_rule(\u001b[38;5;241m*\u001b[39mavals, \u001b[38;5;241m*\u001b[39m\u001b[38;5;241m*\u001b[39mkwargs)\n",
      "File \u001b[0;32m~/opt/anaconda3/envs/teneva/lib/python3.8/site-packages/jax-0.4.3-py3.8.egg/jax/_src/lax/lax.py:3029\u001b[0m, in \u001b[0;36m_concatenate_shape_rule\u001b[0;34m(*operands, **kwargs)\u001b[0m\n\u001b[1;32m   3025\u001b[0m   msg \u001b[38;5;241m=\u001b[39m (\u001b[38;5;124m\"\u001b[39m\u001b[38;5;124mCannot concatenate arrays with shapes that differ in dimensions \u001b[39m\u001b[38;5;124m\"\u001b[39m\n\u001b[1;32m   3026\u001b[0m          \u001b[38;5;124m\"\u001b[39m\u001b[38;5;124mother than the one being concatenated: concatenating along \u001b[39m\u001b[38;5;124m\"\u001b[39m\n\u001b[1;32m   3027\u001b[0m          \u001b[38;5;124m\"\u001b[39m\u001b[38;5;124mdimension \u001b[39m\u001b[38;5;132;01m{}\u001b[39;00m\u001b[38;5;124m for shapes \u001b[39m\u001b[38;5;132;01m{}\u001b[39;00m\u001b[38;5;124m.\u001b[39m\u001b[38;5;124m\"\u001b[39m)\n\u001b[1;32m   3028\u001b[0m   shapes \u001b[38;5;241m=\u001b[39m [operand\u001b[38;5;241m.\u001b[39mshape \u001b[38;5;28;01mfor\u001b[39;00m operand \u001b[38;5;129;01min\u001b[39;00m operands]\n\u001b[0;32m-> 3029\u001b[0m   \u001b[38;5;28;01mraise\u001b[39;00m \u001b[38;5;167;01mTypeError\u001b[39;00m(msg\u001b[38;5;241m.\u001b[39mformat(dimension, \u001b[38;5;124m\"\u001b[39m\u001b[38;5;124m, \u001b[39m\u001b[38;5;124m\"\u001b[39m\u001b[38;5;241m.\u001b[39mjoin(\u001b[38;5;28mmap\u001b[39m(\u001b[38;5;28mstr\u001b[39m, shapes))))\n\u001b[1;32m   3031\u001b[0m concat_size \u001b[38;5;241m=\u001b[39m \u001b[38;5;28msum\u001b[39m(o\u001b[38;5;241m.\u001b[39mshape[dimension] \u001b[38;5;28;01mfor\u001b[39;00m o \u001b[38;5;129;01min\u001b[39;00m operands)\n\u001b[1;32m   3032\u001b[0m ex_shape \u001b[38;5;241m=\u001b[39m operands[\u001b[38;5;241m0\u001b[39m]\u001b[38;5;241m.\u001b[39mshape\n",
      "\u001b[0;31mTypeError\u001b[0m: Cannot concatenate arrays with shapes that differ in dimensions other than the one being concatenated: concatenating along dimension 0 for shapes (3, 8), (3, 7), (3, 6), (3, 5), (3, 4), (3, 3), (3, 2), (3, 1)."
     ]
    }
   ],
   "source": [
    "t = tpc()\n",
    "Y = cross(func, Y0, nswp)\n",
    "t = tpc() - t\n",
    "\n",
    "print(f'Build time           : {t:-10.2f}')"
   ]
  },
  {
   "cell_type": "markdown",
   "id": "3013d720-2906-4ecd-9275-fdf7c05f1481",
   "metadata": {},
   "source": [
    "Then we can check the result:"
   ]
  },
  {
   "cell_type": "code",
   "execution_count": 42,
   "id": "e8817326-ef4a-4ea5-ad77-89331a5d89b7",
   "metadata": {},
   "outputs": [
    {
     "name": "stdout",
     "output_type": "stream",
     "text": [
      "Error on test        :   2.72e-15\n"
     ]
    }
   ],
   "source": [
    "# Compute approximation in test points:\n",
    "y_our = teneva.get_many(Y, I_tst)\n",
    "\n",
    "# Accuracy of the result for test points:\n",
    "e_tst = np.linalg.norm(y_our - y_tst) / np.linalg.norm(y_tst)\n",
    "\n",
    "print(f'Error on test        : {e_tst:-10.2e}')"
   ]
  },
  {
   "cell_type": "markdown",
   "id": "b07f0fa1-90de-4111-93b9-ecf59f307b1d",
   "metadata": {},
   "source": [
    "We can compare the result with the base (numpy) TT-cross method (we run it with the same initial approximation and parameters):"
   ]
  },
  {
   "cell_type": "code",
   "execution_count": 10,
   "id": "0fd9ee61-6d4e-4378-9f7a-e07b2be1c795",
   "metadata": {
    "tags": []
   },
   "outputs": [
    {
     "name": "stdout",
     "output_type": "stream",
     "text": [
      "Build time           :       0.18\n",
      "Evals func           :       3900\n",
      "Iter accuracy        :   2.52e-08\n",
      "Error on test        :   1.46e-15\n"
     ]
    }
   ],
   "source": [
    "t = tpc()\n",
    "info, cache = {}, {}\n",
    "Y0_base = teneva.convert(Y0)\n",
    "Y_base = teneva_base.cross(func, Y0_base, nswp=nswp, dr_max=0, info=info)\n",
    "t = tpc() - t\n",
    "\n",
    "y_our = teneva_base.get_many(Y_base, I_tst)\n",
    "\n",
    "# Accuracy of the result for test points:\n",
    "e_tst = np.linalg.norm(y_our - y_tst) / np.linalg.norm(y_tst)\n",
    "\n",
    "print(f'Build time           : {t:-10.2f}')\n",
    "print(f'Evals func           : {info[\"m\"]:-10d}')\n",
    "print(f'Iter accuracy        : {info[\"e\"]:-10.2e}')\n",
    "print(f'Error on test        : {e_tst:-10.2e}')"
   ]
  },
  {
   "cell_type": "markdown",
   "id": "5157c326-a02c-41fc-b82d-af0d55ddfb18",
   "metadata": {},
   "source": [
    "---"
   ]
  }
 ],
 "metadata": {
  "kernelspec": {
   "display_name": "Python 3 (ipykernel)",
   "language": "python",
   "name": "python3"
  },
  "language_info": {
   "codemirror_mode": {
    "name": "ipython",
    "version": 3
   },
   "file_extension": ".py",
   "mimetype": "text/x-python",
   "name": "python",
   "nbconvert_exporter": "python",
   "pygments_lexer": "ipython3",
   "version": "3.8.16"
  }
 },
 "nbformat": 4,
 "nbformat_minor": 5
}

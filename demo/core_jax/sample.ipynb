{
 "cells": [
  {
   "cell_type": "markdown",
   "id": "480083fe-d998-491b-a7ea-f2cf72fdf62f",
   "metadata": {},
   "source": [
    "**Demo for `teneva.core_jax.sample`**\n",
    "\n",
    "---\n",
    "\n",
    "Module contains functions for sampling from the TT-tensor and for generation of random multi-indices and points for learning."
   ]
  },
  {
   "cell_type": "markdown",
   "id": "4eeb9e2c-f598-4288-87fb-edf7bb102cbb",
   "metadata": {},
   "source": [
    "## Loading and importing modules"
   ]
  },
  {
   "cell_type": "code",
   "execution_count": 1,
   "id": "ecbe8c18-3380-46ec-b1e4-1db228c3d87b",
   "metadata": {
    "tags": []
   },
   "outputs": [],
   "source": [
    "import jax\n",
    "import jax.numpy as np\n",
    "import teneva as teneva_base\n",
    "import teneva.core_jax as teneva\n",
    "from time import perf_counter as tpc\n",
    "rng = jax.random.PRNGKey(42)"
   ]
  },
  {
   "cell_type": "markdown",
   "id": "755dd29a-f110-40e3-bcb8-b8e83aa5a857",
   "metadata": {},
   "source": [
    "## Function `sample`"
   ]
  },
  {
   "cell_type": "markdown",
   "id": "0350cacd-9712-4026-b3bd-eb3742fffc76",
   "metadata": {},
   "source": [
    "Sample according to given probability TT-tensor."
   ]
  },
  {
   "cell_type": "code",
   "execution_count": 2,
   "id": "8f85730f-83b5-4334-b4e8-cf5a9c3d597f",
   "metadata": {
    "tags": []
   },
   "outputs": [
    {
     "name": "stdout",
     "output_type": "stream",
     "text": [
      "[2 1 4 0 4 1 3 0]\n"
     ]
    }
   ],
   "source": [
    "rng, key = jax.random.split(rng)\n",
    "Y = teneva.rand(d=8, n=5, r=4, key=key)\n",
    "zl, zm = teneva.interface_rtl(Y)\n",
    "\n",
    "rng, key = jax.random.split(rng)\n",
    "i = teneva.sample(Y, zm, key)\n",
    "print(i)"
   ]
  },
  {
   "cell_type": "markdown",
   "id": "6e5321ed-9efc-4d08-80ba-4ec733eae48c",
   "metadata": {
    "tags": []
   },
   "source": [
    "And now let check this function for big random TT-tensor:"
   ]
  },
  {
   "cell_type": "code",
   "execution_count": 3,
   "id": "df65467a-9eb5-4b0f-940c-b3329975b095",
   "metadata": {
    "tags": []
   },
   "outputs": [],
   "source": [
    "interface_rtl = jax.jit(teneva.interface_rtl)\n",
    "sample = jax.jit(jax.vmap(teneva.sample, (None, None, 0)))"
   ]
  },
  {
   "cell_type": "code",
   "execution_count": 4,
   "id": "fe9683d7-b597-404d-a530-4fd5fa9f68f1",
   "metadata": {
    "tags": []
   },
   "outputs": [],
   "source": [
    "rng, key = jax.random.split(rng)\n",
    "Y = teneva.rand(d=1000, n=100, r=10, key=key)"
   ]
  },
  {
   "cell_type": "code",
   "execution_count": 5,
   "id": "0d3a1745-0e3a-42de-9329-4b133a69257f",
   "metadata": {
    "tags": []
   },
   "outputs": [
    {
     "name": "stdout",
     "output_type": "stream",
     "text": [
      "1000 49.323\n",
      "1000 50.120003\n",
      "1000 48.634003\n",
      "1000 50.989002\n",
      "1000 49.136\n",
      "1000 48.072002\n",
      "1000 49.901\n",
      "1000 49.281002\n",
      "1000 50.443\n",
      "1000 50.769\n"
     ]
    }
   ],
   "source": [
    "zl, zm = interface_rtl(Y)\n",
    "\n",
    "m = 10  # Number of samples\n",
    "rng, key = jax.random.split(rng)\n",
    "I = sample(Y, zm, jax.random.split(key, m))\n",
    "\n",
    "for i in I: # i is a sample of the length d = 1000\n",
    "    print(len(i), np.mean(i))"
   ]
  },
  {
   "cell_type": "markdown",
   "id": "a60f29bf-bfbf-4154-b23e-079bb3acbfa9",
   "metadata": {},
   "source": [
    "Let compare this function with numpy realization:"
   ]
  },
  {
   "cell_type": "code",
   "execution_count": 6,
   "id": "4e858058-d923-4b0a-a2c9-122d2f325379",
   "metadata": {
    "tags": []
   },
   "outputs": [],
   "source": [
    "d = 25       # Dimension of the tensor\n",
    "n = 10       # Mode size of the tensor\n",
    "r = 5        # Rank of the tensor\n",
    "m = 100000   # Number of samples"
   ]
  },
  {
   "cell_type": "code",
   "execution_count": 7,
   "id": "b3015c2e-3a7c-4bae-a25c-75d65ae4d268",
   "metadata": {
    "tags": []
   },
   "outputs": [],
   "source": [
    "Y_base = teneva_base.rand([n]*d, r)"
   ]
  },
  {
   "cell_type": "code",
   "execution_count": 8,
   "id": "e3dd74f0-2dbc-404e-a33c-1d1bbb3c8e60",
   "metadata": {
    "tags": []
   },
   "outputs": [
    {
     "name": "stdout",
     "output_type": "stream",
     "text": [
      "Time :    52.68\n",
      "Mean :     4.33\n",
      "Var  :     8.52\n"
     ]
    }
   ],
   "source": [
    "t = tpc()\n",
    "I_base = teneva_base.sample(Y_base, m)\n",
    "t = tpc() - t\n",
    "\n",
    "print(f'Time : {t:-8.2f}')\n",
    "print(f'Mean : {np.mean(I_base):-8.2f}')\n",
    "print(f'Var  : {np.var(I_base):-8.2f}')"
   ]
  },
  {
   "cell_type": "code",
   "execution_count": 9,
   "id": "f2279fbf-4065-49e8-b99e-d2557f37a71e",
   "metadata": {
    "tags": []
   },
   "outputs": [],
   "source": [
    "Y = teneva.convert(Y_base) # Convert it to the jax version"
   ]
  },
  {
   "cell_type": "code",
   "execution_count": 10,
   "id": "05178fd9-92bb-45df-870c-bdd28c0023d1",
   "metadata": {
    "tags": []
   },
   "outputs": [
    {
     "name": "stdout",
     "output_type": "stream",
     "text": [
      "Time :     1.86\n",
      "Mean :     4.46\n",
      "Var  :     8.32\n"
     ]
    }
   ],
   "source": [
    "t = tpc()\n",
    "interface_rtl = jax.jit(teneva.interface_rtl)\n",
    "sample = jax.jit(jax.vmap(teneva.sample, (None, None, 0)))\n",
    "\n",
    "zl, zm = interface_rtl(Y)\n",
    "rng, key = jax.random.split(rng)\n",
    "I = sample(Y, zm, jax.random.split(key, m))\n",
    "t = tpc() - t\n",
    "\n",
    "print(f'Time : {t:-8.2f}')\n",
    "print(f'Mean : {np.mean(I):-8.2f}')\n",
    "print(f'Var  : {np.var(I):-8.2f}')"
   ]
  },
  {
   "cell_type": "markdown",
   "id": "98708b92-8723-4b5c-b9fe-95e63450d9d0",
   "metadata": {},
   "source": [
    "## Function `sample_lhs`"
   ]
  },
  {
   "cell_type": "markdown",
   "id": "5b3a6d53-945c-471a-9fb6-6e127888658d",
   "metadata": {},
   "source": [
    "Build LHS samples (indices) for the tensor."
   ]
  },
  {
   "cell_type": "code",
   "execution_count": 11,
   "id": "f34f4e44-74a3-4322-be19-a96caa50245f",
   "metadata": {
    "tags": []
   },
   "outputs": [
    {
     "name": "stdout",
     "output_type": "stream",
     "text": [
      "[[4 1 1]\n",
      " [3 0 0]\n",
      " [2 1 0]\n",
      " [0 3 4]\n",
      " [1 2 2]\n",
      " [3 2 3]\n",
      " [4 4 3]\n",
      " [0 3 1]]\n"
     ]
    }
   ],
   "source": [
    "d = 3  # Dimension of the tensor/grid\n",
    "n = 5  # Shape of the tensor/grid\n",
    "m = 8  # Number of samples\n",
    "\n",
    "rng, key = jax.random.split(rng)\n",
    "I = teneva.sample_lhs(d, n, m, key)\n",
    "\n",
    "print(I)"
   ]
  },
  {
   "cell_type": "markdown",
   "id": "100f39b2-d480-4562-8fa5-cf00c72695a4",
   "metadata": {},
   "source": [
    "## Function `sample_rand`"
   ]
  },
  {
   "cell_type": "markdown",
   "id": "335373b1-add6-4230-a7e5-30418b4d6005",
   "metadata": {},
   "source": [
    "Build random samples (indices) for the tensor."
   ]
  },
  {
   "cell_type": "code",
   "execution_count": 12,
   "id": "ed399888-5073-49a0-9555-654721006199",
   "metadata": {
    "tags": []
   },
   "outputs": [
    {
     "name": "stdout",
     "output_type": "stream",
     "text": [
      "[[3 4 3]\n",
      " [1 2 1]\n",
      " [2 1 4]\n",
      " [2 0 1]\n",
      " [4 3 0]\n",
      " [4 3 0]\n",
      " [0 3 0]\n",
      " [2 3 3]]\n"
     ]
    }
   ],
   "source": [
    "d = 3  # Dimension of the tensor/grid\n",
    "n = 5  # Shape of the tensor/grid\n",
    "m = 8  # Number of samples\n",
    "\n",
    "rng, key = jax.random.split(rng)\n",
    "I = teneva.sample_rand(d, n, m, key)\n",
    "\n",
    "print(I)"
   ]
  },
  {
   "cell_type": "markdown",
   "id": "43b23dc5-9337-4e24-8914-83ecb4803139",
   "metadata": {},
   "source": [
    "---"
   ]
  }
 ],
 "metadata": {
  "kernelspec": {
   "display_name": "Python 3 (ipykernel)",
   "language": "python",
   "name": "python3"
  },
  "language_info": {
   "codemirror_mode": {
    "name": "ipython",
    "version": 3
   },
   "file_extension": ".py",
   "mimetype": "text/x-python",
   "name": "python",
   "nbconvert_exporter": "python",
   "pygments_lexer": "ipython3",
   "version": "3.8.16"
  }
 },
 "nbformat": 4,
 "nbformat_minor": 5
}

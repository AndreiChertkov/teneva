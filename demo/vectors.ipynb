{
 "cells": [
  {
   "cell_type": "markdown",
   "id": "e51b9291-f33c-40ad-96ee-e2f9454ffc69",
   "metadata": {},
   "source": [
    "**Demo for `teneva.vectors`**\n",
    "\n",
    "---\n",
    "\n",
    "This module contains the collection of functions for explicit construction of various useful QTT-vectors (delta function and others)."
   ]
  },
  {
   "cell_type": "markdown",
   "id": "3896a55c-1131-44fc-b746-1433ad4ddb08",
   "metadata": {},
   "source": [
    "## Loading and importing modules"
   ]
  },
  {
   "cell_type": "code",
   "execution_count": 1,
   "id": "9941ed2c-6272-4144-8c96-4e800f0b5c49",
   "metadata": {},
   "outputs": [],
   "source": [
    "import numpy as np\n",
    "import teneva\n",
    "from time import perf_counter as tpc\n",
    "np.random.seed(42)"
   ]
  },
  {
   "cell_type": "markdown",
   "id": "3f6437a4-a93e-4265-9fc6-7d4f46a76c4d",
   "metadata": {},
   "source": [
    "## Function `vector_delta`"
   ]
  },
  {
   "cell_type": "markdown",
   "id": "cfe8a9e9-ac37-4f38-8008-f81f857ad833",
   "metadata": {},
   "source": [
    "Build QTT-vector that is zero everywhere except for a given index."
   ]
  },
  {
   "cell_type": "code",
   "execution_count": 2,
   "id": "068ca212-0f0f-4759-b8bd-a1460811385c",
   "metadata": {},
   "outputs": [
    {
     "name": "stdout",
     "output_type": "stream",
     "text": [
      "TT-tensor     5D : |2| |2| |2| |2| |2|\n",
      "<rank>  =    1.0 :   \\1/ \\1/ \\1/ \\1/\n"
     ]
    }
   ],
   "source": [
    "q = 5                            # Quantization level (the size is 2^q)\n",
    "i = 2                            # The index for nonzero element\n",
    "v = 42.                          # The value of the vector at index \"i\"\n",
    "Y = teneva.vector_delta(q, i, v) # Build QTT-vector\n",
    "\n",
    "teneva.show(Y)"
   ]
  },
  {
   "cell_type": "markdown",
   "id": "24a4560e-6957-4157-b7cc-a6d1b667491a",
   "metadata": {},
   "source": [
    "Let check the result:"
   ]
  },
  {
   "cell_type": "code",
   "execution_count": 3,
   "id": "74f82ef2-ea3a-4cbb-80f4-ea92a72512dd",
   "metadata": {},
   "outputs": [
    {
     "name": "stdout",
     "output_type": "stream",
     "text": [
      "The max value index      : 2\n",
      "The max value            : 42.0\n",
      "Number of nonzero items  : 1\n"
     ]
    }
   ],
   "source": [
    "Y_full = teneva.full(Y)          # Transform QTT-vector to full format\n",
    "Y_full = Y_full.flatten('F')\n",
    "i_max = np.argmax(Y_full)        # Find index and value for max\n",
    "y_max = Y_full[i_max]\n",
    "\n",
    "# Find number of nonzero vector items:\n",
    "s = len([y for y in Y_full if abs(y) > 1.E-10])                          \n",
    "    \n",
    "print(f'The max value index      :', i_max)\n",
    "print(f'The max value            :', y_max)\n",
    "print(f'Number of nonzero items  :', s)"
   ]
  },
  {
   "cell_type": "markdown",
   "id": "5604873b-8e80-46c6-9c9a-18174ee184af",
   "metadata": {},
   "source": [
    "We can also build some big QTT-vector by \"delta\" function and check the norm of the result:"
   ]
  },
  {
   "cell_type": "code",
   "execution_count": 4,
   "id": "daceea34-ba0e-4396-ac47-cc1ff06145d4",
   "metadata": {},
   "outputs": [
    {
     "data": {
      "text/plain": [
       "42.0"
      ]
     },
     "execution_count": 4,
     "metadata": {},
     "output_type": "execute_result"
    }
   ],
   "source": [
    "q = 100                          # Quantization level (the size is 2^q)\n",
    "i = 99                           # The index for nonzero element\n",
    "v = 42.                          # The value of the vector at index \"i\"\n",
    "Y = teneva.vector_delta(q, i, v) # Build QTT-vector\n",
    "\n",
    "teneva.norm(Y)"
   ]
  },
  {
   "cell_type": "markdown",
   "id": "5157c326-a02c-41fc-b82d-af0d55ddfb18",
   "metadata": {},
   "source": [
    "---"
   ]
  }
 ],
 "metadata": {
  "kernelspec": {
   "display_name": "Python 3 (ipykernel)",
   "language": "python",
   "name": "python3"
  },
  "language_info": {
   "codemirror_mode": {
    "name": "ipython",
    "version": 3
   },
   "file_extension": ".py",
   "mimetype": "text/x-python",
   "name": "python",
   "nbconvert_exporter": "python",
   "pygments_lexer": "ipython3",
   "version": "3.8.16"
  }
 },
 "nbformat": 4,
 "nbformat_minor": 5
}

{
 "cells": [
  {
   "cell_type": "markdown",
   "id": "e51b9291-f33c-40ad-96ee-e2f9454ffc69",
   "metadata": {},
   "source": [
    "**Demo for `teneva.core.cheb`**\n",
    "\n",
    "---\n",
    "\n",
    "This module contains the functions for construction of the Chebyshev interpolation in the TT-format as well as calculating the values of the function using the constructed interpolation coefficients. See module \"core.cheb_full\" with the same functions in the full format."
   ]
  },
  {
   "cell_type": "markdown",
   "id": "3896a55c-1131-44fc-b746-1433ad4ddb08",
   "metadata": {},
   "source": [
    "## Loading and importing modules"
   ]
  },
  {
   "cell_type": "code",
   "execution_count": 1,
   "id": "9941ed2c-6272-4144-8c96-4e800f0b5c49",
   "metadata": {},
   "outputs": [],
   "source": [
    "import numpy as np\n",
    "import teneva\n",
    "from time import perf_counter as tpc\n",
    "np.random.seed(42)"
   ]
  },
  {
   "cell_type": "markdown",
   "id": "3f6437a4-a93e-4265-9fc6-7d4f46a76c4d",
   "metadata": {},
   "source": [
    "## Function `cheb_bld`"
   ]
  },
  {
   "cell_type": "markdown",
   "id": "cfe8a9e9-ac37-4f38-8008-f81f857ad833",
   "metadata": {},
   "source": [
    "Compute the function values on the Chebyshev grid using TT-CROSS."
   ]
  },
  {
   "cell_type": "code",
   "execution_count": 2,
   "id": "27ec69a6-691a-429b-a18f-81c1783fad26",
   "metadata": {},
   "outputs": [
    {
     "name": "stdout",
     "output_type": "stream",
     "text": [
      "  5  6  7  8 \n",
      " / \\/ \\/ \\/ \\\n",
      " 1  3  3  3  1 \n",
      "\n"
     ]
    }
   ],
   "source": [
    "from scipy.optimize import rosen\n",
    "f = lambda X: rosen(X.T)                  # Target function\n",
    "\n",
    "a = [-2., -4., -3., -2.]                  # Grid lower bounds\n",
    "b = [+2., +3., +4., +2.]                  # Grid upper bounds\n",
    "n = [5, 6, 7, 8]                          # Grid size\n",
    "Y0 = teneva.rand(n, r=2)                  # Initial approximation for TT-CROSS\n",
    "e = 1.E-6                                 # Accuracy for TT-CROSS\n",
    "eps = 1.E-6                               # Accuracy for truncation\n",
    "Y = teneva.cheb_bld(f, a, b, n,           # TT-tensor of values on the Cheb. grid\n",
    "    eps, Y0, e=e)                         # TT-CROSS arguments (eps and Y0 are required)\n",
    "teneva.show(Y)                            # Show the result"
   ]
  },
  {
   "cell_type": "markdown",
   "id": "01c5a749-1a04-49be-8a8a-e1c0b5d8c7e6",
   "metadata": {},
   "source": [
    "There is also the realization of this function in the full (numpy) format:"
   ]
  },
  {
   "cell_type": "code",
   "execution_count": 4,
   "id": "08601629-7ff3-4663-940f-9bc6f21543a2",
   "metadata": {},
   "outputs": [],
   "source": [
    "Y_full = teneva.cheb_bld_full(f, a, b, n) # Full tensor with function values"
   ]
  },
  {
   "cell_type": "code",
   "execution_count": 5,
   "id": "fe976e10-6af9-4689-9786-180677e2239b",
   "metadata": {},
   "outputs": [
    {
     "name": "stdout",
     "output_type": "stream",
     "text": [
      "Error     : 8.22e-16\n"
     ]
    }
   ],
   "source": [
    "Y_ref = teneva.full(Y)                    # Compute tensor in the full format\n",
    "e = np.linalg.norm(Y_full - Y_ref)        # Compare two methods\n",
    "e /= np.linalg.norm(Y_ref)\n",
    "print(f'Error     : {e:-8.2e}')           # Rel. error"
   ]
  },
  {
   "cell_type": "markdown",
   "id": "d54a2e0b-abd3-4d96-85b8-6336f3f5d80d",
   "metadata": {},
   "source": [
    "## Function `cheb_get`"
   ]
  },
  {
   "cell_type": "markdown",
   "id": "e1a50738-6a24-4d34-a145-c828d82b54f6",
   "metadata": {},
   "source": [
    "Compute the Chebyshev approximation in given points (approx. f(X))."
   ]
  },
  {
   "cell_type": "code",
   "execution_count": 6,
   "id": "08347b96-1e1b-4473-b3a4-d3cc4493d950",
   "metadata": {},
   "outputs": [
    {
     "name": "stdout",
     "output_type": "stream",
     "text": [
      "  5  6  7  8 \n",
      " / \\/ \\/ \\/ \\\n",
      " 1  3  3  3  1 \n",
      "\n"
     ]
    }
   ],
   "source": [
    "# In the beginning we compute the function values on the Chebyshev grid using TT-CROSS\n",
    "# (see cheb_bld function for more details):\n",
    "\n",
    "from scipy.optimize import rosen\n",
    "f = lambda X: rosen(X.T)                  # Target function\n",
    "\n",
    "a = [-2., -4., -3., -2.]                  # Grid lower bounds\n",
    "b = [+2., +3., +4., +2.]                  # Grid upper bounds\n",
    "n = [5, 6, 7, 8]                          # Grid size\n",
    "Y0 = teneva.rand(n, r=2)                  # Initial approximation for TT-CROSS\n",
    "e = 1.E-3                                 # Accuracy for TT-CROSS\n",
    "eps = 1.E-6                               # Accuracy for truncation\n",
    "Y = teneva.cheb_bld(f, a, b, n,           # TT-tensor of values on the Cheb. grid\n",
    "    eps, Y0, e=e)                         # TT-CROSS arguments (eps and Y0 are required)\n",
    "teneva.show(Y)                            # Show the result"
   ]
  },
  {
   "cell_type": "code",
   "execution_count": 7,
   "id": "46dbc7a4-5502-4a2f-912d-dba923e9bd87",
   "metadata": {},
   "outputs": [
    {
     "name": "stdout",
     "output_type": "stream",
     "text": [
      "  5  6  7  8 \n",
      " / \\/ \\/ \\/ \\\n",
      " 1  3  3  3  1 \n",
      "\n"
     ]
    }
   ],
   "source": [
    "# Then we should compute the TT-tensor for Chebyshev interpolation coefficients\n",
    "# (see cheb_int function for more details):\n",
    "\n",
    "A = teneva.cheb_int(Y)\n",
    "teneva.show(A)                            # Show the result"
   ]
  },
  {
   "cell_type": "code",
   "execution_count": 8,
   "id": "e708c36e-6282-40fc-93b6-315e96215302",
   "metadata": {},
   "outputs": [
    {
     "name": "stdout",
     "output_type": "stream",
     "text": [
      "[ 3.00000000e+00  5.40600000e+03  2.27373675e-13 -1.00000000e+00]\n",
      "[3.0000000e+00 5.4060000e+03 0.0000000e+00 9.9999996e+17]\n"
     ]
    }
   ],
   "source": [
    "# Finally we compute the approximation in selected points inside the bounds:\n",
    "# (the values for points outside the bounds will be set as \"z\")\n",
    "\n",
    "X = np.array([\n",
    "    [0., 0., 0., 0.],\n",
    "    [0., 2., 3., 2.],\n",
    "    [1., 1., 1., 1.],\n",
    "    [1., 1., 1., 99999999],\n",
    "])\n",
    "Z = teneva.cheb_get(X, A, a, b, z=-1.)\n",
    "print(Z)       # Print the result\n",
    "print(f(X))    # We can check the result by comparing it to the true values"
   ]
  },
  {
   "cell_type": "markdown",
   "id": "681a32cb-e43c-4f07-8016-6fedbd68a0cd",
   "metadata": {},
   "source": [
    "There is also the realization of this function in the full (numpy) format:"
   ]
  },
  {
   "cell_type": "code",
   "execution_count": 9,
   "id": "36f7f270-8fbb-4f1d-9b5b-d9d5fe337ec3",
   "metadata": {},
   "outputs": [
    {
     "name": "stdout",
     "output_type": "stream",
     "text": [
      "[ 3.00000000e+00  5.40600000e+03  8.18545232e-12 -1.00000000e+00]\n",
      "[3.0000000e+00 5.4060000e+03 0.0000000e+00 9.9999996e+17]\n"
     ]
    }
   ],
   "source": [
    "A_full = teneva.full(A)                          # Build full tensor\n",
    "Z = teneva.cheb_get_full(X, A_full, a, b, z=-1.) # Compute the values\n",
    "print(Z)       # Print the result\n",
    "print(f(X))    # We can check the result by comparing it to the true values"
   ]
  },
  {
   "cell_type": "markdown",
   "id": "ba8cceb9-af8a-4934-9443-c30e4ac98d1b",
   "metadata": {},
   "source": [
    "## Function `cheb_gets`"
   ]
  },
  {
   "cell_type": "markdown",
   "id": "c4781f74-8c68-432b-9c30-c914e8c39168",
   "metadata": {},
   "source": [
    "Compute the Chebyshev approximation (TT-tensor) on the full given grid."
   ]
  },
  {
   "cell_type": "code",
   "execution_count": 10,
   "id": "eb195d25-18df-43e4-b32c-f8525db0da8a",
   "metadata": {},
   "outputs": [
    {
     "name": "stdout",
     "output_type": "stream",
     "text": [
      "  5  6  7  8 \n",
      " / \\/ \\/ \\/ \\\n",
      " 1  3  3  3  1 \n",
      "\n"
     ]
    }
   ],
   "source": [
    "# In the beginning we compute the function values on the Chebyshev grid using TT-CROSS\n",
    "# (see cheb_bld function for more details):\n",
    "\n",
    "from scipy.optimize import rosen\n",
    "f = lambda X: rosen(X.T)                  # Target function\n",
    "\n",
    "a = [-2., -4., -3., -2.]                  # Grid lower bounds\n",
    "b = [+2., +3., +4., +2.]                  # Grid upper bounds\n",
    "n = [5, 6, 7, 8]                          # Grid size\n",
    "Y0 = teneva.rand(n, r=2)                  # Initial approximation for TT-CROSS\n",
    "e = 1.E-3                                 # Accuracy for TT-CROSS\n",
    "eps = 1.E-6                               # Accuracy for truncation\n",
    "Y1 = teneva.cheb_bld(f, a, b, n,          # TT-tensor of values on the Cheb. grid\n",
    "    eps, Y0, e=e)                         # TT-CROSS arguments (eps and Y0 are required)\n",
    "teneva.show(Y1)                           # Show the result"
   ]
  },
  {
   "cell_type": "code",
   "execution_count": 11,
   "id": "e747e30f-424c-4535-98ab-bf9b942a0111",
   "metadata": {},
   "outputs": [
    {
     "name": "stdout",
     "output_type": "stream",
     "text": [
      "  5  6  7  8 \n",
      " / \\/ \\/ \\/ \\\n",
      " 1  3  3  3  1 \n",
      "\n"
     ]
    }
   ],
   "source": [
    "# Then we should compute the TT-tensor for Chebyshev interpolation coefficients\n",
    "# (see cheb_int function for more details):\n",
    "\n",
    "A1 = teneva.cheb_int(Y1)\n",
    "teneva.show(A1)                           # Show the result"
   ]
  },
  {
   "cell_type": "code",
   "execution_count": 12,
   "id": "48da0d2b-df2f-4e0e-813d-e84fb52b7991",
   "metadata": {},
   "outputs": [
    {
     "name": "stdout",
     "output_type": "stream",
     "text": [
      "  7  8  9 10 \n",
      " / \\/ \\/ \\/ \\\n",
      " 1  3  3  3  1 \n",
      "\n"
     ]
    }
   ],
   "source": [
    "m = [7, 8, 9, 10]                         # New size of the grid\n",
    "Y2 = teneva.cheb_gets(A1, a, b, m)        # Compute tensor on finer grid\n",
    "teneva.show(Y2)"
   ]
  },
  {
   "cell_type": "code",
   "execution_count": 13,
   "id": "62290a85-13df-42b4-9cc8-c26f3224d557",
   "metadata": {},
   "outputs": [
    {
     "name": "stdout",
     "output_type": "stream",
     "text": [
      "  7  8  9 10 \n",
      " / \\/ \\/ \\/ \\\n",
      " 1  3  3  3  1 \n",
      "\n"
     ]
    }
   ],
   "source": [
    "# We can compute interpolation coefficients on the new grid:\n",
    "\n",
    "A2 = teneva.cheb_int(Y2)\n",
    "teneva.show(A2)                           # Show the result"
   ]
  },
  {
   "cell_type": "code",
   "execution_count": 14,
   "id": "7f711641-b76e-4650-8386-ac29e914a770",
   "metadata": {},
   "outputs": [
    {
     "name": "stdout",
     "output_type": "stream",
     "text": [
      "[ 3.00000000e+00  5.40600000e+03  2.27373675e-13 -1.00000000e+00]\n",
      "[ 3.00000000e+00  5.40600000e+03 -3.35376171e-12 -1.00000000e+00]\n",
      "[3.0000000e+00 5.4060000e+03 0.0000000e+00 9.9999996e+17]\n"
     ]
    }
   ],
   "source": [
    "# Finally we compute the approximation in selected points inside the bounds\n",
    "# for 2 different approximations:\n",
    "\n",
    "X = np.array([\n",
    "    [0., 0., 0., 0.],\n",
    "    [0., 2., 3., 2.],\n",
    "    [1., 1., 1., 1.],\n",
    "    [1., 1., 1., 99999999],\n",
    "])\n",
    "Z1 = teneva.cheb_get(X, A1, a, b, z=-1.)\n",
    "Z2 = teneva.cheb_get(X, A2, a, b, z=-1.)\n",
    "print(Z1)      # Print the result\n",
    "print(Z2)      # Print the result\n",
    "print(f(X))    # We can check the result by comparing it to the true values"
   ]
  },
  {
   "cell_type": "markdown",
   "id": "9c68f74c-0ddc-43fa-93ad-292a56c36bb9",
   "metadata": {},
   "source": [
    "There is also the realization of this function in the full (numpy) format:"
   ]
  },
  {
   "cell_type": "code",
   "execution_count": 15,
   "id": "c094e90e-998e-4bce-9c24-0d424454e24d",
   "metadata": {},
   "outputs": [],
   "source": [
    "A1_full = teneva.full(A1)                         # Full tensor of interpolation coefficients\n",
    "Y2_full = teneva.cheb_gets_full(A1_full, a, b, m) # Compute tensor on finer grid"
   ]
  },
  {
   "cell_type": "code",
   "execution_count": 16,
   "id": "cbfbed9e-2543-4247-a175-696f216c32d1",
   "metadata": {},
   "outputs": [
    {
     "name": "stdout",
     "output_type": "stream",
     "text": [
      "Error     : 3.73e-16\n"
     ]
    }
   ],
   "source": [
    "Y_ref = teneva.full(Y2)                           # Compute tensor in the full format\n",
    "e = np.linalg.norm(Y2_full - Y_ref)               # Compare two methods\n",
    "e /= np.linalg.norm(Y_ref)\n",
    "print(f'Error     : {e:-8.2e}')                   # Rel. error"
   ]
  },
  {
   "cell_type": "markdown",
   "id": "9d2fd251-cff6-4b92-85ee-030d2c7c522d",
   "metadata": {},
   "source": [
    "## Function `cheb_int`"
   ]
  },
  {
   "cell_type": "markdown",
   "id": "50a259fe-69af-4371-a76c-a34c8171ac34",
   "metadata": {},
   "source": [
    "Compute the TT-tensor for Chebyshev interpolation coefficients."
   ]
  },
  {
   "cell_type": "code",
   "execution_count": 17,
   "id": "d9298ad6-ef64-4521-91f7-fe96ea2f4064",
   "metadata": {},
   "outputs": [
    {
     "name": "stdout",
     "output_type": "stream",
     "text": [
      "  5  6  7  8 \n",
      " / \\/ \\/ \\/ \\\n",
      " 1  3  3  3  1 \n",
      "\n"
     ]
    }
   ],
   "source": [
    "# In the beginning we compute the function values on the Chebyshev grid using TT-CROSS\n",
    "# (see cheb_bld function for more details):\n",
    "\n",
    "from scipy.optimize import rosen\n",
    "f = lambda X: rosen(X.T)                  # Target function\n",
    "\n",
    "a = [-2., -4., -3., -2.]                  # Grid lower bounds\n",
    "b = [+2., +3., +4., +2.]                  # Grid upper bounds\n",
    "n = [5, 6, 7, 8]                          # Grid size\n",
    "Y0 = teneva.rand(n, r=2)                  # Initial approximation for TT-CROSS\n",
    "e = 1.E-3                                 # Accuracy for TT-CROSS\n",
    "eps = 1.E-6                               # Accuracy for truncation\n",
    "Y = teneva.cheb_bld(f, a, b, n,           # TT-tensor of values on the Cheb. grid\n",
    "    eps, Y0, e=e)                         # TT-CROSS arguments (eps and Y0 are required)\n",
    "teneva.show(Y)                            # Show the result"
   ]
  },
  {
   "cell_type": "code",
   "execution_count": 18,
   "id": "be0985fb-7a2d-45ea-bb25-c52338a6d96a",
   "metadata": {},
   "outputs": [
    {
     "name": "stdout",
     "output_type": "stream",
     "text": [
      "  5  6  7  8 \n",
      " / \\/ \\/ \\/ \\\n",
      " 1  3  3  3  1 \n",
      "\n"
     ]
    }
   ],
   "source": [
    "# Then we can compute the TT-tensor for Chebyshev interpolation coefficients:\n",
    "\n",
    "A = teneva.cheb_int(Y)\n",
    "teneva.show(A)                            # Show the result"
   ]
  },
  {
   "cell_type": "markdown",
   "id": "246216f2-3eae-4c58-be77-22400df3bd52",
   "metadata": {},
   "source": [
    "There is also the realization of this function in the full (numpy) format:"
   ]
  },
  {
   "cell_type": "code",
   "execution_count": 19,
   "id": "75efcc95-e921-42dc-bab1-3c6a8d74ab0d",
   "metadata": {},
   "outputs": [],
   "source": [
    "Y_full = teneva.full(Y)                   # Full tensor with function values\n",
    "A_full = teneva.cheb_int_full(Y_full)     # Interpolation in the full format"
   ]
  },
  {
   "cell_type": "code",
   "execution_count": 20,
   "id": "ba7c603d-bb97-4e7b-bf02-87dfaaa461d5",
   "metadata": {},
   "outputs": [
    {
     "name": "stdout",
     "output_type": "stream",
     "text": [
      "Error     : 4.51e-16\n"
     ]
    }
   ],
   "source": [
    "A_ref = teneva.full(A)                    # Compute tensor in the full format\n",
    "e = np.linalg.norm(A_full - A_ref)        # Compare two methods\n",
    "e /= np.linalg.norm(A_ref)\n",
    "print(f'Error     : {e:-8.2e}')          # Rel. error"
   ]
  },
  {
   "cell_type": "markdown",
   "id": "02394e38-571a-4d8b-88d8-d47d2efc132c",
   "metadata": {},
   "source": [
    "## Function `cheb_pol`"
   ]
  },
  {
   "cell_type": "markdown",
   "id": "ba9af81f-9ea5-4e7f-ab9d-cea6161f84fe",
   "metadata": {},
   "source": [
    "Compute the Chebyshev polynomials in the given points."
   ]
  },
  {
   "cell_type": "code",
   "execution_count": 21,
   "id": "83ca99c2-4b70-4fc1-8624-8ef6d1bbe11b",
   "metadata": {},
   "outputs": [],
   "source": [
    "a = [-2., -4., -3., -2.]                  # Grid lower bounds\n",
    "b = [+2., +3., +4., +2.]                  # Grid upper bounds\n",
    "X = np.array([                            # Two 4-dim points\n",
    "    [0., 0., 0., 0.],\n",
    "    [0., 2., 3., 2.],\n",
    "])\n",
    "m = 3                                    # Maximum order of polynomial      \n",
    "T = teneva.cheb_pol(X, a, b, m)          # Compute polynomials"
   ]
  },
  {
   "cell_type": "code",
   "execution_count": 22,
   "id": "b889c8c2-7f71-4f56-bf52-d7c971cf3026",
   "metadata": {},
   "outputs": [
    {
     "name": "stdout",
     "output_type": "stream",
     "text": [
      "(3, 2, 4)\n",
      "1.0\n",
      "0.0\n",
      "-1.0\n"
     ]
    }
   ],
   "source": [
    "print(T.shape)\n",
    "print(T[0, 0, 0])                        # 0-th order pol. is 1\n",
    "print(T[1, 0, 0])                        # 1-th order pol. is x (=0 for x=0)\n",
    "print(T[2, 0, 0])                        # 2-th order pol. is 2x^2-1 (=-1 for x=0)"
   ]
  },
  {
   "cell_type": "code",
   "execution_count": 23,
   "id": "7db9b0f6-8161-4350-bdf5-8b86fef091dc",
   "metadata": {},
   "outputs": [
    {
     "name": "stdout",
     "output_type": "stream",
     "text": [
      "1.0\n",
      "1.0\n",
      "1.0\n"
     ]
    }
   ],
   "source": [
    "# Note that grid is scaled from [a, b] limits to [-1, 1] limit:\n",
    "\n",
    "print(T[0, 1, 3])                        # 0-th order pol. is 1\n",
    "print(T[1, 1, 3])                        # 1-th order pol. is x (=1 for x=2 with lim [-2, 2])\n",
    "print(T[2, 1, 3])                        # 2-th order pol. is 2x^2-1 (=1 for x=2 with lim [-2, 2])"
   ]
  },
  {
   "cell_type": "markdown",
   "id": "80c80bd4-8e23-423f-96c2-62e736bc3b13",
   "metadata": {},
   "source": [
    "## Function `cheb_sum`"
   ]
  },
  {
   "cell_type": "markdown",
   "id": "783480c4-adad-4ad1-bfae-96a48ae5b3ce",
   "metadata": {},
   "source": [
    "Integrate the function from its Chebyshev approximation in the TT-format.\n",
    "\n",
    "> Note that this function works only for symmetric grids!"
   ]
  },
  {
   "cell_type": "code",
   "execution_count": 24,
   "id": "82e6e6fe-a7c5-4db6-ac6d-dd2dec637d07",
   "metadata": {},
   "outputs": [
    {
     "name": "stdout",
     "output_type": "stream",
     "text": [
      " 50 50 50 50 \n",
      " / \\/ \\/ \\/ \\\n",
      " 1  1  1  1  1 \n",
      "\n"
     ]
    }
   ],
   "source": [
    "# In the beginning we compute the function values on the Chebyshev grid using TT-CROSS\n",
    "# (see cheb_bld function for more details):\n",
    "                 \n",
    "d = 4\n",
    "def f(X): # Target function\n",
    "    a = 2.\n",
    "    r = np.exp(-np.sum(X*X, axis=1) / a) / (np.pi * a)**(d/2)\n",
    "    return r.reshape(-1)\n",
    "\n",
    "a = [-12., -14., -13., -11.]              # Grid lower bounds\n",
    "b = [+12., +14., +13., +11.]              # Grid upper bounds\n",
    "n = [50, 50, 50, 50]                      # Grid size\n",
    "Y0 = teneva.rand(n, r=2)                  # Initial approximation for TT-CROSS\n",
    "e = 1.E-5                                 # Accuracy for TT-CROSS\n",
    "eps = 1.E-6                               # Accuracy for truncation\n",
    "Y = teneva.cheb_bld(f, a, b, n,           # TT-tensor of values on the Cheb. grid\n",
    "    eps, Y0, e=e)                         # TT-CROSS arguments (eps and Y0 are required)\n",
    "teneva.show(Y)                            # Show the result"
   ]
  },
  {
   "cell_type": "code",
   "execution_count": 25,
   "id": "02c44968-c895-41dd-b6ab-f3d1965d4fd8",
   "metadata": {},
   "outputs": [
    {
     "name": "stdout",
     "output_type": "stream",
     "text": [
      " 50 50 50 50 \n",
      " / \\/ \\/ \\/ \\\n",
      " 1  1  1  1  1 \n",
      "\n"
     ]
    }
   ],
   "source": [
    "# Then we should compute the TT-tensor for Chebyshev interpolation coefficients\n",
    "# (see cheb_int function for more details):\n",
    "\n",
    "A = teneva.cheb_int(Y)\n",
    "teneva.show(A)                            # Show the result"
   ]
  },
  {
   "cell_type": "code",
   "execution_count": 26,
   "id": "07d934d9-59ac-443a-a42e-6abbf79de1b4",
   "metadata": {},
   "outputs": [
    {
     "name": "stdout",
     "output_type": "stream",
     "text": [
      "1.0000000191598721\n"
     ]
    }
   ],
   "source": [
    "# Finally we compute the integral:\n",
    "\n",
    "v = teneva.cheb_sum(A, a, b)\n",
    "print(v)       # Print the result (the real value is 1.)"
   ]
  },
  {
   "cell_type": "markdown",
   "id": "809ce09b-35e1-40ba-9ccb-39f8678382b2",
   "metadata": {},
   "source": [
    "There is also the realization of this function in the full (numpy) format:"
   ]
  },
  {
   "cell_type": "code",
   "execution_count": 27,
   "id": "b8d2c115-5caf-4853-843c-73182c8c3160",
   "metadata": {},
   "outputs": [
    {
     "name": "stdout",
     "output_type": "stream",
     "text": [
      "1.0000000191598715\n"
     ]
    }
   ],
   "source": [
    "A_full = teneva.full(A)\n",
    "v = teneva.cheb_sum_full(A_full, a, b)\n",
    "print(v)       # Print the result (the real value is 1.)"
   ]
  },
  {
   "cell_type": "markdown",
   "id": "5157c326-a02c-41fc-b82d-af0d55ddfb18",
   "metadata": {},
   "source": [
    "---"
   ]
  }
 ],
 "metadata": {
  "kernelspec": {
   "display_name": "Python 3",
   "language": "python",
   "name": "python3"
  },
  "language_info": {
   "codemirror_mode": {
    "name": "ipython",
    "version": 3
   },
   "file_extension": ".py",
   "mimetype": "text/x-python",
   "name": "python",
   "nbconvert_exporter": "python",
   "pygments_lexer": "ipython3",
   "version": "3.8.8"
  }
 },
 "nbformat": 4,
 "nbformat_minor": 5
}

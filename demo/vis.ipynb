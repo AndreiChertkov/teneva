{
 "cells": [
  {
   "cell_type": "markdown",
   "id": "e51b9291-f33c-40ad-96ee-e2f9454ffc69",
   "metadata": {},
   "source": [
    "**Demo for `teneva.vis`**\n",
    "\n",
    "---\n",
    "\n",
    "This module contains the functions for visualization of TT-tensors."
   ]
  },
  {
   "cell_type": "markdown",
   "id": "3896a55c-1131-44fc-b746-1433ad4ddb08",
   "metadata": {},
   "source": [
    "## Loading and importing modules"
   ]
  },
  {
   "cell_type": "code",
   "execution_count": 1,
   "id": "9941ed2c-6272-4144-8c96-4e800f0b5c49",
   "metadata": {},
   "outputs": [],
   "source": [
    "import numpy as np\n",
    "import teneva\n",
    "from time import perf_counter as tpc\n",
    "np.random.seed(42)"
   ]
  },
  {
   "cell_type": "markdown",
   "id": "c73f6184-e339-423b-a43c-51892aa3f60b",
   "metadata": {},
   "source": [
    "## Function `show`"
   ]
  },
  {
   "cell_type": "markdown",
   "id": "1ba7aa15-86d0-4048-bca5-2ad506beee11",
   "metadata": {},
   "source": [
    "Check and display mode sizes and TT-ranks of the given TT-tensor."
   ]
  },
  {
   "cell_type": "code",
   "execution_count": 2,
   "id": "3d370cf1-0446-4827-ad30-b191e3909af9",
   "metadata": {},
   "outputs": [
    {
     "name": "stdout",
     "output_type": "stream",
     "text": [
      "TT-tensor     5D : |4|  |4|  |4|  |4|  |4|\n",
      "<rank>  =   12.0 :   \\12/ \\12/ \\12/ \\12/\n"
     ]
    }
   ],
   "source": [
    "# 5-dim random TT-tensor with TT-rank 12:\n",
    "Y = teneva.rand([4]*5, 12)\n",
    "\n",
    "# Print the resulting TT-tensor:\n",
    "teneva.show(Y)"
   ]
  },
  {
   "cell_type": "code",
   "execution_count": 3,
   "id": "17297367-63aa-4938-ada7-2489ba27a0ac",
   "metadata": {},
   "outputs": [
    {
     "name": "stdout",
     "output_type": "stream",
     "text": [
      "TT-tensor     5D : |2000| |2| |20000| |20| |200|\n",
      "<rank>  =    2.0 :      \\2/ \\2/     \\2/  \\2/\n"
     ]
    }
   ],
   "source": [
    "# 5-dim random TT-tensor with TT-rank 2:\n",
    "Y = teneva.rand([2000, 2, 20000, 20, 200], 2)\n",
    "\n",
    "# Print the resulting TT-tensor:\n",
    "teneva.show(Y)"
   ]
  },
  {
   "cell_type": "code",
   "execution_count": 4,
   "id": "8a145be3-109d-4ac7-8335-b4c52de9c41a",
   "metadata": {},
   "outputs": [
    {
     "name": "stdout",
     "output_type": "stream",
     "text": [
      "TT-tensor     5D : |2000|   |2|   |20000|   |20|   |200|\n",
      "<rank>  =  122.0 :      \\122/ \\122/     \\122/  \\122/\n"
     ]
    }
   ],
   "source": [
    "# 5-dim random TT-tensor with TT-rank 122:\n",
    "Y = teneva.rand([2000, 2, 20000, 20, 200], 122)\n",
    "\n",
    "# Print the resulting TT-tensor:\n",
    "teneva.show(Y)"
   ]
  },
  {
   "cell_type": "code",
   "execution_count": 5,
   "id": "790998ac-47f8-4053-ac95-5e47f3dc76f7",
   "metadata": {},
   "outputs": [
    {
     "name": "stdout",
     "output_type": "stream",
     "text": [
      "TT-tensor     5D : |16384|  |16384|  |16384|  |16384|  |16384|\n",
      "<rank>  =   12.0 :       \\12/     \\12/     \\12/     \\12/\n"
     ]
    }
   ],
   "source": [
    "# 5-dim random TT-tensor with TT-rank 12:\n",
    "Y = teneva.rand([2**14]*5, 12)\n",
    "\n",
    "# Print the resulting TT-tensor:\n",
    "teneva.show(Y)"
   ]
  },
  {
   "cell_type": "markdown",
   "id": "d92dde55-9c86-47ca-bc12-41a745ce075b",
   "metadata": {},
   "source": [
    "If an incorrect TT-tensor is passed to the function (the correctness of the shape of all cores is explicitly checked), then an error will be generated:"
   ]
  },
  {
   "cell_type": "code",
   "execution_count": 6,
   "id": "647e9087-42b6-4d6d-93d2-c483d9897363",
   "metadata": {
    "tags": []
   },
   "outputs": [
    {
     "name": "stdout",
     "output_type": "stream",
     "text": [
      "Error : Invalid TT-tensor\n"
     ]
    }
   ],
   "source": [
    "Y = []\n",
    "\n",
    "try:\n",
    "    teneva.show(Y)\n",
    "except ValueError as e:\n",
    "    print('Error :', e)"
   ]
  },
  {
   "cell_type": "code",
   "execution_count": 7,
   "id": "b6a29e1b-7633-4238-815a-e0a11e4637ed",
   "metadata": {
    "tags": []
   },
   "outputs": [
    {
     "name": "stdout",
     "output_type": "stream",
     "text": [
      "Error : Invalid core for TT-tensor\n"
     ]
    }
   ],
   "source": [
    "Y = [42.]\n",
    "\n",
    "try:\n",
    "    teneva.show(Y)\n",
    "except ValueError as e:\n",
    "    print('Error :', e)"
   ]
  },
  {
   "cell_type": "code",
   "execution_count": 8,
   "id": "24eea8f9-935d-41f1-b627-1c3f326a8bd9",
   "metadata": {
    "tags": []
   },
   "outputs": [
    {
     "name": "stdout",
     "output_type": "stream",
     "text": [
      "Error : Invalid shape of core for TT-tensor\n"
     ]
    }
   ],
   "source": [
    "Y = [np.zeros((1, 5, 7)), np.zeros((42, 7, 1))]\n",
    "\n",
    "try:\n",
    "    teneva.show(Y)\n",
    "except ValueError as e:\n",
    "    print('Error :', e)"
   ]
  },
  {
   "cell_type": "markdown",
   "id": "5157c326-a02c-41fc-b82d-af0d55ddfb18",
   "metadata": {},
   "source": [
    "---"
   ]
  }
 ],
 "metadata": {
  "kernelspec": {
   "display_name": "Python 3 (ipykernel)",
   "language": "python",
   "name": "python3"
  },
  "language_info": {
   "codemirror_mode": {
    "name": "ipython",
    "version": 3
   },
   "file_extension": ".py",
   "mimetype": "text/x-python",
   "name": "python",
   "nbconvert_exporter": "python",
   "pygments_lexer": "ipython3",
   "version": "3.8.16"
  }
 },
 "nbformat": 4,
 "nbformat_minor": 5
}

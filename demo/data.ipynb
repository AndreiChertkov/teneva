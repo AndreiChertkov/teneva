{
 "cells": [
  {
   "cell_type": "markdown",
   "id": "e51b9291-f33c-40ad-96ee-e2f9454ffc69",
   "metadata": {},
   "source": [
    "**Demo for `teneva.data`**\n",
    "\n",
    "---\n",
    "\n",
    "This module contains functions for working with datasets, including \"accuracy_on_data\" function."
   ]
  },
  {
   "cell_type": "markdown",
   "id": "3896a55c-1131-44fc-b746-1433ad4ddb08",
   "metadata": {},
   "source": [
    "## Loading and importing modules"
   ]
  },
  {
   "cell_type": "code",
   "execution_count": 1,
   "id": "9941ed2c-6272-4144-8c96-4e800f0b5c49",
   "metadata": {},
   "outputs": [],
   "source": [
    "import numpy as np\n",
    "import teneva\n",
    "from time import perf_counter as tpc\n",
    "np.random.seed(42)"
   ]
  },
  {
   "cell_type": "markdown",
   "id": "c73f6184-e339-423b-a43c-51892aa3f60b",
   "metadata": {},
   "source": [
    "## Function `accuracy_on_data`"
   ]
  },
  {
   "cell_type": "markdown",
   "id": "1ba7aa15-86d0-4048-bca5-2ad506beee11",
   "metadata": {},
   "source": [
    "Compute the relative error of TT-tensor on the dataset."
   ]
  },
  {
   "cell_type": "code",
   "execution_count": 2,
   "id": "22ea3536-0dd9-4a30-bc6c-38449681bf59",
   "metadata": {},
   "outputs": [
    {
     "name": "stdout",
     "output_type": "stream",
     "text": [
      "Accuracy     : 3.09e-03\n"
     ]
    }
   ],
   "source": [
    "m = 100       # Size of the dataset\n",
    "n = [5] * 10  # Shape of the tensor\n",
    "\n",
    "# Random TT-tensor with TT-rank 2:\n",
    "Y = teneva.rand(n, 2)\n",
    "\n",
    "# Let build toy dataset:\n",
    "I_data = teneva.sample_lhs(n, m)\n",
    "y_data = [teneva.get(Y, i) for i in I_data]\n",
    "y_data = np.array(y_data)\n",
    "\n",
    "# Add add some noise:\n",
    "y_data = y_data + 1.E-3*np.random.randn(m)\n",
    "\n",
    "# Compute the accuracy:\n",
    "eps = teneva.accuracy_on_data(Y, I_data, y_data)\n",
    "\n",
    "print(f'Accuracy     : {eps:-8.2e}')"
   ]
  },
  {
   "cell_type": "markdown",
   "id": "5c7797c9-5942-413e-b770-3a3b1a6ebf0d",
   "metadata": {},
   "source": [
    "## Function `cache_to_data`"
   ]
  },
  {
   "cell_type": "markdown",
   "id": "b9f61c6c-45b9-4229-af9a-d796044d70be",
   "metadata": {},
   "source": [
    "Helper function that transforms cache of the TT-cross into (I, y) data arrays."
   ]
  },
  {
   "cell_type": "markdown",
   "id": "818ae3f9-bd48-4e3e-8604-920bdea81c78",
   "metadata": {},
   "source": [
    "Let apply TT-cross for benchmark function:"
   ]
  },
  {
   "cell_type": "code",
   "execution_count": 3,
   "id": "5643d89b-6ced-44a9-8165-5f9427b566c1",
   "metadata": {
    "tags": []
   },
   "outputs": [],
   "source": [
    "a = [-5., -4., -3., -2., -1.] # Lower bounds for spatial grid\n",
    "b = [+6., +3., +3., +1., +2.] # Upper bounds for spatial grid\n",
    "n = [ 20,  18,  16,  14,  12] # Shape of the tensor\n",
    "m = 8.E+3                     # Number of calls to function\n",
    "r = 3                         # TT-rank of the initial tensor\n",
    "\n",
    "from scipy.optimize import rosen\n",
    "def func(I): \n",
    "    X = teneva.ind_to_poi(I, a, b, n)\n",
    "    return rosen(X.T)\n",
    "\n",
    "cache = {}\n",
    "Y = teneva.rand(n, r)\n",
    "Y = teneva.cross(func, Y, m, cache=cache)"
   ]
  },
  {
   "cell_type": "markdown",
   "id": "d02f5040-ac43-440b-9593-9c9c1d22c701",
   "metadata": {},
   "source": [
    "Now cache contains the requested function values and related tensor multi-indices:"
   ]
  },
  {
   "cell_type": "code",
   "execution_count": 4,
   "id": "c38b69b6-6ab3-41b6-b251-9c4632955147",
   "metadata": {
    "tags": []
   },
   "outputs": [
    {
     "name": "stdout",
     "output_type": "stream",
     "text": [
      "(7956, 5)\n",
      "(7956,)\n",
      "[0 0 0 4 3]\n",
      "130615.73557017733\n",
      "130615.73557017733\n"
     ]
    }
   ],
   "source": [
    "I_trn, y_trn = teneva.cache_to_data(cache)\n",
    "\n",
    "print(I_trn.shape)\n",
    "print(y_trn.shape)\n",
    "\n",
    "i = I_trn[0, :] # The 1th multi-index\n",
    "y = y_trn[0]    # Saved value in cache\n",
    "\n",
    "print(i)\n",
    "print(y)\n",
    "print(func(i))"
   ]
  },
  {
   "cell_type": "markdown",
   "id": "5157c326-a02c-41fc-b82d-af0d55ddfb18",
   "metadata": {},
   "source": [
    "---"
   ]
  }
 ],
 "metadata": {
  "kernelspec": {
   "display_name": "Python 3 (ipykernel)",
   "language": "python",
   "name": "python3"
  },
  "language_info": {
   "codemirror_mode": {
    "name": "ipython",
    "version": 3
   },
   "file_extension": ".py",
   "mimetype": "text/x-python",
   "name": "python",
   "nbconvert_exporter": "python",
   "pygments_lexer": "ipython3",
   "version": "3.8.16"
  }
 },
 "nbformat": 4,
 "nbformat_minor": 5
}

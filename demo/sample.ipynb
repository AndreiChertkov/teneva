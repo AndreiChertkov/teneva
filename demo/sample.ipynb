{
 "cells": [
  {
   "cell_type": "markdown",
   "id": "e51b9291-f33c-40ad-96ee-e2f9454ffc69",
   "metadata": {},
   "source": [
    "**Demo for `teneva.sample`**\n",
    "\n",
    "---\n",
    "\n",
    "Module contains functions for sampling from the TT-tensor and for generation of random multi-indices and points for learning."
   ]
  },
  {
   "cell_type": "markdown",
   "id": "3896a55c-1131-44fc-b746-1433ad4ddb08",
   "metadata": {},
   "source": [
    "## Loading and importing modules"
   ]
  },
  {
   "cell_type": "code",
   "execution_count": 1,
   "id": "9941ed2c-6272-4144-8c96-4e800f0b5c49",
   "metadata": {},
   "outputs": [],
   "source": [
    "import numpy as np\n",
    "import teneva\n",
    "from time import perf_counter as tpc\n",
    "np.random.seed(42)"
   ]
  },
  {
   "cell_type": "markdown",
   "id": "f7300a79-d8a1-4ae6-b50d-9767431de578",
   "metadata": {},
   "source": [
    "## Function `sample`"
   ]
  },
  {
   "cell_type": "markdown",
   "id": "75188ca2-9cfd-41e3-b6c8-5b3c5fc4d8bf",
   "metadata": {},
   "source": [
    "Sample random multi-indices according to given probability TT-tensor."
   ]
  },
  {
   "cell_type": "code",
   "execution_count": 2,
   "id": "48c2588c-c3df-45ef-a2bc-e83164f1a8e8",
   "metadata": {},
   "outputs": [
    {
     "name": "stdout",
     "output_type": "stream",
     "text": [
      "1.0000000000000002\n"
     ]
    }
   ],
   "source": [
    "Y = np.array([       # We generate 2D tensor for demo\n",
    "    [0.1, 0.2, 0.3],\n",
    "    [0. , 0. , 0. ],\n",
    "    [0.2, 0.2, 0. ],\n",
    "    [0. , 0. , 0. ],\n",
    "])\n",
    "Y = teneva.svd(Y)    # We compute its TT-representation\n",
    "print(teneva.sum(Y)) # We print the sum of tensor elements"
   ]
  },
  {
   "cell_type": "code",
   "execution_count": 3,
   "id": "c0d1fa39-4a3f-4946-8bb2-88573dc1db86",
   "metadata": {},
   "outputs": [
    {
     "name": "stdout",
     "output_type": "stream",
     "text": [
      "[0 2] 0.30000000000000004\n",
      "[0 0] 0.1\n",
      "[0 1] 0.19999999999999993\n"
     ]
    }
   ],
   "source": [
    "m = 3 # Number of requested samples\n",
    "I = teneva.sample(Y, m)\n",
    "\n",
    "for i in I:\n",
    "    print(i, teneva.get(Y, i))"
   ]
  },
  {
   "cell_type": "markdown",
   "id": "04530ef9-8026-4d76-9dd9-f7b7a91fdf6e",
   "metadata": {},
   "source": [
    "And now let check this function for big random TT-tensor:"
   ]
  },
  {
   "cell_type": "code",
   "execution_count": 4,
   "id": "9ba15267-4d5b-4a2f-8024-b6f846f3ce85",
   "metadata": {},
   "outputs": [
    {
     "name": "stdout",
     "output_type": "stream",
     "text": [
      "TT-tensor     5D : |4|  |4|  |4|  |4|  |4|\n",
      "<rank>  =   25.0 :   \\25/ \\25/ \\25/ \\25/\n",
      "\n",
      "--- Result:\n",
      "[1 3 0 0 3] 0.0005467688008461928\n",
      "[2 2 3 3 0] 0.006627906923442645\n",
      "[1 1 1 1 0] 0.0017246632716313237\n",
      "[3 2 1 2 0] 0.0008373295031647166\n",
      "[1 3 1 3 3] 0.00037274612504040714\n",
      "[0 0 2 1 3] 0.0039011799572751522\n",
      "[1 2 0 0 2] 0.003242585201425543\n",
      "[1 2 0 0 0] 0.00931349693960367\n",
      "[3 1 2 2 0] 0.0011575363014772284\n",
      "[1 2 3 0 3] 0.03366467522253799\n"
     ]
    }
   ],
   "source": [
    "# 5-dim random TT-tensor with TT-rank 5:\n",
    "Y = teneva.rand([4]*5, 5)\n",
    "\n",
    "# Compute the square of Y:\n",
    "Y = teneva.mul(Y, Y)\n",
    "\n",
    "# Normalize the tensor:\n",
    "p = teneva.sum(Y)\n",
    "Y = teneva.mul(Y, 1./p)\n",
    "\n",
    "# Print the resulting TT-tensor:\n",
    "teneva.show(Y)\n",
    "\n",
    "I = teneva.sample(Y, m=10)\n",
    "\n",
    "print('\\n--- Result:')\n",
    "for i in I:\n",
    "    print(i, teneva.get(Y, i))"
   ]
  },
  {
   "cell_type": "markdown",
   "id": "484dd9ae-dd09-4053-99fb-4859914afaef",
   "metadata": {},
   "source": [
    "Note that we can also set a random seed value:"
   ]
  },
  {
   "cell_type": "code",
   "execution_count": 5,
   "id": "4665cb78-f644-4126-9077-2cc4f38944dc",
   "metadata": {},
   "outputs": [
    {
     "name": "stdout",
     "output_type": "stream",
     "text": [
      "\n",
      "--- Result:\n",
      "[3 0 2 2 2] 0.014619862447557261\n",
      "[2 3 1 3 2] 0.0011271606287902576\n",
      "[3 1 3 1 1] 0.00031715064859554894\n",
      "[3 2 3 1 1] 0.007394218666406085\n",
      "[0 1 2 1 3] 0.0047701130856797995\n",
      "[3 0 0 0 2] 0.00788182131582216\n",
      "[3 1 1 0 1] 0.0016185689029685083\n",
      "[3 0 0 2 0] 0.0021319553328506173\n",
      "[0 3 0 0 3] 0.002736837128643397\n",
      "[2 2 3 2 0] 0.0006140683439889205\n"
     ]
    }
   ],
   "source": [
    "Y = teneva.rand([4]*5, 5)\n",
    "Y = teneva.mul(Y, Y)\n",
    "Y = teneva.mul(Y, 1./teneva.sum(Y))\n",
    "I = teneva.sample(Y, m=10, seed=42)\n",
    "\n",
    "print('\\n--- Result:')\n",
    "for i in I:\n",
    "    print(i, teneva.get(Y, i))"
   ]
  },
  {
   "cell_type": "markdown",
   "id": "f8ae442d-c6da-43a6-a324-61c070c384c0",
   "metadata": {
    "tags": []
   },
   "source": [
    "## Function `sample_lhs`"
   ]
  },
  {
   "cell_type": "markdown",
   "id": "df22bc3e-8f04-40a6-9b2a-bd91839324f4",
   "metadata": {},
   "source": [
    "Build LHS samples (indices) for the tensor."
   ]
  },
  {
   "cell_type": "code",
   "execution_count": 6,
   "id": "d44e9897-4ac7-4a1a-b775-d0c727e2c08a",
   "metadata": {},
   "outputs": [
    {
     "name": "stdout",
     "output_type": "stream",
     "text": [
      "[[0 4 3]\n",
      " [2 1 1]\n",
      " [3 3 0]\n",
      " [4 2 1]\n",
      " [0 3 2]\n",
      " [4 2 4]\n",
      " [1 4 0]\n",
      " [2 0 3]]\n"
     ]
    }
   ],
   "source": [
    "d = 3           # Dimension of the tensor/grid\n",
    "n = [5] * d     # Shape of the tensor/grid\n",
    "m = 8           # Number of samples\n",
    "\n",
    "I = teneva.sample_lhs(n, m)\n",
    "\n",
    "print(I)"
   ]
  },
  {
   "cell_type": "markdown",
   "id": "1cdf0733-380e-464f-8cfd-97b2286d8cc5",
   "metadata": {},
   "source": [
    "Note that we can also set a random seed value:"
   ]
  },
  {
   "cell_type": "code",
   "execution_count": 7,
   "id": "2185e572-a2e7-4193-ba34-dbaf47deffc6",
   "metadata": {},
   "outputs": [
    {
     "name": "stdout",
     "output_type": "stream",
     "text": [
      "[[2 2]\n",
      " [1 1]\n",
      " [0 3]]\n",
      "[[2 3]\n",
      " [0 0]\n",
      " [1 2]]\n",
      "[[2 2]\n",
      " [1 1]\n",
      " [0 3]]\n",
      "[[2 2]\n",
      " [1 1]\n",
      " [0 3]]\n"
     ]
    }
   ],
   "source": [
    "I = teneva.sample_lhs([3, 4], 3, seed=42)\n",
    "print(I)\n",
    "I = teneva.sample_lhs([3, 4], 3, seed=0)\n",
    "print(I)\n",
    "I = teneva.sample_lhs([3, 4], 3, 42)\n",
    "print(I)\n",
    "I = teneva.sample_lhs([3, 4], 3, seed=np.random.default_rng(42))\n",
    "print(I)"
   ]
  },
  {
   "cell_type": "markdown",
   "id": "cf8e284e-b812-4032-ac27-77cfdc8108fa",
   "metadata": {},
   "source": [
    "## Function `sample_rand`"
   ]
  },
  {
   "cell_type": "markdown",
   "id": "f127d95d-8174-4335-9e0a-3de2e71713b7",
   "metadata": {},
   "source": [
    "Build random samples (indices) for the tensor."
   ]
  },
  {
   "cell_type": "code",
   "execution_count": 8,
   "id": "6e0cfb5b-5278-445e-b6fe-6352c99472bc",
   "metadata": {},
   "outputs": [
    {
     "name": "stdout",
     "output_type": "stream",
     "text": [
      "[[0 1 4]\n",
      " [0 4 3]\n",
      " [4 2 0]\n",
      " [3 2 4]\n",
      " [4 2 2]\n",
      " [0 1 3]\n",
      " [4 2 4]\n",
      " [4 1 4]]\n"
     ]
    }
   ],
   "source": [
    "d = 3           # Dimension of the tensor/grid\n",
    "n = [5] * d     # Shape of the tensor/grid\n",
    "m = 8           # Number of samples\n",
    "\n",
    "I = teneva.sample_rand(n, m)\n",
    "\n",
    "print(I)"
   ]
  },
  {
   "cell_type": "markdown",
   "id": "71073567-9c9d-4a48-9cd0-25861ff06f5c",
   "metadata": {},
   "source": [
    "Note that we can also set a random seed value:"
   ]
  },
  {
   "cell_type": "code",
   "execution_count": 9,
   "id": "5246dd1c-938d-47a3-ab74-5e951c69fcb8",
   "metadata": {},
   "outputs": [
    {
     "name": "stdout",
     "output_type": "stream",
     "text": [
      "[[0 1]\n",
      " [2 1]\n",
      " [1 3]]\n",
      "[[2 1]\n",
      " [1 1]\n",
      " [1 0]]\n",
      "[[0 1]\n",
      " [2 1]\n",
      " [1 3]]\n",
      "[[0 1]\n",
      " [2 1]\n",
      " [1 3]]\n"
     ]
    }
   ],
   "source": [
    "I = teneva.sample_rand([3, 4], 3, seed=42)\n",
    "print(I)\n",
    "I = teneva.sample_rand([3, 4], 3, seed=0)\n",
    "print(I)\n",
    "I = teneva.sample_rand([3, 4], 3, 42)\n",
    "print(I)\n",
    "I = teneva.sample_rand([3, 4], 3, seed=np.random.default_rng(42))\n",
    "print(I)"
   ]
  },
  {
   "cell_type": "markdown",
   "id": "6a83f22a-2e8f-41bb-976e-cd38b8cfdf78",
   "metadata": {},
   "source": [
    "## Function `sample_square`"
   ]
  },
  {
   "cell_type": "markdown",
   "id": "2cf98cac-6085-4ae1-81ab-e970f4921dab",
   "metadata": {},
   "source": [
    "Sample random multi-indices according to given probability TT-tensor (squared tensor is used)."
   ]
  },
  {
   "cell_type": "code",
   "execution_count": 10,
   "id": "f56f37f0-2b0b-4241-9509-105251ee77c4",
   "metadata": {},
   "outputs": [
    {
     "name": "stdout",
     "output_type": "stream",
     "text": [
      "1.0000000000000002\n"
     ]
    }
   ],
   "source": [
    "Y = np.array([       # We generate 2D tensor for demo\n",
    "    [0.1, 0.2, 0.3],\n",
    "    [0. , 0. , 0. ],\n",
    "    [0.2, 0.2, 0. ],\n",
    "    [0. , 0. , 0. ],\n",
    "])\n",
    "Y = teneva.svd(Y)    # We compute its TT-representation\n",
    "print(teneva.sum(Y)) # We print the sum of tensor elements"
   ]
  },
  {
   "cell_type": "code",
   "execution_count": 11,
   "id": "bce3ee5d-64b1-42fb-bbb7-6d0824cd6d9c",
   "metadata": {},
   "outputs": [
    {
     "name": "stdout",
     "output_type": "stream",
     "text": [
      "[0 1] 0.19999999999999993\n",
      "[2 0] 0.20000000000000012\n",
      "[0 0] 0.1\n"
     ]
    }
   ],
   "source": [
    "m = 3 # Number of requested samples\n",
    "I = teneva.sample_square(Y, m)\n",
    "\n",
    "for i in I:\n",
    "    print(i, teneva.get(Y, i))"
   ]
  },
  {
   "cell_type": "code",
   "execution_count": 12,
   "id": "dc6cd825-43df-498f-bf02-863c6157a349",
   "metadata": {},
   "outputs": [
    {
     "name": "stdout",
     "output_type": "stream",
     "text": [
      "[0 2] 0.30000000000000004\n",
      "[2 1] 0.19999999999999998\n",
      "[2 0] 0.20000000000000012\n",
      "[2 1] 0.19999999999999998\n",
      "[2 1] 0.19999999999999998\n",
      "[0 1] 0.19999999999999993\n",
      "[0 1] 0.19999999999999993\n",
      "[0 2] 0.30000000000000004\n",
      "[0 2] 0.30000000000000004\n",
      "[2 1] 0.19999999999999998\n"
     ]
    }
   ],
   "source": [
    "m = 10\n",
    "I = teneva.sample_square(Y, m, unique=False)\n",
    "for i in I:\n",
    "    print(i, teneva.get(Y, i))"
   ]
  },
  {
   "cell_type": "markdown",
   "id": "85874629-d087-43c9-aa1b-9d2ea5ab9ae8",
   "metadata": {},
   "source": [
    "And now let check this function for big random TT-tensor:"
   ]
  },
  {
   "cell_type": "code",
   "execution_count": 13,
   "id": "7da0ee59-5393-4967-94df-0337de84fef8",
   "metadata": {},
   "outputs": [
    {
     "name": "stdout",
     "output_type": "stream",
     "text": [
      "TT-tensor     5D : |4|  |4|  |4|  |4|  |4|\n",
      "<rank>  =   25.0 :   \\25/ \\25/ \\25/ \\25/\n",
      "\n",
      "--- Result:\n",
      "[3 1 2 3 0] 0.0014598207440115493\n",
      "[1 2 1 1 1] 0.0038227446850823184\n",
      "[3 0 1 2 0] 0.002431550307598073\n",
      "[3 2 3 0 0] 0.014927727284710889\n",
      "[1 2 3 0 1] 0.010419554168995405\n",
      "[3 3 2 0 2] 0.005610355321104711\n",
      "[1 3 0 2 0] 0.00813428871624301\n",
      "[1 0 3 3 1] 0.0059010351201360806\n",
      "[1 0 0 0 2] 0.002413513966839127\n",
      "[1 2 3 0 2] 0.006713745601688902\n"
     ]
    }
   ],
   "source": [
    "# 5-dim random TT-tensor with TT-rank 5:\n",
    "Y = teneva.rand([4]*5, 5)\n",
    "\n",
    "# Compute the square of Y:\n",
    "Y = teneva.mul(Y, Y)\n",
    "\n",
    "# Normalize the tensor:\n",
    "p = teneva.sum(Y)\n",
    "Y = teneva.mul(Y, 1./p)\n",
    "\n",
    "# Print the resulting TT-tensor:\n",
    "teneva.show(Y)\n",
    "\n",
    "I = teneva.sample_square(Y, m=10)\n",
    "\n",
    "print('\\n--- Result:')\n",
    "for i in I:\n",
    "    print(i, teneva.get(Y, i))"
   ]
  },
  {
   "cell_type": "markdown",
   "id": "7ff68edc-edcd-4bfc-8052-0846739c06c6",
   "metadata": {},
   "source": [
    "Note that we can also set a random seed value:"
   ]
  },
  {
   "cell_type": "code",
   "execution_count": 14,
   "id": "722b729e-e1c3-4556-b16e-50ad412ff6a7",
   "metadata": {},
   "outputs": [
    {
     "name": "stdout",
     "output_type": "stream",
     "text": [
      "\n",
      "--- Result:\n",
      "[0 2 3 0 0] 0.018207262948340554\n",
      "[0 2 2 0 1] 0.012200195167159356\n",
      "[0 1 0 1 2] 0.0010835371784504821\n",
      "[2 2 2 3 3] 0.013183247314231279\n",
      "[0 2 1 3 1] 0.0029869590066619453\n",
      "[2 1 3 2 0] 0.0019840125638689735\n",
      "[2 1 1 3 2] 0.0009026844205923414\n",
      "[2 0 2 1 3] 0.0008211322913717347\n",
      "[2 2 2 0 0] 0.03449546103487785\n",
      "[3 2 3 2 1] 0.001954351929649005\n"
     ]
    }
   ],
   "source": [
    "Y = teneva.rand([4]*5, 5)\n",
    "Y = teneva.mul(Y, Y)\n",
    "Y = teneva.mul(Y, 1./teneva.sum(Y))\n",
    "I = teneva.sample_square(Y, m=10, seed=42)\n",
    "\n",
    "print('\\n--- Result:')\n",
    "for i in I:\n",
    "    print(i, teneva.get(Y, i))"
   ]
  },
  {
   "cell_type": "markdown",
   "id": "abde5390-18e9-4420-b7ee-2e4b542d779b",
   "metadata": {},
   "source": [
    "## Function `sample_tt`"
   ]
  },
  {
   "cell_type": "markdown",
   "id": "f3f1907e-ca25-4f25-a26e-8d82999486a7",
   "metadata": {},
   "source": [
    "Generate special samples (multi-indices) for the tensor, which are are the best (in many cases) for the subsequent construction of the TT-tensor."
   ]
  },
  {
   "cell_type": "code",
   "execution_count": 15,
   "id": "e98c07bb-b1dc-4c09-b15f-5926ae4ec1e5",
   "metadata": {},
   "outputs": [
    {
     "name": "stdout",
     "output_type": "stream",
     "text": [
      "(40, 3)\n",
      "(4,)\n",
      "(3,)\n"
     ]
    }
   ],
   "source": [
    "d = 3           # Dimension of the tensor/grid\n",
    "n = [5] * d     # Shape of the tensor/grid\n",
    "m = 2           # The expected TT-rank\n",
    "\n",
    "I, idx, idx_many = teneva.sample_tt(n, m)\n",
    "\n",
    "print(I.shape)\n",
    "print(idx.shape)\n",
    "print(idx_many.shape)"
   ]
  },
  {
   "cell_type": "markdown",
   "id": "aad3350c-24e5-433b-9210-1b843ea13561",
   "metadata": {},
   "source": [
    "Note that we can also set a random seed value:"
   ]
  },
  {
   "cell_type": "code",
   "execution_count": 16,
   "id": "3aeb5f95-05f2-47e1-bc9c-991bd65c4023",
   "metadata": {},
   "outputs": [
    {
     "name": "stdout",
     "output_type": "stream",
     "text": [
      "(40, 3)\n",
      "(4,)\n",
      "(3,)\n"
     ]
    }
   ],
   "source": [
    "d = 3           # Dimension of the tensor/grid\n",
    "n = [5] * d     # Shape of the tensor/grid\n",
    "m = 2           # The expected TT-rank\n",
    "\n",
    "I, idx, idx_many = teneva.sample_tt(n, m, seed=42)\n",
    "\n",
    "print(I.shape)\n",
    "print(idx.shape)\n",
    "print(idx_many.shape)"
   ]
  },
  {
   "cell_type": "markdown",
   "id": "5157c326-a02c-41fc-b82d-af0d55ddfb18",
   "metadata": {},
   "source": [
    "---"
   ]
  }
 ],
 "metadata": {
  "kernelspec": {
   "display_name": "Python 3 (ipykernel)",
   "language": "python",
   "name": "python3"
  },
  "language_info": {
   "codemirror_mode": {
    "name": "ipython",
    "version": 3
   },
   "file_extension": ".py",
   "mimetype": "text/x-python",
   "name": "python",
   "nbconvert_exporter": "python",
   "pygments_lexer": "ipython3",
   "version": "3.8.17"
  }
 },
 "nbformat": 4,
 "nbformat_minor": 5
}

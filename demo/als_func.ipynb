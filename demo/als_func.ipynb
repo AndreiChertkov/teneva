{
 "cells": [
  {
   "cell_type": "markdown",
   "id": "e3973655-b777-40a7-babd-9f077dd85f05",
   "metadata": {},
   "source": [
    "**Demo for `teneva.als_func`**\n",
    "\n",
    "---\n",
    "\n",
    "This module contains the function \"als_func\" which computes the TT-approximation of tensor of coefficients (i.e., the TT-Tucker core tensor) by TT-ALS algorithm, using given random samples."
   ]
  },
  {
   "cell_type": "markdown",
   "id": "6b849fa8-33f2-4f12-9a67-655d54cbeea7",
   "metadata": {},
   "source": [
    "## Loading and importing modules"
   ]
  },
  {
   "cell_type": "code",
   "execution_count": 1,
   "id": "082e4e73-6ebf-4245-bf9e-296d76a5f82e",
   "metadata": {
    "ExecuteTime": {
     "end_time": "2023-10-08T23:27:39.698216Z",
     "start_time": "2023-10-08T23:27:39.525572Z"
    },
    "tags": []
   },
   "outputs": [],
   "source": [
    "import numpy as np\n",
    "import teneva\n",
    "from time import perf_counter as tpc\n",
    "np.random.seed(42)"
   ]
  },
  {
   "cell_type": "markdown",
   "id": "59db5cd1-a9af-4aad-8199-c89401e416b6",
   "metadata": {},
   "source": [
    "## Function `als_func`"
   ]
  },
  {
   "cell_type": "markdown",
   "id": "27a1eb55-1cf3-411c-aab6-09207824e2a8",
   "metadata": {},
   "source": [
    "Build TT-Tucker core tensor by TT-ALS from the given samples."
   ]
  },
  {
   "cell_type": "markdown",
   "id": "03c77537-2a04-4645-a1d3-d98e994df5f8",
   "metadata": {},
   "source": [
    "We set the target function (the function takes as input a set of function inputs X of the shape [samples, dimension]):"
   ]
  },
  {
   "cell_type": "code",
   "execution_count": 2,
   "id": "ba92d1bd-3310-4c9a-90cb-3698af7be781",
   "metadata": {
    "ExecuteTime": {
     "end_time": "2023-10-08T23:27:39.702920Z",
     "start_time": "2023-10-08T23:27:39.699898Z"
    },
    "tags": []
   },
   "outputs": [],
   "source": [
    "def func(X):\n",
    "    \"\"\"Schaffer function.\"\"\"\n",
    "    Z = X[:, :-1]**2 + X[:, 1:]**2\n",
    "    y = 0.5 + (np.sin(np.sqrt(Z))**2 - 0.5) / (1. + 0.001 * Z)**2\n",
    "    return np.sum(y, axis=1)"
   ]
  },
  {
   "cell_type": "code",
   "execution_count": 3,
   "id": "cf9e0019-e2c6-49ee-971d-80fa6947bf11",
   "metadata": {
    "ExecuteTime": {
     "end_time": "2023-10-08T23:27:39.709210Z",
     "start_time": "2023-10-08T23:27:39.704625Z"
    },
    "tags": []
   },
   "outputs": [],
   "source": [
    "d = 7      # Dimension of the function\n",
    "a = -5.    # Lower bounds for spatial grid\n",
    "b = +6.    # Upper bounds for spatial grid"
   ]
  },
  {
   "cell_type": "markdown",
   "id": "83b32617-3c9f-4b32-8bc8-db507e4c9025",
   "metadata": {},
   "source": [
    "Then we select the parameters:"
   ]
  },
  {
   "cell_type": "code",
   "execution_count": 4,
   "id": "2c6673e4-a66d-4181-81b9-438dcdb2bcea",
   "metadata": {
    "ExecuteTime": {
     "end_time": "2023-10-08T23:27:39.714506Z",
     "start_time": "2023-10-08T23:27:39.711478Z"
    },
    "tags": []
   },
   "outputs": [],
   "source": [
    "m_trn  = 1.E+5  # Train data size (number of function calls)\n",
    "m_vld  = 1.E+3  # Validation data size\n",
    "m_tst  = 1.E+5  # Test data size\n",
    "nswp   = 6      # Sweep number for ALS iterations\n",
    "r      = 5      # TT-rank of the initial random tensor\n",
    "n      = 2      # Initial shape of the coefficients' tensor\n",
    "n_max  = 20     # Maximum shape of the coefficients' tensor"
   ]
  },
  {
   "cell_type": "markdown",
   "id": "422b4a5e-4897-4a23-a9bf-ab25f7984bee",
   "metadata": {},
   "source": [
    "We prepare random train, validation and test data:"
   ]
  },
  {
   "cell_type": "code",
   "execution_count": 5,
   "id": "7d89d738-4ac7-4bb1-ac44-e49e43175f04",
   "metadata": {
    "ExecuteTime": {
     "end_time": "2023-10-08T23:27:39.770995Z",
     "start_time": "2023-10-08T23:27:39.717475Z"
    },
    "tags": []
   },
   "outputs": [],
   "source": [
    "X_trn = np.vstack([np.random.uniform(a, b, int(m_trn)) for k in range(d)]).T\n",
    "y_trn = func(X_trn)\n",
    "\n",
    "X_vld = np.vstack([np.random.uniform(a, b, int(m_vld)) for k in range(d)]).T\n",
    "y_vld = func(X_vld)\n",
    "\n",
    "X_tst = np.vstack([np.random.uniform(a, b, int(m_trn)) for k in range(d)]).T\n",
    "y_tst = func(X_tst)"
   ]
  },
  {
   "cell_type": "markdown",
   "id": "490e0339-ae22-4ac1-83d0-721a319282c6",
   "metadata": {},
   "source": [
    "And now we will build the TT-tensor, which approximates the coefficients' tensor in the TT-format by the functional TT-ALS method:"
   ]
  },
  {
   "cell_type": "code",
   "execution_count": 6,
   "id": "548710d3-bf06-4a97-96d6-a4745050a918",
   "metadata": {
    "ExecuteTime": {
     "end_time": "2023-10-08T23:27:54.636192Z",
     "start_time": "2023-10-08T23:27:39.771910Z"
    }
   },
   "outputs": [
    {
     "name": "stdout",
     "output_type": "stream",
     "text": [
      "# pre | time:      0.153 | rank:   5.0 | e_vld: 1.7e+00 | \n",
      "#   1 | time:      1.129 | rank:   5.0 | e_vld: 2.7e-01 | e: 1.0e+00 | \n",
      "#   2 | time:      2.853 | rank:   5.0 | e_vld: 2.3e-01 | e: 6.6e-01 | \n",
      "#   3 | time:      5.373 | rank:   5.0 | e_vld: 1.8e-01 | e: 5.4e-01 | \n",
      "#   4 | time:      8.340 | rank:   5.0 | e_vld: 1.4e-01 | e: 3.3e-01 | \n",
      "#   5 | time:     11.770 | rank:   5.0 | e_vld: 8.3e-02 | e: 2.5e-01 | \n",
      "#   6 | time:     15.886 | rank:   5.0 | e_vld: 6.9e-02 | e: 1.3e-01 | stop: nswp | \n",
      "Build time     :      15.90\n"
     ]
    }
   ],
   "source": [
    "t = tpc()\n",
    "A0 = teneva.rand([n]*d, r)\n",
    "A = teneva.als_func(X_trn, y_trn, A0, a, b, nswp, e=None,\n",
    "    X_vld=X_vld, y_vld=y_vld, n_max=n_max, log=True)\n",
    "t = tpc() - t\n",
    "\n",
    "print(f'Build time     : {t:-10.2f}')"
   ]
  },
  {
   "cell_type": "markdown",
   "id": "fc2337ae-f45c-4efc-a054-f5d5cacf445e",
   "metadata": {},
   "source": [
    "And now we can check the result. We compute values of our approximation in test points using coefficients' tensor:"
   ]
  },
  {
   "cell_type": "code",
   "execution_count": 7,
   "id": "26a31587-b3de-4090-812a-026eb14ca6dd",
   "metadata": {
    "ExecuteTime": {
     "end_time": "2023-10-08T23:27:58.317764Z",
     "start_time": "2023-10-08T23:27:54.637349Z"
    },
    "tags": []
   },
   "outputs": [
    {
     "name": "stdout",
     "output_type": "stream",
     "text": [
      "Relative error :    7.1e-02\n",
      "Check time     :       4.76\n"
     ]
    }
   ],
   "source": [
    "t = tpc()\n",
    "\n",
    "y_our = teneva.func_get(X_tst, A, a, b)\n",
    "e = np.linalg.norm(y_our - y_tst) / np.linalg.norm(y_tst)\n",
    "\n",
    "t = tpc() - t\n",
    "print(f'Relative error : {e:-10.1e}')\n",
    "print(f'Check time     : {t:-10.2f}')"
   ]
  },
  {
   "cell_type": "markdown",
   "id": "c6785e5e-b785-47b3-93ef-70780f6f5880",
   "metadata": {},
   "source": [
    "Note that that the mode sizes for the coefficients' tensor will be changed, since we passed `n_max` parameter:"
   ]
  },
  {
   "cell_type": "code",
   "execution_count": 8,
   "id": "861dc7bd-8946-4f51-94bc-538e3947b660",
   "metadata": {
    "ExecuteTime": {
     "end_time": "2023-10-08T23:27:58.322039Z",
     "start_time": "2023-10-08T23:27:58.319204Z"
    },
    "tags": []
   },
   "outputs": [
    {
     "name": "stdout",
     "output_type": "stream",
     "text": [
      "TT-tensor     7D : |8| |14| |14| |14| |14| |14| |8|\n",
      "<rank>  =    5.0 :   \\5/  \\5/  \\5/  \\5/  \\5/  \\5/\n"
     ]
    }
   ],
   "source": [
    "teneva.show(A)"
   ]
  },
  {
   "cell_type": "markdown",
   "id": "89600401",
   "metadata": {
    "ExecuteTime": {
     "end_time": "2023-10-08T22:16:54.294522Z",
     "start_time": "2023-10-08T22:16:54.291715Z"
    }
   },
   "source": [
    "(NEW OPTION) We can also use batch updates:"
   ]
  },
  {
   "cell_type": "code",
   "execution_count": 9,
   "id": "dfaa0d0f",
   "metadata": {
    "ExecuteTime": {
     "end_time": "2023-10-08T23:29:04.839638Z",
     "start_time": "2023-10-08T23:27:58.323231Z"
    },
    "scrolled": true
   },
   "outputs": [
    {
     "name": "stdout",
     "output_type": "stream",
     "text": [
      "# pre | time:      0.064 | rank:   5.0 | e_vld: 2.8e+00 | \n",
      "#   1 | time:      0.205 | rank:   5.0 | e_vld: 2.7e-01 | e: 1.0e+00 | stop: nswp | \n",
      "# pre | time:      0.055 | rank:   5.0 | e_vld: 2.7e-01 | \n",
      "#   1 | time:      0.300 | rank:   5.0 | e_vld: 2.4e-01 | e: 8.9e-01 | stop: nswp | \n",
      "# pre | time:      0.053 | rank:   5.0 | e_vld: 2.4e-01 | \n",
      "#   1 | time:      0.370 | rank:   5.0 | e_vld: 1.9e-01 | e: 7.3e-01 | stop: nswp | \n",
      "# pre | time:      0.052 | rank:   5.0 | e_vld: 1.9e-01 | \n",
      "#   1 | time:      0.425 | rank:   5.0 | e_vld: 1.5e-01 | e: 5.2e-01 | stop: nswp | \n",
      "# pre | time:      0.054 | rank:   5.0 | e_vld: 1.5e-01 | \n",
      "#   1 | time:      0.497 | rank:   5.0 | e_vld: 9.8e-02 | e: 3.9e-01 | stop: nswp | \n",
      "# pre | time:      0.055 | rank:   5.0 | e_vld: 9.8e-02 | \n",
      "#   1 | time:      0.576 | rank:   5.0 | e_vld: 7.9e-02 | e: 2.3e-01 | stop: nswp | \n",
      "# pre | time:      0.056 | rank:   5.0 | e_vld: 7.9e-02 | \n",
      "#   1 | time:      0.691 | rank:   5.0 | e_vld: 7.2e-02 | e: 1.9e-01 | stop: nswp | \n",
      "# pre | time:      0.052 | rank:   5.0 | e_vld: 7.2e-02 | \n",
      "#   1 | time:      0.795 | rank:   5.0 | e_vld: 5.8e-02 | e: 1.6e-01 | stop: nswp | \n",
      "# pre | time:      0.053 | rank:   5.0 | e_vld: 5.8e-02 | \n",
      "#   1 | time:      0.890 | rank:   5.0 | e_vld: 5.4e-02 | e: 1.5e-01 | stop: nswp | \n",
      "# pre | time:      0.055 | rank:   5.0 | e_vld: 5.4e-02 | \n",
      "#   1 | time:      0.920 | rank:   5.0 | e_vld: 4.7e-02 | e: 1.4e-01 | stop: nswp | \n",
      "# pre | time:      0.053 | rank:   5.0 | e_vld: 4.7e-02 | \n",
      "#   1 | time:      0.885 | rank:   5.0 | e_vld: 4.5e-02 | e: 6.9e-02 | stop: nswp | \n",
      "# pre | time:      0.056 | rank:   5.0 | e_vld: 4.5e-02 | \n",
      "#   1 | time:      0.881 | rank:   5.0 | e_vld: 4.3e-02 | e: 6.6e-02 | stop: nswp | \n",
      "# pre | time:      0.055 | rank:   5.0 | e_vld: 4.3e-02 | \n",
      "#   1 | time:      0.907 | rank:   5.0 | e_vld: 4.2e-02 | e: 6.1e-02 | stop: nswp | \n",
      "# pre | time:      0.056 | rank:   5.0 | e_vld: 4.2e-02 | \n",
      "#   1 | time:      0.907 | rank:   5.0 | e_vld: 4.3e-02 | e: 7.1e-02 | stop: nswp | \n",
      "# pre | time:      0.055 | rank:   5.0 | e_vld: 4.3e-02 | \n",
      "#   1 | time:      0.884 | rank:   5.0 | e_vld: 4.2e-02 | e: 6.3e-02 | stop: nswp | \n",
      "# pre | time:      0.055 | rank:   5.0 | e_vld: 4.2e-02 | \n",
      "#   1 | time:      0.874 | rank:   5.0 | e_vld: 4.2e-02 | e: 5.9e-02 | stop: nswp | \n",
      "# pre | time:      0.061 | rank:   5.0 | e_vld: 4.2e-02 | \n",
      "#   1 | time:      0.959 | rank:   5.0 | e_vld: 4.2e-02 | e: 6.2e-02 | stop: nswp | \n",
      "# pre | time:      0.054 | rank:   5.0 | e_vld: 4.2e-02 | \n",
      "#   1 | time:      0.922 | rank:   5.0 | e_vld: 4.2e-02 | e: 6.6e-02 | stop: nswp | \n",
      "# pre | time:      0.053 | rank:   5.0 | e_vld: 4.2e-02 | \n",
      "#   1 | time:      0.955 | rank:   5.0 | e_vld: 4.2e-02 | e: 6.2e-02 | stop: nswp | \n",
      "# pre | time:      0.055 | rank:   5.0 | e_vld: 4.2e-02 | \n",
      "#   1 | time:      0.964 | rank:   5.0 | e_vld: 4.2e-02 | e: 6.4e-02 | stop: nswp | \n",
      "# pre | time:      0.054 | rank:   5.0 | e_vld: 4.2e-02 | \n",
      "#   1 | time:      0.933 | rank:   5.0 | e_vld: 4.3e-02 | e: 3.8e-02 | stop: nswp | \n",
      "# pre | time:      0.056 | rank:   5.0 | e_vld: 4.3e-02 | \n",
      "#   1 | time:      0.923 | rank:   5.0 | e_vld: 4.2e-02 | e: 3.9e-02 | stop: nswp | \n",
      "# pre | time:      0.057 | rank:   5.0 | e_vld: 4.2e-02 | \n",
      "#   1 | time:      0.948 | rank:   5.0 | e_vld: 4.1e-02 | e: 3.6e-02 | stop: nswp | \n",
      "# pre | time:      0.056 | rank:   5.0 | e_vld: 4.1e-02 | \n",
      "#   1 | time:      0.948 | rank:   5.0 | e_vld: 4.2e-02 | e: 3.4e-02 | stop: nswp | \n",
      "# pre | time:      0.056 | rank:   5.0 | e_vld: 4.2e-02 | \n",
      "#   1 | time:      0.966 | rank:   5.0 | e_vld: 4.1e-02 | e: 3.4e-02 | stop: nswp | \n",
      "# pre | time:      0.057 | rank:   5.0 | e_vld: 4.1e-02 | \n",
      "#   1 | time:      0.941 | rank:   5.0 | e_vld: 4.1e-02 | e: 3.5e-02 | stop: nswp | \n",
      "# pre | time:      0.054 | rank:   5.0 | e_vld: 4.1e-02 | \n",
      "#   1 | time:      0.930 | rank:   5.0 | e_vld: 4.1e-02 | e: 3.7e-02 | stop: nswp | \n",
      "# pre | time:      0.056 | rank:   5.0 | e_vld: 4.1e-02 | \n",
      "#   1 | time:      0.935 | rank:   5.0 | e_vld: 4.1e-02 | e: 3.6e-02 | stop: nswp | \n",
      "# pre | time:      0.054 | rank:   5.0 | e_vld: 4.1e-02 | \n",
      "#   1 | time:      0.968 | rank:   5.0 | e_vld: 4.1e-02 | e: 3.4e-02 | stop: nswp | \n",
      "# pre | time:      0.053 | rank:   5.0 | e_vld: 4.1e-02 | \n",
      "#   1 | time:      0.949 | rank:   5.0 | e_vld: 4.1e-02 | e: 3.3e-02 | stop: nswp | \n",
      "# pre | time:      0.055 | rank:   5.0 | e_vld: 4.1e-02 | \n",
      "#   1 | time:      0.968 | rank:   5.0 | e_vld: 4.1e-02 | e: 1.6e-02 | stop: nswp | \n",
      "# pre | time:      0.056 | rank:   5.0 | e_vld: 4.1e-02 | \n",
      "#   1 | time:      0.964 | rank:   5.0 | e_vld: 4.1e-02 | e: 1.5e-02 | stop: nswp | \n",
      "# pre | time:      0.054 | rank:   5.0 | e_vld: 4.1e-02 | \n",
      "#   1 | time:      0.954 | rank:   5.0 | e_vld: 4.1e-02 | e: 1.5e-02 | stop: nswp | \n",
      "# pre | time:      0.057 | rank:   5.0 | e_vld: 4.1e-02 | \n",
      "#   1 | time:      0.972 | rank:   5.0 | e_vld: 4.1e-02 | e: 1.6e-02 | stop: nswp | \n",
      "# pre | time:      0.054 | rank:   5.0 | e_vld: 4.1e-02 | \n",
      "#   1 | time:      0.945 | rank:   5.0 | e_vld: 4.1e-02 | e: 1.8e-02 | stop: nswp | \n",
      "# pre | time:      0.056 | rank:   5.0 | e_vld: 4.1e-02 | \n",
      "#   1 | time:      0.936 | rank:   5.0 | e_vld: 4.1e-02 | e: 1.6e-02 | stop: nswp | \n",
      "# pre | time:      0.055 | rank:   5.0 | e_vld: 4.1e-02 | \n",
      "#   1 | time:      0.945 | rank:   5.0 | e_vld: 4.1e-02 | e: 1.5e-02 | stop: nswp | \n",
      "# pre | time:      0.055 | rank:   5.0 | e_vld: 4.1e-02 | \n",
      "#   1 | time:      0.934 | rank:   5.0 | e_vld: 4.1e-02 | e: 1.4e-02 | stop: nswp | \n",
      "# pre | time:      0.056 | rank:   5.0 | e_vld: 4.1e-02 | \n",
      "#   1 | time:      0.961 | rank:   5.0 | e_vld: 4.1e-02 | e: 1.6e-02 | stop: nswp | \n",
      "# pre | time:      0.054 | rank:   5.0 | e_vld: 4.1e-02 | \n",
      "#   1 | time:      0.963 | rank:   5.0 | e_vld: 4.1e-02 | e: 1.6e-02 | stop: nswp | \n",
      "# pre | time:      0.054 | rank:   5.0 | e_vld: 4.1e-02 | \n",
      "#   1 | time:      0.965 | rank:   5.0 | e_vld: 4.1e-02 | e: 3.4e-03 | stop: nswp | \n",
      "# pre | time:      0.054 | rank:   5.0 | e_vld: 4.1e-02 | \n",
      "#   1 | time:      0.969 | rank:   5.0 | e_vld: 4.1e-02 | e: 4.4e-03 | stop: nswp | \n",
      "# pre | time:      0.056 | rank:   5.0 | e_vld: 4.1e-02 | \n",
      "#   1 | time:      0.982 | rank:   5.0 | e_vld: 4.1e-02 | e: 3.4e-03 | stop: nswp | \n",
      "# pre | time:      0.055 | rank:   5.0 | e_vld: 4.1e-02 | \n",
      "#   1 | time:      0.983 | rank:   5.0 | e_vld: 4.0e-02 | e: 3.7e-03 | stop: nswp | \n",
      "# pre | time:      0.054 | rank:   5.0 | e_vld: 4.0e-02 | \n",
      "#   1 | time:      0.991 | rank:   5.0 | e_vld: 4.0e-02 | e: 3.6e-03 | stop: nswp | \n",
      "# pre | time:      0.055 | rank:   5.0 | e_vld: 4.0e-02 | \n",
      "#   1 | time:      0.971 | rank:   5.0 | e_vld: 4.1e-02 | e: 3.4e-03 | stop: nswp | \n",
      "# pre | time:      0.054 | rank:   5.0 | e_vld: 4.1e-02 | \n",
      "#   1 | time:      0.957 | rank:   5.0 | e_vld: 4.0e-02 | e: 3.8e-03 | stop: nswp | \n",
      "# pre | time:      0.056 | rank:   5.0 | e_vld: 4.0e-02 | \n",
      "#   1 | time:      0.960 | rank:   5.0 | e_vld: 4.0e-02 | e: 3.3e-03 | stop: nswp | \n",
      "# pre | time:      0.054 | rank:   5.0 | e_vld: 4.0e-02 | \n",
      "#   1 | time:      0.952 | rank:   5.0 | e_vld: 4.0e-02 | e: 3.7e-03 | stop: nswp | \n",
      "# pre | time:      0.057 | rank:   5.0 | e_vld: 4.0e-02 | \n",
      "#   1 | time:      0.949 | rank:   5.0 | e_vld: 4.0e-02 | e: 3.4e-03 | stop: nswp | \n",
      "Build time     :      43.72\n"
     ]
    }
   ],
   "source": [
    "t = tpc()\n",
    "\n",
    "A = teneva.rand([n]*d, r)\n",
    "\n",
    "Nn = X_trn.shape[0]\n",
    "bs = 10000 # batch size\n",
    "iters = 5\n",
    "\n",
    "for i_iter in range(iters):\n",
    "    idx = np.random.permutation(Nn)\n",
    "    for i in range(0, Nn, bs):\n",
    "        X_trn_cur = X_trn[idx[i:i+bs]]\n",
    "        y_trn_cur = y_trn[idx[i:i+bs]]\n",
    "\n",
    "        A = teneva.als_func(X_trn_cur, y_trn_cur, A, a, b, nswp=1, e=None,\n",
    "            X_vld=X_vld, y_vld=y_vld, n_max=n_max, log=True, update_sol=True, lamb=2**(i_iter/(iters/30)))\n",
    "t = tpc() - t\n",
    "\n",
    "print(f'Build time     : {t:-10.2f}')"
   ]
  },
  {
   "cell_type": "code",
   "execution_count": 10,
   "id": "ecb231a0",
   "metadata": {
    "ExecuteTime": {
     "end_time": "2023-10-08T23:29:08.626563Z",
     "start_time": "2023-10-08T23:29:04.841162Z"
    }
   },
   "outputs": [
    {
     "name": "stdout",
     "output_type": "stream",
     "text": [
      "Relative error :    4.1e-02\n",
      "Check time     :       4.92\n"
     ]
    }
   ],
   "source": [
    "t = tpc()\n",
    "\n",
    "y_our = teneva.func_get(X_tst, A, a, b)\n",
    "e = np.linalg.norm(y_our - y_tst) / np.linalg.norm(y_tst)\n",
    "\n",
    "t = tpc() - t\n",
    "print(f'Relative error : {e:-10.1e}')\n",
    "print(f'Check time     : {t:-10.2f}')"
   ]
  },
  {
   "cell_type": "code",
   "execution_count": 11,
   "id": "616d358e",
   "metadata": {
    "ExecuteTime": {
     "end_time": "2023-10-08T23:29:08.637294Z",
     "start_time": "2023-10-08T23:29:08.634698Z"
    }
   },
   "outputs": [
    {
     "name": "stdout",
     "output_type": "stream",
     "text": [
      "TT-tensor     7D : |20| |20| |20| |20| |20| |20| |20|\n",
      "<rank>  =    5.0 :    \\5/  \\5/  \\5/  \\5/  \\5/  \\5/\n"
     ]
    }
   ],
   "source": [
    "teneva.show(A)"
   ]
  },
  {
   "cell_type": "markdown",
   "id": "9dc8f582-6f2f-4fe1-83bc-7e99f7508333",
   "metadata": {},
   "source": [
    "Here we have given only one example of the use of method. More related demos can be found in the documentation for the \"als\" function in \"als.py\" module."
   ]
  },
  {
   "cell_type": "markdown",
   "id": "1e4c596f-8240-431e-9d6c-118be4152101",
   "metadata": {},
   "source": [
    "---"
   ]
  }
 ],
 "metadata": {
  "kernelspec": {
   "display_name": "Python 3 (ipykernel)",
   "language": "python",
   "name": "python3"
  },
  "language_info": {
   "codemirror_mode": {
    "name": "ipython",
    "version": 3
   },
   "file_extension": ".py",
   "mimetype": "text/x-python",
   "name": "python",
   "nbconvert_exporter": "python",
   "pygments_lexer": "ipython3",
   "version": "3.8.17"
  }
 },
 "nbformat": 4,
 "nbformat_minor": 5
}

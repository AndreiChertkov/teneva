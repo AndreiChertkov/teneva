{
 "cells": [
  {
   "cell_type": "markdown",
   "id": "e51b9291-f33c-40ad-96ee-e2f9454ffc69",
   "metadata": {},
   "source": [
    "**Demo for `teneva.collection.tensors`**\n",
    "\n",
    "---\n",
    "\n",
    "This module contains the collection of functions for explicit construction of\n",
    "various useful TT-tensors (delta function and others)."
   ]
  },
  {
   "cell_type": "markdown",
   "id": "3896a55c-1131-44fc-b746-1433ad4ddb08",
   "metadata": {},
   "source": [
    "## Loading and importing modules"
   ]
  },
  {
   "cell_type": "code",
   "execution_count": 2,
   "id": "9941ed2c-6272-4144-8c96-4e800f0b5c49",
   "metadata": {},
   "outputs": [],
   "source": [
    "import numpy as np\n",
    "import teneva\n",
    "from time import perf_counter as tpc\n",
    "np.random.seed(42)"
   ]
  },
  {
   "cell_type": "markdown",
   "id": "bbb921a4-cfa2-4d71-a0aa-e7da1016de05",
   "metadata": {},
   "source": [
    "## Function `tensor_const`"
   ]
  },
  {
   "cell_type": "markdown",
   "id": "b2574235-d992-464b-98aa-ef1ba01fb759",
   "metadata": {},
   "source": [
    "Build TT-tensor (with TT-rank equals 1) with all values equal to given number."
   ]
  },
  {
   "cell_type": "code",
   "execution_count": 4,
   "id": "c12c8d2f-5696-401f-ad55-f78e8a128403",
   "metadata": {},
   "outputs": [
    {
     "name": "stdout",
     "output_type": "stream",
     "text": [
      " 10 10 10 10 10 \n",
      " / \\/ \\/ \\/ \\/ \\\n",
      " 1  1  1  1  1  1 \n",
      "\n",
      "Min value : 42.0\n",
      "Max value : 42.0\n"
     ]
    }
   ],
   "source": [
    "n = [10] * 5                        # Shape of the tensor  \n",
    "Y = teneva.tensor_const(n, v=42.)   # Tensor of all 42\n",
    "teneva.show(Y)                      # Print the resulting TT-tensor\n",
    "Y_full = teneva.full(Y)\n",
    "print(f'Min value : {np.min(Y_full)}')\n",
    "print(f'Max value : {np.max(Y_full)}')"
   ]
  },
  {
   "cell_type": "markdown",
   "id": "3f6437a4-a93e-4265-9fc6-7d4f46a76c4d",
   "metadata": {},
   "source": [
    "## Function `tensor_delta`"
   ]
  },
  {
   "cell_type": "markdown",
   "id": "cfe8a9e9-ac37-4f38-8008-f81f857ad833",
   "metadata": {},
   "source": [
    "Build TT-tensor that is zero everywhere except for a given multi-index."
   ]
  },
  {
   "cell_type": "code",
   "execution_count": 5,
   "id": "068ca212-0f0f-4759-b8bd-a1460811385c",
   "metadata": {},
   "outputs": [
    {
     "name": "stdout",
     "output_type": "stream",
     "text": [
      " 20 18 16 14 12 \n",
      " / \\/ \\/ \\/ \\/ \\\n",
      " 1  1  1  1  1  1 \n",
      "\n"
     ]
    }
   ],
   "source": [
    "n = [20, 18, 16, 14, 12]            # Shape of the tensor\n",
    "i = [ 1,  2,  3,  4,  5]            # The multi-index for nonzero element\n",
    "v = 42.                             # The value of the tensor at multi-index \"i\"\n",
    "Y = teneva.tensor_delta(n, i, v)    # Build TT-tensor\n",
    "\n",
    "teneva.show(Y)"
   ]
  },
  {
   "cell_type": "markdown",
   "id": "24a4560e-6957-4157-b7cc-a6d1b667491a",
   "metadata": {},
   "source": [
    "Let check the result:"
   ]
  },
  {
   "cell_type": "code",
   "execution_count": 6,
   "id": "74f82ef2-ea3a-4cbb-80f4-ea92a72512dd",
   "metadata": {},
   "outputs": [
    {
     "name": "stdout",
     "output_type": "stream",
     "text": [
      "The max value multi-index: (1, 2, 3, 4, 5)\n",
      "The max value            : 42.0\n",
      "Number of nonzero items  : 1\n"
     ]
    }
   ],
   "source": [
    "Y_full = teneva.full(Y)             # Transform TT-tensor to full format\n",
    "i_max = np.argmax(Y_full)           # Find multi-index and value for max\n",
    "i_max = np.unravel_index(i_max, n)\n",
    "y_max = Y_full[i_max]\n",
    "\n",
    "# Find number of nonzero tensor items:\n",
    "s = len([y for y in Y_full.flatten() if abs(y) > 1.E-10])\n",
    "    \n",
    "print(f'The max value multi-index:', i_max)\n",
    "print(f'The max value            :', y_max)\n",
    "print(f'Number of nonzero items  :', s)"
   ]
  },
  {
   "cell_type": "markdown",
   "id": "5604873b-8e80-46c6-9c9a-18174ee184af",
   "metadata": {},
   "source": [
    "We can also build some multidimensional TT-tensor by \"delta\" function and check the norm of the result:"
   ]
  },
  {
   "cell_type": "code",
   "execution_count": 7,
   "id": "daceea34-ba0e-4396-ac47-cc1ff06145d4",
   "metadata": {},
   "outputs": [
    {
     "data": {
      "text/plain": [
       "42.0"
      ]
     },
     "execution_count": 7,
     "metadata": {},
     "output_type": "execute_result"
    }
   ],
   "source": [
    "d = 100                             # Dimension of the tensor\n",
    "n = [20] * d                        # Shape of the tensor\n",
    "i = [3] * d                         # The multi-index for nonzero element\n",
    "v = 42.                             # The value of the tensor at multi-index \"k\"\n",
    "Y = teneva.tensor_delta(n, i, v)    # Build TT-tensor\n",
    "\n",
    "teneva.norm(Y)"
   ]
  },
  {
   "cell_type": "markdown",
   "id": "5157c326-a02c-41fc-b82d-af0d55ddfb18",
   "metadata": {},
   "source": [
    "---"
   ]
  }
 ],
 "metadata": {
  "kernelspec": {
   "display_name": "Python 3",
   "language": "python",
   "name": "python3"
  },
  "language_info": {
   "codemirror_mode": {
    "name": "ipython",
    "version": 3
   },
   "file_extension": ".py",
   "mimetype": "text/x-python",
   "name": "python",
   "nbconvert_exporter": "python",
   "pygments_lexer": "ipython3",
   "version": "3.8.8"
  }
 },
 "nbformat": 4,
 "nbformat_minor": 5
}

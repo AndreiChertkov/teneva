{
 "cells": [
  {
   "cell_type": "markdown",
   "id": "e51b9291-f33c-40ad-96ee-e2f9454ffc69",
   "metadata": {},
   "source": [
    "**Demo for `teneva.core.transformation`**\n",
    "\n",
    "---\n",
    "\n",
    "This module contains the functions for orthogonalization and truncation of the TT-tensors."
   ]
  },
  {
   "cell_type": "markdown",
   "id": "3896a55c-1131-44fc-b746-1433ad4ddb08",
   "metadata": {},
   "source": [
    "## Loading and importing modules"
   ]
  },
  {
   "cell_type": "code",
   "execution_count": 1,
   "id": "9941ed2c-6272-4144-8c96-4e800f0b5c49",
   "metadata": {},
   "outputs": [],
   "source": [
    "import numpy as np\n",
    "import teneva\n",
    "from time import perf_counter as tpc\n",
    "np.random.seed(42)"
   ]
  },
  {
   "cell_type": "markdown",
   "id": "b5f870ac-5957-452c-a16d-48b7042b3ece",
   "metadata": {},
   "source": [
    "## Function `orthogonalize`"
   ]
  },
  {
   "cell_type": "markdown",
   "id": "f6f753fe-006d-4171-aa51-816f4661e8d3",
   "metadata": {},
   "source": [
    "Orthogonalize TT-tensor (note that operation is performed inplace)."
   ]
  },
  {
   "cell_type": "code",
   "execution_count": 2,
   "id": "1e407658-9dd7-4ff4-a349-75ce82346e40",
   "metadata": {},
   "outputs": [
    {
     "name": "stdout",
     "output_type": "stream",
     "text": [
      " 12 13 14 15 16 \n",
      " / \\/ \\/ \\/ \\/ \\\n",
      " 1  2  3  4  5  1 \n",
      "\n"
     ]
    }
   ],
   "source": [
    "d = 5                                # Dimension of the tensor\n",
    "n = [12, 13, 14, 15, 16]             # Shape of the tensor\n",
    "r = [1, 2, 3, 4, 5, 1]               # TT-ranks for TT-tensor\n",
    "Y = teneva.rand(n, r)                # Build random TT-tensor\n",
    "teneva.show(Y)                       # Print the resulting TT-tensor"
   ]
  },
  {
   "cell_type": "code",
   "execution_count": 3,
   "id": "a2fa4949-1c97-497f-95d7-be39ab99a385",
   "metadata": {},
   "outputs": [
    {
     "name": "stdout",
     "output_type": "stream",
     "text": [
      " 12 13 14 15 16 \n",
      " / \\/ \\/ \\/ \\/ \\\n",
      " 1  2  3  4  5  1 \n",
      "\n"
     ]
    }
   ],
   "source": [
    "Z = teneva.copy(Y)\n",
    "teneva.orthogonalize(Z, d-1)\n",
    "teneva.show(Z)"
   ]
  },
  {
   "cell_type": "code",
   "execution_count": 4,
   "id": "5b1f63dc-226f-4e0b-82a7-4f904518a55e",
   "metadata": {},
   "outputs": [
    {
     "name": "stdout",
     "output_type": "stream",
     "text": [
      "Accuracy     : 0.00e+00\n"
     ]
    }
   ],
   "source": [
    "eps = teneva.accuracy(Y, Z)          # The relative difference (\"accuracy\")\n",
    "print(f'Accuracy     : {eps:-8.2e}')"
   ]
  },
  {
   "cell_type": "code",
   "execution_count": 5,
   "id": "8fa05f28-0d33-4acd-abb8-8590bff1cc64",
   "metadata": {},
   "outputs": [
    {
     "name": "stdout",
     "output_type": "stream",
     "text": [
      "[[1.0000000e+00 6.9388939e-17]\n",
      " [6.9388939e-17 1.0000000e+00]]\n",
      "[[1.00000000e+00 5.55111512e-17 2.77555756e-17]\n",
      " [5.55111512e-17 1.00000000e+00 0.00000000e+00]\n",
      " [2.77555756e-17 0.00000000e+00 1.00000000e+00]]\n",
      "[[ 1.00000000e+00 -1.90277481e-17 -6.93889390e-18  3.46944695e-17]\n",
      " [-1.90277481e-17  1.00000000e+00  1.73472348e-18 -6.93889390e-17]\n",
      " [-6.93889390e-18  1.73472348e-18  1.00000000e+00  1.38777878e-17]\n",
      " [ 3.46944695e-17 -6.93889390e-17  1.38777878e-17  1.00000000e+00]]\n",
      "[[ 1.00000000e+00  6.93889390e-18 -2.08166817e-17  0.00000000e+00\n",
      "   2.77555756e-17]\n",
      " [ 6.93889390e-18  1.00000000e+00  3.46944695e-17 -2.60208521e-17\n",
      "   0.00000000e+00]\n",
      " [-2.08166817e-17  3.46944695e-17  1.00000000e+00  6.93889390e-17\n",
      "  -2.08166817e-17]\n",
      " [ 0.00000000e+00 -2.60208521e-17  6.93889390e-17  1.00000000e+00\n",
      "   2.08166817e-17]\n",
      " [ 2.77555756e-17  0.00000000e+00 -2.08166817e-17  2.08166817e-17\n",
      "   1.00000000e+00]]\n",
      "[[53653047.87891468]]\n"
     ]
    }
   ],
   "source": [
    "for G in Z:\n",
    "    print(sum([G[:, i, :].T @ G[:, i, :] for i in range(G.shape[1])]))"
   ]
  },
  {
   "cell_type": "markdown",
   "id": "a879ed6c-e6d5-4c0d-ba75-7be2b85a1b6e",
   "metadata": {},
   "source": [
    "## Function `orthogonalize_left`"
   ]
  },
  {
   "cell_type": "markdown",
   "id": "79caf360-d263-4b53-ab70-fa6a074f7b7b",
   "metadata": {},
   "source": [
    "Left-orthogonalization for the given TT-tensor (note that operation is performed inplace)."
   ]
  },
  {
   "cell_type": "code",
   "execution_count": 6,
   "id": "4c5441cb-990a-4074-8550-01ec1b4e6b81",
   "metadata": {},
   "outputs": [
    {
     "name": "stdout",
     "output_type": "stream",
     "text": [
      " 12 13 14 15 16 \n",
      " / \\/ \\/ \\/ \\/ \\\n",
      " 1  2  3  4  5  1 \n",
      "\n"
     ]
    }
   ],
   "source": [
    "d = 5                                # Dimension of the tensor\n",
    "n = [12, 13, 14, 15, 16]             # Shape of the tensor\n",
    "r = [1, 2, 3, 4, 5, 1]               # TT-ranks for TT-tensor\n",
    "Y = teneva.rand(n, r)                # Build random TT-tensor\n",
    "teneva.show(Y)                       # Print the resulting TT-tensor"
   ]
  },
  {
   "cell_type": "code",
   "execution_count": 7,
   "id": "bd02de40-201a-4b83-b136-da7813e492ba",
   "metadata": {},
   "outputs": [
    {
     "name": "stdout",
     "output_type": "stream",
     "text": [
      " 12 13 14 15 16 \n",
      " / \\/ \\/ \\/ \\/ \\\n",
      " 1  2  3  4  5  1 \n",
      "\n"
     ]
    }
   ],
   "source": [
    "Z = teneva.copy(Y)\n",
    "teneva.orthogonalize_left(Z, d-2)\n",
    "teneva.show(Z)"
   ]
  },
  {
   "cell_type": "code",
   "execution_count": 8,
   "id": "b524907f-c09b-414c-99f5-c38a05c38f89",
   "metadata": {},
   "outputs": [
    {
     "name": "stdout",
     "output_type": "stream",
     "text": [
      "Accuracy     : 0.00e+00\n"
     ]
    }
   ],
   "source": [
    "eps = teneva.accuracy(Y, Z)          # The relative difference (\"accuracy\")\n",
    "print(f'Accuracy     : {eps:-8.2e}')"
   ]
  },
  {
   "cell_type": "markdown",
   "id": "75c6ae8b-2ab0-4e3a-a691-6aa50365f0c4",
   "metadata": {},
   "source": [
    "## Function `orthogonalize_right`"
   ]
  },
  {
   "cell_type": "markdown",
   "id": "de870153-a7ec-428f-8446-684d099ad4dd",
   "metadata": {},
   "source": [
    "Right-orthogonalization for the given TT-tensor (note that operation is performed inplace)."
   ]
  },
  {
   "cell_type": "code",
   "execution_count": 9,
   "id": "324a659f-e235-4bed-85b8-125607be4961",
   "metadata": {},
   "outputs": [
    {
     "name": "stdout",
     "output_type": "stream",
     "text": [
      " 12 13 14 15 16 \n",
      " / \\/ \\/ \\/ \\/ \\\n",
      " 1  2  3  4  5  1 \n",
      "\n"
     ]
    }
   ],
   "source": [
    "d = 5                                # Dimension of the tensor\n",
    "n = [12, 13, 14, 15, 16]             # Shape of the tensor\n",
    "r = [1, 2, 3, 4, 5, 1]               # TT-ranks for TT-tensor\n",
    "Y = teneva.rand(n, r)                # Build random TT-tensor\n",
    "teneva.show(Y)                       # Print the resulting TT-tensor"
   ]
  },
  {
   "cell_type": "code",
   "execution_count": 10,
   "id": "57765c3d-83b7-4e5a-b1d7-4642e4580618",
   "metadata": {},
   "outputs": [
    {
     "name": "stdout",
     "output_type": "stream",
     "text": [
      " 12 13 14 15 16 \n",
      " / \\/ \\/ \\/ \\/ \\\n",
      " 1  2  3  4  5  1 \n",
      "\n"
     ]
    }
   ],
   "source": [
    "Z = teneva.copy(Y)\n",
    "teneva.orthogonalize_right(Z, d-1)\n",
    "teneva.show(Z)"
   ]
  },
  {
   "cell_type": "code",
   "execution_count": 11,
   "id": "013520c4-2f26-4d75-8190-44c4e00ff8bd",
   "metadata": {},
   "outputs": [
    {
     "name": "stdout",
     "output_type": "stream",
     "text": [
      "Accuracy     : 1.90e-08\n"
     ]
    }
   ],
   "source": [
    "eps = teneva.accuracy(Y, Z)          # The relative difference (\"accuracy\")\n",
    "print(f'Accuracy     : {eps:-8.2e}')"
   ]
  },
  {
   "cell_type": "markdown",
   "id": "ddfd01c9-b49a-4c2b-a959-907819d84c6f",
   "metadata": {},
   "source": [
    "## Function `truncate`"
   ]
  },
  {
   "cell_type": "markdown",
   "id": "ab68da28-496c-46bf-804c-7571079db859",
   "metadata": {},
   "source": [
    "Truncate (round) given TT-tensor up to a given accuracy and the rank constraint."
   ]
  },
  {
   "cell_type": "code",
   "execution_count": 12,
   "id": "77e33c11-75d3-41ef-8f3e-260fee2c1ac4",
   "metadata": {},
   "outputs": [
    {
     "name": "stdout",
     "output_type": "stream",
     "text": [
      "  5  5  5  5  5  5  5  5  5  5 \n",
      " / \\/ \\/ \\/ \\/ \\/ \\/ \\/ \\/ \\/ \\\n",
      " 1  9  9  9  9  9  9  9  9  9  1 \n",
      "\n"
     ]
    }
   ],
   "source": [
    "Y = teneva.rand([5]*10, 3)           # 10-dim random TT-tensor with TT-rank 3\n",
    "Y = teneva.add(Y, teneva.add(Y, Y))  # Compute Y + Y + Y (the real TT-rank is still 3)\n",
    "teneva.show(Y)                       # Print the resulting TT-tensor (note that it has TT-rank 3 + 3 + 3 = 9)"
   ]
  },
  {
   "cell_type": "code",
   "execution_count": 13,
   "id": "2dd79175-9bcb-4974-8e15-a8228791f4db",
   "metadata": {},
   "outputs": [
    {
     "name": "stdout",
     "output_type": "stream",
     "text": [
      "  5  5  5  5  5  5  5  5  5  5 \n",
      " / \\/ \\/ \\/ \\/ \\/ \\/ \\/ \\/ \\/ \\\n",
      " 1  3  3  3  3  3  3  3  3  3  1 \n",
      "\n",
      "Accuracy     : 2.31e-08\n"
     ]
    }
   ],
   "source": [
    "Z = teneva.truncate(Y, e=1.E-2)      # Truncate (round) the TT-tensor\n",
    "teneva.show(Z)                       # Print the resulting TT-tensor (note that it has TT-rank 3)\n",
    "eps = teneva.accuracy(Y, Z)          # The relative difference (\"accuracy\")\n",
    "print(f'Accuracy     : {eps:-8.2e}')"
   ]
  },
  {
   "cell_type": "code",
   "execution_count": 14,
   "id": "75ae9716-bcbb-4a89-a4bd-afbf6f4c24ee",
   "metadata": {},
   "outputs": [
    {
     "name": "stdout",
     "output_type": "stream",
     "text": [
      "  5  5  5  5  5  5  5  5  5  5 \n",
      " / \\/ \\/ \\/ \\/ \\/ \\/ \\/ \\/ \\/ \\\n",
      " 1  2  2  2  2  2  2  2  2  2  1 \n",
      "\n",
      "Accuracy     : 7.20e-01\n"
     ]
    }
   ],
   "source": [
    "Z = teneva.truncate(Y, e=1.E-6, r=2) # Truncate (round) the TT-tensor\n",
    "teneva.show(Z)                       # Print the resulting TT-tensor (note that it has TT-rank 2)\n",
    "eps = teneva.accuracy(Y, Z)          # The relative difference (\"accuracy\")\n",
    "print(f'Accuracy     : {eps:-8.2e}')"
   ]
  },
  {
   "cell_type": "markdown",
   "id": "5157c326-a02c-41fc-b82d-af0d55ddfb18",
   "metadata": {},
   "source": [
    "---"
   ]
  }
 ],
 "metadata": {
  "kernelspec": {
   "display_name": "Python 3",
   "language": "python",
   "name": "python3"
  },
  "language_info": {
   "codemirror_mode": {
    "name": "ipython",
    "version": 3
   },
   "file_extension": ".py",
   "mimetype": "text/x-python",
   "name": "python",
   "nbconvert_exporter": "python",
   "pygments_lexer": "ipython3",
   "version": "3.8.8"
  }
 },
 "nbformat": 4,
 "nbformat_minor": 5
}

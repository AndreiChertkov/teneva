{
 "cells": [
  {
   "cell_type": "markdown",
   "id": "e51b9291-f33c-40ad-96ee-e2f9454ffc69",
   "metadata": {},
   "source": [
    "**Demo for `teneva.props`**\n",
    "\n",
    "---\n",
    "\n",
    "This module contains the basic properties of TT-tensors, including \"erank\", \"ranks\", \"shape\", etc."
   ]
  },
  {
   "cell_type": "markdown",
   "id": "3896a55c-1131-44fc-b746-1433ad4ddb08",
   "metadata": {},
   "source": [
    "## Loading and importing modules"
   ]
  },
  {
   "cell_type": "code",
   "execution_count": 1,
   "id": "9941ed2c-6272-4144-8c96-4e800f0b5c49",
   "metadata": {},
   "outputs": [],
   "source": [
    "import numpy as np\n",
    "import teneva\n",
    "from time import perf_counter as tpc\n",
    "np.random.seed(42)"
   ]
  },
  {
   "cell_type": "markdown",
   "id": "9d11e7eb-1433-4d58-8e5f-39a39cef94ed",
   "metadata": {},
   "source": [
    "## Function `erank`"
   ]
  },
  {
   "cell_type": "markdown",
   "id": "2c15400d-75ad-44fe-aac1-463544f00a25",
   "metadata": {},
   "source": [
    "Compute the effective TT-rank of the given TT-tensor, i.e. constant rank of TT-tensor, which would have the same number of parameters as the given TT-tensor."
   ]
  },
  {
   "cell_type": "code",
   "execution_count": 2,
   "id": "11b5061b-6e9a-4053-baf1-75cdfdb5b58b",
   "metadata": {},
   "outputs": [
    {
     "data": {
      "text/plain": [
       "2.0"
      ]
     },
     "execution_count": 2,
     "metadata": {},
     "output_type": "execute_result"
    }
   ],
   "source": [
    "# 10-dim random TT-tensor with TT-rank 2:\n",
    "Y = teneva.rand([5]*10, 2)\n",
    "\n",
    "# The effective TT-rank:\n",
    "teneva.erank(Y)"
   ]
  },
  {
   "cell_type": "markdown",
   "id": "a1feeefc-5430-4cab-98ce-dd83acdcec99",
   "metadata": {},
   "source": [
    "Note that it also works for 2-dimensional arrays (i.e., matrices):"
   ]
  },
  {
   "cell_type": "code",
   "execution_count": 3,
   "id": "fd0e5103-b234-4a98-bfd9-833709adabd8",
   "metadata": {},
   "outputs": [
    {
     "data": {
      "text/plain": [
       "20"
      ]
     },
     "execution_count": 3,
     "metadata": {},
     "output_type": "execute_result"
    }
   ],
   "source": [
    "# 2-dim random TT-tensor (matrix) with TT-rank 20:\n",
    "Y = teneva.rand([5]*2, 20)\n",
    "\n",
    "# The effective TT-rank:\n",
    "teneva.erank(Y)"
   ]
  },
  {
   "cell_type": "markdown",
   "id": "fdc1f571-ed82-4d74-b3c6-b0b4df8caa92",
   "metadata": {},
   "source": [
    "## Function `ranks`"
   ]
  },
  {
   "cell_type": "markdown",
   "id": "6111cb00-99b9-438e-a9a3-b94e7ebe6d7e",
   "metadata": {},
   "source": [
    "Function get the TT-ranks of the given TT-tensor."
   ]
  },
  {
   "cell_type": "code",
   "execution_count": 4,
   "id": "ebfa9eb1-3fb9-4200-b664-1a86aefc14d6",
   "metadata": {},
   "outputs": [
    {
     "data": {
      "text/plain": [
       "array([1, 2, 2, 2, 2, 1])"
      ]
     },
     "execution_count": 4,
     "metadata": {},
     "output_type": "execute_result"
    }
   ],
   "source": [
    "# 5-dim random TT-tensor with TT-rank 2:\n",
    "Y = teneva.rand([10, 12, 8, 8, 30], 2)\n",
    "\n",
    "# TT-ranks of the TT-tensor:\n",
    "teneva.ranks(Y)"
   ]
  },
  {
   "cell_type": "markdown",
   "id": "9588c063-f4bf-41b6-8f49-b36c7de6d447",
   "metadata": {},
   "source": [
    "## Function `shape`"
   ]
  },
  {
   "cell_type": "markdown",
   "id": "e874cc5f-8c6c-4774-baf1-e1de89bc3303",
   "metadata": {},
   "source": [
    "Function get the shape of the given TT-tensor."
   ]
  },
  {
   "cell_type": "code",
   "execution_count": 5,
   "id": "f8e87df0-da65-4acd-9ee9-825082d77626",
   "metadata": {},
   "outputs": [
    {
     "data": {
      "text/plain": [
       "array([10, 12,  8,  8, 30])"
      ]
     },
     "execution_count": 5,
     "metadata": {},
     "output_type": "execute_result"
    }
   ],
   "source": [
    "# 5-dim random TT-tensor with TT-rank 2:\n",
    "Y = teneva.rand([10, 12, 8, 8, 30], 2)\n",
    "\n",
    "# Shape of the TT-tensor:\n",
    "teneva.shape(Y)"
   ]
  },
  {
   "cell_type": "markdown",
   "id": "63f87623-649f-4abf-a028-1ad1f12dba8a",
   "metadata": {},
   "source": [
    "## Function `size`"
   ]
  },
  {
   "cell_type": "markdown",
   "id": "1f0dbd4a-6dbd-4a17-b052-3073139fbec4",
   "metadata": {},
   "source": [
    "Function get the size (number of parameters) of the given TT-tensor."
   ]
  },
  {
   "cell_type": "code",
   "execution_count": 6,
   "id": "32219402-d7c9-4bf5-8111-cd1a24a9dbb6",
   "metadata": {},
   "outputs": [
    {
     "data": {
      "text/plain": [
       "192"
      ]
     },
     "execution_count": 6,
     "metadata": {},
     "output_type": "execute_result"
    }
   ],
   "source": [
    "# 5-dim random TT-tensor with TT-rank 2:\n",
    "Y = teneva.rand([10, 12, 8, 8, 30], 2)\n",
    "\n",
    "# Size of the TT-tensor:\n",
    "teneva.size(Y)"
   ]
  },
  {
   "cell_type": "markdown",
   "id": "5157c326-a02c-41fc-b82d-af0d55ddfb18",
   "metadata": {},
   "source": [
    "---"
   ]
  }
 ],
 "metadata": {
  "kernelspec": {
   "display_name": "Python 3 (ipykernel)",
   "language": "python",
   "name": "python3"
  },
  "language_info": {
   "codemirror_mode": {
    "name": "ipython",
    "version": 3
   },
   "file_extension": ".py",
   "mimetype": "text/x-python",
   "name": "python",
   "nbconvert_exporter": "python",
   "pygments_lexer": "ipython3",
   "version": "3.8.16"
  }
 },
 "nbformat": 4,
 "nbformat_minor": 5
}

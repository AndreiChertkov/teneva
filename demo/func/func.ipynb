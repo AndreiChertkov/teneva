{
 "cells": [
  {
   "cell_type": "markdown",
   "id": "e51b9291-f33c-40ad-96ee-e2f9454ffc69",
   "metadata": {},
   "source": [
    "**Demo for `teneva.func.func`**\n",
    "\n",
    "---\n",
    "\n",
    "This module contains class that represents the multivariable function (black box) with various methods (including TT-ALS, TT-ANOVA and TT-CROSS) for constructing its low-rank tensor approximation in the TT-format and auxiliary utilities for building datasets (train, validation, test), check the accuracy, etc."
   ]
  },
  {
   "cell_type": "markdown",
   "id": "3896a55c-1131-44fc-b746-1433ad4ddb08",
   "metadata": {},
   "source": [
    "## Loading and importing modules"
   ]
  },
  {
   "cell_type": "code",
   "execution_count": 1,
   "id": "9941ed2c-6272-4144-8c96-4e800f0b5c49",
   "metadata": {},
   "outputs": [],
   "source": [
    "import numpy as np\n",
    "import teneva\n",
    "from time import perf_counter as tpc\n",
    "np.random.seed(42)"
   ]
  },
  {
   "cell_type": "markdown",
   "id": "92fb6419-6084-49cc-ac65-893dabcaa0b8",
   "metadata": {},
   "source": [
    "## Class `Func`"
   ]
  },
  {
   "cell_type": "markdown",
   "id": "971219c0-ea38-4e96-88bb-ba6442d8ca5e",
   "metadata": {},
   "source": [
    "Multivariable function with approximation methods and helpers."
   ]
  },
  {
   "cell_type": "markdown",
   "id": "c80b3361-7818-4d13-9ad7-94710437d459",
   "metadata": {},
   "source": [
    "First, let's denote in a compact form a convenient approach for approximating user-defined functions, and then consider the class interface in more detail:"
   ]
  },
  {
   "cell_type": "code",
   "execution_count": 2,
   "id": "7b2edd6a-1b70-4ac7-8db7-2cf7509a32ca",
   "metadata": {},
   "outputs": [],
   "source": [
    "# Prepare simple function (y = x_1^2 + x_2^2 + ... + x_5^2):\n",
    "func = teneva.Func(d=5, f_comp=lambda X: np.sum(X**2, axis=1), name='Sphere')\n",
    "func.set_lim(-2., +3.)\n",
    "func.set_grid(32, kind='cheb')\n",
    "func.build_tst_poi(m=1.E+4)"
   ]
  },
  {
   "cell_type": "code",
   "execution_count": 3,
   "id": "2dc1e7b4-6a05-46f2-a074-efca8baaa904",
   "metadata": {},
   "outputs": [
    {
     "name": "stdout",
     "output_type": "stream",
     "text": [
      "# pre | time:      1.171 | evals: 0.00e+00 (+ 0.00e+00) | rank:   2.0 | \n",
      "#   1 | time:      1.185 | evals: 1.94e+03 (+ 1.68e+02) | rank:   4.0 | eps: 5.3e+00 | \n",
      "#   2 | time:      1.212 | evals: 5.78e+03 (+ 1.77e+03) | rank:   6.0 | eps: 1.9e-08 | \n",
      "#   3 | time:      1.276 | evals: 1.46e+04 (+ 4.24e+03) | rank:   8.8 | eps: 6.4e-09 | \n",
      "#   4 | time:      1.432 | evals: 2.90e+04 (+ 1.34e+04) | rank:  12.7 | eps: 1.6e-08 | \n",
      "#   5 | time:      1.898 | evals: 5.54e+04 (+ 3.01e+04) | rank:  16.7 | eps: 8.5e-09 | \n",
      "#   6 | time:      3.045 | evals: 9.25e+04 (+ 6.23e+04) | rank:  20.7 | eps: 1.0e-08 | \n",
      "#   6 | time:      3.125 | evals: 9.65e+04 (+ 7.44e+04) | rank:  21.7 | eps: 1.0e-08 | stop: m | \n",
      "\n"
     ]
    }
   ],
   "source": [
    "# Approximate the function by TT-CROSS method:\n",
    "func.rand(r=2)\n",
    "func.cross(m=1.E+5, e=1.E-10, log=True)"
   ]
  },
  {
   "cell_type": "code",
   "execution_count": 4,
   "id": "0f349a50-aa5b-46ae-9a58-518f7f4f176b",
   "metadata": {},
   "outputs": [
    {
     "name": "stdout",
     "output_type": "stream",
     "text": [
      "Sphere          [CRO          ] > error: 2.6e-15 / 4.8e-15 | rank:  6.0 | time:   3.128\n"
     ]
    }
   ],
   "source": [
    "# Check accuracy of the approximation on the train and test datasets:\n",
    "func.check()\n",
    "func.info()"
   ]
  },
  {
   "cell_type": "code",
   "execution_count": 5,
   "id": "7d537775-e990-4747-8428-33ab8e8b52ab",
   "metadata": {},
   "outputs": [
    {
     "name": "stdout",
     "output_type": "stream",
     "text": [
      "Tensor multi-index : [1 1 1 1 1]\n",
      "Approximated value : 44.6160218744688208\n",
      "Real (exact) value : 44.6160218744689203\n"
     ]
    }
   ],
   "source": [
    "# Usage of approximation to compute the discretized function:\n",
    "i = np.array([1] * func.d, dtype=int)\n",
    "print(f'Tensor multi-index :', i)\n",
    "print(f'Approximated value : {func[i]:.16f}')\n",
    "print(f'Real (exact) value : {func.get_f_ind(i):.16f}')"
   ]
  },
  {
   "cell_type": "code",
   "execution_count": 6,
   "id": "f1a43d92-b84b-4382-991d-493fefc5114b",
   "metadata": {},
   "outputs": [
    {
     "name": "stdout",
     "output_type": "stream",
     "text": [
      "Spatial point      : [0.5 0.5 0.5 0.5 0.5]\n",
      "Approximated value : 1.2500000000001172\n",
      "Real (exact) value : 1.2500000000000000\n"
     ]
    }
   ],
   "source": [
    "# Usage of approximation to compute the original function:\n",
    "x = np.array([0.5] * func.d, dtype=float)\n",
    "print(f'Spatial point      :', x)\n",
    "print(f'Approximated value : {func(x):.16f}')\n",
    "print(f'Real (exact) value : {func.get_f_poi(x):.16f}')"
   ]
  },
  {
   "cell_type": "markdown",
   "id": "e33f0c66-b161-4531-8078-0a886a76bc66",
   "metadata": {},
   "source": [
    "And now let consider the \"Func\" class interface in more detail. We set simple 5-dimensional analytical function (note that we can set only one function \"f_calc\" / \"f_comp\" or both):"
   ]
  },
  {
   "cell_type": "code",
   "execution_count": 7,
   "id": "9d376868-08f2-4bc1-bb80-8f395ca5e725",
   "metadata": {},
   "outputs": [],
   "source": [
    "d = 5                           # Number of dimensions                   \n",
    "name = 'Sphere'                 # Optional display name of the function\n",
    "\n",
    "def f_calc(x):                  # Calculate function in one point (optional)  \n",
    "    return np.sum(x**2)         # (x is the 1D array of the shape [d])\n",
    "\n",
    "def f_comp(X):                  # Compute function in many points\n",
    "    return np.sum(X**2, axis=1) # (X is the 2D array of the shape [samples, d])"
   ]
  },
  {
   "cell_type": "code",
   "execution_count": 8,
   "id": "8fed30bd-edec-4ecf-a54d-ef941784f228",
   "metadata": {},
   "outputs": [],
   "source": [
    "# Create class instance of the function:\n",
    "func = teneva.Func(d, f_calc, f_comp, name)\n",
    "\n",
    "# Set lower (-2) and upper (+3) spatial bounds (number or list):\n",
    "func.set_lim(-2., [+3., +3., +3., +3., +3.])\n",
    "\n",
    "# Set number of grid points (number or list)\n",
    "# and kind of the grid ('uni' or 'cheb'):\n",
    "func.set_grid(32, kind='cheb')\n",
    "\n",
    "# Prepare test data (random 1.E+5 tensor indices):\n",
    "func.build_tst_ind(m=1.E+5)\n",
    "\n",
    "# Prepare test data (random 1.E+5 spatial points):\n",
    "func.build_tst_poi(m=1.E+5)"
   ]
  },
  {
   "cell_type": "markdown",
   "id": "016f300f-9a26-4e2a-9329-f4e7f57ef8bf",
   "metadata": {},
   "source": [
    "Then we can approximate the function by TT-CROSS (note that the train data will be collected from the cache of the TT-CROSS requests to the target function):"
   ]
  },
  {
   "cell_type": "code",
   "execution_count": 9,
   "id": "07c94243-1810-4364-8bd4-b34eba9ee372",
   "metadata": {},
   "outputs": [
    {
     "name": "stdout",
     "output_type": "stream",
     "text": [
      "# pre | time:      0.003 | evals: 0.00e+00 (+ 0.00e+00) | rank:   2.0 | \n",
      "#   1 | time:      0.016 | evals: 1.94e+03 (+ 1.68e+02) | rank:   4.0 | eps: 6.1e+00 | \n",
      "#   2 | time:      0.041 | evals: 5.78e+03 (+ 1.77e+03) | rank:   6.0 | eps: 1.9e-08 | \n",
      "#   3 | time:      0.102 | evals: 1.45e+04 (+ 4.27e+03) | rank:   8.8 | eps: 6.4e-09 | \n",
      "#   4 | time:      0.252 | evals: 2.89e+04 (+ 1.35e+04) | rank:  12.7 | eps: 1.6e-08 | \n",
      "#   5 | time:      0.731 | evals: 5.53e+04 (+ 3.02e+04) | rank:  16.7 | eps: 8.5e-09 | \n",
      "#   6 | time:      1.929 | evals: 9.25e+04 (+ 6.23e+04) | rank:  20.7 | eps: 1.0e-08 | \n",
      "#   6 | time:      2.000 | evals: 9.64e+04 (+ 7.44e+04) | rank:  21.7 | eps: 1.0e-08 | stop: m | \n",
      "\n",
      "==================================================\n",
      "------------------- | Sphere function\n",
      "Method              : CRO\n",
      "\n",
      "Evals function      : 9.6e+04\n",
      "Evals cache         : 7.4e+04\n",
      "TT-rank             :     6.0\n",
      "Number of params    : 3.9e+03\n",
      "\n",
      "Samples trn ind     : 9.6e+04\n",
      "Samples tst ind     : 1.0e+05\n",
      "Samples tst poi     : 1.0e+05\n",
      "\n",
      "Error trn ind       : 2.6e-15\n",
      "Error tst ind       : 2.7e-15\n",
      "Error tst poi       : 4.9e-15\n",
      "\n",
      "Time approximation  :   2.004\n",
      "Time trn check ind  :   0.218\n",
      "Time tst build ind  :   0.032\n",
      "Time tst check ind  :   0.492\n",
      "Time tst build poi  :   1.004\n",
      "Time tst check poi  :   4.237\n",
      "\n",
      "Sweeps              :       6\n",
      "==================================================\n"
     ]
    }
   ],
   "source": [
    "func.rand(r=2)               # Build initial approximation (random TT-tensor of the rank r)\n",
    "func.cross(m=1.E+5,          # Build TT-approximation by TT-CROSS\n",
    "    e=1.E-10, log=True)          \n",
    "func.check_trn_ind()         # Check accuracy on the train data (tensor indices from TT-CROSS)\n",
    "func.check_tst_ind()         # Check accuracy on the test data (random tensor indices)\n",
    "func.check_tst_poi()         # Check accuracy on the test data (random spatial points)\n",
    "func.info_full()             # Print the result"
   ]
  },
  {
   "cell_type": "markdown",
   "id": "ffd68852-7eaa-4e95-84cb-28b96b068b1c",
   "metadata": {},
   "source": [
    "We can also approximate the function by TT-ANOVA:"
   ]
  },
  {
   "cell_type": "code",
   "execution_count": 10,
   "id": "40425082-b3a9-4cd5-a9ea-fe57a9050abd",
   "metadata": {},
   "outputs": [
    {
     "name": "stdout",
     "output_type": "stream",
     "text": [
      "==================================================\n",
      "------------------- | Sphere function\n",
      "Method              : ANO\n",
      "\n",
      "Evals function      : 1.0e+05\n",
      "TT-rank             :     2.0\n",
      "Number of params    : 5.1e+02\n",
      "\n",
      "Samples trn ind     : 1.0e+05\n",
      "Samples tst ind     : 1.0e+05\n",
      "Samples tst poi     : 1.0e+05\n",
      "\n",
      "Error trn ind       : 1.3e-02\n",
      "Error tst ind       : 1.3e-02\n",
      "Error tst poi       : 1.8e-02\n",
      "\n",
      "Time approximation  :   0.046\n",
      "Time trn build ind  :   0.035\n",
      "Time trn check ind  :   0.199\n",
      "Time tst build ind  :   0.032\n",
      "Time tst check ind  :   0.523\n",
      "Time tst build poi  :   1.004\n",
      "Time tst check poi  :   3.883\n",
      "\n",
      "==================================================\n"
     ]
    }
   ],
   "source": [
    "func.clear()                 # Remove results of the previous approximation\n",
    "func.build_trn_ind(m=1.E+5)  # Prepare train data (random tensor indices)\n",
    "func.anova()                 # Build TT-approximation by TT-ANOVA\n",
    "func.check()                 # Check accuracy on all available data\n",
    "func.info_full()             # Print the result"
   ]
  },
  {
   "cell_type": "markdown",
   "id": "c9d3b3ff-03ea-4e1b-aa8d-4e4bb08223e8",
   "metadata": {},
   "source": [
    "And we can approximate the function by TT-ALS:"
   ]
  },
  {
   "cell_type": "code",
   "execution_count": 11,
   "id": "2af7e00f-5d40-4c7a-83cd-bda7d97e61de",
   "metadata": {},
   "outputs": [
    {
     "name": "stdout",
     "output_type": "stream",
     "text": [
      "# pre | time:      0.034 | rank:   2.0 | \n",
      "#   1 | time:      0.202 | rank:   2.0 | eps: 1.1e+00 | \n",
      "#   2 | time:      0.406 | rank:   2.0 | eps: 8.0e-01 | \n",
      "#   3 | time:      0.649 | rank:   2.0 | eps: 5.1e-01 | \n",
      "#   4 | time:      0.950 | rank:   2.0 | eps: 4.1e-01 | \n",
      "#   5 | time:      1.209 | rank:   2.0 | eps: 3.3e+00 | \n",
      "#   6 | time:      1.484 | rank:   2.0 | eps: 1.6e+00 | \n",
      "#   7 | time:      1.754 | rank:   2.0 | eps: 7.0e-02 | \n",
      "#   8 | time:      1.999 | rank:   2.0 | eps: 1.8e-02 | \n",
      "#   9 | time:      2.293 | rank:   2.0 | eps: 2.1e-04 | \n",
      "#  10 | time:      2.516 | rank:   2.0 | eps: 3.1e-06 | \n",
      "#  11 | time:      2.721 | rank:   2.0 | eps: 6.0e-08 | \n",
      "#  12 | time:      2.947 | rank:   2.0 | eps: 0.0e+00 | stop: e | \n",
      "==================================================\n",
      "------------------- | Sphere function\n",
      "Method              : ALS\n",
      "\n",
      "Evals function      : 1.0e+05\n",
      "TT-rank             :     2.0\n",
      "Number of params    : 5.1e+02\n",
      "\n",
      "Samples trn ind     : 1.0e+05\n",
      "Samples tst ind     : 1.0e+05\n",
      "Samples tst poi     : 1.0e+05\n",
      "\n",
      "Error trn ind       : 2.6e-11\n",
      "Error tst ind       : 2.7e-11\n",
      "Error tst poi       : 2.0e-11\n",
      "\n",
      "Time approximation  :   2.948\n",
      "Time trn build ind  :   0.037\n",
      "Time trn check ind  :   0.206\n",
      "Time tst build ind  :   0.032\n",
      "Time tst check ind  :   0.422\n",
      "Time tst build poi  :   1.004\n",
      "Time tst check poi  :   3.824\n",
      "\n",
      "Sweeps              :      12\n",
      "==================================================\n"
     ]
    }
   ],
   "source": [
    "func.clear()                 # Remove results of the previous approximation\n",
    "func.build_trn_ind(m=1.E+5)  # Prepare train data (random tensor indices)\n",
    "func.rand(r=2)               # Build initial approximation\n",
    "func.als(log=True)           # Build TT-approximation by TT-ALS\n",
    "func.check()                 # Check accuracy on all available data\n",
    "func.info_full()             # Print the result"
   ]
  },
  {
   "cell_type": "markdown",
   "id": "1c6ad8dd-8fa1-430e-8105-ae9cb64cce00",
   "metadata": {},
   "source": [
    "We can approximate the function by TT-ANOVA + TT-ALS (we may combine the approximation methods; in this example we use the result of the TT-ANOVA as an initial approximation for the TT-ALS algorithm):"
   ]
  },
  {
   "cell_type": "code",
   "execution_count": 12,
   "id": "5ff7a212-d770-47bc-b944-77b9781b0b44",
   "metadata": {},
   "outputs": [
    {
     "name": "stdout",
     "output_type": "stream",
     "text": [
      "# pre | time:      0.031 | rank:   2.0 | \n",
      "#   1 | time:      0.269 | rank:   2.0 | eps: 1.2e-02 | \n",
      "#   2 | time:      0.499 | rank:   2.0 | eps: 2.7e-04 | \n",
      "#   3 | time:      0.734 | rank:   2.0 | eps: 2.4e-06 | \n",
      "#   4 | time:      0.955 | rank:   2.0 | eps: 3.6e-08 | \n",
      "#   5 | time:      1.202 | rank:   2.0 | eps: 2.2e-08 | \n",
      "#   6 | time:      1.430 | rank:   2.0 | eps: 0.0e+00 | stop: e | \n",
      "==================================================\n",
      "------------------- | Sphere function\n",
      "Method              : ANO-ALS\n",
      "\n",
      "Evals function      : 1.0e+05\n",
      "TT-rank             :     2.0\n",
      "Number of params    : 5.1e+02\n",
      "\n",
      "Samples trn ind     : 1.0e+05\n",
      "Samples tst ind     : 1.0e+05\n",
      "Samples tst poi     : 1.0e+05\n",
      "\n",
      "Error trn ind       : 3.5e-13\n",
      "Error tst ind       : 3.5e-13\n",
      "Error tst poi       : 4.1e-13\n",
      "\n",
      "Time approximation  :   1.471\n",
      "Time trn build ind  :   0.029\n",
      "Time trn check ind  :   0.198\n",
      "Time tst build ind  :   0.032\n",
      "Time tst check ind  :   0.433\n",
      "Time tst build poi  :   1.004\n",
      "Time tst check poi  :   3.749\n",
      "\n",
      "Sweeps              :       6\n",
      "==================================================\n"
     ]
    }
   ],
   "source": [
    "func.clear()                 # Remove results of the previous approximation\n",
    "func.build_trn_ind(m=1.E+5)  # Prepare train data (random tensor indices)\n",
    "func.anova(r=2, order=1)     # Apply TT-ANOVA\n",
    "func.als(log=True)           # Apply TT-ALS, using TT-ANOVA as initial approximation\n",
    "func.check()                 # Check accuracy on all available data\n",
    "func.info_full()             # Print the result"
   ]
  },
  {
   "cell_type": "markdown",
   "id": "22ef3e00-5824-4891-89e2-4d09a0670740",
   "metadata": {},
   "source": [
    "We can approximate the function by TT-ANOVA + TT-CROSS (note that the total number of function queries, i.e. 1.E+4 + 9.E+4) will be the same as above):"
   ]
  },
  {
   "cell_type": "code",
   "execution_count": 13,
   "id": "3a088d1e-c7e1-4033-a6fa-b2fcd0b8801c",
   "metadata": {},
   "outputs": [
    {
     "name": "stdout",
     "output_type": "stream",
     "text": [
      "# pre | time:      0.002 | evals: 0.00e+00 (+ 0.00e+00) | rank:   2.0 | \n",
      "#   1 | time:      0.017 | evals: 1.94e+03 (+ 1.68e+02) | rank:   4.0 | eps: 3.7e-02 | \n",
      "#   2 | time:      0.041 | evals: 5.78e+03 (+ 1.77e+03) | rank:   6.0 | eps: 1.9e-08 | \n",
      "#   3 | time:      0.108 | evals: 1.46e+04 (+ 4.24e+03) | rank:   8.8 | eps: 6.4e-09 | \n",
      "#   4 | time:      0.260 | evals: 2.90e+04 (+ 1.34e+04) | rank:  12.7 | eps: 1.6e-08 | \n",
      "#   5 | time:      0.722 | evals: 5.54e+04 (+ 3.02e+04) | rank:  16.7 | eps: 8.5e-09 | \n",
      "#   5 | time:      0.910 | evals: 8.35e+04 (+ 5.77e+04) | rank:  20.3 | eps: 8.5e-09 | stop: m | \n",
      "\n",
      "==================================================\n",
      "------------------- | Sphere function\n",
      "Method              : ANO-CRO\n",
      "\n",
      "Evals function      : 9.4e+04\n",
      "Evals cache         : 5.8e+04\n",
      "TT-rank             :     3.2\n",
      "Number of params    : 1.2e+03\n",
      "\n",
      "Samples trn ind     : 8.4e+04\n",
      "Samples tst ind     : 1.0e+05\n",
      "Samples tst poi     : 1.0e+05\n",
      "\n",
      "Error trn ind       : 1.9e-15\n",
      "Error tst ind       : 1.6e-15\n",
      "Error tst poi       : 2.6e-15\n",
      "\n",
      "Time approximation  :   0.919\n",
      "Time trn check ind  :   0.167\n",
      "Time tst build ind  :   0.032\n",
      "Time tst check ind  :   0.454\n",
      "Time tst build poi  :   1.004\n",
      "Time tst check poi  :   4.154\n",
      "\n",
      "Sweeps              :       5\n",
      "==================================================\n"
     ]
    }
   ],
   "source": [
    "func.clear()                 # Remove results of the previous approximation\n",
    "func.build_trn_ind(m=1.E+4)  # Prepare train data (random tensor indices)\n",
    "func.anova(r=2, order=1)     # Apply TT-ANOVA\n",
    "func.cross(m=9.E+4, log=True)# Apply TT-CROSS, using TT-ANOVA as initial approximation   \n",
    "func.check()                 # Check accuracy on all available data\n",
    "func.info_full()             # Print the result"
   ]
  },
  {
   "cell_type": "markdown",
   "id": "a9d762af-9e99-44b5-a899-d32a61527979",
   "metadata": {},
   "source": [
    "We can compute the value of approximation for any point inside the grid bounds:"
   ]
  },
  {
   "cell_type": "code",
   "execution_count": 14,
   "id": "f002b4bb-b1d5-4449-ada6-b0b92d8982c8",
   "metadata": {},
   "outputs": [
    {
     "name": "stdout",
     "output_type": "stream",
     "text": [
      "Approximated value :       1.2500000000\n",
      "Real (exact) value :       1.2500000000\n"
     ]
    }
   ],
   "source": [
    "x = np.array([0.5] * 5)     # Spatial point [0.5, ..., 0.5]\n",
    "y_appr = func.get_poi(x)    # Approximated value\n",
    "y_real = func.get_f_poi(x)  # Real (exact) value\n",
    "\n",
    "print(f'Approximated value : {y_appr:-18.10f}')\n",
    "print(f'Real (exact) value : {y_real:-18.10f}')"
   ]
  },
  {
   "cell_type": "markdown",
   "id": "8913a9f5-633e-4d44-94b2-899bc079233e",
   "metadata": {},
   "source": [
    "We can compute the value of approximation for any batch of points inside the grid bounds:"
   ]
  },
  {
   "cell_type": "code",
   "execution_count": 15,
   "id": "56a9b950-5d47-4e13-b2fb-29c5580b7408",
   "metadata": {},
   "outputs": [
    {
     "name": "stdout",
     "output_type": "stream",
     "text": [
      "Appr :      -0.0000000000 | Real:       0.0000000000\n",
      "Appr :       1.2500000000 | Real:       1.2500000000\n",
      "Appr :       5.0000000000 | Real:       5.0000000000\n",
      "Appr :      11.2500000000 | Real:      11.2500000000\n"
     ]
    }
   ],
   "source": [
    "X = np.array([                # Spatial points\n",
    "    [0.] * 5,\n",
    "    [0.5] * 5,\n",
    "    [1.] * 5,\n",
    "    [1.5] * 5,\n",
    "])   \n",
    "Y_appr = func.get_poi(X)      # Approximated values\n",
    "Y_real = func.get_f_poi(X)    # Real (exact) values\n",
    "\n",
    "for y_appr, y_real in zip(Y_appr, Y_real):\n",
    "    print(f'Appr : {y_appr:-18.10f} | Real: {y_real:-18.10f}')"
   ]
  },
  {
   "cell_type": "markdown",
   "id": "ca8050ec-7fbc-415d-8a47-bb6ce5bbfda1",
   "metadata": {},
   "source": [
    "We may also use the \"call\" notation:"
   ]
  },
  {
   "cell_type": "code",
   "execution_count": 16,
   "id": "953d55ce-d745-4644-a8fc-436e53249330",
   "metadata": {},
   "outputs": [
    {
     "name": "stdout",
     "output_type": "stream",
     "text": [
      "[-7.50510765e-14  1.25000000e+00  5.00000000e+00  1.12500000e+01]\n"
     ]
    }
   ],
   "source": [
    "Y_appr = func(X)\n",
    "print(Y_appr)"
   ]
  },
  {
   "cell_type": "markdown",
   "id": "3f0e6365-3b1d-4011-99ad-0e2a6104fe11",
   "metadata": {},
   "source": [
    "We can compute the value of approximation for any tensor multi-indices:"
   ]
  },
  {
   "cell_type": "code",
   "execution_count": 17,
   "id": "0800a332-75a7-4c4f-80dc-1d4ba93d7126",
   "metadata": {},
   "outputs": [
    {
     "name": "stdout",
     "output_type": "stream",
     "text": [
      "Appr :      45.0000000000 | Real:      45.0000000000\n",
      "Appr :      44.6160218745 | Real:      44.6160218745\n",
      "Appr :       1.8059171282 | Real:       1.8059171282\n",
      "Appr :      12.0421015606 | Real:      12.0421015606\n"
     ]
    }
   ],
   "source": [
    "# Tensor multiindices:\n",
    "I = np.array([            \n",
    "    [0] * 5,\n",
    "    [1] * 5,\n",
    "    [20] * 5,\n",
    "    [25] * 5,\n",
    "])\n",
    "\n",
    "# Related spatial points:\n",
    "X = teneva.ind_to_poi(I, func.a, func.b, func.n, func.kind)\n",
    "\n",
    "Y_appr = func.get_ind(I)    # Values of the tensor items\n",
    "Y_real = func.get_f_poi(X)  # Real (exact) values in the related points\n",
    "\n",
    "for y_appr, y_real in zip(Y_appr, Y_real):\n",
    "    print(f'Appr : {y_appr:-18.10f} | Real: {y_real:-18.10f}')"
   ]
  },
  {
   "cell_type": "markdown",
   "id": "9a7f37e7-9708-43b1-900f-feb83e4187fd",
   "metadata": {},
   "source": [
    "We may also use the \"getitem\" notation:"
   ]
  },
  {
   "cell_type": "code",
   "execution_count": 18,
   "id": "0891c0ff-c5b0-47cd-ad38-825970a7770c",
   "metadata": {},
   "outputs": [
    {
     "name": "stdout",
     "output_type": "stream",
     "text": [
      "[45.         44.61602187  1.80591713 12.04210156]\n"
     ]
    }
   ],
   "source": [
    "Y_appr = func[I]\n",
    "print(Y_appr)"
   ]
  },
  {
   "cell_type": "markdown",
   "id": "b0d77937-5135-4e89-a29f-0176382a8386",
   "metadata": {},
   "source": [
    "And for one multi-index:"
   ]
  },
  {
   "cell_type": "code",
   "execution_count": 19,
   "id": "7c6db357-ef4f-4822-b7fb-6ccbb63f76e6",
   "metadata": {},
   "outputs": [
    {
     "name": "stdout",
     "output_type": "stream",
     "text": [
      "45.00000000000001\n"
     ]
    }
   ],
   "source": [
    "i = I[0, :]\n",
    "Y_appr = func[i]\n",
    "print(Y_appr)"
   ]
  },
  {
   "cell_type": "markdown",
   "id": "2c097150-a942-40f8-bf18-dd992661c633",
   "metadata": {},
   "source": [
    "We can also approximate all demo functions (benchmarks) by any method, e.x. TT-CROSS:"
   ]
  },
  {
   "cell_type": "code",
   "execution_count": 20,
   "id": "5ba72e98-ef2e-4b8d-ae2b-3c1fa988bc05",
   "metadata": {},
   "outputs": [
    {
     "name": "stdout",
     "output_type": "stream",
     "text": [
      "Ackley          [CRO          ] > error: 3.4e-05 / 3.6e-07 / 1.6e-02 | rank:  9.2 | time:   0.649\n",
      "Alpine          [CRO          ] > error: 1.4e-14 / 7.4e-15 / 3.5e-02 | rank:  3.3 | time:   0.966\n",
      "Dixon           [CRO          ] > error: 2.8e-12 / 2.0e-12 / 6.6e-12 | rank:  4.2 | time:   0.665\n",
      "Exponential     [CRO          ] > error: 1.4e-15 / 1.3e-15 / 1.3e-15 | rank:  4.0 | time:   0.606\n",
      "Grienwank       [CRO          ] > error: 7.3e-12 / 1.6e-12 / 1.6e-04 | rank:  4.0 | time:   0.663\n",
      "Michalewicz     [CRO          ] > error: 2.5e-15 / 2.6e-15 / 4.0e-01 | rank:  4.6 | time:   0.847\n",
      "Qing            [CRO          ] > error: 5.5e-15 / 1.9e-15 / 2.7e-15 | rank:  4.3 | time:   0.853\n",
      "Rastrigin       [CRO          ] > error: 2.9e-14 / 1.2e-14 / 6.9e-02 | rank:  3.0 | time:   0.623\n",
      "Rosenbrock      [CRO          ] > error: 1.4e-14 / 1.1e-14 / 2.7e-14 | rank:  5.0 | time:   0.633\n",
      "Schaffer        [CRO          ] > error: 2.7e-04 / 1.0e-03 / 5.5e-02 | rank: 12.3 | time:   0.656\n",
      "Schwefel        [CRO          ] > error: 1.2e-13 / 2.3e-14 / 9.1e-03 | rank:  3.9 | time:   0.635\n"
     ]
    }
   ],
   "source": [
    "for func in teneva.func_demo_all(d=10):\n",
    "    func.clear()\n",
    "    func.set_grid(32, kind='cheb')\n",
    "    func.build_tst_ind(m=1.E+5)\n",
    "    func.build_tst_poi(m=1.E+5)\n",
    "    func.rand(r=2)\n",
    "    func.cross(m=1.E+5)\n",
    "    func.check()\n",
    "    func.info()"
   ]
  },
  {
   "cell_type": "markdown",
   "id": "ddea7025-c993-4e39-8ba7-a97293d88038",
   "metadata": {},
   "source": [
    "And for the finer grid and more requests to the target function, we will have the more accurate result. Note that the errors are displayed in the following order (if there is no corresponding data, then the value is skipped): training set (index, then point), validation set (index, then point), test set (index, then point)."
   ]
  },
  {
   "cell_type": "code",
   "execution_count": 21,
   "id": "414a1cf8-0d39-4ef1-bba7-c6a72fe19ba1",
   "metadata": {},
   "outputs": [
    {
     "name": "stdout",
     "output_type": "stream",
     "text": [
      "Ackley          [CRO          ] > error: 1.5e-03 / 1.3e-06 / 3.5e-04 | rank:  9.9 | time:   8.704\n",
      "Alpine          [CRO          ] > error: 5.9e-14 / 1.5e-14 / 1.3e-03 | rank:  2.2 | time:   7.882\n",
      "Dixon           [CRO          ] > error: 2.8e-12 / 1.1e-12 / 3.0e-12 | rank:  6.1 | time:   8.369\n",
      "Exponential     [CRO          ] > error: 2.4e-15 / 1.6e-15 / 2.1e-15 | rank:  7.2 | time:   8.412\n",
      "Grienwank       [CRO          ] > error: 2.9e-11 / 2.3e-12 / 1.3e-04 | rank:  5.8 | time:   9.748\n",
      "Michalewicz     [CRO          ] > error: 3.5e-14 / 6.5e-15 / 7.2e-04 | rank:  3.5 | time:  11.192\n",
      "Qing            [CRO          ] > error: 1.3e-13 / 3.7e-15 / 4.5e-15 | rank:  3.0 | time:   8.297\n",
      "Rastrigin       [CRO          ] > error: 4.8e-14 / 1.8e-14 / 3.0e-14 | rank:  4.6 | time:   8.361\n",
      "Rosenbrock      [CRO          ] > error: 2.5e-14 / 1.6e-14 / 3.5e-14 | rank:  4.6 | time:   7.863\n",
      "Schaffer        [CRO          ] > error: 1.3e-02 / 1.8e-02 / 2.5e-02 | rank: 14.2 | time:   9.370\n",
      "Schwefel        [CRO          ] > error: 6.4e-14 / 1.3e-14 / 1.3e-05 | rank:  4.7 | time:   7.719\n"
     ]
    }
   ],
   "source": [
    "for func in teneva.func_demo_all(d=10):\n",
    "    func.clear()\n",
    "    func.set_grid(256, kind='cheb')\n",
    "    func.build_tst_ind(m=1.E+5)\n",
    "    func.build_tst_poi(m=1.E+5)\n",
    "    func.rand(r=3)\n",
    "    func.cross(m=1.E+6)\n",
    "    func.check()\n",
    "    func.info()"
   ]
  },
  {
   "cell_type": "markdown",
   "id": "b7b97991-eb50-41b1-99cb-929cae64d66e",
   "metadata": {},
   "source": [
    "We can also form a list of functions for which the explicit form of their TT-cores is known and build them on an essentially multidimensional grid (100-dimensional with 1024 mode size). Note that the errors are displayed below for the random test multi-indices and then for the random test points."
   ]
  },
  {
   "cell_type": "code",
   "execution_count": 22,
   "id": "28645534-f1d7-4044-964d-b7151eb5c2b6",
   "metadata": {},
   "outputs": [
    {
     "name": "stdout",
     "output_type": "stream",
     "text": [
      "Alpine          [CORES        ] > error: 9.9e-17 / 5.8e-05 | rank:  2.0 | time:   0.007\n",
      "Exponential     [CORES        ] > error: 6.0e-15 / 8.6e-15 | rank:  1.0 | time:   0.011\n",
      "Grienwank       [CORES        ] > error: 4.1e-16 / 4.8e-15 | rank:  3.0 | time:   0.013\n",
      "Michalewicz     [CORES        ] > error: 0.0e+00 / 2.9e-02 | rank:  2.0 | time:   0.011\n",
      "Qing            [CORES        ] > error: 0.0e+00 / 4.8e-15 | rank:  2.0 | time:   0.005\n",
      "Rastrigin       [CORES        ] > error: 6.5e-17 / 4.5e-15 | rank:  2.0 | time:   0.008\n",
      "Rosenbrock      [CORES        ] > error: 4.1e-16 / 4.9e-15 | rank:  3.0 | time:   0.012\n",
      "Schwefel        [CORES        ] > error: 8.8e-17 / 9.8e-07 | rank:  2.0 | time:   0.010\n"
     ]
    }
   ],
   "source": [
    "for func in teneva.func_demo_all(d=100, only_with_cores=True):\n",
    "    func.clear()\n",
    "    func.set_grid(2**10, kind='cheb')\n",
    "    func.build_tst_ind(m=1.E+4)\n",
    "    func.build_tst_poi(m=1.E+4)\n",
    "    func.cores()\n",
    "    func.check()\n",
    "    func.info()"
   ]
  },
  {
   "cell_type": "markdown",
   "id": "cb029258-c467-4735-bf8a-a8e5f1f9cef4",
   "metadata": {},
   "source": [
    "We can also approximate all demo functions (benchmarks) by TT-ALS method with TT-ANOVA:"
   ]
  },
  {
   "cell_type": "code",
   "execution_count": 6,
   "id": "fb831a5e-a6fd-416f-9285-90846978fc4c",
   "metadata": {},
   "outputs": [
    {
     "name": "stdout",
     "output_type": "stream",
     "text": [
      "Ackley          [ANO-ALS      ] > error: 1.3e-03 / 3.9e-03 / 2.5e-02 | rank:  5.0 | time:   1.002\n",
      "Alpine          [ANO-ALS      ] > error: 1.2e-07 / 1.9e-07 / 4.8e-02 | rank:  5.0 | time:   1.030\n",
      "Dixon           [ANO-ALS      ] > error: 2.2e-05 / 3.2e-05 / 5.4e-05 | rank:  5.0 | time:   1.029\n",
      "Exponential     [ANO-ALS      ] > error: 2.9e-09 / 2.6e-08 / 3.2e-08 | rank:  5.0 | time:   0.992\n",
      "Grienwank       [ANO-ALS      ] > error: 3.2e-04 / 1.3e-03 / 1.9e-03 | rank:  5.0 | time:   1.034\n",
      "Michalewicz     [ANO-ALS      ] > error: 1.1e-04 / 1.8e-03 / 2.7e-01 | rank:  5.0 | time:   1.001\n",
      "Qing            [ANO-ALS      ] > error: 3.6e-03 / 4.7e-02 / 2.1e-02 | rank:  5.0 | time:   1.022\n",
      "Rastrigin       [ANO-ALS      ] > error: 1.7e-08 / 3.0e-07 / 9.6e-02 | rank:  5.0 | time:   1.028\n",
      "Rosenbrock      [ANO-ALS      ] > error: 1.5e-02 / 2.3e-02 / 3.6e-02 | rank:  5.0 | time:   0.983\n",
      "Schaffer        [ANO-ALS      ] > error: 7.5e-03 / 8.6e-02 / 2.1e-01 | rank:  5.0 | time:   0.992\n",
      "Schwefel        [ANO-ALS      ] > error: 1.2e-07 / 9.8e-07 / 1.3e-02 | rank:  5.0 | time:   0.999\n"
     ]
    }
   ],
   "source": [
    "for func in teneva.func_demo_all(d=5):\n",
    "    func.clear()\n",
    "    func.set_grid(32, kind='cheb')\n",
    "    func.build_trn_ind(m=1.E+4)\n",
    "    func.build_tst_ind(m=1.E+5)\n",
    "    func.build_tst_poi(m=1.E+5)\n",
    "    func.anova(r=5)\n",
    "    func.als(nswp=20)\n",
    "    func.check()\n",
    "    func.info()"
   ]
  },
  {
   "cell_type": "markdown",
   "id": "ccb01233-7932-47a2-9137-cc3e8ddf4c54",
   "metadata": {},
   "source": [
    "And we can try rank-adaptive TT-ALS method with TT-ANOVA:"
   ]
  },
  {
   "cell_type": "code",
   "execution_count": 8,
   "id": "232c4480-8695-4342-8498-4c089a19e452",
   "metadata": {},
   "outputs": [
    {
     "name": "stdout",
     "output_type": "stream",
     "text": [
      "# pre | time:      0.004 | rank:   2.0 | \n",
      "#   1 | time:      0.031 | rank:   2.0 | eps: 8.0e-03 | \n",
      "#   2 | time:      0.057 | rank:   2.0 | eps: 4.8e-03 | \n",
      "#   3 | time:      0.084 | rank:   2.0 | eps: 1.1e-03 | \n",
      "#   4 | time:      0.110 | rank:   2.0 | eps: 4.2e-04 | \n",
      "#   5 | time:      0.137 | rank:   2.0 | eps: 2.0e-04 | \n",
      "#   6 | time:      0.162 | rank:   2.0 | eps: 1.1e-04 | \n",
      "#   7 | time:      0.188 | rank:   2.0 | eps: 6.4e-05 | \n",
      "#   8 | time:      0.216 | rank:   2.0 | eps: 4.0e-05 | \n",
      "#   9 | time:      0.245 | rank:   2.0 | eps: 2.7e-05 | \n",
      "#  10 | time:      0.273 | rank:   2.0 | eps: 2.0e-05 | \n",
      "#  11 | time:      0.299 | rank:   2.0 | eps: 1.5e-05 | \n",
      "#  12 | time:      0.325 | rank:   2.0 | eps: 1.2e-05 | \n",
      "#  13 | time:      0.353 | rank:   2.0 | eps: 9.6e-06 | \n",
      "#  14 | time:      0.380 | rank:   2.0 | eps: 7.8e-06 | \n",
      "#  15 | time:      0.405 | rank:   2.0 | eps: 6.4e-06 | \n",
      "#  16 | time:      0.434 | rank:   2.0 | eps: 5.2e-06 | \n",
      "#  17 | time:      0.461 | rank:   2.0 | eps: 4.3e-06 | \n",
      "#  18 | time:      0.489 | rank:   2.0 | eps: 3.5e-06 | \n",
      "#  19 | time:      0.515 | rank:   2.0 | eps: 2.9e-06 | \n",
      "#  20 | time:      0.543 | rank:   2.0 | eps: 2.4e-06 | stop: nswp | \n",
      "Ackley          [ANO-ALS      ] > error: 3.2e-03 / 3.9e-03 / 2.3e-02 | rank:  2.0 | time:   0.553\n",
      "# pre | time:      0.003 | rank:   2.0 | \n",
      "#   1 | time:      0.030 | rank:   2.0 | eps: 3.3e-02 | \n",
      "#   2 | time:      0.057 | rank:   2.0 | eps: 2.4e-03 | \n",
      "#   3 | time:      0.087 | rank:   2.0 | eps: 2.1e-04 | \n",
      "#   4 | time:      0.114 | rank:   2.0 | eps: 2.4e-05 | \n",
      "#   5 | time:      0.141 | rank:   2.0 | eps: 3.5e-06 | \n",
      "#   6 | time:      0.169 | rank:   2.0 | eps: 5.9e-07 | \n",
      "#   7 | time:      0.197 | rank:   2.0 | eps: 1.1e-07 | \n",
      "#   8 | time:      0.225 | rank:   2.0 | eps: 2.1e-08 | \n",
      "#   9 | time:      0.254 | rank:   2.0 | eps: 3.1e-08 | \n",
      "#  10 | time:      0.281 | rank:   2.0 | eps: 1.9e-08 | \n",
      "#  11 | time:      0.308 | rank:   2.0 | eps: 3.8e-09 | \n",
      "#  12 | time:      0.334 | rank:   2.0 | eps: 0.0e+00 | stop: e | \n",
      "Alpine          [ANO-ALS      ] > error: 9.9e-12 / 1.2e-11 / 4.8e-02 | rank:  2.0 | time:   0.344\n",
      "# pre | time:      0.003 | rank:   2.0 | \n",
      "#   1 | time:      0.032 | rank:   2.0 | eps: 5.4e-02 | \n",
      "#   2 | time:      0.060 | rank:   2.0 | eps: 6.6e-03 | \n",
      "#   3 | time:      0.099 | rank:   2.0 | eps: 4.6e-04 | \n",
      "#   4 | time:      0.198 | rank:   2.0 | eps: 4.8e-05 | \n",
      "#   5 | time:      0.240 | rank:   2.0 | eps: 5.9e-06 | \n",
      "#   6 | time:      0.277 | rank:   2.0 | eps: 7.8e-07 | \n",
      "#   7 | time:      0.309 | rank:   2.0 | eps: 1.1e-07 | \n",
      "#   8 | time:      0.339 | rank:   2.0 | eps: 0.0e+00 | stop: e | \n",
      "Dixon           [ANO-ALS      ] > error: 1.8e-02 / 1.9e-02 / 2.4e-02 | rank:  2.0 | time:   0.349\n",
      "# pre | time:      0.004 | rank:   2.0 | \n",
      "#   1 | time:      0.037 | rank:   2.0 | eps: 1.0e-01 | \n",
      "#   2 | time:      0.064 | rank:   2.0 | eps: 5.6e-03 | \n",
      "#   3 | time:      0.093 | rank:   2.0 | eps: 4.0e-04 | \n",
      "#   4 | time:      0.120 | rank:   2.0 | eps: 3.6e-05 | \n",
      "#   5 | time:      0.147 | rank:   2.0 | eps: 3.5e-06 | \n",
      "#   6 | time:      0.176 | rank:   2.0 | eps: 4.2e-07 | \n",
      "#   7 | time:      0.205 | rank:   2.0 | eps: 6.9e-08 | \n",
      "#   8 | time:      0.233 | rank:   2.0 | eps: 1.7e-08 | \n",
      "#   9 | time:      0.260 | rank:   2.0 | eps: 0.0e+00 | stop: e | \n",
      "Exponential     [ANO-ALS      ] > error: 1.7e-10 / 2.0e-10 / 2.3e-10 | rank:  2.0 | time:   0.269\n",
      "# pre | time:      0.003 | rank:   2.0 | \n",
      "#   1 | time:      0.031 | rank:   2.0 | eps: 3.2e-02 | \n",
      "#   2 | time:      0.058 | rank:   2.0 | eps: 2.4e-03 | \n",
      "#   3 | time:      0.087 | rank:   2.0 | eps: 1.7e-04 | \n",
      "#   4 | time:      0.115 | rank:   2.0 | eps: 1.8e-05 | \n",
      "#   5 | time:      0.142 | rank:   2.0 | eps: 2.4e-06 | \n",
      "#   6 | time:      0.170 | rank:   2.0 | eps: 3.3e-07 | \n",
      "#   7 | time:      0.197 | rank:   2.0 | eps: 4.1e-08 | \n",
      "#   8 | time:      0.228 | rank:   2.0 | eps: 0.0e+00 | stop: e | \n",
      "Grienwank       [ANO-ALS      ] > error: 5.9e-04 / 6.3e-04 / 1.1e-03 | rank:  2.0 | time:   0.238\n",
      "# pre | time:      0.005 | rank:   2.0 | \n",
      "#   1 | time:      0.047 | rank:   2.0 | eps: 8.9e-02 | \n",
      "#   2 | time:      0.085 | rank:   2.0 | eps: 7.3e-03 | \n",
      "#   3 | time:      0.122 | rank:   2.0 | eps: 9.9e-04 | \n",
      "#   4 | time:      0.158 | rank:   2.0 | eps: 3.2e-04 | \n",
      "#   5 | time:      0.188 | rank:   2.0 | eps: 1.4e-04 | \n",
      "#   6 | time:      0.223 | rank:   2.0 | eps: 6.8e-05 | \n",
      "#   7 | time:      0.265 | rank:   2.0 | eps: 3.6e-05 | \n",
      "#   8 | time:      0.304 | rank:   2.0 | eps: 2.0e-05 | \n",
      "#   9 | time:      0.347 | rank:   2.0 | eps: 1.1e-05 | \n",
      "#  10 | time:      0.387 | rank:   2.0 | eps: 6.4e-06 | \n",
      "#  11 | time:      0.428 | rank:   2.0 | eps: 3.7e-06 | \n",
      "#  12 | time:      0.466 | rank:   2.0 | eps: 2.2e-06 | \n",
      "#  13 | time:      0.498 | rank:   2.0 | eps: 1.3e-06 | \n",
      "#  14 | time:      0.526 | rank:   2.0 | eps: 7.5e-07 | \n",
      "#  15 | time:      0.554 | rank:   2.0 | eps: 4.4e-07 | \n",
      "#  16 | time:      0.582 | rank:   2.0 | eps: 2.6e-07 | \n",
      "#  17 | time:      0.609 | rank:   2.0 | eps: 1.6e-07 | \n",
      "#  18 | time:      0.639 | rank:   2.0 | eps: 9.7e-08 | \n",
      "#  19 | time:      0.669 | rank:   2.0 | eps: 6.0e-08 | \n",
      "#  20 | time:      0.697 | rank:   2.0 | eps: 2.3e-08 | stop: nswp | \n",
      "Michalewicz     [ANO-ALS      ] > error: 2.8e-08 / 4.8e-08 / 2.7e-01 | rank:  2.0 | time:   0.704\n",
      "# pre | time:      0.004 | rank:   2.0 | \n",
      "#   1 | time:      0.035 | rank:   2.0 | eps: 9.8e-01 | \n",
      "#   2 | time:      0.063 | rank:   2.0 | eps: 2.2e-01 | \n",
      "#   3 | time:      0.092 | rank:   2.0 | eps: 9.8e-02 | \n",
      "#   4 | time:      0.120 | rank:   2.0 | eps: 6.7e-02 | \n",
      "#   5 | time:      0.150 | rank:   2.0 | eps: 2.8e-02 | \n",
      "#   6 | time:      0.188 | rank:   2.0 | eps: 1.1e-02 | \n",
      "#   7 | time:      0.231 | rank:   2.0 | eps: 3.7e-03 | \n",
      "#   8 | time:      0.274 | rank:   2.0 | eps: 2.1e-03 | \n",
      "#   9 | time:      0.305 | rank:   2.0 | eps: 1.7e-03 | \n",
      "#  10 | time:      0.333 | rank:   2.0 | eps: 1.4e-03 | \n",
      "#  11 | time:      0.361 | rank:   2.0 | eps: 1.2e-03 | \n",
      "#  12 | time:      0.390 | rank:   2.0 | eps: 9.9e-04 | \n",
      "#  13 | time:      0.419 | rank:   2.0 | eps: 8.6e-04 | \n",
      "#  14 | time:      0.449 | rank:   2.0 | eps: 7.5e-04 | \n",
      "#  15 | time:      0.480 | rank:   2.0 | eps: 6.6e-04 | \n",
      "#  16 | time:      0.509 | rank:   2.0 | eps: 5.8e-04 | \n",
      "#  17 | time:      0.537 | rank:   2.0 | eps: 5.2e-04 | \n",
      "#  18 | time:      0.564 | rank:   2.0 | eps: 4.7e-04 | \n",
      "#  19 | time:      0.593 | rank:   2.0 | eps: 4.2e-04 | \n",
      "#  20 | time:      0.623 | rank:   2.0 | eps: 3.8e-04 | stop: nswp | \n",
      "Qing            [ANO-ALS      ] > error: 7.9e-03 / 8.1e-03 / 6.6e-03 | rank:  2.0 | time:   0.632\n",
      "# pre | time:      0.003 | rank:   2.0 | \n",
      "#   1 | time:      0.030 | rank:   2.0 | eps: 2.2e-02 | \n",
      "#   2 | time:      0.059 | rank:   2.0 | eps: 1.5e-03 | \n",
      "#   3 | time:      0.086 | rank:   2.0 | eps: 1.5e-04 | \n",
      "#   4 | time:      0.114 | rank:   2.0 | eps: 2.1e-05 | \n",
      "#   5 | time:      0.140 | rank:   2.0 | eps: 3.7e-06 | \n",
      "#   6 | time:      0.167 | rank:   2.0 | eps: 7.2e-07 | \n",
      "#   7 | time:      0.193 | rank:   2.0 | eps: 1.5e-07 | \n",
      "#   8 | time:      0.222 | rank:   2.0 | eps: 1.2e-08 | \n",
      "#   9 | time:      0.255 | rank:   2.0 | eps: 3.2e-08 | \n",
      "#  10 | time:      0.283 | rank:   2.0 | eps: 0.0e+00 | stop: e | \n",
      "Rastrigin       [ANO-ALS      ] > error: 3.4e-10 / 4.1e-10 / 9.6e-02 | rank:  2.0 | time:   0.292\n",
      "# pre | time:      0.003 | rank:   2.0 | \n",
      "#   1 | time:      0.032 | rank:   2.0 | eps: 1.7e-01 | \n",
      "#   2 | time:      0.062 | rank:   2.0 | eps: 4.7e-02 | \n",
      "#   3 | time:      0.093 | rank:   2.0 | eps: 1.4e-02 | \n",
      "#   4 | time:      0.122 | rank:   2.0 | eps: 7.4e-03 | \n",
      "#   5 | time:      0.153 | rank:   2.0 | eps: 4.1e-03 | \n",
      "#   6 | time:      0.189 | rank:   2.0 | eps: 2.3e-03 | \n",
      "#   7 | time:      0.231 | rank:   2.0 | eps: 1.4e-03 | \n",
      "#   8 | time:      0.276 | rank:   2.0 | eps: 8.4e-04 | \n",
      "#   9 | time:      0.313 | rank:   2.0 | eps: 5.4e-04 | \n",
      "#  10 | time:      0.347 | rank:   2.0 | eps: 3.7e-04 | \n",
      "#  11 | time:      0.376 | rank:   2.0 | eps: 2.6e-04 | \n",
      "#  12 | time:      0.404 | rank:   2.0 | eps: 1.8e-04 | \n",
      "#  13 | time:      0.432 | rank:   2.0 | eps: 1.3e-04 | \n",
      "#  14 | time:      0.474 | rank:   2.0 | eps: 9.7e-05 | \n",
      "#  15 | time:      0.520 | rank:   2.0 | eps: 7.1e-05 | \n",
      "#  16 | time:      0.566 | rank:   2.0 | eps: 5.2e-05 | \n",
      "#  17 | time:      0.611 | rank:   2.0 | eps: 3.8e-05 | \n",
      "#  18 | time:      0.709 | rank:   2.0 | eps: 2.8e-05 | \n",
      "#  19 | time:      0.752 | rank:   2.0 | eps: 2.1e-05 | \n",
      "#  20 | time:      0.792 | rank:   2.0 | eps: 1.5e-05 | stop: nswp | \n",
      "Rosenbrock      [ANO-ALS      ] > error: 1.2e-01 / 1.2e-01 / 1.6e-01 | rank:  2.0 | time:   0.802\n",
      "# pre | time:      0.005 | rank:   2.0 | \n",
      "#   1 | time:      0.040 | rank:   2.0 | eps: 2.0e-02 | \n",
      "#   2 | time:      0.068 | rank:   2.0 | eps: 1.1e-02 | \n",
      "#   3 | time:      0.097 | rank:   2.0 | eps: 1.1e-02 | \n",
      "#   4 | time:      0.129 | rank:   2.0 | eps: 1.2e-02 | \n",
      "#   5 | time:      0.159 | rank:   2.0 | eps: 1.4e-02 | \n",
      "#   6 | time:      0.194 | rank:   2.0 | eps: 1.5e-02 | \n",
      "#   7 | time:      0.233 | rank:   2.0 | eps: 1.8e-02 | \n",
      "#   8 | time:      0.270 | rank:   2.0 | eps: 2.1e-02 | \n",
      "#   9 | time:      0.302 | rank:   2.0 | eps: 2.2e-02 | \n",
      "#  10 | time:      0.330 | rank:   2.0 | eps: 2.1e-02 | \n",
      "#  11 | time:      0.359 | rank:   2.0 | eps: 2.0e-02 | \n",
      "#  12 | time:      0.388 | rank:   2.0 | eps: 2.0e-02 | \n",
      "#  13 | time:      0.416 | rank:   2.0 | eps: 2.0e-02 | \n",
      "#  14 | time:      0.445 | rank:   2.0 | eps: 2.1e-02 | \n",
      "#  15 | time:      0.476 | rank:   2.0 | eps: 2.2e-02 | \n",
      "#  16 | time:      0.502 | rank:   2.0 | eps: 2.2e-02 | \n",
      "#  17 | time:      0.532 | rank:   2.0 | eps: 2.3e-02 | \n",
      "#  18 | time:      0.559 | rank:   2.0 | eps: 2.3e-02 | \n",
      "#  19 | time:      0.587 | rank:   2.0 | eps: 2.4e-02 | \n",
      "#  20 | time:      0.615 | rank:   2.0 | eps: 2.4e-02 | stop: nswp | \n",
      "Schaffer        [ANO-ALS      ] > error: 1.8e-02 / 4.5e-01 / 1.2e+00 | rank:  2.0 | time:   0.626\n",
      "# pre | time:      0.004 | rank:   2.0 | \n",
      "#   1 | time:      0.031 | rank:   2.0 | eps: 2.4e-02 | \n",
      "#   2 | time:      0.057 | rank:   2.0 | eps: 1.6e-03 | \n",
      "#   3 | time:      0.084 | rank:   2.0 | eps: 1.4e-04 | \n",
      "#   4 | time:      0.112 | rank:   2.0 | eps: 1.7e-05 | \n",
      "#   5 | time:      0.139 | rank:   2.0 | eps: 2.3e-06 | \n",
      "#   6 | time:      0.166 | rank:   2.0 | eps: 3.7e-07 | \n",
      "#   7 | time:      0.194 | rank:   2.0 | eps: 6.7e-08 | \n",
      "#   8 | time:      0.221 | rank:   2.0 | eps: 0.0e+00 | stop: e | \n",
      "Schwefel        [ANO-ALS      ] > error: 2.2e-09 / 2.6e-09 / 1.3e-02 | rank:  2.0 | time:   0.230\n"
     ]
    }
   ],
   "source": [
    "for func in teneva.func_demo_all(d=5):\n",
    "    func.clear()\n",
    "    func.set_grid(32, kind='cheb')\n",
    "    func.build_trn_ind(m=1.E+4)\n",
    "    func.build_tst_ind(m=1.E+5)\n",
    "    func.build_tst_poi(m=1.E+5)\n",
    "    func.anova(r=2)\n",
    "    func.als(nswp=20, log=True)\n",
    "    func.check()\n",
    "    func.info()"
   ]
  },
  {
   "cell_type": "markdown",
   "id": "5157c326-a02c-41fc-b82d-af0d55ddfb18",
   "metadata": {},
   "source": [
    "---"
   ]
  }
 ],
 "metadata": {
  "kernelspec": {
   "display_name": "Python 3",
   "language": "python",
   "name": "python3"
  },
  "language_info": {
   "codemirror_mode": {
    "name": "ipython",
    "version": 3
   },
   "file_extension": ".py",
   "mimetype": "text/x-python",
   "name": "python",
   "nbconvert_exporter": "python",
   "pygments_lexer": "ipython3",
   "version": "3.8.8"
  }
 },
 "nbformat": 4,
 "nbformat_minor": 5
}

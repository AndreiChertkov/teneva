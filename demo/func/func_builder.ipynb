{
 "cells": [
  {
   "cell_type": "markdown",
   "id": "e51b9291-f33c-40ad-96ee-e2f9454ffc69",
   "metadata": {},
   "source": [
    "**Demo for `teneva.func.func_builder`**\n",
    "\n",
    "---\n",
    "\n",
    "This module contains functions, which build one or many (with filters) benchmarks (model functions)."
   ]
  },
  {
   "cell_type": "markdown",
   "id": "3896a55c-1131-44fc-b746-1433ad4ddb08",
   "metadata": {},
   "source": [
    "## Loading and importing modules"
   ]
  },
  {
   "cell_type": "code",
   "execution_count": 1,
   "id": "9941ed2c-6272-4144-8c96-4e800f0b5c49",
   "metadata": {},
   "outputs": [],
   "source": [
    "import numpy as np\n",
    "import teneva\n",
    "from time import perf_counter as tpc\n",
    "np.random.seed(42)"
   ]
  },
  {
   "cell_type": "markdown",
   "id": "bfd0f067-7db3-40dd-aeb7-cf2a8f0366ff",
   "metadata": {},
   "source": [
    "## Function `func_demo`"
   ]
  },
  {
   "cell_type": "markdown",
   "id": "79a69611-4e52-4811-ae0d-a48deed73688",
   "metadata": {},
   "source": [
    "Build class instance for demo function by name."
   ]
  },
  {
   "cell_type": "code",
   "execution_count": 2,
   "id": "6ff87dc7-0cb4-4e16-ade5-e6e5b71d1231",
   "metadata": {},
   "outputs": [
    {
     "name": "stdout",
     "output_type": "stream",
     "text": [
      "Ackley\n",
      "[-32.768 -32.768 -32.768 -32.768 -32.768]\n",
      "[32.768 32.768 32.768 32.768 32.768]\n",
      "[0. 0. 0. 0. 0.]\n",
      "0.0\n"
     ]
    }
   ],
   "source": [
    "func = teneva.func_demo(d=5, name='Ackley')\n",
    "print(func.name)    # Name of the function\n",
    "print(func.a)       # Grid lower bound\n",
    "print(func.b)       # Grid upper bound\n",
    "print(func.x_min)   # Argument for exact minimum\n",
    "print(func.y_min)   # Value of exact minimum"
   ]
  },
  {
   "cell_type": "markdown",
   "id": "de6abf4a-2d65-43b9-a320-5a2813688a86",
   "metadata": {},
   "source": [
    "## Function `func_demo_all`"
   ]
  },
  {
   "cell_type": "markdown",
   "id": "b3215262-74e9-4eba-a3b9-f519ef812630",
   "metadata": {},
   "source": [
    "Build list of class instances for all demo functions."
   ]
  },
  {
   "cell_type": "code",
   "execution_count": 3,
   "id": "9cd59ddd-edef-4787-87d2-45674e005e80",
   "metadata": {},
   "outputs": [
    {
     "name": "stdout",
     "output_type": "stream",
     "text": [
      "Ackley\n",
      "Alpine\n",
      "Dixon\n",
      "Exponential\n",
      "Grienwank\n",
      "Michalewicz\n",
      "Piston\n",
      "Qing\n",
      "Rastrigin\n",
      "Rosenbrock\n",
      "Schaffer\n",
      "Schwefel\n"
     ]
    }
   ],
   "source": [
    "funcs = teneva.func_demo_all(d=5, with_piston=True)\n",
    "for func in funcs:\n",
    "    print(func.name)"
   ]
  },
  {
   "cell_type": "markdown",
   "id": "74f09d4b-455b-4ffe-aeab-75e857923019",
   "metadata": {},
   "source": [
    "We can also collect a list of functions for which the explicit form of their TT-cores is known:"
   ]
  },
  {
   "cell_type": "code",
   "execution_count": 4,
   "id": "0a51f79f-998e-4eea-87bf-0a6cc8a290f1",
   "metadata": {},
   "outputs": [
    {
     "name": "stdout",
     "output_type": "stream",
     "text": [
      "Alpine\n",
      "Exponential\n",
      "Grienwank\n",
      "Michalewicz\n",
      "Qing\n",
      "Rastrigin\n",
      "Rosenbrock\n",
      "Schwefel\n"
     ]
    }
   ],
   "source": [
    "funcs = teneva.func_demo_all(d=100, only_with_cores=True)\n",
    "for func in funcs:\n",
    "    print(func.name)"
   ]
  },
  {
   "cell_type": "markdown",
   "id": "7fb99f1d-ef21-4dbf-8802-bf9edde45adb",
   "metadata": {},
   "source": [
    "We can manually specify the list of names of the desired functions (a complete list of available benchmarks is given in the documentation for the \"func_demo_all\" function):"
   ]
  },
  {
   "cell_type": "code",
   "execution_count": 5,
   "id": "76ade2f4-50ef-4c0d-8eae-5fc06504a383",
   "metadata": {},
   "outputs": [
    {
     "name": "stdout",
     "output_type": "stream",
     "text": [
      "Ackley\n",
      "Piston\n",
      "Rosenbrock\n"
     ]
    }
   ],
   "source": [
    "funcs = teneva.func_demo_all(d=4, names=['Ackley', 'rosenbrock', 'PISTON'])\n",
    "for func in funcs:\n",
    "    print(func.name)"
   ]
  },
  {
   "cell_type": "markdown",
   "id": "5157c326-a02c-41fc-b82d-af0d55ddfb18",
   "metadata": {},
   "source": [
    "---"
   ]
  }
 ],
 "metadata": {
  "kernelspec": {
   "display_name": "Python 3",
   "language": "python",
   "name": "python3"
  },
  "language_info": {
   "codemirror_mode": {
    "name": "ipython",
    "version": 3
   },
   "file_extension": ".py",
   "mimetype": "text/x-python",
   "name": "python",
   "nbconvert_exporter": "python",
   "pygments_lexer": "ipython3",
   "version": "3.8.8"
  }
 },
 "nbformat": 4,
 "nbformat_minor": 5
}

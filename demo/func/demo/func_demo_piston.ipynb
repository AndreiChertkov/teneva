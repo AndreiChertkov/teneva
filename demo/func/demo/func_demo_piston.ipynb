{
 "cells": [
  {
   "cell_type": "markdown",
   "id": "e51b9291-f33c-40ad-96ee-e2f9454ffc69",
   "metadata": {},
   "source": [
    "**Demo for `teneva.func.demo.func_demo_piston`**\n",
    "\n",
    "---\n",
    "\n",
    "This module contains analytical Piston function for demo and tests."
   ]
  },
  {
   "cell_type": "markdown",
   "id": "3896a55c-1131-44fc-b746-1433ad4ddb08",
   "metadata": {},
   "source": [
    "## Loading and importing modules"
   ]
  },
  {
   "cell_type": "code",
   "execution_count": 1,
   "id": "9941ed2c-6272-4144-8c96-4e800f0b5c49",
   "metadata": {},
   "outputs": [],
   "source": [
    "import numpy as np\n",
    "import teneva\n",
    "from time import perf_counter as tpc\n",
    "np.random.seed(42)"
   ]
  },
  {
   "cell_type": "markdown",
   "id": "5a0328c0-d3d0-468b-886a-ecece341d738",
   "metadata": {},
   "source": [
    "## Class `FuncDemoPiston`"
   ]
  },
  {
   "cell_type": "markdown",
   "id": "c284a7cb-6086-4cfb-93a0-101ec38102a7",
   "metadata": {},
   "source": [
    "Piston function for demo and tests."
   ]
  },
  {
   "cell_type": "code",
   "execution_count": 2,
   "id": "b66ac76d-ba6c-46a0-b06f-2ffd4294583e",
   "metadata": {},
   "outputs": [
    {
     "name": "stdout",
     "output_type": "stream",
     "text": [
      "[0.46439702]\n",
      "0.4643970224718025\n"
     ]
    }
   ],
   "source": [
    "func = teneva.FuncDemoPiston()\n",
    "\n",
    "X_spec = (func.a + func.b) / 2\n",
    "X_spec = X_spec.reshape(1, -1)\n",
    "\n",
    "print(func.get_f_poi(X_spec))\n",
    "print(func.get_f_poi(X_spec[0]))"
   ]
  },
  {
   "cell_type": "markdown",
   "id": "7ec94450-ff17-48ea-997d-fd131207db00",
   "metadata": {},
   "source": [
    "It is also possible to calculate the function in the PyTorch format:"
   ]
  },
  {
   "cell_type": "code",
   "execution_count": 3,
   "id": "0bcd8077-65f4-48f6-b054-8361c92e4028",
   "metadata": {},
   "outputs": [
    {
     "name": "stdout",
     "output_type": "stream",
     "text": [
      "0.38368320860039756\n",
      "0.38368321927735555\n"
     ]
    }
   ],
   "source": [
    "func = teneva.FuncDemoPiston(d=7)\n",
    "\n",
    "x1 = func.a + np.random.uniform(size=func.d) * (func.b - func.a)\n",
    "y1 = func._calc(x1)\n",
    "\n",
    "import torch\n",
    "# torch.set_default_dtype(torch.float64)\n",
    "\n",
    "x2 = torch.tensor(x1)\n",
    "y2 = func._calc_pt(x2)\n",
    "\n",
    "print(y1)\n",
    "print(y2.numpy())"
   ]
  },
  {
   "cell_type": "markdown",
   "id": "5157c326-a02c-41fc-b82d-af0d55ddfb18",
   "metadata": {},
   "source": [
    "---"
   ]
  }
 ],
 "metadata": {
  "kernelspec": {
   "display_name": "Python 3",
   "language": "python",
   "name": "python3"
  },
  "language_info": {
   "codemirror_mode": {
    "name": "ipython",
    "version": 3
   },
   "file_extension": ".py",
   "mimetype": "text/x-python",
   "name": "python",
   "nbconvert_exporter": "python",
   "pygments_lexer": "ipython3",
   "version": "3.8.8"
  }
 },
 "nbformat": 4,
 "nbformat_minor": 5
}

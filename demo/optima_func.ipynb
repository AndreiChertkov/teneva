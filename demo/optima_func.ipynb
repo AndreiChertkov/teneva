{
 "cells": [
  {
   "cell_type": "markdown",
   "id": "e51b9291-f33c-40ad-96ee-e2f9454ffc69",
   "metadata": {},
   "source": [
    "**Demo for `teneva.optima_func`**\n",
    "\n",
    "---\n",
    "\n",
    "This module contains the novel algorithm for computation of minimum and maximum element of the multivariate function presented as the TT-tensor of Chebyshev coefficients."
   ]
  },
  {
   "cell_type": "markdown",
   "id": "3896a55c-1131-44fc-b746-1433ad4ddb08",
   "metadata": {},
   "source": [
    "## Loading and importing modules"
   ]
  },
  {
   "cell_type": "code",
   "execution_count": 1,
   "id": "9941ed2c-6272-4144-8c96-4e800f0b5c49",
   "metadata": {
    "tags": []
   },
   "outputs": [],
   "source": [
    "import numpy as np\n",
    "import teneva\n",
    "from time import perf_counter as tpc\n",
    "np.random.seed(42)"
   ]
  },
  {
   "cell_type": "markdown",
   "id": "8c61a663-afc4-4fbf-94bf-afedb3157328",
   "metadata": {},
   "source": [
    "## Function `optima_func_tt_beam`"
   ]
  },
  {
   "cell_type": "markdown",
   "id": "823c49e9-c1ea-48cf-904c-e6e2f3ba6f35",
   "metadata": {},
   "source": [
    "Find maximum modulo points in the functional TT-tensor."
   ]
  },
  {
   "cell_type": "markdown",
   "id": "03aac5c0-73df-406b-87fe-6074a909abd5",
   "metadata": {},
   "source": [
    "First we create a coefficient tensor:"
   ]
  },
  {
   "cell_type": "code",
   "execution_count": 2,
   "id": "028e0f57-90fc-4519-85ea-f8a6caf0e174",
   "metadata": {},
   "outputs": [],
   "source": [
    "n = [20, 18, 16, 14, 12]           # Shape of the tensor\n",
    "Y = teneva.rand(n, r=4, seed=42)   # Random TT-tensor with rank 4\n",
    "A = teneva.func_int(Y)             # TT-tensor of interpolation coefficients"
   ]
  },
  {
   "cell_type": "code",
   "execution_count": 3,
   "id": "cb0878d0-1efb-4112-8a15-04c883066b85",
   "metadata": {
    "tags": []
   },
   "outputs": [
    {
     "name": "stdout",
     "output_type": "stream",
     "text": [
      "x opt appr : [ 0.92074466 -0.50381115  0.88270924  0.48885584  0.21839684]\n",
      "y opt appr : 19.522690205649386\n"
     ]
    }
   ],
   "source": [
    "# Finding the maximum modulo point:\n",
    "x_opt = teneva.optima_func_tt_beam(A, k=3)     \n",
    "y_opt = teneva.func_get(x_opt, A, -1, 1)\n",
    "\n",
    "print(f'x opt appr :', x_opt)\n",
    "print(f'y opt appr : {y_opt}')"
   ]
  },
  {
   "cell_type": "markdown",
   "id": "033083d9-7960-4c7d-85b0-f878b750e0e2",
   "metadata": {},
   "source": [
    "The function can also return all found candidates for the optimum:"
   ]
  },
  {
   "cell_type": "code",
   "execution_count": 4,
   "id": "3db5577b-b07f-4394-b097-9258eaf2229c",
   "metadata": {},
   "outputs": [
    {
     "name": "stdout",
     "output_type": "stream",
     "text": [
      "x opt appr : [[ 0.92074466 -0.50381115  0.88270924  0.48885584  0.21839684]\n",
      " [ 0.92074466 -0.50381115  0.88270924  0.48885584 -0.15894822]\n",
      " [ 0.92074466 -0.80385377  0.76687945  0.41562491  0.19705068]]\n",
      "y opt appr : [ 19.52269021 -16.92563497  14.99017353]\n"
     ]
    }
   ],
   "source": [
    "x_opt = teneva.optima_func_tt_beam(A, k=3, ret_all=True)     \n",
    "y_opt = teneva.func_get(x_opt, A, -1, 1)\n",
    "\n",
    "print(f'x opt appr :', x_opt)\n",
    "print(f'y opt appr : {y_opt}')"
   ]
  },
  {
   "cell_type": "markdown",
   "id": "a4f07ef9-dd0e-4245-927b-5bd613b7900d",
   "metadata": {},
   "source": [
    "We can solve the problem of optimizing a real function:"
   ]
  },
  {
   "cell_type": "code",
   "execution_count": 5,
   "id": "88a939ce-83ec-4c92-b5ca-5d2151a15ff2",
   "metadata": {},
   "outputs": [],
   "source": [
    "# Target function:\n",
    "f = lambda x: 10. - np.sum(x**2)\n",
    "f_batch = lambda X: np.array([f(x) for x in X])\n",
    "\n",
    "d = 5                              # Dimension\n",
    "a = [-2.]*d                        # Grid lower bounds\n",
    "b = [+2.]*d                        # Grid upper bounds\n",
    "n = [201]*d                        # Grid size"
   ]
  },
  {
   "cell_type": "code",
   "execution_count": 6,
   "id": "cc1dcb4c-4c8b-4a33-a7d8-805b0cfe9beb",
   "metadata": {},
   "outputs": [
    {
     "name": "stdout",
     "output_type": "stream",
     "text": [
      "# pre | time:      0.006 | evals: 0.00e+00 | rank:   2.0 | \n",
      "#   1 | time:      0.098 | evals: 1.33e+04 | rank:   4.0 | e: 1.2e+01 | \n",
      "#   2 | time:      0.321 | evals: 4.74e+04 | rank:   6.0 | e: 0.0e+00 | \n",
      "#   3 | time:      0.887 | evals: 1.12e+05 | rank:   8.0 | e: 0.0e+00 | \n",
      "#   4 | time:      2.043 | evals: 2.17e+05 | rank:  10.0 | e: 0.0e+00 | \n",
      "#   5 | time:      3.847 | evals: 3.72e+05 | rank:  12.0 | e: 0.0e+00 | \n",
      "#   5 | time:      5.835 | evals: 4.74e+05 | rank:  13.2 | e: 1.8e-08 | stop: m | \n"
     ]
    }
   ],
   "source": [
    "# We build very accurate approximation of the function:\n",
    "Y0 = teneva.rand(n, r=2, seed=42)  # Initial approximation for TT-cross\n",
    "Y = teneva.cross(lambda I: f_batch(teneva.ind_to_poi(I, a, b, n, 'cheb')),\n",
    "    Y0, m=5.E+5, e=None, log=True)\n",
    "Y = teneva.truncate(Y, 1.E-9)\n",
    "\n",
    "# We compute the TT-tensor for Chebyshev interpolation coefficients:\n",
    "A = teneva.func_int(Y)"
   ]
  },
  {
   "cell_type": "code",
   "execution_count": 7,
   "id": "28329836-c1d9-4aa0-8df4-2284a9b78a46",
   "metadata": {},
   "outputs": [
    {
     "name": "stdout",
     "output_type": "stream",
     "text": [
      "x opt appr : [ 0.54519297 -1.         -1.          1.         -1.        ]\n",
      "y opt appr : 5.70276462626716\n"
     ]
    }
   ],
   "source": [
    "# We find the maximum modulo point:\n",
    "x_opt = teneva.optima_func_tt_beam(A, k=10)     \n",
    "y_opt = teneva.func_get(x_opt, A, a, b)\n",
    "\n",
    "print(f'x opt appr :', x_opt)\n",
    "print(f'y opt appr :', y_opt)"
   ]
  },
  {
   "cell_type": "markdown",
   "id": "5157c326-a02c-41fc-b82d-af0d55ddfb18",
   "metadata": {},
   "source": [
    "---"
   ]
  }
 ],
 "metadata": {
  "kernelspec": {
   "display_name": "Python 3 (ipykernel)",
   "language": "python",
   "name": "python3"
  },
  "language_info": {
   "codemirror_mode": {
    "name": "ipython",
    "version": 3
   },
   "file_extension": ".py",
   "mimetype": "text/x-python",
   "name": "python",
   "nbconvert_exporter": "python",
   "pygments_lexer": "ipython3",
   "version": "3.8.19"
  }
 },
 "nbformat": 4,
 "nbformat_minor": 5
}

{
 "cells": [
  {
   "cell_type": "markdown",
   "id": "e51b9291-f33c-40ad-96ee-e2f9454ffc69",
   "metadata": {},
   "source": [
    "**Demo for `teneva.optima_func`**\n",
    "\n",
    "---\n",
    "\n",
    "This module contains the novel algorithm for computation of minimum and maximum element of the multivariate function presented as the TT-tensor of Chebyshev coefficients."
   ]
  },
  {
   "cell_type": "markdown",
   "id": "3896a55c-1131-44fc-b746-1433ad4ddb08",
   "metadata": {},
   "source": [
    "## Loading and importing modules"
   ]
  },
  {
   "cell_type": "code",
   "execution_count": 1,
   "id": "9941ed2c-6272-4144-8c96-4e800f0b5c49",
   "metadata": {
    "tags": []
   },
   "outputs": [],
   "source": [
    "import numpy as np\n",
    "import teneva\n",
    "from time import perf_counter as tpc\n",
    "np.random.seed(42)"
   ]
  },
  {
   "cell_type": "markdown",
   "id": "8c61a663-afc4-4fbf-94bf-afedb3157328",
   "metadata": {},
   "source": [
    "## Function `optima_func_tt_beam`"
   ]
  },
  {
   "cell_type": "markdown",
   "id": "823c49e9-c1ea-48cf-904c-e6e2f3ba6f35",
   "metadata": {},
   "source": [
    "Find maximum modulo points in the functional TT-tensor."
   ]
  },
  {
   "cell_type": "code",
   "execution_count": 2,
   "id": "cb0878d0-1efb-4112-8a15-04c883066b85",
   "metadata": {
    "tags": []
   },
   "outputs": [
    {
     "name": "stdout",
     "output_type": "stream",
     "text": [
      "x opt appr : [[-0.32574766  0.60650301  0.8935902   0.57796563 -0.94833635]\n",
      " [-0.32574766  0.60650301  0.8935902   0.57796563  0.15852408]\n",
      " [-0.32574766  0.60650301  0.74642396 -0.9809905  -0.64170661]]\n",
      "y opt appr : [-16.60387436  15.62801787  14.50242635]\n"
     ]
    }
   ],
   "source": [
    "n = [20, 18, 16, 14, 12]  # Shape of the tensor\n",
    "Y = teneva.rand(n, r=4)   # Random TT-tensor with rank 4\n",
    "A = teneva.func_int(Y)    # TT-tensor of interpolation coefficients\n",
    "\n",
    "x_opt = teneva.optima_func_tt_beam(A, k=3)\n",
    "y_opt = teneva.func_get(x_opt, A, -1, 1)\n",
    "\n",
    "print(f'x opt appr :', x_opt)\n",
    "print(f'y opt appr : {y_opt}')"
   ]
  },
  {
   "cell_type": "markdown",
   "id": "5157c326-a02c-41fc-b82d-af0d55ddfb18",
   "metadata": {},
   "source": [
    "---"
   ]
  }
 ],
 "metadata": {
  "kernelspec": {
   "display_name": "Python 3 (ipykernel)",
   "language": "python",
   "name": "python3"
  },
  "language_info": {
   "codemirror_mode": {
    "name": "ipython",
    "version": 3
   },
   "file_extension": ".py",
   "mimetype": "text/x-python",
   "name": "python",
   "nbconvert_exporter": "python",
   "pygments_lexer": "ipython3",
   "version": "3.8.16"
  }
 },
 "nbformat": 4,
 "nbformat_minor": 5
}

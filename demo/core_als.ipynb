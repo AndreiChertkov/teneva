{
 "cells": [
  {
   "cell_type": "markdown",
   "id": "e51b9291-f33c-40ad-96ee-e2f9454ffc69",
   "metadata": {},
   "source": [
    "**Demo for `teneva.core.als`**\n",
    "\n",
    "---\n",
    "\n",
    "This module contains the function `als` which computes the TT-approximation for the tensor by TT-ALS algorithm, using given random samples."
   ]
  },
  {
   "cell_type": "markdown",
   "id": "3896a55c-1131-44fc-b746-1433ad4ddb08",
   "metadata": {},
   "source": [
    "## Loading and importing modules"
   ]
  },
  {
   "cell_type": "code",
   "execution_count": 1,
   "id": "9941ed2c-6272-4144-8c96-4e800f0b5c49",
   "metadata": {},
   "outputs": [],
   "source": [
    "import numpy as np\n",
    "import teneva\n",
    "from time import perf_counter as tpc\n",
    "np.random.seed(42)"
   ]
  },
  {
   "cell_type": "markdown",
   "id": "3f6437a4-a93e-4265-9fc6-7d4f46a76c4d",
   "metadata": {},
   "source": [
    "## Function `als`"
   ]
  },
  {
   "cell_type": "markdown",
   "id": "cfe8a9e9-ac37-4f38-8008-f81f857ad833",
   "metadata": {},
   "source": [
    "Build TT-tensor by TT-ALS from the given random tensor samples."
   ]
  },
  {
   "cell_type": "code",
   "execution_count": 2,
   "id": "d905d98d-0183-4522-9395-60a001494b18",
   "metadata": {},
   "outputs": [],
   "source": [
    "d         = 5                           # Dimension of the function\n",
    "a         = [-5., -4., -3., -2., -1.]   # Lower bounds for spatial grid\n",
    "b         = [+6., +3., +3., +1., +2.]   # Upper bounds for spatial grid\n",
    "n         = [ 20,  18,  16,  14,  12]   # Shape of the tensor"
   ]
  },
  {
   "cell_type": "code",
   "execution_count": 3,
   "id": "aba30907-47c9-42af-b49b-555ed7ad96c9",
   "metadata": {},
   "outputs": [],
   "source": [
    "m         = 1.E+4                       # Number of calls to target function\n",
    "nswp      = 50                          # Sweep number for ALS iterations\n",
    "r         = 3                           # TT-rank of the initial random tensor"
   ]
  },
  {
   "cell_type": "markdown",
   "id": "e588a535-a646-4545-9f10-e4d09e0255d2",
   "metadata": {},
   "source": [
    "We set the target function (the function takes as input a set of tensor multi-indices I of the shape [samples, dimension], which are transformed into points X of a uniform spatial grid using the function \"ind_to_poi\"):"
   ]
  },
  {
   "cell_type": "code",
   "execution_count": 4,
   "id": "391dd65e-ca27-46f8-a0cc-15a0e3919f08",
   "metadata": {},
   "outputs": [],
   "source": [
    "from scipy.optimize import rosen\n",
    "def func(I): \n",
    "    X = teneva.ind_to_poi(I, a, b, n)\n",
    "    return rosen(X.T)"
   ]
  },
  {
   "cell_type": "markdown",
   "id": "bcdae82e-67d7-4177-97e2-d097d5738bbe",
   "metadata": {},
   "source": [
    "We prepare train data from the LHS random distribution:"
   ]
  },
  {
   "cell_type": "code",
   "execution_count": 5,
   "id": "fe4f4875-86df-4026-9129-c400a502e302",
   "metadata": {},
   "outputs": [],
   "source": [
    "I_trn = teneva.sample_lhs(n, m) \n",
    "Y_trn = func(I_trn)"
   ]
  },
  {
   "cell_type": "markdown",
   "id": "61880140-49a5-404e-9ab1-5172c88e52fa",
   "metadata": {},
   "source": [
    "We prepare test data from as a random tensor multi-indices:"
   ]
  },
  {
   "cell_type": "code",
   "execution_count": 6,
   "id": "1a65ce75-e437-41fd-834c-a6a6a610ab7a",
   "metadata": {},
   "outputs": [],
   "source": [
    "# Test data:\n",
    "\n",
    "# Number of test points:\n",
    "m_tst = int(1.E+4)\n",
    "\n",
    "# Random multi-indices for the test points:\n",
    "I_tst = np.vstack([np.random.choice(k, m_tst) for k in n]).T\n",
    "\n",
    "# Function values for the test points:\n",
    "Y_tst = func(I_tst)"
   ]
  },
  {
   "cell_type": "markdown",
   "id": "5588bcc8-939a-4f9d-aac5-58f073e6ab9c",
   "metadata": {},
   "source": [
    "We build the TT-tensor, which approximates the target function (we generate random initial r-rank approximation in the TT-format using the function \"rand\" and then compute the resulting TT-tensor by TT-ALS):"
   ]
  },
  {
   "cell_type": "code",
   "execution_count": 7,
   "id": "fec32781-80f8-494e-a25a-a399c916164f",
   "metadata": {},
   "outputs": [
    {
     "name": "stdout",
     "output_type": "stream",
     "text": [
      "Build time     :       1.01\n"
     ]
    }
   ],
   "source": [
    "t = tpc()\n",
    "Y = teneva.rand(n, r)\n",
    "Y = teneva.als(I_trn, Y_trn, Y, nswp)\n",
    "t = tpc() - t\n",
    "\n",
    "print(f'Build time     : {t:-10.2f}')"
   ]
  },
  {
   "cell_type": "markdown",
   "id": "e74ce8d7-64d1-4ae1-9041-5500a4f8465b",
   "metadata": {},
   "source": [
    "And now we can check the result:"
   ]
  },
  {
   "cell_type": "code",
   "execution_count": 8,
   "id": "b2cede44-065d-42b7-90bf-21c95d1fbabf",
   "metadata": {},
   "outputs": [
    {
     "name": "stdout",
     "output_type": "stream",
     "text": [
      "Error on train :   6.78e-10\n",
      "Error on test  :   8.44e-10\n"
     ]
    }
   ],
   "source": [
    "# Fast getter for TT-tensor values:\n",
    "get = teneva.getter(Y)                     \n",
    "\n",
    "# Compute approximation in train points:\n",
    "Z = np.array([get(i) for i in I_trn])\n",
    "\n",
    "# Accuracy of the result for train points:\n",
    "e_trn = np.linalg.norm(Z - Y_trn)          \n",
    "e_trn /= np.linalg.norm(Y_trn)\n",
    "\n",
    "# Compute approximation in test points:\n",
    "Z = np.array([get(i) for i in I_tst])\n",
    "\n",
    "# Accuracy of the result for test points:\n",
    "e_tst = np.linalg.norm(Z - Y_tst)          \n",
    "e_tst /= np.linalg.norm(Y_tst)\n",
    "\n",
    "print(f'Error on train : {e_trn:-10.2e}')\n",
    "print(f'Error on test  : {e_tst:-10.2e}')"
   ]
  },
  {
   "cell_type": "markdown",
   "id": "37487e85-4cba-4469-96e3-836a50c69215",
   "metadata": {},
   "source": [
    "We can also set a validation data set and specify as a stop criterion the accuracy of the TT-approximation on this data (and we can also present the logs):"
   ]
  },
  {
   "cell_type": "code",
   "execution_count": 9,
   "id": "8aa380dc-4782-4cc1-bea7-60d215cc2537",
   "metadata": {},
   "outputs": [],
   "source": [
    "# Validation data:\n",
    "\n",
    "# Number of validation points:\n",
    "m_vld = int(1.E+3)\n",
    "\n",
    "# Random multi-indices for the validation points:\n",
    "I_vld = np.vstack([np.random.choice(k, m_vld) for k in n]).T\n",
    "\n",
    "# Function values for the validation points:\n",
    "Y_vld = func(I_vld)"
   ]
  },
  {
   "cell_type": "code",
   "execution_count": 10,
   "id": "d70d6d8e-84b8-428a-b8b7-5e652533c201",
   "metadata": {},
   "outputs": [
    {
     "name": "stdout",
     "output_type": "stream",
     "text": [
      "# pre | time:      0.594 | rank:   3.0 | err: 1.0e+00 | \n",
      "#   1 | time:      1.108 | rank:   3.0 | err: 1.1e+00 | eps: 3.3e+03 | \n",
      "#   2 | time:      1.679 | rank:   3.0 | err: 1.2e+00 | eps: 8.2e-01 | \n",
      "#   3 | time:      2.298 | rank:   3.0 | err: 1.1e+00 | eps: 4.7e-01 | \n",
      "#   4 | time:      2.807 | rank:   3.0 | err: 6.7e-01 | eps: 1.1e+00 | \n",
      "#   5 | time:      3.384 | rank:   3.0 | err: 1.6e-01 | eps: 6.8e-01 | \n",
      "#   6 | time:      3.973 | rank:   3.0 | err: 5.8e-02 | eps: 1.3e-01 | \n",
      "#   7 | time:      4.548 | rank:   3.0 | err: 1.7e-02 | eps: 5.2e-02 | \n",
      "#   8 | time:      5.037 | rank:   3.0 | err: 3.4e-03 | eps: 1.6e-02 | \n",
      "#   9 | time:      5.580 | rank:   3.0 | err: 7.0e-04 | eps: 2.7e-03 | \n",
      "#  10 | time:      6.145 | rank:   3.0 | err: 1.8e-04 | eps: 5.4e-04 | \n",
      "#  11 | time:      6.661 | rank:   3.0 | err: 4.8e-05 | eps: 1.3e-04 | \n",
      "#  12 | time:      7.237 | rank:   3.0 | err: 1.4e-05 | eps: 3.4e-05 | \n",
      "#  13 | time:      7.815 | rank:   3.0 | err: 4.0e-06 | eps: 9.7e-06 | stop: e_vld | \n",
      "Build time     :       7.82\n"
     ]
    }
   ],
   "source": [
    "t = tpc()\n",
    "Y = teneva.rand(n, r)\n",
    "Y = teneva.als(I_trn, Y_trn, Y, nswp, I_vld=I_vld, Y_vld=Y_vld, e_vld=1.E-5, log=True)\n",
    "t = tpc() - t\n",
    "\n",
    "print(f'Build time     : {t:-10.2f}')"
   ]
  },
  {
   "cell_type": "markdown",
   "id": "1f35255a-78e8-45d7-bda4-b389596b293b",
   "metadata": {},
   "source": [
    "We can use helper functions to present the resulting accuracy:"
   ]
  },
  {
   "cell_type": "code",
   "execution_count": 11,
   "id": "609329e5-6dd1-4570-b481-f806bac5f36c",
   "metadata": {},
   "outputs": [
    {
     "name": "stdout",
     "output_type": "stream",
     "text": [
      "Error on train :   3.03e-06\n",
      "Error on valid.:   4.01e-06\n",
      "Error on test  :   3.74e-06\n"
     ]
    }
   ],
   "source": [
    "print(f'Error on train : {teneva.accuracy_on_data(Y, I_trn, Y_trn):-10.2e}')\n",
    "print(f'Error on valid.: {teneva.accuracy_on_data(Y, I_vld, Y_vld):-10.2e}')\n",
    "print(f'Error on test  : {teneva.accuracy_on_data(Y, I_tst, Y_tst):-10.2e}')"
   ]
  },
  {
   "cell_type": "markdown",
   "id": "28018274-2dbe-456d-a7bb-52601f7cb0e9",
   "metadata": {},
   "source": [
    "We may also set the value of relative rate of solution change to stop the iterations:"
   ]
  },
  {
   "cell_type": "code",
   "execution_count": 12,
   "id": "53774212-0c5d-467b-859e-12a353727955",
   "metadata": {},
   "outputs": [
    {
     "name": "stdout",
     "output_type": "stream",
     "text": [
      "# pre | time:      0.485 | rank:   3.0 | err: 1.0e+00 | \n",
      "#   1 | time:      1.033 | rank:   3.0 | err: 1.1e+00 | eps: 3.5e+03 | \n",
      "#   2 | time:      1.621 | rank:   3.0 | err: 1.3e+00 | eps: 8.3e-01 | \n",
      "#   3 | time:      2.199 | rank:   3.0 | err: 1.3e+00 | eps: 4.8e-01 | \n",
      "#   4 | time:      2.698 | rank:   3.0 | err: 1.3e+00 | eps: 3.7e-01 | \n",
      "#   5 | time:      3.240 | rank:   3.0 | err: 1.2e+00 | eps: 4.8e-01 | \n",
      "#   6 | time:      3.803 | rank:   3.0 | err: 5.9e-01 | eps: 9.7e-01 | \n",
      "#   7 | time:      4.354 | rank:   3.0 | err: 1.5e-01 | eps: 5.6e-01 | \n",
      "#   8 | time:      4.899 | rank:   3.0 | err: 9.8e-02 | eps: 1.3e-01 | \n",
      "#   9 | time:      5.491 | rank:   3.0 | err: 4.3e-02 | eps: 5.3e-02 | \n",
      "#  10 | time:      6.056 | rank:   3.0 | err: 1.0e-02 | eps: 3.6e-02 | \n",
      "#  11 | time:      6.541 | rank:   3.0 | err: 3.5e-03 | eps: 7.6e-03 | \n",
      "#  12 | time:      7.078 | rank:   3.0 | err: 9.5e-04 | eps: 2.3e-03 | \n",
      "#  13 | time:      7.647 | rank:   3.0 | err: 1.9e-04 | eps: 6.4e-04 | \n",
      "#  14 | time:      8.145 | rank:   3.0 | err: 4.5e-05 | eps: 1.2e-04 | \n",
      "#  15 | time:      8.694 | rank:   3.0 | err: 1.2e-05 | eps: 3.0e-05 | \n",
      "#  16 | time:      9.269 | rank:   3.0 | err: 3.2e-06 | eps: 7.8e-06 | \n",
      "#  17 | time:      9.781 | rank:   3.0 | err: 8.8e-07 | eps: 2.1e-06 | \n",
      "#  18 | time:     10.359 | rank:   3.0 | err: 2.5e-07 | eps: 5.9e-07 | stop: e | \n",
      "Build time     :      10.36\n"
     ]
    }
   ],
   "source": [
    "t = tpc()\n",
    "Y = teneva.rand(n, r)\n",
    "Y = teneva.als(I_trn, Y_trn, Y, e=1.E-6, I_vld=I_vld, Y_vld=Y_vld, log=True)\n",
    "t = tpc() - t\n",
    "\n",
    "print(f'Build time     : {t:-10.2f}')"
   ]
  },
  {
   "cell_type": "code",
   "execution_count": 13,
   "id": "cec919e1-c549-4c41-90d8-9f317812c921",
   "metadata": {},
   "outputs": [
    {
     "name": "stdout",
     "output_type": "stream",
     "text": [
      "Error on train :   1.76e-07\n",
      "Error on valid.:   2.47e-07\n",
      "Error on test  :   2.22e-07\n"
     ]
    }
   ],
   "source": [
    "print(f'Error on train : {teneva.accuracy_on_data(Y, I_trn, Y_trn):-10.2e}')\n",
    "print(f'Error on valid.: {teneva.accuracy_on_data(Y, I_vld, Y_vld):-10.2e}')\n",
    "print(f'Error on test  : {teneva.accuracy_on_data(Y, I_tst, Y_tst):-10.2e}')"
   ]
  },
  {
   "cell_type": "markdown",
   "id": "2f57a325-9165-4657-888f-2cd5f3578581",
   "metadata": {},
   "source": [
    "Note that we can use TT-ANOVA as an initial approximation (it will lead to faster convergence):"
   ]
  },
  {
   "cell_type": "code",
   "execution_count": 14,
   "id": "56e6db8a-e035-4b74-8a01-b93686844263",
   "metadata": {},
   "outputs": [
    {
     "name": "stdout",
     "output_type": "stream",
     "text": [
      "# pre | time:      0.561 | rank:   3.0 | err: 1.1e-01 | \n",
      "#   1 | time:      1.101 | rank:   3.0 | err: 2.8e-02 | eps: 1.1e-01 | \n",
      "#   2 | time:      1.680 | rank:   3.0 | err: 4.2e-03 | eps: 2.7e-02 | \n",
      "#   3 | time:      2.298 | rank:   3.0 | err: 2.7e-03 | eps: 3.1e-03 | \n",
      "#   4 | time:      2.897 | rank:   3.0 | err: 3.5e-04 | eps: 3.1e-03 | \n",
      "#   5 | time:      3.469 | rank:   3.0 | err: 5.2e-05 | eps: 3.2e-04 | \n",
      "#   6 | time:      4.024 | rank:   3.0 | err: 1.1e-05 | eps: 4.1e-05 | \n",
      "#   7 | time:      4.615 | rank:   3.0 | err: 2.8e-06 | eps: 8.5e-06 | stop: e_vld | \n",
      "Build time     :       4.62\n"
     ]
    }
   ],
   "source": [
    "t = tpc()\n",
    "Y = teneva.anova(I_trn, Y_trn, r)\n",
    "Y = teneva.als(I_trn, Y_trn, Y, nswp, I_vld=I_vld, Y_vld=Y_vld, e_vld=1.E-5, log=True)\n",
    "t = tpc() - t\n",
    "\n",
    "print(f'Build time     : {t:-10.2f}')"
   ]
  },
  {
   "cell_type": "code",
   "execution_count": 15,
   "id": "4a4dcbae-d810-4a8e-bbe9-8f94c5e346c4",
   "metadata": {},
   "outputs": [
    {
     "name": "stdout",
     "output_type": "stream",
     "text": [
      "Error on train :   2.13e-06\n",
      "Error on valid.:   2.75e-06\n",
      "Error on test  :   2.61e-06\n"
     ]
    }
   ],
   "source": [
    "print(f'Error on train : {teneva.accuracy_on_data(Y, I_trn, Y_trn):-10.2e}')\n",
    "print(f'Error on valid.: {teneva.accuracy_on_data(Y, I_vld, Y_vld):-10.2e}')\n",
    "print(f'Error on test  : {teneva.accuracy_on_data(Y, I_tst, Y_tst):-10.2e}')"
   ]
  },
  {
   "cell_type": "markdown",
   "id": "f9518062-f63f-48b1-b5cc-325998cdf696",
   "metadata": {},
   "source": [
    "## Function `als2`"
   ]
  },
  {
   "cell_type": "markdown",
   "id": "19ee3824-0224-475f-a0d7-00edac321699",
   "metadata": {},
   "source": [
    "Build TT-tensor by TT-ALS from the given random tensor samples. This is the alternative realization of the algorithm. The version from \"als\" function in many cases works better and much faster."
   ]
  },
  {
   "cell_type": "code",
   "execution_count": 16,
   "id": "c29e438c-befd-4b0f-be7c-406ab6bd92cd",
   "metadata": {},
   "outputs": [],
   "source": [
    "d         = 5                           # Dimension of the function\n",
    "a         = [-5., -4., -3., -2., -1.]   # Lower bounds for spatial grid\n",
    "b         = [+6., +3., +3., +1., +2.]   # Upper bounds for spatial grid\n",
    "n         = [ 20,  18,  16,  14,  12]   # Shape of the tensor"
   ]
  },
  {
   "cell_type": "code",
   "execution_count": 17,
   "id": "37e91a49-b5ec-4bc1-bbe8-dc91fee12296",
   "metadata": {},
   "outputs": [],
   "source": [
    "m         = 1.E+4                       # Number of calls to target function\n",
    "nswp      = 50                          # Sweep number for ALS iterations\n",
    "r         = 3                           # TT-rank of the initial random tensor"
   ]
  },
  {
   "cell_type": "markdown",
   "id": "a2e5a670-bab4-4bb1-9d50-e02e7818e73e",
   "metadata": {},
   "source": [
    "We set the target function (the function takes as input a set of tensor multi-indices I of the shape [samples, dimension], which are transformed into points X of a uniform spatial grid using the function \"ind_to_poi\"):"
   ]
  },
  {
   "cell_type": "code",
   "execution_count": 18,
   "id": "35b6bf4d-4a3f-4fd0-8ae0-c2e3f0ffbed8",
   "metadata": {},
   "outputs": [],
   "source": [
    "from scipy.optimize import rosen\n",
    "def func(I): \n",
    "    X = teneva.ind_to_poi(I, a, b, n)\n",
    "    return rosen(X.T)"
   ]
  },
  {
   "cell_type": "markdown",
   "id": "86411733-1632-4894-b8ca-a3cd035b11a2",
   "metadata": {},
   "source": [
    "We prepare train data from the LHS random distribution:"
   ]
  },
  {
   "cell_type": "code",
   "execution_count": 19,
   "id": "338aac36-fb02-4536-997f-d59e436d4f9d",
   "metadata": {},
   "outputs": [],
   "source": [
    "I_trn = teneva.sample_lhs(n, m) \n",
    "Y_trn = func(I_trn)"
   ]
  },
  {
   "cell_type": "markdown",
   "id": "0a396ffb-4885-4cd7-8324-000dc8ffbd98",
   "metadata": {},
   "source": [
    "We prepare test data from as a random tensor multi-indices:"
   ]
  },
  {
   "cell_type": "code",
   "execution_count": 20,
   "id": "20be1c91-21d7-4a14-abd3-a3cf758f73e7",
   "metadata": {},
   "outputs": [],
   "source": [
    "# Test data:\n",
    "\n",
    "# Number of test points:\n",
    "m_tst = int(1.E+4)\n",
    "\n",
    "# Random multi-indices for the test points:\n",
    "I_tst = np.vstack([np.random.choice(k, m_tst) for k in n]).T\n",
    "\n",
    "# Function values for the test points:\n",
    "Y_tst = func(I_tst)"
   ]
  },
  {
   "cell_type": "markdown",
   "id": "6e2f4bbe-f88b-4fef-9394-1ab82d8184b0",
   "metadata": {},
   "source": [
    "We build the TT-tensor, which approximates the target function (we generate random initial r-rank approximation in the TT-format using the function \"rand\" and then compute the resulting TT-tensor by TT-ALS):"
   ]
  },
  {
   "cell_type": "code",
   "execution_count": 21,
   "id": "90c2936e-e5dd-4159-8264-990adcf06eec",
   "metadata": {},
   "outputs": [
    {
     "name": "stdout",
     "output_type": "stream",
     "text": [
      "Build time     :      87.32\n"
     ]
    }
   ],
   "source": [
    "t = tpc()\n",
    "Y = teneva.rand(n, r)\n",
    "Y = teneva.als2(I_trn, Y_trn, Y, nswp)\n",
    "t = tpc() - t\n",
    "\n",
    "print(f'Build time     : {t:-10.2f}')"
   ]
  },
  {
   "cell_type": "markdown",
   "id": "b6206e0a-d3c8-4f2d-92c3-32882732cf77",
   "metadata": {},
   "source": [
    "And now we can check the result:"
   ]
  },
  {
   "cell_type": "code",
   "execution_count": 22,
   "id": "65babfa9-5889-46df-8ab5-f99dcbc6131b",
   "metadata": {},
   "outputs": [
    {
     "name": "stdout",
     "output_type": "stream",
     "text": [
      "Error on train :   7.53e-01\n",
      "Error on test  :   2.61e+00\n"
     ]
    }
   ],
   "source": [
    "# Fast getter for TT-tensor values:\n",
    "get = teneva.getter(Y)                     \n",
    "\n",
    "# Compute approximation in train points:\n",
    "Z = np.array([get(i) for i in I_trn])\n",
    "\n",
    "# Accuracy of the result for train points:\n",
    "e_trn = np.linalg.norm(Z - Y_trn)          \n",
    "e_trn /= np.linalg.norm(Y_trn)\n",
    "\n",
    "# Compute approximation in test points:\n",
    "Z = np.array([get(i) for i in I_tst])\n",
    "\n",
    "# Accuracy of the result for test points:\n",
    "e_tst = np.linalg.norm(Z - Y_tst)          \n",
    "e_tst /= np.linalg.norm(Y_tst)\n",
    "\n",
    "print(f'Error on train : {e_trn:-10.2e}')\n",
    "print(f'Error on test  : {e_tst:-10.2e}')"
   ]
  },
  {
   "cell_type": "markdown",
   "id": "5157c326-a02c-41fc-b82d-af0d55ddfb18",
   "metadata": {},
   "source": [
    "---"
   ]
  }
 ],
 "metadata": {
  "kernelspec": {
   "display_name": "Python 3",
   "language": "python",
   "name": "python3"
  },
  "language_info": {
   "codemirror_mode": {
    "name": "ipython",
    "version": 3
   },
   "file_extension": ".py",
   "mimetype": "text/x-python",
   "name": "python",
   "nbconvert_exporter": "python",
   "pygments_lexer": "ipython3",
   "version": "3.8.8"
  }
 },
 "nbformat": 4,
 "nbformat_minor": 5
}

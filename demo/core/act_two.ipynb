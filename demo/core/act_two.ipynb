{
 "cells": [
  {
   "cell_type": "markdown",
   "id": "e51b9291-f33c-40ad-96ee-e2f9454ffc69",
   "metadata": {},
   "source": [
    "**Demo for `teneva.core.act_two`**\n",
    "\n",
    "---\n",
    "\n",
    "This module contains the basic operations with a pair of TT-tensors (Y1, Y2), including \"add\", \"mul\", \"sub\", etc."
   ]
  },
  {
   "cell_type": "markdown",
   "id": "3896a55c-1131-44fc-b746-1433ad4ddb08",
   "metadata": {},
   "source": [
    "## Loading and importing modules"
   ]
  },
  {
   "cell_type": "code",
   "execution_count": 1,
   "id": "9941ed2c-6272-4144-8c96-4e800f0b5c49",
   "metadata": {},
   "outputs": [],
   "source": [
    "import numpy as np\n",
    "import teneva\n",
    "from time import perf_counter as tpc\n",
    "np.random.seed(42)"
   ]
  },
  {
   "cell_type": "markdown",
   "id": "cdeb7c7a-10f7-44ac-960e-8e32a8251906",
   "metadata": {},
   "source": [
    "## Function `accuracy`"
   ]
  },
  {
   "cell_type": "markdown",
   "id": "5b41e0b9-472d-4db4-9757-dbbea7a25440",
   "metadata": {},
   "source": [
    "Compute $\\frac{|| Y_1 - Y_2 ||}{|| Y_2 ||}$ for tensors in the TT-format."
   ]
  },
  {
   "cell_type": "code",
   "execution_count": 2,
   "id": "b7f23454-1109-4f7d-847e-60daa87109a1",
   "metadata": {},
   "outputs": [
    {
     "name": "stdout",
     "output_type": "stream",
     "text": [
      "Accuracy     : 1.00e-04\n"
     ]
    }
   ],
   "source": [
    "Y1 = teneva.tensor_rand([5]*10, 2) # 10-dim random TT-tensor with TT-rank 2\n",
    "Z1 = teneva.mul(1.E-4, Y1)         # The TT-tensor Y1 + eps * Y1 (eps = 1.E-4)\n",
    "\n",
    "Y2 = teneva.add(Y1, Z1) \n",
    "\n",
    "eps = teneva.accuracy(Y1, Y2)      # The relative difference (\"accuracy\")\n",
    "\n",
    "print(f'Accuracy     : {eps:-8.2e}')"
   ]
  },
  {
   "cell_type": "markdown",
   "id": "c2cfea5d-2280-42c7-9a70-a1ca4f3c720f",
   "metadata": {},
   "source": [
    "Note that this function works correctly even for very large dimension values due to the use of balancing in the scalar product:"
   ]
  },
  {
   "cell_type": "code",
   "execution_count": 3,
   "id": "9256f0c6-de99-408c-a1a3-c264c30e7a4d",
   "metadata": {},
   "outputs": [
    {
     "name": "stdout",
     "output_type": "stream",
     "text": [
      "d =    10 | eps =  5.0e-01 | expected value 0.5\n",
      "d =    50 | eps =  5.0e-01 | expected value 0.5\n",
      "d =   100 | eps =  5.0e-01 | expected value 0.5\n",
      "d =   250 | eps =  5.0e-01 | expected value 0.5\n",
      "d =  1000 | eps =  5.0e-01 | expected value 0.5\n",
      "d = 10000 | eps =  5.0e-01 | expected value 0.5\n"
     ]
    }
   ],
   "source": [
    "for d in [10, 50, 100, 250, 1000, 10000]:\n",
    "    Y1 = teneva.tensor_rand([10]*d, r=2)\n",
    "    Y2 = teneva.add(Y1, Y1)\n",
    "\n",
    "    eps = teneva.accuracy(Y1, Y2)\n",
    "\n",
    "    print(f'd = {d:-5d} | eps = {eps:-8.1e} | expected value 0.5')"
   ]
  },
  {
   "cell_type": "markdown",
   "id": "4cc4a355-734c-4609-9334-43dae8fd1fe2",
   "metadata": {},
   "source": [
    "## Function `add`"
   ]
  },
  {
   "cell_type": "markdown",
   "id": "ef9280eb-4bfa-4e09-8b93-48a82bf50f6b",
   "metadata": {},
   "source": [
    "Compute element wise sum $Y = Y_1 + Y_2$ for the given TT-tensors $Y_1$ and $Y_2$ presented as lists of TT-cores."
   ]
  },
  {
   "cell_type": "code",
   "execution_count": 4,
   "id": "5d604a6a-c385-496f-90e4-77e542b28098",
   "metadata": {},
   "outputs": [
    {
     "name": "stdout",
     "output_type": "stream",
     "text": [
      "TT-tensor    10D : |5| |5| |5| |5| |5| |5| |5| |5| |5| |5|\n",
      "<rank>  =    5.0 :   \\5/ \\5/ \\5/ \\5/ \\5/ \\5/ \\5/ \\5/ \\5/\n"
     ]
    }
   ],
   "source": [
    "Y1 = teneva.tensor_rand([5]*10, 2) # 10-dim random TT-tensor with TT-rank 2\n",
    "Y2 = teneva.tensor_rand([5]*10, 3) # 10-dim random TT-tensor with TT-rank 3\n",
    "\n",
    "Y = teneva.add(Y1, Y2) # Compute the sum of Y1 and Y2\n",
    "\n",
    "teneva.show(Y)         # Print the resulting TT-tensor (note that it has TT-rank 2 + 3 = 5)"
   ]
  },
  {
   "cell_type": "code",
   "execution_count": 5,
   "id": "384fbadb-7d2b-487a-b24a-6feb8a08fe67",
   "metadata": {},
   "outputs": [
    {
     "name": "stdout",
     "output_type": "stream",
     "text": [
      "Error     : 8.70e-17\n"
     ]
    }
   ],
   "source": [
    "Y1_full = teneva.full(Y1) # Compute tensors in the full format\n",
    "Y2_full = teneva.full(Y2) # to check the result\n",
    "Y_full = teneva.full(Y)\n",
    "\n",
    "Z_full = Y1_full + Y2_full\n",
    "\n",
    "e = np.linalg.norm(Y_full - Z_full) # Compute error for TT-tensor vs full tensor \n",
    "e /= np.linalg.norm(Z_full)\n",
    "\n",
    "print(f'Error     : {e:-8.2e}')     # Rel. error for TT-tensor vs full tensor"
   ]
  },
  {
   "cell_type": "markdown",
   "id": "c75d697a-ded3-4989-9055-b3e1e93a24a2",
   "metadata": {},
   "source": [
    "This function also supports float argument:"
   ]
  },
  {
   "cell_type": "code",
   "execution_count": 6,
   "id": "784be043-15a9-443b-b0ab-c5de5efda124",
   "metadata": {},
   "outputs": [
    {
     "name": "stdout",
     "output_type": "stream",
     "text": [
      "TT-tensor    10D : |5| |5| |5| |5| |5| |5| |5| |5| |5| |5|\n",
      "<rank>  =    3.0 :   \\3/ \\3/ \\3/ \\3/ \\3/ \\3/ \\3/ \\3/ \\3/\n"
     ]
    }
   ],
   "source": [
    "Y1 = teneva.tensor_rand([5]*10, 2) # 10-dim random TT-tensor with TT-rank 2\n",
    "Y2 = 42.                           # Just a number\n",
    "\n",
    "Y = teneva.add(Y1, Y2) # Compute the sum of Y1 and Y2\n",
    "\n",
    "teneva.show(Y)         # Print the resulting TT-tensor (note that it has TT-rank 2 + 1 = 3)"
   ]
  },
  {
   "cell_type": "code",
   "execution_count": 7,
   "id": "12551932-ae62-4afa-8af3-3b91c1074960",
   "metadata": {},
   "outputs": [
    {
     "name": "stdout",
     "output_type": "stream",
     "text": [
      "TT-tensor    10D : |5| |5| |5| |5| |5| |5| |5| |5| |5| |5|\n",
      "<rank>  =    3.0 :   \\3/ \\3/ \\3/ \\3/ \\3/ \\3/ \\3/ \\3/ \\3/\n"
     ]
    }
   ],
   "source": [
    "Y1 = 42.                           # Just a number\n",
    "Y2 = teneva.tensor_rand([5]*10, 2) # 10-dim random TT-tensor with TT-rank 2\n",
    "\n",
    "Y = teneva.add(Y1, Y2) # Compute the sum of Y1 and Y2\n",
    "\n",
    "teneva.show(Y)         # Print the resulting TT-tensor (note that it has TT-rank 2 + 1 = 3)"
   ]
  },
  {
   "cell_type": "code",
   "execution_count": 8,
   "id": "726878d6-c4ee-4c4e-82ac-46dc93671d82",
   "metadata": {},
   "outputs": [
    {
     "name": "stdout",
     "output_type": "stream",
     "text": [
      "Error     : 4.97e-16\n"
     ]
    }
   ],
   "source": [
    "Y1_full = 42.             # Compute tensors in the full format\n",
    "Y2_full = teneva.full(Y2) # to check the result\n",
    "Y_full = teneva.full(Y)\n",
    "\n",
    "Z_full = Y1_full + Y2_full\n",
    "\n",
    "e = np.linalg.norm(Y_full - Z_full) # Compute error for TT-tensor vs full tensor \n",
    "e /= np.linalg.norm(Z_full)\n",
    "\n",
    "print(f'Error     : {e:-8.2e}')     # Rel. error for TT-tensor vs full tensor"
   ]
  },
  {
   "cell_type": "markdown",
   "id": "e053506c-0a04-46d0-b85a-3ef17702ea71",
   "metadata": {},
   "source": [
    "If both arguments are numbers, then function returns the sum of numbers:"
   ]
  },
  {
   "cell_type": "code",
   "execution_count": 9,
   "id": "0f76fbd7-10a8-4260-9814-a2c709c0b654",
   "metadata": {},
   "outputs": [
    {
     "name": "stdout",
     "output_type": "stream",
     "text": [
      "42.0\n"
     ]
    }
   ],
   "source": [
    "Y1 = 40.               # Just a number\n",
    "Y2 = 2                 # Just a number\n",
    "Y = teneva.add(Y1, Y2) # Compute the sum of Y1 and Y2\n",
    "print(Y)               # The result is a number"
   ]
  },
  {
   "cell_type": "markdown",
   "id": "a2e3c3be-fc14-4ccb-96aa-823a573fa509",
   "metadata": {},
   "source": [
    "## Function `mul`"
   ]
  },
  {
   "cell_type": "markdown",
   "id": "85a3ffc1-63a4-4eb0-a40d-0db7a81e2723",
   "metadata": {},
   "source": [
    "Compute element wise product $Y = Y_1 + Y_2$ for the given TT-tensors $Y_1$ and $Y_2$ presented as lists of TT-cores."
   ]
  },
  {
   "cell_type": "code",
   "execution_count": 10,
   "id": "2f96fffb-7b02-4a6f-ab65-7d439b26071c",
   "metadata": {},
   "outputs": [],
   "source": [
    "Y1 = teneva.tensor_rand([5]*10, 2) # 10-dim random TT-tensor with TT-rank 2\n",
    "Y2 = teneva.tensor_rand([5]*10, 3) # 10-dim random TT-tensor with TT-rank 3"
   ]
  },
  {
   "cell_type": "code",
   "execution_count": 11,
   "id": "488fdc89-d172-415d-90a7-2eb5af651cda",
   "metadata": {},
   "outputs": [
    {
     "name": "stdout",
     "output_type": "stream",
     "text": [
      "TT-tensor    10D : |5| |5| |5| |5| |5| |5| |5| |5| |5| |5|\n",
      "<rank>  =    6.0 :   \\6/ \\6/ \\6/ \\6/ \\6/ \\6/ \\6/ \\6/ \\6/\n"
     ]
    }
   ],
   "source": [
    "Y = teneva.mul(Y1, Y2) # Compute the product of Y1 and Y2\n",
    "teneva.show(Y)         # Print the resulting TT-tensor (note that it has TT-rank 2 x 3 = 6)"
   ]
  },
  {
   "cell_type": "code",
   "execution_count": 12,
   "id": "754a1552-d74c-4c22-8358-8966594c7f01",
   "metadata": {},
   "outputs": [
    {
     "name": "stdout",
     "output_type": "stream",
     "text": [
      "Error     : 4.31e-16\n"
     ]
    }
   ],
   "source": [
    "Y1_full = teneva.full(Y1) # Compute tensors in the full format\n",
    "Y2_full = teneva.full(Y2) # to check the result\n",
    "Y_full = teneva.full(Y)\n",
    "\n",
    "Z_full = Y1_full * Y2_full\n",
    "\n",
    "e = np.linalg.norm(Y_full - Z_full) # Compute error for TT-tensor vs full tensor \n",
    "e /= np.linalg.norm(Z_full)         #\n",
    "\n",
    "print(f'Error     : {e:-8.2e}')     # Rel. error for TT-tensor vs full tensor"
   ]
  },
  {
   "cell_type": "markdown",
   "id": "ef54ba3d-5788-485c-9377-f9ea2c1d47a6",
   "metadata": {},
   "source": [
    "This function also supports float argument:"
   ]
  },
  {
   "cell_type": "code",
   "execution_count": 13,
   "id": "612346c8-631e-40bc-9daf-201d678c12d6",
   "metadata": {},
   "outputs": [
    {
     "name": "stdout",
     "output_type": "stream",
     "text": [
      "TT-tensor    10D : |5| |5| |5| |5| |5| |5| |5| |5| |5| |5|\n",
      "<rank>  =    2.0 :   \\2/ \\2/ \\2/ \\2/ \\2/ \\2/ \\2/ \\2/ \\2/\n"
     ]
    }
   ],
   "source": [
    "Y1 = teneva.tensor_rand([5]*10, 2) # 10-dim random TT-tensor with TT-rank 2\n",
    "Y2 = 42.                           # Just a number\n",
    "\n",
    "Y = teneva.mul(Y1, Y2) # Compute the product of Y1 and Y2\n",
    "\n",
    "teneva.show(Y)         # Print the resulting TT-tensor (note that it has TT-rank 2 x 1 = 2)"
   ]
  },
  {
   "cell_type": "code",
   "execution_count": 14,
   "id": "fa91f7f2-e26e-48f0-bf53-2bda95fd7a19",
   "metadata": {},
   "outputs": [
    {
     "name": "stdout",
     "output_type": "stream",
     "text": [
      "TT-tensor    10D : |5| |5| |5| |5| |5| |5| |5| |5| |5| |5|\n",
      "<rank>  =    2.0 :   \\2/ \\2/ \\2/ \\2/ \\2/ \\2/ \\2/ \\2/ \\2/\n"
     ]
    }
   ],
   "source": [
    "Y1 = 42.                           # Just a number\n",
    "Y2 = teneva.tensor_rand([5]*10, 2) # 10-dim random TT-tensor with TT-rank 2\n",
    "\n",
    "Y = teneva.mul(Y1, Y2) # Compute the product of Y1 and Y2\n",
    "teneva.show(Y)         # Print the resulting TT-tensor (note that it has TT-rank 2 x 1 = 2)"
   ]
  },
  {
   "cell_type": "code",
   "execution_count": 15,
   "id": "699b514f-e9f9-4979-8c82-ce14c7ce2657",
   "metadata": {},
   "outputs": [
    {
     "name": "stdout",
     "output_type": "stream",
     "text": [
      "42.0\n"
     ]
    }
   ],
   "source": [
    "Y1 = 21.               # Just a number\n",
    "Y2 = 2                 # Just a number\n",
    "\n",
    "Y = teneva.mul(Y1, Y2) # Compute the product of Y1 and Y2\n",
    "print(Y)               # The result is a number"
   ]
  },
  {
   "cell_type": "markdown",
   "id": "df44bc69-c8a0-46b7-b88a-eac408aca953",
   "metadata": {},
   "source": [
    "## Function `mul_scalar`"
   ]
  },
  {
   "cell_type": "markdown",
   "id": "fbf17810-bc3c-4192-a7bd-15189b443da7",
   "metadata": {},
   "source": [
    "Compute scalar product for Y1 and Y2 in the TT-format."
   ]
  },
  {
   "cell_type": "code",
   "execution_count": 16,
   "id": "2fcb105d-c03b-4202-bba1-9fb5cae6e5a4",
   "metadata": {},
   "outputs": [
    {
     "name": "stdout",
     "output_type": "stream",
     "text": [
      "254038.67753552744\n"
     ]
    }
   ],
   "source": [
    "Y1 = teneva.tensor_rand([5]*10, 2) # 10-dim random TT-tensor with TT-rank 2\n",
    "Y2 = teneva.tensor_rand([5]*10, 3) # 10-dim random TT-tensor with TT-rank 3\n",
    "\n",
    "v = teneva.mul_scalar(Y1, Y2) # Compute the product of Y1 and Y2\n",
    "\n",
    "print(v)                      # Print the resulting value"
   ]
  },
  {
   "cell_type": "code",
   "execution_count": 17,
   "id": "b0e51057-c82a-4505-bdd0-b5738cc9aa89",
   "metadata": {},
   "outputs": [
    {
     "name": "stdout",
     "output_type": "stream",
     "text": [
      "254038.67753552564\n",
      "Error     : 7.10e-15\n"
     ]
    }
   ],
   "source": [
    "Y1_full = teneva.full(Y1) # Compute tensors in the full format\n",
    "Y2_full = teneva.full(Y2) # to check the result\n",
    "\n",
    "v_full = np.sum(Y1_full * Y2_full)\n",
    "\n",
    "print(v_full) # Print the resulting value from full tensor\n",
    "\n",
    "e = abs((v - v_full)/v_full)    # Compute error for TT-tensor vs full tensor \n",
    "print(f'Error     : {e:-8.2e}') # Rel. error"
   ]
  },
  {
   "cell_type": "markdown",
   "id": "da176063-40b2-488c-8ca6-d6f77ab89015",
   "metadata": {},
   "source": [
    "We can also set a flag \"use_stab\", in which case a value that is 2^p times smaller than the real value will be returned:"
   ]
  },
  {
   "cell_type": "code",
   "execution_count": 18,
   "id": "4f88c0ab-8169-4ad4-8510-70f92d6953e8",
   "metadata": {},
   "outputs": [
    {
     "name": "stdout",
     "output_type": "stream",
     "text": [
      "1.9381612971155353\n",
      "17\n",
      "254038.67753552744\n"
     ]
    }
   ],
   "source": [
    "v, p = teneva.mul_scalar(Y1, Y2, use_stab=True)\n",
    "print(v)\n",
    "print(p)\n",
    "print(v*2**p)"
   ]
  },
  {
   "cell_type": "markdown",
   "id": "ad48c8e5-c121-4b4b-9738-84523b3957cf",
   "metadata": {},
   "source": [
    "## Function `outer`"
   ]
  },
  {
   "cell_type": "markdown",
   "id": "53d20a61-2670-4152-85a1-1ea01278415a",
   "metadata": {},
   "source": [
    "Compute outer product of two TT-tensors."
   ]
  },
  {
   "cell_type": "code",
   "execution_count": 19,
   "id": "6abea9d5-3729-436b-b6f8-7dd7b8f63614",
   "metadata": {},
   "outputs": [],
   "source": [
    "Y1 = teneva.tensor_rand([4]*5, 2) # 5-dim random TT-tensor with TT-rank 2\n",
    "Y2 = teneva.tensor_rand([3]*5, 3) # 5-dim random TT-tensor with TT-rank 3"
   ]
  },
  {
   "cell_type": "code",
   "execution_count": 20,
   "id": "3a0022e9-b131-45f1-8772-0bfb99b28d32",
   "metadata": {},
   "outputs": [
    {
     "name": "stdout",
     "output_type": "stream",
     "text": [
      "TT-tensor    10D : |4| |4| |4| |4| |4| |3| |3| |3| |3| |3|\n",
      "<rank>  =    2.3 :   \\2/ \\2/ \\2/ \\2/ \\1/ \\3/ \\3/ \\3/ \\3/\n"
     ]
    }
   ],
   "source": [
    "Y = teneva.outer(Y1, Y2) # Compute the outer product of Y1 and Y2\n",
    "teneva.show(Y)           # Print the resulting TT-tensor"
   ]
  },
  {
   "cell_type": "code",
   "execution_count": 21,
   "id": "5a7cde6a-0fcb-402e-ac66-8f9256ee62ee",
   "metadata": {},
   "outputs": [
    {
     "name": "stdout",
     "output_type": "stream",
     "text": [
      "Error     : 2.03e-16\n"
     ]
    }
   ],
   "source": [
    "Y1_full = teneva.full(Y1) # Compute tensors in the full format\n",
    "Y2_full = teneva.full(Y2) # to check the result\n",
    "Y_full = teneva.full(Y)\n",
    "\n",
    "Z_full = np.tensordot(Y1_full, Y2_full, 0)\n",
    "\n",
    "e = np.linalg.norm(Y_full - Z_full) # Compute error for TT-tensor vs full tensor \n",
    "e /= np.linalg.norm(Z_full)         #\n",
    "\n",
    "print(f'Error     : {e:-8.2e}')     # Rel. error for TT-tensor vs full tensor"
   ]
  },
  {
   "cell_type": "markdown",
   "id": "039faa18-7ec1-4470-a2b9-38320772fe07",
   "metadata": {},
   "source": [
    "## Function `sub`"
   ]
  },
  {
   "cell_type": "markdown",
   "id": "9e22aafe-227c-4700-9714-13994967234a",
   "metadata": {},
   "source": [
    "Compute element wise difference $Y = Y_1 - Y_2$ for the given TT-tensors $Y_1$ and $Y_2$ presented as lists of TT-cores."
   ]
  },
  {
   "cell_type": "code",
   "execution_count": 22,
   "id": "050deea2-2a55-4f33-b3b3-8d43a5d7612b",
   "metadata": {},
   "outputs": [],
   "source": [
    "Y1 = teneva.tensor_rand([5]*10, 2) # 10-dim random TT-tensor with TT-rank 2\n",
    "Y2 = teneva.tensor_rand([5]*10, 3) # 10-dim random TT-tensor with TT-rank 3"
   ]
  },
  {
   "cell_type": "code",
   "execution_count": 23,
   "id": "1180bd71-f991-4163-9ded-3a5cb38837eb",
   "metadata": {},
   "outputs": [
    {
     "name": "stdout",
     "output_type": "stream",
     "text": [
      "TT-tensor    10D : |5| |5| |5| |5| |5| |5| |5| |5| |5| |5|\n",
      "<rank>  =    5.0 :   \\5/ \\5/ \\5/ \\5/ \\5/ \\5/ \\5/ \\5/ \\5/\n"
     ]
    }
   ],
   "source": [
    "Y = teneva.sub(Y1, Y2) # Compute the difference between Y1 and Y2\n",
    "teneva.show(Y)         # Print the resulting TT-tensor (note that it has TT-rank 2 + 3 = 5)"
   ]
  },
  {
   "cell_type": "code",
   "execution_count": 24,
   "id": "4f87e913-ad38-418a-8193-279b45e0c0bc",
   "metadata": {},
   "outputs": [
    {
     "name": "stdout",
     "output_type": "stream",
     "text": [
      "Error     : 8.59e-17\n"
     ]
    }
   ],
   "source": [
    "Y1_full = teneva.full(Y1) # Compute tensors in the full format\n",
    "Y2_full = teneva.full(Y2) # to check the result\n",
    "Y_full = teneva.full(Y)\n",
    "\n",
    "Z_full = Y1_full - Y2_full\n",
    "\n",
    "e = np.linalg.norm(Y_full - Z_full) # Compute error for TT-tensor vs full tensor \n",
    "e /= np.linalg.norm(Z_full)                     \n",
    "\n",
    "print(f'Error     : {e:-8.2e}')     # Rel. error for TT-tensor vs full tensor"
   ]
  },
  {
   "cell_type": "markdown",
   "id": "ad09de44-02af-4666-a97c-48b1c6da5bb3",
   "metadata": {},
   "source": [
    "This function also supports float argument:"
   ]
  },
  {
   "cell_type": "code",
   "execution_count": 25,
   "id": "6b050fac-fd26-4cdc-b9ea-4e0e68821223",
   "metadata": {},
   "outputs": [
    {
     "name": "stdout",
     "output_type": "stream",
     "text": [
      "TT-tensor    10D : |5| |5| |5| |5| |5| |5| |5| |5| |5| |5|\n",
      "<rank>  =    3.0 :   \\3/ \\3/ \\3/ \\3/ \\3/ \\3/ \\3/ \\3/ \\3/\n"
     ]
    }
   ],
   "source": [
    "Y1 = teneva.tensor_rand([5]*10, 2) # 10-dim random TT-tensor with TT-rank 2\n",
    "Y2 = 42.                           # Just a number\n",
    "\n",
    "Y = teneva.sub(Y1, Y2) # Compute the difference between Y1 and Y2\n",
    "\n",
    "teneva.show(Y)         # Print the resulting TT-tensor (note that it has TT-rank 2 + 1 = 3)"
   ]
  },
  {
   "cell_type": "code",
   "execution_count": 26,
   "id": "95c71c1e-9a73-4cd5-b41f-563fd50190ec",
   "metadata": {},
   "outputs": [
    {
     "name": "stdout",
     "output_type": "stream",
     "text": [
      "TT-tensor    10D : |5| |5| |5| |5| |5| |5| |5| |5| |5| |5|\n",
      "<rank>  =    3.0 :   \\3/ \\3/ \\3/ \\3/ \\3/ \\3/ \\3/ \\3/ \\3/\n"
     ]
    }
   ],
   "source": [
    "Y1 = 42.                           # Just a number\n",
    "Y2 = teneva.tensor_rand([5]*10, 2) # 10-dim random TT-tensor with TT-rank 2\n",
    "\n",
    "Y = teneva.sub(Y1, Y2) # Compute the difference between Y1 and Y2\n",
    "\n",
    "teneva.show(Y)         # Print the resulting TT-tensor (note that it has TT-rank 2 + 1 = 3)"
   ]
  },
  {
   "cell_type": "code",
   "execution_count": 27,
   "id": "a7bae173-a9b8-443d-92fe-eb894f72c7fd",
   "metadata": {},
   "outputs": [
    {
     "name": "stdout",
     "output_type": "stream",
     "text": [
      "42.0\n"
     ]
    }
   ],
   "source": [
    "Y1 = 44.               # Just a number\n",
    "Y2 = 2                 # Just a number\n",
    "\n",
    "Y = teneva.sub(Y1, Y2) # Compute the difference between Y1 and Y2\n",
    "\n",
    "print(Y)               # The result is a number"
   ]
  },
  {
   "cell_type": "markdown",
   "id": "5157c326-a02c-41fc-b82d-af0d55ddfb18",
   "metadata": {},
   "source": [
    "---"
   ]
  }
 ],
 "metadata": {
  "kernelspec": {
   "display_name": "Python 3",
   "language": "python",
   "name": "python3"
  },
  "language_info": {
   "codemirror_mode": {
    "name": "ipython",
    "version": 3
   },
   "file_extension": ".py",
   "mimetype": "text/x-python",
   "name": "python",
   "nbconvert_exporter": "python",
   "pygments_lexer": "ipython3",
   "version": "3.8.8"
  }
 },
 "nbformat": 4,
 "nbformat_minor": 5
}

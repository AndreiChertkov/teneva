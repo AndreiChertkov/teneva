{
 "cells": [
  {
   "cell_type": "markdown",
   "id": "e51b9291-f33c-40ad-96ee-e2f9454ffc69",
   "metadata": {},
   "source": [
    "**Demo for `teneva.core.act_many`**\n",
    "\n",
    "---\n",
    "\n",
    "This module contains the basic operations with a set of multiple TT-tensors (Y1, Y2, ...), including \"add_many\"."
   ]
  },
  {
   "cell_type": "markdown",
   "id": "3896a55c-1131-44fc-b746-1433ad4ddb08",
   "metadata": {},
   "source": [
    "## Loading and importing modules"
   ]
  },
  {
   "cell_type": "code",
   "execution_count": 1,
   "id": "9941ed2c-6272-4144-8c96-4e800f0b5c49",
   "metadata": {},
   "outputs": [],
   "source": [
    "import numpy as np\n",
    "import teneva\n",
    "from time import perf_counter as tpc\n",
    "np.random.seed(42)"
   ]
  },
  {
   "cell_type": "markdown",
   "id": "48a74a00-40ed-482b-8e64-5a34067bf7cb",
   "metadata": {},
   "source": [
    "## Function `add_many`"
   ]
  },
  {
   "cell_type": "markdown",
   "id": "dd70b8e8-c3d4-4b2f-8c0b-939cd6867dec",
   "metadata": {},
   "source": [
    "Compute element wise sum $Y = Y_1 + Y_2 + \\ldots + Y_m$ for the given TT-tensors given as lists of TT-cores. The result is truncated to the given accuracy `e` and/or maximum TT-rank `r`. Additionally, the intermediate result is truncated with a frequency `trunc_freq`."
   ]
  },
  {
   "cell_type": "code",
   "execution_count": 2,
   "id": "ff775fc6-2c41-48c6-85ca-0faba93f4375",
   "metadata": {},
   "outputs": [
    {
     "name": "stdout",
     "output_type": "stream",
     "text": [
      "TT-tensor    10D : |5| |5|  |5|  |5|  |5|  |5|  |5|  |5|  |5| |5|\n",
      "<rank>  =   17.9 :   \\5/ \\20/ \\20/ \\20/ \\20/ \\20/ \\20/ \\20/ \\5/\n"
     ]
    }
   ],
   "source": [
    "# 10 random TT-tensors with TT-rank 2:\n",
    "Y_all = [teneva.tensor_rand([5]*10, 2) for _ in range(10)]\n",
    "\n",
    "# Compute the sum:\n",
    "Y = teneva.add_many(Y_all, e=1.E-4, r=50, trunc_freq=2)\n",
    "\n",
    "# Show the result:\n",
    "teneva.show(Y)"
   ]
  },
  {
   "cell_type": "markdown",
   "id": "777ecb04-594f-407a-acca-f3f763f5b4bd",
   "metadata": {},
   "source": [
    "This function also supports float arguments:"
   ]
  },
  {
   "cell_type": "code",
   "execution_count": 3,
   "id": "b0a9f771-9c4c-4344-99c7-b7883541bcc2",
   "metadata": {},
   "outputs": [
    {
     "name": "stdout",
     "output_type": "stream",
     "text": [
      "TT-tensor    10D : |5| |5| |5| |5| |5| |5| |5| |5| |5| |5|\n",
      "<rank>  =    6.7 :   \\5/ \\7/ \\7/ \\7/ \\7/ \\7/ \\7/ \\7/ \\5/\n"
     ]
    }
   ],
   "source": [
    "Y_all = [\n",
    "    42.,\n",
    "    teneva.tensor_rand([5]*10, 2),\n",
    "    33.,\n",
    "    teneva.tensor_rand([5]*10, 4)\n",
    "]\n",
    "Y = teneva.add_many(Y_all, e=1.E-4, r=50, trunc_freq=2)\n",
    "teneva.show(Y)"
   ]
  },
  {
   "cell_type": "markdown",
   "id": "199b159a-3aa6-43af-b38b-ddfecb08e6e2",
   "metadata": {},
   "source": [
    "If all arguments are numbers, then function returns the sum of numbers:"
   ]
  },
  {
   "cell_type": "code",
   "execution_count": 4,
   "id": "a06eb278-5797-489d-b46b-9f87c116fb6f",
   "metadata": {},
   "outputs": [
    {
     "name": "stdout",
     "output_type": "stream",
     "text": [
      "42.0\n"
     ]
    }
   ],
   "source": [
    "Y_all = [10., 20., 2., 10.]\n",
    "Y = teneva.add_many(Y_all, e=1.E-4, r=50, trunc_freq=2)\n",
    "print(Y)"
   ]
  },
  {
   "cell_type": "markdown",
   "id": "3dcc0b5a-1ed6-42f6-a33e-fc69c2d7e10f",
   "metadata": {},
   "source": [
    "## Function `outer_many`"
   ]
  },
  {
   "cell_type": "markdown",
   "id": "0662b0a6-8b3b-4e59-90f4-a8e3c2ae093d",
   "metadata": {},
   "source": [
    "Compute outer product of given TT-tensors."
   ]
  },
  {
   "cell_type": "code",
   "execution_count": 5,
   "id": "39eb0b7e-2031-45c5-9003-21aa65d9c147",
   "metadata": {},
   "outputs": [],
   "source": [
    "Y1 = teneva.tensor_rand([4]*5, 2) # 5-dim random TT-tensor with TT-rank 2\n",
    "Y2 = teneva.tensor_rand([3]*5, 3) # 5-dim random TT-tensor with TT-rank 3\n",
    "Y3 = teneva.tensor_rand([2]*5, 4) # 5-dim random TT-tensor with TT-rank 4"
   ]
  },
  {
   "cell_type": "code",
   "execution_count": 6,
   "id": "656283fc-11cc-4db5-a0cd-f3034762bca4",
   "metadata": {},
   "outputs": [
    {
     "name": "stdout",
     "output_type": "stream",
     "text": [
      "TT-tensor    15D : |4| |4| |4| |4| |4| |3| |3| |3| |3| |3| |2| |2| |2| |2| |2|\n",
      "<rank>  =    2.6 :   \\2/ \\2/ \\2/ \\2/ \\1/ \\3/ \\3/ \\3/ \\3/ \\1/ \\4/ \\4/ \\4/ \\4/\n"
     ]
    }
   ],
   "source": [
    "Y = teneva.outer_many([Y1, Y2, Y3]) # Compute the outer product\n",
    "teneva.show(Y)                      # Print the resulting TT-tensor"
   ]
  },
  {
   "cell_type": "code",
   "execution_count": 7,
   "id": "174132b7-9b46-4df5-aca6-2343ff7743fd",
   "metadata": {},
   "outputs": [
    {
     "name": "stdout",
     "output_type": "stream",
     "text": [
      "Error     : 3.11e-16\n"
     ]
    }
   ],
   "source": [
    "Y1_full = teneva.full(Y1) # Compute tensors in the full format\n",
    "Y2_full = teneva.full(Y2) # to check the result\n",
    "Y3_full = teneva.full(Y3)\n",
    "Y_full = teneva.full(Y)\n",
    "\n",
    "Z_full = np.tensordot(Y1_full, Y2_full, 0)\n",
    "Z_full = np.tensordot(Z_full, Y3_full, 0)\n",
    "\n",
    "e = np.linalg.norm(Y_full - Z_full) # Compute error for TT-tensor vs full tensor \n",
    "e /= np.linalg.norm(Z_full)         #\n",
    "\n",
    "print(f'Error     : {e:-8.2e}')     # Rel. error for TT-tensor vs full tensor"
   ]
  },
  {
   "cell_type": "markdown",
   "id": "5157c326-a02c-41fc-b82d-af0d55ddfb18",
   "metadata": {},
   "source": [
    "---"
   ]
  }
 ],
 "metadata": {
  "kernelspec": {
   "display_name": "Python 3",
   "language": "python",
   "name": "python3"
  },
  "language_info": {
   "codemirror_mode": {
    "name": "ipython",
    "version": 3
   },
   "file_extension": ".py",
   "mimetype": "text/x-python",
   "name": "python",
   "nbconvert_exporter": "python",
   "pygments_lexer": "ipython3",
   "version": "3.8.8"
  }
 },
 "nbformat": 4,
 "nbformat_minor": 5
}

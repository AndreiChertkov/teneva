{
 "cells": [
  {
   "cell_type": "markdown",
   "id": "e51b9291-f33c-40ad-96ee-e2f9454ffc69",
   "metadata": {},
   "source": [
    "**Demo for `teneva.core.optima_contin`**\n",
    "\n",
    "---\n",
    "\n",
    "This module contains the novel algorithm for computation of minimum and maximum element of the multivariate function presented as the TT-tensor of Chebyshev coefficients."
   ]
  },
  {
   "cell_type": "markdown",
   "id": "3896a55c-1131-44fc-b746-1433ad4ddb08",
   "metadata": {},
   "source": [
    "## Loading and importing modules"
   ]
  },
  {
   "cell_type": "code",
   "execution_count": 1,
   "id": "9941ed2c-6272-4144-8c96-4e800f0b5c49",
   "metadata": {},
   "outputs": [],
   "source": [
    "import numpy as np\n",
    "import teneva\n",
    "from time import perf_counter as tpc\n",
    "np.random.seed(42)"
   ]
  },
  {
   "cell_type": "markdown",
   "id": "8c61a663-afc4-4fbf-94bf-afedb3157328",
   "metadata": {},
   "source": [
    "## Function `optima_contin_tt_beam`"
   ]
  },
  {
   "cell_type": "markdown",
   "id": "823c49e9-c1ea-48cf-904c-e6e2f3ba6f35",
   "metadata": {},
   "source": [
    "Find maximum modulo points in the functional TT-tensor."
   ]
  },
  {
   "cell_type": "code",
   "execution_count": 2,
   "id": "cb0878d0-1efb-4112-8a15-04c883066b85",
   "metadata": {},
   "outputs": [
    {
     "ename": "ValueError",
     "evalue": "einstein sum subscripts string contains too many subscripts for operand 2",
     "output_type": "error",
     "traceback": [
      "\u001b[0;31m---------------------------------------------------------------------------\u001b[0m",
      "\u001b[0;31mValueError\u001b[0m                                Traceback (most recent call last)",
      "Cell \u001b[0;32mIn[2], line 6\u001b[0m\n\u001b[1;32m      4\u001b[0m Y \u001b[38;5;241m=\u001b[39m teneva\u001b[38;5;241m.\u001b[39mrand(n, r\u001b[38;5;241m=\u001b[39m\u001b[38;5;241m4\u001b[39m)   \u001b[38;5;66;03m# Random TT-tensor with rank 4\u001b[39;00m\n\u001b[1;32m      5\u001b[0m A \u001b[38;5;241m=\u001b[39m teneva\u001b[38;5;241m.\u001b[39mcheb_int(Y)\n\u001b[0;32m----> 6\u001b[0m x_opt \u001b[38;5;241m=\u001b[39m \u001b[43mteneva\u001b[49m\u001b[38;5;241;43m.\u001b[39;49m\u001b[43moptima_contin_tt_beam\u001b[49m\u001b[43m(\u001b[49m\u001b[43mA\u001b[49m\u001b[43m,\u001b[49m\u001b[43m \u001b[49m\u001b[43mk\u001b[49m\u001b[38;5;241;43m=\u001b[39;49m\u001b[38;5;241;43m1\u001b[39;49m\u001b[43m)\u001b[49m\n\u001b[1;32m      7\u001b[0m y_opt \u001b[38;5;241m=\u001b[39m teneva\u001b[38;5;241m.\u001b[39mcheb_get(x_opt, A)\n\u001b[1;32m      9\u001b[0m \u001b[38;5;28mprint\u001b[39m(\u001b[38;5;124mf\u001b[39m\u001b[38;5;124m'\u001b[39m\u001b[38;5;124mx opt appr :\u001b[39m\u001b[38;5;124m'\u001b[39m, x_opt)\n",
      "File \u001b[0;32m~/opt/anaconda3/envs/teneva/lib/python3.8/site-packages/teneva-0.12.9-py3.8.egg/teneva/core/optima_contin.py:39\u001b[0m, in \u001b[0;36moptima_contin_tt_beam\u001b[0;34m(A, k, k_loc)\u001b[0m\n\u001b[1;32m     37\u001b[0m G_prev \u001b[38;5;241m=\u001b[39m np\u001b[38;5;241m.\u001b[39marray([[\u001b[38;5;241m1.\u001b[39m]])\n\u001b[1;32m     38\u001b[0m \u001b[38;5;28;01mfor\u001b[39;00m G \u001b[38;5;129;01min\u001b[39;00m A:\n\u001b[0;32m---> 39\u001b[0m     X_prev, G_prev \u001b[38;5;241m=\u001b[39m \u001b[43m_step_top_k\u001b[49m\u001b[43m(\u001b[49m\u001b[43mX_prev\u001b[49m\u001b[43m,\u001b[49m\u001b[43m \u001b[49m\u001b[43mG_prev\u001b[49m\u001b[43m,\u001b[49m\u001b[43m \u001b[49m\u001b[43mG\u001b[49m\u001b[43m,\u001b[49m\u001b[43m \u001b[49m\u001b[43mk\u001b[49m\u001b[43m,\u001b[49m\u001b[43m \u001b[49m\u001b[43mk_loc\u001b[49m\u001b[43m)\u001b[49m\n\u001b[1;32m     41\u001b[0m \u001b[38;5;28;01mreturn\u001b[39;00m X_prev\n",
      "File \u001b[0;32m~/opt/anaconda3/envs/teneva/lib/python3.8/site-packages/teneva-0.12.9-py3.8.egg/teneva/core/optima_contin.py:142\u001b[0m, in \u001b[0;36m_step_top_k\u001b[0;34m(X_prev, G_prev, G, k, k_loc)\u001b[0m\n\u001b[1;32m    138\u001b[0m         x_new[:\u001b[38;5;241m-\u001b[39m\u001b[38;5;241m1\u001b[39m] \u001b[38;5;241m=\u001b[39m X_prev[idx_prev]\n\u001b[1;32m    140\u001b[0m     x_new[\u001b[38;5;241m-\u001b[39m\u001b[38;5;241m1\u001b[39m] \u001b[38;5;241m=\u001b[39m all_x[idx]\n\u001b[0;32m--> 142\u001b[0m     g_new[:] \u001b[38;5;241m=\u001b[39m \u001b[43mnp\u001b[49m\u001b[38;5;241;43m.\u001b[39;49m\u001b[43meinsum\u001b[49m\u001b[43m(\u001b[49m\u001b[38;5;124;43m\"\u001b[39;49m\u001b[38;5;124;43mi,j,ijk\u001b[39;49m\u001b[38;5;124;43m\"\u001b[39;49m\u001b[43m,\u001b[49m\u001b[43m \u001b[49m\u001b[43mG_prev\u001b[49m\u001b[43m[\u001b[49m\u001b[43midx_prev\u001b[49m\u001b[43m]\u001b[49m\u001b[43m,\u001b[49m\u001b[43m \u001b[49m\u001b[43mHi\u001b[49m\u001b[43m,\u001b[49m\u001b[43m \u001b[49m\u001b[43mall_G\u001b[49m\u001b[43m[\u001b[49m\u001b[43midx_prev\u001b[49m\u001b[43m]\u001b[49m\u001b[43m)\u001b[49m\n\u001b[1;32m    144\u001b[0m \u001b[38;5;66;03m# ???  to_norm G_new???\u001b[39;00m\n\u001b[1;32m    145\u001b[0m \u001b[38;5;28;01mreturn\u001b[39;00m X_new, G_new\n",
      "File \u001b[0;32m<__array_function__ internals>:180\u001b[0m, in \u001b[0;36meinsum\u001b[0;34m(*args, **kwargs)\u001b[0m\n",
      "File \u001b[0;32m~/opt/anaconda3/envs/teneva/lib/python3.8/site-packages/numpy/core/einsumfunc.py:1371\u001b[0m, in \u001b[0;36meinsum\u001b[0;34m(out, optimize, *operands, **kwargs)\u001b[0m\n\u001b[1;32m   1369\u001b[0m     \u001b[38;5;28;01mif\u001b[39;00m specified_out:\n\u001b[1;32m   1370\u001b[0m         kwargs[\u001b[38;5;124m'\u001b[39m\u001b[38;5;124mout\u001b[39m\u001b[38;5;124m'\u001b[39m] \u001b[38;5;241m=\u001b[39m out\n\u001b[0;32m-> 1371\u001b[0m     \u001b[38;5;28;01mreturn\u001b[39;00m \u001b[43mc_einsum\u001b[49m\u001b[43m(\u001b[49m\u001b[38;5;241;43m*\u001b[39;49m\u001b[43moperands\u001b[49m\u001b[43m,\u001b[49m\u001b[43m \u001b[49m\u001b[38;5;241;43m*\u001b[39;49m\u001b[38;5;241;43m*\u001b[39;49m\u001b[43mkwargs\u001b[49m\u001b[43m)\u001b[49m\n\u001b[1;32m   1373\u001b[0m \u001b[38;5;66;03m# Check the kwargs to avoid a more cryptic error later, without having to\u001b[39;00m\n\u001b[1;32m   1374\u001b[0m \u001b[38;5;66;03m# repeat default values here\u001b[39;00m\n\u001b[1;32m   1375\u001b[0m valid_einsum_kwargs \u001b[38;5;241m=\u001b[39m [\u001b[38;5;124m'\u001b[39m\u001b[38;5;124mdtype\u001b[39m\u001b[38;5;124m'\u001b[39m, \u001b[38;5;124m'\u001b[39m\u001b[38;5;124morder\u001b[39m\u001b[38;5;124m'\u001b[39m, \u001b[38;5;124m'\u001b[39m\u001b[38;5;124mcasting\u001b[39m\u001b[38;5;124m'\u001b[39m]\n",
      "\u001b[0;31mValueError\u001b[0m: einstein sum subscripts string contains too many subscripts for operand 2"
     ]
    }
   ],
   "source": [
    "# DRAFT (it works with error)\n",
    "\n",
    "n = [20, 18, 16, 14, 12]  # Shape of the tensor\n",
    "Y = teneva.rand(n, r=4)   # Random TT-tensor with rank 4\n",
    "A = teneva.cheb_int(Y)\n",
    "x_opt = teneva.optima_contin_tt_beam(A, k=1)\n",
    "y_opt = teneva.cheb_get(x_opt, A)\n",
    "\n",
    "print(f'x opt appr :', x_opt)\n",
    "print(f'y opt appr : {y_opt:-12.4e}')"
   ]
  },
  {
   "cell_type": "markdown",
   "id": "5157c326-a02c-41fc-b82d-af0d55ddfb18",
   "metadata": {},
   "source": [
    "---"
   ]
  }
 ],
 "metadata": {
  "kernelspec": {
   "display_name": "Python 3 (ipykernel)",
   "language": "python",
   "name": "python3"
  },
  "language_info": {
   "codemirror_mode": {
    "name": "ipython",
    "version": 3
   },
   "file_extension": ".py",
   "mimetype": "text/x-python",
   "name": "python",
   "nbconvert_exporter": "python",
   "pygments_lexer": "ipython3",
   "version": "3.8.16"
  }
 },
 "nbformat": 4,
 "nbformat_minor": 5
}

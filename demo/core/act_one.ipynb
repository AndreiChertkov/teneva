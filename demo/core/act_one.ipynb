{
 "cells": [
  {
   "cell_type": "markdown",
   "id": "e51b9291-f33c-40ad-96ee-e2f9454ffc69",
   "metadata": {},
   "source": [
    "**Demo for `teneva.core.act_one`**\n",
    "\n",
    "---\n",
    "\n",
    "This module contains the basic operations with one TT-tensor (Y), including \"copy\", \"get\", \"sum\", etc."
   ]
  },
  {
   "cell_type": "markdown",
   "id": "3896a55c-1131-44fc-b746-1433ad4ddb08",
   "metadata": {},
   "source": [
    "## Loading and importing modules"
   ]
  },
  {
   "cell_type": "code",
   "execution_count": 1,
   "id": "9941ed2c-6272-4144-8c96-4e800f0b5c49",
   "metadata": {},
   "outputs": [],
   "source": [
    "import numpy as np\n",
    "import teneva\n",
    "from time import perf_counter as tpc\n",
    "np.random.seed(42)"
   ]
  },
  {
   "cell_type": "markdown",
   "id": "53ae283b-b86b-403b-ad4c-edd6bf80e5a0",
   "metadata": {},
   "source": [
    "## Function `copy`"
   ]
  },
  {
   "cell_type": "markdown",
   "id": "cb0755cb-31ab-402f-b411-1ed2a7c48a80",
   "metadata": {},
   "source": [
    "Return a copy of the given TT-tensor."
   ]
  },
  {
   "cell_type": "code",
   "execution_count": 2,
   "id": "30411080-6f66-4b4c-a667-b8dc192af300",
   "metadata": {},
   "outputs": [
    {
     "name": "stdout",
     "output_type": "stream",
     "text": [
      "-1.2208436499710222\n",
      "-1.2208436499710222\n"
     ]
    }
   ],
   "source": [
    "Y = teneva.tensor_rand([5]*10, 2) # 10-dim random TT-tensor with TT-rank 2\n",
    "\n",
    "Z = teneva.copy(Y)         # The copy of Y\n",
    "\n",
    "print(Y[2][1, 2, 0])\n",
    "print(Z[2][1, 2, 0])"
   ]
  },
  {
   "cell_type": "code",
   "execution_count": 3,
   "id": "27e1a9db-6bab-419e-b89d-948ff0bc7068",
   "metadata": {},
   "outputs": [
    {
     "name": "stdout",
     "output_type": "stream",
     "text": [
      "-1.2208436499710222\n",
      "42.0\n"
     ]
    }
   ],
   "source": [
    "Z[2][1, 2, 0] = 42.\n",
    "\n",
    "print(Y[2][1, 2, 0])\n",
    "print(Z[2][1, 2, 0])"
   ]
  },
  {
   "cell_type": "markdown",
   "id": "4b9b0770-1558-421d-a441-b80b75a60ee3",
   "metadata": {},
   "source": [
    "It also supports numbers for convenience:"
   ]
  },
  {
   "cell_type": "code",
   "execution_count": 4,
   "id": "c07ff2e4-84f2-47ca-b923-c6cfb7e9d3cc",
   "metadata": {},
   "outputs": [
    {
     "data": {
      "text/plain": [
       "42.0"
      ]
     },
     "execution_count": 4,
     "metadata": {},
     "output_type": "execute_result"
    }
   ],
   "source": [
    "teneva.copy(42.)"
   ]
  },
  {
   "cell_type": "markdown",
   "id": "34eea7aa-737f-494a-bd51-bdf059605084",
   "metadata": {},
   "source": [
    "## Function `get`"
   ]
  },
  {
   "cell_type": "markdown",
   "id": "8a13fa68-f4a5-426c-8554-e29a558a15ca",
   "metadata": {},
   "source": [
    "Compute the element with multiindex $k$ from the TT-tensor $Y$. See also a function `tensor.getter` that performs the same operation, but with an acceleration."
   ]
  },
  {
   "cell_type": "code",
   "execution_count": 5,
   "id": "7676216f-0445-4150-b940-e1fb77ebfec7",
   "metadata": {},
   "outputs": [
    {
     "name": "stdout",
     "output_type": "stream",
     "text": [
      "   10  10  10  10  10 \n",
      "  / \\ / \\ / \\ / \\ / \\ \n",
      " 1   10 100 100  10  1  \n",
      "\n"
     ]
    },
    {
     "data": {
      "text/plain": [
       "1.2212453270876722e-15"
      ]
     },
     "execution_count": 5,
     "metadata": {},
     "output_type": "execute_result"
    }
   ],
   "source": [
    "n = [10] * 5              # Shape of the tensor      \n",
    "Y0 = np.random.randn(*n)  # Create 5-dim random numpy tensor\n",
    "Y1 = teneva.svd(Y0)       # Compute TT-tensor from Y0 by TT-SVD\n",
    "teneva.show(Y1)           # Print the TT-tensor\n",
    "k = [1, 2, 3, 4, 5]       # Select some tensor element\n",
    "y1 = teneva.get(Y1, k)    # Compute the element of the TT-tensor\n",
    "y0 = Y0[tuple(k)]         # Compute the same element of the original tensor\n",
    "abs(np.max(y1-y0))        # Compare original tensor and reconstructed tensor"
   ]
  },
  {
   "cell_type": "markdown",
   "id": "39dde4fa-a06f-428f-b4a3-117ed3ca5008",
   "metadata": {},
   "source": [
    "This function is also support batch mode:"
   ]
  },
  {
   "cell_type": "code",
   "execution_count": 6,
   "id": "a1eca025-2a7d-4a24-b22b-6afd03c683e0",
   "metadata": {},
   "outputs": [
    {
     "data": {
      "text/plain": [
       "9.992007221626409e-16"
      ]
     },
     "execution_count": 6,
     "metadata": {},
     "output_type": "execute_result"
    }
   ],
   "source": [
    "K = [\n",
    "    [1, 2, 3, 4, 5],\n",
    "    [0, 0, 0, 0, 0],\n",
    "    [5, 4, 3, 2, 1],\n",
    "]\n",
    "\n",
    "y1 = teneva.get(Y1, K)\n",
    "y0 = [Y0[tuple(k)] for k in K]\n",
    "abs(np.max(y1-y0))"
   ]
  },
  {
   "cell_type": "markdown",
   "id": "776f8475-58ff-41e2-be36-2b8f313dde57",
   "metadata": {},
   "source": [
    "## Function `get_many`"
   ]
  },
  {
   "cell_type": "markdown",
   "id": "c692eebd-9c06-47fc-b60f-3ecb69170de2",
   "metadata": {},
   "source": [
    "Compute the elements of the TT-tensor on many indices (the function \"get\" with 2-dimensional argument may be used instead)."
   ]
  },
  {
   "cell_type": "code",
   "execution_count": 7,
   "id": "abecd87a-789d-4ea2-8314-ce6ba459bb14",
   "metadata": {},
   "outputs": [
    {
     "name": "stdout",
     "output_type": "stream",
     "text": [
      "   10  10  10  10  10 \n",
      "  / \\ / \\ / \\ / \\ / \\ \n",
      " 1   10 100 100  10  1  \n",
      "\n"
     ]
    },
    {
     "data": {
      "text/plain": [
       "5.051514762044462e-15"
      ]
     },
     "execution_count": 7,
     "metadata": {},
     "output_type": "execute_result"
    }
   ],
   "source": [
    "n = [10] * 5                    # Shape of the tensor      \n",
    "Y0 = np.random.randn(*n)        # Create 5-dim random numpy tensor\n",
    "Y1 = teneva.svd(Y0)             # Compute TT-tensor from Y0 by TT-SVD\n",
    "teneva.show(Y1)                 # Print the TT-tensor\n",
    "K = [                           # Select some tensor elements\n",
    "    [1, 2, 3, 4, 5],\n",
    "    [0, 0, 0, 0, 0],\n",
    "    [5, 4, 3, 2, 1],\n",
    "]     \n",
    "y1 = teneva.get_many(Y1, K)     # Compute the element of the TT-tensor\n",
    "y0 = [Y0[tuple(k)] for k in K]  # Compute the same element of the original tensor\n",
    "abs(np.max(y1-y0))              # Compare original tensor and reconstructed tensor"
   ]
  },
  {
   "cell_type": "markdown",
   "id": "3c8892a7-7493-4bb6-a4c5-416d69816cec",
   "metadata": {},
   "source": [
    "## Function `getter`"
   ]
  },
  {
   "cell_type": "markdown",
   "id": "3ae261d5-185b-45e5-8295-49739bf0c443",
   "metadata": {},
   "source": [
    "Build fast (accelerated by numba) function that computes the element with multiindex $k$ for the TT-tensor $Y$. See also a function `tensor.get` for more details. Note that this function is not support the batch mode."
   ]
  },
  {
   "cell_type": "code",
   "execution_count": 8,
   "id": "015623bf-01ca-4e97-a8a5-b01baf9b1801",
   "metadata": {},
   "outputs": [
    {
     "data": {
      "text/plain": [
       "8.881784197001252e-16"
      ]
     },
     "execution_count": 8,
     "metadata": {},
     "output_type": "execute_result"
    }
   ],
   "source": [
    "n = [10] * 5              # Shape of the tensor      \n",
    "Y0 = np.random.randn(*n)  # Create 5-dim random numpy tensor\n",
    "Y1 = teneva.svd(Y0)       # Compute TT-tensor from Y0 by TT-SVD\n",
    "get = teneva.getter(Y1)   # Build (compile) function to compute the element of the TT-tensor\n",
    "k = (1, 2, 3, 4, 5)       # Select some tensor element\n",
    "y1 = get(k)               # Compute the element of the TT-tensor\n",
    "y0 = Y0[k]                # Compute the same element of the original tensor\n",
    "abs(np.max(y1-y0))        # Compare original tensor and reconstructed tensor"
   ]
  },
  {
   "cell_type": "markdown",
   "id": "4e967de6-bcad-42f7-9b97-97781a04b5aa",
   "metadata": {},
   "source": [
    "We can compare the calculation time using the base function and the function accelerated with numba:"
   ]
  },
  {
   "cell_type": "code",
   "execution_count": 9,
   "id": "aac45ffc-0cde-4d0e-b53f-042f0544cf81",
   "metadata": {},
   "outputs": [
    {
     "name": "stdout",
     "output_type": "stream",
     "text": [
      "Time for \"simple\" :   0.1258 sec\n",
      "Time for \"numba\"  :   0.0166 sec\n"
     ]
    }
   ],
   "source": [
    "n = [100] * 40\n",
    "Y = teneva.tensor_rand(n, r=4)\n",
    "\n",
    "get1 = lambda i: teneva.get(Y, i)\n",
    "get2 = teneva.getter(Y)\n",
    "\n",
    "I = teneva.sample_lhs(n, m=1000)\n",
    "\n",
    "t1 = tpc()\n",
    "for i in I:\n",
    "    y1 = get1(i)\n",
    "t1 = tpc() - t1\n",
    "\n",
    "t2 = tpc()\n",
    "for i in I:\n",
    "    y2 = get2(i)\n",
    "t2 = tpc() - t2\n",
    "\n",
    "print(f'Time for \"simple\" : {t1:-8.4f} sec')\n",
    "print(f'Time for \"numba\"  : {t2:-8.4f} sec')"
   ]
  },
  {
   "cell_type": "markdown",
   "id": "bbb44618-d51b-4615-a6ae-dff41c7d72d8",
   "metadata": {},
   "source": [
    "## Function `mean`"
   ]
  },
  {
   "cell_type": "markdown",
   "id": "6d2b982b-fab2-4ff6-a29f-eba9475b9b72",
   "metadata": {},
   "source": [
    "Compute mean value of the TT-tensor."
   ]
  },
  {
   "cell_type": "code",
   "execution_count": 10,
   "id": "5e7621ff-ba9e-4b75-b421-bcb0ee166d4d",
   "metadata": {},
   "outputs": [],
   "source": [
    "Y = teneva.tensor_rand([5]*10, 2) # 10-dim random TT-tensor with TT-rank 2\n",
    "m = teneva.mean(Y)                # The mean value"
   ]
  },
  {
   "cell_type": "code",
   "execution_count": 11,
   "id": "ed3478df-e475-439e-a6b5-5c01ea8d909c",
   "metadata": {},
   "outputs": [
    {
     "name": "stdout",
     "output_type": "stream",
     "text": [
      "Error     : 4.88e-19\n"
     ]
    }
   ],
   "source": [
    "Y_full = teneva.full(Y)           # Compute tensor in the full format to check the result\n",
    "m_full = np.mean(Y_full)          # The mean value for the numpy array\n",
    "e = abs(m - m_full)               # Compute error for TT-tensor vs full tensor \n",
    "print(f'Error     : {e:-8.2e}')"
   ]
  },
  {
   "cell_type": "markdown",
   "id": "b1507bb0-9771-471c-9daf-b2514dc8ffc4",
   "metadata": {},
   "source": [
    "The probability of tensor inputs my be also set:"
   ]
  },
  {
   "cell_type": "code",
   "execution_count": 12,
   "id": "08610092-3ae3-4421-8354-e4a57673d7de",
   "metadata": {},
   "outputs": [
    {
     "data": {
      "text/plain": [
       "0.0"
      ]
     },
     "execution_count": 12,
     "metadata": {},
     "output_type": "execute_result"
    }
   ],
   "source": [
    "n = [5]*10                        # Shape of the tensor\n",
    "Y = teneva.tensor_rand(n, 2)      # 10-dim random TT-tensor with TT-rank 2\n",
    "P = [np.zeros(k) for k in n]      # The \"probability\"\n",
    "teneva.mean(Y, P)                 # The mean value"
   ]
  },
  {
   "cell_type": "markdown",
   "id": "389290c6-362d-42ae-9b79-f50e4309a3d6",
   "metadata": {},
   "source": [
    "## Function `norm`"
   ]
  },
  {
   "cell_type": "markdown",
   "id": "a76c393d-c3d5-4f78-bcf2-0118e2d7229d",
   "metadata": {},
   "source": [
    "Compute Frobenius norm of the given TT-tensor."
   ]
  },
  {
   "cell_type": "code",
   "execution_count": 13,
   "id": "180b9ef8-a459-418f-b240-a7a3e0253966",
   "metadata": {},
   "outputs": [],
   "source": [
    "Y = teneva.tensor_rand([5]*10, 2) # 10-dim random TT-tensor with TT-rank 2"
   ]
  },
  {
   "cell_type": "code",
   "execution_count": 14,
   "id": "ab584f66-87c1-4d61-9e67-839f3091a23c",
   "metadata": {},
   "outputs": [
    {
     "name": "stdout",
     "output_type": "stream",
     "text": [
      "27798.44414412251\n"
     ]
    }
   ],
   "source": [
    "v = teneva.norm(Y)                # Compute the Frobenius norm\n",
    "print(v)                          # Print the resulting value"
   ]
  },
  {
   "cell_type": "code",
   "execution_count": 15,
   "id": "b97aa6ad-8784-49dd-b957-9feced09a95c",
   "metadata": {},
   "outputs": [
    {
     "name": "stdout",
     "output_type": "stream",
     "text": [
      "27798.444144122514\n",
      "Error     : 1.31e-16\n"
     ]
    }
   ],
   "source": [
    "Y_full = teneva.full(Y)           # Compute tensor in the full format to check the result\n",
    "\n",
    "v_full = np.linalg.norm(Y_full)\n",
    "print(v_full)                     # Print the resulting value from full tensor\n",
    "\n",
    "e = abs((v - v_full)/v_full)      # Compute error for TT-tensor vs full tensor \n",
    "print(f'Error     : {e:-8.2e}')   # Rel. error"
   ]
  },
  {
   "cell_type": "markdown",
   "id": "55e75583-aba6-4e13-ae57-60ac7dbdcdd3",
   "metadata": {},
   "source": [
    "## Function `sum`"
   ]
  },
  {
   "cell_type": "markdown",
   "id": "d3fa8159-401b-4793-973f-047d98492611",
   "metadata": {},
   "source": [
    "Compute sum of all tensor elements."
   ]
  },
  {
   "cell_type": "code",
   "execution_count": 16,
   "id": "7cd851ed-cfd7-4deb-b123-07df535df626",
   "metadata": {},
   "outputs": [
    {
     "data": {
      "text/plain": [
       "-1870.6371369853034"
      ]
     },
     "execution_count": 16,
     "metadata": {},
     "output_type": "execute_result"
    }
   ],
   "source": [
    "Y = teneva.tensor_rand([10, 12, 8, 8, 30], 2) # 5-dim random TT-tensor with TT-rank 2\n",
    "teneva.sum(Y)                                 # Sum of the TT-tensor elements"
   ]
  },
  {
   "cell_type": "code",
   "execution_count": 17,
   "id": "8e2965e7-7e9c-4983-9a78-c714d6a1b679",
   "metadata": {},
   "outputs": [
    {
     "data": {
      "text/plain": [
       "-1870.6371369853034"
      ]
     },
     "execution_count": 17,
     "metadata": {},
     "output_type": "execute_result"
    }
   ],
   "source": [
    "Z = teneva.full(Y) # Compute tensors in the full format to check the result\n",
    "np.sum(Z)"
   ]
  },
  {
   "cell_type": "markdown",
   "id": "5157c326-a02c-41fc-b82d-af0d55ddfb18",
   "metadata": {},
   "source": [
    "---"
   ]
  }
 ],
 "metadata": {
  "kernelspec": {
   "display_name": "Python 3",
   "language": "python",
   "name": "python3"
  },
  "language_info": {
   "codemirror_mode": {
    "name": "ipython",
    "version": 3
   },
   "file_extension": ".py",
   "mimetype": "text/x-python",
   "name": "python",
   "nbconvert_exporter": "python",
   "pygments_lexer": "ipython3",
   "version": "3.8.8"
  }
 },
 "nbformat": 4,
 "nbformat_minor": 5
}

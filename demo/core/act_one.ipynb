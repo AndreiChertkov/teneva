{
 "cells": [
  {
   "cell_type": "markdown",
   "id": "e51b9291-f33c-40ad-96ee-e2f9454ffc69",
   "metadata": {},
   "source": [
    "**Demo for `teneva.core.act_one`**\n",
    "\n",
    "---\n",
    "\n",
    "This module contains the basic operations with one TT-tensor (Y), including \"copy\", \"get\", \"sum\", etc."
   ]
  },
  {
   "cell_type": "markdown",
   "id": "3896a55c-1131-44fc-b746-1433ad4ddb08",
   "metadata": {},
   "source": [
    "## Loading and importing modules"
   ]
  },
  {
   "cell_type": "code",
   "execution_count": 1,
   "id": "9941ed2c-6272-4144-8c96-4e800f0b5c49",
   "metadata": {},
   "outputs": [],
   "source": [
    "import numpy as np\n",
    "import teneva\n",
    "from time import perf_counter as tpc\n",
    "np.random.seed(42)"
   ]
  },
  {
   "cell_type": "markdown",
   "id": "53ae283b-b86b-403b-ad4c-edd6bf80e5a0",
   "metadata": {},
   "source": [
    "## Function `copy`"
   ]
  },
  {
   "cell_type": "markdown",
   "id": "cb0755cb-31ab-402f-b411-1ed2a7c48a80",
   "metadata": {},
   "source": [
    "Return a copy of the given TT-tensor."
   ]
  },
  {
   "cell_type": "code",
   "execution_count": 2,
   "id": "30411080-6f66-4b4c-a667-b8dc192af300",
   "metadata": {},
   "outputs": [
    {
     "name": "stdout",
     "output_type": "stream",
     "text": [
      "-1.2208436499710222\n",
      "-1.2208436499710222\n"
     ]
    }
   ],
   "source": [
    "Y = teneva.rand([5]*10, 2) # 10-dim random TT-tensor with TT-rank 2\n",
    "Z = teneva.copy(Y)         # The copy of Y\n",
    "print(Y[2][1, 2, 0])\n",
    "print(Z[2][1, 2, 0])"
   ]
  },
  {
   "cell_type": "code",
   "execution_count": 3,
   "id": "27e1a9db-6bab-419e-b89d-948ff0bc7068",
   "metadata": {},
   "outputs": [
    {
     "name": "stdout",
     "output_type": "stream",
     "text": [
      "-1.2208436499710222\n",
      "42.0\n"
     ]
    }
   ],
   "source": [
    "Z[2][1, 2, 0] = 42.\n",
    "\n",
    "print(Y[2][1, 2, 0])\n",
    "print(Z[2][1, 2, 0])"
   ]
  },
  {
   "cell_type": "markdown",
   "id": "4b9b0770-1558-421d-a441-b80b75a60ee3",
   "metadata": {},
   "source": [
    "It also supports numbers for convenience:"
   ]
  },
  {
   "cell_type": "code",
   "execution_count": 4,
   "id": "c07ff2e4-84f2-47ca-b923-c6cfb7e9d3cc",
   "metadata": {},
   "outputs": [
    {
     "data": {
      "text/plain": [
       "42.0"
      ]
     },
     "execution_count": 4,
     "metadata": {},
     "output_type": "execute_result"
    }
   ],
   "source": [
    "teneva.copy(42.)"
   ]
  },
  {
   "cell_type": "markdown",
   "id": "34eea7aa-737f-494a-bd51-bdf059605084",
   "metadata": {},
   "source": [
    "## Function `get`"
   ]
  },
  {
   "cell_type": "markdown",
   "id": "8a13fa68-f4a5-426c-8554-e29a558a15ca",
   "metadata": {},
   "source": [
    "Compute the element with multiindex $k$ from the TT-tensor $Y$. See also a function `tensor.getter` that performs the same operation, but with an acceleration."
   ]
  },
  {
   "cell_type": "code",
   "execution_count": 5,
   "id": "7676216f-0445-4150-b940-e1fb77ebfec7",
   "metadata": {},
   "outputs": [
    {
     "name": "stdout",
     "output_type": "stream",
     "text": [
      "   10  10  10  10  10 \n",
      "  / \\ / \\ / \\ / \\ / \\ \n",
      " 1   10 100 100  10  1  \n",
      "\n"
     ]
    },
    {
     "data": {
      "text/plain": [
       "1.2212453270876722e-15"
      ]
     },
     "execution_count": 5,
     "metadata": {},
     "output_type": "execute_result"
    }
   ],
   "source": [
    "n = [10] * 5              # Shape of the tensor      \n",
    "Y0 = np.random.randn(*n)  # Create 5-dim random numpy tensor\n",
    "Y1 = teneva.svd(Y0)       # Compute TT-tensor from Y0 by TT-SVD\n",
    "teneva.show(Y1)           # Print the TT-tensor\n",
    "k = [1, 2, 3, 4, 5]       # Select some tensor element\n",
    "y1 = teneva.get(Y1, k)    # Compute the element of the TT-tensor\n",
    "y0 = Y0[tuple(k)]         # Compute the same element of the original tensor\n",
    "abs(np.max(y1-y0))        # Compare original tensor and reconstructed tensor"
   ]
  },
  {
   "cell_type": "markdown",
   "id": "39dde4fa-a06f-428f-b4a3-117ed3ca5008",
   "metadata": {},
   "source": [
    "This function is also support batch mode:"
   ]
  },
  {
   "cell_type": "code",
   "execution_count": 6,
   "id": "a1eca025-2a7d-4a24-b22b-6afd03c683e0",
   "metadata": {},
   "outputs": [
    {
     "data": {
      "text/plain": [
       "0.027701036030878035"
      ]
     },
     "execution_count": 6,
     "metadata": {},
     "output_type": "execute_result"
    }
   ],
   "source": [
    "K = [\n",
    "    [1, 2, 3, 4, 5],\n",
    "    [0, 0, 0, 0, 0],\n",
    "    [5, 4, 3, 2, 1],\n",
    "]\n",
    "\n",
    "y1 = teneva.get(Y1, k)\n",
    "y0 = [Y0[tuple(k)] for k in K]\n",
    "abs(np.max(y1-y0))"
   ]
  },
  {
   "cell_type": "markdown",
   "id": "776f8475-58ff-41e2-be36-2b8f313dde57",
   "metadata": {},
   "source": [
    "## Function `get_many`"
   ]
  },
  {
   "cell_type": "markdown",
   "id": "c692eebd-9c06-47fc-b60f-3ecb69170de2",
   "metadata": {},
   "source": [
    "Compute the elements of the TT-tensor on many indices (the function \"get\" with 2-dimensional argument may be used instead)."
   ]
  },
  {
   "cell_type": "code",
   "execution_count": 7,
   "id": "abecd87a-789d-4ea2-8314-ce6ba459bb14",
   "metadata": {},
   "outputs": [
    {
     "name": "stdout",
     "output_type": "stream",
     "text": [
      "   10  10  10  10  10 \n",
      "  / \\ / \\ / \\ / \\ / \\ \n",
      " 1   10 100 100  10  1  \n",
      "\n"
     ]
    },
    {
     "data": {
      "text/plain": [
       "5.051514762044462e-15"
      ]
     },
     "execution_count": 7,
     "metadata": {},
     "output_type": "execute_result"
    }
   ],
   "source": [
    "n = [10] * 5                    # Shape of the tensor      \n",
    "Y0 = np.random.randn(*n)        # Create 5-dim random numpy tensor\n",
    "Y1 = teneva.svd(Y0)             # Compute TT-tensor from Y0 by TT-SVD\n",
    "teneva.show(Y1)                 # Print the TT-tensor\n",
    "K = [                           # Select some tensor elements\n",
    "    [1, 2, 3, 4, 5],\n",
    "    [0, 0, 0, 0, 0],\n",
    "    [5, 4, 3, 2, 1],\n",
    "]     \n",
    "y1 = teneva.get_many(Y1, K)     # Compute the element of the TT-tensor\n",
    "y0 = [Y0[tuple(k)] for k in K]  # Compute the same element of the original tensor\n",
    "abs(np.max(y1-y0))              # Compare original tensor and reconstructed tensor"
   ]
  },
  {
   "cell_type": "markdown",
   "id": "3c8892a7-7493-4bb6-a4c5-416d69816cec",
   "metadata": {},
   "source": [
    "## Function `getter`"
   ]
  },
  {
   "cell_type": "markdown",
   "id": "3ae261d5-185b-45e5-8295-49739bf0c443",
   "metadata": {},
   "source": [
    "Build fast (accelerated by numba) function that computes the element with multiindex $k$ for the TT-tensor $Y$. See also a function `tensor.get` for more details. Note that this function is not support the batch mode."
   ]
  },
  {
   "cell_type": "code",
   "execution_count": 8,
   "id": "015623bf-01ca-4e97-a8a5-b01baf9b1801",
   "metadata": {},
   "outputs": [
    {
     "data": {
      "text/plain": [
       "8.881784197001252e-16"
      ]
     },
     "execution_count": 8,
     "metadata": {},
     "output_type": "execute_result"
    }
   ],
   "source": [
    "n = [10] * 5              # Shape of the tensor      \n",
    "Y0 = np.random.randn(*n)  # Create 5-dim random numpy tensor\n",
    "Y1 = teneva.svd(Y0)       # Compute TT-tensor from Y0 by TT-SVD\n",
    "get = teneva.getter(Y1)   # Build (compile) function to compute the element of the TT-tensor\n",
    "k = (1, 2, 3, 4, 5)       # Select some tensor element\n",
    "y1 = get(k)               # Compute the element of the TT-tensor\n",
    "y0 = Y0[k]                # Compute the same element of the original tensor\n",
    "abs(np.max(y1-y0))        # Compare original tensor and reconstructed tensor"
   ]
  },
  {
   "cell_type": "markdown",
   "id": "55e75583-aba6-4e13-ae57-60ac7dbdcdd3",
   "metadata": {},
   "source": [
    "## Function `sum`"
   ]
  },
  {
   "cell_type": "markdown",
   "id": "d3fa8159-401b-4793-973f-047d98492611",
   "metadata": {},
   "source": [
    "Compute sum of all tensor elements."
   ]
  },
  {
   "cell_type": "code",
   "execution_count": 9,
   "id": "7cd851ed-cfd7-4deb-b123-07df535df626",
   "metadata": {},
   "outputs": [
    {
     "data": {
      "text/plain": [
       "324.730045434206"
      ]
     },
     "execution_count": 9,
     "metadata": {},
     "output_type": "execute_result"
    }
   ],
   "source": [
    "Y = teneva.rand([10, 12, 8, 8, 30], 2) # 5-dim random TT-tensor with TT-rank 2\n",
    "teneva.sum(Y)                          # Sum of the TT-tensor elements"
   ]
  },
  {
   "cell_type": "code",
   "execution_count": 10,
   "id": "8e2965e7-7e9c-4983-9a78-c714d6a1b679",
   "metadata": {},
   "outputs": [
    {
     "data": {
      "text/plain": [
       "324.7300454342051"
      ]
     },
     "execution_count": 10,
     "metadata": {},
     "output_type": "execute_result"
    }
   ],
   "source": [
    "Z = teneva.full(Y)                     # Compute tensors in the full format to check the result\n",
    "np.sum(Z)"
   ]
  },
  {
   "cell_type": "markdown",
   "id": "5157c326-a02c-41fc-b82d-af0d55ddfb18",
   "metadata": {},
   "source": [
    "---"
   ]
  }
 ],
 "metadata": {
  "kernelspec": {
   "display_name": "Python 3",
   "language": "python",
   "name": "python3"
  },
  "language_info": {
   "codemirror_mode": {
    "name": "ipython",
    "version": 3
   },
   "file_extension": ".py",
   "mimetype": "text/x-python",
   "name": "python",
   "nbconvert_exporter": "python",
   "pygments_lexer": "ipython3",
   "version": "3.8.8"
  }
 },
 "nbformat": 4,
 "nbformat_minor": 5
}

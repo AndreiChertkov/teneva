{
 "cells": [
  {
   "cell_type": "markdown",
   "id": "e51b9291-f33c-40ad-96ee-e2f9454ffc69",
   "metadata": {},
   "source": [
    "**Demo for `teneva.core.props`**\n",
    "\n",
    "---\n",
    "\n",
    "This module contains the basic properties of TT-tensors, including \"mean\",\n",
    "\"norm\", \"ranks\", etc."
   ]
  },
  {
   "cell_type": "markdown",
   "id": "3896a55c-1131-44fc-b746-1433ad4ddb08",
   "metadata": {},
   "source": [
    "## Loading and importing modules"
   ]
  },
  {
   "cell_type": "code",
   "execution_count": 1,
   "id": "9941ed2c-6272-4144-8c96-4e800f0b5c49",
   "metadata": {},
   "outputs": [],
   "source": [
    "import numpy as np\n",
    "import teneva\n",
    "from time import perf_counter as tpc\n",
    "np.random.seed(42)"
   ]
  },
  {
   "cell_type": "markdown",
   "id": "c73f6184-e339-423b-a43c-51892aa3f60b",
   "metadata": {},
   "source": [
    "## Function `accuracy_on_data`"
   ]
  },
  {
   "cell_type": "markdown",
   "id": "1ba7aa15-86d0-4048-bca5-2ad506beee11",
   "metadata": {},
   "source": [
    "Compute the relative error of TT-tensor on the dataset."
   ]
  },
  {
   "cell_type": "code",
   "execution_count": 2,
   "id": "22ea3536-0dd9-4a30-bc6c-38449681bf59",
   "metadata": {},
   "outputs": [
    {
     "name": "stdout",
     "output_type": "stream",
     "text": [
      "Accuracy     : 1.35e-04\n"
     ]
    }
   ],
   "source": [
    "m = 100                                     # Size of the dataset\n",
    "n = [5] * 10                                # Shape of the tensor\n",
    "Y = teneva.rand(n, 2)                       # Random TT-tensor with TT-rank 2\n",
    "I_data = teneva.sample_lhs(n, m)            # Let build toy dataset\n",
    "Y_data = [teneva.get(Y, i) for i in I_data]\n",
    "Y_data = np.array(Y_data)\n",
    "Y_data = Y_data + 1.E-3*np.random.randn(m)  # Add add some noise\n",
    "\n",
    "# Compute the accuracy:\n",
    "eps = teneva.accuracy_on_data(Y, I_data, Y_data)\n",
    "print(f'Accuracy     : {eps:-8.2e}')"
   ]
  },
  {
   "cell_type": "markdown",
   "id": "9d11e7eb-1433-4d58-8e5f-39a39cef94ed",
   "metadata": {},
   "source": [
    "## Function `erank`"
   ]
  },
  {
   "cell_type": "markdown",
   "id": "2c15400d-75ad-44fe-aac1-463544f00a25",
   "metadata": {},
   "source": [
    "Compute the effective TT-rank of the given TT-tensor, i.e. constant rank of TT-tensor, which would have the same number of parameters as the given TT-tensor."
   ]
  },
  {
   "cell_type": "code",
   "execution_count": 3,
   "id": "11b5061b-6e9a-4053-baf1-75cdfdb5b58b",
   "metadata": {},
   "outputs": [
    {
     "data": {
      "text/plain": [
       "2.0"
      ]
     },
     "execution_count": 3,
     "metadata": {},
     "output_type": "execute_result"
    }
   ],
   "source": [
    "Y = teneva.rand([5]*10, 2) # 10-dim random TT-tensor with TT-rank 2\n",
    "teneva.erank(Y)            # The effective TT-rank"
   ]
  },
  {
   "cell_type": "markdown",
   "id": "4fc4dcbe-00b0-423c-a43d-809b85fcb001",
   "metadata": {},
   "source": [
    "## Function `mean`"
   ]
  },
  {
   "cell_type": "markdown",
   "id": "bcd94a19-0f2d-40e4-b2bf-6c849a9a074a",
   "metadata": {},
   "source": [
    "Compute mean value of the TT-tensor."
   ]
  },
  {
   "cell_type": "code",
   "execution_count": 4,
   "id": "8dba9076-cef3-4729-80f9-46871334adc2",
   "metadata": {},
   "outputs": [],
   "source": [
    "Y = teneva.rand([5]*10, 2)   # 10-dim random TT-tensor with TT-rank 2\n",
    "m = teneva.mean(Y)           # The mean value"
   ]
  },
  {
   "cell_type": "code",
   "execution_count": 5,
   "id": "696a7700-37f7-4116-b503-bd0f39c08c11",
   "metadata": {},
   "outputs": [
    {
     "name": "stdout",
     "output_type": "stream",
     "text": [
      "Error     : 1.48e-18\n"
     ]
    }
   ],
   "source": [
    "Y_full = teneva.full(Y)      # Compute tensor in the full format to check the result\n",
    "m_full = np.mean(Y_full)     # The mean value for the numpy array\n",
    "e = abs(m - m_full)          # Compute error for TT-tensor vs full tensor \n",
    "print(f'Error     : {e:-8.2e}')"
   ]
  },
  {
   "cell_type": "markdown",
   "id": "7b7da632-ce4c-4a84-b92c-0b660c35d974",
   "metadata": {},
   "source": [
    "The probability of tensor inputs my be also set:"
   ]
  },
  {
   "cell_type": "code",
   "execution_count": 6,
   "id": "0d6fb46c-8648-4525-92d4-bc57f520fe0b",
   "metadata": {},
   "outputs": [
    {
     "data": {
      "text/plain": [
       "0.0"
      ]
     },
     "execution_count": 6,
     "metadata": {},
     "output_type": "execute_result"
    }
   ],
   "source": [
    "n = [5]*10                   # Shape of the tensor\n",
    "Y = teneva.rand(n, 2)        # 10-dim random TT-tensor with TT-rank 2\n",
    "P = [np.zeros(k) for k in n] # The \"probability\"\n",
    "teneva.mean(Y, P)            # The mean value"
   ]
  },
  {
   "cell_type": "markdown",
   "id": "d1ec6601-ad26-4c40-a5f2-846f36479fef",
   "metadata": {},
   "source": [
    "## Function `norm`"
   ]
  },
  {
   "cell_type": "markdown",
   "id": "a2aa9b5b-9eca-4cbe-a6a0-d59bf10ae744",
   "metadata": {},
   "source": [
    "Compute Frobenius norm of the given TT-tensor."
   ]
  },
  {
   "cell_type": "code",
   "execution_count": 7,
   "id": "d4320e79-b382-4b0f-a924-b9c16e029345",
   "metadata": {},
   "outputs": [],
   "source": [
    "Y = teneva.rand([5]*10, 2)            # 10-dim random TT-tensor with TT-rank 2"
   ]
  },
  {
   "cell_type": "code",
   "execution_count": 8,
   "id": "352e4dc8-f2ef-4e2f-8e80-76b8e70b659f",
   "metadata": {},
   "outputs": [
    {
     "name": "stdout",
     "output_type": "stream",
     "text": [
      "73636.62749118447\n"
     ]
    }
   ],
   "source": [
    "v = teneva.norm(Y)                    # Compute the Frobenius norm\n",
    "print(v)                              # Print the resulting value"
   ]
  },
  {
   "cell_type": "code",
   "execution_count": 9,
   "id": "32407948-7fe1-4323-b8e4-60523acddf09",
   "metadata": {},
   "outputs": [
    {
     "name": "stdout",
     "output_type": "stream",
     "text": [
      "73636.62749118448\n",
      "Error     : 1.98e-16\n"
     ]
    }
   ],
   "source": [
    "Y_full = teneva.full(Y)               # Compute tensor in the full format to check the result\n",
    "\n",
    "v_full = np.linalg.norm(Y_full)\n",
    "print(v_full)                         # Print the resulting value from full tensor\n",
    "\n",
    "e = abs((v - v_full)/v_full)          # Compute error for TT-tensor vs full tensor \n",
    "print(f'Error     : {e:-8.2e}')       # Rel. error"
   ]
  },
  {
   "cell_type": "markdown",
   "id": "fdc1f571-ed82-4d74-b3c6-b0b4df8caa92",
   "metadata": {},
   "source": [
    "## Function `ranks`"
   ]
  },
  {
   "cell_type": "markdown",
   "id": "6111cb00-99b9-438e-a9a3-b94e7ebe6d7e",
   "metadata": {},
   "source": [
    "Function get the TT-ranks of the given TT-tensor."
   ]
  },
  {
   "cell_type": "code",
   "execution_count": 10,
   "id": "ebfa9eb1-3fb9-4200-b664-1a86aefc14d6",
   "metadata": {},
   "outputs": [
    {
     "data": {
      "text/plain": [
       "array([1, 2, 2, 2, 2, 1])"
      ]
     },
     "execution_count": 10,
     "metadata": {},
     "output_type": "execute_result"
    }
   ],
   "source": [
    "Y = teneva.rand([10, 12, 8, 8, 30], 2) # 5-dim random TT-tensor with TT-rank 2\n",
    "teneva.ranks(Y)                        # TT-ranks of the TT-tensor"
   ]
  },
  {
   "cell_type": "markdown",
   "id": "9588c063-f4bf-41b6-8f49-b36c7de6d447",
   "metadata": {},
   "source": [
    "## Function `shape`"
   ]
  },
  {
   "cell_type": "markdown",
   "id": "e874cc5f-8c6c-4774-baf1-e1de89bc3303",
   "metadata": {},
   "source": [
    "Function get the shape of the given TT-tensor."
   ]
  },
  {
   "cell_type": "code",
   "execution_count": 11,
   "id": "f8e87df0-da65-4acd-9ee9-825082d77626",
   "metadata": {},
   "outputs": [
    {
     "data": {
      "text/plain": [
       "array([10, 12,  8,  8, 30])"
      ]
     },
     "execution_count": 11,
     "metadata": {},
     "output_type": "execute_result"
    }
   ],
   "source": [
    "Y = teneva.rand([10, 12, 8, 8, 30], 2) # 5-dim random TT-tensor with TT-rank 2\n",
    "teneva.shape(Y)                        # Shape of the TT-tensor"
   ]
  },
  {
   "cell_type": "markdown",
   "id": "63f87623-649f-4abf-a028-1ad1f12dba8a",
   "metadata": {},
   "source": [
    "## Function `size`"
   ]
  },
  {
   "cell_type": "markdown",
   "id": "1f0dbd4a-6dbd-4a17-b052-3073139fbec4",
   "metadata": {},
   "source": [
    "Function get the size (number of parameters) of the given TT-tensor."
   ]
  },
  {
   "cell_type": "code",
   "execution_count": 12,
   "id": "32219402-d7c9-4bf5-8111-cd1a24a9dbb6",
   "metadata": {},
   "outputs": [
    {
     "data": {
      "text/plain": [
       "192"
      ]
     },
     "execution_count": 12,
     "metadata": {},
     "output_type": "execute_result"
    }
   ],
   "source": [
    "Y = teneva.rand([10, 12, 8, 8, 30], 2) # 5-dim random TT-tensor with TT-rank 2\n",
    "teneva.size(Y)                         # Size of the TT-tensor"
   ]
  },
  {
   "cell_type": "markdown",
   "id": "5157c326-a02c-41fc-b82d-af0d55ddfb18",
   "metadata": {},
   "source": [
    "---"
   ]
  }
 ],
 "metadata": {
  "kernelspec": {
   "display_name": "Python 3",
   "language": "python",
   "name": "python3"
  },
  "language_info": {
   "codemirror_mode": {
    "name": "ipython",
    "version": 3
   },
   "file_extension": ".py",
   "mimetype": "text/x-python",
   "name": "python",
   "nbconvert_exporter": "python",
   "pygments_lexer": "ipython3",
   "version": "3.8.8"
  }
 },
 "nbformat": 4,
 "nbformat_minor": 5
}

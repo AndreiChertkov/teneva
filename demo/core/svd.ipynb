{
 "cells": [
  {
   "cell_type": "markdown",
   "id": "e51b9291-f33c-40ad-96ee-e2f9454ffc69",
   "metadata": {},
   "source": [
    "**Demo for `teneva.core.svd`**\n",
    "\n",
    "---\n",
    "\n",
    "Module contains the basic implementation of the TT-SVD algorithm as well as new original TT-SVD-incomplete algorithm, which implements efficient construction of the TT-tensor based on specially selected elements. This module also contains functions for constructing the SVD decomposition and skeleton decomposition for the matrices."
   ]
  },
  {
   "cell_type": "markdown",
   "id": "3896a55c-1131-44fc-b746-1433ad4ddb08",
   "metadata": {},
   "source": [
    "## Loading and importing modules"
   ]
  },
  {
   "cell_type": "code",
   "execution_count": 1,
   "id": "9941ed2c-6272-4144-8c96-4e800f0b5c49",
   "metadata": {},
   "outputs": [],
   "source": [
    "import numpy as np\n",
    "import teneva\n",
    "from time import perf_counter as tpc\n",
    "np.random.seed(42)"
   ]
  },
  {
   "cell_type": "markdown",
   "id": "0b1793f6-3ac2-445f-8ee5-642e906f98d3",
   "metadata": {},
   "source": [
    "## Function `matrix_skeleton`"
   ]
  },
  {
   "cell_type": "markdown",
   "id": "d95fb685-b9cf-46f6-895e-4e747b4b579a",
   "metadata": {},
   "source": [
    "Construct truncated skeleton decomposition A = U V for the given matrix."
   ]
  },
  {
   "cell_type": "code",
   "execution_count": 2,
   "id": "bb5a8d6e-15fa-444f-aafd-2ba8e7c944b3",
   "metadata": {},
   "outputs": [],
   "source": [
    "m, n = 100, 30                                        # Shape of the matrix\n",
    "A = np.outer(np.random.randn(m), np.random.randn(n))  # Build random matrix,\n",
    "A += np.outer(np.random.randn(m), np.random.randn(n)) # which has rank 3,\n",
    "A += np.outer(np.random.randn(m), np.random.randn(n)) # as a sum of rank-1 matrices"
   ]
  },
  {
   "cell_type": "code",
   "execution_count": 3,
   "id": "7c25e430-8735-4959-96db-286a5d159e95",
   "metadata": {},
   "outputs": [
    {
     "name": "stdout",
     "output_type": "stream",
     "text": [
      "Shape of U : (100, 3)\n",
      "Shape of V : (3, 30)\n",
      "Error      : 6.09e-16\n"
     ]
    }
   ],
   "source": [
    "U, V = teneva.matrix_skeleton(A, e=1.E-10)            # Compute skeleton decomp.\n",
    "e = np.linalg.norm(A - U @ V) / np.linalg.norm(A)     # Approximation error\n",
    "print(f'Shape of U :', U.shape)\n",
    "print(f'Shape of V :',V.shape)\n",
    "print(f'Error      : {e:-8.2e}')"
   ]
  },
  {
   "cell_type": "code",
   "execution_count": 4,
   "id": "e3b908f2-653c-4696-8f11-705b207c567c",
   "metadata": {},
   "outputs": [
    {
     "name": "stdout",
     "output_type": "stream",
     "text": [
      "Shape of U : (100, 2)\n",
      "Shape of V : (2, 30)\n",
      "Error      : 4.60e-01\n"
     ]
    }
   ],
   "source": [
    "U, V = teneva.matrix_skeleton(A, r=2)                 # Compute skeleton decomp with small rank\n",
    "e = np.linalg.norm(A - U @ V) / np.linalg.norm(A)     # Approximation error\n",
    "print(f'Shape of U :', U.shape)\n",
    "print(f'Shape of V :',V.shape)\n",
    "print(f'Error      : {e:-8.2e}')"
   ]
  },
  {
   "cell_type": "markdown",
   "id": "5ae0cbdc-4341-4296-9cdf-efcca21b65cc",
   "metadata": {},
   "source": [
    "## Function `matrix_svd`"
   ]
  },
  {
   "cell_type": "markdown",
   "id": "ef44d880-76e8-49db-82fa-db5e06cb58a1",
   "metadata": {},
   "source": [
    "Construct truncated SVD decomposition A = U V for the given matrix."
   ]
  },
  {
   "cell_type": "code",
   "execution_count": 5,
   "id": "efcac58c-94f3-4329-8bf9-0a56dfac6e4b",
   "metadata": {},
   "outputs": [],
   "source": [
    "m, n = 100, 30                                        # Shape of the matrix\n",
    "A = np.outer(np.random.randn(m), np.random.randn(n))  # Build random matrix,\n",
    "A += np.outer(np.random.randn(m), np.random.randn(n)) # which has rank 3,\n",
    "A += np.outer(np.random.randn(m), np.random.randn(n)) # as a sum of rank-1 matrices"
   ]
  },
  {
   "cell_type": "code",
   "execution_count": 6,
   "id": "ec88347b-990e-4ee6-835c-1be15a4adb67",
   "metadata": {},
   "outputs": [
    {
     "name": "stdout",
     "output_type": "stream",
     "text": [
      "Shape of U : (100, 17)\n",
      "Shape of V : (17, 30)\n",
      "Error      : 5.00e-16\n"
     ]
    }
   ],
   "source": [
    "U, V = teneva.matrix_svd(A, e=1.E-10)                 # Compute SVD-decomp.\n",
    "e = np.linalg.norm(A - U @ V) / np.linalg.norm(A)     # Approximation error\n",
    "print(f'Shape of U :', U.shape)\n",
    "print(f'Shape of V :',V.shape)\n",
    "print(f'Error      : {e:-8.2e}')"
   ]
  },
  {
   "cell_type": "code",
   "execution_count": 7,
   "id": "4a4018ed-6c86-450e-880c-b0bb6e9a97b2",
   "metadata": {},
   "outputs": [
    {
     "name": "stdout",
     "output_type": "stream",
     "text": [
      "Shape of U : (100, 3)\n",
      "Shape of V : (3, 30)\n",
      "Error      : 4.70e-16\n"
     ]
    }
   ],
   "source": [
    "U, V = teneva.matrix_svd(A, r=3)                      # Compute SVD-decomp.\n",
    "e = np.linalg.norm(A - U @ V) / np.linalg.norm(A)     # Approximation error\n",
    "print(f'Shape of U :', U.shape)\n",
    "print(f'Shape of V :',V.shape)\n",
    "print(f'Error      : {e:-8.2e}')"
   ]
  },
  {
   "cell_type": "code",
   "execution_count": 8,
   "id": "6f645804-57bc-4ca0-9062-a51c08c1c2e5",
   "metadata": {},
   "outputs": [
    {
     "name": "stdout",
     "output_type": "stream",
     "text": [
      "Shape of U : (100, 3)\n",
      "Shape of V : (3, 30)\n",
      "Error      : 4.70e-16\n"
     ]
    }
   ],
   "source": [
    "U, V = teneva.matrix_svd(A, e=1.E-2)                  # Compute SVD-decomp.\n",
    "e = np.linalg.norm(A - U @ V) / np.linalg.norm(A)     # Approximation error\n",
    "print(f'Shape of U :', U.shape)\n",
    "print(f'Shape of V :',V.shape)\n",
    "print(f'Error      : {e:-8.2e}')"
   ]
  },
  {
   "cell_type": "code",
   "execution_count": 9,
   "id": "197d45f9-540f-4ccc-9b73-a90e06a63ea6",
   "metadata": {},
   "outputs": [
    {
     "name": "stdout",
     "output_type": "stream",
     "text": [
      "Shape of U : (100, 2)\n",
      "Shape of V : (2, 30)\n",
      "Error      : 4.37e-01\n"
     ]
    }
   ],
   "source": [
    "U, V = teneva.matrix_svd(A, r=2)                      # Compute SVD-decomp.\n",
    "e = np.linalg.norm(A - U @ V) / np.linalg.norm(A)     # Approximation error\n",
    "print(f'Shape of U :', U.shape)\n",
    "print(f'Shape of V :',V.shape)\n",
    "print(f'Error      : {e:-8.2e}')"
   ]
  },
  {
   "cell_type": "markdown",
   "id": "5e2876a0-12ca-4ee6-9358-234ee4dc7c4b",
   "metadata": {},
   "source": [
    "## Function `svd`"
   ]
  },
  {
   "cell_type": "markdown",
   "id": "79a92aa4-6901-45af-ace4-3f67c4f1d175",
   "metadata": {},
   "source": [
    "Construct TT-tensor from the given full tensor using TT-SVD algorithm."
   ]
  },
  {
   "cell_type": "code",
   "execution_count": 10,
   "id": "bfa9a8e5-4c5a-4cce-bd8e-afd980dd8dad",
   "metadata": {},
   "outputs": [],
   "source": [
    "d = 20                                          # Dimension number\n",
    "t = np.arange(2**d)                             # Tensor will be 2^d\n",
    "Z_full = np.cos(t).reshape([2] * d, order='F')  # Construct d-dim full array"
   ]
  },
  {
   "cell_type": "code",
   "execution_count": 11,
   "id": "507ca6b2-c2b9-4811-98de-434f23ce5b67",
   "metadata": {},
   "outputs": [],
   "source": [
    "Y = teneva.svd(Z_full)                          # Construct TT-tensor by TT-SVD\n",
    "Y_full = teneva.full(Y)                         # Convert it back to numpy to check result\n",
    "e = np.linalg.norm(Y_full - Z_full)             # Compute error for TT-tensor vs full tensor \n",
    "e /= np.linalg.norm(Z_full)                     #"
   ]
  },
  {
   "cell_type": "code",
   "execution_count": 12,
   "id": "2881aebd-45ab-4adb-98d0-1d3dbf77b91c",
   "metadata": {},
   "outputs": [
    {
     "name": "stdout",
     "output_type": "stream",
     "text": [
      "Size (np) :  1048576\n",
      "Size (tt) :      152\n",
      "Erank     :     2.00\n",
      "Error     : 1.58e-14\n"
     ]
    }
   ],
   "source": [
    "print(f'Size (np) : {Z_full.size:-8d}')         # Size of original tensor\n",
    "print(f'Size (tt) : {teneva.size(Y):-8d}')      # Size of the TT-tensor\n",
    "print(f'Erank     : {teneva.erank(Y):-8.2f}')   # Eff. rank of the TT-tensor\n",
    "print(f'Error     : {e:-8.2e}')                 # Rel. error for TT-tensor vs full tensor"
   ]
  },
  {
   "cell_type": "markdown",
   "id": "c53e1d31-2ce6-4106-a6c3-835fda4f674d",
   "metadata": {},
   "source": [
    "## Function `svd_incomplete`"
   ]
  },
  {
   "cell_type": "markdown",
   "id": "12c8a4d0-7a1f-46e0-976e-7fa73a170fb8",
   "metadata": {},
   "source": [
    "Construct TT-tensor from the given specially selected samples."
   ]
  },
  {
   "cell_type": "code",
   "execution_count": 13,
   "id": "be959559-dafc-4bf5-9ba6-d7e7e45edbd4",
   "metadata": {},
   "outputs": [],
   "source": [
    "d = 20                                              # Dimension number\n",
    "n = [2] * d                                         # Shape of the tensor/grid\n",
    "t = np.arange(2**d)                                 # Tensor will be 2^d\n",
    "Z_full = np.cos(t).reshape([2] * d, order='F')      # Construct d-dim full array"
   ]
  },
  {
   "cell_type": "code",
   "execution_count": 14,
   "id": "d29775d3-9420-4a97-bc5a-061f48b03d76",
   "metadata": {},
   "outputs": [],
   "source": [
    "m = 4                                               # The expected TT-rank\n",
    "I_trn, idx, idx_many = teneva.sample_tt(n, m)       # Generate special samples (indices) for the tensor"
   ]
  },
  {
   "cell_type": "code",
   "execution_count": 15,
   "id": "59541dc7-43de-467d-86b6-65ee768919d8",
   "metadata": {},
   "outputs": [],
   "source": [
    "Y_trn = np.array([Z_full[tuple(i)] for i in I_trn]) # Compute tensor values in I multiindices"
   ]
  },
  {
   "cell_type": "code",
   "execution_count": 16,
   "id": "0925292e-bf5d-48e7-be1b-a39132d5ddb4",
   "metadata": {},
   "outputs": [
    {
     "name": "stdout",
     "output_type": "stream",
     "text": [
      "  2  2  2  2  2  2  2  2  2  2  2  2  2  2  2  2  2  2  2  2 \n",
      " / \\/ \\/ \\/ \\/ \\/ \\/ \\/ \\/ \\/ \\/ \\/ \\/ \\/ \\/ \\/ \\/ \\/ \\/ \\/ \\\n",
      " 1  2  2  2  2  2  2  2  2  2  2  2  2  2  2  2  2  2  2  2  1 \n",
      "\n"
     ]
    }
   ],
   "source": [
    "Y = teneva.svd_incomplete(I_trn, Y_trn,\n",
    "    idx, idx_many, e=1.E-10, r=3)                   # Construct TT-tensor\n",
    "teneva.show(Y)                                      # Show the tensor"
   ]
  },
  {
   "cell_type": "code",
   "execution_count": 17,
   "id": "0d888c69-4042-4364-937f-2a240b288a05",
   "metadata": {},
   "outputs": [],
   "source": [
    "Y_full = teneva.full(Y)                          # Convert it back to numpy to check result\n",
    "e = np.linalg.norm(Y_full - Z_full)              # Compute error for TT-tensor vs full tensor \n",
    "e /= np.linalg.norm(Z_full)                      #"
   ]
  },
  {
   "cell_type": "code",
   "execution_count": 18,
   "id": "ad9702e7-ff22-44ec-a5c8-8e70b435341d",
   "metadata": {},
   "outputs": [
    {
     "name": "stdout",
     "output_type": "stream",
     "text": [
      "Size (np) :  1048576\n",
      "Size (tt) :      152\n",
      "Erank     :     2.00\n",
      "Error     : 2.01e-15\n"
     ]
    }
   ],
   "source": [
    "print(f'Size (np) : {Z_full.size:-8d}')          # Size of original tensor\n",
    "print(f'Size (tt) : {teneva.size(Y):-8d}')       # Size of the TT-tensor\n",
    "print(f'Erank     : {teneva.erank(Y):-8.2f}')    # Eff. rank of the TT-tensor\n",
    "print(f'Error     : {e:-8.2e}')                  # Rel. error for TT-tensor vs full tensor"
   ]
  },
  {
   "cell_type": "markdown",
   "id": "5157c326-a02c-41fc-b82d-af0d55ddfb18",
   "metadata": {},
   "source": [
    "---"
   ]
  }
 ],
 "metadata": {
  "kernelspec": {
   "display_name": "Python 3",
   "language": "python",
   "name": "python3"
  },
  "language_info": {
   "codemirror_mode": {
    "name": "ipython",
    "version": 3
   },
   "file_extension": ".py",
   "mimetype": "text/x-python",
   "name": "python",
   "nbconvert_exporter": "python",
   "pygments_lexer": "ipython3",
   "version": "3.8.8"
  }
 },
 "nbformat": 4,
 "nbformat_minor": 5
}

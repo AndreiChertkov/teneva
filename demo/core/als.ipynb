{
 "cells": [
  {
   "cell_type": "markdown",
   "id": "e51b9291-f33c-40ad-96ee-e2f9454ffc69",
   "metadata": {},
   "source": [
    "**Demo for `teneva.core.als`**\n",
    "\n",
    "---\n",
    "\n",
    "This module contains the function \"als\" which computes the TT-approximation for the tensor by TT-ALS algorithm, using given random samples."
   ]
  },
  {
   "cell_type": "markdown",
   "id": "3896a55c-1131-44fc-b746-1433ad4ddb08",
   "metadata": {},
   "source": [
    "## Loading and importing modules"
   ]
  },
  {
   "cell_type": "code",
   "execution_count": 1,
   "id": "9941ed2c-6272-4144-8c96-4e800f0b5c49",
   "metadata": {},
   "outputs": [],
   "source": [
    "import numpy as np\n",
    "import teneva\n",
    "from time import perf_counter as tpc\n",
    "np.random.seed(42)"
   ]
  },
  {
   "cell_type": "markdown",
   "id": "3f6437a4-a93e-4265-9fc6-7d4f46a76c4d",
   "metadata": {},
   "source": [
    "## Function `als`"
   ]
  },
  {
   "cell_type": "markdown",
   "id": "cfe8a9e9-ac37-4f38-8008-f81f857ad833",
   "metadata": {},
   "source": [
    "Build TT-tensor by TT-ALS method using given random tensor samples."
   ]
  },
  {
   "cell_type": "code",
   "execution_count": 2,
   "id": "d905d98d-0183-4522-9395-60a001494b18",
   "metadata": {},
   "outputs": [],
   "source": [
    "d         = 5                           # Dimension of the function\n",
    "a         = [-5., -4., -3., -2., -1.]   # Lower bounds for spatial grid\n",
    "b         = [+6., +3., +3., +1., +2.]   # Upper bounds for spatial grid\n",
    "n         = [ 10,  12,  14,  16,  18]   # Shape of the tensor"
   ]
  },
  {
   "cell_type": "code",
   "execution_count": 3,
   "id": "aba30907-47c9-42af-b49b-555ed7ad96c9",
   "metadata": {},
   "outputs": [],
   "source": [
    "m         = 1.E+4                       # Number of calls to target function\n",
    "nswp      = 50                          # Sweep number for ALS iterations\n",
    "r         = 5                           # TT-rank of the initial random tensor"
   ]
  },
  {
   "cell_type": "markdown",
   "id": "e588a535-a646-4545-9f10-e4d09e0255d2",
   "metadata": {},
   "source": [
    "We set the target function (the function takes as input a set of tensor multi-indices I of the shape [samples, dimension], which are transformed into points X of a uniform spatial grid using the function \"ind_to_poi\"):"
   ]
  },
  {
   "cell_type": "code",
   "execution_count": 4,
   "id": "391dd65e-ca27-46f8-a0cc-15a0e3919f08",
   "metadata": {},
   "outputs": [],
   "source": [
    "def func(I):\n",
    "    \"\"\"Schaffer function.\"\"\"\n",
    "    X = teneva.ind_to_poi(I, a, b, n)\n",
    "    Z = X[:, :-1]**2 + X[:, 1:]**2\n",
    "    y = 0.5 + (np.sin(np.sqrt(Z))**2 - 0.5) / (1. + 0.001 * Z)**2\n",
    "    return np.sum(y, axis=1)"
   ]
  },
  {
   "cell_type": "markdown",
   "id": "bcdae82e-67d7-4177-97e2-d097d5738bbe",
   "metadata": {},
   "source": [
    "We prepare train data from the LHS random distribution:"
   ]
  },
  {
   "cell_type": "code",
   "execution_count": 5,
   "id": "fe4f4875-86df-4026-9129-c400a502e302",
   "metadata": {},
   "outputs": [],
   "source": [
    "I_trn = teneva.sample_lhs(n, m) \n",
    "y_trn = func(I_trn)"
   ]
  },
  {
   "cell_type": "markdown",
   "id": "61880140-49a5-404e-9ab1-5172c88e52fa",
   "metadata": {},
   "source": [
    "We prepare test data from as a random tensor multi-indices:"
   ]
  },
  {
   "cell_type": "code",
   "execution_count": 6,
   "id": "1a65ce75-e437-41fd-834c-a6a6a610ab7a",
   "metadata": {},
   "outputs": [],
   "source": [
    "# Test data:\n",
    "\n",
    "# Number of test points:\n",
    "m_tst = int(1.E+4)\n",
    "\n",
    "# Random multi-indices for the test points:\n",
    "I_tst = np.vstack([np.random.choice(k, m_tst) for k in n]).T\n",
    "\n",
    "# Function values for the test points:\n",
    "y_tst = func(I_tst)"
   ]
  },
  {
   "cell_type": "markdown",
   "id": "5588bcc8-939a-4f9d-aac5-58f073e6ab9c",
   "metadata": {},
   "source": [
    "And now we will build the TT-tensor, which approximates the target function by the TT-ALS method. Note that we use TT-ANOVA as an initial approximation (we can instead generate random initial r-rank approximation in the TT-format using the function \"tensor_rand\", but convergence will be worse, and there will also be instability of the solution)."
   ]
  },
  {
   "cell_type": "code",
   "execution_count": 7,
   "id": "fec32781-80f8-494e-a25a-a399c916164f",
   "metadata": {},
   "outputs": [
    {
     "name": "stdout",
     "output_type": "stream",
     "text": [
      "Build time     :       3.02\n"
     ]
    }
   ],
   "source": [
    "t = tpc()\n",
    "Y = teneva.anova(I_trn, y_trn, r)\n",
    "Y = teneva.als(I_trn, y_trn, Y, nswp)\n",
    "t = tpc() - t\n",
    "\n",
    "print(f'Build time     : {t:-10.2f}')"
   ]
  },
  {
   "cell_type": "markdown",
   "id": "e74ce8d7-64d1-4ae1-9041-5500a4f8465b",
   "metadata": {},
   "source": [
    "And now we can check the result:"
   ]
  },
  {
   "cell_type": "code",
   "execution_count": 8,
   "id": "292c1545-2e55-46f6-98a3-2e6d4e8e5dc5",
   "metadata": {},
   "outputs": [
    {
     "name": "stdout",
     "output_type": "stream",
     "text": [
      "Error on train :   2.19e-03\n",
      "Error on test  :   2.56e-03\n"
     ]
    }
   ],
   "source": [
    "# Compute approximation in train points:\n",
    "y_our = teneva.get_many(Y, I_trn)\n",
    "\n",
    "# Accuracy of the result for train points:\n",
    "e_trn = np.linalg.norm(y_our - y_trn)          \n",
    "e_trn /= np.linalg.norm(y_trn)\n",
    "\n",
    "# Compute approximation in test points:\n",
    "y_our = teneva.get_many(Y, I_tst)\n",
    "\n",
    "# Accuracy of the result for test points:\n",
    "e_tst = np.linalg.norm(y_our - y_tst)          \n",
    "e_tst /= np.linalg.norm(y_tst)\n",
    "\n",
    "print(f'Error on train : {e_trn:-10.2e}')\n",
    "print(f'Error on test  : {e_tst:-10.2e}')"
   ]
  },
  {
   "cell_type": "markdown",
   "id": "37487e85-4cba-4469-96e3-836a50c69215",
   "metadata": {},
   "source": [
    "We can also set a validation data set and specify as a stop criterion the accuracy of the TT-approximation on this data (and we can also present the logs):"
   ]
  },
  {
   "cell_type": "code",
   "execution_count": 9,
   "id": "8aa380dc-4782-4cc1-bea7-60d215cc2537",
   "metadata": {},
   "outputs": [],
   "source": [
    "# Validation data:\n",
    "\n",
    "# Number of validation points:\n",
    "m_vld = int(1.E+3)\n",
    "\n",
    "# Random multi-indices for the validation points:\n",
    "I_vld = np.vstack([np.random.choice(k, m_vld) for k in n]).T\n",
    "\n",
    "# Function values for the validation points:\n",
    "y_vld = func(I_vld)"
   ]
  },
  {
   "cell_type": "code",
   "execution_count": 10,
   "id": "92ef96c7-9ab0-4d6c-be79-f02852ab7d4a",
   "metadata": {},
   "outputs": [
    {
     "name": "stdout",
     "output_type": "stream",
     "text": [
      "# pre | time:      0.001 | rank:   5.0 | \n",
      "#   1 | time:      0.071 | rank:   5.0 | e_vld: 7.5e-02 | e: 2.0e-01 | \n",
      "#   2 | time:      0.133 | rank:   5.0 | e_vld: 2.8e-02 | e: 6.3e-02 | \n",
      "#   3 | time:      0.195 | rank:   5.0 | e_vld: 2.0e-02 | e: 1.8e-02 | \n",
      "#   4 | time:      0.260 | rank:   5.0 | e_vld: 1.8e-02 | e: 4.1e-03 | \n",
      "#   5 | time:      0.320 | rank:   5.0 | e_vld: 1.8e-02 | e: 2.5e-03 | \n",
      "#   6 | time:      0.376 | rank:   5.0 | e_vld: 1.7e-02 | e: 1.6e-03 | \n",
      "#   7 | time:      0.435 | rank:   5.0 | e_vld: 1.6e-02 | e: 1.3e-03 | \n",
      "#   8 | time:      0.492 | rank:   5.0 | e_vld: 1.5e-02 | e: 1.3e-03 | \n",
      "#   9 | time:      0.550 | rank:   5.0 | e_vld: 1.5e-02 | e: 1.2e-03 | \n",
      "#  10 | time:      0.604 | rank:   5.0 | e_vld: 1.4e-02 | e: 1.0e-03 | \n",
      "#  11 | time:      0.661 | rank:   5.0 | e_vld: 1.4e-02 | e: 9.4e-04 | \n",
      "#  12 | time:      0.719 | rank:   5.0 | e_vld: 1.3e-02 | e: 8.8e-04 | \n",
      "#  13 | time:      0.774 | rank:   5.0 | e_vld: 1.3e-02 | e: 8.7e-04 | \n",
      "#  14 | time:      0.829 | rank:   5.0 | e_vld: 1.2e-02 | e: 8.8e-04 | \n",
      "#  15 | time:      0.886 | rank:   5.0 | e_vld: 1.1e-02 | e: 9.0e-04 | \n",
      "#  16 | time:      0.944 | rank:   5.0 | e_vld: 1.1e-02 | e: 9.0e-04 | \n",
      "#  17 | time:      1.003 | rank:   5.0 | e_vld: 1.0e-02 | e: 8.9e-04 | \n",
      "#  18 | time:      1.060 | rank:   5.0 | e_vld: 9.5e-03 | e: 8.6e-04 | stop: e_vld | \n",
      "\n",
      "Build time     :       1.07\n"
     ]
    }
   ],
   "source": [
    "t = tpc()\n",
    "Y = teneva.anova(I_trn, y_trn, r)\n",
    "Y = teneva.als(I_trn, y_trn, Y, nswp, I_vld=I_vld, y_vld=y_vld, e_vld=1.E-2, log=True)\n",
    "t = tpc() - t\n",
    "\n",
    "print(f'\\nBuild time     : {t:-10.2f}')"
   ]
  },
  {
   "cell_type": "markdown",
   "id": "1f35255a-78e8-45d7-bda4-b389596b293b",
   "metadata": {},
   "source": [
    "We can use helper functions to present the resulting accuracy:"
   ]
  },
  {
   "cell_type": "code",
   "execution_count": 11,
   "id": "609329e5-6dd1-4570-b481-f806bac5f36c",
   "metadata": {},
   "outputs": [
    {
     "name": "stdout",
     "output_type": "stream",
     "text": [
      "Error on train :   8.60e-03\n",
      "Error on valid.:   9.52e-03\n",
      "Error on test  :   1.02e-02\n"
     ]
    }
   ],
   "source": [
    "print(f'Error on train : {teneva.accuracy_on_data(Y, I_trn, y_trn):-10.2e}')\n",
    "print(f'Error on valid.: {teneva.accuracy_on_data(Y, I_vld, y_vld):-10.2e}')\n",
    "print(f'Error on test  : {teneva.accuracy_on_data(Y, I_tst, y_tst):-10.2e}')"
   ]
  },
  {
   "cell_type": "markdown",
   "id": "28018274-2dbe-456d-a7bb-52601f7cb0e9",
   "metadata": {},
   "source": [
    "We may also set the value of relative rate of solution change to stop the iterations:"
   ]
  },
  {
   "cell_type": "code",
   "execution_count": 12,
   "id": "a604f385-6bb1-433d-87f9-f90ec91ea8a4",
   "metadata": {},
   "outputs": [
    {
     "name": "stdout",
     "output_type": "stream",
     "text": [
      "# pre | time:      0.001 | rank:   5.0 | \n",
      "#   1 | time:      0.065 | rank:   5.0 | e_vld: 8.1e-02 | e: 2.0e-01 | \n",
      "#   2 | time:      0.124 | rank:   5.0 | e_vld: 8.0e-02 | e: 4.2e-02 | \n",
      "#   3 | time:      0.182 | rank:   5.0 | e_vld: 7.5e-02 | e: 3.2e-02 | \n",
      "#   4 | time:      0.240 | rank:   5.0 | e_vld: 6.4e-02 | e: 2.9e-02 | \n",
      "#   5 | time:      0.299 | rank:   5.0 | e_vld: 4.9e-02 | e: 2.7e-02 | \n",
      "#   6 | time:      0.357 | rank:   5.0 | e_vld: 4.0e-02 | e: 1.8e-02 | \n",
      "#   7 | time:      0.413 | rank:   5.0 | e_vld: 3.7e-02 | e: 1.0e-02 | \n",
      "#   8 | time:      0.471 | rank:   5.0 | e_vld: 3.3e-02 | e: 1.1e-02 | \n",
      "#   9 | time:      0.527 | rank:   5.0 | e_vld: 2.7e-02 | e: 1.6e-02 | \n",
      "#  10 | time:      0.583 | rank:   5.0 | e_vld: 2.1e-02 | e: 1.5e-02 | \n",
      "#  11 | time:      0.641 | rank:   5.0 | e_vld: 1.9e-02 | e: 6.2e-03 | \n",
      "#  12 | time:      0.699 | rank:   5.0 | e_vld: 1.8e-02 | e: 3.7e-03 | \n",
      "#  13 | time:      0.760 | rank:   5.0 | e_vld: 1.7e-02 | e: 2.3e-03 | \n",
      "#  14 | time:      0.819 | rank:   5.0 | e_vld: 1.6e-02 | e: 2.2e-03 | \n",
      "#  15 | time:      0.876 | rank:   5.0 | e_vld: 1.5e-02 | e: 2.2e-03 | \n",
      "#  16 | time:      0.934 | rank:   5.0 | e_vld: 1.4e-02 | e: 1.9e-03 | \n",
      "#  17 | time:      0.992 | rank:   5.0 | e_vld: 1.3e-02 | e: 1.7e-03 | \n",
      "#  18 | time:      1.050 | rank:   5.0 | e_vld: 1.3e-02 | e: 1.5e-03 | \n",
      "#  19 | time:      1.108 | rank:   5.0 | e_vld: 1.2e-02 | e: 1.3e-03 | \n",
      "#  20 | time:      1.167 | rank:   5.0 | e_vld: 1.2e-02 | e: 1.2e-03 | \n",
      "#  21 | time:      1.226 | rank:   5.0 | e_vld: 1.1e-02 | e: 1.0e-03 | \n",
      "#  22 | time:      1.283 | rank:   5.0 | e_vld: 1.1e-02 | e: 9.1e-04 | stop: e | \n",
      "\n",
      "Build time     :       1.29\n"
     ]
    }
   ],
   "source": [
    "t = tpc()\n",
    "Y = teneva.anova(I_trn, y_trn, r)\n",
    "Y = teneva.als(I_trn, y_trn, Y, e=1.E-3, I_vld=I_vld, y_vld=y_vld, log=True)\n",
    "t = tpc() - t\n",
    "\n",
    "print(f'\\nBuild time     : {t:-10.2f}')"
   ]
  },
  {
   "cell_type": "code",
   "execution_count": 13,
   "id": "08124e61-4678-4586-b351-4bf185d80b95",
   "metadata": {},
   "outputs": [
    {
     "name": "stdout",
     "output_type": "stream",
     "text": [
      "Error on train :   9.58e-03\n",
      "Error on valid.:   1.06e-02\n",
      "Error on test  :   1.11e-02\n"
     ]
    }
   ],
   "source": [
    "print(f'Error on train : {teneva.accuracy_on_data(Y, I_trn, y_trn):-10.2e}')\n",
    "print(f'Error on valid.: {teneva.accuracy_on_data(Y, I_vld, y_vld):-10.2e}')\n",
    "print(f'Error on test  : {teneva.accuracy_on_data(Y, I_tst, y_tst):-10.2e}')"
   ]
  },
  {
   "cell_type": "markdown",
   "id": "145dca4d-36fd-42e1-a177-7577ffd8139a",
   "metadata": {},
   "source": [
    "We can also use rank-adaptive version of the TT-ALS method (DRAFT !!!):"
   ]
  },
  {
   "cell_type": "code",
   "execution_count": 14,
   "id": "3a89ae48-bb04-4262-b8b5-c3b1c9dd90db",
   "metadata": {},
   "outputs": [
    {
     "name": "stdout",
     "output_type": "stream",
     "text": [
      "# pre | time:      0.001 | rank:   2.0 | \n",
      "#   1 | time:      0.177 | rank:   5.0 | e_vld: 2.3e-01 | e: 2.0e-01 | \n",
      "#   2 | time:      0.344 | rank:   5.0 | e_vld: 1.8e-01 | e: 1.8e-01 | \n",
      "#   3 | time:      0.514 | rank:   5.0 | e_vld: 3.4e-01 | e: 2.7e-01 | \n",
      "#   4 | time:      0.690 | rank:   5.0 | e_vld: 2.3e-01 | e: 2.8e-01 | \n",
      "#   5 | time:      0.878 | rank:   5.0 | e_vld: 1.9e-01 | e: 1.8e-01 | \n",
      "#   6 | time:      1.057 | rank:   5.0 | e_vld: 2.6e-01 | e: 2.9e-01 | \n",
      "#   7 | time:      1.226 | rank:   5.0 | e_vld: 1.9e-01 | e: 2.9e-01 | \n",
      "#   8 | time:      1.402 | rank:   5.0 | e_vld: 1.9e-01 | e: 1.9e-01 | \n",
      "#   9 | time:      1.578 | rank:   5.0 | e_vld: 2.1e-01 | e: 2.3e-01 | \n",
      "#  10 | time:      1.775 | rank:   5.0 | e_vld: 3.1e-01 | e: 3.9e-01 | stop: nswp | \n",
      "\n",
      "Build time     :       1.78\n"
     ]
    }
   ],
   "source": [
    "t = tpc()\n",
    "Y = teneva.anova(I_trn, y_trn, r=2)\n",
    "Y = teneva.als(I_trn, y_trn, Y, nswp=10,\n",
    "    I_vld=I_vld, y_vld=y_vld, r=5, e_adap=1.E-2, log=True)\n",
    "t = tpc() - t\n",
    "\n",
    "print(f'\\nBuild time     : {t:-10.2f}')"
   ]
  },
  {
   "cell_type": "code",
   "execution_count": 15,
   "id": "c9654ed9-6c9e-4400-8cac-64592593caf5",
   "metadata": {},
   "outputs": [
    {
     "name": "stdout",
     "output_type": "stream",
     "text": [
      "Error on train :   2.85e-01\n",
      "Error on valid.:   3.05e-01\n",
      "Error on test  :   3.65e-01\n"
     ]
    }
   ],
   "source": [
    "print(f'Error on train : {teneva.accuracy_on_data(Y, I_trn, y_trn):-10.2e}')\n",
    "print(f'Error on valid.: {teneva.accuracy_on_data(Y, I_vld, y_vld):-10.2e}')\n",
    "print(f'Error on test  : {teneva.accuracy_on_data(Y, I_tst, y_tst):-10.2e}')"
   ]
  },
  {
   "cell_type": "markdown",
   "id": "5fa6be88-4023-4642-8fea-567df27aaad9",
   "metadata": {},
   "source": [
    "---"
   ]
  }
 ],
 "metadata": {
  "kernelspec": {
   "display_name": "Python 3 (ipykernel)",
   "language": "python",
   "name": "python3"
  },
  "language_info": {
   "codemirror_mode": {
    "name": "ipython",
    "version": 3
   },
   "file_extension": ".py",
   "mimetype": "text/x-python",
   "name": "python",
   "nbconvert_exporter": "python",
   "pygments_lexer": "ipython3",
   "version": "3.8.16"
  }
 },
 "nbformat": 4,
 "nbformat_minor": 5
}

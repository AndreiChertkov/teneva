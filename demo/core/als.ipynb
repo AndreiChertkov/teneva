{
 "cells": [
  {
   "cell_type": "markdown",
   "id": "e51b9291-f33c-40ad-96ee-e2f9454ffc69",
   "metadata": {},
   "source": [
    "**Demo for `teneva.core.als`**\n",
    "\n",
    "---\n",
    "\n",
    "This module contains the function `als` which computes the TT-approximation for the tensor by TT-ALS algorithm, using given random samples."
   ]
  },
  {
   "cell_type": "markdown",
   "id": "3896a55c-1131-44fc-b746-1433ad4ddb08",
   "metadata": {},
   "source": [
    "## Loading and importing modules"
   ]
  },
  {
   "cell_type": "code",
   "execution_count": 1,
   "id": "9941ed2c-6272-4144-8c96-4e800f0b5c49",
   "metadata": {},
   "outputs": [],
   "source": [
    "import numpy as np\n",
    "import teneva\n",
    "from time import perf_counter as tpc\n",
    "np.random.seed(42)"
   ]
  },
  {
   "cell_type": "markdown",
   "id": "3f6437a4-a93e-4265-9fc6-7d4f46a76c4d",
   "metadata": {},
   "source": [
    "## Function `als`"
   ]
  },
  {
   "cell_type": "markdown",
   "id": "cfe8a9e9-ac37-4f38-8008-f81f857ad833",
   "metadata": {},
   "source": [
    "Build TT-tensor by TT-ALS from the given random tensor samples."
   ]
  },
  {
   "cell_type": "code",
   "execution_count": 2,
   "id": "d905d98d-0183-4522-9395-60a001494b18",
   "metadata": {},
   "outputs": [],
   "source": [
    "d         = 5                           # Dimension of the function\n",
    "a         = [-5., -4., -3., -2., -1.]   # Lower bounds for spatial grid\n",
    "b         = [+6., +3., +3., +1., +2.]   # Upper bounds for spatial grid\n",
    "n         = [ 10,  12,  14,  16,  18]   # Shape of the tensor"
   ]
  },
  {
   "cell_type": "code",
   "execution_count": 3,
   "id": "aba30907-47c9-42af-b49b-555ed7ad96c9",
   "metadata": {},
   "outputs": [],
   "source": [
    "m         = 1.E+4                       # Number of calls to target function\n",
    "nswp      = 50                          # Sweep number for ALS iterations\n",
    "r         = 5                           # TT-rank of the initial random tensor"
   ]
  },
  {
   "cell_type": "markdown",
   "id": "e588a535-a646-4545-9f10-e4d09e0255d2",
   "metadata": {},
   "source": [
    "We set the target function (the function takes as input a set of tensor multi-indices I of the shape [samples, dimension], which are transformed into points X of a uniform spatial grid using the function \"ind_to_poi\"):"
   ]
  },
  {
   "cell_type": "code",
   "execution_count": 4,
   "id": "391dd65e-ca27-46f8-a0cc-15a0e3919f08",
   "metadata": {},
   "outputs": [],
   "source": [
    "def func(I):\n",
    "    \"\"\"Schaffer function.\"\"\"\n",
    "    X = teneva.ind_to_poi(I, a, b, n)\n",
    "    Z = X[:, :-1]**2 + X[:, 1:]**2\n",
    "    Y = 0.5 + (np.sin(np.sqrt(Z))**2 - 0.5) / (1. + 0.001 * Z)**2\n",
    "    return np.sum(Y, axis=1)"
   ]
  },
  {
   "cell_type": "markdown",
   "id": "bcdae82e-67d7-4177-97e2-d097d5738bbe",
   "metadata": {},
   "source": [
    "We prepare train data from the LHS random distribution:"
   ]
  },
  {
   "cell_type": "code",
   "execution_count": 5,
   "id": "fe4f4875-86df-4026-9129-c400a502e302",
   "metadata": {},
   "outputs": [],
   "source": [
    "I_trn = teneva.sample_lhs(n, m) \n",
    "Y_trn = func(I_trn)"
   ]
  },
  {
   "cell_type": "markdown",
   "id": "61880140-49a5-404e-9ab1-5172c88e52fa",
   "metadata": {},
   "source": [
    "We prepare test data from as a random tensor multi-indices:"
   ]
  },
  {
   "cell_type": "code",
   "execution_count": 6,
   "id": "1a65ce75-e437-41fd-834c-a6a6a610ab7a",
   "metadata": {},
   "outputs": [],
   "source": [
    "# Test data:\n",
    "\n",
    "# Number of test points:\n",
    "m_tst = int(1.E+4)\n",
    "\n",
    "# Random multi-indices for the test points:\n",
    "I_tst = np.vstack([np.random.choice(k, m_tst) for k in n]).T\n",
    "\n",
    "# Function values for the test points:\n",
    "Y_tst = func(I_tst)"
   ]
  },
  {
   "cell_type": "markdown",
   "id": "5588bcc8-939a-4f9d-aac5-58f073e6ab9c",
   "metadata": {},
   "source": [
    "And now we will build the TT-tensor, which approximates the target function by the TT-ALS method. Note that we use TT-ANOVA as an initial approximation (we can instead generate random initial r-rank approximation in the TT-format using the function \"tensor_rand\", but convergence will be worse, and there will also be instability of the solution)."
   ]
  },
  {
   "cell_type": "code",
   "execution_count": 7,
   "id": "fec32781-80f8-494e-a25a-a399c916164f",
   "metadata": {},
   "outputs": [
    {
     "name": "stdout",
     "output_type": "stream",
     "text": [
      "Build time     :       3.31\n"
     ]
    }
   ],
   "source": [
    "t = tpc()\n",
    "Y = teneva.anova(I_trn, Y_trn, r)\n",
    "Y = teneva.als(I_trn, Y_trn, Y, nswp)\n",
    "t = tpc() - t\n",
    "\n",
    "print(f'Build time     : {t:-10.2f}')"
   ]
  },
  {
   "cell_type": "markdown",
   "id": "e74ce8d7-64d1-4ae1-9041-5500a4f8465b",
   "metadata": {},
   "source": [
    "And now we can check the result:"
   ]
  },
  {
   "cell_type": "code",
   "execution_count": 8,
   "id": "292c1545-2e55-46f6-98a3-2e6d4e8e5dc5",
   "metadata": {},
   "outputs": [
    {
     "name": "stdout",
     "output_type": "stream",
     "text": [
      "Error on train :   2.19e-03\n",
      "Error on test  :   2.56e-03\n"
     ]
    }
   ],
   "source": [
    "# Fast getter for TT-tensor values:\n",
    "get = teneva.getter(Y)                     \n",
    "\n",
    "# Compute approximation in train points:\n",
    "Z = np.array([get(i) for i in I_trn])\n",
    "\n",
    "# Accuracy of the result for train points:\n",
    "e_trn = np.linalg.norm(Z - Y_trn)          \n",
    "e_trn /= np.linalg.norm(Y_trn)\n",
    "\n",
    "# Compute approximation in test points:\n",
    "Z = np.array([get(i) for i in I_tst])\n",
    "\n",
    "# Accuracy of the result for test points:\n",
    "e_tst = np.linalg.norm(Z - Y_tst)          \n",
    "e_tst /= np.linalg.norm(Y_tst)\n",
    "\n",
    "print(f'Error on train : {e_trn:-10.2e}')\n",
    "print(f'Error on test  : {e_tst:-10.2e}')"
   ]
  },
  {
   "cell_type": "markdown",
   "id": "37487e85-4cba-4469-96e3-836a50c69215",
   "metadata": {},
   "source": [
    "We can also set a validation data set and specify as a stop criterion the accuracy of the TT-approximation on this data (and we can also present the logs):"
   ]
  },
  {
   "cell_type": "code",
   "execution_count": 9,
   "id": "8aa380dc-4782-4cc1-bea7-60d215cc2537",
   "metadata": {},
   "outputs": [],
   "source": [
    "# Validation data:\n",
    "\n",
    "# Number of validation points:\n",
    "m_vld = int(1.E+3)\n",
    "\n",
    "# Random multi-indices for the validation points:\n",
    "I_vld = np.vstack([np.random.choice(k, m_vld) for k in n]).T\n",
    "\n",
    "# Function values for the validation points:\n",
    "Y_vld = func(I_vld)"
   ]
  },
  {
   "cell_type": "code",
   "execution_count": 10,
   "id": "92ef96c7-9ab0-4d6c-be79-f02852ab7d4a",
   "metadata": {},
   "outputs": [
    {
     "name": "stdout",
     "output_type": "stream",
     "text": [
      "# pre | time:      0.656 | rank:   5.0 | err: 2.1e-01 | \n",
      "#   1 | time:      1.289 | rank:   5.0 | err: 7.5e-02 | eps: 2.0e-01 | \n",
      "#   2 | time:      2.018 | rank:   5.0 | err: 2.8e-02 | eps: 6.3e-02 | \n",
      "#   3 | time:      2.651 | rank:   5.0 | err: 2.0e-02 | eps: 1.8e-02 | \n",
      "#   4 | time:      3.331 | rank:   5.0 | err: 1.8e-02 | eps: 4.1e-03 | \n",
      "#   5 | time:      4.090 | rank:   5.0 | err: 1.8e-02 | eps: 2.5e-03 | \n",
      "#   6 | time:      4.683 | rank:   5.0 | err: 1.7e-02 | eps: 1.6e-03 | \n",
      "#   7 | time:      5.304 | rank:   5.0 | err: 1.6e-02 | eps: 1.3e-03 | \n",
      "#   8 | time:      5.977 | rank:   5.0 | err: 1.5e-02 | eps: 1.3e-03 | \n",
      "#   9 | time:      6.581 | rank:   5.0 | err: 1.5e-02 | eps: 1.2e-03 | \n",
      "#  10 | time:      7.291 | rank:   5.0 | err: 1.4e-02 | eps: 1.0e-03 | \n",
      "#  11 | time:      8.043 | rank:   5.0 | err: 1.4e-02 | eps: 9.4e-04 | \n",
      "#  12 | time:      8.697 | rank:   5.0 | err: 1.3e-02 | eps: 8.8e-04 | \n",
      "#  13 | time:      9.371 | rank:   5.0 | err: 1.3e-02 | eps: 8.7e-04 | \n",
      "#  14 | time:     10.103 | rank:   5.0 | err: 1.2e-02 | eps: 8.8e-04 | \n",
      "#  15 | time:     10.739 | rank:   5.0 | err: 1.1e-02 | eps: 9.0e-04 | \n",
      "#  16 | time:     11.410 | rank:   5.0 | err: 1.1e-02 | eps: 9.0e-04 | \n",
      "#  17 | time:     12.106 | rank:   5.0 | err: 1.0e-02 | eps: 8.9e-04 | \n",
      "#  18 | time:     12.743 | rank:   5.0 | err: 9.5e-03 | eps: 8.6e-04 | stop: e_vld | \n",
      "\n",
      "Build time     :      12.75\n"
     ]
    }
   ],
   "source": [
    "t = tpc()\n",
    "Y = teneva.anova(I_trn, Y_trn, r)\n",
    "Y = teneva.als(I_trn, Y_trn, Y, nswp, I_vld=I_vld, Y_vld=Y_vld, e_vld=1.E-2, log=True)\n",
    "t = tpc() - t\n",
    "\n",
    "print(f'\\nBuild time     : {t:-10.2f}')"
   ]
  },
  {
   "cell_type": "markdown",
   "id": "1f35255a-78e8-45d7-bda4-b389596b293b",
   "metadata": {},
   "source": [
    "We can use helper functions to present the resulting accuracy:"
   ]
  },
  {
   "cell_type": "code",
   "execution_count": 11,
   "id": "609329e5-6dd1-4570-b481-f806bac5f36c",
   "metadata": {},
   "outputs": [
    {
     "name": "stdout",
     "output_type": "stream",
     "text": [
      "Error on train :   8.60e-03\n",
      "Error on valid.:   9.52e-03\n",
      "Error on test  :   1.02e-02\n"
     ]
    }
   ],
   "source": [
    "print(f'Error on train : {teneva.accuracy_on_data(Y, I_trn, Y_trn):-10.2e}')\n",
    "print(f'Error on valid.: {teneva.accuracy_on_data(Y, I_vld, Y_vld):-10.2e}')\n",
    "print(f'Error on test  : {teneva.accuracy_on_data(Y, I_tst, Y_tst):-10.2e}')"
   ]
  },
  {
   "cell_type": "markdown",
   "id": "28018274-2dbe-456d-a7bb-52601f7cb0e9",
   "metadata": {},
   "source": [
    "We may also set the value of relative rate of solution change to stop the iterations:"
   ]
  },
  {
   "cell_type": "code",
   "execution_count": 12,
   "id": "a604f385-6bb1-433d-87f9-f90ec91ea8a4",
   "metadata": {},
   "outputs": [
    {
     "name": "stdout",
     "output_type": "stream",
     "text": [
      "# pre | time:      0.639 | rank:   5.0 | err: 2.1e-01 | \n",
      "#   1 | time:      1.295 | rank:   5.0 | err: 8.1e-02 | eps: 2.0e-01 | \n",
      "#   2 | time:      1.970 | rank:   5.0 | err: 8.0e-02 | eps: 4.2e-02 | \n",
      "#   3 | time:      2.663 | rank:   5.0 | err: 7.5e-02 | eps: 3.2e-02 | \n",
      "#   4 | time:      3.304 | rank:   5.0 | err: 6.4e-02 | eps: 2.9e-02 | \n",
      "#   5 | time:      3.960 | rank:   5.0 | err: 4.9e-02 | eps: 2.7e-02 | \n",
      "#   6 | time:      4.698 | rank:   5.0 | err: 4.0e-02 | eps: 1.8e-02 | \n",
      "#   7 | time:      5.332 | rank:   5.0 | err: 3.7e-02 | eps: 1.0e-02 | \n",
      "#   8 | time:      6.040 | rank:   5.0 | err: 3.3e-02 | eps: 1.1e-02 | \n",
      "#   9 | time:      6.764 | rank:   5.0 | err: 2.7e-02 | eps: 1.6e-02 | \n",
      "#  10 | time:      7.357 | rank:   5.0 | err: 2.1e-02 | eps: 1.5e-02 | \n",
      "#  11 | time:      8.001 | rank:   5.0 | err: 1.9e-02 | eps: 6.2e-03 | \n",
      "#  12 | time:      8.701 | rank:   5.0 | err: 1.8e-02 | eps: 3.7e-03 | \n",
      "#  13 | time:      9.299 | rank:   5.0 | err: 1.7e-02 | eps: 2.3e-03 | \n",
      "#  14 | time:      9.998 | rank:   5.0 | err: 1.6e-02 | eps: 2.2e-03 | \n",
      "#  15 | time:     10.729 | rank:   5.0 | err: 1.5e-02 | eps: 2.2e-03 | \n",
      "#  16 | time:     11.377 | rank:   5.0 | err: 1.4e-02 | eps: 1.9e-03 | \n",
      "#  17 | time:     12.114 | rank:   5.0 | err: 1.3e-02 | eps: 1.7e-03 | \n",
      "#  18 | time:     12.835 | rank:   5.0 | err: 1.3e-02 | eps: 1.5e-03 | \n",
      "#  19 | time:     13.450 | rank:   5.0 | err: 1.2e-02 | eps: 1.3e-03 | \n",
      "#  20 | time:     14.115 | rank:   5.0 | err: 1.2e-02 | eps: 1.2e-03 | \n",
      "#  21 | time:     14.824 | rank:   5.0 | err: 1.1e-02 | eps: 1.0e-03 | \n",
      "#  22 | time:     15.442 | rank:   5.0 | err: 1.1e-02 | eps: 9.1e-04 | stop: e | \n",
      "\n",
      "Build time     :      15.45\n"
     ]
    }
   ],
   "source": [
    "t = tpc()\n",
    "Y = teneva.anova(I_trn, Y_trn, r)\n",
    "Y = teneva.als(I_trn, Y_trn, Y, e=1.E-3, I_vld=I_vld, Y_vld=Y_vld, log=True)\n",
    "t = tpc() - t\n",
    "\n",
    "print(f'\\nBuild time     : {t:-10.2f}')"
   ]
  },
  {
   "cell_type": "code",
   "execution_count": 13,
   "id": "08124e61-4678-4586-b351-4bf185d80b95",
   "metadata": {},
   "outputs": [
    {
     "name": "stdout",
     "output_type": "stream",
     "text": [
      "Error on train :   9.58e-03\n",
      "Error on valid.:   1.06e-02\n",
      "Error on test  :   1.11e-02\n"
     ]
    }
   ],
   "source": [
    "print(f'Error on train : {teneva.accuracy_on_data(Y, I_trn, Y_trn):-10.2e}')\n",
    "print(f'Error on valid.: {teneva.accuracy_on_data(Y, I_vld, Y_vld):-10.2e}')\n",
    "print(f'Error on test  : {teneva.accuracy_on_data(Y, I_tst, Y_tst):-10.2e}')"
   ]
  },
  {
   "cell_type": "markdown",
   "id": "145dca4d-36fd-42e1-a177-7577ffd8139a",
   "metadata": {},
   "source": [
    "We can also use rank-adaptive version of the TT-ALS method (DRAFT !!!):"
   ]
  },
  {
   "cell_type": "code",
   "execution_count": 29,
   "id": "3a89ae48-bb04-4262-b8b5-c3b1c9dd90db",
   "metadata": {},
   "outputs": [
    {
     "name": "stdout",
     "output_type": "stream",
     "text": [
      "# pre | time:      0.488 | rank:   2.0 | err: 2.1e-01 | \n",
      "#   1 | time:      1.343 | rank:   5.0 | err: 2.1e-01 | eps: 2.2e-01 | \n",
      "#   2 | time:      2.180 | rank:   5.0 | err: 2.6e-01 | eps: 3.2e-01 | \n",
      "#   3 | time:      2.948 | rank:   5.0 | err: 2.0e-01 | eps: 2.8e-01 | \n",
      "#   4 | time:      3.796 | rank:   5.0 | err: 1.9e-01 | eps: 2.2e-01 | \n",
      "#   5 | time:      4.513 | rank:   5.0 | err: 2.4e-01 | eps: 2.3e-01 | \n",
      "#   6 | time:      5.362 | rank:   5.0 | err: 2.1e-01 | eps: 2.4e-01 | \n",
      "#   7 | time:      6.234 | rank:   5.0 | err: 2.1e-01 | eps: 2.3e-01 | \n",
      "#   8 | time:      7.051 | rank:   5.0 | err: 3.6e-01 | eps: 3.5e-01 | \n",
      "#   9 | time:      7.891 | rank:   5.0 | err: 2.9e-01 | eps: 3.4e-01 | \n",
      "#  10 | time:      8.633 | rank:   5.0 | err: 2.3e-01 | eps: 2.4e-01 | stop: nswp | \n",
      "\n",
      "Build time     :       8.64\n"
     ]
    }
   ],
   "source": [
    "t = tpc()\n",
    "Y = teneva.anova(I_trn, Y_trn, r=2)\n",
    "Y = teneva.als(I_trn, Y_trn, Y, nswp=10,\n",
    "    I_vld=I_vld, Y_vld=Y_vld, r=5, e_adap=1.E-2, log=True)\n",
    "t = tpc() - t\n",
    "\n",
    "print(f'\\nBuild time     : {t:-10.2f}')"
   ]
  },
  {
   "cell_type": "code",
   "execution_count": 30,
   "id": "c9654ed9-6c9e-4400-8cac-64592593caf5",
   "metadata": {},
   "outputs": [
    {
     "name": "stdout",
     "output_type": "stream",
     "text": [
      "Error on train :   1.84e-01\n",
      "Error on valid.:   2.26e-01\n",
      "Error on test  :   2.11e-01\n"
     ]
    }
   ],
   "source": [
    "print(f'Error on train : {teneva.accuracy_on_data(Y, I_trn, Y_trn):-10.2e}')\n",
    "print(f'Error on valid.: {teneva.accuracy_on_data(Y, I_vld, Y_vld):-10.2e}')\n",
    "print(f'Error on test  : {teneva.accuracy_on_data(Y, I_tst, Y_tst):-10.2e}')"
   ]
  },
  {
   "cell_type": "markdown",
   "id": "f9518062-f63f-48b1-b5cc-325998cdf696",
   "metadata": {},
   "source": [
    "## Function `als2`"
   ]
  },
  {
   "cell_type": "markdown",
   "id": "19ee3824-0224-475f-a0d7-00edac321699",
   "metadata": {},
   "source": [
    "Build TT-tensor by TT-ALS from the given random tensor samples. This is the alternative realization of the algorithm. The version from \"als\" function in many cases works better and much faster."
   ]
  },
  {
   "cell_type": "code",
   "execution_count": 16,
   "id": "c29e438c-befd-4b0f-be7c-406ab6bd92cd",
   "metadata": {},
   "outputs": [],
   "source": [
    "d         = 5                           # Dimension of the function\n",
    "a         = [-5., -4., -3., -2., -1.]   # Lower bounds for spatial grid\n",
    "b         = [+6., +3., +3., +1., +2.]   # Upper bounds for spatial grid\n",
    "n         = [ 10,  12,  14,  16,  18]   # Shape of the tensor"
   ]
  },
  {
   "cell_type": "code",
   "execution_count": 17,
   "id": "37e91a49-b5ec-4bc1-bbe8-dc91fee12296",
   "metadata": {},
   "outputs": [],
   "source": [
    "m         = 1.E+4                       # Number of calls to target function\n",
    "nswp      = 50                          # Sweep number for ALS iterations\n",
    "r         = 4                           # TT-rank of the initial random tensor"
   ]
  },
  {
   "cell_type": "markdown",
   "id": "a2e5a670-bab4-4bb1-9d50-e02e7818e73e",
   "metadata": {},
   "source": [
    "We set the target function (the function takes as input a set of tensor multi-indices I of the shape [samples, dimension], which are transformed into points X of a uniform spatial grid using the function \"ind_to_poi\"):"
   ]
  },
  {
   "cell_type": "code",
   "execution_count": 18,
   "id": "02cac206-0364-4351-b1b9-7acd6ca8b82f",
   "metadata": {},
   "outputs": [],
   "source": [
    "def func(I):\n",
    "    \"\"\"Schaffer function.\"\"\"\n",
    "    X = teneva.ind_to_poi(I, a, b, n)\n",
    "    Z = X[:, :-1]**2 + X[:, 1:]**2\n",
    "    Y = 0.5 + (np.sin(np.sqrt(Z))**2 - 0.5) / (1. + 0.001 * Z)**2\n",
    "    return np.sum(Y, axis=1)"
   ]
  },
  {
   "cell_type": "markdown",
   "id": "86411733-1632-4894-b8ca-a3cd035b11a2",
   "metadata": {},
   "source": [
    "We prepare train data from the LHS random distribution:"
   ]
  },
  {
   "cell_type": "code",
   "execution_count": 19,
   "id": "338aac36-fb02-4536-997f-d59e436d4f9d",
   "metadata": {},
   "outputs": [],
   "source": [
    "I_trn = teneva.sample_lhs(n, m) \n",
    "Y_trn = func(I_trn)"
   ]
  },
  {
   "cell_type": "markdown",
   "id": "0a396ffb-4885-4cd7-8324-000dc8ffbd98",
   "metadata": {},
   "source": [
    "We prepare test data from as a random tensor multi-indices:"
   ]
  },
  {
   "cell_type": "code",
   "execution_count": 20,
   "id": "20be1c91-21d7-4a14-abd3-a3cf758f73e7",
   "metadata": {},
   "outputs": [],
   "source": [
    "# Test data:\n",
    "\n",
    "# Number of test points:\n",
    "m_tst = int(1.E+4)\n",
    "\n",
    "# Random multi-indices for the test points:\n",
    "I_tst = np.vstack([np.random.choice(k, m_tst) for k in n]).T\n",
    "\n",
    "# Function values for the test points:\n",
    "Y_tst = func(I_tst)"
   ]
  },
  {
   "cell_type": "markdown",
   "id": "6e2f4bbe-f88b-4fef-9394-1ab82d8184b0",
   "metadata": {},
   "source": [
    "We build the TT-tensor, which approximates the target function (we generate random initial r-rank approximation in the TT-format using the function \"tensor_rand\" and then compute the resulting TT-tensor by TT-ALS):"
   ]
  },
  {
   "cell_type": "code",
   "execution_count": 21,
   "id": "90c2936e-e5dd-4159-8264-990adcf06eec",
   "metadata": {},
   "outputs": [
    {
     "name": "stdout",
     "output_type": "stream",
     "text": [
      "Build time     :      88.00\n"
     ]
    }
   ],
   "source": [
    "t = tpc()\n",
    "Y = teneva.anova(I_trn, Y_trn, r)\n",
    "Y = teneva.als2(I_trn, Y_trn, Y, nswp)\n",
    "t = tpc() - t\n",
    "\n",
    "print(f'Build time     : {t:-10.2f}')"
   ]
  },
  {
   "cell_type": "markdown",
   "id": "b6206e0a-d3c8-4f2d-92c3-32882732cf77",
   "metadata": {},
   "source": [
    "And now we can check the result:"
   ]
  },
  {
   "cell_type": "code",
   "execution_count": 22,
   "id": "a56be4a8-60e7-4051-a0e5-67af8d2a29e7",
   "metadata": {},
   "outputs": [
    {
     "name": "stdout",
     "output_type": "stream",
     "text": [
      "Error on train :   1.36e-02\n",
      "Error on test  :   1.44e-02\n"
     ]
    }
   ],
   "source": [
    "# Fast getter for TT-tensor values:\n",
    "get = teneva.getter(Y)                     \n",
    "\n",
    "# Compute approximation in train points:\n",
    "Z = np.array([get(i) for i in I_trn])\n",
    "\n",
    "# Accuracy of the result for train points:\n",
    "e_trn = np.linalg.norm(Z - Y_trn)          \n",
    "e_trn /= np.linalg.norm(Y_trn)\n",
    "\n",
    "# Compute approximation in test points:\n",
    "Z = np.array([get(i) for i in I_tst])\n",
    "\n",
    "# Accuracy of the result for test points:\n",
    "e_tst = np.linalg.norm(Z - Y_tst)          \n",
    "e_tst /= np.linalg.norm(Y_tst)\n",
    "\n",
    "print(f'Error on train : {e_trn:-10.2e}')\n",
    "print(f'Error on test  : {e_tst:-10.2e}')"
   ]
  },
  {
   "cell_type": "markdown",
   "id": "5157c326-a02c-41fc-b82d-af0d55ddfb18",
   "metadata": {},
   "source": [
    "---"
   ]
  }
 ],
 "metadata": {
  "kernelspec": {
   "display_name": "Python 3",
   "language": "python",
   "name": "python3"
  },
  "language_info": {
   "codemirror_mode": {
    "name": "ipython",
    "version": 3
   },
   "file_extension": ".py",
   "mimetype": "text/x-python",
   "name": "python",
   "nbconvert_exporter": "python",
   "pygments_lexer": "ipython3",
   "version": "3.8.8"
  }
 },
 "nbformat": 4,
 "nbformat_minor": 5
}

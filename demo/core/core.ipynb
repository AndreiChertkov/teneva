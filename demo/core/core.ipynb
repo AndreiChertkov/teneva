{
 "cells": [
  {
   "cell_type": "markdown",
   "id": "e51b9291-f33c-40ad-96ee-e2f9454ffc69",
   "metadata": {},
   "source": [
    "**Demo for `teneva.core.core`**\n",
    "\n",
    "---\n",
    "\n",
    "This module contains functions to work directly with individual TT-cores."
   ]
  },
  {
   "cell_type": "markdown",
   "id": "3896a55c-1131-44fc-b746-1433ad4ddb08",
   "metadata": {},
   "source": [
    "## Loading and importing modules"
   ]
  },
  {
   "cell_type": "code",
   "execution_count": 1,
   "id": "9941ed2c-6272-4144-8c96-4e800f0b5c49",
   "metadata": {},
   "outputs": [],
   "source": [
    "import numpy as np\n",
    "import teneva\n",
    "from time import perf_counter as tpc\n",
    "np.random.seed(42)"
   ]
  },
  {
   "cell_type": "markdown",
   "id": "c73f6184-e339-423b-a43c-51892aa3f60b",
   "metadata": {},
   "source": [
    "## Function `core_stab`"
   ]
  },
  {
   "cell_type": "markdown",
   "id": "1ba7aa15-86d0-4048-bca5-2ad506beee11",
   "metadata": {},
   "source": [
    "Scaling for the passed TT-core, i.e., G -> (Q, p), G = 2^p * Q."
   ]
  },
  {
   "cell_type": "code",
   "execution_count": 2,
   "id": "22ea3536-0dd9-4a30-bc6c-38449681bf59",
   "metadata": {},
   "outputs": [
    {
     "name": "stdout",
     "output_type": "stream",
     "text": [
      "1\n",
      "1.3600845832948094\n",
      "0.0\n"
     ]
    }
   ],
   "source": [
    "r = 4                            # Left TT-rank\n",
    "n = 10                           # Mode size\n",
    "q = 5                            # Right TT-rank\n",
    "G = np.random.randn(r, n, q)     # Create random TT-core\n",
    "\n",
    "Q, p = teneva.core_stab(G)       # Perform scaling\n",
    "\n",
    "print(p)\n",
    "print(np.max(np.abs(Q)))\n",
    "print(np.max(np.abs(G - 2**p * Q)))"
   ]
  },
  {
   "cell_type": "markdown",
   "id": "e81cbd7b-a7c9-48f4-becb-a87eaac1cefa",
   "metadata": {},
   "source": [
    "For convenience, we can set an initial value for the power-factor:"
   ]
  },
  {
   "cell_type": "code",
   "execution_count": 3,
   "id": "e78b2781-488d-4909-96d7-eb29b9797779",
   "metadata": {},
   "outputs": [
    {
     "name": "stdout",
     "output_type": "stream",
     "text": [
      "3\n",
      "1.3600845832948094\n",
      "0.0\n"
     ]
    }
   ],
   "source": [
    "p0 = 2\n",
    "Q, p = teneva.core_stab(G, p0)\n",
    "\n",
    "print(p)\n",
    "print(np.max(np.abs(Q)))\n",
    "print(np.max(np.abs(G - 2**(p-p0) * Q)))"
   ]
  },
  {
   "cell_type": "markdown",
   "id": "422a0233-fbaa-4f2d-8c72-ab099ccdb5cc",
   "metadata": {},
   "source": [
    "## Function `core_tt_to_qtt`"
   ]
  },
  {
   "cell_type": "markdown",
   "id": "72a4df30-990c-4d71-aeeb-79e214cf22c6",
   "metadata": {},
   "source": [
    "Transform the TT-core into a list of QTT-cores. (TODO!)"
   ]
  },
  {
   "cell_type": "code",
   "execution_count": 4,
   "id": "4c0d105a-55ac-4b1b-ab82-476ea51daa3f",
   "metadata": {},
   "outputs": [
    {
     "name": "stdout",
     "output_type": "stream",
     "text": [
      "   2   2   2   2   2   2   2   2   2   2  \n",
      "  / \\ / \\ / \\ / \\ / \\ / \\ / \\ / \\ / \\ / \\ \n",
      " 1   8   16  32  64 128  80  40  20  10  5  \n",
      "\n"
     ]
    }
   ],
   "source": [
    "r = 4                            # Left TT-rank\n",
    "n = 2**10                        # Mode size\n",
    "q = 5                            # Right TT-rank\n",
    "G = np.random.randn(r, n, q)     # Create random TT-core\n",
    "\n",
    "Y = teneva.core_tt_to_qtt(G)     # Transform the core to QTT\n",
    "\n",
    "teneva.show(Y)"
   ]
  },
  {
   "cell_type": "code",
   "execution_count": 5,
   "id": "d48f23c8-42b8-4caf-9ced-29b6e0c6f4db",
   "metadata": {},
   "outputs": [
    {
     "name": "stdout",
     "output_type": "stream",
     "text": [
      "(4, 2, 8)\n",
      "(8, 2, 16)\n",
      "(16, 2, 32)\n",
      "(32, 2, 64)\n",
      "(64, 2, 128)\n",
      "(128, 2, 80)\n",
      "(80, 2, 40)\n",
      "(40, 2, 20)\n",
      "(20, 2, 10)\n",
      "(10, 2, 5)\n"
     ]
    }
   ],
   "source": [
    "for G in Y:\n",
    "    print(G.shape)"
   ]
  },
  {
   "cell_type": "markdown",
   "id": "5157c326-a02c-41fc-b82d-af0d55ddfb18",
   "metadata": {},
   "source": [
    "---"
   ]
  }
 ],
 "metadata": {
  "kernelspec": {
   "display_name": "Python 3",
   "language": "python",
   "name": "python3"
  },
  "language_info": {
   "codemirror_mode": {
    "name": "ipython",
    "version": 3
   },
   "file_extension": ".py",
   "mimetype": "text/x-python",
   "name": "python",
   "nbconvert_exporter": "python",
   "pygments_lexer": "ipython3",
   "version": "3.8.8"
  }
 },
 "nbformat": 4,
 "nbformat_minor": 5
}

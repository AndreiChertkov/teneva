{
 "cells": [
  {
   "cell_type": "markdown",
   "id": "e51b9291-f33c-40ad-96ee-e2f9454ffc69",
   "metadata": {},
   "source": [
    "**Demo for `teneva.core.vis`**\n",
    "\n",
    "---\n",
    "\n",
    "This module contains the functions for visualization of TT-tensors."
   ]
  },
  {
   "cell_type": "markdown",
   "id": "3896a55c-1131-44fc-b746-1433ad4ddb08",
   "metadata": {},
   "source": [
    "## Loading and importing modules"
   ]
  },
  {
   "cell_type": "code",
   "execution_count": 1,
   "id": "9941ed2c-6272-4144-8c96-4e800f0b5c49",
   "metadata": {},
   "outputs": [],
   "source": [
    "import numpy as np\n",
    "import teneva\n",
    "from time import perf_counter as tpc\n",
    "np.random.seed(42)"
   ]
  },
  {
   "cell_type": "markdown",
   "id": "c73f6184-e339-423b-a43c-51892aa3f60b",
   "metadata": {},
   "source": [
    "## Function `show`"
   ]
  },
  {
   "cell_type": "markdown",
   "id": "1ba7aa15-86d0-4048-bca5-2ad506beee11",
   "metadata": {},
   "source": [
    "Displays mode sizes and TT-ranks of the given TT-tensor Y in a compact and clear form."
   ]
  },
  {
   "cell_type": "code",
   "execution_count": 2,
   "id": "3d370cf1-0446-4827-ad30-b191e3909af9",
   "metadata": {},
   "outputs": [
    {
     "name": "stdout",
     "output_type": "stream",
     "text": [
      "TT-tensor     5D : |4|  |4|  |4|  |4|  |4|\n",
      "<rank>  =   12.0 :   \\12/ \\12/ \\12/ \\12/\n"
     ]
    }
   ],
   "source": [
    "# 5-dim random TT-tensor with TT-rank 12:\n",
    "Y = teneva.tensor_rand([4]*5, 12)\n",
    "\n",
    "# Print the resulting TT-tensor:\n",
    "teneva.show(Y)"
   ]
  },
  {
   "cell_type": "code",
   "execution_count": 3,
   "id": "17297367-63aa-4938-ada7-2489ba27a0ac",
   "metadata": {},
   "outputs": [
    {
     "name": "stdout",
     "output_type": "stream",
     "text": [
      "TT-tensor     5D : |2000| |2| |20000| |20| |200|\n",
      "<rank>  =    2.0 :      \\2/ \\2/     \\2/  \\2/\n"
     ]
    }
   ],
   "source": [
    "# 5-dim random TT-tensor with TT-rank 2:\n",
    "Y = teneva.tensor_rand([2000, 2, 20000, 20, 200], 2)\n",
    "\n",
    "# Print the resulting TT-tensor:\n",
    "teneva.show(Y)"
   ]
  },
  {
   "cell_type": "code",
   "execution_count": 4,
   "id": "8a145be3-109d-4ac7-8335-b4c52de9c41a",
   "metadata": {},
   "outputs": [
    {
     "name": "stdout",
     "output_type": "stream",
     "text": [
      "TT-tensor     5D : |2000|   |2|   |20000|   |20|   |200|\n",
      "<rank>  =  122.0 :      \\122/ \\122/     \\122/  \\122/\n"
     ]
    }
   ],
   "source": [
    "# 5-dim random TT-tensor with TT-rank 122:\n",
    "Y = teneva.tensor_rand([2000, 2, 20000, 20, 200], 122)\n",
    "\n",
    "# Print the resulting TT-tensor:\n",
    "teneva.show(Y)"
   ]
  },
  {
   "cell_type": "code",
   "execution_count": 5,
   "id": "790998ac-47f8-4053-ac95-5e47f3dc76f7",
   "metadata": {},
   "outputs": [
    {
     "name": "stdout",
     "output_type": "stream",
     "text": [
      "TT-tensor     5D : |16384|  |16384|  |16384|  |16384|  |16384|\n",
      "<rank>  =   12.0 :       \\12/     \\12/     \\12/     \\12/\n"
     ]
    }
   ],
   "source": [
    "# 5-dim random TT-tensor with TT-rank 12:\n",
    "Y = teneva.tensor_rand([2**14]*5, 12)\n",
    "\n",
    "# Print the resulting TT-tensor:\n",
    "teneva.show(Y)"
   ]
  },
  {
   "cell_type": "markdown",
   "id": "5157c326-a02c-41fc-b82d-af0d55ddfb18",
   "metadata": {},
   "source": [
    "---"
   ]
  }
 ],
 "metadata": {
  "kernelspec": {
   "display_name": "Python 3",
   "language": "python",
   "name": "python3"
  },
  "language_info": {
   "codemirror_mode": {
    "name": "ipython",
    "version": 3
   },
   "file_extension": ".py",
   "mimetype": "text/x-python",
   "name": "python",
   "nbconvert_exporter": "python",
   "pygments_lexer": "ipython3",
   "version": "3.8.8"
  }
 },
 "nbformat": 4,
 "nbformat_minor": 5
}

{
 "cells": [
  {
   "cell_type": "markdown",
   "id": "e51b9291-f33c-40ad-96ee-e2f9454ffc69",
   "metadata": {},
   "source": [
    "**Demo for `teneva.core.transformation`**\n",
    "\n",
    "---\n",
    "\n",
    "This module contains the functions for orthogonalization and truncation of the TT-tensors."
   ]
  },
  {
   "cell_type": "markdown",
   "id": "3896a55c-1131-44fc-b746-1433ad4ddb08",
   "metadata": {},
   "source": [
    "## Loading and importing modules"
   ]
  },
  {
   "cell_type": "code",
   "execution_count": 1,
   "id": "9941ed2c-6272-4144-8c96-4e800f0b5c49",
   "metadata": {},
   "outputs": [],
   "source": [
    "import numpy as np\n",
    "import teneva\n",
    "from time import perf_counter as tpc\n",
    "np.random.seed(42)"
   ]
  },
  {
   "cell_type": "markdown",
   "id": "699385d7-6f07-40c5-8b97-5cd561226d30",
   "metadata": {},
   "source": [
    "## Function `full`"
   ]
  },
  {
   "cell_type": "markdown",
   "id": "f923a634-ceb1-49a8-b115-d9e297d6fca6",
   "metadata": {},
   "source": [
    "For a given TT-tensor (list of TT-cores), calculates the tensor in full format (this function can only be used for relatively small tensors)."
   ]
  },
  {
   "cell_type": "code",
   "execution_count": 2,
   "id": "7e85d11f-7c61-4a64-80ad-0cb7afdfa2d2",
   "metadata": {},
   "outputs": [
    {
     "name": "stdout",
     "output_type": "stream",
     "text": [
      "TT-tensor     5D : |10|  |10|   |10|   |10|  |10|\n",
      "<rank>  =   63.0 :    \\10/  \\100/  \\100/  \\10/\n"
     ]
    },
    {
     "data": {
      "text/plain": [
       "1.9539925233402755e-14"
      ]
     },
     "execution_count": 2,
     "metadata": {},
     "output_type": "execute_result"
    }
   ],
   "source": [
    "n = [10] * 5             # Shape of the tensor      \n",
    "Y0 = np.random.randn(*n) # Create 5-dim random numpy tensor\n",
    "Y1 = teneva.svd(Y0)      # Compute TT-tensor from Y0 by TT-SVD\n",
    "teneva.show(Y1)          # Print the TT-tensor\n",
    "Y2 = teneva.full(Y1)     # Compute full tensor from the TT-tensor\n",
    "abs(np.max(Y2-Y0))       # Compare original tensor and reconstructed tensor"
   ]
  },
  {
   "cell_type": "markdown",
   "id": "6da44496-774b-40b1-8c4f-fc2df29c4279",
   "metadata": {},
   "source": [
    "## Function `full_matrix`"
   ]
  },
  {
   "cell_type": "markdown",
   "id": "ce1c5b0a-3abf-46aa-9cfc-6f047fbfb88d",
   "metadata": {},
   "source": [
    "Export QTT-matrix to the full (numpy) format (this function can only be used for relatively small matrices)."
   ]
  },
  {
   "cell_type": "code",
   "execution_count": 3,
   "id": "611d5792-9824-4909-b240-ee80f28f880b",
   "metadata": {},
   "outputs": [
    {
     "name": "stdout",
     "output_type": "stream",
     "text": [
      "TT-tensor    10D : |4| |4| |4| |4| |4| |4| |4| |4| |4| |4|\n",
      "<rank>  =    5.7 :   \\4/ \\6/ \\6/ \\6/ \\6/ \\6/ \\6/ \\6/ \\4/\n"
     ]
    },
    {
     "data": {
      "text/plain": [
       "1.016301712297718e-05"
      ]
     },
     "execution_count": 3,
     "metadata": {},
     "output_type": "execute_result"
    }
   ],
   "source": [
    "q = 10   # Matrix size factor\n",
    "n = 2**q # Matrix mode size\n",
    "\n",
    "# Construct some matrix:\n",
    "Y0 = np.zeros((n, n))\n",
    "for i in range(n):\n",
    "    for j in range(n):\n",
    "        Y0[i, j] = np.cos(i) * j**2\n",
    "        \n",
    "# Construct QTT-matrix / TT-tensor by TT-SVD:\n",
    "Y1 = teneva.svd_matrix(Y0, e=1.E-6)\n",
    "\n",
    "# Print the result:\n",
    "teneva.show(Y1)\n",
    "\n",
    "# Convert to full matrix:\n",
    "Y2 = teneva.full_matrix(Y1)\n",
    "\n",
    "# Compare original matrix and reconstructed matrix\n",
    "abs(np.max(Y2-Y0))"
   ]
  },
  {
   "cell_type": "markdown",
   "id": "b5f870ac-5957-452c-a16d-48b7042b3ece",
   "metadata": {},
   "source": [
    "## Function `orthogonalize`"
   ]
  },
  {
   "cell_type": "markdown",
   "id": "f6f753fe-006d-4171-aa51-816f4661e8d3",
   "metadata": {},
   "source": [
    "Orthogonalize TT-tensor."
   ]
  },
  {
   "cell_type": "markdown",
   "id": "a1c57683-3fca-481c-ac47-d50707840472",
   "metadata": {},
   "source": [
    "We set the values of parameters and build a random TT-tensor:"
   ]
  },
  {
   "cell_type": "code",
   "execution_count": 4,
   "id": "1e407658-9dd7-4ff4-a349-75ce82346e40",
   "metadata": {},
   "outputs": [
    {
     "name": "stdout",
     "output_type": "stream",
     "text": [
      "TT-tensor     5D : |12| |13| |14| |15| |16|\n",
      "<rank>  =    3.6 :    \\2/  \\3/  \\4/  \\5/\n"
     ]
    }
   ],
   "source": [
    "d = 5                        # Dimension of the tensor\n",
    "n = [12, 13, 14, 15, 16]     # Shape of the tensor\n",
    "r = [1, 2, 3, 4, 5, 1]       # TT-ranks for TT-tensor\n",
    "Y = teneva.tensor_rand(n, r) # Build random TT-tensor\n",
    "teneva.show(Y)               # Print the resulting TT-tensor"
   ]
  },
  {
   "cell_type": "markdown",
   "id": "ba60557d-02ca-4a89-86e3-ca616e5fd5dd",
   "metadata": {},
   "source": [
    "We perform \"left\" orthogonalization for all TT-cores except the last one:"
   ]
  },
  {
   "cell_type": "code",
   "execution_count": 5,
   "id": "a2fa4949-1c97-497f-95d7-be39ab99a385",
   "metadata": {},
   "outputs": [
    {
     "name": "stdout",
     "output_type": "stream",
     "text": [
      "TT-tensor     5D : |12| |13| |14| |15| |16|\n",
      "<rank>  =    3.6 :    \\2/  \\3/  \\4/  \\5/\n"
     ]
    }
   ],
   "source": [
    "Z = teneva.orthogonalize(Y, d-1)\n",
    "teneva.show(Z)"
   ]
  },
  {
   "cell_type": "markdown",
   "id": "cc718572-4ac5-4cf3-b5ff-98e9a1893f5a",
   "metadata": {},
   "source": [
    "We can verify that the values of the orthogonalized tensor have not changed:"
   ]
  },
  {
   "cell_type": "code",
   "execution_count": 6,
   "id": "5b1f63dc-226f-4e0b-82a7-4f904518a55e",
   "metadata": {},
   "outputs": [
    {
     "name": "stdout",
     "output_type": "stream",
     "text": [
      "Accuracy     : 1.61e-08\n"
     ]
    }
   ],
   "source": [
    "# The relative difference (\"accuracy\"):\n",
    "eps = teneva.accuracy(Y, Z)\n",
    "\n",
    "print(f'Accuracy     : {eps:-8.2e}')"
   ]
  },
  {
   "cell_type": "markdown",
   "id": "f3fc7462-b592-4543-a64e-bf3bfbe449ec",
   "metadata": {},
   "source": [
    "And we can make sure that all TT-cores, except the last one, have become orthogonalized (in terms of the TT-format):"
   ]
  },
  {
   "cell_type": "code",
   "execution_count": 7,
   "id": "8fa05f28-0d33-4acd-abb8-8590bff1cc64",
   "metadata": {},
   "outputs": [
    {
     "name": "stdout",
     "output_type": "stream",
     "text": [
      "[[ 1.00000000e+00 -2.77555756e-17]\n",
      " [-2.77555756e-17  1.00000000e+00]]\n",
      "[[1.00000000e+00 6.93889390e-18 8.32667268e-17]\n",
      " [6.93889390e-18 1.00000000e+00 7.63278329e-17]\n",
      " [8.32667268e-17 7.63278329e-17 1.00000000e+00]]\n",
      "[[ 1.00000000e+00  3.20923843e-17 -1.04083409e-17  6.93889390e-18]\n",
      " [ 3.20923843e-17  1.00000000e+00  2.42861287e-17 -5.89805982e-17]\n",
      " [-1.04083409e-17  2.42861287e-17  1.00000000e+00 -2.08166817e-17]\n",
      " [ 6.93889390e-18 -5.89805982e-17 -2.08166817e-17  1.00000000e+00]]\n",
      "[[ 1.00000000e+00  2.77555756e-17 -1.25767452e-17  2.77555756e-17\n",
      "   2.77555756e-17]\n",
      " [ 2.77555756e-17  1.00000000e+00 -6.93889390e-18  0.00000000e+00\n",
      "  -2.77555756e-17]\n",
      " [-1.25767452e-17 -6.93889390e-18  1.00000000e+00  1.38777878e-17\n",
      "   3.81639165e-17]\n",
      " [ 2.77555756e-17  0.00000000e+00  1.38777878e-17  1.00000000e+00\n",
      "  -2.08166817e-17]\n",
      " [ 2.77555756e-17 -2.77555756e-17  3.81639165e-17 -2.08166817e-17\n",
      "   1.00000000e+00]]\n",
      "[[86536252.64677295]]\n"
     ]
    }
   ],
   "source": [
    "for G in Z:\n",
    "    print(sum([G[:, j, :].T @ G[:, j, :] for j in range(G.shape[1])]))"
   ]
  },
  {
   "cell_type": "markdown",
   "id": "89d19e01-f792-434c-9ce5-b087a85bd122",
   "metadata": {},
   "source": [
    "We can also perform \"right\" orthogonalization for all TT-cores except the first one:"
   ]
  },
  {
   "cell_type": "code",
   "execution_count": 8,
   "id": "f02c569b-388b-4339-9ccc-9aceaad8cdbf",
   "metadata": {},
   "outputs": [],
   "source": [
    "Z = teneva.orthogonalize(Y, 0)"
   ]
  },
  {
   "cell_type": "markdown",
   "id": "a23e8862-06c1-405c-894c-1ae0d36371cf",
   "metadata": {},
   "source": [
    "We can verify that the values of the orthogonalized tensor have not changed:"
   ]
  },
  {
   "cell_type": "code",
   "execution_count": 9,
   "id": "8f624e5d-c64f-4557-966b-a1c1df0e2ac9",
   "metadata": {},
   "outputs": [
    {
     "name": "stdout",
     "output_type": "stream",
     "text": [
      "Accuracy     : 0.00e+00\n"
     ]
    }
   ],
   "source": [
    "# The relative difference (\"accuracy\"):\n",
    "eps = teneva.accuracy(Y, Z)\n",
    "\n",
    "print(f'Accuracy     : {eps:-8.2e}')"
   ]
  },
  {
   "cell_type": "markdown",
   "id": "998a92bd-d966-4233-b92f-8c6e12b127f1",
   "metadata": {},
   "source": [
    "And we can make sure that all TT-cores, except the first one, have become orthogonalized (in terms of the TT-format):"
   ]
  },
  {
   "cell_type": "code",
   "execution_count": 10,
   "id": "93485397-c438-4fc2-96de-0d109eb018b2",
   "metadata": {},
   "outputs": [
    {
     "name": "stdout",
     "output_type": "stream",
     "text": [
      "[[86536252.64677292]]\n",
      "[[ 1.00000000e+00 -1.38777878e-17]\n",
      " [-1.38777878e-17  1.00000000e+00]]\n",
      "[[ 1.00000000e+00 -1.21430643e-17  6.93889390e-18]\n",
      " [-1.21430643e-17  1.00000000e+00  2.34187669e-17]\n",
      " [ 6.93889390e-18  2.34187669e-17  1.00000000e+00]]\n",
      "[[ 1.00000000e+00 -1.38777878e-17 -1.04083409e-17  5.55111512e-17]\n",
      " [-1.38777878e-17  1.00000000e+00  2.77555756e-17  0.00000000e+00]\n",
      " [-1.04083409e-17  2.77555756e-17  1.00000000e+00  8.50014503e-17]\n",
      " [ 5.55111512e-17  0.00000000e+00  8.50014503e-17  1.00000000e+00]]\n",
      "[[ 1.00000000e+00 -6.24500451e-17 -2.10335221e-17  9.71445147e-17\n",
      "  -6.24500451e-17]\n",
      " [-6.24500451e-17  1.00000000e+00  3.72965547e-17  2.08166817e-17\n",
      "   6.24500451e-17]\n",
      " [-2.10335221e-17  3.72965547e-17  1.00000000e+00 -6.07153217e-18\n",
      "   1.38777878e-17]\n",
      " [ 9.71445147e-17  2.08166817e-17 -6.07153217e-18  1.00000000e+00\n",
      "  -8.32667268e-17]\n",
      " [-6.24500451e-17  6.24500451e-17  1.38777878e-17 -8.32667268e-17\n",
      "   1.00000000e+00]]\n"
     ]
    }
   ],
   "source": [
    "for G in Z:\n",
    "    print(sum([G[:, j, :] @ G[:, j, :].T for j in range(G.shape[1])]))"
   ]
  },
  {
   "cell_type": "markdown",
   "id": "564e936a-5f78-488f-8239-6de34b762b7b",
   "metadata": {},
   "source": [
    "We can perform \"left\" orthogonalization for all TT-cores until i-th and \"right\" orthogonalization for all TT-cores after i-th:"
   ]
  },
  {
   "cell_type": "code",
   "execution_count": 11,
   "id": "7d47bb1e-d7e4-4b0c-9df2-83110eb7d93b",
   "metadata": {},
   "outputs": [
    {
     "name": "stdout",
     "output_type": "stream",
     "text": [
      "[[ 1.00000000e+00 -2.77555756e-17]\n",
      " [-2.77555756e-17  1.00000000e+00]]\n",
      "[[1.00000000e+00 6.93889390e-18 8.32667268e-17]\n",
      " [6.93889390e-18 1.00000000e+00 7.63278329e-17]\n",
      " [8.32667268e-17 7.63278329e-17 1.00000000e+00]]\n",
      "---------- i-th core :\n",
      "[[23081344.01711272 -5306017.07921848  9384122.28817653]\n",
      " [-5306017.07921848 32691745.16366326 -9550300.34658735]\n",
      " [ 9384122.28817653 -9550300.34658735 30763163.46599693]]\n",
      "----------\n",
      "[[ 1.00000000e+00 -1.38777878e-17 -1.04083409e-17  5.55111512e-17]\n",
      " [-1.38777878e-17  1.00000000e+00  2.77555756e-17  0.00000000e+00]\n",
      " [-1.04083409e-17  2.77555756e-17  1.00000000e+00  8.50014503e-17]\n",
      " [ 5.55111512e-17  0.00000000e+00  8.50014503e-17  1.00000000e+00]]\n",
      "[[ 1.00000000e+00 -6.24500451e-17 -2.10335221e-17  9.71445147e-17\n",
      "  -6.24500451e-17]\n",
      " [-6.24500451e-17  1.00000000e+00  3.72965547e-17  2.08166817e-17\n",
      "   6.24500451e-17]\n",
      " [-2.10335221e-17  3.72965547e-17  1.00000000e+00 -6.07153217e-18\n",
      "   1.38777878e-17]\n",
      " [ 9.71445147e-17  2.08166817e-17 -6.07153217e-18  1.00000000e+00\n",
      "  -8.32667268e-17]\n",
      " [-6.24500451e-17  6.24500451e-17  1.38777878e-17 -8.32667268e-17\n",
      "   1.00000000e+00]]\n"
     ]
    }
   ],
   "source": [
    "i = 2\n",
    "Z = teneva.orthogonalize(Y, i)\n",
    "\n",
    "for G in Z[:i]:\n",
    "    print(sum([G[:, j, :].T @ G[:, j, :] for j in range(G.shape[1])]))\n",
    "\n",
    "G = Z[i]\n",
    "print('-' * 10 + ' i-th core :')\n",
    "print(sum([G[:, j, :] @ G[:, j, :].T for j in range(G.shape[1])]))\n",
    "print('-' * 10)\n",
    "\n",
    "for G in Z[i+1:]:\n",
    "    print(sum([G[:, j, :] @ G[:, j, :].T for j in range(G.shape[1])]))"
   ]
  },
  {
   "cell_type": "markdown",
   "id": "3d9b2ac9-6f50-4612-8901-09f937478d11",
   "metadata": {},
   "source": [
    "We can also set a flag \"use_stab\", in which case a tensor that is 2^p times smaller than the original tensor will be returned (this allows us to preserve the stability of the operation for essentially multidimensional tensors):"
   ]
  },
  {
   "cell_type": "code",
   "execution_count": 12,
   "id": "7723fe18-94c0-474a-bc00-6025fee81946",
   "metadata": {},
   "outputs": [
    {
     "name": "stdout",
     "output_type": "stream",
     "text": [
      "Accuracy     : 0.00e+00\n"
     ]
    }
   ],
   "source": [
    "Z, p = teneva.orthogonalize(Y, 2, use_stab=True)\n",
    "Z = teneva.mul(Z, 2**p)\n",
    "\n",
    "eps = teneva.accuracy(Y, Z)\n",
    "\n",
    "print(f'Accuracy     : {eps:-8.2e}')"
   ]
  },
  {
   "cell_type": "markdown",
   "id": "a879ed6c-e6d5-4c0d-ba75-7be2b85a1b6e",
   "metadata": {},
   "source": [
    "## Function `orthogonalize_left`"
   ]
  },
  {
   "cell_type": "markdown",
   "id": "79caf360-d263-4b53-ab70-fa6a074f7b7b",
   "metadata": {},
   "source": [
    "Left-orthogonalization for the i-th TT-core of the given TT-tensor."
   ]
  },
  {
   "cell_type": "markdown",
   "id": "7a9d3d7f-5efd-4c56-9ff0-e14c9f79dff7",
   "metadata": {},
   "source": [
    "We set the values of parameters and build a random TT-tensor:"
   ]
  },
  {
   "cell_type": "code",
   "execution_count": 13,
   "id": "4c5441cb-990a-4074-8550-01ec1b4e6b81",
   "metadata": {},
   "outputs": [
    {
     "name": "stdout",
     "output_type": "stream",
     "text": [
      "TT-tensor     5D : |12| |13| |14| |15| |16|\n",
      "<rank>  =    3.6 :    \\2/  \\3/  \\4/  \\5/\n"
     ]
    }
   ],
   "source": [
    "d = 5                        # Dimension of the tensor\n",
    "n = [12, 13, 14, 15, 16]     # Shape of the tensor\n",
    "r = [1, 2, 3, 4, 5, 1]       # TT-ranks for TT-tensor\n",
    "i = d - 2                    # The TT-core for orthogonalization\n",
    "Y = teneva.tensor_rand(n, r) # Build random TT-tensor\n",
    "teneva.show(Y)               # Print the resulting TT-tensor"
   ]
  },
  {
   "cell_type": "markdown",
   "id": "42dc5a01-2914-4e06-a2f6-81fd12a165ae",
   "metadata": {},
   "source": [
    "We perform \"left\" orthogonalization for the i-th TT-core:"
   ]
  },
  {
   "cell_type": "code",
   "execution_count": 14,
   "id": "bd02de40-201a-4b83-b136-da7813e492ba",
   "metadata": {},
   "outputs": [
    {
     "name": "stdout",
     "output_type": "stream",
     "text": [
      "TT-tensor     5D : |12| |13| |14| |15| |16|\n",
      "<rank>  =    3.6 :    \\2/  \\3/  \\4/  \\5/\n"
     ]
    }
   ],
   "source": [
    "Z = teneva.orthogonalize_left(Y, i)\n",
    "teneva.show(Z)"
   ]
  },
  {
   "cell_type": "markdown",
   "id": "bfebd964-6b98-4126-a279-bbf571d3f38b",
   "metadata": {},
   "source": [
    "We can verify that the values of the orthogonalized tensor have not changed:"
   ]
  },
  {
   "cell_type": "code",
   "execution_count": 15,
   "id": "b524907f-c09b-414c-99f5-c38a05c38f89",
   "metadata": {},
   "outputs": [
    {
     "name": "stdout",
     "output_type": "stream",
     "text": [
      "Accuracy     : 0.00e+00\n"
     ]
    }
   ],
   "source": [
    "# The relative difference (\"accuracy\"):\n",
    "eps = teneva.accuracy(Y, Z)\n",
    "\n",
    "print(f'Accuracy     : {eps:-8.2e}')"
   ]
  },
  {
   "cell_type": "markdown",
   "id": "df84d4d9-1a97-4409-82a5-abc2bc281ce4",
   "metadata": {},
   "source": [
    "And we can make sure that the updated TT-core have become orthogonalized (in terms of the TT-format):"
   ]
  },
  {
   "cell_type": "code",
   "execution_count": 16,
   "id": "b0226819-7100-4b1c-8ccc-8d531314c8a4",
   "metadata": {},
   "outputs": [
    {
     "name": "stdout",
     "output_type": "stream",
     "text": [
      "[[ 1.00000000e+00  2.08166817e-17 -3.46944695e-17 -5.89805982e-17\n",
      "   1.73472348e-17]\n",
      " [ 2.08166817e-17  1.00000000e+00 -1.73472348e-17 -2.77555756e-17\n",
      "  -3.81639165e-17]\n",
      " [-3.46944695e-17 -1.73472348e-17  1.00000000e+00  6.93889390e-18\n",
      "  -2.08166817e-17]\n",
      " [-5.89805982e-17 -2.77555756e-17  6.93889390e-18  1.00000000e+00\n",
      "   5.98479599e-17]\n",
      " [ 1.73472348e-17 -3.81639165e-17 -2.08166817e-17  5.98479599e-17\n",
      "   1.00000000e+00]]\n"
     ]
    }
   ],
   "source": [
    "G = Z[i]\n",
    "print(sum([G[:, j, :].T @ G[:, j, :] for j in range(G.shape[1])]))"
   ]
  },
  {
   "cell_type": "markdown",
   "id": "75c6ae8b-2ab0-4e3a-a691-6aa50365f0c4",
   "metadata": {},
   "source": [
    "## Function `orthogonalize_right`"
   ]
  },
  {
   "cell_type": "markdown",
   "id": "de870153-a7ec-428f-8446-684d099ad4dd",
   "metadata": {},
   "source": [
    "Right-orthogonalization for the i-th TT-core of the given TT-tensor."
   ]
  },
  {
   "cell_type": "markdown",
   "id": "0c5369c6-ba4a-4f25-851b-dff33982e5cb",
   "metadata": {},
   "source": [
    "We set the values of parameters and build a random TT-tensor:"
   ]
  },
  {
   "cell_type": "code",
   "execution_count": 17,
   "id": "324a659f-e235-4bed-85b8-125607be4961",
   "metadata": {},
   "outputs": [
    {
     "name": "stdout",
     "output_type": "stream",
     "text": [
      "TT-tensor     5D : |12| |13| |14| |15| |16|\n",
      "<rank>  =    3.6 :    \\2/  \\3/  \\4/  \\5/\n"
     ]
    }
   ],
   "source": [
    "d = 5                        # Dimension of the tensor\n",
    "n = [12, 13, 14, 15, 16]     # Shape of the tensor\n",
    "r = [1, 2, 3, 4, 5, 1]       # TT-ranks for TT-tensor\n",
    "i = d - 2                    # The TT-core for orthogonalization\n",
    "Y = teneva.tensor_rand(n, r) # Build random TT-tensor\n",
    "teneva.show(Y)               # Print the resulting TT-tensor"
   ]
  },
  {
   "cell_type": "markdown",
   "id": "dabad99c-b3e8-4958-b60e-fddbcb6e737b",
   "metadata": {},
   "source": [
    "We perform \"right\" orthogonalization for the i-th TT-core:"
   ]
  },
  {
   "cell_type": "code",
   "execution_count": 18,
   "id": "57765c3d-83b7-4e5a-b1d7-4642e4580618",
   "metadata": {},
   "outputs": [
    {
     "name": "stdout",
     "output_type": "stream",
     "text": [
      "TT-tensor     5D : |12| |13| |14| |15| |16|\n",
      "<rank>  =    3.6 :    \\2/  \\3/  \\4/  \\5/\n"
     ]
    }
   ],
   "source": [
    "Z = teneva.orthogonalize_right(Y, i)\n",
    "teneva.show(Z)"
   ]
  },
  {
   "cell_type": "markdown",
   "id": "ffc9b34e-05a5-4b2a-bebd-a74f93fef5d5",
   "metadata": {},
   "source": [
    "We can verify that the values of the orthogonalized tensor have not changed:"
   ]
  },
  {
   "cell_type": "code",
   "execution_count": 19,
   "id": "013520c4-2f26-4d75-8190-44c4e00ff8bd",
   "metadata": {},
   "outputs": [
    {
     "name": "stdout",
     "output_type": "stream",
     "text": [
      "Accuracy     : 5.86e-09\n"
     ]
    }
   ],
   "source": [
    "# The relative difference (\"accuracy\"):\n",
    "eps = teneva.accuracy(Y, Z)\n",
    "\n",
    "print(f'Accuracy     : {eps:-8.2e}')"
   ]
  },
  {
   "cell_type": "markdown",
   "id": "521eef70-1da5-4b98-9c66-a35ae00ac66a",
   "metadata": {},
   "source": [
    "And we can make sure that the updated TT-core have become orthogonalized (in terms of the TT-format):"
   ]
  },
  {
   "cell_type": "code",
   "execution_count": 20,
   "id": "f051635b-2738-4813-bb1a-e4d50c2098e1",
   "metadata": {},
   "outputs": [
    {
     "name": "stdout",
     "output_type": "stream",
     "text": [
      "[[ 1.00000000e+00  2.77555756e-17 -1.04083409e-17  1.24900090e-16]\n",
      " [ 2.77555756e-17  1.00000000e+00 -6.07153217e-18  0.00000000e+00]\n",
      " [-1.04083409e-17 -6.07153217e-18  1.00000000e+00 -4.51028104e-17]\n",
      " [ 1.24900090e-16  0.00000000e+00 -4.51028104e-17  1.00000000e+00]]\n"
     ]
    }
   ],
   "source": [
    "G = Z[i]\n",
    "print(sum([G[:, j, :] @ G[:, j, :].T for j in range(G.shape[1])]))"
   ]
  },
  {
   "cell_type": "markdown",
   "id": "ddfd01c9-b49a-4c2b-a959-907819d84c6f",
   "metadata": {},
   "source": [
    "## Function `truncate`"
   ]
  },
  {
   "cell_type": "markdown",
   "id": "ab68da28-496c-46bf-804c-7571079db859",
   "metadata": {},
   "source": [
    "Truncate (round) given TT-tensor up to a given accuracy and the rank constraint."
   ]
  },
  {
   "cell_type": "code",
   "execution_count": 21,
   "id": "c3b06af9-3191-4a9c-acad-23cd2c0ed23f",
   "metadata": {},
   "outputs": [
    {
     "name": "stdout",
     "output_type": "stream",
     "text": [
      "TT-tensor    10D : |5| |5| |5| |5| |5| |5| |5| |5| |5| |5|\n",
      "<rank>  =    9.0 :   \\9/ \\9/ \\9/ \\9/ \\9/ \\9/ \\9/ \\9/ \\9/\n"
     ]
    }
   ],
   "source": [
    "# 10-dim random TT-tensor with TT-rank 3:\n",
    "Y = teneva.tensor_rand([5]*10, 3)\n",
    "\n",
    "# Compute Y + Y + Y (the real TT-rank is still 3):\n",
    "Y = teneva.add(Y, teneva.add(Y, Y))\n",
    "\n",
    "# Print the resulting TT-tensor\n",
    "# (note that it has TT-rank 3 + 3 + 3 = 9):\n",
    "teneva.show(Y)"
   ]
  },
  {
   "cell_type": "code",
   "execution_count": 22,
   "id": "490ffa25-3ca4-4a2a-b62b-bce822ef10be",
   "metadata": {},
   "outputs": [
    {
     "name": "stdout",
     "output_type": "stream",
     "text": [
      "TT-tensor    10D : |5| |5| |5| |5| |5| |5| |5| |5| |5| |5|\n",
      "<rank>  =    3.0 :   \\3/ \\3/ \\3/ \\3/ \\3/ \\3/ \\3/ \\3/ \\3/\n",
      "Accuracy     : 0.00e+00\n"
     ]
    }
   ],
   "source": [
    "# Truncate (round) the TT-tensor:\n",
    "Z = teneva.truncate(Y, e=1.E-2)\n",
    "\n",
    "# Print the resulting TT-tensor (note that it has TT-rank 3):\n",
    "teneva.show(Z)\n",
    "\n",
    "# The relative difference (\"accuracy\"):\n",
    "eps = teneva.accuracy(Y, Z)\n",
    "\n",
    "print(f'Accuracy     : {eps:-8.2e}')"
   ]
  },
  {
   "cell_type": "markdown",
   "id": "6c6efa96-fd77-4f91-b9e7-b2c1fc3bddbe",
   "metadata": {},
   "source": [
    "We can also specify the desired TT-rank of truncated TT-tensor:"
   ]
  },
  {
   "cell_type": "code",
   "execution_count": 23,
   "id": "826339b5-299c-4dda-bc9e-d2cb86787fe0",
   "metadata": {},
   "outputs": [
    {
     "name": "stdout",
     "output_type": "stream",
     "text": [
      "TT-tensor    10D : |5| |5| |5| |5| |5| |5| |5| |5| |5| |5|\n",
      "<rank>  =    3.0 :   \\3/ \\3/ \\3/ \\3/ \\3/ \\3/ \\3/ \\3/ \\3/\n",
      "Accuracy     : 0.00e+00\n"
     ]
    }
   ],
   "source": [
    "# Truncate (round) the TT-tensor:\n",
    "Z = teneva.truncate(Y, e=1.E-6, r=3)\n",
    "\n",
    "# Print the resulting TT-tensor (note that it has TT-rank 3):\n",
    "teneva.show(Z)\n",
    "\n",
    "# The relative difference (\"accuracy\"):\n",
    "eps = teneva.accuracy(Y, Z)\n",
    "\n",
    "print(f'Accuracy     : {eps:-8.2e}')"
   ]
  },
  {
   "cell_type": "markdown",
   "id": "a2b2d419-d89b-4d9c-9b02-0035da8b397c",
   "metadata": {},
   "source": [
    "If we choose a lower TT-rank value, then precision will be (predictably) lost:"
   ]
  },
  {
   "cell_type": "code",
   "execution_count": 24,
   "id": "75ae9716-bcbb-4a89-a4bd-afbf6f4c24ee",
   "metadata": {},
   "outputs": [
    {
     "name": "stdout",
     "output_type": "stream",
     "text": [
      "TT-tensor    10D : |5| |5| |5| |5| |5| |5| |5| |5| |5| |5|\n",
      "<rank>  =    2.0 :   \\2/ \\2/ \\2/ \\2/ \\2/ \\2/ \\2/ \\2/ \\2/\n",
      "Accuracy     : 9.82e-01\n"
     ]
    }
   ],
   "source": [
    "# Truncate (round) the TT-tensor:\n",
    "Z = teneva.truncate(Y, e=1.E-6, r=2)\n",
    "\n",
    "# Print the resulting TT-tensor (note that it has TT-rank 2):\n",
    "teneva.show(Z)\n",
    "\n",
    "# The relative difference (\"accuracy\")\n",
    "eps = teneva.accuracy(Y, Z)\n",
    "\n",
    "print(f'Accuracy     : {eps:-8.2e}')"
   ]
  },
  {
   "cell_type": "markdown",
   "id": "5157c326-a02c-41fc-b82d-af0d55ddfb18",
   "metadata": {},
   "source": [
    "---"
   ]
  }
 ],
 "metadata": {
  "kernelspec": {
   "display_name": "Python 3",
   "language": "python",
   "name": "python3"
  },
  "language_info": {
   "codemirror_mode": {
    "name": "ipython",
    "version": 3
   },
   "file_extension": ".py",
   "mimetype": "text/x-python",
   "name": "python",
   "nbconvert_exporter": "python",
   "pygments_lexer": "ipython3",
   "version": "3.8.8"
  }
 },
 "nbformat": 4,
 "nbformat_minor": 5
}

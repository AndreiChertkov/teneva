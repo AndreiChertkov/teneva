{
 "cells": [
  {
   "cell_type": "markdown",
   "id": "e51b9291-f33c-40ad-96ee-e2f9454ffc69",
   "metadata": {},
   "source": [
    "**Demo for `teneva.core.sample`**\n",
    "\n",
    "---\n",
    "\n",
    "Module contains functions for sampling from the TT-tensor and for generation of random multi-indices and points for learning."
   ]
  },
  {
   "cell_type": "markdown",
   "id": "3896a55c-1131-44fc-b746-1433ad4ddb08",
   "metadata": {},
   "source": [
    "## Loading and importing modules"
   ]
  },
  {
   "cell_type": "code",
   "execution_count": 1,
   "id": "9941ed2c-6272-4144-8c96-4e800f0b5c49",
   "metadata": {},
   "outputs": [],
   "source": [
    "import numpy as np\n",
    "import teneva\n",
    "from time import perf_counter as tpc\n",
    "np.random.seed(42)"
   ]
  },
  {
   "cell_type": "markdown",
   "id": "f7300a79-d8a1-4ae6-b50d-9767431de578",
   "metadata": {},
   "source": [
    "## Function `sample_ind_rand`"
   ]
  },
  {
   "cell_type": "markdown",
   "id": "75188ca2-9cfd-41e3-b6c8-5b3c5fc4d8bf",
   "metadata": {},
   "source": [
    "Sample random multi-indices according to given probability TT-tensor."
   ]
  },
  {
   "cell_type": "code",
   "execution_count": 7,
   "id": "48c2588c-c3df-45ef-a2bc-e83164f1a8e8",
   "metadata": {},
   "outputs": [
    {
     "name": "stdout",
     "output_type": "stream",
     "text": [
      "1.0000000000000002\n"
     ]
    }
   ],
   "source": [
    "Y = np.array([       # We generate 2D tensor for demo\n",
    "    [0.1, 0.2, 0.3],\n",
    "    [0. , 0. , 0. ],\n",
    "    [0.2, 0.2, 0. ],\n",
    "    [0. , 0. , 0. ],\n",
    "])\n",
    "Y = teneva.svd(Y)    # We compute its TT-representation\n",
    "print(teneva.sum(Y)) # We print the sum of tensor elements"
   ]
  },
  {
   "cell_type": "code",
   "execution_count": 8,
   "id": "c0d1fa39-4a3f-4946-8bb2-88573dc1db86",
   "metadata": {},
   "outputs": [
    {
     "name": "stdout",
     "output_type": "stream",
     "text": [
      "[2 0] 0.20000000000000004\n",
      "[0 1] 0.19999999999999993\n",
      "[0 2] 0.3000000000000001\n"
     ]
    }
   ],
   "source": [
    "m = 3 # Number of requested samples\n",
    "I = teneva.sample_ind_rand(Y, m)\n",
    "\n",
    "for i in I:\n",
    "    print(i, teneva.get(Y, i))"
   ]
  },
  {
   "cell_type": "markdown",
   "id": "3f984f30-fd84-483b-bfc1-dccea5a93388",
   "metadata": {},
   "source": [
    "We may also generate multi-indices with repeats:"
   ]
  },
  {
   "cell_type": "code",
   "execution_count": 9,
   "id": "44847cbf-be9c-4d32-9811-6313ba800372",
   "metadata": {},
   "outputs": [
    {
     "name": "stdout",
     "output_type": "stream",
     "text": [
      "[0 2] 0.3000000000000001\n",
      "[0 2] 0.3000000000000001\n",
      "[0 2] 0.3000000000000001\n",
      "[0 2] 0.3000000000000001\n",
      "[0 1] 0.19999999999999993\n",
      "[0 2] 0.3000000000000001\n",
      "[2 0] 0.20000000000000004\n",
      "[2 1] 0.19999999999999998\n",
      "[2 1] 0.19999999999999998\n",
      "[0 2] 0.3000000000000001\n"
     ]
    }
   ],
   "source": [
    "m = 10\n",
    "I = teneva.sample_ind_rand(Y, m, unique=False)\n",
    "for i in I:\n",
    "    print(i, teneva.get(Y, i))"
   ]
  },
  {
   "cell_type": "markdown",
   "id": "04530ef9-8026-4d76-9dd9-f7b7a91fdf6e",
   "metadata": {},
   "source": [
    "And now let check this function for big random TT-tensor:"
   ]
  },
  {
   "cell_type": "code",
   "execution_count": 10,
   "id": "9ba15267-4d5b-4a2f-8024-b6f846f3ce85",
   "metadata": {},
   "outputs": [
    {
     "name": "stdout",
     "output_type": "stream",
     "text": [
      "TT-tensor     5D : |4|  |4|  |4|  |4|  |4|\n",
      "<rank>  =   25.0 :   \\25/ \\25/ \\25/ \\25/\n",
      "\n",
      "--- Result:\n",
      "[1 2 1 2 0] 0.034088829237965905\n",
      "[0 2 0 1 1] 0.006165874517144947\n",
      "[3 2 0 1 0] 0.0032721436587474792\n",
      "[0 2 1 2 0] 0.010021111432564143\n",
      "[3 2 3 2 1] 0.008131246814427893\n",
      "[1 2 1 0 3] 0.006175679712646391\n",
      "[1 2 1 2 1] 0.02220029134708088\n",
      "[0 2 3 2 1] 0.007693077224856762\n",
      "[3 2 1 1 1] 0.009168314901172975\n",
      "[3 2 2 0 1] 0.019823516988107307\n"
     ]
    }
   ],
   "source": [
    "# 5-dim random TT-tensor with TT-rank 5:\n",
    "Y = teneva.tensor_rand([4]*5, 5)\n",
    "\n",
    "# Compute the square of Y:\n",
    "Y = teneva.mul(Y, Y)\n",
    "\n",
    "# Normalize the tensor:\n",
    "p = teneva.sum(Y)\n",
    "Y = teneva.mul(Y, 1./p)\n",
    "\n",
    "# Print the resulting TT-tensor:\n",
    "teneva.show(Y)\n",
    "\n",
    "I = teneva.sample_ind_rand(Y, m=10)\n",
    "\n",
    "print('\\n--- Result:')\n",
    "for i in I:\n",
    "    print(i, teneva.get(Y, i))"
   ]
  },
  {
   "cell_type": "markdown",
   "id": "f8ae442d-c6da-43a6-a324-61c070c384c0",
   "metadata": {
    "tags": []
   },
   "source": [
    "## Function `sample_lhs`"
   ]
  },
  {
   "cell_type": "markdown",
   "id": "df22bc3e-8f04-40a6-9b2a-bd91839324f4",
   "metadata": {},
   "source": [
    "Build LHS samples (indices) for the tensor."
   ]
  },
  {
   "cell_type": "code",
   "execution_count": 38,
   "id": "d44e9897-4ac7-4a1a-b775-d0c727e2c08a",
   "metadata": {},
   "outputs": [
    {
     "name": "stdout",
     "output_type": "stream",
     "text": [
      "[[0 3 0]\n",
      " [0 2 4]\n",
      " [3 3 2]\n",
      " [1 0 3]\n",
      " [1 2 0]\n",
      " [3 0 1]\n",
      " [4 4 1]\n",
      " [2 1 4]]\n"
     ]
    }
   ],
   "source": [
    "d = 3           # Dimension of the tensor/grid\n",
    "n = [5] * d     # Shape of the tensor/grid\n",
    "m = 8           # Number of samples\n",
    "\n",
    "I = teneva.sample_lhs(n, m)\n",
    "\n",
    "print(I)"
   ]
  },
  {
   "cell_type": "markdown",
   "id": "abde5390-18e9-4420-b7ee-2e4b542d779b",
   "metadata": {},
   "source": [
    "## Function `sample_tt`"
   ]
  },
  {
   "cell_type": "markdown",
   "id": "f3f1907e-ca25-4f25-a26e-8d82999486a7",
   "metadata": {},
   "source": [
    "Generate special samples (multi-indices) for the tensor, which are are the best (in many cases) for the subsequent construction of the TT-tensor."
   ]
  },
  {
   "cell_type": "code",
   "execution_count": 39,
   "id": "e98c07bb-b1dc-4c09-b15f-5926ae4ec1e5",
   "metadata": {},
   "outputs": [
    {
     "name": "stdout",
     "output_type": "stream",
     "text": [
      "(40, 3)\n",
      "(4,)\n",
      "(3,)\n"
     ]
    }
   ],
   "source": [
    "d = 3           # Dimension of the tensor/grid\n",
    "n = [5] * d     # Shape of the tensor/grid\n",
    "m = 2           # The expected TT-rank\n",
    "\n",
    "I, idx, idx_many = teneva.sample_tt(n, m)\n",
    "\n",
    "print(I.shape)\n",
    "print(idx.shape)\n",
    "print(idx_many.shape)"
   ]
  },
  {
   "cell_type": "markdown",
   "id": "5157c326-a02c-41fc-b82d-af0d55ddfb18",
   "metadata": {},
   "source": [
    "---"
   ]
  }
 ],
 "metadata": {
  "kernelspec": {
   "display_name": "Python 3 (ipykernel)",
   "language": "python",
   "name": "python3"
  },
  "language_info": {
   "codemirror_mode": {
    "name": "ipython",
    "version": 3
   },
   "file_extension": ".py",
   "mimetype": "text/x-python",
   "name": "python",
   "nbconvert_exporter": "python",
   "pygments_lexer": "ipython3",
   "version": "3.8.16"
  }
 },
 "nbformat": 4,
 "nbformat_minor": 5
}

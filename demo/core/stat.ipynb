{
 "cells": [
  {
   "cell_type": "markdown",
   "id": "e51b9291-f33c-40ad-96ee-e2f9454ffc69",
   "metadata": {},
   "source": [
    "**Demo for `teneva.core.stat`**\n",
    "\n",
    "---\n",
    "\n",
    "Module contains helper functions for processing statistics, as well as sampling from the TT-tensor."
   ]
  },
  {
   "cell_type": "markdown",
   "id": "3896a55c-1131-44fc-b746-1433ad4ddb08",
   "metadata": {},
   "source": [
    "## Loading and importing modules"
   ]
  },
  {
   "cell_type": "code",
   "execution_count": 1,
   "id": "9941ed2c-6272-4144-8c96-4e800f0b5c49",
   "metadata": {},
   "outputs": [],
   "source": [
    "import numpy as np\n",
    "import teneva\n",
    "from time import perf_counter as tpc\n",
    "np.random.seed(42)"
   ]
  },
  {
   "cell_type": "markdown",
   "id": "49cadbcf-729c-4e93-bfdf-efb77c4e0d58",
   "metadata": {},
   "source": [
    "## Function `cdf_confidence`"
   ]
  },
  {
   "cell_type": "markdown",
   "id": "fd85c1c4-ba25-4788-a1ad-b42ab5c6d952",
   "metadata": {},
   "source": [
    "Constructs a Dvoretzky-Kiefer-Wolfowitz confidence band for the CDF."
   ]
  },
  {
   "cell_type": "code",
   "execution_count": 2,
   "id": "bf65693b-d3d5-4e42-afc8-d4f5a6631a0c",
   "metadata": {},
   "outputs": [
    {
     "name": "stdout",
     "output_type": "stream",
     "text": [
      "  0.4967 |   0.1461 |   0.8474\n",
      " -0.1383 |   0.0000 |   0.2124\n",
      "  0.6477 |   0.2970 |   0.9983\n",
      "  1.5230 |   1.0000 |   1.0000\n",
      " -0.2342 |   0.0000 |   0.1165\n",
      " -0.2341 |   0.0000 |   0.1165\n",
      "  1.5792 |   1.0000 |   1.0000\n",
      "  0.7674 |   0.4168 |   1.0000\n",
      " -0.4695 |   0.0000 |   0.0000\n",
      "  0.5426 |   0.1919 |   0.8932\n",
      " -0.4634 |   0.0000 |   0.0000\n",
      " -0.4657 |   0.0000 |   0.0000\n",
      "  0.2420 |   0.0000 |   0.5926\n",
      " -1.9133 |   0.0000 |   0.0000\n",
      " -1.7249 |   0.0000 |   0.0000\n"
     ]
    }
   ],
   "source": [
    "# Statistical points:\n",
    "points = np.random.randn(15)\n",
    "\n",
    "# Compute the confidence:\n",
    "cdf_min, cdf_max = teneva.cdf_confidence(points)\n",
    "for p, c_min, c_max in zip(points, cdf_min, cdf_max):\n",
    "    print(f'{p:-8.4f} | {c_min:-8.4f} | {c_max:-8.4f}')"
   ]
  },
  {
   "cell_type": "markdown",
   "id": "ed615c56-8b1a-4965-a57f-1b6cd29ba46e",
   "metadata": {},
   "source": [
    "## Function `cdf_getter`"
   ]
  },
  {
   "cell_type": "markdown",
   "id": "adbf7982-1a8a-449a-a11c-70af81d187c8",
   "metadata": {},
   "source": [
    "Build the getter for CDF."
   ]
  },
  {
   "cell_type": "code",
   "execution_count": 3,
   "id": "48710d3b-e61a-4dad-8351-dfd04fe242d4",
   "metadata": {},
   "outputs": [],
   "source": [
    "# Statistical points:\n",
    "x = np.random.randn(1000)\n",
    "\n",
    "# Build the CDF getter:\n",
    "cdf = teneva.cdf_getter(x)"
   ]
  },
  {
   "cell_type": "code",
   "execution_count": 4,
   "id": "f3fa4468-03d9-47e7-9a63-4f7b52907d35",
   "metadata": {},
   "outputs": [
    {
     "data": {
      "text/plain": [
       "0.0"
      ]
     },
     "execution_count": 4,
     "metadata": {},
     "output_type": "execute_result"
    }
   ],
   "source": [
    "z = -9999  # Point for CDF computations\n",
    "\n",
    "cdf(z)"
   ]
  },
  {
   "cell_type": "code",
   "execution_count": 5,
   "id": "ea57b534-bd33-49dc-af66-500d5752b476",
   "metadata": {},
   "outputs": [
    {
     "data": {
      "text/plain": [
       "1.0"
      ]
     },
     "execution_count": 5,
     "metadata": {},
     "output_type": "execute_result"
    }
   ],
   "source": [
    "z = +9999  # Point for CDF computations\n",
    "\n",
    "cdf(z)"
   ]
  },
  {
   "cell_type": "code",
   "execution_count": 6,
   "id": "540da3ae-b0fc-4834-bbee-57c931fac7ba",
   "metadata": {},
   "outputs": [
    {
     "data": {
      "text/plain": [
       "array([0.   , 0.   , 0.145, 0.485, 1.   ])"
      ]
     },
     "execution_count": 6,
     "metadata": {},
     "output_type": "execute_result"
    }
   ],
   "source": [
    "# Several points for CDF computations:\n",
    "z = [-10000, -10, -1, 0, 100]\n",
    "\n",
    "cdf(z)"
   ]
  },
  {
   "cell_type": "markdown",
   "id": "f7300a79-d8a1-4ae6-b50d-9767431de578",
   "metadata": {},
   "source": [
    "## Function `sample_ind_rand`"
   ]
  },
  {
   "cell_type": "markdown",
   "id": "75188ca2-9cfd-41e3-b6c8-5b3c5fc4d8bf",
   "metadata": {},
   "source": [
    "Sample random multi-indices according to given probability TT-tensor."
   ]
  },
  {
   "cell_type": "code",
   "execution_count": 7,
   "id": "48c2588c-c3df-45ef-a2bc-e83164f1a8e8",
   "metadata": {},
   "outputs": [
    {
     "name": "stdout",
     "output_type": "stream",
     "text": [
      "1.0000000000000002\n"
     ]
    }
   ],
   "source": [
    "Y = np.array([       # We generate 2D tensor for demo\n",
    "    [0.1, 0.2, 0.3],\n",
    "    [0. , 0. , 0. ],\n",
    "    [0.2, 0.2, 0. ],\n",
    "    [0. , 0. , 0. ],\n",
    "])\n",
    "Y = teneva.svd(Y)    # We compute its TT-representation\n",
    "print(teneva.sum(Y)) # We print the sum of tensor elements"
   ]
  },
  {
   "cell_type": "code",
   "execution_count": 8,
   "id": "c0d1fa39-4a3f-4946-8bb2-88573dc1db86",
   "metadata": {},
   "outputs": [
    {
     "name": "stdout",
     "output_type": "stream",
     "text": [
      "[2 0] 0.20000000000000004\n",
      "[0 1] 0.19999999999999993\n",
      "[0 2] 0.3000000000000001\n"
     ]
    }
   ],
   "source": [
    "m = 3 # Number of requested samples\n",
    "I = teneva.sample_ind_rand(Y, m)\n",
    "\n",
    "for i in I:\n",
    "    print(i, teneva.get(Y, i))"
   ]
  },
  {
   "cell_type": "markdown",
   "id": "3f984f30-fd84-483b-bfc1-dccea5a93388",
   "metadata": {},
   "source": [
    "We may also generate multi-indices with repeats:"
   ]
  },
  {
   "cell_type": "code",
   "execution_count": 9,
   "id": "44847cbf-be9c-4d32-9811-6313ba800372",
   "metadata": {},
   "outputs": [
    {
     "name": "stdout",
     "output_type": "stream",
     "text": [
      "[0 2] 0.3000000000000001\n",
      "[0 2] 0.3000000000000001\n",
      "[0 2] 0.3000000000000001\n",
      "[0 2] 0.3000000000000001\n",
      "[0 1] 0.19999999999999993\n",
      "[0 2] 0.3000000000000001\n",
      "[2 0] 0.20000000000000004\n",
      "[2 1] 0.19999999999999998\n",
      "[2 1] 0.19999999999999998\n",
      "[0 2] 0.3000000000000001\n"
     ]
    }
   ],
   "source": [
    "m = 10\n",
    "I = teneva.sample_ind_rand(Y, m, unique=False)\n",
    "for i in I:\n",
    "    print(i, teneva.get(Y, i))"
   ]
  },
  {
   "cell_type": "markdown",
   "id": "04530ef9-8026-4d76-9dd9-f7b7a91fdf6e",
   "metadata": {},
   "source": [
    "And now let check this function for big random TT-tensor:"
   ]
  },
  {
   "cell_type": "code",
   "execution_count": 10,
   "id": "9ba15267-4d5b-4a2f-8024-b6f846f3ce85",
   "metadata": {},
   "outputs": [
    {
     "name": "stdout",
     "output_type": "stream",
     "text": [
      "TT-tensor     5D : |4|  |4|  |4|  |4|  |4|\n",
      "<rank>  =   25.0 :   \\25/ \\25/ \\25/ \\25/\n",
      "\n",
      "--- Result:\n",
      "[1 2 1 2 0] 0.034088829237965905\n",
      "[0 2 0 1 1] 0.006165874517144947\n",
      "[3 2 0 1 0] 0.0032721436587474792\n",
      "[0 2 1 2 0] 0.010021111432564143\n",
      "[3 2 3 2 1] 0.008131246814427893\n",
      "[1 2 1 0 3] 0.006175679712646391\n",
      "[1 2 1 2 1] 0.02220029134708088\n",
      "[0 2 3 2 1] 0.007693077224856762\n",
      "[3 2 1 1 1] 0.009168314901172975\n",
      "[3 2 2 0 1] 0.019823516988107307\n"
     ]
    }
   ],
   "source": [
    "# 5-dim random TT-tensor with TT-rank 5:\n",
    "Y = teneva.tensor_rand([4]*5, 5)\n",
    "\n",
    "# Compute the square of Y:\n",
    "Y = teneva.mul(Y, Y)\n",
    "\n",
    "# Normalize the tensor:\n",
    "p = teneva.sum(Y)\n",
    "Y = teneva.mul(Y, 1./p)\n",
    "\n",
    "# Print the resulting TT-tensor:\n",
    "teneva.show(Y)\n",
    "\n",
    "I = teneva.sample_ind_rand(Y, m=10)\n",
    "\n",
    "print('\\n--- Result:')\n",
    "for i in I:\n",
    "    print(i, teneva.get(Y, i))"
   ]
  },
  {
   "cell_type": "markdown",
   "id": "5157c326-a02c-41fc-b82d-af0d55ddfb18",
   "metadata": {},
   "source": [
    "---"
   ]
  }
 ],
 "metadata": {
  "kernelspec": {
   "display_name": "Python 3",
   "language": "python",
   "name": "python3"
  },
  "language_info": {
   "codemirror_mode": {
    "name": "ipython",
    "version": 3
   },
   "file_extension": ".py",
   "mimetype": "text/x-python",
   "name": "python",
   "nbconvert_exporter": "python",
   "pygments_lexer": "ipython3",
   "version": "3.8.8"
  }
 },
 "nbformat": 4,
 "nbformat_minor": 5
}

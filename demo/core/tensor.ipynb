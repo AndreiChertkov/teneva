{
 "cells": [
  {
   "cell_type": "markdown",
   "id": "e51b9291-f33c-40ad-96ee-e2f9454ffc69",
   "metadata": {},
   "source": [
    "**Demo for `teneva.core.tensor`**\n",
    "\n",
    "---\n",
    "\n",
    "This module contains the basic operations and utilities for TT-tensors, including \"add\", \"get\", \"mul\", etc."
   ]
  },
  {
   "cell_type": "markdown",
   "id": "3896a55c-1131-44fc-b746-1433ad4ddb08",
   "metadata": {},
   "source": [
    "## Loading and importing modules"
   ]
  },
  {
   "cell_type": "code",
   "execution_count": 1,
   "id": "9941ed2c-6272-4144-8c96-4e800f0b5c49",
   "metadata": {},
   "outputs": [],
   "source": [
    "import numpy as np\n",
    "import teneva\n",
    "from time import perf_counter as tpc\n",
    "np.random.seed(42)"
   ]
  },
  {
   "cell_type": "markdown",
   "id": "cdeb7c7a-10f7-44ac-960e-8e32a8251906",
   "metadata": {},
   "source": [
    "## Function `accuracy`"
   ]
  },
  {
   "cell_type": "markdown",
   "id": "5b41e0b9-472d-4db4-9757-dbbea7a25440",
   "metadata": {},
   "source": [
    "Compute $\\frac{|| Y_1 - Y_2 ||}{|| Y_2 ||}$ for tensors in the TT-format."
   ]
  },
  {
   "cell_type": "code",
   "execution_count": 2,
   "id": "b7f23454-1109-4f7d-847e-60daa87109a1",
   "metadata": {},
   "outputs": [
    {
     "name": "stdout",
     "output_type": "stream",
     "text": [
      "Accuracy     : 1.00e-04\n"
     ]
    }
   ],
   "source": [
    "Y1 = teneva.rand([5]*10, 2)                 # 10-dim random TT-tensor with TT-rank 2\n",
    "Y2 = teneva.add(Y1, teneva.mul(1.E-4, Y1))  # The TT-tensor Y1 + eps * Y1 (eps = 1.E-4)\n",
    "eps = teneva.accuracy(Y1, Y2)               # The relative difference (\"accuracy\")\n",
    "print(f'Accuracy     : {eps:-8.2e}')"
   ]
  },
  {
   "cell_type": "markdown",
   "id": "c2cfea5d-2280-42c7-9a70-a1ca4f3c720f",
   "metadata": {},
   "source": [
    "Note that this function works correctly even for very large dimension values due to the use of balancing in the scalar product:"
   ]
  },
  {
   "cell_type": "code",
   "execution_count": 3,
   "id": "9256f0c6-de99-408c-a1a3-c264c30e7a4d",
   "metadata": {},
   "outputs": [
    {
     "name": "stdout",
     "output_type": "stream",
     "text": [
      "d =    10 | eps =  5.0e-01 | expected value 0.5\n",
      "d =    50 | eps =  5.0e-01 | expected value 0.5\n",
      "d =   100 | eps =  5.0e-01 | expected value 0.5\n",
      "d =   250 | eps =  5.0e-01 | expected value 0.5\n",
      "d =  1000 | eps =  5.0e-01 | expected value 0.5\n",
      "d = 10000 | eps =  5.0e-01 | expected value 0.5\n"
     ]
    }
   ],
   "source": [
    "for d in [10, 50, 100, 250, 1000, 10000]:\n",
    "    Y1 = teneva.rand([10]*d, r=2)\n",
    "    Y2 = teneva.add(Y1, Y1)\n",
    "\n",
    "    eps = teneva.accuracy(Y1, Y2)\n",
    "\n",
    "    print(f'd = {d:-5d} | eps = {eps:-8.1e} | expected value 0.5')"
   ]
  },
  {
   "cell_type": "markdown",
   "id": "4cc4a355-734c-4609-9334-43dae8fd1fe2",
   "metadata": {},
   "source": [
    "## Function `add`"
   ]
  },
  {
   "cell_type": "markdown",
   "id": "ef9280eb-4bfa-4e09-8b93-48a82bf50f6b",
   "metadata": {},
   "source": [
    "Compute element wise sum $Y = Y_1 + Y_2$ for the given TT-tensors $Y_1$ and $Y_2$ presented as lists of TT-cores."
   ]
  },
  {
   "cell_type": "code",
   "execution_count": 4,
   "id": "5d604a6a-c385-496f-90e4-77e542b28098",
   "metadata": {},
   "outputs": [],
   "source": [
    "Y1 = teneva.rand([5]*10, 2) # 10-dim random TT-tensor with TT-rank 2\n",
    "Y2 = teneva.rand([5]*10, 3) # 10-dim random TT-tensor with TT-rank 3"
   ]
  },
  {
   "cell_type": "code",
   "execution_count": 5,
   "id": "1794474a-8918-4cb9-a1ae-a7d1bead5620",
   "metadata": {},
   "outputs": [
    {
     "name": "stdout",
     "output_type": "stream",
     "text": [
      "  5  5  5  5  5  5  5  5  5  5 \n",
      " / \\/ \\/ \\/ \\/ \\/ \\/ \\/ \\/ \\/ \\\n",
      " 1  5  5  5  5  5  5  5  5  5  1 \n",
      "\n"
     ]
    }
   ],
   "source": [
    "Y = teneva.add(Y1, Y2)      # Compute the sum of Y1 and Y2\n",
    "teneva.show(Y)              # Print the resulting TT-tensor (note that it has TT-rank 2 + 3 = 5)"
   ]
  },
  {
   "cell_type": "code",
   "execution_count": 6,
   "id": "384fbadb-7d2b-487a-b24a-6feb8a08fe67",
   "metadata": {},
   "outputs": [
    {
     "name": "stdout",
     "output_type": "stream",
     "text": [
      "Error     : 8.70e-17\n"
     ]
    }
   ],
   "source": [
    "Y1_full = teneva.full(Y1)                       # Compute tensors in the full format\n",
    "Y2_full = teneva.full(Y2)                       # to check the result\n",
    "Y_full = teneva.full(Y)\n",
    "\n",
    "Z_full = Y1_full + Y2_full\n",
    "\n",
    "e = np.linalg.norm(Y_full - Z_full)             # Compute error for TT-tensor vs full tensor \n",
    "e /= np.linalg.norm(Z_full)\n",
    "\n",
    "print(f'Error     : {e:-8.2e}')                 # Rel. error for TT-tensor vs full tensor"
   ]
  },
  {
   "cell_type": "markdown",
   "id": "c75d697a-ded3-4989-9055-b3e1e93a24a2",
   "metadata": {},
   "source": [
    "This function also supports float argument:"
   ]
  },
  {
   "cell_type": "code",
   "execution_count": 7,
   "id": "784be043-15a9-443b-b0ab-c5de5efda124",
   "metadata": {},
   "outputs": [
    {
     "name": "stdout",
     "output_type": "stream",
     "text": [
      "  5  5  5  5  5  5  5  5  5  5 \n",
      " / \\/ \\/ \\/ \\/ \\/ \\/ \\/ \\/ \\/ \\\n",
      " 1  3  3  3  3  3  3  3  3  3  1 \n",
      "\n"
     ]
    }
   ],
   "source": [
    "Y1 = teneva.rand([5]*10, 2) # 10-dim random TT-tensor with TT-rank 2\n",
    "Y2 = 42.                    # Just a number\n",
    "Y = teneva.add(Y1, Y2)      # Compute the sum of Y1 and Y2\n",
    "teneva.show(Y)              # Print the resulting TT-tensor (note that it has TT-rank 2 + 1 = 3)"
   ]
  },
  {
   "cell_type": "code",
   "execution_count": 8,
   "id": "12551932-ae62-4afa-8af3-3b91c1074960",
   "metadata": {},
   "outputs": [
    {
     "name": "stdout",
     "output_type": "stream",
     "text": [
      "  5  5  5  5  5  5  5  5  5  5 \n",
      " / \\/ \\/ \\/ \\/ \\/ \\/ \\/ \\/ \\/ \\\n",
      " 1  3  3  3  3  3  3  3  3  3  1 \n",
      "\n"
     ]
    }
   ],
   "source": [
    "Y1 = 42.                    # Just a number\n",
    "Y2 = teneva.rand([5]*10, 2) # 10-dim random TT-tensor with TT-rank 2\n",
    "Y = teneva.add(Y1, Y2)      # Compute the sum of Y1 and Y2\n",
    "teneva.show(Y)              # Print the resulting TT-tensor (note that it has TT-rank 2 + 1 = 3)"
   ]
  },
  {
   "cell_type": "code",
   "execution_count": 9,
   "id": "726878d6-c4ee-4c4e-82ac-46dc93671d82",
   "metadata": {},
   "outputs": [
    {
     "name": "stdout",
     "output_type": "stream",
     "text": [
      "Error     : 4.97e-16\n"
     ]
    }
   ],
   "source": [
    "Y1_full = 42.                       # Compute tensors in the full format\n",
    "Y2_full = teneva.full(Y2)           # to check the result\n",
    "Y_full = teneva.full(Y)\n",
    "\n",
    "Z_full = Y1_full + Y2_full\n",
    "\n",
    "e = np.linalg.norm(Y_full - Z_full) # Compute error for TT-tensor vs full tensor \n",
    "e /= np.linalg.norm(Z_full)\n",
    "\n",
    "print(f'Error     : {e:-8.2e}')     # Rel. error for TT-tensor vs full tensor"
   ]
  },
  {
   "cell_type": "markdown",
   "id": "e053506c-0a04-46d0-b85a-3ef17702ea71",
   "metadata": {},
   "source": [
    "If both arguments are numbers, then function returns the sum of numbers:"
   ]
  },
  {
   "cell_type": "code",
   "execution_count": 10,
   "id": "0f76fbd7-10a8-4260-9814-a2c709c0b654",
   "metadata": {},
   "outputs": [
    {
     "name": "stdout",
     "output_type": "stream",
     "text": [
      "42.0\n"
     ]
    }
   ],
   "source": [
    "Y1 = 40.                    # Just a number\n",
    "Y2 = 2                      # Just a number\n",
    "Y = teneva.add(Y1, Y2)      # Compute the sum of Y1 and Y2\n",
    "print(Y)                    # The result is a number"
   ]
  },
  {
   "cell_type": "markdown",
   "id": "48a74a00-40ed-482b-8e64-5a34067bf7cb",
   "metadata": {},
   "source": [
    "## Function `add_many`"
   ]
  },
  {
   "cell_type": "markdown",
   "id": "dd70b8e8-c3d4-4b2f-8c0b-939cd6867dec",
   "metadata": {},
   "source": [
    "Compute element wise sum $Y = Y_1 + Y_2 + \\ldots + Y_m$ for the given TT-tensors given as lists of TT-cores. The result is truncated to the given accuracy `e` and/or maximum TT-rank `r`. Additionally, the intermediate result is truncated with a frequency `trunc_freq`."
   ]
  },
  {
   "cell_type": "code",
   "execution_count": 11,
   "id": "ff775fc6-2c41-48c6-85ca-0faba93f4375",
   "metadata": {},
   "outputs": [
    {
     "name": "stdout",
     "output_type": "stream",
     "text": [
      "  5  5  5  5  5  5  5  5  5  5 \n",
      " / \\/ \\/ \\/ \\/ \\/ \\/ \\/ \\/ \\/ \\\n",
      " 1  5 20 20 20 20 20 20 20  5  1 \n",
      "\n"
     ]
    }
   ],
   "source": [
    "Y_all = [teneva.rand([5]*10, 2) for _ in range(10)]     # 10 random TT-tensors with TT-rank 2\n",
    "Y = teneva.add_many(Y_all, e=1.E-4, r=50, trunc_freq=2)\n",
    "teneva.show(Y)"
   ]
  },
  {
   "cell_type": "markdown",
   "id": "777ecb04-594f-407a-acca-f3f763f5b4bd",
   "metadata": {},
   "source": [
    "This function also supports float arguments:"
   ]
  },
  {
   "cell_type": "code",
   "execution_count": 12,
   "id": "b0a9f771-9c4c-4344-99c7-b7883541bcc2",
   "metadata": {},
   "outputs": [
    {
     "name": "stdout",
     "output_type": "stream",
     "text": [
      "  5  5  5  5  5  5  5  5  5  5 \n",
      " / \\/ \\/ \\/ \\/ \\/ \\/ \\/ \\/ \\/ \\\n",
      " 1  5  7  7  7  7  7  7  7  5  1 \n",
      "\n"
     ]
    }
   ],
   "source": [
    "Y_all = [\n",
    "    42.,\n",
    "    teneva.rand([5]*10, 2),\n",
    "    33.,\n",
    "    teneva.rand([5]*10, 4)\n",
    "]\n",
    "Y = teneva.add_many(Y_all, e=1.E-4, r=50, trunc_freq=2)\n",
    "teneva.show(Y)"
   ]
  },
  {
   "cell_type": "markdown",
   "id": "199b159a-3aa6-43af-b38b-ddfecb08e6e2",
   "metadata": {},
   "source": [
    "If all arguments are numbers, then function returns the sum of numbers:"
   ]
  },
  {
   "cell_type": "code",
   "execution_count": 13,
   "id": "a06eb278-5797-489d-b46b-9f87c116fb6f",
   "metadata": {},
   "outputs": [
    {
     "name": "stdout",
     "output_type": "stream",
     "text": [
      "42.0\n"
     ]
    }
   ],
   "source": [
    "Y_all = [10., 20., 2., 10.]\n",
    "Y = teneva.add_many(Y_all, e=1.E-4, r=50, trunc_freq=2)\n",
    "print(Y)"
   ]
  },
  {
   "cell_type": "markdown",
   "id": "53ae283b-b86b-403b-ad4c-edd6bf80e5a0",
   "metadata": {},
   "source": [
    "## Function `copy`"
   ]
  },
  {
   "cell_type": "markdown",
   "id": "cb0755cb-31ab-402f-b411-1ed2a7c48a80",
   "metadata": {},
   "source": [
    "Return a copy of the given TT-tensor."
   ]
  },
  {
   "cell_type": "code",
   "execution_count": 14,
   "id": "30411080-6f66-4b4c-a667-b8dc192af300",
   "metadata": {},
   "outputs": [
    {
     "name": "stdout",
     "output_type": "stream",
     "text": [
      "-0.1858103329563536\n",
      "-0.1858103329563536\n"
     ]
    }
   ],
   "source": [
    "Y = teneva.rand([5]*10, 2) # 10-dim random TT-tensor with TT-rank 2\n",
    "Z = teneva.copy(Y)         # The copy of Y\n",
    "print(Y[2][1, 2, 0])\n",
    "print(Z[2][1, 2, 0])"
   ]
  },
  {
   "cell_type": "code",
   "execution_count": 15,
   "id": "27e1a9db-6bab-419e-b89d-948ff0bc7068",
   "metadata": {},
   "outputs": [
    {
     "name": "stdout",
     "output_type": "stream",
     "text": [
      "-0.1858103329563536\n",
      "42.0\n"
     ]
    }
   ],
   "source": [
    "Z[2][1, 2, 0] = 42.\n",
    "\n",
    "print(Y[2][1, 2, 0])\n",
    "print(Z[2][1, 2, 0])"
   ]
  },
  {
   "cell_type": "markdown",
   "id": "4b9b0770-1558-421d-a441-b80b75a60ee3",
   "metadata": {},
   "source": [
    "It also supports numbers for convenience:"
   ]
  },
  {
   "cell_type": "code",
   "execution_count": 16,
   "id": "c07ff2e4-84f2-47ca-b923-c6cfb7e9d3cc",
   "metadata": {},
   "outputs": [
    {
     "data": {
      "text/plain": [
       "42.0"
      ]
     },
     "execution_count": 16,
     "metadata": {},
     "output_type": "execute_result"
    }
   ],
   "source": [
    "teneva.copy(42.)"
   ]
  },
  {
   "cell_type": "markdown",
   "id": "34eea7aa-737f-494a-bd51-bdf059605084",
   "metadata": {},
   "source": [
    "## Function `get`"
   ]
  },
  {
   "cell_type": "markdown",
   "id": "8a13fa68-f4a5-426c-8554-e29a558a15ca",
   "metadata": {},
   "source": [
    "Compute the element with multiindex $k$ from the TT-tensor $Y$. See also a function `tensor.getter` that performs the same operation, but with an acceleration."
   ]
  },
  {
   "cell_type": "code",
   "execution_count": 17,
   "id": "7676216f-0445-4150-b940-e1fb77ebfec7",
   "metadata": {},
   "outputs": [
    {
     "name": "stdout",
     "output_type": "stream",
     "text": [
      "   10  10  10  10  10 \n",
      "  / \\ / \\ / \\ / \\ / \\ \n",
      " 1   10 100 100  10  1  \n",
      "\n"
     ]
    },
    {
     "data": {
      "text/plain": [
       "6.106226635438361e-16"
      ]
     },
     "execution_count": 17,
     "metadata": {},
     "output_type": "execute_result"
    }
   ],
   "source": [
    "n = [10] * 5              # Shape of the tensor      \n",
    "Y0 = np.random.randn(*n)  # Create 5-dim random numpy tensor\n",
    "Y1 = teneva.svd(Y0)       # Compute TT-tensor from Y0 by TT-SVD\n",
    "teneva.show(Y1)           # Print the TT-tensor\n",
    "k = [1, 2, 3, 4, 5]       # Select some tensor element\n",
    "y1 = teneva.get(Y1, k)    # Compute the element of the TT-tensor\n",
    "y0 = Y0[tuple(k)]         # Compute the same element of the original tensor\n",
    "abs(np.max(y1-y0))        # Compare original tensor and reconstructed tensor"
   ]
  },
  {
   "cell_type": "markdown",
   "id": "39dde4fa-a06f-428f-b4a3-117ed3ca5008",
   "metadata": {},
   "source": [
    "This function is also support batch mode:"
   ]
  },
  {
   "cell_type": "code",
   "execution_count": 18,
   "id": "a1eca025-2a7d-4a24-b22b-6afd03c683e0",
   "metadata": {},
   "outputs": [
    {
     "data": {
      "text/plain": [
       "1.9302352470832727"
      ]
     },
     "execution_count": 18,
     "metadata": {},
     "output_type": "execute_result"
    }
   ],
   "source": [
    "K = [\n",
    "    [1, 2, 3, 4, 5],\n",
    "    [0, 0, 0, 0, 0],\n",
    "    [5, 4, 3, 2, 1],\n",
    "]\n",
    "\n",
    "y1 = teneva.get(Y1, k)\n",
    "y0 = [Y0[tuple(k)] for k in K]\n",
    "abs(np.max(y1-y0))"
   ]
  },
  {
   "cell_type": "markdown",
   "id": "776f8475-58ff-41e2-be36-2b8f313dde57",
   "metadata": {},
   "source": [
    "## Function `get_many`"
   ]
  },
  {
   "cell_type": "markdown",
   "id": "c692eebd-9c06-47fc-b60f-3ecb69170de2",
   "metadata": {},
   "source": [
    "Compute the elements of the TT-tensor on many indices (the function \"get\" with 2-dimensional argument may be used instead)."
   ]
  },
  {
   "cell_type": "code",
   "execution_count": 19,
   "id": "abecd87a-789d-4ea2-8314-ce6ba459bb14",
   "metadata": {},
   "outputs": [
    {
     "name": "stdout",
     "output_type": "stream",
     "text": [
      "   10  10  10  10  10 \n",
      "  / \\ / \\ / \\ / \\ / \\ \n",
      " 1   10 100 100  10  1  \n",
      "\n"
     ]
    },
    {
     "data": {
      "text/plain": [
       "1.2212453270876722e-14"
      ]
     },
     "execution_count": 19,
     "metadata": {},
     "output_type": "execute_result"
    }
   ],
   "source": [
    "n = [10] * 5                    # Shape of the tensor      \n",
    "Y0 = np.random.randn(*n)        # Create 5-dim random numpy tensor\n",
    "Y1 = teneva.svd(Y0)             # Compute TT-tensor from Y0 by TT-SVD\n",
    "teneva.show(Y1)                 # Print the TT-tensor\n",
    "K = [                           # Select some tensor elements\n",
    "    [1, 2, 3, 4, 5],\n",
    "    [0, 0, 0, 0, 0],\n",
    "    [5, 4, 3, 2, 1],\n",
    "]     \n",
    "y1 = teneva.get_many(Y1, K)     # Compute the element of the TT-tensor\n",
    "y0 = [Y0[tuple(k)] for k in K]  # Compute the same element of the original tensor\n",
    "abs(np.max(y1-y0))              # Compare original tensor and reconstructed tensor"
   ]
  },
  {
   "cell_type": "markdown",
   "id": "3c8892a7-7493-4bb6-a4c5-416d69816cec",
   "metadata": {},
   "source": [
    "## Function `getter`"
   ]
  },
  {
   "cell_type": "markdown",
   "id": "3ae261d5-185b-45e5-8295-49739bf0c443",
   "metadata": {},
   "source": [
    "Build fast (accelerated by numba) function that computes the element with multiindex $k$ for the TT-tensor $Y$. See also a function `tensor.get` for more details. Note that this function is not support the batch mode."
   ]
  },
  {
   "cell_type": "code",
   "execution_count": 20,
   "id": "015623bf-01ca-4e97-a8a5-b01baf9b1801",
   "metadata": {},
   "outputs": [
    {
     "data": {
      "text/plain": [
       "1.9897278269453977e-15"
      ]
     },
     "execution_count": 20,
     "metadata": {},
     "output_type": "execute_result"
    }
   ],
   "source": [
    "n = [10] * 5              # Shape of the tensor      \n",
    "Y0 = np.random.randn(*n)  # Create 5-dim random numpy tensor\n",
    "Y1 = teneva.svd(Y0)       # Compute TT-tensor from Y0 by TT-SVD\n",
    "get = teneva.getter(Y1)   # Build (compile) function to compute the element of the TT-tensor\n",
    "k = (1, 2, 3, 4, 5)       # Select some tensor element\n",
    "y1 = get(k)               # Compute the element of the TT-tensor\n",
    "y0 = Y0[k]                # Compute the same element of the original tensor\n",
    "abs(np.max(y1-y0))        # Compare original tensor and reconstructed tensor"
   ]
  },
  {
   "cell_type": "markdown",
   "id": "a2e3c3be-fc14-4ccb-96aa-823a573fa509",
   "metadata": {},
   "source": [
    "## Function `mul`"
   ]
  },
  {
   "cell_type": "markdown",
   "id": "85a3ffc1-63a4-4eb0-a40d-0db7a81e2723",
   "metadata": {},
   "source": [
    "Compute element wise product $Y = Y_1 + Y_2$ for the given TT-tensors $Y_1$ and $Y_2$ presented as lists of TT-cores."
   ]
  },
  {
   "cell_type": "code",
   "execution_count": 21,
   "id": "2f96fffb-7b02-4a6f-ab65-7d439b26071c",
   "metadata": {},
   "outputs": [],
   "source": [
    "Y1 = teneva.rand([5]*10, 2) # 10-dim random TT-tensor with TT-rank 2\n",
    "Y2 = teneva.rand([5]*10, 3) # 10-dim random TT-tensor with TT-rank 3"
   ]
  },
  {
   "cell_type": "code",
   "execution_count": 22,
   "id": "488fdc89-d172-415d-90a7-2eb5af651cda",
   "metadata": {},
   "outputs": [
    {
     "name": "stdout",
     "output_type": "stream",
     "text": [
      "  5  5  5  5  5  5  5  5  5  5 \n",
      " / \\/ \\/ \\/ \\/ \\/ \\/ \\/ \\/ \\/ \\\n",
      " 1  6  6  6  6  6  6  6  6  6  1 \n",
      "\n"
     ]
    }
   ],
   "source": [
    "Y = teneva.mul(Y1, Y2)      # Compute the product of Y1 and Y2\n",
    "teneva.show(Y)              # Print the resulting TT-tensor (note that it has TT-rank 2 x 3 = 6)"
   ]
  },
  {
   "cell_type": "code",
   "execution_count": 23,
   "id": "754a1552-d74c-4c22-8358-8966594c7f01",
   "metadata": {},
   "outputs": [
    {
     "name": "stdout",
     "output_type": "stream",
     "text": [
      "Error     : 4.03e-16\n"
     ]
    }
   ],
   "source": [
    "Y1_full = teneva.full(Y1)                       # Compute tensors in the full format\n",
    "Y2_full = teneva.full(Y2)                       # to check the result\n",
    "Y_full = teneva.full(Y)\n",
    "\n",
    "Z_full = Y1_full * Y2_full\n",
    "\n",
    "e = np.linalg.norm(Y_full - Z_full)             # Compute error for TT-tensor vs full tensor \n",
    "e /= np.linalg.norm(Z_full)                     #\n",
    "\n",
    "print(f'Error     : {e:-8.2e}')                 # Rel. error for TT-tensor vs full tensor"
   ]
  },
  {
   "cell_type": "markdown",
   "id": "ef54ba3d-5788-485c-9377-f9ea2c1d47a6",
   "metadata": {},
   "source": [
    "This function also supports float argument:"
   ]
  },
  {
   "cell_type": "code",
   "execution_count": 24,
   "id": "612346c8-631e-40bc-9daf-201d678c12d6",
   "metadata": {},
   "outputs": [
    {
     "name": "stdout",
     "output_type": "stream",
     "text": [
      "  5  5  5  5  5  5  5  5  5  5 \n",
      " / \\/ \\/ \\/ \\/ \\/ \\/ \\/ \\/ \\/ \\\n",
      " 1  2  2  2  2  2  2  2  2  2  1 \n",
      "\n"
     ]
    }
   ],
   "source": [
    "Y1 = teneva.rand([5]*10, 2) # 10-dim random TT-tensor with TT-rank 2\n",
    "Y2 = 42.                    # Just a number\n",
    "Y = teneva.mul(Y1, Y2)      # Compute the product of Y1 and Y2\n",
    "teneva.show(Y)              # Print the resulting TT-tensor (note that it has TT-rank 2 x 1 = 2)"
   ]
  },
  {
   "cell_type": "code",
   "execution_count": 25,
   "id": "fa91f7f2-e26e-48f0-bf53-2bda95fd7a19",
   "metadata": {},
   "outputs": [
    {
     "name": "stdout",
     "output_type": "stream",
     "text": [
      "  5  5  5  5  5  5  5  5  5  5 \n",
      " / \\/ \\/ \\/ \\/ \\/ \\/ \\/ \\/ \\/ \\\n",
      " 1  2  2  2  2  2  2  2  2  2  1 \n",
      "\n"
     ]
    }
   ],
   "source": [
    "Y1 = 42.                    # Just a number\n",
    "Y2 = teneva.rand([5]*10, 2) # 10-dim random TT-tensor with TT-rank 2\n",
    "Y = teneva.mul(Y1, Y2)      # Compute the product of Y1 and Y2\n",
    "teneva.show(Y)              # Print the resulting TT-tensor (note that it has TT-rank 2 x 1 = 2)"
   ]
  },
  {
   "cell_type": "code",
   "execution_count": 26,
   "id": "699b514f-e9f9-4979-8c82-ce14c7ce2657",
   "metadata": {},
   "outputs": [
    {
     "name": "stdout",
     "output_type": "stream",
     "text": [
      "42.0\n"
     ]
    }
   ],
   "source": [
    "Y1 = 21.                    # Just a number\n",
    "Y2 = 2                      # Just a number\n",
    "Y = teneva.mul(Y1, Y2)      # Compute the product of Y1 and Y2\n",
    "print(Y)                    # The result is a number"
   ]
  },
  {
   "cell_type": "markdown",
   "id": "df44bc69-c8a0-46b7-b88a-eac408aca953",
   "metadata": {},
   "source": [
    "## Function `mul_scalar`"
   ]
  },
  {
   "cell_type": "markdown",
   "id": "fbf17810-bc3c-4192-a7bd-15189b443da7",
   "metadata": {},
   "source": [
    "Compute scalar product for Y1 and Y2 in the TT-format."
   ]
  },
  {
   "cell_type": "code",
   "execution_count": 27,
   "id": "2fcb105d-c03b-4202-bba1-9fb5cae6e5a4",
   "metadata": {},
   "outputs": [],
   "source": [
    "Y1 = teneva.rand([5]*10, 2)           # 10-dim random TT-tensor with TT-rank 2\n",
    "Y2 = teneva.rand([5]*10, 3)           # 10-dim random TT-tensor with TT-rank 3"
   ]
  },
  {
   "cell_type": "code",
   "execution_count": 28,
   "id": "719192ed-abc0-48a5-8bb0-4d1101f5f80d",
   "metadata": {},
   "outputs": [
    {
     "name": "stdout",
     "output_type": "stream",
     "text": [
      "-1335426.1415004898\n"
     ]
    }
   ],
   "source": [
    "v = teneva.mul_scalar(Y1, Y2)         # Compute the product of Y1 and Y2\n",
    "print(v)                              # Print the resulting value"
   ]
  },
  {
   "cell_type": "code",
   "execution_count": 29,
   "id": "b0e51057-c82a-4505-bdd0-b5738cc9aa89",
   "metadata": {},
   "outputs": [
    {
     "name": "stdout",
     "output_type": "stream",
     "text": [
      "-1335426.1415004958\n",
      "Error     : 4.53e-15\n"
     ]
    }
   ],
   "source": [
    "Y1_full = teneva.full(Y1)             # Compute tensors in the full format\n",
    "Y2_full = teneva.full(Y2)             # to check the result\n",
    "\n",
    "v_full = np.sum(Y1_full * Y2_full)\n",
    "print(v_full)                         # Print the resulting value from full tensor\n",
    "\n",
    "e = abs((v - v_full)/v_full)          # Compute error for TT-tensor vs full tensor \n",
    "print(f'Error     : {e:-8.2e}')       # Rel. error"
   ]
  },
  {
   "cell_type": "markdown",
   "id": "da176063-40b2-488c-8ca6-d6f77ab89015",
   "metadata": {},
   "source": [
    "We can also set a flag \"use_stab\", in which case a value that is 2^p times smaller than the real value will be returned:"
   ]
  },
  {
   "cell_type": "code",
   "execution_count": 30,
   "id": "4f88c0ab-8169-4ad4-8510-70f92d6953e8",
   "metadata": {},
   "outputs": [
    {
     "name": "stdout",
     "output_type": "stream",
     "text": [
      "-1.2735616126065157\n",
      "20\n",
      "-1335426.1415004898\n"
     ]
    }
   ],
   "source": [
    "v, p = teneva.mul_scalar(Y1, Y2, use_stab=True)\n",
    "print(v)\n",
    "print(p)\n",
    "print(v*2**p)"
   ]
  },
  {
   "cell_type": "markdown",
   "id": "1103dcea-ac28-4d12-8b33-5281a7b56d92",
   "metadata": {},
   "source": [
    "## Function `rand`"
   ]
  },
  {
   "cell_type": "markdown",
   "id": "8710a452-8ff1-41f9-970c-a4973923a353",
   "metadata": {},
   "source": [
    "Construct random TT-tensor."
   ]
  },
  {
   "cell_type": "code",
   "execution_count": 31,
   "id": "cb92a480-ff06-42bb-9267-2394ef34bada",
   "metadata": {},
   "outputs": [
    {
     "name": "stdout",
     "output_type": "stream",
     "text": [
      " 12 13 14 15 16 \n",
      " / \\/ \\/ \\/ \\/ \\\n",
      " 1  2  3  4  5  1 \n",
      "\n"
     ]
    }
   ],
   "source": [
    "n = [12, 13, 14, 15, 16]    # Shape of the tensor\n",
    "r = [1, 2, 3, 4, 5, 1]      # TT-ranks for TT-tensor\n",
    "Y = teneva.rand(n, r)       # Build random TT-tensor\n",
    "teneva.show(Y)              # Print the resulting TT-tensor"
   ]
  },
  {
   "cell_type": "markdown",
   "id": "a00e5daf-4852-432e-ac13-f1a537e1dcde",
   "metadata": {},
   "source": [
    "If all inner TT-ranks are equal, we may pass it as a number:"
   ]
  },
  {
   "cell_type": "code",
   "execution_count": 32,
   "id": "27485f34-0416-4d05-8832-68d64bf1174a",
   "metadata": {},
   "outputs": [
    {
     "name": "stdout",
     "output_type": "stream",
     "text": [
      " 12 13 14 15 16 \n",
      " / \\/ \\/ \\/ \\/ \\\n",
      " 1  5  5  5  5  1 \n",
      "\n"
     ]
    }
   ],
   "source": [
    "n = [12, 13, 14, 15, 16]    # Shape of the tensor\n",
    "r = 5                       # TT-ranks for TT-tensor\n",
    "Y = teneva.rand(n, r)       # Build random TT-tensor\n",
    "teneva.show(Y)              # Print the resulting TT-tensor"
   ]
  },
  {
   "cell_type": "markdown",
   "id": "116e5c3e-5599-40a6-a333-8b158621ebd0",
   "metadata": {},
   "source": [
    "## Function `show`"
   ]
  },
  {
   "cell_type": "markdown",
   "id": "394c183f-3853-4184-b064-9c6f3da2f8ae",
   "metadata": {},
   "source": [
    "Displays mode sizes and TT-ranks of the given TT-tensor Y in a compact and clear form."
   ]
  },
  {
   "cell_type": "code",
   "execution_count": 33,
   "id": "2ef03cfc-bfce-4c50-9152-ee10b593d0cc",
   "metadata": {},
   "outputs": [
    {
     "name": "stdout",
     "output_type": "stream",
     "text": [
      " 10 12  8  8 30 \n",
      " / \\/ \\/ \\/ \\/ \\\n",
      " 1  2  2  2  2  1 \n",
      "\n"
     ]
    }
   ],
   "source": [
    "Y = teneva.rand([10, 12, 8, 8, 30], 2) # 5-dim random TT-tensor with TT-rank 2\n",
    "teneva.show(Y)                         # Print the resulting TT-tensor"
   ]
  },
  {
   "cell_type": "markdown",
   "id": "039faa18-7ec1-4470-a2b9-38320772fe07",
   "metadata": {},
   "source": [
    "## Function `sub`"
   ]
  },
  {
   "cell_type": "markdown",
   "id": "9e22aafe-227c-4700-9714-13994967234a",
   "metadata": {},
   "source": [
    "Compute element wise difference $Y = Y_1 - Y_2$ for the given TT-tensors $Y_1$ and $Y_2$ presented as lists of TT-cores."
   ]
  },
  {
   "cell_type": "code",
   "execution_count": 34,
   "id": "050deea2-2a55-4f33-b3b3-8d43a5d7612b",
   "metadata": {},
   "outputs": [],
   "source": [
    "Y1 = teneva.rand([5]*10, 2) # 10-dim random TT-tensor with TT-rank 2\n",
    "Y2 = teneva.rand([5]*10, 3) # 10-dim random TT-tensor with TT-rank 3"
   ]
  },
  {
   "cell_type": "code",
   "execution_count": 35,
   "id": "1180bd71-f991-4163-9ded-3a5cb38837eb",
   "metadata": {},
   "outputs": [
    {
     "name": "stdout",
     "output_type": "stream",
     "text": [
      "  5  5  5  5  5  5  5  5  5  5 \n",
      " / \\/ \\/ \\/ \\/ \\/ \\/ \\/ \\/ \\/ \\\n",
      " 1  5  5  5  5  5  5  5  5  5  1 \n",
      "\n"
     ]
    }
   ],
   "source": [
    "Y = teneva.sub(Y1, Y2)      # Compute the difference between Y1 and Y2\n",
    "teneva.show(Y)              # Print the resulting TT-tensor (note that it has TT-rank 2 + 3 = 5)"
   ]
  },
  {
   "cell_type": "code",
   "execution_count": 36,
   "id": "4f87e913-ad38-418a-8193-279b45e0c0bc",
   "metadata": {},
   "outputs": [
    {
     "name": "stdout",
     "output_type": "stream",
     "text": [
      "Error     : 8.30e-17\n"
     ]
    }
   ],
   "source": [
    "Y1_full = teneva.full(Y1)                       # Compute tensors in the full format\n",
    "Y2_full = teneva.full(Y2)                       # to check the result\n",
    "Y_full = teneva.full(Y)\n",
    "\n",
    "Z_full = Y1_full - Y2_full\n",
    "\n",
    "e = np.linalg.norm(Y_full - Z_full)             # Compute error for TT-tensor vs full tensor \n",
    "e /= np.linalg.norm(Z_full)                     \n",
    "\n",
    "print(f'Error     : {e:-8.2e}')                 # Rel. error for TT-tensor vs full tensor"
   ]
  },
  {
   "cell_type": "markdown",
   "id": "ad09de44-02af-4666-a97c-48b1c6da5bb3",
   "metadata": {},
   "source": [
    "This function also supports float argument:"
   ]
  },
  {
   "cell_type": "code",
   "execution_count": 37,
   "id": "6b050fac-fd26-4cdc-b9ea-4e0e68821223",
   "metadata": {},
   "outputs": [
    {
     "name": "stdout",
     "output_type": "stream",
     "text": [
      "  5  5  5  5  5  5  5  5  5  5 \n",
      " / \\/ \\/ \\/ \\/ \\/ \\/ \\/ \\/ \\/ \\\n",
      " 1  3  3  3  3  3  3  3  3  3  1 \n",
      "\n"
     ]
    }
   ],
   "source": [
    "Y1 = teneva.rand([5]*10, 2) # 10-dim random TT-tensor with TT-rank 2\n",
    "Y2 = 42.                    # Just a number\n",
    "Y = teneva.sub(Y1, Y2)      # Compute the difference between Y1 and Y2\n",
    "teneva.show(Y)              # Print the resulting TT-tensor (note that it has TT-rank 2 + 1 = 3)"
   ]
  },
  {
   "cell_type": "code",
   "execution_count": 38,
   "id": "95c71c1e-9a73-4cd5-b41f-563fd50190ec",
   "metadata": {},
   "outputs": [
    {
     "name": "stdout",
     "output_type": "stream",
     "text": [
      "  5  5  5  5  5  5  5  5  5  5 \n",
      " / \\/ \\/ \\/ \\/ \\/ \\/ \\/ \\/ \\/ \\\n",
      " 1  3  3  3  3  3  3  3  3  3  1 \n",
      "\n"
     ]
    }
   ],
   "source": [
    "Y1 = 42.                    # Just a number\n",
    "Y2 = teneva.rand([5]*10, 2) # 10-dim random TT-tensor with TT-rank 2\n",
    "Y = teneva.sub(Y1, Y2)      # Compute the difference between Y1 and Y2\n",
    "teneva.show(Y)              # Print the resulting TT-tensor (note that it has TT-rank 2 + 1 = 3)"
   ]
  },
  {
   "cell_type": "code",
   "execution_count": 39,
   "id": "a7bae173-a9b8-443d-92fe-eb894f72c7fd",
   "metadata": {},
   "outputs": [
    {
     "name": "stdout",
     "output_type": "stream",
     "text": [
      "42.0\n"
     ]
    }
   ],
   "source": [
    "Y1 = 44.                    # Just a number\n",
    "Y2 = 2                      # Just a number\n",
    "Y = teneva.sub(Y1, Y2)      # Compute the difference between Y1 and Y2\n",
    "print(Y)                    # The result is a number"
   ]
  },
  {
   "cell_type": "markdown",
   "id": "55e75583-aba6-4e13-ae57-60ac7dbdcdd3",
   "metadata": {},
   "source": [
    "## Function `sum`"
   ]
  },
  {
   "cell_type": "markdown",
   "id": "d3fa8159-401b-4793-973f-047d98492611",
   "metadata": {},
   "source": [
    "Compute sum of all tensor elements."
   ]
  },
  {
   "cell_type": "code",
   "execution_count": 40,
   "id": "7cd851ed-cfd7-4deb-b123-07df535df626",
   "metadata": {},
   "outputs": [
    {
     "data": {
      "text/plain": [
       "-104.87021259002125"
      ]
     },
     "execution_count": 40,
     "metadata": {},
     "output_type": "execute_result"
    }
   ],
   "source": [
    "Y = teneva.rand([10, 12, 8, 8, 30], 2) # 5-dim random TT-tensor with TT-rank 2\n",
    "teneva.sum(Y)                          # Sum of the TT-tensor elements"
   ]
  },
  {
   "cell_type": "code",
   "execution_count": 41,
   "id": "8e2965e7-7e9c-4983-9a78-c714d6a1b679",
   "metadata": {},
   "outputs": [
    {
     "data": {
      "text/plain": [
       "-104.87021259002152"
      ]
     },
     "execution_count": 41,
     "metadata": {},
     "output_type": "execute_result"
    }
   ],
   "source": [
    "Z = teneva.full(Y)                     # Compute tensors in the full format to check the result\n",
    "np.sum(Z)"
   ]
  },
  {
   "cell_type": "markdown",
   "id": "5157c326-a02c-41fc-b82d-af0d55ddfb18",
   "metadata": {},
   "source": [
    "---"
   ]
  }
 ],
 "metadata": {
  "kernelspec": {
   "display_name": "Python 3",
   "language": "python",
   "name": "python3"
  },
  "language_info": {
   "codemirror_mode": {
    "name": "ipython",
    "version": 3
   },
   "file_extension": ".py",
   "mimetype": "text/x-python",
   "name": "python",
   "nbconvert_exporter": "python",
   "pygments_lexer": "ipython3",
   "version": "3.8.8"
  }
 },
 "nbformat": 4,
 "nbformat_minor": 5
}

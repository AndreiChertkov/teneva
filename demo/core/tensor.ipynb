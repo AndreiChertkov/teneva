{
 "cells": [
  {
   "cell_type": "markdown",
   "id": "e51b9291-f33c-40ad-96ee-e2f9454ffc69",
   "metadata": {},
   "source": [
    "**Demo for `teneva.core.tensor`**\n",
    "\n",
    "---\n",
    "\n",
    "This module contains the basic operations and utilities for TT-tensors, including \"add\", \"get\", \"mul\", etc."
   ]
  },
  {
   "cell_type": "markdown",
   "id": "3896a55c-1131-44fc-b746-1433ad4ddb08",
   "metadata": {},
   "source": [
    "## Loading and importing modules"
   ]
  },
  {
   "cell_type": "code",
   "execution_count": 1,
   "id": "9941ed2c-6272-4144-8c96-4e800f0b5c49",
   "metadata": {},
   "outputs": [],
   "source": [
    "import numpy as np\n",
    "import teneva\n",
    "from time import perf_counter as tpc\n",
    "np.random.seed(42)"
   ]
  },
  {
   "cell_type": "markdown",
   "id": "1103dcea-ac28-4d12-8b33-5281a7b56d92",
   "metadata": {},
   "source": [
    "## Function `rand`"
   ]
  },
  {
   "cell_type": "markdown",
   "id": "8710a452-8ff1-41f9-970c-a4973923a353",
   "metadata": {},
   "source": [
    "Construct random TT-tensor."
   ]
  },
  {
   "cell_type": "code",
   "execution_count": 2,
   "id": "cb92a480-ff06-42bb-9267-2394ef34bada",
   "metadata": {},
   "outputs": [
    {
     "name": "stdout",
     "output_type": "stream",
     "text": [
      " 12 13 14 15 16 \n",
      " / \\/ \\/ \\/ \\/ \\\n",
      " 1  2  3  4  5  1 \n",
      "\n"
     ]
    }
   ],
   "source": [
    "n = [12, 13, 14, 15, 16]    # Shape of the tensor\n",
    "r = [1, 2, 3, 4, 5, 1]      # TT-ranks for TT-tensor\n",
    "Y = teneva.rand(n, r)       # Build random TT-tensor\n",
    "teneva.show(Y)              # Print the resulting TT-tensor"
   ]
  },
  {
   "cell_type": "markdown",
   "id": "a00e5daf-4852-432e-ac13-f1a537e1dcde",
   "metadata": {},
   "source": [
    "If all inner TT-ranks are equal, we may pass it as a number:"
   ]
  },
  {
   "cell_type": "code",
   "execution_count": 3,
   "id": "27485f34-0416-4d05-8832-68d64bf1174a",
   "metadata": {},
   "outputs": [
    {
     "name": "stdout",
     "output_type": "stream",
     "text": [
      " 12 13 14 15 16 \n",
      " / \\/ \\/ \\/ \\/ \\\n",
      " 1  5  5  5  5  1 \n",
      "\n"
     ]
    }
   ],
   "source": [
    "n = [12, 13, 14, 15, 16]    # Shape of the tensor\n",
    "r = 5                       # TT-ranks for TT-tensor\n",
    "Y = teneva.rand(n, r)       # Build random TT-tensor\n",
    "teneva.show(Y)              # Print the resulting TT-tensor"
   ]
  },
  {
   "cell_type": "markdown",
   "id": "5157c326-a02c-41fc-b82d-af0d55ddfb18",
   "metadata": {},
   "source": [
    "---"
   ]
  }
 ],
 "metadata": {
  "kernelspec": {
   "display_name": "Python 3",
   "language": "python",
   "name": "python3"
  },
  "language_info": {
   "codemirror_mode": {
    "name": "ipython",
    "version": 3
   },
   "file_extension": ".py",
   "mimetype": "text/x-python",
   "name": "python",
   "nbconvert_exporter": "python",
   "pygments_lexer": "ipython3",
   "version": "3.8.8"
  }
 },
 "nbformat": 4,
 "nbformat_minor": 5
}

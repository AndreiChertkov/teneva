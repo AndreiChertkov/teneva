{
 "cells": [
  {
   "cell_type": "markdown",
   "id": "e51b9291-f33c-40ad-96ee-e2f9454ffc69",
   "metadata": {},
   "source": [
    "**Demo for `teneva.core.grid`**\n",
    "\n",
    "---\n",
    "\n",
    "Module contains a set of functions for creating and transforming multidimensional grids."
   ]
  },
  {
   "cell_type": "markdown",
   "id": "3896a55c-1131-44fc-b746-1433ad4ddb08",
   "metadata": {},
   "source": [
    "## Loading and importing modules"
   ]
  },
  {
   "cell_type": "code",
   "execution_count": 1,
   "id": "9941ed2c-6272-4144-8c96-4e800f0b5c49",
   "metadata": {},
   "outputs": [],
   "source": [
    "import numpy as np\n",
    "import teneva\n",
    "from time import perf_counter as tpc\n",
    "np.random.seed(42)"
   ]
  },
  {
   "cell_type": "markdown",
   "id": "1e5f00db-c9c0-4fc8-9fac-b80f3731eff9",
   "metadata": {},
   "source": [
    "## Function `cache_to_data`"
   ]
  },
  {
   "cell_type": "markdown",
   "id": "3bf04bcc-ade2-423c-a8ae-aa531fff154b",
   "metadata": {},
   "source": [
    "Helper function that transforms cache of the TT-CROSS into (I, Y) data arrays."
   ]
  },
  {
   "cell_type": "markdown",
   "id": "2d7a0d5e-9e94-43b4-8705-8ca793d74661",
   "metadata": {},
   "source": [
    "Let apply TT-CROSS for benchmark function:"
   ]
  },
  {
   "cell_type": "code",
   "execution_count": 2,
   "id": "d62bc72f-919a-417b-88e7-e247d1b8aff2",
   "metadata": {},
   "outputs": [],
   "source": [
    "a         = [-5., -4., -3., -2., -1.] # Lower bounds for spatial grid\n",
    "b         = [+6., +3., +3., +1., +2.] # Upper bounds for spatial grid\n",
    "n         = [ 20,  18,  16,  14,  12] # Shape of the tensor\n",
    "m         = 8.E+3                     # Number of calls to function\n",
    "r         = 3                         # TT-rank of the initial tensor\n",
    "\n",
    "from scipy.optimize import rosen\n",
    "def func(I): \n",
    "    X = teneva.ind_to_poi(I, a, b, n)\n",
    "    return rosen(X.T)\n",
    "\n",
    "cache = {}\n",
    "Y = teneva.tensor_rand(n, r)\n",
    "Y = teneva.cross(func, Y, m, cache=cache)"
   ]
  },
  {
   "cell_type": "markdown",
   "id": "4373d0e1-7761-40ac-bfbd-2151a6bf5767",
   "metadata": {},
   "source": [
    "Now cache contains the requested function values and related tensor multi-indices:"
   ]
  },
  {
   "cell_type": "code",
   "execution_count": 3,
   "id": "54b351f8-a842-4be9-8bcf-8f9a9a2c1b4b",
   "metadata": {},
   "outputs": [
    {
     "name": "stdout",
     "output_type": "stream",
     "text": [
      "(7988, 5)\n",
      "(7988,)\n",
      "[ 0 14 13  4 11]\n",
      "57685.39905654122\n",
      "57685.39905654122\n"
     ]
    }
   ],
   "source": [
    "I, Y = teneva.cache_to_data(cache)\n",
    "\n",
    "print(I.shape)\n",
    "print(Y.shape)\n",
    "\n",
    "i = I[0, :] # The 1th multi-index\n",
    "y = Y[0]    # Saved value in cache\n",
    "\n",
    "print(i)\n",
    "print(y)\n",
    "print(func(i))"
   ]
  },
  {
   "cell_type": "markdown",
   "id": "fb18b1d4-c8ef-47ac-bcb8-ba642f260def",
   "metadata": {},
   "source": [
    "## Function `grid_flat`"
   ]
  },
  {
   "cell_type": "markdown",
   "id": "c6335ae4-03a8-4d4e-abcc-dbf4aa009176",
   "metadata": {},
   "source": [
    "Compute the multi-indices for the full grid in the form of flat array."
   ]
  },
  {
   "cell_type": "code",
   "execution_count": 4,
   "id": "cc2d5009-30d9-427f-81ea-530c002e6514",
   "metadata": {},
   "outputs": [
    {
     "name": "stdout",
     "output_type": "stream",
     "text": [
      "[[0 0 0]\n",
      " [1 0 0]\n",
      " [0 1 0]\n",
      " [1 1 0]\n",
      " [0 2 0]\n",
      " [1 2 0]\n",
      " [0 0 1]\n",
      " [1 0 1]\n",
      " [0 1 1]\n",
      " [1 1 1]\n",
      " [0 2 1]\n",
      " [1 2 1]\n",
      " [0 0 2]\n",
      " [1 0 2]\n",
      " [0 1 2]\n",
      " [1 1 2]\n",
      " [0 2 2]\n",
      " [1 2 2]\n",
      " [0 0 3]\n",
      " [1 0 3]\n",
      " [0 1 3]\n",
      " [1 1 3]\n",
      " [0 2 3]\n",
      " [1 2 3]]\n"
     ]
    }
   ],
   "source": [
    "n = [2, 3, 4]           # This is the 3D grid 2 x 3 x 4\n",
    "I = teneva.grid_flat(n) # This is the full list of indices (flatten grid)\n",
    "\n",
    "print(I)"
   ]
  },
  {
   "cell_type": "markdown",
   "id": "b90fb8f4-b11e-4dc6-81c1-40030d1329e3",
   "metadata": {},
   "source": [
    "## Function `grid_prep_opt`"
   ]
  },
  {
   "cell_type": "markdown",
   "id": "7918ecd6-b386-486b-adb3-d2e78e290d50",
   "metadata": {},
   "source": [
    "Helper function that prepare grid parameter."
   ]
  },
  {
   "cell_type": "code",
   "execution_count": 5,
   "id": "02e0e55f-623b-4346-87a5-c4bf38dc0b57",
   "metadata": {},
   "outputs": [
    {
     "data": {
      "text/plain": [
       "array([-5., -5., -5.])"
      ]
     },
     "execution_count": 5,
     "metadata": {},
     "output_type": "execute_result"
    }
   ],
   "source": [
    "teneva.grid_prep_opt(-5., d=3)"
   ]
  },
  {
   "cell_type": "code",
   "execution_count": 6,
   "id": "1914689d-9cd9-4d98-897f-8e49bb9d89ae",
   "metadata": {},
   "outputs": [
    {
     "data": {
      "text/plain": [
       "array([-5.,  4.])"
      ]
     },
     "execution_count": 6,
     "metadata": {},
     "output_type": "execute_result"
    }
   ],
   "source": [
    "teneva.grid_prep_opt([-5., +4])"
   ]
  },
  {
   "cell_type": "code",
   "execution_count": 7,
   "id": "b35eb864-0a51-47c2-abbb-61b6b7f96b57",
   "metadata": {},
   "outputs": [
    {
     "data": {
      "text/plain": [
       "array([5, 4])"
      ]
     },
     "execution_count": 7,
     "metadata": {},
     "output_type": "execute_result"
    }
   ],
   "source": [
    "teneva.grid_prep_opt([5., +4.21], kind=int)"
   ]
  },
  {
   "cell_type": "code",
   "execution_count": 8,
   "id": "c152f411-62a5-4625-81ff-602e175e39a4",
   "metadata": {},
   "outputs": [
    {
     "data": {
      "text/plain": [
       "array([[-5.,  4.],\n",
       "       [-5.,  4.],\n",
       "       [-5.,  4.]])"
      ]
     },
     "execution_count": 8,
     "metadata": {},
     "output_type": "execute_result"
    }
   ],
   "source": [
    "teneva.grid_prep_opt([-5., +4], reps=3)"
   ]
  },
  {
   "cell_type": "markdown",
   "id": "e17b63dc-8aaf-44c0-9806-7fa5257291b5",
   "metadata": {},
   "source": [
    "## Function `grid_prep_opts`"
   ]
  },
  {
   "cell_type": "markdown",
   "id": "a74667b9-762c-468b-916d-e25ff011852f",
   "metadata": {},
   "source": [
    "Helper function that prepare grid parameters (a, b, n)."
   ]
  },
  {
   "cell_type": "code",
   "execution_count": 9,
   "id": "aefc6df5-9801-4beb-8987-bebfe04cafbd",
   "metadata": {},
   "outputs": [
    {
     "data": {
      "text/plain": [
       "(array([-5., -5., -5.]), array([5., 5., 5.]), array([7, 7, 7]))"
      ]
     },
     "execution_count": 9,
     "metadata": {},
     "output_type": "execute_result"
    }
   ],
   "source": [
    "d = 3           # Dimension of the tensor/grid\n",
    "a = -5.         # Lower bounds for grid\n",
    "b = +5.         # Upper bounds for grid\n",
    "n = 7           # Shape of the tensor/grid\n",
    "\n",
    "teneva.grid_prep_opts(a, b, n, d)"
   ]
  },
  {
   "cell_type": "code",
   "execution_count": 10,
   "id": "5b48923f-60cb-444f-91b1-028b5b16ec00",
   "metadata": {},
   "outputs": [
    {
     "data": {
      "text/plain": [
       "(array([-5., -5., -5.]), array([5., 5., 5.]), array([7, 4, 7]))"
      ]
     },
     "execution_count": 10,
     "metadata": {},
     "output_type": "execute_result"
    }
   ],
   "source": [
    "d = None        # Dimension of the tensor/grid\n",
    "a = -5.         # Lower bounds for grid\n",
    "b = +5.         # Upper bounds for grid\n",
    "n = [7, 4, 7]   # Shape of the tensor/grid\n",
    "\n",
    "teneva.grid_prep_opts(a, b, n, d)"
   ]
  },
  {
   "cell_type": "code",
   "execution_count": 11,
   "id": "b104f773-cd16-4a15-8a4e-aa4079481d04",
   "metadata": {},
   "outputs": [
    {
     "data": {
      "text/plain": [
       "(array([-5., -4.]), array([5., 5.]), array([6, 6]))"
      ]
     },
     "execution_count": 11,
     "metadata": {},
     "output_type": "execute_result"
    }
   ],
   "source": [
    "d = None        # Dimension of the tensor/grid\n",
    "a = [-5., -4.]  # Lower bounds for grid\n",
    "b = +5.         # Upper bounds for grid\n",
    "n = 6           # Shape of the tensor/grid\n",
    "\n",
    "teneva.grid_prep_opts(a, b, n, d)"
   ]
  },
  {
   "cell_type": "code",
   "execution_count": 12,
   "id": "97ecd747-b86b-4767-82ea-e06260cdcd3f",
   "metadata": {},
   "outputs": [
    {
     "data": {
      "text/plain": [
       "(array([-5., -4.]), array([5., 4.]), array([100, 200]))"
      ]
     },
     "execution_count": 12,
     "metadata": {},
     "output_type": "execute_result"
    }
   ],
   "source": [
    "a = [-5., -4.]  # Lower bounds for grid\n",
    "b = [+5., +4.]  # Upper bounds for grid\n",
    "n = [100, 200]  # Shape of the tensor/grid\n",
    "\n",
    "teneva.grid_prep_opts(a, b, n)"
   ]
  },
  {
   "cell_type": "code",
   "execution_count": 13,
   "id": "6e3f37ca-6ab7-45dc-9687-a7ed0aa48c76",
   "metadata": {},
   "outputs": [
    {
     "data": {
      "text/plain": [
       "(array([[-5., -4.,  3.],\n",
       "        [-5., -4.,  3.]]),\n",
       " array([[5., 4., 3.],\n",
       "        [5., 4., 3.]]),\n",
       " array([[100, 200, 300],\n",
       "        [100, 200, 300]]))"
      ]
     },
     "execution_count": 13,
     "metadata": {},
     "output_type": "execute_result"
    }
   ],
   "source": [
    "a = [-5., -4., +3.]  # Lower bounds for grid\n",
    "b = [+5., +4., +3.]  # Upper bounds for grid\n",
    "n = [100, 200, 300]  # Shape of the tensor/grid\n",
    "\n",
    "teneva.grid_prep_opts(a, b, n, reps=2)"
   ]
  },
  {
   "cell_type": "markdown",
   "id": "c3b0e192-0e19-427a-ae46-988df0bf2fac",
   "metadata": {},
   "source": [
    "## Function `ind_qtt_to_tt`"
   ]
  },
  {
   "cell_type": "markdown",
   "id": "4aa0c4d3-700c-4a1e-8a8e-a8627aab9726",
   "metadata": {},
   "source": [
    "Transform tensor multi-indices from QTT (long) to base TT (short) format."
   ]
  },
  {
   "cell_type": "code",
   "execution_count": 14,
   "id": "ffb3de3e-a79c-4478-8e6c-7f1f21d43f29",
   "metadata": {},
   "outputs": [
    {
     "name": "stdout",
     "output_type": "stream",
     "text": [
      "[ 1  2  8 15]\n"
     ]
    }
   ],
   "source": [
    "d = 4             # Dimension of the TT-tensor\n",
    "q = 4             # Quantization value\n",
    "                  # (note that TT mode size will be n=2^q)\n",
    "i_qtt = [         # Multi-index in the QTT-format\n",
    "    1, 0, 0, 0,   # -> 1 in TT\n",
    "    0, 1, 0, 0,   # -> 2 in TT\n",
    "    0, 0, 0, 1,   # -> 8 in TT\n",
    "    1, 1, 1, 1]   # -> 2^q-1 in TT\n",
    "\n",
    "i = teneva.ind_qtt_to_tt(i_qtt, q)\n",
    "\n",
    "print(i)          # Multi-index in the TT-format"
   ]
  },
  {
   "cell_type": "markdown",
   "id": "fd198bd1-f096-4311-9095-8da6b5b39612",
   "metadata": {},
   "source": [
    "We can also calculate several multi-indices at once:"
   ]
  },
  {
   "cell_type": "code",
   "execution_count": 15,
   "id": "e68c0c16-8858-4e00-81a8-582ea3b1ba9e",
   "metadata": {},
   "outputs": [
    {
     "name": "stdout",
     "output_type": "stream",
     "text": [
      "[[1 2 4]\n",
      " [3 6 5]\n",
      " [7 7 7]]\n"
     ]
    }
   ],
   "source": [
    "d = 3\n",
    "q = 3\n",
    "\n",
    "I_qtt = [         # Multi-indices in the QTT-format\n",
    "    [1, 0, 0, 0, 1, 0, 0, 0, 1],\n",
    "    [1, 1, 0, 0, 1, 1, 1, 0, 1],\n",
    "    [1, 1, 1, 1, 1, 1, 1, 1, 1],\n",
    "] \n",
    "\n",
    "I = teneva.ind_qtt_to_tt(I_qtt, q)\n",
    "\n",
    "print(I)          # Multi-indices in the TT-format"
   ]
  },
  {
   "cell_type": "markdown",
   "id": "66a02c03-94c5-4411-9dbc-d5bbe96d1353",
   "metadata": {},
   "source": [
    "## Function `ind_to_poi`"
   ]
  },
  {
   "cell_type": "markdown",
   "id": "c16342ed-ffc8-4fa5-b687-0283910c236f",
   "metadata": {},
   "source": [
    "Transforms multi-indices (samples) into points of the spatial grid."
   ]
  },
  {
   "cell_type": "code",
   "execution_count": 16,
   "id": "c653d9c2-da21-4754-912f-bdaa2e34c0e1",
   "metadata": {},
   "outputs": [],
   "source": [
    "d = 3           # Dimension of the tensor/grid\n",
    "a = [-5.] * d   # Lower bounds for grid\n",
    "b = [+5.] * d   # Upper bounds for grid\n",
    "n = [7] * d     # Shape of the tensor/grid"
   ]
  },
  {
   "cell_type": "code",
   "execution_count": 17,
   "id": "1cc4ce67-1541-42f2-81d0-69d6e721116a",
   "metadata": {},
   "outputs": [
    {
     "name": "stdout",
     "output_type": "stream",
     "text": [
      "(50, 3)\n",
      "[6 2 2]\n"
     ]
    }
   ],
   "source": [
    "# Random multi-indices (samples x dimension):\n",
    "I = np.vstack([np.random.choice(k, 50) for k in n]).T\n",
    "\n",
    "print(I.shape)\n",
    "print(I[0, :]) # The 1th sample"
   ]
  },
  {
   "cell_type": "code",
   "execution_count": 18,
   "id": "a4bda307-0688-47e7-9fbf-50dd281bf758",
   "metadata": {},
   "outputs": [
    {
     "name": "stdout",
     "output_type": "stream",
     "text": [
      "(50, 3)\n",
      "[ 5.         -1.66666667 -1.66666667]\n"
     ]
    }
   ],
   "source": [
    "X = teneva.ind_to_poi(I, a, b, n)\n",
    "\n",
    "print(X.shape)\n",
    "print(X[0, :]) # The 1th point"
   ]
  },
  {
   "cell_type": "markdown",
   "id": "b730e7f7-ac4b-4724-83aa-84f7696c7b76",
   "metadata": {},
   "source": [
    "Grid bounds and tensor shape may be also numbers:"
   ]
  },
  {
   "cell_type": "code",
   "execution_count": 19,
   "id": "c9d1d4b0-7dd2-4d79-92a8-31312fe10424",
   "metadata": {},
   "outputs": [
    {
     "name": "stdout",
     "output_type": "stream",
     "text": [
      "(50, 3)\n",
      "[ 5.         -1.66666667 -1.66666667]\n"
     ]
    }
   ],
   "source": [
    "X = teneva.ind_to_poi(I, -5, 5, 7)\n",
    "\n",
    "print(X.shape)\n",
    "print(X[0, :]) # The 1th point"
   ]
  },
  {
   "cell_type": "markdown",
   "id": "17196d5c-47c2-4ca5-98fe-7e2da3459d3d",
   "metadata": {},
   "source": [
    "We may also compute only one point while function call:"
   ]
  },
  {
   "cell_type": "code",
   "execution_count": 20,
   "id": "96f15a8a-f56d-4d66-82fb-7880ab9dc7f7",
   "metadata": {},
   "outputs": [
    {
     "name": "stdout",
     "output_type": "stream",
     "text": [
      "[ 5.         -1.66666667 -1.66666667]\n"
     ]
    }
   ],
   "source": [
    "X = teneva.ind_to_poi(I[0, :], -5, 5, 7)\n",
    "\n",
    "print(X)"
   ]
  },
  {
   "cell_type": "markdown",
   "id": "3fe6aba8-5db2-4fc8-a009-526c290adf62",
   "metadata": {},
   "source": [
    "By default the uniform (kind=\"uni\") grid is used. We may also use the Chebyshev grid:"
   ]
  },
  {
   "cell_type": "code",
   "execution_count": 21,
   "id": "e5d51d3f-6000-4133-81bb-143922616329",
   "metadata": {},
   "outputs": [
    {
     "name": "stdout",
     "output_type": "stream",
     "text": [
      "(50, 3)\n",
      "[-5.   2.5  2.5]\n"
     ]
    }
   ],
   "source": [
    "X = teneva.ind_to_poi(I, a, b, n, 'cheb')\n",
    "\n",
    "print(X.shape)\n",
    "print(X[0, :]) # The 1th point"
   ]
  },
  {
   "cell_type": "markdown",
   "id": "7a5d1e87-cbbb-4d92-b0c2-17d27e8a55f2",
   "metadata": {},
   "source": [
    "## Function `ind_tt_to_qtt`"
   ]
  },
  {
   "cell_type": "markdown",
   "id": "7506037f-dacf-4bce-934d-82f6879168d0",
   "metadata": {},
   "source": [
    "Transform tensor multi-indices from base TT (short) to QTT (long) format."
   ]
  },
  {
   "cell_type": "code",
   "execution_count": 22,
   "id": "bd51acaa-c155-4b8f-bc7a-52e6fc1cbdbd",
   "metadata": {},
   "outputs": [
    {
     "name": "stdout",
     "output_type": "stream",
     "text": [
      "[1 0 0 1 1 0 1 0 1 1 1 1]\n"
     ]
    }
   ],
   "source": [
    "d = 4             # Dimension of the TT-tensor\n",
    "n = 8             # Mode size of the TT-tensor\n",
    "i = [ 1, 3, 5, 7] # Multi-index in the TT-format\n",
    "\n",
    "i_qtt = teneva.ind_tt_to_qtt(i, n)\n",
    "\n",
    "print(i_qtt)      # Multi-index in the QTT-format"
   ]
  },
  {
   "cell_type": "markdown",
   "id": "db16f897-9424-4684-b58a-c556eed4e01c",
   "metadata": {},
   "source": [
    "We can also calculate several multi-indices at once:"
   ]
  },
  {
   "cell_type": "code",
   "execution_count": 23,
   "id": "c423f8c3-3045-41b6-b9d9-228034d29dc6",
   "metadata": {},
   "outputs": [
    {
     "name": "stdout",
     "output_type": "stream",
     "text": [
      "[[1 0 0 0 0 0 0 0 0 0 0 0]\n",
      " [1 0 0 1 0 0 0 0 0 0 0 0]\n",
      " [1 0 0 1 0 0 1 0 0 1 0 0]\n",
      " [0 1 0 1 1 0 0 0 1 1 0 1]\n",
      " [1 1 1 1 1 1 1 1 1 1 1 1]]\n"
     ]
    }
   ],
   "source": [
    "d = 4\n",
    "n = 8\n",
    "\n",
    "I = [             # Multi-indices in the TT-format\n",
    "    [1, 0, 0, 0],\n",
    "    [1, 1, 0, 0],\n",
    "    [1, 1, 1, 1],\n",
    "    [2, 3, 4, 5],\n",
    "    [7, 7, 7, 7],\n",
    "] \n",
    "\n",
    "I_qtt = teneva.ind_tt_to_qtt(I, n)\n",
    "\n",
    "print(I_qtt)      # Multi-indices in the QTT-format"
   ]
  },
  {
   "cell_type": "markdown",
   "id": "6e403351-ce00-4584-8e0d-feffc7c63cb6",
   "metadata": {},
   "source": [
    "## Function `poi_scale`"
   ]
  },
  {
   "cell_type": "markdown",
   "id": "c2b44225-2e8e-408f-bffd-d602c6cd51e1",
   "metadata": {},
   "source": [
    "Scale points from [a, b] into unit interval."
   ]
  },
  {
   "cell_type": "code",
   "execution_count": 24,
   "id": "6f387288-1478-4437-9274-2e43058a4eed",
   "metadata": {},
   "outputs": [],
   "source": [
    "d = 3                 # Dimension of the tensor/grid\n",
    "a = [-5., -3., -1.]   # Lower bounds for grid\n",
    "b = [+5., +3., +1.]   # Upper bounds for grid\n",
    "n = [9, 8, 7]         # Shape of the tensor/grid\n",
    "\n",
    "X = np.array([       # We prepare 4 spatial points:\n",
    "    [-5., -3., -1.], # Point near the lower bound\n",
    "    [ 0.,  0.,  0.], # Zero point\n",
    "    [-1., +2.,  0.], # Random point\n",
    "    [+5., +3., +1.], # Point near the upper bound\n",
    "])"
   ]
  },
  {
   "cell_type": "code",
   "execution_count": 25,
   "id": "0188b0c8-111b-460c-9d4d-113da418f4d7",
   "metadata": {},
   "outputs": [
    {
     "name": "stdout",
     "output_type": "stream",
     "text": [
      "[[0.         0.         0.        ]\n",
      " [0.5        0.5        0.5       ]\n",
      " [0.4        0.83333333 0.5       ]\n",
      " [1.         1.         1.        ]]\n"
     ]
    }
   ],
   "source": [
    "Xsc = teneva.poi_scale(X, a, b)\n",
    "\n",
    "print(Xsc)"
   ]
  },
  {
   "cell_type": "markdown",
   "id": "bddbc786-d708-43a8-8945-465478748676",
   "metadata": {},
   "source": [
    "We can also consider the Chebyshev grid:"
   ]
  },
  {
   "cell_type": "code",
   "execution_count": 26,
   "id": "7182d938-333e-4d09-9ef5-36050ff33a1d",
   "metadata": {},
   "outputs": [
    {
     "name": "stdout",
     "output_type": "stream",
     "text": [
      "[[-1.         -1.         -1.        ]\n",
      " [ 0.          0.          0.        ]\n",
      " [-0.2         0.66666667  0.        ]\n",
      " [ 1.          1.          1.        ]]\n"
     ]
    }
   ],
   "source": [
    "Xsc = teneva.poi_scale(X, a, b, 'cheb')\n",
    "\n",
    "print(Xsc)"
   ]
  },
  {
   "cell_type": "markdown",
   "id": "83b0f1d6-f0f6-4b3e-9cc5-e30858b403f3",
   "metadata": {},
   "source": [
    "For a uniform grid, scaling from an interval of [0, 1] will be the identical operation:"
   ]
  },
  {
   "cell_type": "code",
   "execution_count": 27,
   "id": "c1413a81-2242-4f4e-9a32-72656ebc9bd1",
   "metadata": {},
   "outputs": [
    {
     "data": {
      "text/plain": [
       "array([[0. , 0.5, 0.7, 1. ],\n",
       "       [0. , 0.2, 0.4, 1. ]])"
      ]
     },
     "execution_count": 27,
     "metadata": {},
     "output_type": "execute_result"
    }
   ],
   "source": [
    "teneva.poi_scale(([\n",
    "    [0., 0.5, 0.7, 1.0],\n",
    "    [-2., 0.2, 0.4, 2.0],\n",
    "]), 0., 1.)"
   ]
  },
  {
   "cell_type": "markdown",
   "id": "9136d817-87a3-4d8c-bca5-7dbcfde780f0",
   "metadata": {},
   "source": [
    "For a Chebyshev grid, scaling from an interval of [-1, 1] will be the identical operation:"
   ]
  },
  {
   "cell_type": "code",
   "execution_count": 28,
   "id": "be862a57-31cb-452e-aa7b-3eef8110f0b3",
   "metadata": {},
   "outputs": [
    {
     "data": {
      "text/plain": [
       "array([[-1. , -0.2,  0. ,  0.7,  1. ],\n",
       "       [-1. , -0.4,  0. ,  0.4,  1. ]])"
      ]
     },
     "execution_count": 28,
     "metadata": {},
     "output_type": "execute_result"
    }
   ],
   "source": [
    "teneva.poi_scale(([\n",
    "    [-1., -0.2, 0., 0.7, 1.0],\n",
    "    [-1., -0.4, 0., 0.4, 1.0],\n",
    "]), -1., 1., 'cheb')"
   ]
  },
  {
   "cell_type": "markdown",
   "id": "4d14bab1-d91d-4c47-8e28-b31187e006a5",
   "metadata": {},
   "source": [
    "## Function `poi_to_ind`"
   ]
  },
  {
   "cell_type": "markdown",
   "id": "e63adb00-302b-4b77-9557-fa9684695045",
   "metadata": {},
   "source": [
    "Transform points of the spatial grid (samples) into multi-indices."
   ]
  },
  {
   "cell_type": "code",
   "execution_count": 29,
   "id": "2c2870ea-06c9-4215-ab4b-85efdb1bf098",
   "metadata": {},
   "outputs": [],
   "source": [
    "d = 3                 # Dimension of the tensor/grid\n",
    "a = [-5., -3., -1.]   # Lower bounds for grid\n",
    "b = [+5., +3., +1.]   # Upper bounds for grid\n",
    "n = [9, 8, 7]         # Shape of the tensor/grid\n",
    "\n",
    "X = np.array([       # We prepare 4 spatial points:\n",
    "    [-5., -3., -1.], # Point near the lower bound\n",
    "    [ 0.,  0.,  0.], # Zero point\n",
    "    [-1., +2.,  0.], # Random point\n",
    "    [+5., +3., +1.], # Point near the upper bound\n",
    "])"
   ]
  },
  {
   "cell_type": "markdown",
   "id": "230e417b-13f8-4d08-ae10-2c72741278df",
   "metadata": {},
   "source": [
    "We can build multi-indices for the uniform grid:"
   ]
  },
  {
   "cell_type": "code",
   "execution_count": 30,
   "id": "7613c520-8d2c-4bdb-9811-dd84d0b81a0b",
   "metadata": {},
   "outputs": [
    {
     "name": "stdout",
     "output_type": "stream",
     "text": [
      "[[0 0 0]\n",
      " [4 4 3]\n",
      " [3 6 3]\n",
      " [8 7 6]]\n"
     ]
    }
   ],
   "source": [
    "I = teneva.poi_to_ind(X, a, b, n)\n",
    "\n",
    "print(I)"
   ]
  },
  {
   "cell_type": "markdown",
   "id": "e3b94a0c-0acb-42de-a500-98200b01c6e3",
   "metadata": {},
   "source": [
    "We can also build multi-indices for the Chebyshev grid:"
   ]
  },
  {
   "cell_type": "code",
   "execution_count": 31,
   "id": "f325c368-de14-49e4-a705-f8dbcfbb53b0",
   "metadata": {},
   "outputs": [
    {
     "name": "stdout",
     "output_type": "stream",
     "text": [
      "[[8 7 6]\n",
      " [4 4 3]\n",
      " [5 2 3]\n",
      " [0 0 0]]\n"
     ]
    }
   ],
   "source": [
    "I = teneva.poi_to_ind(X, a, b, n, 'cheb')\n",
    "\n",
    "print(I)"
   ]
  },
  {
   "cell_type": "markdown",
   "id": "9b5cb437-90b7-42e4-bef2-66cee84b6d41",
   "metadata": {},
   "source": [
    "Grid bounds and tensor shape may be also numbers:"
   ]
  },
  {
   "cell_type": "code",
   "execution_count": 32,
   "id": "f91b76e6-2d38-4408-93b5-0bd4a43e0a49",
   "metadata": {},
   "outputs": [
    {
     "name": "stdout",
     "output_type": "stream",
     "text": [
      "[[9 9 9]\n",
      " [4 4 4]\n",
      " [9 0 4]\n",
      " [0 0 0]]\n"
     ]
    }
   ],
   "source": [
    "I = teneva.poi_to_ind(X, -1., +1., 10, 'cheb')\n",
    "\n",
    "print(I)"
   ]
  },
  {
   "cell_type": "markdown",
   "id": "ab18bcdf-10de-4f60-bbaf-90d906c9b701",
   "metadata": {},
   "source": [
    "We may also compute only one point while function call:"
   ]
  },
  {
   "cell_type": "code",
   "execution_count": 33,
   "id": "43d6affb-0c21-4e45-88a6-ea0e5439d7a0",
   "metadata": {},
   "outputs": [
    {
     "name": "stdout",
     "output_type": "stream",
     "text": [
      "[9 9 9]\n"
     ]
    }
   ],
   "source": [
    "x = [-5., -3., -1.]\n",
    "I = teneva.poi_to_ind(x, -1., +1., 10, 'cheb')\n",
    "\n",
    "print(I)"
   ]
  },
  {
   "cell_type": "markdown",
   "id": "bbf3ed1d-41a9-4b22-b954-02bf5a1ff5e9",
   "metadata": {},
   "source": [
    "We can apply \"ind_to_poi\" function to the generated multi-indices and check the result:"
   ]
  },
  {
   "cell_type": "code",
   "execution_count": 34,
   "id": "3190e740-593d-42bd-8f84-26fec3ea168a",
   "metadata": {},
   "outputs": [],
   "source": [
    "d = 3                 # Dimension of the tensor/grid\n",
    "a = [-5., -3., -1.]   # Lower bounds for grid\n",
    "b = [+5., +3., +1.]   # Upper bounds for grid\n",
    "n = [7, 5, 3]         # Shape of the tensor/grid\n",
    "\n",
    "X = np.array([\n",
    "    [-5., -3., -1.],  # Point near the lower bound\n",
    "    [ 0.,  0.,  0.],  # Zero point\n",
    "    [+5., +3., +1.],  # Point near the upper bound\n",
    "])"
   ]
  },
  {
   "cell_type": "code",
   "execution_count": 36,
   "id": "4e5b1ac3-bb7f-4d4f-b524-5c206ef71132",
   "metadata": {},
   "outputs": [
    {
     "name": "stdout",
     "output_type": "stream",
     "text": [
      "[[-5. -3. -1.]\n",
      " [ 0.  0.  0.]\n",
      " [ 5.  3.  1.]]\n",
      "[[-5. -3. -1.]\n",
      " [ 0.  0.  0.]\n",
      " [ 5.  3.  1.]]\n",
      "[[0 0 0]\n",
      " [3 2 1]\n",
      " [6 4 2]]\n"
     ]
    }
   ],
   "source": [
    "I = teneva.poi_to_ind(X, a, b, n)\n",
    "Y = teneva.ind_to_poi(I, a, b, n)\n",
    "\n",
    "print(X) # Used spacial points\n",
    "print(Y) # Generated spacial points\n",
    "print(I) # Multi-indices"
   ]
  },
  {
   "cell_type": "code",
   "execution_count": 36,
   "id": "db3e3e5a-ded3-426f-9d7f-9e49af1f7039",
   "metadata": {},
   "outputs": [
    {
     "name": "stdout",
     "output_type": "stream",
     "text": [
      "[[-5. -3. -1.]\n",
      " [ 0.  0.  0.]\n",
      " [ 5.  3.  1.]]\n",
      "[[-5.0000000e+00 -3.0000000e+00 -1.0000000e+00]\n",
      " [ 3.0616170e-16  1.8369702e-16  6.1232340e-17]\n",
      " [ 5.0000000e+00  3.0000000e+00  1.0000000e+00]]\n",
      "[[6 4 2]\n",
      " [3 2 1]\n",
      " [0 0 0]]\n"
     ]
    }
   ],
   "source": [
    "I = teneva.poi_to_ind(X, a, b, n, 'cheb')\n",
    "Y = teneva.ind_to_poi(I, a, b, n, 'cheb')\n",
    "\n",
    "print(X) # Used spacial points\n",
    "print(Y) # Generated spacial points\n",
    "print(I) # Multi-indices"
   ]
  },
  {
   "cell_type": "markdown",
   "id": "c027dcac-4e46-4c03-9a1a-bddbde82da87",
   "metadata": {},
   "source": [
    "## Function `sample_lhs`"
   ]
  },
  {
   "cell_type": "markdown",
   "id": "889193fc-7f79-4875-9300-e641933d7f87",
   "metadata": {},
   "source": [
    "Build LHS samples (indices) for the tensor."
   ]
  },
  {
   "cell_type": "code",
   "execution_count": 38,
   "id": "fc21e3e8-4127-4a77-a5aa-2c7218cd4b60",
   "metadata": {},
   "outputs": [
    {
     "name": "stdout",
     "output_type": "stream",
     "text": [
      "[[0 3 0]\n",
      " [0 2 4]\n",
      " [3 3 2]\n",
      " [1 0 3]\n",
      " [1 2 0]\n",
      " [3 0 1]\n",
      " [4 4 1]\n",
      " [2 1 4]]\n"
     ]
    }
   ],
   "source": [
    "d = 3           # Dimension of the tensor/grid\n",
    "n = [5] * d     # Shape of the tensor/grid\n",
    "m = 8           # Number of samples\n",
    "\n",
    "I = teneva.sample_lhs(n, m)\n",
    "\n",
    "print(I)"
   ]
  },
  {
   "cell_type": "markdown",
   "id": "6f3f4c2a-6e89-469c-8e10-5b4899b9603d",
   "metadata": {},
   "source": [
    "## Function `sample_tt`"
   ]
  },
  {
   "cell_type": "markdown",
   "id": "229ebfe8-89c3-4467-bbd8-99a85ca890c0",
   "metadata": {},
   "source": [
    "Generate special samples (multi-indices) for the tensor, which are are the best (in many cases) for the subsequent construction of the TT-tensor."
   ]
  },
  {
   "cell_type": "code",
   "execution_count": 39,
   "id": "3a21a3a8-6cfa-4f06-9d76-f761cec41efa",
   "metadata": {},
   "outputs": [
    {
     "name": "stdout",
     "output_type": "stream",
     "text": [
      "(40, 3)\n",
      "(4,)\n",
      "(3,)\n"
     ]
    }
   ],
   "source": [
    "d = 3           # Dimension of the tensor/grid\n",
    "n = [5] * d     # Shape of the tensor/grid\n",
    "m = 2           # The expected TT-rank\n",
    "\n",
    "I, idx, idx_many = teneva.sample_tt(n, m)\n",
    "\n",
    "print(I.shape)\n",
    "print(idx.shape)\n",
    "print(idx_many.shape)"
   ]
  },
  {
   "cell_type": "markdown",
   "id": "5157c326-a02c-41fc-b82d-af0d55ddfb18",
   "metadata": {},
   "source": [
    "---"
   ]
  }
 ],
 "metadata": {
  "kernelspec": {
   "display_name": "Python 3",
   "language": "python",
   "name": "python3"
  },
  "language_info": {
   "codemirror_mode": {
    "name": "ipython",
    "version": 3
   },
   "file_extension": ".py",
   "mimetype": "text/x-python",
   "name": "python",
   "nbconvert_exporter": "python",
   "pygments_lexer": "ipython3",
   "version": "3.8.8"
  }
 },
 "nbformat": 4,
 "nbformat_minor": 5
}

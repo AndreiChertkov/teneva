{
 "cells": [
  {
   "cell_type": "markdown",
   "id": "e51b9291-f33c-40ad-96ee-e2f9454ffc69",
   "metadata": {},
   "source": [
    "**Demo for `teneva.core.cross`**\n",
    "\n",
    "---\n",
    "\n",
    "This module computes the TT-approximation for implicit tensor given functionally by multidimensional cross approximation method in the TT-format (TT-CROSS)."
   ]
  },
  {
   "cell_type": "markdown",
   "id": "3896a55c-1131-44fc-b746-1433ad4ddb08",
   "metadata": {},
   "source": [
    "## Loading and importing modules"
   ]
  },
  {
   "cell_type": "code",
   "execution_count": 1,
   "id": "9941ed2c-6272-4144-8c96-4e800f0b5c49",
   "metadata": {},
   "outputs": [],
   "source": [
    "import numpy as np\n",
    "import teneva\n",
    "from time import perf_counter as tpc\n",
    "np.random.seed(42)"
   ]
  },
  {
   "cell_type": "markdown",
   "id": "fd009f7c-372c-4461-aab5-597711528485",
   "metadata": {},
   "source": [
    "## Function `cross`"
   ]
  },
  {
   "cell_type": "markdown",
   "id": "78a452a9-795a-4281-b8f5-85ccc034a376",
   "metadata": {},
   "source": [
    "Compute the TT-approximation for implicit tensor given functionally."
   ]
  },
  {
   "cell_type": "code",
   "execution_count": 2,
   "id": "8c3dc811-498d-4b70-9527-0a00f763fd91",
   "metadata": {},
   "outputs": [],
   "source": [
    "d         = 5                           # Dimension of the function\n",
    "a         = [-5., -4., -3., -2., -1.]   # Lower bounds for spatial grid\n",
    "b         = [+6., +3., +3., +1., +2.]   # Upper bounds for spatial grid\n",
    "n         = [ 20,  18,  16,  14,  12]   # Shape of the tensor"
   ]
  },
  {
   "cell_type": "markdown",
   "id": "6e0a9d5f-b207-410e-b3cc-056f7b0d1173",
   "metadata": {},
   "source": [
    "We set the target function (the function takes as input a set of tensor multi-indices I of the shape [samples, dimension], which are transformed into points X of a uniform spatial grid using the function \"ind_to_poi\"):"
   ]
  },
  {
   "cell_type": "code",
   "execution_count": 3,
   "id": "d6b8be5c-a06e-4159-9178-f2a77b1e4281",
   "metadata": {},
   "outputs": [],
   "source": [
    "from scipy.optimize import rosen\n",
    "def func(I): \n",
    "    X = teneva.ind_to_poi(I, a, b, n)\n",
    "    return rosen(X.T)"
   ]
  },
  {
   "cell_type": "markdown",
   "id": "c92a8af0-a8c4-44a4-b19c-ccd8b27927e7",
   "metadata": {},
   "source": [
    "We prepare test data from random tensor multi-indices:"
   ]
  },
  {
   "cell_type": "code",
   "execution_count": 4,
   "id": "cec80246-5ec5-4036-9388-eb34a251b7d7",
   "metadata": {},
   "outputs": [],
   "source": [
    "# Number of test points:\n",
    "m_tst = int(1.E+4)\n",
    "\n",
    "# Random multi-indices for the test points:\n",
    "I_tst = np.vstack([np.random.choice(k, m_tst) for k in n]).T\n",
    "\n",
    "# Function values for the test points:\n",
    "Y_tst = func(I_tst)"
   ]
  },
  {
   "cell_type": "markdown",
   "id": "c5892885-dcff-4b6e-85af-e8fb83851ddd",
   "metadata": {},
   "source": [
    "We set the parameters of the TT-CROSS algorithm:"
   ]
  },
  {
   "cell_type": "code",
   "execution_count": 5,
   "id": "94566729-884d-4c6c-9dbc-d17edbf8913e",
   "metadata": {},
   "outputs": [],
   "source": [
    "m         = 8.E+3  # Number of calls to target function\n",
    "e         = None   # Desired accuracy\n",
    "nswp      = None   # Sweep number\n",
    "r         = 1      # TT-rank of the initial tensor\n",
    "dr_min    = 1      # Cross parameter (minimum number of added rows)\n",
    "dr_max    = 3      # Cross parameter (maximum number of added rows)"
   ]
  },
  {
   "cell_type": "markdown",
   "id": "4a10b4cc-7fa3-4834-8b9b-02149648e1ef",
   "metadata": {},
   "source": [
    "We build the TT-tensor, which approximates the target function (note that \"cache\" is optional [it may be None] and it is effictive only for complex functions with long computing time for one call):"
   ]
  },
  {
   "cell_type": "code",
   "execution_count": 6,
   "id": "13b3ce66-be90-4e92-9f6f-069a27cba406",
   "metadata": {},
   "outputs": [
    {
     "name": "stdout",
     "output_type": "stream",
     "text": [
      "Build time           :       1.38\n",
      "Evals func           :       6735\n",
      "Cache uses           :       6271\n",
      "Iter accuracy        :   0.00e+00\n",
      "Sweep number         :          3\n",
      "Stop condition       :          m\n",
      "TT-rank of pure res  :       11.0\n",
      "TT-rank of trunc res :        3.0\n"
     ]
    }
   ],
   "source": [
    "t = tpc()\n",
    "info, cache = {}, {}\n",
    "Y = teneva.tensor_rand(n, r)\n",
    "Y = teneva.cross(func, Y, m, e, nswp, dr_min=dr_min, dr_max=dr_max,\n",
    "    info=info, cache=cache)\n",
    "Y = teneva.truncate(Y, 1.e-4) # We round the result at the end\n",
    "t = tpc() - t\n",
    "\n",
    "print(f'Build time           : {t:-10.2f}')\n",
    "print(f'Evals func           : {info[\"m\"]:-10d}')\n",
    "print(f'Cache uses           : {info[\"m_cache\"]:-10d}')\n",
    "print(f'Iter accuracy        : {info[\"e\"]:-10.2e}')\n",
    "print(f'Sweep number         : {info[\"nswp\"]:-10d}')\n",
    "print(f'Stop condition       : {info[\"stop\"]:>10}')\n",
    "print(f'TT-rank of pure res  : {info[\"r\"]:-10.1f}')\n",
    "print(f'TT-rank of trunc res : {teneva.erank(Y):-10.1f}')"
   ]
  },
  {
   "cell_type": "markdown",
   "id": "3013d720-2906-4ecd-9275-fdf7c05f1481",
   "metadata": {},
   "source": [
    "And now we can check the result:"
   ]
  },
  {
   "cell_type": "code",
   "execution_count": 7,
   "id": "e8817326-ef4a-4ea5-ad77-89331a5d89b7",
   "metadata": {},
   "outputs": [
    {
     "name": "stdout",
     "output_type": "stream",
     "text": [
      "Error on test        :   3.44e-15\n"
     ]
    }
   ],
   "source": [
    "# Fast getter for TT-tensor values:\n",
    "get = teneva.getter(Y)                     \n",
    "\n",
    "# Compute approximation in test points:\n",
    "Z = np.array([get(i) for i in I_tst])\n",
    "\n",
    "# Accuracy of the result for test points:\n",
    "e_tst = np.linalg.norm(Z - Y_tst) / np.linalg.norm(Y_tst)\n",
    "\n",
    "print(f'Error on test        : {e_tst:-10.2e}')"
   ]
  },
  {
   "cell_type": "markdown",
   "id": "b07f0fa1-90de-4111-93b9-ecf59f307b1d",
   "metadata": {},
   "source": [
    "Note that \"accuracy_on_data\" function may be used instead:"
   ]
  },
  {
   "cell_type": "code",
   "execution_count": 8,
   "id": "6498afbf-5589-4fb3-b44f-0954c6edcc9f",
   "metadata": {},
   "outputs": [
    {
     "name": "stdout",
     "output_type": "stream",
     "text": [
      "Error on test        :   3.44e-15\n"
     ]
    }
   ],
   "source": [
    "e_tst = teneva.accuracy_on_data(Y, I_tst, Y_tst)\n",
    "print(f'Error on test        : {e_tst:-10.2e}')"
   ]
  },
  {
   "cell_type": "markdown",
   "id": "95e5c200-d00e-487a-b9ab-06559febaaeb",
   "metadata": {},
   "source": [
    "We may not specify a limit on the number of requests (\"m\") to the objective function. In this case, the algorithm will end when the maximum number of iterations (\"nswp\") is reached or after convergence (\"e\") [note the value of the stop condition in the output below]:"
   ]
  },
  {
   "cell_type": "code",
   "execution_count": 9,
   "id": "6eebee95-4f1e-4a95-bff3-9120a34ad6e5",
   "metadata": {},
   "outputs": [],
   "source": [
    "m         = None   # Number of calls to target function\n",
    "e         = 1.E-4  # Desired accuracy\n",
    "nswp      = 10     # Sweep number (to ensure that it will not work very long)"
   ]
  },
  {
   "cell_type": "code",
   "execution_count": 10,
   "id": "db3b7bbf-f41d-48a7-b27c-79ab1c6a7149",
   "metadata": {},
   "outputs": [
    {
     "name": "stdout",
     "output_type": "stream",
     "text": [
      "Build time           :       0.05\n",
      "Evals func           :       3656\n",
      "Cache uses           :       3042\n",
      "Iter accuracy        :   0.00e+00\n",
      "Sweep number         :          3\n",
      "Stop condition       :          e\n",
      "TT-rank of pure res  :        8.0\n",
      "TT-rank of trunc res :        3.0\n",
      "Error on test        :   6.39e-16\n"
     ]
    }
   ],
   "source": [
    "t = tpc()\n",
    "info, cache = {}, {}\n",
    "Y = teneva.tensor_rand(n, r)\n",
    "Y = teneva.cross(func, Y, m, e, nswp, dr_min=dr_min, dr_max=dr_max,\n",
    "    info=info, cache=cache)\n",
    "Y = teneva.truncate(Y, 1.e-4) # We round the result\n",
    "t = tpc() - t\n",
    "\n",
    "print(f'Build time           : {t:-10.2f}')\n",
    "print(f'Evals func           : {info[\"m\"]:-10d}')\n",
    "print(f'Cache uses           : {info[\"m_cache\"]:-10d}')\n",
    "print(f'Iter accuracy        : {info[\"e\"]:-10.2e}')\n",
    "print(f'Sweep number         : {info[\"nswp\"]:-10d}')\n",
    "print(f'Stop condition       : {info[\"stop\"]:>10}')\n",
    "print(f'TT-rank of pure res  : {info[\"r\"]:-10.1f}')\n",
    "print(f'TT-rank of trunc res : {teneva.erank(Y):-10.1f}')\n",
    "print(f'Error on test        : {teneva.accuracy_on_data(Y, I_tst, Y_tst):-10.2e}')"
   ]
  },
  {
   "cell_type": "markdown",
   "id": "6ab2a3b9-a104-4bef-a5dd-75615119e3ce",
   "metadata": {},
   "source": [
    "We may not use the cache (note that the number of requests to the objective function in this case will be more, but the running time will be less, since this function is calculated very quickly):"
   ]
  },
  {
   "cell_type": "code",
   "execution_count": 11,
   "id": "b7397648-2d33-4063-a61e-8a443b888839",
   "metadata": {},
   "outputs": [
    {
     "name": "stdout",
     "output_type": "stream",
     "text": [
      "Build time           :       0.04\n",
      "Evals func           :       6698\n",
      "Cache uses           :          0\n",
      "Iter accuracy        :   0.00e+00\n",
      "Sweep number         :          3\n",
      "Stop condition       :          e\n",
      "TT-rank of pure res  :        8.0\n",
      "TT-rank of trunc res :        3.0\n",
      "Error on test        :   6.39e-16\n"
     ]
    }
   ],
   "source": [
    "t = tpc()\n",
    "info, cache = {}, None\n",
    "Y = teneva.tensor_rand(n, r)\n",
    "Y = teneva.cross(func, Y, m, e, nswp, dr_min=dr_min, dr_max=dr_max,\n",
    "    info=info, cache=cache)\n",
    "Y = teneva.truncate(Y, 1.e-4) # We round the result\n",
    "t = tpc() - t\n",
    "\n",
    "print(f'Build time           : {t:-10.2f}')\n",
    "print(f'Evals func           : {info[\"m\"]:-10d}')\n",
    "print(f'Cache uses           : {info[\"m_cache\"]:-10d}')\n",
    "print(f'Iter accuracy        : {info[\"e\"]:-10.2e}')\n",
    "print(f'Sweep number         : {info[\"nswp\"]:-10d}')\n",
    "print(f'Stop condition       : {info[\"stop\"]:>10}')\n",
    "print(f'TT-rank of pure res  : {info[\"r\"]:-10.1f}')\n",
    "print(f'TT-rank of trunc res : {teneva.erank(Y):-10.1f}')\n",
    "print(f'Error on test        : {teneva.accuracy_on_data(Y, I_tst, Y_tst):-10.2e}')"
   ]
  },
  {
   "cell_type": "markdown",
   "id": "572ef589-feda-4e53-aa19-423837480642",
   "metadata": {},
   "source": [
    "We may also specify all stop conditions. In this case, the algorithm will terminate when at least one stop criterion is met:"
   ]
  },
  {
   "cell_type": "code",
   "execution_count": 12,
   "id": "58392f68-bd85-4e8c-8820-8cdc7ed0cc7c",
   "metadata": {},
   "outputs": [],
   "source": [
    "m         = 1.E+4  # Number of calls to target function\n",
    "e         = 1.E-16 # Desired accuracy\n",
    "nswp      = 10     # Sweep number (to ensure that it will not work very long)"
   ]
  },
  {
   "cell_type": "code",
   "execution_count": 13,
   "id": "cc006827-2d13-4283-8e18-25e1d259aeb0",
   "metadata": {},
   "outputs": [
    {
     "name": "stdout",
     "output_type": "stream",
     "text": [
      "Build time           :       0.03\n",
      "Evals func           :       6698\n",
      "Cache uses           :          0\n",
      "Iter accuracy        :   0.00e+00\n",
      "Sweep number         :          3\n",
      "Stop condition       :          e\n",
      "TT-rank of pure res  :        8.0\n",
      "TT-rank of trunc res :        3.0\n",
      "Error on test        :   6.39e-16\n"
     ]
    }
   ],
   "source": [
    "t = tpc()\n",
    "info, cache = {}, None\n",
    "Y = teneva.tensor_rand(n, r)\n",
    "Y = teneva.cross(func, Y, m, e, nswp, dr_min=dr_min, dr_max=dr_max,\n",
    "    info=info, cache=cache)\n",
    "Y = teneva.truncate(Y, 1.e-4) # We round the result\n",
    "t = tpc() - t\n",
    "\n",
    "print(f'Build time           : {t:-10.2f}')\n",
    "print(f'Evals func           : {info[\"m\"]:-10d}')\n",
    "print(f'Cache uses           : {info[\"m_cache\"]:-10d}')\n",
    "print(f'Iter accuracy        : {info[\"e\"]:-10.2e}')\n",
    "print(f'Sweep number         : {info[\"nswp\"]:-10d}')\n",
    "print(f'Stop condition       : {info[\"stop\"]:>10}')\n",
    "print(f'TT-rank of pure res  : {info[\"r\"]:-10.1f}')\n",
    "print(f'TT-rank of trunc res : {teneva.erank(Y):-10.1f}')\n",
    "print(f'Error on test        : {teneva.accuracy_on_data(Y, I_tst, Y_tst):-10.2e}')"
   ]
  },
  {
   "cell_type": "code",
   "execution_count": 14,
   "id": "6c4d0dbb-99a1-4cdf-8704-306689e066a6",
   "metadata": {},
   "outputs": [],
   "source": [
    "m         = 1.E+4  # Number of calls to target function\n",
    "e         = 1.E-16 # Desired accuracy\n",
    "nswp      = 1      # Sweep number (to ensure that it will not work very long)"
   ]
  },
  {
   "cell_type": "code",
   "execution_count": 15,
   "id": "915a03dc-6a6d-460b-a71e-e4e6750dfa06",
   "metadata": {},
   "outputs": [
    {
     "name": "stdout",
     "output_type": "stream",
     "text": [
      "Build time           :       0.01\n",
      "Evals func           :        512\n",
      "Cache uses           :          0\n",
      "Iter accuracy        :   7.12e+04\n",
      "Sweep number         :          1\n",
      "Stop condition       :       nswp\n",
      "TT-rank of pure res  :        3.0\n",
      "TT-rank of trunc res :        3.0\n",
      "Error on test        :   1.46e-01\n"
     ]
    }
   ],
   "source": [
    "t = tpc()\n",
    "info, cache = {}, None\n",
    "Y = teneva.tensor_rand(n, r)\n",
    "Y = teneva.cross(func, Y, m, e, nswp, dr_min=dr_min, dr_max=dr_max, info=info, cache=cache)\n",
    "Y = teneva.truncate(Y, 1.e-4) # We round the result\n",
    "t = tpc() - t\n",
    "\n",
    "print(f'Build time           : {t:-10.2f}')\n",
    "print(f'Evals func           : {info[\"m\"]:-10d}')\n",
    "print(f'Cache uses           : {info[\"m_cache\"]:-10d}')\n",
    "print(f'Iter accuracy        : {info[\"e\"]:-10.2e}')\n",
    "print(f'Sweep number         : {info[\"nswp\"]:-10d}')\n",
    "print(f'Stop condition       : {info[\"stop\"]:>10}')\n",
    "print(f'TT-rank of pure res  : {info[\"r\"]:-10.1f}')\n",
    "print(f'TT-rank of trunc res : {teneva.erank(Y):-10.1f}')\n",
    "print(f'Error on test        : {teneva.accuracy_on_data(Y, I_tst, Y_tst):-10.2e}')"
   ]
  },
  {
   "cell_type": "markdown",
   "id": "8ce53aa7-f24a-4b5a-8c4e-aa97708e109e",
   "metadata": {},
   "source": [
    "We can also set a validation data set and specify as a stop criterion the accuracy of the TT-approximation on this data (and we can also present the logs):"
   ]
  },
  {
   "cell_type": "code",
   "execution_count": 16,
   "id": "6020f053-79e0-4f03-b471-307278a08539",
   "metadata": {},
   "outputs": [],
   "source": [
    "d         = 25      # Dimension of the function\n",
    "n         = 64      # Shape of the tensor\n",
    "a         = -100.   # Lower bounds for spatial grid\n",
    "b         = +100.   # Upper bounds for spatial grid"
   ]
  },
  {
   "cell_type": "code",
   "execution_count": 17,
   "id": "292818e4-17df-484a-9e78-3ff5ef62a9f0",
   "metadata": {},
   "outputs": [],
   "source": [
    "def func(I):\n",
    "    \"\"\"Schaffer function.\"\"\"\n",
    "    X = teneva.ind_to_poi(I, a, b, n)\n",
    "    Z = X[:, :-1]**2 + X[:, 1:]**2\n",
    "    Y = 0.5 + (np.sin(np.sqrt(Z))**2 - 0.5) / (1. + 0.001 * Z)**2\n",
    "    return np.sum(Y, axis=1)"
   ]
  },
  {
   "cell_type": "code",
   "execution_count": 18,
   "id": "01f924d7-c5c6-4843-96fc-acdf2befbe68",
   "metadata": {},
   "outputs": [],
   "source": [
    "# Number of test points:\n",
    "m_tst = int(1.E+4)\n",
    "\n",
    "# Random multi-indices for the test points:\n",
    "I_tst = np.vstack([np.random.choice(n, m_tst) for i in range(d)]).T\n",
    "\n",
    "# Function values for the test points:\n",
    "Y_tst = func(I_tst)"
   ]
  },
  {
   "cell_type": "code",
   "execution_count": 19,
   "id": "bfc86fc4-e8ff-40b4-a1cd-d6451017a5f7",
   "metadata": {},
   "outputs": [],
   "source": [
    "# Number of validation points:\n",
    "m_vld = int(1.E+3)\n",
    "\n",
    "# Random multi-indices for the validation points:\n",
    "I_vld = np.vstack([np.random.choice(n, m_vld) for i in range(d)]).T\n",
    "\n",
    "# Function values for the validation points:\n",
    "Y_vld = func(I_vld)"
   ]
  },
  {
   "cell_type": "code",
   "execution_count": 20,
   "id": "f38ad8fd-d0c7-435a-9537-bd5ddc9d99d9",
   "metadata": {},
   "outputs": [],
   "source": [
    "e_vld     = 1.E-3  # Desired error on validation data"
   ]
  },
  {
   "cell_type": "code",
   "execution_count": 21,
   "id": "06844b9d-eef6-4a76-9c81-e30934176358",
   "metadata": {},
   "outputs": [
    {
     "name": "stdout",
     "output_type": "stream",
     "text": [
      "# pre | time:      0.996 | evals: 0.00e+00 | rank:   1.0 | err: 1.0e+00 | \n",
      "#   1 | time:      2.921 | evals: 1.23e+04 | rank:   3.0 | err: 1.8e-01 | eps: 3.6e+01 | \n",
      "#   2 | time:      4.351 | evals: 6.04e+04 | rank:   5.0 | err: 3.1e-02 | eps: 2.4e-01 | \n",
      "#   3 | time:      6.175 | evals: 1.68e+05 | rank:   7.0 | err: 7.1e-02 | eps: 8.1e-02 | \n",
      "#   4 | time:      8.363 | evals: 3.58e+05 | rank:   9.0 | err: 2.5e-02 | eps: 5.4e-02 | \n",
      "#   5 | time:     11.350 | evals: 6.55e+05 | rank:  11.0 | err: 6.4e-03 | eps: 2.8e-02 | \n",
      "#   6 | time:     16.240 | evals: 1.08e+06 | rank:  13.0 | err: 4.0e-03 | eps: 6.4e-03 | \n",
      "#   7 | time:     23.868 | evals: 1.66e+06 | rank:  15.0 | err: 2.2e-03 | eps: 3.8e-03 | \n",
      "#   8 | time:     35.206 | evals: 2.42e+06 | rank:  17.0 | err: 1.5e-03 | eps: 2.4e-03 | \n",
      "#   9 | time:     51.654 | evals: 3.38e+06 | rank:  19.0 | err: 9.5e-04 | eps: 1.5e-03 | stop: e_vld | \n",
      "\n",
      "Build time           :      51.67\n",
      "Evals func           :    3379200\n",
      "Cache uses           :          0\n",
      "Iter accuracy        :   1.47e-03\n",
      "Sweep number         :          9\n",
      "Stop condition       :      e_vld\n",
      "TT-rank of pure res  :       19.0\n",
      "TT-rank of trunc res :       18.0\n",
      "Error on test        :   9.41e-04\n"
     ]
    }
   ],
   "source": [
    "t = tpc()\n",
    "info = {}\n",
    "Y = teneva.tensor_rand([n]*d, r=1)\n",
    "Y = teneva.cross(func, Y, dr_max=1, I_vld=I_vld, Y_vld=Y_vld, e_vld=e_vld, info=info, log=True)\n",
    "Y = teneva.truncate(Y, 1.e-4) # We round the result\n",
    "t = tpc() - t\n",
    "\n",
    "print()\n",
    "print(f'Build time           : {t:-10.2f}')\n",
    "print(f'Evals func           : {info[\"m\"]:-10d}')\n",
    "print(f'Cache uses           : {info[\"m_cache\"]:-10d}')\n",
    "print(f'Iter accuracy        : {info[\"e\"]:-10.2e}')\n",
    "print(f'Sweep number         : {info[\"nswp\"]:-10d}')\n",
    "print(f'Stop condition       : {info[\"stop\"]:>10}')\n",
    "print(f'TT-rank of pure res  : {info[\"r\"]:-10.1f}')\n",
    "print(f'TT-rank of trunc res : {teneva.erank(Y):-10.1f}')\n",
    "print(f'Error on test        : {teneva.accuracy_on_data(Y, I_tst, Y_tst):-10.2e}')"
   ]
  },
  {
   "cell_type": "markdown",
   "id": "2c04b7f6-62be-4a40-90f2-6622f79a928e",
   "metadata": {},
   "source": [
    "We may also, for example, use cache and add restriction on the number of requests:"
   ]
  },
  {
   "cell_type": "code",
   "execution_count": 22,
   "id": "1fed89f1-7b75-4c17-bc64-73f0a8a7b7a5",
   "metadata": {},
   "outputs": [],
   "source": [
    "m         = 1.E+6  # Number of calls to target function\n",
    "e_vld     = 1.E-3  # Desired error on validation data"
   ]
  },
  {
   "cell_type": "code",
   "execution_count": 23,
   "id": "bd0c667c-2554-4b7f-a43b-39cbe05f7035",
   "metadata": {},
   "outputs": [
    {
     "name": "stdout",
     "output_type": "stream",
     "text": [
      "# pre | time:      0.985 | evals: 0.00e+00 (+ 0.00e+00) | rank:   1.0 | err: 1.0e+00 | \n",
      "#   1 | time:      2.955 | evals: 1.20e+04 (+ 3.20e+02) | rank:   3.0 | err: 1.7e-01 | eps: 9.6e+00 | \n",
      "#   2 | time:      4.637 | evals: 5.89e+04 (+ 1.54e+03) | rank:   5.0 | err: 3.0e-02 | eps: 2.2e-01 | \n",
      "#   3 | time:      7.087 | evals: 1.60e+05 (+ 7.62e+03) | rank:   7.0 | err: 2.3e-02 | eps: 4.0e-02 | \n",
      "#   4 | time:     10.514 | evals: 3.27e+05 (+ 3.16e+04) | rank:   9.0 | err: 3.4e-02 | eps: 2.5e-02 | \n",
      "#   5 | time:     15.501 | evals: 5.92e+05 (+ 6.29e+04) | rank:  11.0 | err: 8.7e-03 | eps: 3.1e-02 | \n",
      "#   6 | time:     23.287 | evals: 9.84e+05 (+ 9.88e+04) | rank:  13.0 | err: 3.9e-03 | eps: 8.5e-03 | \n",
      "#   6 | time:     25.958 | evals: 9.97e+05 (+ 1.09e+05) | rank:  13.1 | err: 3.9e-03 | eps: 8.5e-03 | stop: m | \n",
      "\n",
      "TT-rank of trunc res :       12.3\n",
      "Error on test        :   3.97e-03\n"
     ]
    }
   ],
   "source": [
    "Y = teneva.tensor_rand([n]*d, r=1)\n",
    "Y = teneva.cross(func, Y, m=m, dr_max=1, I_vld=I_vld, Y_vld=Y_vld, e_vld=e_vld,\n",
    "    info={}, cache={}, log=True)\n",
    "Y = teneva.truncate(Y, 1.e-4)\n",
    "\n",
    "print()\n",
    "print(f'TT-rank of trunc res : {teneva.erank(Y):-10.1f}')\n",
    "print(f'Error on test        : {teneva.accuracy_on_data(Y, I_tst, Y_tst):-10.2e}')"
   ]
  },
  {
   "cell_type": "markdown",
   "id": "5157c326-a02c-41fc-b82d-af0d55ddfb18",
   "metadata": {},
   "source": [
    "---"
   ]
  }
 ],
 "metadata": {
  "kernelspec": {
   "display_name": "Python 3",
   "language": "python",
   "name": "python3"
  },
  "language_info": {
   "codemirror_mode": {
    "name": "ipython",
    "version": 3
   },
   "file_extension": ".py",
   "mimetype": "text/x-python",
   "name": "python",
   "nbconvert_exporter": "python",
   "pygments_lexer": "ipython3",
   "version": "3.8.8"
  }
 },
 "nbformat": 4,
 "nbformat_minor": 5
}

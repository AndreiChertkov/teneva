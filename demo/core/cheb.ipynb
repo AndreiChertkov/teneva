{
 "cells": [
  {
   "cell_type": "markdown",
   "id": "e51b9291-f33c-40ad-96ee-e2f9454ffc69",
   "metadata": {},
   "source": [
    "**Demo for `teneva.core.cheb`**\n",
    "\n",
    "---\n",
    "\n",
    "This module contains the functions for construction of the Chebyshev interpolation in the TT-format as well as calculating the values of the function using the constructed interpolation coefficients. See module \"core.cheb_full\" with the same functions in the full format."
   ]
  },
  {
   "cell_type": "markdown",
   "id": "3896a55c-1131-44fc-b746-1433ad4ddb08",
   "metadata": {},
   "source": [
    "## Loading and importing modules"
   ]
  },
  {
   "cell_type": "code",
   "execution_count": 1,
   "id": "9941ed2c-6272-4144-8c96-4e800f0b5c49",
   "metadata": {},
   "outputs": [],
   "source": [
    "import numpy as np\n",
    "import teneva\n",
    "from time import perf_counter as tpc\n",
    "np.random.seed(42)"
   ]
  },
  {
   "cell_type": "markdown",
   "id": "3f6437a4-a93e-4265-9fc6-7d4f46a76c4d",
   "metadata": {},
   "source": [
    "## Function `cheb_bld`"
   ]
  },
  {
   "cell_type": "markdown",
   "id": "cfe8a9e9-ac37-4f38-8008-f81f857ad833",
   "metadata": {},
   "source": [
    "Compute the function values on the Chebyshev grid using TT-CROSS."
   ]
  },
  {
   "cell_type": "code",
   "execution_count": 2,
   "id": "27ec69a6-691a-429b-a18f-81c1783fad26",
   "metadata": {},
   "outputs": [
    {
     "name": "stdout",
     "output_type": "stream",
     "text": [
      "TT-tensor     4D : |5| |6| |7| |8|\n",
      "<rank>  =    3.0 :   \\3/ \\3/ \\3/\n"
     ]
    }
   ],
   "source": [
    "from scipy.optimize import rosen\n",
    "f = lambda X: rosen(X.T)        # Target function\n",
    "\n",
    "a = [-2., -4., -3., -2.]        # Grid lower bounds\n",
    "b = [+2., +3., +4., +2.]        # Grid upper bounds\n",
    "n = [5, 6, 7, 8]                # Grid size\n",
    "Y0 = teneva.tensor_rand(n, r=2) # Initial approximation for TT-CROSS\n",
    "e = 1.E-6                       # Accuracy for TT-CROSS\n",
    "eps = 1.E-6                     # Accuracy for truncation\n",
    "Y = teneva.cheb_bld(f, a, b, n, # TT-tensor of values on the Cheb. grid\n",
    "    eps, Y0, e=e)               # TT-CROSS arguments (eps and Y0 are required)\n",
    "teneva.show(Y)                  # Show the result"
   ]
  },
  {
   "cell_type": "markdown",
   "id": "01c5a749-1a04-49be-8a8a-e1c0b5d8c7e6",
   "metadata": {},
   "source": [
    "There is also the realization of this function in the full (numpy) format:"
   ]
  },
  {
   "cell_type": "code",
   "execution_count": 3,
   "id": "08601629-7ff3-4663-940f-9bc6f21543a2",
   "metadata": {},
   "outputs": [],
   "source": [
    "# Full tensor with function values:\n",
    "Y_full = teneva.cheb_bld_full(f, a, b, n)"
   ]
  },
  {
   "cell_type": "code",
   "execution_count": 4,
   "id": "fe976e10-6af9-4689-9786-180677e2239b",
   "metadata": {},
   "outputs": [
    {
     "name": "stdout",
     "output_type": "stream",
     "text": [
      "Error     : 5.04e-16\n"
     ]
    }
   ],
   "source": [
    "# Compute tensor in the full format:\n",
    "Y_ref = teneva.full(Y)\n",
    "\n",
    "# Compare two methods:\n",
    "e = np.linalg.norm(Y_full - Y_ref)        \n",
    "e /= np.linalg.norm(Y_ref)\n",
    "\n",
    "print(f'Error     : {e:-8.2e}')"
   ]
  },
  {
   "cell_type": "markdown",
   "id": "1b2b4a94-ed7d-4dce-8d4f-9dea8c4e71fb",
   "metadata": {},
   "source": [
    "## Function `cheb_diff_matrix`"
   ]
  },
  {
   "cell_type": "markdown",
   "id": "7df6f2d1-e67e-4369-86f3-431f957f18bf",
   "metadata": {},
   "source": [
    "Construct the Chebyshev differential matrix of any order."
   ]
  },
  {
   "cell_type": "markdown",
   "id": "7d7da8f2-6710-4015-a590-74471c507cd3",
   "metadata": {},
   "source": [
    "Let's build an analytic function for demonstration:"
   ]
  },
  {
   "cell_type": "code",
   "execution_count": 5,
   "id": "39fa697f-fb5b-4c3b-bfbe-42e21126d955",
   "metadata": {},
   "outputs": [],
   "source": [
    "a = -2.   # Grid lower bound\n",
    "b = +3.   # Grid upper bound\n",
    "n = 1000  # Grid size\n",
    "\n",
    "# Function and its first derivative:\n",
    "f     = lambda x: np.sin(x**3) + np.exp(-x**2)\n",
    "f_der = lambda x: 3. * x**2 * np.cos(x**3) - 2. * x * np.exp(-x**2)\n",
    "\n",
    "# Chebyshev grid and function values on the grid:\n",
    "i = np.arange(n)\n",
    "x = teneva.ind_to_poi(i, a, b, n, kind='cheb')\n",
    "y = f(x)"
   ]
  },
  {
   "cell_type": "markdown",
   "id": "598aabfd-bbac-4544-9e46-b08bfeea3d17",
   "metadata": {},
   "source": [
    "We can compute the derivative for \"y\" by Chebyshev differential matrix:"
   ]
  },
  {
   "cell_type": "code",
   "execution_count": 6,
   "id": "dc42e459-8579-42eb-83a9-b0e8ee0f9076",
   "metadata": {},
   "outputs": [],
   "source": [
    "D = teneva.cheb_diff_matrix(a, b, n)\n",
    "z = D @ y"
   ]
  },
  {
   "cell_type": "markdown",
   "id": "58fd8a8c-7efd-48e0-b18b-51c7163fca31",
   "metadata": {},
   "source": [
    "Let check the result:"
   ]
  },
  {
   "cell_type": "code",
   "execution_count": 7,
   "id": "b327c061-79be-4fdb-8dfe-c1ac45739af9",
   "metadata": {},
   "outputs": [
    {
     "name": "stdout",
     "output_type": "stream",
     "text": [
      "Error nrm : 7.5e-13\n",
      "Error max : 6.3e-10\n"
     ]
    }
   ],
   "source": [
    "z_real = f_der(x)\n",
    "\n",
    "e_nrm = np.linalg.norm(z - z_real) / np.linalg.norm(z_real)\n",
    "e_max = np.max(np.abs((z - z_real) / z_real))\n",
    "\n",
    "print(f'Error nrm : {e_nrm:-7.1e}')\n",
    "print(f'Error max : {e_max:-7.1e}')"
   ]
  },
  {
   "cell_type": "markdown",
   "id": "6ae5b311-7744-419f-8849-94ce51ce7040",
   "metadata": {},
   "source": [
    "We can also calculate higher order derivatives:"
   ]
  },
  {
   "cell_type": "code",
   "execution_count": 8,
   "id": "b94e5196-c82e-4ee3-963e-5d7fb5cfea3b",
   "metadata": {},
   "outputs": [],
   "source": [
    "D1, D2, D3 = teneva.cheb_diff_matrix(a, b, n, m=3)\n",
    "z = [D1 @ y, D2 @ y, D3 @ y]"
   ]
  },
  {
   "cell_type": "markdown",
   "id": "5d8cc2bf-e34c-4408-87be-0fd18f79dac6",
   "metadata": {},
   "source": [
    "Let check the result:"
   ]
  },
  {
   "cell_type": "code",
   "execution_count": 9,
   "id": "044128c2-88de-4b9b-9d9e-a74e9e259f47",
   "metadata": {},
   "outputs": [
    {
     "name": "stdout",
     "output_type": "stream",
     "text": [
      "Der # 1 | Error nrm : 7.5e-13 | Error max : 6.3e-10\n",
      "Der # 2 | Error nrm : 4.9e-09 | Error max : 4.3e-08\n",
      "Der # 3 | Error nrm : 1.3e-05 | Error max : 1.4e-03\n"
     ]
    }
   ],
   "source": [
    "z1_real = 3. * x**2 * np.cos(x**3) - 2. * x * np.exp(-x**2)\n",
    "\n",
    "z2_real = 6. * x * np.cos(x**3) - 9. * x**4 * np.sin(x**3)\n",
    "z2_real += - 2. * np.exp(-x**2) + 4. * x**2 * np.exp(-x**2)\n",
    "\n",
    "z3_real = 6. * np.cos(x**3) - 18. * x**3 * np.sin(x**3)\n",
    "z3_real += - 36. * x**3 * np.sin(x**3) - 27. * x**6 * np.cos(x**3)\n",
    "z3_real += 4. * x * np.exp(-x**2)\n",
    "z3_real += 8. * x * np.exp(-x**2) - 8. * x**3 * np.exp(-x**2)\n",
    "\n",
    "z_real = [z1_real, z2_real, z3_real]\n",
    "\n",
    "for k in range(3):\n",
    "    e_nrm = np.linalg.norm(z[k] - z_real[k]) / np.linalg.norm(z_real[k])\n",
    "    e_max = np.max(np.abs((z[k] - z_real[k]) / z_real[k]))\n",
    "    print(f'Der # {k+1} | Error nrm : {e_nrm:-7.1e} | Error max : {e_max:-7.1e}')"
   ]
  },
  {
   "cell_type": "markdown",
   "id": "d54a2e0b-abd3-4d96-85b8-6336f3f5d80d",
   "metadata": {},
   "source": [
    "## Function `cheb_get`"
   ]
  },
  {
   "cell_type": "markdown",
   "id": "e1a50738-6a24-4d34-a145-c828d82b54f6",
   "metadata": {},
   "source": [
    "Compute the Chebyshev approximation in given points (approx. f(X))."
   ]
  },
  {
   "cell_type": "code",
   "execution_count": 10,
   "id": "08347b96-1e1b-4473-b3a4-d3cc4493d950",
   "metadata": {},
   "outputs": [
    {
     "name": "stdout",
     "output_type": "stream",
     "text": [
      "TT-tensor     4D : |5| |6| |7| |8|\n",
      "<rank>  =    3.0 :   \\3/ \\3/ \\3/\n"
     ]
    }
   ],
   "source": [
    "# In the beginning we compute the function values on the Chebyshev\n",
    "# grid using TT-CROSS (see cheb_bld function for more details):\n",
    "\n",
    "from scipy.optimize import rosen\n",
    "f = lambda X: rosen(X.T)        # Target function\n",
    "\n",
    "a = [-2., -4., -3., -2.]        # Grid lower bounds\n",
    "b = [+2., +3., +4., +2.]        # Grid upper bounds\n",
    "n = [5, 6, 7, 8]                # Grid size\n",
    "Y0 = teneva.tensor_rand(n, r=2) # Initial approximation for TT-CROSS\n",
    "e = 1.E-3                       # Accuracy for TT-CROSS\n",
    "eps = 1.E-6                     # Accuracy for truncation\n",
    "Y = teneva.cheb_bld(f, a, b, n, # TT-tensor of values on the Cheb. grid\n",
    "    eps, Y0, e=e)               # TT-CROSS arguments (eps and Y0 are required)\n",
    "teneva.show(Y)                  # Show the result"
   ]
  },
  {
   "cell_type": "code",
   "execution_count": 11,
   "id": "46dbc7a4-5502-4a2f-912d-dba923e9bd87",
   "metadata": {},
   "outputs": [
    {
     "name": "stdout",
     "output_type": "stream",
     "text": [
      "TT-tensor     4D : |5| |6| |7| |8|\n",
      "<rank>  =    3.0 :   \\3/ \\3/ \\3/\n"
     ]
    }
   ],
   "source": [
    "# Then we should compute the TT-tensor for Chebyshev interpolation\n",
    "# coefficients (see cheb_int function for more details):\n",
    "A = teneva.cheb_int(Y)\n",
    "\n",
    "teneva.show(A) # Show the result"
   ]
  },
  {
   "cell_type": "code",
   "execution_count": 12,
   "id": "e708c36e-6282-40fc-93b6-315e96215302",
   "metadata": {},
   "outputs": [
    {
     "name": "stdout",
     "output_type": "stream",
     "text": [
      "[ 3.00000000e+00  5.40600000e+03  3.85114163e-12 -1.00000000e+00]\n",
      "[3.0000000e+00 5.4060000e+03 0.0000000e+00 9.9999996e+17]\n"
     ]
    }
   ],
   "source": [
    "# Finally we compute the approximation in selected points inside\n",
    "# the bounds (the values for points outside the bounds will be set as \"z\")\n",
    "\n",
    "X = np.array([\n",
    "    [0., 0., 0., 0.],\n",
    "    [0., 2., 3., 2.],\n",
    "    [1., 1., 1., 1.],\n",
    "    [1., 1., 1., 99999999],\n",
    "])\n",
    "\n",
    "Z = teneva.cheb_get(X, A, a, b, z=-1.)\n",
    "\n",
    "print(Z)    # Print the result\n",
    "print(f(X)) # We can check the result by comparing it to the true values"
   ]
  },
  {
   "cell_type": "markdown",
   "id": "681a32cb-e43c-4f07-8016-6fedbd68a0cd",
   "metadata": {},
   "source": [
    "There is also the realization of this function in the full (numpy) format:"
   ]
  },
  {
   "cell_type": "code",
   "execution_count": 13,
   "id": "36f7f270-8fbb-4f1d-9b5b-d9d5fe337ec3",
   "metadata": {},
   "outputs": [
    {
     "name": "stdout",
     "output_type": "stream",
     "text": [
      "[ 3.00000000e+00  5.40600000e+03  7.90123522e-12 -1.00000000e+00]\n",
      "[3.0000000e+00 5.4060000e+03 0.0000000e+00 9.9999996e+17]\n"
     ]
    }
   ],
   "source": [
    "# Build full tensor:\n",
    "A_full = teneva.full(A)\n",
    "\n",
    "# Compute the values:\n",
    "Z = teneva.cheb_get_full(X, A_full, a, b, z=-1.) \n",
    "\n",
    "# We can check the result by comparing it to the true values:\n",
    "print(Z)\n",
    "print(f(X))    "
   ]
  },
  {
   "cell_type": "markdown",
   "id": "ba8cceb9-af8a-4934-9443-c30e4ac98d1b",
   "metadata": {},
   "source": [
    "## Function `cheb_gets`"
   ]
  },
  {
   "cell_type": "markdown",
   "id": "c4781f74-8c68-432b-9c30-c914e8c39168",
   "metadata": {},
   "source": [
    "Compute the Chebyshev approximation (TT-tensor) on the full given grid."
   ]
  },
  {
   "cell_type": "code",
   "execution_count": 14,
   "id": "eb195d25-18df-43e4-b32c-f8525db0da8a",
   "metadata": {},
   "outputs": [
    {
     "name": "stdout",
     "output_type": "stream",
     "text": [
      "TT-tensor     4D : |5| |6| |7| |8|\n",
      "<rank>  =    3.0 :   \\3/ \\3/ \\3/\n"
     ]
    }
   ],
   "source": [
    "# In the beginning we compute the function values on the Chebyshev\n",
    "# grid using TT-CROSS (see cheb_bld function for more details):\n",
    "\n",
    "from scipy.optimize import rosen\n",
    "f = lambda X: rosen(X.T)         # Target function\n",
    "\n",
    "a = [-2., -4., -3., -2.]         # Grid lower bounds\n",
    "b = [+2., +3., +4., +2.]         # Grid upper bounds\n",
    "n = [5, 6, 7, 8]                 # Grid size\n",
    "Y0 = teneva.tensor_rand(n, r=2)  # Initial approximation for TT-CROSS\n",
    "e = 1.E-3                        # Accuracy for TT-CROSS\n",
    "eps = 1.E-6                      # Accuracy for truncation\n",
    "Y1 = teneva.cheb_bld(f, a, b, n, # TT-tensor of values on the Cheb. grid\n",
    "    eps, Y0, e=e)                # TT-CROSS arguments (eps and Y0 are required)\n",
    "teneva.show(Y1)                  # Show the result"
   ]
  },
  {
   "cell_type": "code",
   "execution_count": 15,
   "id": "e747e30f-424c-4535-98ab-bf9b942a0111",
   "metadata": {},
   "outputs": [
    {
     "name": "stdout",
     "output_type": "stream",
     "text": [
      "TT-tensor     4D : |5| |6| |7| |8|\n",
      "<rank>  =    3.0 :   \\3/ \\3/ \\3/\n"
     ]
    }
   ],
   "source": [
    "# Then we should compute the TT-tensor for Chebyshev interpolation\n",
    "# coefficients (see cheb_int function for more details):\n",
    "A1 = teneva.cheb_int(Y1)\n",
    "\n",
    "teneva.show(A1) # Show the result"
   ]
  },
  {
   "cell_type": "code",
   "execution_count": 16,
   "id": "48da0d2b-df2f-4e0e-813d-e84fb52b7991",
   "metadata": {},
   "outputs": [
    {
     "name": "stdout",
     "output_type": "stream",
     "text": [
      "TT-tensor     4D : |7| |8| |9| |10|\n",
      "<rank>  =    3.0 :   \\3/ \\3/ \\3/\n"
     ]
    }
   ],
   "source": [
    "m = [7, 8, 9, 10] # New size of the grid\n",
    "\n",
    "# Compute tensor on finer grid:\n",
    "Y2 = teneva.cheb_gets(A1, a, b, m)\n",
    "\n",
    "teneva.show(Y2)"
   ]
  },
  {
   "cell_type": "code",
   "execution_count": 17,
   "id": "62290a85-13df-42b4-9cc8-c26f3224d557",
   "metadata": {},
   "outputs": [
    {
     "name": "stdout",
     "output_type": "stream",
     "text": [
      "TT-tensor     4D : |7| |8| |9| |10|\n",
      "<rank>  =    3.0 :   \\3/ \\3/ \\3/\n"
     ]
    }
   ],
   "source": [
    "# We can compute interpolation coefficients on the new grid:\n",
    "\n",
    "A2 = teneva.cheb_int(Y2)\n",
    "\n",
    "teneva.show(A2)"
   ]
  },
  {
   "cell_type": "code",
   "execution_count": 18,
   "id": "7f711641-b76e-4650-8386-ac29e914a770",
   "metadata": {},
   "outputs": [
    {
     "name": "stdout",
     "output_type": "stream",
     "text": [
      "[ 3.00000000e+00  5.40600000e+03  3.85114163e-12 -1.00000000e+00]\n",
      "[ 3.00000000e+00  5.40600000e+03  1.29318778e-12 -1.00000000e+00]\n",
      "[3.0000000e+00 5.4060000e+03 0.0000000e+00 9.9999996e+17]\n"
     ]
    }
   ],
   "source": [
    "# Finally we compute the approximation in selected points\n",
    "# inside the bounds for 2 different approximations:\n",
    "\n",
    "X = np.array([\n",
    "    [0., 0., 0., 0.],\n",
    "    [0., 2., 3., 2.],\n",
    "    [1., 1., 1., 1.],\n",
    "    [1., 1., 1., 99999999],\n",
    "])\n",
    "\n",
    "Z1 = teneva.cheb_get(X, A1, a, b, z=-1.)\n",
    "Z2 = teneva.cheb_get(X, A2, a, b, z=-1.)\n",
    "\n",
    "# We can check the result by comparing it to the true values:\n",
    "print(Z1)\n",
    "print(Z2)\n",
    "print(f(X))    "
   ]
  },
  {
   "cell_type": "markdown",
   "id": "9c68f74c-0ddc-43fa-93ad-292a56c36bb9",
   "metadata": {},
   "source": [
    "There is also the realization of this function in the full (numpy) format:"
   ]
  },
  {
   "cell_type": "code",
   "execution_count": 19,
   "id": "c094e90e-998e-4bce-9c24-0d424454e24d",
   "metadata": {},
   "outputs": [],
   "source": [
    "# Full tensor of interpolation coefficients:\n",
    "A1_full = teneva.full(A1)\n",
    "\n",
    "# Compute tensor on finer grid:\n",
    "Y2_full = teneva.cheb_gets_full(A1_full, a, b, m)"
   ]
  },
  {
   "cell_type": "code",
   "execution_count": 20,
   "id": "cbfbed9e-2543-4247-a175-696f216c32d1",
   "metadata": {},
   "outputs": [
    {
     "name": "stdout",
     "output_type": "stream",
     "text": [
      "Error     : 3.31e-16\n"
     ]
    }
   ],
   "source": [
    "# Compute tensor in the full format:\n",
    "Y_ref = teneva.full(Y2)            \n",
    "\n",
    "# Compare two methods:\n",
    "e = np.linalg.norm(Y2_full - Y_ref)\n",
    "e /= np.linalg.norm(Y_ref)\n",
    "\n",
    "print(f'Error     : {e:-8.2e}')"
   ]
  },
  {
   "cell_type": "markdown",
   "id": "9d2fd251-cff6-4b92-85ee-030d2c7c522d",
   "metadata": {},
   "source": [
    "## Function `cheb_int`"
   ]
  },
  {
   "cell_type": "markdown",
   "id": "50a259fe-69af-4371-a76c-a34c8171ac34",
   "metadata": {},
   "source": [
    "Compute the TT-tensor for Chebyshev interpolation coefficients."
   ]
  },
  {
   "cell_type": "code",
   "execution_count": 21,
   "id": "d9298ad6-ef64-4521-91f7-fe96ea2f4064",
   "metadata": {},
   "outputs": [
    {
     "name": "stdout",
     "output_type": "stream",
     "text": [
      "TT-tensor     4D : |5| |6| |7| |8|\n",
      "<rank>  =    3.0 :   \\3/ \\3/ \\3/\n"
     ]
    }
   ],
   "source": [
    "# In the beginning we compute the function values on the Chebyshev\n",
    "# grid using TT-CROSS (see cheb_bld function for more details):\n",
    "\n",
    "from scipy.optimize import rosen\n",
    "f = lambda X: rosen(X.T)        # Target function\n",
    "\n",
    "a = [-2., -4., -3., -2.]        # Grid lower bounds\n",
    "b = [+2., +3., +4., +2.]        # Grid upper bounds\n",
    "n = [5, 6, 7, 8]                # Grid size\n",
    "Y0 = teneva.tensor_rand(n, r=2) # Initial approximation for TT-CROSS\n",
    "e = 1.E-3                       # Accuracy for TT-CROSS\n",
    "eps = 1.E-6                     # Accuracy for truncation\n",
    "Y = teneva.cheb_bld(f, a, b, n, # TT-tensor of values on the Cheb. grid\n",
    "    eps, Y0, e=e)               # TT-CROSS arguments (eps and Y0 are required)\n",
    "teneva.show(Y)                  # Show the result"
   ]
  },
  {
   "cell_type": "code",
   "execution_count": 22,
   "id": "be0985fb-7a2d-45ea-bb25-c52338a6d96a",
   "metadata": {},
   "outputs": [
    {
     "name": "stdout",
     "output_type": "stream",
     "text": [
      "TT-tensor     4D : |5| |6| |7| |8|\n",
      "<rank>  =    3.0 :   \\3/ \\3/ \\3/\n"
     ]
    }
   ],
   "source": [
    "# Then we can compute the TT-tensor for Chebyshev\n",
    "# interpolation coefficients:\n",
    "A = teneva.cheb_int(Y)\n",
    "\n",
    "teneva.show(A)"
   ]
  },
  {
   "cell_type": "markdown",
   "id": "246216f2-3eae-4c58-be77-22400df3bd52",
   "metadata": {},
   "source": [
    "There is also the realization of this function in the full (numpy) format:"
   ]
  },
  {
   "cell_type": "code",
   "execution_count": 23,
   "id": "75efcc95-e921-42dc-bab1-3c6a8d74ab0d",
   "metadata": {},
   "outputs": [],
   "source": [
    "# Full tensor with function values:\n",
    "Y_full = teneva.full(Y)\n",
    "\n",
    "# Interpolation in the full format:\n",
    "A_full = teneva.cheb_int_full(Y_full)"
   ]
  },
  {
   "cell_type": "code",
   "execution_count": 24,
   "id": "ba7c603d-bb97-4e7b-bf02-87dfaaa461d5",
   "metadata": {},
   "outputs": [
    {
     "name": "stdout",
     "output_type": "stream",
     "text": [
      "Error     : 5.07e-16\n"
     ]
    }
   ],
   "source": [
    "# Compute tensor in the full format:\n",
    "A_ref = teneva.full(A)\n",
    "\n",
    "# Compare two methods:\n",
    "e = np.linalg.norm(A_full - A_ref)\n",
    "e /= np.linalg.norm(A_ref)\n",
    "\n",
    "print(f'Error     : {e:-8.2e}')"
   ]
  },
  {
   "cell_type": "markdown",
   "id": "02394e38-571a-4d8b-88d8-d47d2efc132c",
   "metadata": {},
   "source": [
    "## Function `cheb_pol`"
   ]
  },
  {
   "cell_type": "markdown",
   "id": "ba9af81f-9ea5-4e7f-ab9d-cea6161f84fe",
   "metadata": {},
   "source": [
    "Compute the Chebyshev polynomials in the given points."
   ]
  },
  {
   "cell_type": "code",
   "execution_count": 28,
   "id": "83ca99c2-4b70-4fc1-8624-8ef6d1bbe11b",
   "metadata": {},
   "outputs": [],
   "source": [
    "X = np.array([           # Two 4-dim points\n",
    "    [0., 0., 0., 0.],\n",
    "    [1., 1., 1., 1.],\n",
    "])\n",
    "\n",
    "m = 3                    # Maximum order of polynomial \n",
    "\n",
    "# Compute polynomials:\n",
    "T = teneva.cheb_pol(X, m)"
   ]
  },
  {
   "cell_type": "code",
   "execution_count": 30,
   "id": "b889c8c2-7f71-4f56-bf52-d7c971cf3026",
   "metadata": {},
   "outputs": [
    {
     "name": "stdout",
     "output_type": "stream",
     "text": [
      "(3, 2, 4)\n",
      "[[[ 1.  1.  1.  1.]\n",
      "  [ 1.  1.  1.  1.]]\n",
      "\n",
      " [[ 0.  0.  0.  0.]\n",
      "  [ 1.  1.  1.  1.]]\n",
      "\n",
      " [[-1. -1. -1. -1.]\n",
      "  [ 1.  1.  1.  1.]]]\n"
     ]
    }
   ],
   "source": [
    "print(T.shape)\n",
    "print(T)"
   ]
  },
  {
   "cell_type": "markdown",
   "id": "80c80bd4-8e23-423f-96c2-62e736bc3b13",
   "metadata": {},
   "source": [
    "## Function `cheb_sum`"
   ]
  },
  {
   "cell_type": "markdown",
   "id": "783480c4-adad-4ad1-bfae-96a48ae5b3ce",
   "metadata": {},
   "source": [
    "Integrate the function from its Chebyshev approximation in the TT-format. Note that this function works only for symmetric grids!"
   ]
  },
  {
   "cell_type": "code",
   "execution_count": 31,
   "id": "82e6e6fe-a7c5-4db6-ac6d-dd2dec637d07",
   "metadata": {},
   "outputs": [
    {
     "name": "stdout",
     "output_type": "stream",
     "text": [
      "TT-tensor     4D : |50| |50| |50| |50|\n",
      "<rank>  =    1.0 :    \\1/  \\1/  \\1/\n"
     ]
    }
   ],
   "source": [
    "# In the beginning we compute the function values on the Chebyshev\n",
    "# grid using TT-CROSS (see cheb_bld function for more details):\n",
    "                 \n",
    "d = 4\n",
    "def f(X): # Target function\n",
    "    a = 2.\n",
    "    r = np.exp(-np.sum(X*X, axis=1) / a) / (np.pi * a)**(d/2)\n",
    "    return r.reshape(-1)\n",
    "\n",
    "a = [-12., -14., -13., -11.]    # Grid lower bounds\n",
    "b = [+12., +14., +13., +11.]    # Grid upper bounds\n",
    "n = [50, 50, 50, 50]            # Grid size\n",
    "Y0 = teneva.tensor_rand(n, r=2) # Initial approximation for TT-CROSS\n",
    "e = 1.E-5                       # Accuracy for TT-CROSS\n",
    "eps = 1.E-6                     # Accuracy for truncation\n",
    "Y = teneva.cheb_bld(f, a, b, n, # TT-tensor of values on the Cheb. grid\n",
    "    eps, Y0, e=e)               # TT-CROSS arguments (eps and Y0 are required)\n",
    "teneva.show(Y)                  # Show the result"
   ]
  },
  {
   "cell_type": "code",
   "execution_count": 32,
   "id": "02c44968-c895-41dd-b6ab-f3d1965d4fd8",
   "metadata": {},
   "outputs": [
    {
     "name": "stdout",
     "output_type": "stream",
     "text": [
      "TT-tensor     4D : |50| |50| |50| |50|\n",
      "<rank>  =    1.0 :    \\1/  \\1/  \\1/\n"
     ]
    }
   ],
   "source": [
    "# Then we should compute the TT-tensor for Chebyshev interpolation\n",
    "# coefficients (see cheb_int function for more details):\n",
    "A = teneva.cheb_int(Y)\n",
    "\n",
    "teneva.show(A)"
   ]
  },
  {
   "cell_type": "code",
   "execution_count": 33,
   "id": "07d934d9-59ac-443a-a42e-6abbf79de1b4",
   "metadata": {},
   "outputs": [
    {
     "name": "stdout",
     "output_type": "stream",
     "text": [
      "1.0000000191598721\n"
     ]
    }
   ],
   "source": [
    "# Finally we compute the integral:\n",
    "v = teneva.cheb_sum(A, a, b)\n",
    "\n",
    "print(v) # Print the result (the real value is 1.)"
   ]
  },
  {
   "cell_type": "markdown",
   "id": "809ce09b-35e1-40ba-9ccb-39f8678382b2",
   "metadata": {},
   "source": [
    "There is also the realization of this function in the full (numpy) format:"
   ]
  },
  {
   "cell_type": "code",
   "execution_count": 34,
   "id": "b8d2c115-5caf-4853-843c-73182c8c3160",
   "metadata": {},
   "outputs": [
    {
     "name": "stdout",
     "output_type": "stream",
     "text": [
      "1.0000000191598715\n"
     ]
    }
   ],
   "source": [
    "A_full = teneva.full(A)\n",
    "\n",
    "v = teneva.cheb_sum_full(A_full, a, b)\n",
    "\n",
    "print(v) # Print the result (the real value is 1.)"
   ]
  },
  {
   "cell_type": "markdown",
   "id": "5157c326-a02c-41fc-b82d-af0d55ddfb18",
   "metadata": {},
   "source": [
    "---"
   ]
  }
 ],
 "metadata": {
  "kernelspec": {
   "display_name": "Python 3",
   "language": "python",
   "name": "python3"
  },
  "language_info": {
   "codemirror_mode": {
    "name": "ipython",
    "version": 3
   },
   "file_extension": ".py",
   "mimetype": "text/x-python",
   "name": "python",
   "nbconvert_exporter": "python",
   "pygments_lexer": "ipython3",
   "version": "3.8.8"
  }
 },
 "nbformat": 4,
 "nbformat_minor": 5
}

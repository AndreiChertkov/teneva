{
 "cells": [
  {
   "cell_type": "markdown",
   "id": "e51b9291-f33c-40ad-96ee-e2f9454ffc69",
   "metadata": {},
   "source": [
    "**Demo for `teneva.core.cross_act`**\n",
    "\n",
    "---\n",
    "\n",
    "This module contains the function \"cross_act\" which approximates the output of the given function in the TT-format with input parameters also specified in the TT-format. Modification of the cross approximation method in the TT-format (TT-cross) is used."
   ]
  },
  {
   "cell_type": "markdown",
   "id": "3896a55c-1131-44fc-b746-1433ad4ddb08",
   "metadata": {},
   "source": [
    "## Loading and importing modules"
   ]
  },
  {
   "cell_type": "code",
   "execution_count": 1,
   "id": "9941ed2c-6272-4144-8c96-4e800f0b5c49",
   "metadata": {},
   "outputs": [],
   "source": [
    "import numpy as np\n",
    "import teneva\n",
    "from time import perf_counter as tpc\n",
    "np.random.seed(42)"
   ]
  },
  {
   "cell_type": "markdown",
   "id": "fd009f7c-372c-4461-aab5-597711528485",
   "metadata": {},
   "source": [
    "## Function `cross_act`"
   ]
  },
  {
   "cell_type": "markdown",
   "id": "78a452a9-795a-4281-b8f5-85ccc034a376",
   "metadata": {},
   "source": [
    "Compute the output in the TT-format for the function of TT-tensors."
   ]
  },
  {
   "cell_type": "markdown",
   "id": "92e9ff3c-b700-43e1-9a91-b72f2d094eb1",
   "metadata": {},
   "source": [
    "Let consider the simple operation in the TT-format Y = X1 * X2 + X3:"
   ]
  },
  {
   "cell_type": "code",
   "execution_count": 2,
   "id": "9e011cb0-7c68-4272-92d8-ec262f618963",
   "metadata": {},
   "outputs": [],
   "source": [
    "d = 10     # Dimension of the input tensors\n",
    "n = [20]*d # Mode sizes of the input tensors (it may be list)\n",
    "\n",
    "# Random TT-tensors (inputs):\n",
    "X1 = teneva.tensor_rand(n, r=3)\n",
    "X2 = teneva.tensor_rand(n, r=4)\n",
    "X3 = teneva.tensor_rand(n, r=5)"
   ]
  },
  {
   "cell_type": "markdown",
   "id": "f4136b8f-81c0-47b4-8af1-161ca595f88a",
   "metadata": {},
   "source": [
    "We can compute the exact result (output):"
   ]
  },
  {
   "cell_type": "code",
   "execution_count": 3,
   "id": "91a59508-db17-42c7-aa5b-92c93a15b66d",
   "metadata": {},
   "outputs": [
    {
     "name": "stdout",
     "output_type": "stream",
     "text": [
      "TT-tensor    10D : |20|  |20|  |20|  |20|  |20|  |20|  |20|  |20|  |20|  |20|\n",
      "<rank>  =   17.0 :    \\17/  \\17/  \\17/  \\17/  \\17/  \\17/  \\17/  \\17/  \\17/\n",
      "\n",
      "Time (sec) :   0.006\n"
     ]
    }
   ],
   "source": [
    "t = tpc()\n",
    "Y_real = teneva.add(teneva.mul(X1, X2), X3)\n",
    "Y_real = teneva.truncate(Y_real, e=1.E-16)\n",
    "t = tpc() - t\n",
    "\n",
    "teneva.show(Y_real)\n",
    "print(f'\\nTime (sec) : {t:-7.3f}')"
   ]
  },
  {
   "cell_type": "markdown",
   "id": "f24d9215-f967-4c73-b045-adf35bc29969",
   "metadata": {},
   "source": [
    "We set all parameters (note that only \"f\", \"X_list\" and \"Y0\" are required):"
   ]
  },
  {
   "cell_type": "code",
   "execution_count": 4,
   "id": "9a04109b-e656-45bd-9614-cc953efa8a41",
   "metadata": {},
   "outputs": [],
   "source": [
    "def f(X):\n",
    "    # Function should compute the output elements for the given set\n",
    "    # of input points X (array \"[samples, D]\"; in our case, D=3).\n",
    "    # The function should return 1D np.ndarray of the length \"samples\"\n",
    "    # with values of the target function for all provided samples.\n",
    "    return X[:, 0] * X[:, 1] + X[:, 2]"
   ]
  },
  {
   "cell_type": "code",
   "execution_count": 5,
   "id": "c256255a-fa1a-4185-8616-9109ff6d21fd",
   "metadata": {},
   "outputs": [],
   "source": [
    "# The input of the function (note that the dimension\n",
    "# and mode sizes for all tensors must match):\n",
    "X_list = [X1, X2, X3]\n",
    "\n",
    "# Random initial approximation for the output (note that\n",
    "# the shape of this tensor should be same as for X1, X2, X3):\n",
    "Y0     = teneva.tensor_rand(n, r=1)\n",
    "\n",
    "e      = 1.E-6  # Accuracy and convergence criterion (optional)\n",
    "nswp   = 10     # Maximum number of iterations (optional)\n",
    "r      = 9999   # Maximum rank for SVD operation (optional)\n",
    "dr     = 3      # Rank (\"kickrank\") for AMEN (optional)\n",
    "dr2    = 1      # Additional rank for AMEN (optional)\n",
    "log    = True   # If true, then logs will be presented (optional)"
   ]
  },
  {
   "cell_type": "markdown",
   "id": "1ce758c7-c7b6-4ac0-bf69-468beb4a64d6",
   "metadata": {},
   "source": [
    "And now we can run the function:"
   ]
  },
  {
   "cell_type": "code",
   "execution_count": 6,
   "id": "c4bd5101-958a-4b76-a23c-5ed2f7f34f0b",
   "metadata": {},
   "outputs": [
    {
     "name": "stdout",
     "output_type": "stream",
     "text": [
      "== cross-act #    1 | e:  1.3e+00 | r:   7.0\n",
      "== cross-act #    2 | e:  1.2e+00 | r:  13.0\n",
      "== cross-act #    3 | e:  2.8e-01 | r:  19.0\n",
      "== cross-act #    4 | e:  3.1e-14 | r:  20.0\n",
      "\n",
      "Result:\n",
      "TT-tensor    10D : |20|  |20|  |20|  |20|  |20|  |20|  |20|  |20|  |20|  |20|\n",
      "<rank>  =   18.3 :    \\18/  \\19/  \\19/  \\19/  \\18/  \\18/  \\18/  \\18/  \\17/\n"
     ]
    }
   ],
   "source": [
    "t = tpc()\n",
    "Y = teneva.cross_act(f, X_list, Y0, e, nswp, r, dr, dr2, log)\n",
    "Y = teneva.truncate(Y, e=1.E-16)\n",
    "t = tpc() - t\n",
    "\n",
    "print('\\nResult:')\n",
    "teneva.show(Y)"
   ]
  },
  {
   "cell_type": "markdown",
   "id": "a34e839f-2add-4820-ba77-193c3eb6ea0a",
   "metadata": {},
   "source": [
    "Finally, we can check the result:"
   ]
  },
  {
   "cell_type": "code",
   "execution_count": 7,
   "id": "59c98eca-c28c-412a-9779-1027db8b852e",
   "metadata": {},
   "outputs": [
    {
     "name": "stdout",
     "output_type": "stream",
     "text": [
      "Time (sec) :   1.161\n",
      "Error      : 2.1e-09\n"
     ]
    }
   ],
   "source": [
    "eps = teneva.accuracy(Y, Y_real)\n",
    "\n",
    "print(f'Time (sec) : {t:-7.3f}')\n",
    "print(f'Error      : {eps:-7.1e}')"
   ]
  },
  {
   "cell_type": "markdown",
   "id": "a6b88fa8-2cfa-43e2-8aa8-10e221fc3db1",
   "metadata": {},
   "source": [
    "Note that for this example, we do not have a gain in time, however, if we consider a more complex function of arguments in the TT-format, then the situation will change dramatically, since a general function cannot be calculated using simple operations in the  TT-format. For example:"
   ]
  },
  {
   "cell_type": "code",
   "execution_count": 8,
   "id": "99ecadfe-5d9c-4e3e-821a-24d64ae4f027",
   "metadata": {},
   "outputs": [],
   "source": [
    "d = 5      # Dimension of the input tensors\n",
    "n = [10]*d # Mode sizes of the input tensors (it may be list)\n",
    "\n",
    "# Random TT-tensors (inputs):\n",
    "X1 = teneva.tensor_rand(n, r=3)\n",
    "X2 = teneva.tensor_rand(n, r=4)\n",
    "X3 = teneva.tensor_rand(n, r=5)"
   ]
  },
  {
   "cell_type": "code",
   "execution_count": 9,
   "id": "1f55258f-f013-4c6e-87d6-0cef556eb22a",
   "metadata": {},
   "outputs": [],
   "source": [
    "def f(X):\n",
    "    return np.exp(-0.1 * X[:, 0]**2) + X[:, 1] + 0.42 * np.sin(X[:, 2]**2)"
   ]
  },
  {
   "cell_type": "code",
   "execution_count": 10,
   "id": "be1363ce-2cd0-4b3a-a9d8-dcd7271d2d96",
   "metadata": {},
   "outputs": [
    {
     "name": "stdout",
     "output_type": "stream",
     "text": [
      "== cross-act #    1 | e:  1.3e+00 | r:  10.8\n",
      "== cross-act #    2 | e:  5.5e-02 | r:  17.8\n",
      "== cross-act #    3 | e:  6.2e-02 | r:  23.9\n",
      "== cross-act #    4 | e:  6.8e-02 | r:  29.8\n",
      "== cross-act #    5 | e:  6.7e-02 | r:  35.7\n",
      "== cross-act #    6 | e:  7.3e-02 | r:  41.6\n",
      "== cross-act #    7 | e:  6.4e-02 | r:  47.4\n",
      "== cross-act #    8 | e:  5.8e-02 | r:  53.2\n",
      "== cross-act #    9 | e:  4.9e-02 | r:  59.1\n",
      "== cross-act #   10 | e:  2.8e-02 | r:  64.6\n",
      "== cross-act #   11 | e:  9.5e-03 | r:  65.7\n",
      "\n",
      "Result:\n",
      "TT-tensor     5D : |10|  |10|   |10|   |10|  |10|\n",
      "<rank>  =   63.0 :    \\10/  \\100/  \\100/  \\10/\n"
     ]
    }
   ],
   "source": [
    "t = tpc()\n",
    "Y = teneva.tensor_rand(n, r=1)\n",
    "Y = teneva.cross_act(f, [X1, X2, X3], Y, log=True)\n",
    "Y = teneva.truncate(Y, e=1.E-10)\n",
    "t = tpc() - t\n",
    "\n",
    "print('\\nResult:')\n",
    "teneva.show(Y)"
   ]
  },
  {
   "cell_type": "markdown",
   "id": "f752bbf7-20e7-4083-a6b3-eaa587abcc7e",
   "metadata": {},
   "source": [
    "We can check the accuracy from comparison with the full tensor:"
   ]
  },
  {
   "cell_type": "code",
   "execution_count": 11,
   "id": "10736112-65bb-45f0-8a91-14532877b768",
   "metadata": {},
   "outputs": [
    {
     "name": "stdout",
     "output_type": "stream",
     "text": [
      "Error norm : 2.2e-14\n",
      "Error max  : 6.9e-12\n"
     ]
    }
   ],
   "source": [
    "X1_full = teneva.full(X1).reshape(-1, order='F').reshape(-1, 1)\n",
    "X2_full = teneva.full(X2).reshape(-1, order='F').reshape(-1, 1)\n",
    "X3_full = teneva.full(X3).reshape(-1, order='F').reshape(-1, 1)\n",
    "\n",
    "Y_full = teneva.full(Y).reshape(-1, order='F')\n",
    "\n",
    "Y_real = f(np.hstack((X1_full, X2_full, X3_full)))\n",
    "\n",
    "e_nrm = np.linalg.norm(Y_full - Y_real) / np.linalg.norm(Y_real)\n",
    "e_max = np.max(np.abs(Y_full - Y_real))\n",
    "\n",
    "print(f'Error norm : {e_nrm:-7.1e}')\n",
    "print(f'Error max  : {e_max:-7.1e}')"
   ]
  },
  {
   "cell_type": "markdown",
   "id": "5157c326-a02c-41fc-b82d-af0d55ddfb18",
   "metadata": {},
   "source": [
    "---"
   ]
  }
 ],
 "metadata": {
  "kernelspec": {
   "display_name": "Python 3",
   "language": "python",
   "name": "python3"
  },
  "language_info": {
   "codemirror_mode": {
    "name": "ipython",
    "version": 3
   },
   "file_extension": ".py",
   "mimetype": "text/x-python",
   "name": "python",
   "nbconvert_exporter": "python",
   "pygments_lexer": "ipython3",
   "version": "3.8.8"
  }
 },
 "nbformat": 4,
 "nbformat_minor": 5
}

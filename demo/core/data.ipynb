{
 "cells": [
  {
   "cell_type": "markdown",
   "id": "e51b9291-f33c-40ad-96ee-e2f9454ffc69",
   "metadata": {},
   "source": [
    "**Demo for `teneva.core.data`**\n",
    "\n",
    "---\n",
    "\n",
    "This module contains functions for working with datasets, including \"accuracy_on_data\" function."
   ]
  },
  {
   "cell_type": "markdown",
   "id": "3896a55c-1131-44fc-b746-1433ad4ddb08",
   "metadata": {},
   "source": [
    "## Loading and importing modules"
   ]
  },
  {
   "cell_type": "code",
   "execution_count": 1,
   "id": "9941ed2c-6272-4144-8c96-4e800f0b5c49",
   "metadata": {},
   "outputs": [],
   "source": [
    "import numpy as np\n",
    "import teneva\n",
    "from time import perf_counter as tpc\n",
    "np.random.seed(42)"
   ]
  },
  {
   "cell_type": "markdown",
   "id": "c73f6184-e339-423b-a43c-51892aa3f60b",
   "metadata": {},
   "source": [
    "## Function `accuracy_on_data`"
   ]
  },
  {
   "cell_type": "markdown",
   "id": "1ba7aa15-86d0-4048-bca5-2ad506beee11",
   "metadata": {},
   "source": [
    "Compute the relative error of TT-tensor on the dataset."
   ]
  },
  {
   "cell_type": "code",
   "execution_count": 2,
   "id": "22ea3536-0dd9-4a30-bc6c-38449681bf59",
   "metadata": {},
   "outputs": [
    {
     "name": "stdout",
     "output_type": "stream",
     "text": [
      "Accuracy     : 1.35e-04\n"
     ]
    }
   ],
   "source": [
    "m = 100       # Size of the dataset\n",
    "n = [5] * 10  # Shape of the tensor\n",
    "\n",
    "# Random TT-tensor with TT-rank 2:\n",
    "Y = teneva.tensor_rand(n, 2)\n",
    "\n",
    "# Let build toy dataset:\n",
    "I_data = teneva.sample_lhs(n, m)\n",
    "Y_data = [teneva.get(Y, i) for i in I_data]\n",
    "Y_data = np.array(Y_data)\n",
    "\n",
    "# Add add some noise:\n",
    "Y_data = Y_data + 1.E-3*np.random.randn(m)\n",
    "\n",
    "# Compute the accuracy:\n",
    "eps = teneva.accuracy_on_data(Y, I_data, Y_data)\n",
    "\n",
    "print(f'Accuracy     : {eps:-8.2e}')"
   ]
  },
  {
   "cell_type": "markdown",
   "id": "5157c326-a02c-41fc-b82d-af0d55ddfb18",
   "metadata": {},
   "source": [
    "---"
   ]
  }
 ],
 "metadata": {
  "kernelspec": {
   "display_name": "Python 3",
   "language": "python",
   "name": "python3"
  },
  "language_info": {
   "codemirror_mode": {
    "name": "ipython",
    "version": 3
   },
   "file_extension": ".py",
   "mimetype": "text/x-python",
   "name": "python",
   "nbconvert_exporter": "python",
   "pygments_lexer": "ipython3",
   "version": "3.8.8"
  }
 },
 "nbformat": 4,
 "nbformat_minor": 5
}

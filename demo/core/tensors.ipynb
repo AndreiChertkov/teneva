{
 "cells": [
  {
   "cell_type": "markdown",
   "id": "e51b9291-f33c-40ad-96ee-e2f9454ffc69",
   "metadata": {},
   "source": [
    "**Demo for `teneva.collection.tensors`**\n",
    "\n",
    "---\n",
    "\n",
    "This module contains the collection of functions for explicit construction of\n",
    "various useful TT-tensors (delta function, polynomial and others)."
   ]
  },
  {
   "cell_type": "markdown",
   "id": "3896a55c-1131-44fc-b746-1433ad4ddb08",
   "metadata": {},
   "source": [
    "## Loading and importing modules"
   ]
  },
  {
   "cell_type": "code",
   "execution_count": 1,
   "id": "9941ed2c-6272-4144-8c96-4e800f0b5c49",
   "metadata": {},
   "outputs": [],
   "source": [
    "import numpy as np\n",
    "import teneva\n",
    "from time import perf_counter as tpc\n",
    "np.random.seed(42)"
   ]
  },
  {
   "cell_type": "markdown",
   "id": "bbb921a4-cfa2-4d71-a0aa-e7da1016de05",
   "metadata": {},
   "source": [
    "## Function `tensor_const`"
   ]
  },
  {
   "cell_type": "markdown",
   "id": "b2574235-d992-464b-98aa-ef1ba01fb759",
   "metadata": {},
   "source": [
    "Build TT-tensor (with TT-rank equals 1) with all values equal to given number."
   ]
  },
  {
   "cell_type": "code",
   "execution_count": 2,
   "id": "c12c8d2f-5696-401f-ad55-f78e8a128403",
   "metadata": {},
   "outputs": [
    {
     "name": "stdout",
     "output_type": "stream",
     "text": [
      "TT-tensor     5D : |10| |10| |10| |10| |10|\n",
      "<rank>  =    1.0 :    \\1/  \\1/  \\1/  \\1/\n",
      "\n",
      "Min value : 42.00000000000003\n",
      "Max value : 42.00000000000003\n"
     ]
    }
   ],
   "source": [
    "n = [10] * 5                        # Shape of the tensor  \n",
    "Y = teneva.tensor_const(n, v=42.)   # Tensor of all 42\n",
    "teneva.show(Y)                      # Print the resulting TT-tensor\n",
    "Y_full = teneva.full(Y)\n",
    "print()\n",
    "print(f'Min value : {np.min(Y_full)}')\n",
    "print(f'Max value : {np.max(Y_full)}')"
   ]
  },
  {
   "cell_type": "markdown",
   "id": "0f41497a-c406-426d-9e5b-fbc1b68886ce",
   "metadata": {},
   "source": [
    "We can, among other things, build the TT-tensor equal to zero everywhere:"
   ]
  },
  {
   "cell_type": "code",
   "execution_count": 3,
   "id": "47a7b0f6-eb26-4561-887b-32be718a9e36",
   "metadata": {},
   "outputs": [
    {
     "name": "stdout",
     "output_type": "stream",
     "text": [
      "TT-tensor     5D : |10| |10| |10| |10| |10|\n",
      "<rank>  =    1.0 :    \\1/  \\1/  \\1/  \\1/\n",
      "\n",
      "Min value : 0.0\n",
      "Max value : 0.0\n"
     ]
    }
   ],
   "source": [
    "n = [10] * 5                        # Shape of the tensor  \n",
    "Y = teneva.tensor_const(n, v=0.)    # Tensor of all zeros\n",
    "teneva.show(Y)                      # Print the resulting TT-tensor\n",
    "Y_full = teneva.full(Y)\n",
    "print()\n",
    "print(f'Min value : {np.min(Y_full)}')\n",
    "print(f'Max value : {np.max(Y_full)}')"
   ]
  },
  {
   "cell_type": "markdown",
   "id": "79e4b0e4-96b7-4873-a071-8ec78d0f0c96",
   "metadata": {},
   "source": [
    "Note that the given value is distributed evenly over the TT-cores:"
   ]
  },
  {
   "cell_type": "code",
   "execution_count": 4,
   "id": "e8d252ec-42de-40ca-ab33-aa6073b8e072",
   "metadata": {},
   "outputs": [
    {
     "name": "stdout",
     "output_type": "stream",
     "text": [
      "[42. 42. 42. 42. 42. 42. 42. 42. 42. 42.]\n"
     ]
    }
   ],
   "source": [
    "Y = teneva.tensor_const([10] * 100, v=42**100)\n",
    "print(Y[5].reshape(-1))"
   ]
  },
  {
   "cell_type": "markdown",
   "id": "974d9329-96e7-4543-87c6-e2592716d827",
   "metadata": {},
   "source": [
    "We can also set multi-indices in which the tensor is forced to zero (note that this will also necessarily lead to the appearance of other zero elements):"
   ]
  },
  {
   "cell_type": "code",
   "execution_count": 5,
   "id": "3f8be484-d4d6-42cd-a65e-05f61fc4ef81",
   "metadata": {},
   "outputs": [
    {
     "name": "stdout",
     "output_type": "stream",
     "text": [
      "Y at I[0]           : 0.0\n",
      "Y at I[1]           : 0.0\n",
      "Y at I[2]           : 0.0\n",
      "Num of zero items   : 27100\n",
      "Mean non zero value : 42.00000000000001\n"
     ]
    }
   ],
   "source": [
    "n = [10] * 5                        # Shape of the tensor\n",
    "I = [                               # Multi-indices for zeros\n",
    "    [0, 0, 0, 0, 0],\n",
    "    [1, 2, 3, 4, 5],\n",
    "    [9, 9, 9, 9, 9],\n",
    "]\n",
    "Y = teneva.tensor_const(n, v=42., I_zero=I)\n",
    "\n",
    "print(f'Y at I[0]           :', teneva.get(Y, I[0]))\n",
    "print(f'Y at I[1]           :', teneva.get(Y, I[1]))\n",
    "print(f'Y at I[2]           :', teneva.get(Y, I[2]))\n",
    "\n",
    "Y_full = teneva.full(Y)\n",
    "\n",
    "print(f'Num of zero items   :', np.sum(Y_full < 1.E-20))\n",
    "print(f'Mean non zero value :', np.sum(Y_full) / np.sum(Y_full > 1.E-20))"
   ]
  },
  {
   "cell_type": "markdown",
   "id": "0848b0ea-d6fe-4528-a1e4-316587d0577b",
   "metadata": {},
   "source": [
    "Then we specify multi-indices in which the tensor is forced to zero, we can also set one multi-index, which will not affected by zero multi-indices:"
   ]
  },
  {
   "cell_type": "code",
   "execution_count": 6,
   "id": "73a94d8a-d24a-46b1-a090-40bc2f80ed58",
   "metadata": {},
   "outputs": [
    {
     "name": "stdout",
     "output_type": "stream",
     "text": [
      "Y at i              : 42.00000000000003\n",
      "Y at I[0]           : 0.0\n",
      "Y at I[1]           : 0.0\n",
      "Y at I[2]           : 0.0\n",
      "Num of zero items   : 27100\n",
      "Mean non zero value : 42.00000000000001\n"
     ]
    }
   ],
   "source": [
    "n = [10] * 5                        # Shape of the tensor\n",
    "i = [5, 5, 5, 5, 5]                 # Multi-index for non-zero item\n",
    "I = [                               # Multi-indices for zeros\n",
    "    [0, 0, 0, 0, 0],\n",
    "    [1, 2, 3, 4, 5],\n",
    "    [9, 9, 9, 9, 9],\n",
    "]\n",
    "Y = teneva.tensor_const(n, v=42., i_non_zero=i, I_zero=I)\n",
    "\n",
    "print(f'Y at i              :', teneva.get(Y, i))\n",
    "print(f'Y at I[0]           :', teneva.get(Y, I[0]))\n",
    "print(f'Y at I[1]           :', teneva.get(Y, I[1]))\n",
    "print(f'Y at I[2]           :', teneva.get(Y, I[2]))\n",
    "\n",
    "Y_full = teneva.full(Y)\n",
    "\n",
    "print(f'Num of zero items   :', np.sum(Y_full < 1.E-20))\n",
    "print(f'Mean non zero value :', np.sum(Y_full) / np.sum(Y_full > 1.E-20))"
   ]
  },
  {
   "cell_type": "markdown",
   "id": "dffda251-27ad-49e6-87c6-2cee6bb85d6a",
   "metadata": {},
   "source": [
    "Note, if we set too many multi-indices in which the tensor is forced to zero (under which it will be impossible to keep a non-zero item), then it will lead to error:"
   ]
  },
  {
   "cell_type": "code",
   "execution_count": 7,
   "id": "84d77d31-d8e9-4cca-929f-ba9de1783e7c",
   "metadata": {},
   "outputs": [
    {
     "name": "stdout",
     "output_type": "stream",
     "text": [
      "Error : Can not set zero items\n"
     ]
    }
   ],
   "source": [
    "n = [2] * 5                         # Shape of the tensor\n",
    "i = [1, 1, 1, 1, 1]                 # Multi-index for non-zero item\n",
    "I = teneva.sample_lhs(n, 100)       # Multi-indices for zeros\n",
    "\n",
    "try:\n",
    "    Y = teneva.tensor_const(n, v=42., i_non_zero=i, I_zero=I)\n",
    "except ValueError as e:\n",
    "    print('Error :', e)"
   ]
  },
  {
   "cell_type": "markdown",
   "id": "3f6437a4-a93e-4265-9fc6-7d4f46a76c4d",
   "metadata": {},
   "source": [
    "## Function `tensor_delta`"
   ]
  },
  {
   "cell_type": "markdown",
   "id": "cfe8a9e9-ac37-4f38-8008-f81f857ad833",
   "metadata": {},
   "source": [
    "Build TT-tensor that is zero everywhere except for a given multi-index."
   ]
  },
  {
   "cell_type": "code",
   "execution_count": 8,
   "id": "068ca212-0f0f-4759-b8bd-a1460811385c",
   "metadata": {},
   "outputs": [
    {
     "name": "stdout",
     "output_type": "stream",
     "text": [
      "TT-tensor     5D : |20| |18| |16| |14| |12|\n",
      "<rank>  =    1.0 :    \\1/  \\1/  \\1/  \\1/\n"
     ]
    }
   ],
   "source": [
    "n = [20, 18, 16, 14, 12]            # Shape of the tensor\n",
    "i = [ 1,  2,  3,  4,  5]            # The multi-index for nonzero element\n",
    "v = 42.                             # The value of the tensor at multi-index \"i\"\n",
    "Y = teneva.tensor_delta(n, i, v)    # Build TT-tensor\n",
    "\n",
    "teneva.show(Y)"
   ]
  },
  {
   "cell_type": "markdown",
   "id": "24a4560e-6957-4157-b7cc-a6d1b667491a",
   "metadata": {},
   "source": [
    "Let check the result:"
   ]
  },
  {
   "cell_type": "code",
   "execution_count": 9,
   "id": "74f82ef2-ea3a-4cbb-80f4-ea92a72512dd",
   "metadata": {},
   "outputs": [
    {
     "name": "stdout",
     "output_type": "stream",
     "text": [
      "The max value multi-index: (1, 2, 3, 4, 5)\n",
      "The max value            : 42.00000000000003\n",
      "Number of nonzero items  : 1\n"
     ]
    }
   ],
   "source": [
    "Y_full = teneva.full(Y)             # Transform TT-tensor to full format\n",
    "i_max = np.argmax(Y_full)           # Find multi-index and value for max\n",
    "i_max = np.unravel_index(i_max, n)\n",
    "y_max = Y_full[i_max]\n",
    "\n",
    "# Find number of nonzero tensor items:\n",
    "s = len([y for y in Y_full.flatten() if abs(y) > 1.E-10])\n",
    "    \n",
    "print(f'The max value multi-index:', i_max)\n",
    "print(f'The max value            :', y_max)\n",
    "print(f'Number of nonzero items  :', s)"
   ]
  },
  {
   "cell_type": "markdown",
   "id": "5604873b-8e80-46c6-9c9a-18174ee184af",
   "metadata": {},
   "source": [
    "We can also build some multidimensional TT-tensor by \"delta\" function and check the norm of the result:"
   ]
  },
  {
   "cell_type": "code",
   "execution_count": 10,
   "id": "daceea34-ba0e-4396-ac47-cc1ff06145d4",
   "metadata": {},
   "outputs": [
    {
     "data": {
      "text/plain": [
       "42.00000000000021"
      ]
     },
     "execution_count": 10,
     "metadata": {},
     "output_type": "execute_result"
    }
   ],
   "source": [
    "d = 100                             # Dimension of the tensor\n",
    "n = [20] * d                        # Shape of the tensor\n",
    "i = [3] * d                         # The multi-index for nonzero element\n",
    "v = 42.                             # The value of the tensor at multi-index \"k\"\n",
    "Y = teneva.tensor_delta(n, i, v)    # Build TT-tensor\n",
    "\n",
    "teneva.norm(Y)"
   ]
  },
  {
   "cell_type": "markdown",
   "id": "8b95cd6c-6c65-4915-91db-8971ad98662e",
   "metadata": {},
   "source": [
    "## Function `tensor_poly`"
   ]
  },
  {
   "cell_type": "markdown",
   "id": "242da27a-a559-4b8a-a099-5809a96692db",
   "metadata": {},
   "source": [
    "Build TT-tensor that is polynomial like scale * (index + shift)^power."
   ]
  },
  {
   "cell_type": "code",
   "execution_count": 11,
   "id": "e8046acc-08a2-4955-9871-22048e688b2e",
   "metadata": {},
   "outputs": [
    {
     "name": "stdout",
     "output_type": "stream",
     "text": [
      "TT-tensor     5D : |10| |10| |10| |10| |10|\n",
      "<rank>  =    2.0 :    \\2/  \\2/  \\2/  \\2/\n"
     ]
    }
   ],
   "source": [
    "n = [10] * 5                        # Shape of the tensor\n",
    "shift = np.array([2, 3, 2, 3, 2])   # Shift value\n",
    "scale = 5.                          # Scale\n",
    "power = 3                           # Power\n",
    "Y = teneva.tensor_poly(n, shift, power, scale)\n",
    "teneva.show(Y)                      # Print the resulting TT-tensor"
   ]
  },
  {
   "cell_type": "markdown",
   "id": "1850c948-78a2-48a9-a825-f8caa5a86881",
   "metadata": {},
   "source": [
    "We can check the result:"
   ]
  },
  {
   "cell_type": "code",
   "execution_count": 12,
   "id": "46d068f0-174b-4599-b626-177dcee46670",
   "metadata": {},
   "outputs": [
    {
     "name": "stdout",
     "output_type": "stream",
     "text": [
      "5455.0\n",
      "5455.0\n"
     ]
    }
   ],
   "source": [
    "i = [2, 3, 3, 4, 5]\n",
    "\n",
    "y_appr = teneva.get(Y, i)\n",
    "y_real = scale * np.sum((i + shift)**power)\n",
    "\n",
    "print(y_appr)\n",
    "print(y_real)"
   ]
  },
  {
   "cell_type": "code",
   "execution_count": 13,
   "id": "a0db604f-356e-4a84-9780-473c92a5bf67",
   "metadata": {},
   "outputs": [
    {
     "name": "stdout",
     "output_type": "stream",
     "text": [
      "390.0\n",
      "390.0\n"
     ]
    }
   ],
   "source": [
    "i = np.zeros(5)\n",
    "\n",
    "y_appr = teneva.get(Y, i)\n",
    "y_real = scale * np.sum((i + shift)**power)\n",
    "\n",
    "print(y_appr)\n",
    "print(y_real)"
   ]
  },
  {
   "cell_type": "markdown",
   "id": "a3026cdb-948c-42bd-97df-2c401c4be125",
   "metadata": {},
   "source": [
    "The value of \"shift\" may be also scalar:"
   ]
  },
  {
   "cell_type": "code",
   "execution_count": 14,
   "id": "9feaf4aa-7c00-4420-a852-100f9ab3e329",
   "metadata": {},
   "outputs": [
    {
     "name": "stdout",
     "output_type": "stream",
     "text": [
      "TT-tensor     5D : |10| |10| |10| |10| |10|\n",
      "<rank>  =    2.0 :    \\2/  \\2/  \\2/  \\2/\n"
     ]
    }
   ],
   "source": [
    "Y = teneva.tensor_poly(n, 42., power, scale)\n",
    "teneva.show(Y)"
   ]
  },
  {
   "cell_type": "markdown",
   "id": "eec908da-93d2-4981-a311-812b3a356868",
   "metadata": {},
   "source": [
    "## Function `tensor_rand`"
   ]
  },
  {
   "cell_type": "markdown",
   "id": "be7d1d17-a9ac-4a83-ac61-9de99bcd9afa",
   "metadata": {},
   "source": [
    "Construct random TT-tensor."
   ]
  },
  {
   "cell_type": "code",
   "execution_count": 15,
   "id": "7e8ad8a2-0079-4565-a9d6-ff5bab5ee5dd",
   "metadata": {},
   "outputs": [
    {
     "name": "stdout",
     "output_type": "stream",
     "text": [
      "TT-tensor     5D : |12| |13| |14| |15| |16|\n",
      "<rank>  =    3.6 :    \\2/  \\3/  \\4/  \\5/\n"
     ]
    }
   ],
   "source": [
    "n = [12, 13, 14, 15, 16]      # Shape of the tensor\n",
    "r = [1, 2, 3, 4, 5, 1]        # TT-ranks for TT-tensor\n",
    "Y = teneva.tensor_rand(n, r)  # Build random TT-tensor\n",
    "teneva.show(Y)                # Print the resulting TT-tensor"
   ]
  },
  {
   "cell_type": "markdown",
   "id": "10f542fd-9d3c-4f39-b0cd-e0fafbda9f96",
   "metadata": {},
   "source": [
    "If all inner TT-ranks are equal, we may pass it as a number:"
   ]
  },
  {
   "cell_type": "code",
   "execution_count": 16,
   "id": "8b23cdc6-be87-4d07-b4cc-01a92bc6b91d",
   "metadata": {},
   "outputs": [
    {
     "name": "stdout",
     "output_type": "stream",
     "text": [
      "TT-tensor     5D : |12| |13| |14| |15| |16|\n",
      "<rank>  =    5.0 :    \\5/  \\5/  \\5/  \\5/\n"
     ]
    }
   ],
   "source": [
    "n = [12, 13, 14, 15, 16]      # Shape of the tensor\n",
    "r = 5                         # TT-ranks for TT-tensor\n",
    "Y = teneva.tensor_rand(n, r)  # Build random TT-tensor\n",
    "teneva.show(Y)                # Print the resulting TT-tensor"
   ]
  },
  {
   "cell_type": "markdown",
   "id": "5157c326-a02c-41fc-b82d-af0d55ddfb18",
   "metadata": {},
   "source": [
    "---"
   ]
  }
 ],
 "metadata": {
  "kernelspec": {
   "display_name": "Python 3",
   "language": "python",
   "name": "python3"
  },
  "language_info": {
   "codemirror_mode": {
    "name": "ipython",
    "version": 3
   },
   "file_extension": ".py",
   "mimetype": "text/x-python",
   "name": "python",
   "nbconvert_exporter": "python",
   "pygments_lexer": "ipython3",
   "version": "3.8.8"
  }
 },
 "nbformat": 4,
 "nbformat_minor": 5
}

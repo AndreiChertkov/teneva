{
 "cells": [
  {
   "cell_type": "markdown",
   "id": "e51b9291-f33c-40ad-96ee-e2f9454ffc69",
   "metadata": {},
   "source": [
    "**Demo for `teneva.core.optima`**\n",
    "\n",
    "---\n",
    "\n",
    "This module contains the function \"optima_tt\" which estimate the multi-indices of min and max of TT-tensor."
   ]
  },
  {
   "cell_type": "markdown",
   "id": "3896a55c-1131-44fc-b746-1433ad4ddb08",
   "metadata": {},
   "source": [
    "## Loading and importing modules"
   ]
  },
  {
   "cell_type": "code",
   "execution_count": 1,
   "id": "9941ed2c-6272-4144-8c96-4e800f0b5c49",
   "metadata": {},
   "outputs": [],
   "source": [
    "import numpy as np\n",
    "import teneva\n",
    "from time import perf_counter as tpc\n",
    "np.random.seed(42)"
   ]
  },
  {
   "cell_type": "markdown",
   "id": "3f6437a4-a93e-4265-9fc6-7d4f46a76c4d",
   "metadata": {},
   "source": [
    "## Function `optima_tt`"
   ]
  },
  {
   "cell_type": "markdown",
   "id": "cfe8a9e9-ac37-4f38-8008-f81f857ad833",
   "metadata": {},
   "source": [
    "Find multi-indices which relate to min and max elements of TT-tensor."
   ]
  },
  {
   "cell_type": "code",
   "execution_count": 2,
   "id": "56d0ebb4-a6ed-429f-b38f-db8ad2ec6173",
   "metadata": {},
   "outputs": [
    {
     "name": "stdout",
     "output_type": "stream",
     "text": [
      "i min appr : [14  6 15 13  8]\n",
      "i max appr : [14  6  1 13  8]\n",
      "y min appr :  -2.7379e+02\n",
      "y max appr :   3.1204e+02\n"
     ]
    }
   ],
   "source": [
    "n = [20, 18, 16, 14, 12]             # Shape of the tensor\n",
    "Y = teneva.rand(n, r=4)              # Random TT-tensor with rank 4\n",
    "i_min, i_max = teneva.optima_tt(Y)   # Multi-indices of min and max\n",
    "\n",
    "print(f'i min appr :', i_min)\n",
    "print(f'i max appr :', i_max)\n",
    "print(f'y min appr : {teneva.get(Y, i_min):-12.4e}')\n",
    "print(f'y max appr : {teneva.get(Y, i_max):-12.4e}')"
   ]
  },
  {
   "cell_type": "markdown",
   "id": "24a4560e-6957-4157-b7cc-a6d1b667491a",
   "metadata": {},
   "source": [
    "Let check the result:"
   ]
  },
  {
   "cell_type": "code",
   "execution_count": 3,
   "id": "ebd107ee-997c-49c8-b994-5c73792207c1",
   "metadata": {},
   "outputs": [
    {
     "name": "stdout",
     "output_type": "stream",
     "text": [
      "i min real : (14, 6, 15, 13, 8)\n",
      "i max real : (14, 6, 1, 13, 8)\n",
      "y min real :  -2.7379e+02\n",
      "y max real :   3.1204e+02\n"
     ]
    }
   ],
   "source": [
    "Y_full = teneva.full(Y)              # Build tensor in full format\n",
    "i_min = np.argmin(Y_full)            # Multi-indices of min and max\n",
    "i_max = np.argmax(Y_full)\n",
    "\n",
    "i_min = np.unravel_index(i_min, n)\n",
    "i_max = np.unravel_index(i_max, n)\n",
    "\n",
    "print(f'i min real :', i_min)\n",
    "print(f'i max real :', i_max)\n",
    "print(f'y min real : {Y_full[i_min]:-12.4e}')\n",
    "print(f'y max real : {Y_full[i_max]:-12.4e}')"
   ]
  },
  {
   "cell_type": "markdown",
   "id": "702f3926-713f-4729-be5d-4cb861aca8c0",
   "metadata": {},
   "source": [
    "We can check results for many random TT-tensors:"
   ]
  },
  {
   "cell_type": "code",
   "execution_count": 4,
   "id": "ce7cd807-6a43-45ca-adb3-a7005f042a48",
   "metadata": {},
   "outputs": [
    {
     "name": "stdout",
     "output_type": "stream",
     "text": [
      "-> Error for min 2.0e-16 | Error for max 1.8e-16 | Time  13.1635\n",
      "-> Error for min 3.5e-16 | Error for max 1.4e-16 | Time  12.3375\n",
      "-> Error for min 1.7e-16 | Error for max 1.5e-16 | Time  11.8886\n",
      "-> Error for min 1.8e-16 | Error for max 1.6e-16 | Time  12.7105\n",
      "-> Error for min 2.3e-16 | Error for max 0.0e+00 | Time  12.1394\n",
      "-> Error for min 2.2e-16 | Error for max 1.2e-16 | Time  11.4882\n",
      "-> Error for min 1.2e-16 | Error for max 0.0e+00 | Time  11.2730\n",
      "-> Error for min 0.0e+00 | Error for max 0.0e+00 | Time  12.2314\n",
      "-> Error for min 0.0e+00 | Error for max 0.0e+00 | Time  11.7457\n",
      "-> Error for min 1.7e-16 | Error for max 1.9e-16 | Time  12.1858\n"
     ]
    }
   ],
   "source": [
    "n = [20, 18, 16, 14, 12]           # Shape of the tensor\n",
    "\n",
    "for i in range(10):\n",
    "    Y = teneva.rand(n, r=4)\n",
    "    t = tpc()\n",
    "    i_min_appr, i_max_appr = teneva.optima_tt(Y)\n",
    "    y_min_appr = teneva.get(Y, i_min_appr)\n",
    "    y_max_appr = teneva.get(Y, i_max_appr)\n",
    "    t = tpc() - t\n",
    "\n",
    "    Y_full = teneva.full(Y)\n",
    "    i_min_real = np.unravel_index(np.argmin(Y_full), n)\n",
    "    i_max_real = np.unravel_index(np.argmax(Y_full), n)\n",
    "    y_min_real = Y_full[i_min_real]\n",
    "    y_max_real = Y_full[i_max_real]\n",
    "    \n",
    "    e_min = np.abs(y_min_appr - y_min_real) / np.abs(y_min_real)\n",
    "    e_max = np.abs(y_max_appr - y_max_real) / np.abs(y_max_real)\n",
    "\n",
    "    print(f'-> Error for min {e_min:-7.1e} | Error for max {e_max:-7.1e} | Time {t:-8.4f}')"
   ]
  },
  {
   "cell_type": "markdown",
   "id": "9fb931a0-1f16-45bb-8efc-2d341f1af2af",
   "metadata": {},
   "source": [
    "We can also check it for real data (we build TT-tensor using TT-SVD here). Note that we shift all functions up by $0.5$ to ensure that its min/max values are nonzero, since we compute the relative error for result."
   ]
  },
  {
   "cell_type": "code",
   "execution_count": 5,
   "id": "350d28ba-8d91-4663-8544-497080496ea8",
   "metadata": {},
   "outputs": [
    {
     "name": "stdout",
     "output_type": "stream",
     "text": [
      "-> Ackley               | TT-rank   9.4 | Error for min 2.0e-16 | Error for max 0.0e+00 | Time  67.3289 | \n",
      "-> Alpine               | TT-rank   2.0 | Error for min 7.7e-16 | Error for max 0.0e+00 | Time   4.1661 | \n",
      "-> Brown                | TT-rank  10.3 | Error for min 1.9e-07 | Error for max 1.6e-15 | Time   7.1807 | \n",
      "-> Dixon                | TT-rank   6.4 | Error for min 1.0e-12 | Error for max 0.0e+00 | Time  47.6515 | \n",
      "-> Exponential          | TT-rank   2.0 | Error for min 1.1e-16 | Error for max 0.0e+00 | Time   4.8663 | \n",
      "-> Grienwank            | TT-rank   4.2 | Error for min 1.0e-15 | Error for max 0.0e+00 | Time  19.6661 | \n",
      "-> Michalewicz          | TT-rank   2.0 | Error for min 0.0e+00 | Error for max 0.0e+00 | Time   4.4783 | \n",
      "-> Qing                 | TT-rank   6.0 | Error for min 4.6e-08 | Error for max 1.6e-16 | Time   4.5721 | \n",
      "-> Rastrigin            | TT-rank   4.6 | Error for min 4.8e-16 | Error for max 0.0e+00 | Time   4.3950 | \n",
      "-> Rosenbrock           | TT-rank   6.4 | Error for min 4.2e-14 | Error for max 3.7e-16 | Time  23.6570 | \n",
      "-> Schaffer             | TT-rank   8.7 | Error for min 1.2e-16 | Error for max 0.0e+00 | Time  90.7938 | \n",
      "-> Schwefel             | TT-rank   4.8 | Error for min 4.9e-16 | Error for max 0.0e+00 | Time   4.3879 | \n"
     ]
    }
   ],
   "source": [
    "d = 6   # Dimension\n",
    "n = 16  # Grid size\n",
    "\n",
    "for func in teneva.func_demo_all(d, dy=0.5):\n",
    "    # Set the uniform grid:\n",
    "    func.set_grid(n, kind='uni')\n",
    "    \n",
    "    # Build full tensor on the grid:\n",
    "    I_full = teneva.grid_flat(func.n)\n",
    "    Y_full_real = func.get_f_ind(I_full).reshape(func.n, order='F')\n",
    "\n",
    "    # Build TT-approximation by TT-SVD:\n",
    "    Y = teneva.svd(Y_full_real, e=1.E-8)\n",
    "    Y = teneva.truncate(Y, e=1.E-8)\n",
    "    r = teneva.erank(Y)\n",
    "\n",
    "    # Compute the exact min and max for TT-tensor:\n",
    "    Y_full = teneva.full(Y)\n",
    "    y_min_real = np.min(Y_full)\n",
    "    y_max_real = np.max(Y_full)\n",
    "\n",
    "    # Find the minimum and maximum of TT-tensor by opt_tt:\n",
    "    t = tpc()\n",
    "    i_min_appr, i_max_appr = teneva.optima_tt(Y)\n",
    "    y_min_appr = teneva.get(Y, i_min_appr)\n",
    "    y_max_appr = teneva.get(Y, i_max_appr)\n",
    "    t = tpc() - t\n",
    "    \n",
    "    # Check the accuracy of result:\n",
    "    e_min = abs((y_min_real - y_min_appr) / y_min_real)\n",
    "    e_max = abs((y_max_real - y_max_appr) / y_max_real)\n",
    "    \n",
    "    # Present the result:\n",
    "    text = '-> ' + func.name + ' ' * max(0, 20 - len(func.name)) + ' | '\n",
    "    text += f'TT-rank {r:-5.1f} | '\n",
    "    text += f'Error for min {e_min:-7.1e} | '\n",
    "    text += f'Error for max {e_max:-7.1e} | '\n",
    "    text += f'Time {t:-8.4f} | '\n",
    "    print(text)"
   ]
  },
  {
   "cell_type": "markdown",
   "id": "dedd8395-60df-414d-a299-c8162a448d1b",
   "metadata": {},
   "source": [
    "We can also check it for real data with TT-CROSS approach:"
   ]
  },
  {
   "cell_type": "code",
   "execution_count": 6,
   "id": "94f2ff7b-735f-401e-8258-fe50d1478388",
   "metadata": {},
   "outputs": [
    {
     "name": "stdout",
     "output_type": "stream",
     "text": [
      "-> Ackley               | TT-rank  11.6 | Error for min 0.0e+00 | Error for max 0.0e+00 | Time  24.7605 | \n",
      "-> Alpine               | TT-rank   5.9 | Error for min 0.0e+00 | Error for max 0.0e+00 | Time   4.3136 | \n",
      "-> Brown                | TT-rank  11.0 | Error for min 8.2e-10 | Error for max 1.4e-15 | Time   8.2437 | \n",
      "-> Dixon                | TT-rank   7.6 | Error for min 1.9e-12 | Error for max 2.4e-16 | Time  43.5570 | \n",
      "-> Exponential          | TT-rank   6.5 | Error for min 0.0e+00 | Error for max 0.0e+00 | Time   4.5935 | \n",
      "-> Grienwank            | TT-rank   5.4 | Error for min 4.6e-16 | Error for max 6.3e-16 | Time  18.6133 | \n",
      "-> Michalewicz          | TT-rank   6.7 | Error for min 0.0e+00 | Error for max 5.1e-15 | Time   4.6087 | \n",
      "-> Qing                 | TT-rank   9.3 | Error for min 9.8e-09 | Error for max 3.3e-16 | Time   5.5653 | \n",
      "-> Rastrigin            | TT-rank   4.4 | Error for min 4.0e-14 | Error for max 1.2e-16 | Time   4.4308 | \n",
      "-> Rosenbrock           | TT-rank   3.7 | Error for min 1.5e-13 | Error for max 3.7e-16 | Time  18.4874 | \n",
      "-> Schaffer             | TT-rank  13.1 | Error for min 1.2e-16 | Error for max 0.0e+00 | Time  91.9653 | \n",
      "-> Schwefel             | TT-rank   6.7 | Error for min 4.9e-16 | Error for max 1.9e-16 | Time   4.6551 | \n"
     ]
    }
   ],
   "source": [
    "d = 6   # Dimension\n",
    "n = 16  # Grid size\n",
    "\n",
    "for func in teneva.func_demo_all(d, dy=0.5):\n",
    "    # Set the uniform grid:\n",
    "    func.set_grid(n, kind='uni')\n",
    "\n",
    "    # Build TT-approximation by TT-CROSS:\n",
    "    Y = teneva.rand(func.n, r=1)\n",
    "    Y = teneva.cross(func.get_f_ind, Y, m=1.E+5, dr_max=1, cache={})\n",
    "    Y = teneva.truncate(Y, e=1.E-8)\n",
    "    r = teneva.erank(Y)\n",
    "\n",
    "    # Compute the exact min and max for TT-tensor:\n",
    "    Y_full = teneva.full(Y)\n",
    "    y_min_real = np.min(Y_full)\n",
    "    y_max_real = np.max(Y_full)\n",
    "    \n",
    "    # Find the minimum and maximum of TT-tensor by opt_tt:\n",
    "    t = tpc()\n",
    "    i_min_appr, i_max_appr = teneva.optima_tt(Y)\n",
    "    y_min_appr = teneva.get(Y, i_min_appr)\n",
    "    y_max_appr = teneva.get(Y, i_max_appr)\n",
    "    t = tpc() - t\n",
    "    \n",
    "    # Check the accuracy of result:\n",
    "    e_min = abs((y_min_real - y_min_appr) / y_min_real)\n",
    "    e_max = abs((y_max_real - y_max_appr) / y_max_real)\n",
    "    \n",
    "    # Present the result:\n",
    "    text = '-> ' + func.name + ' ' * max(0, 20 - len(func.name)) + ' | '\n",
    "    text += f'TT-rank {r:-5.1f} | '\n",
    "    text += f'Error for min {e_min:-7.1e} | '\n",
    "    text += f'Error for max {e_max:-7.1e} | '\n",
    "    text += f'Time {t:-8.4f} | '\n",
    "    print(text)"
   ]
  },
  {
   "cell_type": "markdown",
   "id": "464498e1-e24a-48b1-8fb7-40f801e9527c",
   "metadata": {},
   "source": [
    "Note that the default value for the number of iterations \"nswp\" is 5 and the maximum TT-rank \"r\" is 70 (to accurately find a good optimum value for any tensors), because of this, the calculation time is significant, however, for most cases, we can choose smaller values for this parameters without loss of accuracy (in the calculation below we have poor accuracy only for the Rosenbrock function):"
   ]
  },
  {
   "cell_type": "code",
   "execution_count": 7,
   "id": "d1c9c26a-7a22-4c11-8fdb-291a6f86c6af",
   "metadata": {},
   "outputs": [
    {
     "name": "stdout",
     "output_type": "stream",
     "text": [
      "-> Ackley               | TT-rank   9.7 | Error for min 2.0e-16 | Error for max 0.0e+00 | Time   2.3472 | \n",
      "-> Alpine               | TT-rank   5.9 | Error for min 0.0e+00 | Error for max 0.0e+00 | Time   1.6951 | \n",
      "-> Brown                | TT-rank  10.4 | Error for min 1.6e-08 | Error for max 1.8e-15 | Time   2.0084 | \n",
      "-> Dixon                | TT-rank   7.4 | Error for min 3.7e-13 | Error for max 0.0e+00 | Time   1.7882 | \n",
      "-> Exponential          | TT-rank   6.5 | Error for min 0.0e+00 | Error for max 0.0e+00 | Time   1.6171 | \n",
      "-> Grienwank            | TT-rank   5.4 | Error for min 4.6e-16 | Error for max 6.3e-16 | Time   1.8282 | \n",
      "-> Michalewicz          | TT-rank   6.7 | Error for min 0.0e+00 | Error for max 5.1e-15 | Time   1.6728 | \n",
      "-> Qing                 | TT-rank   9.3 | Error for min 9.8e-09 | Error for max 3.3e-16 | Time   1.8709 | \n",
      "-> Rastrigin            | TT-rank   7.9 | Error for min 1.1e-15 | Error for max 0.0e+00 | Time   1.6748 | \n",
      "-> Rosenbrock           | TT-rank   3.7 | Error for min 5.8e+00 | Error for max 3.7e-16 | Time   1.8661 | \n",
      "-> Schaffer             | TT-rank  11.8 | Error for min 1.2e-16 | Error for max 4.0e-16 | Time   2.1830 | \n",
      "-> Schwefel             | TT-rank   6.7 | Error for min 4.9e-16 | Error for max 1.9e-16 | Time   1.7501 | \n"
     ]
    }
   ],
   "source": [
    "d = 6   # Dimension\n",
    "n = 16  # Grid size\n",
    "\n",
    "for func in teneva.func_demo_all(d, dy=0.5):\n",
    "    # Set the uniform grid:\n",
    "    func.set_grid(n, kind='uni')\n",
    "\n",
    "    # Build TT-approximation by TT-CROSS:\n",
    "    Y = teneva.rand(func.n, r=1)\n",
    "    Y = teneva.cross(func.get_f_ind, Y, m=1.E+5, dr_max=1, cache={})\n",
    "    Y = teneva.truncate(Y, e=1.E-8)\n",
    "    r = teneva.erank(Y)\n",
    "\n",
    "    # Compute the exact min and max for TT-tensor:\n",
    "    Y_full = teneva.full(Y)\n",
    "    y_min_real = np.min(Y_full)\n",
    "    y_max_real = np.max(Y_full)\n",
    "    \n",
    "    # Find the minimum and maximum of TT-tensor by opt_tt\n",
    "    # (note that we have reduced the number of sweeps):\n",
    "    t = tpc()\n",
    "    i_min_appr, i_max_appr = teneva.optima_tt(Y, nswp=1)\n",
    "    y_min_appr = teneva.get(Y, i_min_appr)\n",
    "    y_max_appr = teneva.get(Y, i_max_appr)\n",
    "    t = tpc() - t\n",
    "    \n",
    "    # Check the accuracy of result:\n",
    "    e_min = abs((y_min_real - y_min_appr) / y_min_real)\n",
    "    e_max = abs((y_max_real - y_max_appr) / y_max_real)\n",
    "    \n",
    "    # Present the result:\n",
    "    text = '-> ' + func.name + ' ' * max(0, 20 - len(func.name)) + ' | '\n",
    "    text += f'TT-rank {r:-5.1f} | '\n",
    "    text += f'Error for min {e_min:-7.1e} | '\n",
    "    text += f'Error for max {e_max:-7.1e} | '\n",
    "    text += f'Time {t:-8.4f} | '\n",
    "    print(text)"
   ]
  },
  {
   "cell_type": "markdown",
   "id": "3c5ea37a-66a1-4686-9daa-3ede2cbd0093",
   "metadata": {},
   "source": [
    "We can also log the optimization process (note that for the Rosenbrock function it takes quite a lot of iterations to get a good minimum and maximum value):"
   ]
  },
  {
   "cell_type": "code",
   "execution_count": 8,
   "id": "79127d3c-6423-4d13-88c6-51716d141944",
   "metadata": {},
   "outputs": [
    {
     "name": "stdout",
     "output_type": "stream",
     "text": [
      "Real values for TT-tensor        | y_min =    1.4047443e+00 | y_max =    1.9530131e+04 |\n",
      "\n",
      "outer : pre | ... | rank =   3.7 | y_min =    1.2690465e+01 | y_max =    1.9530131e+04 | \n",
      "outer :   1 | ... | \n",
      "inner :   0 | MIN | rank =   4.7 | y_min =    1.2690465e+01 | y_max =    1.9530131e+04 | y_eps =    0.0000000e+00 | \n",
      "inner :   1 | MIN | rank =   7.9 | y_min =    9.4878651e+00 | y_max =    1.9530131e+04 | y_eps =    3.2025997e+00 | \n",
      "inner :   2 | MIN | rank =  15.6 | y_min =    7.7716161e+00 | y_max =    1.9530131e+04 | y_eps =    1.7162491e+00 | \n",
      "inner :   3 | MIN | rank =  25.1 | y_min =    7.0541898e+00 | y_max =    1.9530131e+04 | y_eps =    7.1742622e-01 | \n",
      "inner :   4 | MIN | rank =  28.8 | y_min =    6.7889801e+00 | y_max =    1.9530131e+04 | y_eps =    2.6520974e-01 | \n",
      "inner :   5 | MIN | rank =  30.5 | y_min =    1.4047443e+00 | y_max =    1.9530131e+04 | y_eps =    5.3842358e+00 | \n",
      "inner :   0 | MAX | rank =   4.7 | y_min =    1.4047443e+00 | y_max =    1.9530131e+04 | y_eps =    0.0000000e+00 | \n",
      "inner :   1 | MAX | rank =   8.0 | y_min =    1.4047443e+00 | y_max =    1.9530131e+04 | y_eps =    0.0000000e+00 | \n",
      "inner :   2 | MAX | rank =  15.8 | y_min =    1.4047443e+00 | y_max =    1.9530131e+04 | y_eps =    0.0000000e+00 | \n",
      "inner :   3 | MAX | rank =  35.8 | y_min =    1.4047443e+00 | y_max =    1.9530131e+04 | y_eps =    0.0000000e+00 | \n"
     ]
    }
   ],
   "source": [
    "func = teneva.FuncDemoRosenbrock(d=6, dy=0.5)\n",
    "func.set_grid(n=16, kind='uni')\n",
    "\n",
    "Y = teneva.rand(func.n, r=1)\n",
    "Y = teneva.cross(func.get_f_ind, Y, m=1.E+5, dr_max=1, cache={})\n",
    "Y = teneva.truncate(Y, e=1.E-8)\n",
    "\n",
    "Y_full = teneva.full(Y)\n",
    "y_min = np.min(Y_full)\n",
    "y_max = np.max(Y_full)\n",
    "print(f'Real values for TT-tensor        | y_min = {y_min:-16.7e} | y_max = {y_max:-16.7e} |\\n')\n",
    "    \n",
    "i_min_appr, i_max_appr = teneva.optima_tt(Y, log=True)"
   ]
  },
  {
   "cell_type": "markdown",
   "id": "5157c326-a02c-41fc-b82d-af0d55ddfb18",
   "metadata": {},
   "source": [
    "---"
   ]
  }
 ],
 "metadata": {
  "kernelspec": {
   "display_name": "Python 3",
   "language": "python",
   "name": "python3"
  },
  "language_info": {
   "codemirror_mode": {
    "name": "ipython",
    "version": 3
   },
   "file_extension": ".py",
   "mimetype": "text/x-python",
   "name": "python",
   "nbconvert_exporter": "python",
   "pygments_lexer": "ipython3",
   "version": "3.8.8"
  }
 },
 "nbformat": 4,
 "nbformat_minor": 5
}

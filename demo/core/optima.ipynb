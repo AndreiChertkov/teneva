{
 "cells": [
  {
   "cell_type": "markdown",
   "id": "e51b9291-f33c-40ad-96ee-e2f9454ffc69",
   "metadata": {},
   "source": [
    "**Demo for `teneva.core.optima`**\n",
    "\n",
    "---\n",
    "\n",
    "This module contains the functions for estimation of min and max value of the tensor."
   ]
  },
  {
   "cell_type": "markdown",
   "id": "3896a55c-1131-44fc-b746-1433ad4ddb08",
   "metadata": {},
   "source": [
    "## Loading and importing modules"
   ]
  },
  {
   "cell_type": "code",
   "execution_count": 1,
   "id": "9941ed2c-6272-4144-8c96-4e800f0b5c49",
   "metadata": {},
   "outputs": [],
   "source": [
    "import numpy as np\n",
    "import teneva\n",
    "from time import perf_counter as tpc\n",
    "np.random.seed(42)"
   ]
  },
  {
   "cell_type": "markdown",
   "id": "24a9cce4-1c75-415c-bd2b-3531d5e51742",
   "metadata": {},
   "source": [
    "## Function `optima_qtt`"
   ]
  },
  {
   "cell_type": "markdown",
   "id": "91c0863b-3af9-4d5d-8761-715194fcabb6",
   "metadata": {},
   "source": [
    "Find items which relate to min and max elements of the given TT-tensor. The provided TT-tensor \"Y\" is transformed into the QTT-format and then \"optima_tt\" method is applied to this QTT-tensor. Note that this method support only the tensors with constant mode size, which is a power of two, i.e., the shape should be \"[2^q, 2^q, ..., 2^q]\"."
   ]
  },
  {
   "cell_type": "code",
   "execution_count": 2,
   "id": "02f61df7-c3c8-44ff-9875-77ef70d6321d",
   "metadata": {},
   "outputs": [
    {
     "name": "stdout",
     "output_type": "stream",
     "text": [
      "i min appr : [ 3  7 11  7 12]\n",
      "i max appr : [ 3  7  7 11 12]\n",
      "y min appr :  -1.6496e+02\n",
      "y max appr :   1.9745e+02\n"
     ]
    }
   ],
   "source": [
    "d = 5                           # Dimension\n",
    "q = 4                           # Mode size factor\n",
    "n = [2**q]*d                    # Shape of the tensor\n",
    "Y = teneva.tensor_rand(n, r=4)  # Random TT-tensor with rank 4\n",
    "\n",
    "i_min, y_min, i_max, y_max = teneva.optima_qtt(Y)\n",
    "\n",
    "print(f'i min appr :', i_min)\n",
    "print(f'i max appr :', i_max)\n",
    "print(f'y min appr : {y_min:-12.4e}')\n",
    "print(f'y max appr : {y_max:-12.4e}')"
   ]
  },
  {
   "cell_type": "markdown",
   "id": "9275101f-bd81-4a21-9def-7cfd38d8cc1e",
   "metadata": {},
   "source": [
    "Let check the result:"
   ]
  },
  {
   "cell_type": "code",
   "execution_count": 3,
   "id": "3a526d03-da76-4001-bdf5-e040b377ca52",
   "metadata": {},
   "outputs": [
    {
     "name": "stdout",
     "output_type": "stream",
     "text": [
      "i min real : (3, 7, 11, 7, 12)\n",
      "i max real : (3, 7, 7, 11, 12)\n",
      "y min real :  -1.6496e+02\n",
      "y max real :   1.9745e+02\n"
     ]
    }
   ],
   "source": [
    "Y_full = teneva.full(Y)   # Transform the TT-tensor to full format\n",
    "i_min = np.argmin(Y_full) # Multi-index of the minimum\n",
    "i_max = np.argmax(Y_full) # Multi-index of the maximum\n",
    "\n",
    "i_min = np.unravel_index(i_min, n)\n",
    "i_max = np.unravel_index(i_max, n)\n",
    "\n",
    "print(f'i min real :', i_min)\n",
    "print(f'i max real :', i_max)\n",
    "print(f'y min real : {Y_full[i_min]:-12.4e}')\n",
    "print(f'y max real : {Y_full[i_max]:-12.4e}')"
   ]
  },
  {
   "cell_type": "markdown",
   "id": "d5ffead5-bacf-4c1b-ba27-596e1ab36dbf",
   "metadata": {},
   "source": [
    "We can check results for many random TT-tensors:"
   ]
  },
  {
   "cell_type": "code",
   "execution_count": 4,
   "id": "a6e74783-0ee9-4c86-9945-32029ce2fe38",
   "metadata": {},
   "outputs": [
    {
     "name": "stdout",
     "output_type": "stream",
     "text": [
      "-> Error for min 5.7e-14 | Error for max 2.8e-14 | Time   0.0552\n",
      "-> Error for min 0.0e+00 | Error for max 5.7e-14 | Time   0.0471\n",
      "-> Error for min 5.7e-14 | Error for max 0.0e+00 | Time   0.0450\n",
      "-> Error for min 0.0e+00 | Error for max 2.8e-14 | Time   0.0485\n",
      "-> Error for min 5.7e-14 | Error for max 2.8e-14 | Time   0.0465\n",
      "-> Error for min 0.0e+00 | Error for max 5.7e-14 | Time   0.0446\n",
      "-> Error for min 0.0e+00 | Error for max 0.0e+00 | Time   0.0436\n",
      "-> Error for min 5.7e-14 | Error for max 0.0e+00 | Time   0.0442\n",
      "-> Error for min 2.8e-14 | Error for max 2.8e-14 | Time   0.0445\n",
      "-> Error for min 0.0e+00 | Error for max 0.0e+00 | Time   0.0451\n"
     ]
    }
   ],
   "source": [
    "d = 5        # Dimension\n",
    "q = 4        # Mode size factor\n",
    "n = [2**q]*d # Shape of the tensor\n",
    "\n",
    "for i in range(10):\n",
    "    Y = teneva.tensor_rand(n, r=4)\n",
    "    t = tpc()\n",
    "    i_min_appr, y_min_appr, i_max_appr, y_max_appr = teneva.optima_qtt(Y)\n",
    "    t = tpc() - t\n",
    "\n",
    "    Y_full = teneva.full(Y)\n",
    "    i_min_real = np.unravel_index(np.argmin(Y_full), n)\n",
    "    i_max_real = np.unravel_index(np.argmax(Y_full), n)\n",
    "    y_min_real = Y_full[i_min_real]\n",
    "    y_max_real = Y_full[i_max_real]\n",
    "    \n",
    "    e_min = abs(y_min_appr - y_min_real)\n",
    "    e_max = abs(y_max_appr - y_max_real)\n",
    "\n",
    "    print(f'-> Error for min {e_min:-7.1e} | Error for max {e_max:-7.1e} | Time {t:-8.4f}')"
   ]
  },
  {
   "cell_type": "markdown",
   "id": "089e37c3-8971-4824-932e-2f1d2139fddf",
   "metadata": {},
   "source": [
    "We can also check it for real data (we build TT-tensor using TT-cross method here):"
   ]
  },
  {
   "cell_type": "code",
   "execution_count": 5,
   "id": "821600f4-fc2d-415c-be8f-30449715e3b6",
   "metadata": {},
   "outputs": [
    {
     "name": "stdout",
     "output_type": "stream",
     "text": [
      "-> Ackley               | TT-rank  10.6 | Error for min 0.0e+00 | Error for max 0.0e+00 | Time   1.1847 | \n",
      "-> Alpine               | TT-rank   2.7 | Error for min 4.4e-02 | Error for max 0.0e+00 | Time   0.0464 | \n",
      "-> Dixon                | TT-rank   6.1 | Error for min 6.5e-12 | Error for max 1.2e-10 | Time   0.2533 | \n",
      "-> Exponential          | TT-rank   3.7 | Error for min 1.1e-16 | Error for max 0.0e+00 | Time   0.0631 | \n",
      "-> Grienwank            | TT-rank   5.9 | Error for min 2.7e-13 | Error for max 1.1e-13 | Time   0.2163 | \n",
      "-> Michalewicz          | TT-rank   4.5 | Error for min 1.8e-15 | Error for max 4.9e-13 | Time   0.1033 | \n",
      "-> Qing                 | TT-rank   5.0 | Error for min 3.8e-07 | Error for max 1.2e-04 | Time   0.1472 | \n",
      "-> Rastrigin            | TT-rank   5.0 | Error for min 6.0e-13 | Error for max 2.0e-13 | Time   0.1660 | \n",
      "-> Rosenbrock           | TT-rank   5.9 | Error for min 2.4e-13 | Error for max 0.0e+00 | Time   0.1994 | \n",
      "-> Schaffer             | TT-rank  12.6 | Error for min 4.1e-13 | Error for max 7.5e-12 | Time   2.2795 | \n",
      "-> Schwefel             | TT-rank   6.9 | Error for min 2.0e-13 | Error for max 0.0e+00 | Time   0.3411 | \n"
     ]
    }
   ],
   "source": [
    "d = 6        # Dimension\n",
    "q = 4        # Mode size factor\n",
    "n = [2**q]*d # Shape of the tensor\n",
    "\n",
    "for func in teneva.func_demo_all(d):#, dy=0.5):\n",
    "    # Set the uniform grid:\n",
    "    func.set_grid(n, kind='uni')\n",
    "\n",
    "    # Build TT-approximation by TT-CROSS:\n",
    "    Y = teneva.tensor_rand(func.n, r=1)\n",
    "    Y = teneva.cross(func.get_f_ind, Y, m=1.E+5, dr_max=1, cache={})\n",
    "    Y = teneva.truncate(Y, e=1.E-8)\n",
    "    r = teneva.erank(Y)\n",
    "\n",
    "    # Compute the exact min and max for TT-tensor:\n",
    "    Y_full = teneva.full(Y)\n",
    "    y_min_real = np.min(Y_full)\n",
    "    y_max_real = np.max(Y_full)\n",
    "    \n",
    "    # Find the minimum and maximum of TT-tensor by opt_tt:\n",
    "    t = tpc()\n",
    "    i_min_appr, y_min_appr, i_max_appr, y_max_appr = teneva.optima_qtt(Y)\n",
    "    y_min_appr = teneva.get(Y, i_min_appr)\n",
    "    y_max_appr = teneva.get(Y, i_max_appr)\n",
    "    t = tpc() - t\n",
    "    \n",
    "    # Check the accuracy of result:\n",
    "    e_min = abs(y_min_real - y_min_appr)\n",
    "    e_max = abs(y_max_real - y_max_appr)\n",
    "    \n",
    "    # Present the result:\n",
    "    text = '-> ' + func.name + ' ' * max(0, 20 - len(func.name)) + ' | '\n",
    "    text += f'TT-rank {r:-5.1f} | '\n",
    "    text += f'Error for min {e_min:-7.1e} | '\n",
    "    text += f'Error for max {e_max:-7.1e} | '\n",
    "    text += f'Time {t:-8.4f} | '\n",
    "    print(text)"
   ]
  },
  {
   "cell_type": "markdown",
   "id": "3f6437a4-a93e-4265-9fc6-7d4f46a76c4d",
   "metadata": {},
   "source": [
    "## Function `optima_tt`"
   ]
  },
  {
   "cell_type": "markdown",
   "id": "cfe8a9e9-ac37-4f38-8008-f81f857ad833",
   "metadata": {},
   "source": [
    "Find items which relate to min and max elements of the given TT-tensor."
   ]
  },
  {
   "cell_type": "code",
   "execution_count": 6,
   "id": "56d0ebb4-a6ed-429f-b38f-db8ad2ec6173",
   "metadata": {},
   "outputs": [
    {
     "name": "stdout",
     "output_type": "stream",
     "text": [
      "i min appr : [6 4 3 0 7]\n",
      "i max appr : [6 4 3 0 9]\n",
      "y min appr :  -2.6654e+02\n",
      "y max appr :   2.9885e+02\n"
     ]
    }
   ],
   "source": [
    "n = [20, 18, 16, 14, 12]        # Shape of the tensor\n",
    "Y = teneva.tensor_rand(n, r=4)  # Random TT-tensor with rank 4\n",
    "\n",
    "i_min, y_min, i_max, y_max = teneva.optima_tt(Y)\n",
    "\n",
    "print(f'i min appr :', i_min)\n",
    "print(f'i max appr :', i_max)\n",
    "print(f'y min appr : {y_min:-12.4e}')\n",
    "print(f'y max appr : {y_max:-12.4e}')"
   ]
  },
  {
   "cell_type": "markdown",
   "id": "24a4560e-6957-4157-b7cc-a6d1b667491a",
   "metadata": {},
   "source": [
    "Let check the result:"
   ]
  },
  {
   "cell_type": "code",
   "execution_count": 7,
   "id": "ebd107ee-997c-49c8-b994-5c73792207c1",
   "metadata": {},
   "outputs": [
    {
     "name": "stdout",
     "output_type": "stream",
     "text": [
      "i min real : (6, 4, 3, 0, 7)\n",
      "i max real : (6, 4, 3, 0, 9)\n",
      "y min real :  -2.6654e+02\n",
      "y max real :   2.9885e+02\n"
     ]
    }
   ],
   "source": [
    "Y_full = teneva.full(Y)   # Transform the TT-tensor to full format\n",
    "i_min = np.argmin(Y_full) # Multi-index of the minimum\n",
    "i_max = np.argmax(Y_full) # Multi-index of the maximum\n",
    "\n",
    "i_min = np.unravel_index(i_min, n)\n",
    "i_max = np.unravel_index(i_max, n)\n",
    "\n",
    "print(f'i min real :', i_min)\n",
    "print(f'i max real :', i_max)\n",
    "print(f'y min real : {Y_full[i_min]:-12.4e}')\n",
    "print(f'y max real : {Y_full[i_max]:-12.4e}')"
   ]
  },
  {
   "cell_type": "markdown",
   "id": "702f3926-713f-4729-be5d-4cb861aca8c0",
   "metadata": {},
   "source": [
    "We can check results for many random TT-tensors:"
   ]
  },
  {
   "cell_type": "code",
   "execution_count": 8,
   "id": "ce7cd807-6a43-45ca-adb3-a7005f042a48",
   "metadata": {},
   "outputs": [
    {
     "name": "stdout",
     "output_type": "stream",
     "text": [
      "-> Error for min 2.8e-14 | Error for max 2.8e-14 | Time   0.0177\n",
      "-> Error for min 0.0e+00 | Error for max 0.0e+00 | Time   0.0129\n",
      "-> Error for min 5.7e-14 | Error for max 2.8e-14 | Time   0.0106\n",
      "-> Error for min 0.0e+00 | Error for max 2.8e-14 | Time   0.0105\n",
      "-> Error for min 5.7e-14 | Error for max 0.0e+00 | Time   0.0106\n",
      "-> Error for min 2.8e-14 | Error for max 2.8e-14 | Time   0.0107\n",
      "-> Error for min 5.7e-14 | Error for max 0.0e+00 | Time   0.0104\n",
      "-> Error for min 0.0e+00 | Error for max 5.7e-14 | Time   0.0108\n",
      "-> Error for min 0.0e+00 | Error for max 0.0e+00 | Time   0.0116\n",
      "-> Error for min 0.0e+00 | Error for max 2.8e-14 | Time   0.0115\n"
     ]
    }
   ],
   "source": [
    "n = [20, 18, 16, 14, 12]\n",
    "\n",
    "for i in range(10):\n",
    "    Y = teneva.tensor_rand(n, r=4)\n",
    "    t = tpc()\n",
    "    i_min_appr, y_min_appr, i_max_appr, y_max_appr = teneva.optima_tt(Y)\n",
    "    t = tpc() - t\n",
    "\n",
    "    Y_full = teneva.full(Y)\n",
    "    i_min_real = np.unravel_index(np.argmin(Y_full), n)\n",
    "    i_max_real = np.unravel_index(np.argmax(Y_full), n)\n",
    "    y_min_real = Y_full[i_min_real]\n",
    "    y_max_real = Y_full[i_max_real]\n",
    "    \n",
    "    e_min = abs(y_min_appr - y_min_real)\n",
    "    e_max = abs(y_max_appr - y_max_real)\n",
    "\n",
    "    print(f'-> Error for min {e_min:-7.1e} | Error for max {e_max:-7.1e} | Time {t:-8.4f}')"
   ]
  },
  {
   "cell_type": "markdown",
   "id": "9fb931a0-1f16-45bb-8efc-2d341f1af2af",
   "metadata": {},
   "source": [
    "We can also check it for real data (we build TT-tensor using TT-cross method here):"
   ]
  },
  {
   "cell_type": "code",
   "execution_count": 9,
   "id": "94f2ff7b-735f-401e-8258-fe50d1478388",
   "metadata": {},
   "outputs": [
    {
     "name": "stdout",
     "output_type": "stream",
     "text": [
      "-> Ackley               | TT-rank  10.6 | Error for min 7.1e-15 | Error for max 3.6e-15 | Time   0.1515 | \n",
      "-> Alpine               | TT-rank   2.7 | Error for min 0.0e+00 | Error for max 0.0e+00 | Time   0.0203 | \n",
      "-> Dixon                | TT-rank   5.7 | Error for min 6.0e-13 | Error for max 0.0e+00 | Time   0.0395 | \n",
      "-> Exponential          | TT-rank   3.7 | Error for min 2.2e-16 | Error for max 0.0e+00 | Time   0.0230 | \n",
      "-> Grienwank            | TT-rank   5.9 | Error for min 2.7e-15 | Error for max 1.1e-13 | Time   0.0498 | \n",
      "-> Michalewicz          | TT-rank   4.5 | Error for min 1.8e-15 | Error for max 9.9e-17 | Time   0.0288 | \n",
      "-> Qing                 | TT-rank   5.0 | Error for min 3.8e-07 | Error for max 1.2e-04 | Time   0.0313 | \n",
      "-> Rastrigin            | TT-rank   5.0 | Error for min 7.1e-15 | Error for max 1.4e-13 | Time   0.0328 | \n",
      "-> Rosenbrock           | TT-rank   5.9 | Error for min 2.4e-13 | Error for max 0.0e+00 | Time   0.0457 | \n",
      "-> Schaffer             | TT-rank  13.4 | Error for min 3.3e-16 | Error for max 6.4e-03 | Time   0.5878 | \n",
      "-> Schwefel             | TT-rank   6.9 | Error for min 2.0e-13 | Error for max 0.0e+00 | Time   0.0785 | \n"
     ]
    }
   ],
   "source": [
    "d = 6   # Dimension\n",
    "n = 16  # Grid size\n",
    "\n",
    "for func in teneva.func_demo_all(d):#, dy=0.5):\n",
    "    # Set the uniform grid:\n",
    "    func.set_grid(n, kind='uni')\n",
    "\n",
    "    # Build TT-approximation by TT-CROSS:\n",
    "    Y = teneva.tensor_rand(func.n, r=1)\n",
    "    Y = teneva.cross(func.get_f_ind, Y, m=1.E+5, dr_max=1, cache={})\n",
    "    Y = teneva.truncate(Y, e=1.E-8)\n",
    "    r = teneva.erank(Y)\n",
    "\n",
    "    # Compute the exact min and max for TT-tensor:\n",
    "    Y_full = teneva.full(Y)\n",
    "    y_min_real = np.min(Y_full)\n",
    "    y_max_real = np.max(Y_full)\n",
    "    \n",
    "    # Find the minimum and maximum of TT-tensor by opt_tt:\n",
    "    t = tpc()\n",
    "    i_min_appr, y_min_appr, i_max_appr, y_max_appr = teneva.optima_tt(Y)\n",
    "    y_min_appr = teneva.get(Y, i_min_appr)\n",
    "    y_max_appr = teneva.get(Y, i_max_appr)\n",
    "    t = tpc() - t\n",
    "    \n",
    "    # Check the accuracy of result:\n",
    "    e_min = abs(y_min_real - y_min_appr)\n",
    "    e_max = abs(y_max_real - y_max_appr)\n",
    "    \n",
    "    # Present the result:\n",
    "    text = '-> ' + func.name + ' ' * max(0, 20 - len(func.name)) + ' | '\n",
    "    text += f'TT-rank {r:-5.1f} | '\n",
    "    text += f'Error for min {e_min:-7.1e} | '\n",
    "    text += f'Error for max {e_max:-7.1e} | '\n",
    "    text += f'Time {t:-8.4f} | '\n",
    "    print(text)"
   ]
  },
  {
   "cell_type": "markdown",
   "id": "8c61a663-afc4-4fbf-94bf-afedb3157328",
   "metadata": {},
   "source": [
    "## Function `optima_tt_beam`"
   ]
  },
  {
   "cell_type": "markdown",
   "id": "823c49e9-c1ea-48cf-904c-e6e2f3ba6f35",
   "metadata": {},
   "source": [
    "Find multi-index of the maximum modulo item in the given TT-tensor. Note that this is an internal utility function; to find the optimum in the TT-tensor tensor, use the functions \"optima_qtt\", \"optima_tt\" or \"optima_tt_max\"."
   ]
  },
  {
   "cell_type": "code",
   "execution_count": 10,
   "id": "cb0878d0-1efb-4112-8a15-04c883066b85",
   "metadata": {},
   "outputs": [
    {
     "name": "stdout",
     "output_type": "stream",
     "text": [
      "i opt appr : [ 1 12  9 11  0]\n",
      "y opt appr :  -2.8787e+02\n"
     ]
    }
   ],
   "source": [
    "n = [20, 18, 16, 14, 12]       # Shape of the tensor\n",
    "Y = teneva.tensor_rand(n, r=4) # Random TT-tensor with rank 4\n",
    "\n",
    "i_opt = teneva.optima_tt_beam(Y)\n",
    "y_opt = teneva.get(Y, i_opt)\n",
    "\n",
    "print(f'i opt appr :', i_opt)\n",
    "print(f'y opt appr : {y_opt:-12.4e}')"
   ]
  },
  {
   "cell_type": "markdown",
   "id": "ba8407af-d9f6-456b-8f70-b90a00a13757",
   "metadata": {},
   "source": [
    "Let check the result:"
   ]
  },
  {
   "cell_type": "code",
   "execution_count": 11,
   "id": "779d3524-94ed-4865-8fd8-7fc248ed90d7",
   "metadata": {},
   "outputs": [
    {
     "name": "stdout",
     "output_type": "stream",
     "text": [
      "i opt real : (1, 12, 9, 11, 0)\n",
      "y opt real :  -2.8787e+02\n"
     ]
    }
   ],
   "source": [
    "Y_full = teneva.full(Y)            # Transform the TT-tensor to full format\n",
    "\n",
    "i_opt = np.argmax(np.abs(Y_full))  # Multi-index of the maximum modulo item\n",
    "i_opt = np.unravel_index(i_opt, n)\n",
    "y_opt = Y_full[i_opt]              # The related tensor value\n",
    "\n",
    "print(f'i opt real :', i_opt)\n",
    "print(f'y opt real : {Y_full[i_opt]:-12.4e}')"
   ]
  },
  {
   "cell_type": "markdown",
   "id": "e0b7f318-4f9c-41b3-a059-e3946e7019ad",
   "metadata": {},
   "source": [
    "This function may also return the \"top-k\" candidates for the optimum:"
   ]
  },
  {
   "cell_type": "code",
   "execution_count": 12,
   "id": "ee8062b0-145e-4090-a9ef-9f6954acd536",
   "metadata": {},
   "outputs": [
    {
     "name": "stdout",
     "output_type": "stream",
     "text": [
      "y :   2.5220e+02 | i : [3 1 1 2 3]\n",
      "y :   2.0979e+02 | i : [3 8 8 2 3]\n",
      "y :   2.0328e+02 | i : [ 3  8 12  3  9]\n",
      "y :   1.9756e+02 | i : [15  7  8  2  3]\n",
      "y :   1.9386e+02 | i : [ 3 16  9  4  3]\n",
      "y :   1.8796e+02 | i : [ 3  8 12  2  3]\n",
      "y :   1.8516e+02 | i : [3 8 2 4 9]\n",
      "y :   1.8339e+02 | i : [3 8 2 4 3]\n",
      "y :   1.8338e+02 | i : [3 8 2 2 3]\n",
      "y :   1.7781e+02 | i : [ 3  8 14  2  3]\n"
     ]
    }
   ],
   "source": [
    "n = [20, 18, 16, 14, 12]       # Shape of the tensor\n",
    "Y = teneva.tensor_rand(n, r=4) # Random TT-tensor with rank 4\n",
    "\n",
    "I_opt = teneva.optima_tt_beam(Y, k=10, ret_all=True)\n",
    "\n",
    "for i_opt in I_opt:\n",
    "    y_opt = abs(teneva.get(Y, i_opt))\n",
    "    print(f'y : {y_opt:-12.4e} | i : {i_opt}')"
   ]
  },
  {
   "cell_type": "markdown",
   "id": "1ce04ae5-d98e-46de-b18f-0f1cb65136c5",
   "metadata": {},
   "source": [
    "## Function `optima_tt_max`"
   ]
  },
  {
   "cell_type": "markdown",
   "id": "ef91ab57-c9e4-4332-80cf-4669f968e069",
   "metadata": {},
   "source": [
    "Find the maximum modulo item in the given TT-tensor."
   ]
  },
  {
   "cell_type": "code",
   "execution_count": 13,
   "id": "bc02318d-34b6-4bea-aa89-c65b2457cca0",
   "metadata": {},
   "outputs": [
    {
     "name": "stdout",
     "output_type": "stream",
     "text": [
      "i opt appr : [ 8 10 11 10  7]\n",
      "y opt appr :  -2.2694e+02\n"
     ]
    }
   ],
   "source": [
    "n = [20, 18, 16, 14, 12]       # Shape of the tensor\n",
    "Y = teneva.tensor_rand(n, r=4) # Random TT-tensor with rank 4\n",
    "\n",
    "i_opt = teneva.optima_tt_beam(Y)\n",
    "y_opt = teneva.get(Y, i_opt)\n",
    "\n",
    "print(f'i opt appr :', i_opt)\n",
    "print(f'y opt appr : {y_opt:-12.4e}')"
   ]
  },
  {
   "cell_type": "markdown",
   "id": "e121c01b-f355-4361-888a-f5c2619b5776",
   "metadata": {},
   "source": [
    "Let check the result:"
   ]
  },
  {
   "cell_type": "code",
   "execution_count": 14,
   "id": "e0c81a4e-9ea7-46b3-812d-6771a31edc29",
   "metadata": {},
   "outputs": [
    {
     "name": "stdout",
     "output_type": "stream",
     "text": [
      "i opt real : (8, 10, 11, 10, 7)\n",
      "y opt real :  -2.2694e+02\n"
     ]
    }
   ],
   "source": [
    "Y_full = teneva.full(Y)            # Transform the TT-tensor to full format\n",
    "\n",
    "i_opt = np.argmax(np.abs(Y_full))  # Multi-index of the maximum modulo item\n",
    "i_opt = np.unravel_index(i_opt, n)\n",
    "y_opt = Y_full[i_opt]              # The related tensor value\n",
    "\n",
    "print(f'i opt real :', i_opt)\n",
    "print(f'y opt real : {Y_full[i_opt]:-12.4e}')"
   ]
  },
  {
   "cell_type": "markdown",
   "id": "5157c326-a02c-41fc-b82d-af0d55ddfb18",
   "metadata": {},
   "source": [
    "---"
   ]
  }
 ],
 "metadata": {
  "kernelspec": {
   "display_name": "Python 3",
   "language": "python",
   "name": "python3"
  },
  "language_info": {
   "codemirror_mode": {
    "name": "ipython",
    "version": 3
   },
   "file_extension": ".py",
   "mimetype": "text/x-python",
   "name": "python",
   "nbconvert_exporter": "python",
   "pygments_lexer": "ipython3",
   "version": "3.8.8"
  }
 },
 "nbformat": 4,
 "nbformat_minor": 5
}

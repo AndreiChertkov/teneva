{
 "cells": [
  {
   "cell_type": "markdown",
   "id": "e51b9291-f33c-40ad-96ee-e2f9454ffc69",
   "metadata": {},
   "source": [
    "**Demo for `teneva.core.cheb_full`**\n",
    "\n",
    "---\n",
    "\n",
    "This module contains the functions for construction of the Chebyshev interpolation in the full format as well as calculating the values of the function using the constructed interpolation coefficients. See module \"core.cheb\" with the same functions in the TT-format."
   ]
  },
  {
   "cell_type": "markdown",
   "id": "3896a55c-1131-44fc-b746-1433ad4ddb08",
   "metadata": {},
   "source": [
    "## Loading and importing modules"
   ]
  },
  {
   "cell_type": "code",
   "execution_count": 1,
   "id": "9941ed2c-6272-4144-8c96-4e800f0b5c49",
   "metadata": {},
   "outputs": [],
   "source": [
    "import numpy as np\n",
    "import teneva\n",
    "from time import perf_counter as tpc\n",
    "np.random.seed(42)"
   ]
  },
  {
   "cell_type": "markdown",
   "id": "e8e1cd20-c241-41e2-8b56-9c05f2237347",
   "metadata": {},
   "source": [
    "## Function `cheb_bld_full`"
   ]
  },
  {
   "cell_type": "markdown",
   "id": "be0df2a0-ee16-430f-8576-13af7b73a72d",
   "metadata": {},
   "source": [
    "Compute the function values on the Chebyshev grid."
   ]
  },
  {
   "cell_type": "code",
   "execution_count": 2,
   "id": "2fa68f6d-13eb-4d10-9c15-acf0bed7f435",
   "metadata": {},
   "outputs": [
    {
     "name": "stdout",
     "output_type": "stream",
     "text": [
      "(5, 6, 7, 8)\n"
     ]
    }
   ],
   "source": [
    "from scipy.optimize import rosen\n",
    "f = lambda X: rosen(X.T) # Target function\n",
    "\n",
    "a = [-2., -4., -3., -2.] # Grid lower bounds\n",
    "b = [+2., +3., +4., +2.] # Grid upper bounds\n",
    "n = [5, 6, 7, 8]         # Grid size\n",
    "\n",
    "# Full tensor with function values:\n",
    "Y = teneva.cheb_bld_full(f, a, b, n)\n",
    "\n",
    "print(Y.shape)"
   ]
  },
  {
   "cell_type": "markdown",
   "id": "d54a2e0b-abd3-4d96-85b8-6336f3f5d80d",
   "metadata": {},
   "source": [
    "## Function `cheb_get_full`"
   ]
  },
  {
   "cell_type": "markdown",
   "id": "e1a50738-6a24-4d34-a145-c828d82b54f6",
   "metadata": {},
   "source": [
    "Compute the Chebyshev approximation in given points (approx. f(X))."
   ]
  },
  {
   "cell_type": "code",
   "execution_count": 3,
   "id": "08347b96-1e1b-4473-b3a4-d3cc4493d950",
   "metadata": {},
   "outputs": [
    {
     "name": "stdout",
     "output_type": "stream",
     "text": [
      "(5, 6, 7, 8)\n"
     ]
    }
   ],
   "source": [
    "# In the beginning we compute the function values on the Chebyshev\n",
    "# grid (see cheb_bld_full function for more details):\n",
    "\n",
    "from scipy.optimize import rosen\n",
    "f = lambda X: rosen(X.T) # Target function\n",
    "\n",
    "a = [-2., -4., -3., -2.] # Grid lower bounds\n",
    "b = [+2., +3., +4., +2.] # Grid upper bounds\n",
    "n = [5, 6, 7, 8]         # Grid size\n",
    "\n",
    "# Array of values on the Cheb. grid:\n",
    "Y = teneva.cheb_bld_full(f, a, b, n)\n",
    "\n",
    "print(Y.shape)"
   ]
  },
  {
   "cell_type": "code",
   "execution_count": 4,
   "id": "46dbc7a4-5502-4a2f-912d-dba923e9bd87",
   "metadata": {},
   "outputs": [
    {
     "name": "stdout",
     "output_type": "stream",
     "text": [
      "(5, 6, 7, 8)\n"
     ]
    }
   ],
   "source": [
    "# Then we should compute the array for Chebyshev interpolation coefficients\n",
    "# (see cheb_int_full function for more details):\n",
    "\n",
    "A = teneva.cheb_int_full(Y)\n",
    "print(A.shape)"
   ]
  },
  {
   "cell_type": "code",
   "execution_count": 5,
   "id": "e708c36e-6282-40fc-93b6-315e96215302",
   "metadata": {},
   "outputs": [
    {
     "name": "stdout",
     "output_type": "stream",
     "text": [
      "[ 3.00000000e+00  5.40600000e+03  3.86535248e-12 -1.00000000e+00]\n",
      "[3.0000000e+00 5.4060000e+03 0.0000000e+00 9.9999996e+17]\n"
     ]
    }
   ],
   "source": [
    "# Finally we compute the approximation in selected points inside the bounds:\n",
    "# (the values for points outside the bounds will be set as \"z\")\n",
    "\n",
    "X = np.array([\n",
    "    [0., 0., 0., 0.],\n",
    "    [0., 2., 3., 2.],\n",
    "    [1., 1., 1., 1.],\n",
    "    [1., 1., 1., 99999999],\n",
    "])\n",
    "Z = teneva.cheb_get_full(X, A, a, b, z=-1.)\n",
    "print(Z)       # Print the result\n",
    "print(f(X))    # We can check the result by comparing it to the true values"
   ]
  },
  {
   "cell_type": "markdown",
   "id": "ba8cceb9-af8a-4934-9443-c30e4ac98d1b",
   "metadata": {},
   "source": [
    "## Function `cheb_gets_full`"
   ]
  },
  {
   "cell_type": "markdown",
   "id": "c4781f74-8c68-432b-9c30-c914e8c39168",
   "metadata": {},
   "source": [
    "Compute the Chebyshev approximation (array of values) on the full given grid."
   ]
  },
  {
   "cell_type": "code",
   "execution_count": 6,
   "id": "eb195d25-18df-43e4-b32c-f8525db0da8a",
   "metadata": {},
   "outputs": [
    {
     "name": "stdout",
     "output_type": "stream",
     "text": [
      "(5, 6, 7, 8)\n"
     ]
    }
   ],
   "source": [
    "# In the beginning we compute the function values on the Chebyshev\n",
    "# (see cheb_bld_full function for more details):\n",
    "\n",
    "from scipy.optimize import rosen\n",
    "f = lambda X: rosen(X.T) # Target function\n",
    "\n",
    "a = [-2., -4., -3., -2.] # Grid lower bounds\n",
    "b = [+2., +3., +4., +2.] # Grid upper bounds\n",
    "n = [5, 6, 7, 8]         # Grid size\n",
    "\n",
    "# Array of values on the Cheb. grid:\n",
    "Y1 = teneva.cheb_bld_full(f, a, b, n)\n",
    "\n",
    "print(Y1.shape)"
   ]
  },
  {
   "cell_type": "code",
   "execution_count": 7,
   "id": "e747e30f-424c-4535-98ab-bf9b942a0111",
   "metadata": {},
   "outputs": [
    {
     "name": "stdout",
     "output_type": "stream",
     "text": [
      "(5, 6, 7, 8)\n"
     ]
    }
   ],
   "source": [
    "# Then we should compute the array for Chebyshev interpolation\n",
    "# coefficients (see cheb_int_full function for more details):\n",
    "A1 = teneva.cheb_int_full(Y1)\n",
    "\n",
    "print(A1.shape)"
   ]
  },
  {
   "cell_type": "code",
   "execution_count": 8,
   "id": "a71cd4e7-2e8d-41b7-a7e5-78f16e950533",
   "metadata": {},
   "outputs": [
    {
     "name": "stdout",
     "output_type": "stream",
     "text": [
      "(7, 8, 9, 10)\n"
     ]
    }
   ],
   "source": [
    "m = [7, 8, 9, 10] # New size of the grid\n",
    "\n",
    "# Compute tensor on finer grid:\n",
    "Y2 = teneva.cheb_gets_full(A1, a, b, m)\n",
    "\n",
    "print(Y2.shape)"
   ]
  },
  {
   "cell_type": "code",
   "execution_count": 9,
   "id": "30754c3f-59e0-4428-bcc3-05316cc0a805",
   "metadata": {},
   "outputs": [
    {
     "name": "stdout",
     "output_type": "stream",
     "text": [
      "(7, 8, 9, 10)\n"
     ]
    }
   ],
   "source": [
    "# We can compute interpolation coefficients on the new grid:\n",
    "A2 = teneva.cheb_int_full(Y2)\n",
    "\n",
    "print(A2.shape)"
   ]
  },
  {
   "cell_type": "code",
   "execution_count": 10,
   "id": "798704ea-83bd-4632-b1c3-cab317b40b5e",
   "metadata": {},
   "outputs": [
    {
     "name": "stdout",
     "output_type": "stream",
     "text": [
      "[ 3.00000000e+00  5.40600000e+03  3.86535248e-12 -1.00000000e+00]\n",
      "[ 3.00000000e+00  5.40600000e+03  2.58637556e-12 -1.00000000e+00]\n",
      "[3.0000000e+00 5.4060000e+03 0.0000000e+00 9.9999996e+17]\n"
     ]
    }
   ],
   "source": [
    "# Finally we compute the approximation in selected points inside\n",
    "# the bounds for 2 different approximations:\n",
    "\n",
    "X = np.array([\n",
    "    [0., 0., 0., 0.],\n",
    "    [0., 2., 3., 2.],\n",
    "    [1., 1., 1., 1.],\n",
    "    [1., 1., 1., 99999999],\n",
    "])\n",
    "Z1 = teneva.cheb_get_full(X, A1, a, b, z=-1.)\n",
    "Z2 = teneva.cheb_get_full(X, A2, a, b, z=-1.)\n",
    "print(Z1)      # Print the result\n",
    "print(Z2)      # Print the result\n",
    "print(f(X))    # We can check the result by comparing it to the true values"
   ]
  },
  {
   "cell_type": "markdown",
   "id": "9d2fd251-cff6-4b92-85ee-030d2c7c522d",
   "metadata": {},
   "source": [
    "## Function `cheb_int_full`"
   ]
  },
  {
   "cell_type": "markdown",
   "id": "50a259fe-69af-4371-a76c-a34c8171ac34",
   "metadata": {},
   "source": [
    "Compute the array for Chebyshev interpolation coefficients."
   ]
  },
  {
   "cell_type": "code",
   "execution_count": 11,
   "id": "d9298ad6-ef64-4521-91f7-fe96ea2f4064",
   "metadata": {},
   "outputs": [
    {
     "name": "stdout",
     "output_type": "stream",
     "text": [
      "(5, 6, 7, 8)\n"
     ]
    }
   ],
   "source": [
    "# In the beginning we compute the function values on the Chebyshev\n",
    "# grid (see heb_bld_full function for more details):\n",
    "\n",
    "from scipy.optimize import rosen\n",
    "f = lambda X: rosen(X.T) # Target function\n",
    "\n",
    "a = [-2., -4., -3., -2.] # Grid lower bounds\n",
    "b = [+2., +3., +4., +2.] # Grid upper bounds\n",
    "n = [5, 6, 7, 8]         # Grid size\n",
    "\n",
    "# Array of values on the Cheb. grid:\n",
    "Y = teneva.cheb_bld_full(f, a, b, n)\n",
    "\n",
    "print(Y.shape)"
   ]
  },
  {
   "cell_type": "code",
   "execution_count": 12,
   "id": "be0985fb-7a2d-45ea-bb25-c52338a6d96a",
   "metadata": {},
   "outputs": [
    {
     "name": "stdout",
     "output_type": "stream",
     "text": [
      "(5, 6, 7, 8)\n"
     ]
    }
   ],
   "source": [
    "# Then we can compute the array for Chebyshev interpolation coefficients:\n",
    "A = teneva.cheb_int_full(Y)\n",
    "\n",
    "print(A.shape)"
   ]
  },
  {
   "cell_type": "markdown",
   "id": "80c80bd4-8e23-423f-96c2-62e736bc3b13",
   "metadata": {},
   "source": [
    "## Function `cheb_sum_full`"
   ]
  },
  {
   "cell_type": "markdown",
   "id": "783480c4-adad-4ad1-bfae-96a48ae5b3ce",
   "metadata": {},
   "source": [
    "Integrate the function from its Chebyshev approximation in the TT-format. Note that this function works only for symmetric grids!"
   ]
  },
  {
   "cell_type": "code",
   "execution_count": 13,
   "id": "82e6e6fe-a7c5-4db6-ac6d-dd2dec637d07",
   "metadata": {},
   "outputs": [
    {
     "name": "stdout",
     "output_type": "stream",
     "text": [
      "(50, 50, 50, 50)\n"
     ]
    }
   ],
   "source": [
    "# In the beginning we compute the function values on the Chebyshev grid\n",
    "# (see cheb_bld_full function for more details):\n",
    "                 \n",
    "d = 4\n",
    "def f(X): # Target function\n",
    "    a = 2.\n",
    "    r = np.exp(-np.sum(X*X, axis=1) / a) / (np.pi * a)**(d/2)\n",
    "    return r.reshape(-1)\n",
    "\n",
    "a = [-12., -14., -13., -11.] # Grid lower bounds\n",
    "b = [+12., +14., +13., +11.] # Grid upper bounds\n",
    "n = [50, 50, 50, 50]         # Grid size\n",
    "\n",
    "# Array of values on the Cheb. grid:\n",
    "Y = teneva.cheb_bld_full(f, a, b, n)\n",
    "\n",
    "print(Y.shape)"
   ]
  },
  {
   "cell_type": "code",
   "execution_count": 14,
   "id": "02c44968-c895-41dd-b6ab-f3d1965d4fd8",
   "metadata": {},
   "outputs": [
    {
     "name": "stdout",
     "output_type": "stream",
     "text": [
      "(50, 50, 50, 50)\n"
     ]
    }
   ],
   "source": [
    "# Then we should compute the array for Chebyshev interpolation\n",
    "# coefficients (see cheb_int_full function for more details):\n",
    "A = teneva.cheb_int_full(Y)\n",
    "\n",
    "print(A.shape)"
   ]
  },
  {
   "cell_type": "code",
   "execution_count": 15,
   "id": "07d934d9-59ac-443a-a42e-6abbf79de1b4",
   "metadata": {},
   "outputs": [
    {
     "name": "stdout",
     "output_type": "stream",
     "text": [
      "1.0000000191598715\n"
     ]
    }
   ],
   "source": [
    "# Finally we compute the integral:\n",
    "v = teneva.cheb_sum_full(A, a, b)\n",
    "\n",
    "print(v)       # Print the result (the real value is 1.)"
   ]
  },
  {
   "cell_type": "markdown",
   "id": "48d073c7-44ac-46f7-af25-3f1d4bdae59b",
   "metadata": {},
   "source": [
    "---"
   ]
  }
 ],
 "metadata": {
  "kernelspec": {
   "display_name": "Python 3",
   "language": "python",
   "name": "python3"
  },
  "language_info": {
   "codemirror_mode": {
    "name": "ipython",
    "version": 3
   },
   "file_extension": ".py",
   "mimetype": "text/x-python",
   "name": "python",
   "nbconvert_exporter": "python",
   "pygments_lexer": "ipython3",
   "version": "3.8.8"
  }
 },
 "nbformat": 4,
 "nbformat_minor": 5
}

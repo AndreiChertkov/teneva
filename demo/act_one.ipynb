{
 "cells": [
  {
   "cell_type": "markdown",
   "id": "e51b9291-f33c-40ad-96ee-e2f9454ffc69",
   "metadata": {},
   "source": [
    "**Demo for `teneva.act_one`**\n",
    "\n",
    "---\n",
    "\n",
    "This module contains the basic operations with one TT-tensor (Y), including \"copy\", \"get\", \"sum\", etc."
   ]
  },
  {
   "cell_type": "markdown",
   "id": "3896a55c-1131-44fc-b746-1433ad4ddb08",
   "metadata": {},
   "source": [
    "## Loading and importing modules"
   ]
  },
  {
   "cell_type": "code",
   "execution_count": 1,
   "id": "9941ed2c-6272-4144-8c96-4e800f0b5c49",
   "metadata": {},
   "outputs": [],
   "source": [
    "import numpy as np\n",
    "import teneva\n",
    "from time import perf_counter as tpc\n",
    "np.random.seed(42)"
   ]
  },
  {
   "cell_type": "markdown",
   "id": "53ae283b-b86b-403b-ad4c-edd6bf80e5a0",
   "metadata": {
    "jp-MarkdownHeadingCollapsed": true,
    "tags": []
   },
   "source": [
    "## Function `copy`"
   ]
  },
  {
   "cell_type": "markdown",
   "id": "cb0755cb-31ab-402f-b411-1ed2a7c48a80",
   "metadata": {},
   "source": [
    "Return a copy of the given TT-tensor."
   ]
  },
  {
   "cell_type": "code",
   "execution_count": 2,
   "id": "30411080-6f66-4b4c-a667-b8dc192af300",
   "metadata": {},
   "outputs": [
    {
     "name": "stdout",
     "output_type": "stream",
     "text": [
      "0.1643445611288208\n",
      "0.1643445611288208\n"
     ]
    }
   ],
   "source": [
    "# 10-dim random TT-tensor with TT-rank 2:\n",
    "Y = teneva.rand([5]*10, 2)\n",
    "\n",
    "Z = teneva.copy(Y) # The copy of Y         \n",
    "\n",
    "print(Y[2][1, 2, 0])\n",
    "print(Z[2][1, 2, 0])"
   ]
  },
  {
   "cell_type": "markdown",
   "id": "dd57caf0-418a-48fa-93e8-20f323d988cd",
   "metadata": {},
   "source": [
    "Note that changes to the copy will not affect the original tensor:"
   ]
  },
  {
   "cell_type": "code",
   "execution_count": 3,
   "id": "27e1a9db-6bab-419e-b89d-948ff0bc7068",
   "metadata": {},
   "outputs": [
    {
     "name": "stdout",
     "output_type": "stream",
     "text": [
      "0.1643445611288208\n",
      "42.0\n"
     ]
    }
   ],
   "source": [
    "Z[2][1, 2, 0] = 42.\n",
    "\n",
    "print(Y[2][1, 2, 0])\n",
    "print(Z[2][1, 2, 0])"
   ]
  },
  {
   "cell_type": "markdown",
   "id": "4b9b0770-1558-421d-a441-b80b75a60ee3",
   "metadata": {},
   "source": [
    "Note that this function also supports numbers and numpy arrays for convenience:"
   ]
  },
  {
   "cell_type": "code",
   "execution_count": 4,
   "id": "c07ff2e4-84f2-47ca-b923-c6cfb7e9d3cc",
   "metadata": {},
   "outputs": [],
   "source": [
    "a = teneva.copy(42.)\n",
    "b = teneva.copy(np.array([1, 2, 3]))\n",
    "c = teneva.copy(None)"
   ]
  },
  {
   "cell_type": "markdown",
   "id": "34eea7aa-737f-494a-bd51-bdf059605084",
   "metadata": {
    "jp-MarkdownHeadingCollapsed": true,
    "tags": []
   },
   "source": [
    "## Function `get`"
   ]
  },
  {
   "cell_type": "markdown",
   "id": "8a13fa68-f4a5-426c-8554-e29a558a15ca",
   "metadata": {},
   "source": [
    "Compute the element with multiindex \"k\" from the TT-tensor \"Y\"."
   ]
  },
  {
   "cell_type": "code",
   "execution_count": 5,
   "id": "7676216f-0445-4150-b940-e1fb77ebfec7",
   "metadata": {},
   "outputs": [
    {
     "name": "stdout",
     "output_type": "stream",
     "text": [
      "TT-tensor     5D : |10|  |10|   |10|   |10|  |10|\n",
      "<rank>  =   63.0 :    \\10/  \\100/  \\100/  \\10/\n"
     ]
    },
    {
     "data": {
      "text/plain": [
       "5.329070518200751e-15"
      ]
     },
     "execution_count": 5,
     "metadata": {},
     "output_type": "execute_result"
    }
   ],
   "source": [
    "n = [10] * 5              # Shape of the tensor      \n",
    "Y0 = np.random.randn(*n)  # Create 5-dim random numpy tensor\n",
    "Y1 = teneva.svd(Y0)       # Compute TT-tensor from Y0 by TT-SVD\n",
    "teneva.show(Y1)           # Print the TT-tensor\n",
    "\n",
    "i = [1, 2, 3, 4, 5]       # Select some tensor element\n",
    "y1 = teneva.get(Y1, i)    # Compute the element of the TT-tensor\n",
    "y0 = Y0[tuple(i)]         # Compute the same element of the original tensor\n",
    "abs(y1-y0)                # Compare original tensor and reconstructed tensor"
   ]
  },
  {
   "cell_type": "markdown",
   "id": "39dde4fa-a06f-428f-b4a3-117ed3ca5008",
   "metadata": {},
   "source": [
    "This function is also support batch mode (in the case of batch, it calls the function \"get_many\"):"
   ]
  },
  {
   "cell_type": "code",
   "execution_count": 6,
   "id": "a1eca025-2a7d-4a24-b22b-6afd03c683e0",
   "metadata": {},
   "outputs": [
    {
     "name": "stdout",
     "output_type": "stream",
     "text": [
      "Error   : 1.3e-14\n"
     ]
    }
   ],
   "source": [
    "# Select some tensor elements:\n",
    "I = [\n",
    "    [1, 2, 3, 4, 5],\n",
    "    [0, 0, 0, 0, 0],\n",
    "    [5, 4, 3, 2, 1],\n",
    "]\n",
    "\n",
    "# Compute the element of the TT-tensor:\n",
    "y1 = teneva.get(Y1, I)\n",
    "\n",
    "# Compute the same element of the original tensor:\n",
    "y0 = [Y0[tuple(i)] for i in I]\n",
    "\n",
    "# Compare original tensor and reconstructed tensor:\n",
    "e = np.max(np.abs(y1-y0))\n",
    "print(f'Error   : {e:7.1e}')"
   ]
  },
  {
   "cell_type": "markdown",
   "id": "d2cc640f-83a0-4554-a973-4718c76b1b5e",
   "metadata": {
    "jp-MarkdownHeadingCollapsed": true
   },
   "source": [
    "## Function `get_and_grad`"
   ]
  },
  {
   "cell_type": "markdown",
   "id": "55f5d3d5-e48c-4fad-85d9-6bca60646f68",
   "metadata": {},
   "source": [
    "Compute the element of the TT-tensor and gradients of its TT-cores"
   ]
  },
  {
   "cell_type": "code",
   "execution_count": 7,
   "id": "d582cef8-d72c-4c08-894b-21268010875c",
   "metadata": {
    "tags": []
   },
   "outputs": [
    {
     "name": "stdout",
     "output_type": "stream",
     "text": [
      "Old value at multi-index :  2.91493e-01\n",
      "New value at multi-index :  2.90991e-01\n",
      "Difference for tensors   :      8.1e-05\n"
     ]
    }
   ],
   "source": [
    "lr = 1.E-4                        # Learning rate\n",
    "n = [4, 5, 6, 7]                  # Shape of the tensor\n",
    "Y = teneva.rand(n, r=3, seed=44)  # Random TT-tensor\n",
    "i = [2, 3, 4, 5]                  # Targer multi-index for gradient\n",
    "y, dY = teneva.get_and_grad(Y, i)\n",
    "\n",
    "Z = teneva.copy(Y)                # Simulating gradient descent\n",
    "for k in range(len(n)):\n",
    "    Z[k] -= lr * dY[k]\n",
    "\n",
    "z = teneva.get(Z, i)\n",
    "e = teneva.accuracy(Y, Z)\n",
    "\n",
    "print(f'Old value at multi-index : {y:-12.5e}')\n",
    "print(f'New value at multi-index : {z:-12.5e}')\n",
    "print(f'Difference for tensors   : {e:-12.1e}')"
   ]
  },
  {
   "cell_type": "markdown",
   "id": "a9ab2219-8324-4637-a6d3-116479282543",
   "metadata": {},
   "source": [
    "We can also perform several GD steps:"
   ]
  },
  {
   "cell_type": "code",
   "execution_count": 8,
   "id": "d4d30886-8388-424d-ba74-70aac5bbf870",
   "metadata": {},
   "outputs": [
    {
     "name": "stdout",
     "output_type": "stream",
     "text": [
      "Old value at multi-index :  2.91493e-01\n",
      "New value at multi-index :  2.41494e-01\n",
      "Difference for tensors   :      8.1e-03\n"
     ]
    }
   ],
   "source": [
    "Z = teneva.copy(Y)\n",
    "for step in range(100):\n",
    "    for k in range(len(n)):\n",
    "        Z[k] -= lr * dY[k]\n",
    "\n",
    "z = teneva.get(Z, i)\n",
    "e = teneva.accuracy(Y, Z)\n",
    "\n",
    "print(f'Old value at multi-index : {y:-12.5e}')\n",
    "print(f'New value at multi-index : {z:-12.5e}')\n",
    "print(f'Difference for tensors   : {e:-12.1e}')"
   ]
  },
  {
   "cell_type": "markdown",
   "id": "776f8475-58ff-41e2-be36-2b8f313dde57",
   "metadata": {
    "jp-MarkdownHeadingCollapsed": true,
    "tags": []
   },
   "source": [
    "## Function `get_many`"
   ]
  },
  {
   "cell_type": "markdown",
   "id": "c692eebd-9c06-47fc-b60f-3ecb69170de2",
   "metadata": {},
   "source": [
    "Compute the elements of the TT-tensor on many indices (the function \"get\" with 2-dimensional argument may be used instead)."
   ]
  },
  {
   "cell_type": "code",
   "execution_count": 9,
   "id": "abecd87a-789d-4ea2-8314-ce6ba459bb14",
   "metadata": {},
   "outputs": [
    {
     "name": "stdout",
     "output_type": "stream",
     "text": [
      "TT-tensor     5D : |10|  |10|   |10|   |10|  |10|\n",
      "<rank>  =   63.0 :    \\10/  \\100/  \\100/  \\10/\n",
      "Error   : 1.5e-14\n"
     ]
    }
   ],
   "source": [
    "n = [10] * 5             # Shape of the tensor      \n",
    "Y0 = np.random.randn(*n) # Create 5-dim random numpy tensor\n",
    "Y1 = teneva.svd(Y0)      # Compute TT-tensor from Y0 by TT-SVD\n",
    "teneva.show(Y1)          # Print the TT-tensor\n",
    "\n",
    "# Select some tensor elements:\n",
    "I = [\n",
    "    [1, 2, 3, 4, 5],\n",
    "    [0, 0, 0, 0, 0],\n",
    "    [5, 4, 3, 2, 1],\n",
    "]\n",
    "\n",
    "# Compute the element of the TT-tensor:\n",
    "y1 = teneva.get_many(Y1, I)\n",
    "\n",
    "# Compute the same element of the original tensor:\n",
    "y0 = [Y0[tuple(i)] for i in I]\n",
    "\n",
    "# Compare original tensor and reconstructed tensor:\n",
    "e = np.max(np.abs(y1-y0))\n",
    "print(f'Error   : {e:7.1e}')"
   ]
  },
  {
   "cell_type": "markdown",
   "id": "3c8892a7-7493-4bb6-a4c5-416d69816cec",
   "metadata": {
    "jp-MarkdownHeadingCollapsed": true,
    "tags": []
   },
   "source": [
    "## Function `getter`"
   ]
  },
  {
   "cell_type": "markdown",
   "id": "3ae261d5-185b-45e5-8295-49739bf0c443",
   "metadata": {},
   "source": [
    "Build fast (accelerated by numba) function that computes the element with multiindex \"k\" for the TT-tensor \"Y\". See also a function \"tensor.get\" for more details. Note that this function is not supports the batch mode. Also note that thif function requires \"numba\" package to be installed. Attention: this function will be removed in the future! Use the \"get_many\" function instead (it's faster in most cases)."
   ]
  },
  {
   "cell_type": "code",
   "execution_count": 10,
   "id": "015623bf-01ca-4e97-a8a5-b01baf9b1801",
   "metadata": {},
   "outputs": [
    {
     "data": {
      "text/plain": [
       "-5.218048215738236e-15"
      ]
     },
     "execution_count": 10,
     "metadata": {},
     "output_type": "execute_result"
    }
   ],
   "source": [
    "# Note that numba package is required for this function\n",
    "\n",
    "n = [10] * 5              # Shape of the tensor      \n",
    "Y0 = np.random.randn(*n)  # Create 5-dim random numpy tensor\n",
    "Y1 = teneva.svd(Y0)       # Compute TT-tensor from Y0 by TT-SVD\n",
    "get = teneva.getter(Y1)   # Build (compile) function to compute the element of the TT-tensor\n",
    "k = (1, 2, 3, 4, 5)       # Select some tensor element\n",
    "y1 = get(k)               # Compute the element of the TT-tensor\n",
    "y0 = Y0[k]                # Compute the same element of the original tensor\n",
    "np.max(np.max(y1-y0))     # Compare original tensor and reconstructed tensor"
   ]
  },
  {
   "cell_type": "markdown",
   "id": "79f8b341-acc5-405f-9abf-ec69509428bd",
   "metadata": {
    "jp-MarkdownHeadingCollapsed": true
   },
   "source": [
    "## Function `interface`"
   ]
  },
  {
   "cell_type": "markdown",
   "id": "4f33a490-d6ce-4654-a391-59653565c920",
   "metadata": {},
   "source": [
    "Generate interface vectors for provided TT-tensor."
   ]
  },
  {
   "cell_type": "code",
   "execution_count": 11,
   "id": "a63cfd0c-ab01-4688-b058-21a88675263a",
   "metadata": {},
   "outputs": [
    {
     "name": "stdout",
     "output_type": "stream",
     "text": [
      "\n",
      "Right:\n",
      "[-1.]\n",
      "[0.68813332 0.53462172 0.49056309]\n",
      "[ 0.02724276  0.17567491 -0.98407122]\n",
      "[ 0.28219429 -0.45639302 -0.84384346]\n",
      "[1.]\n",
      "\n",
      "Left:\n",
      "[1.]\n",
      "[-0.82889095 -0.55022389 -0.10096271]\n",
      "[ 0.55175562 -0.81512821  0.1764419 ]\n",
      "[ 0.65082799 -0.37736438  0.65880123]\n",
      "[-1.]\n"
     ]
    }
   ],
   "source": [
    "n = [4, 5, 6, 7]         # Shape of the tensor\n",
    "Y = teneva.rand(n, r=3)  # Create 4-dim random TT-tensor\n",
    "phi_r = teneva.interface(Y)\n",
    "phi_l = teneva.interface(Y, ltr=True)\n",
    "\n",
    "print('\\nRight:')\n",
    "for phi in phi_r:\n",
    "    print(phi)\n",
    "    \n",
    "print('\\nLeft:')\n",
    "for phi in phi_l:\n",
    "    print(phi)"
   ]
  },
  {
   "cell_type": "code",
   "execution_count": 12,
   "id": "71bd8bd6-f3e5-4e0b-8df1-bc88374655f2",
   "metadata": {},
   "outputs": [
    {
     "name": "stdout",
     "output_type": "stream",
     "text": [
      "\n",
      "Right:\n",
      "[-1.]\n",
      "[0.3736717  0.13703245 0.917383  ]\n",
      "[ 0.15999998  0.97874472 -0.1282918 ]\n",
      "[-0.73153711  0.26369271 -0.62874447]\n",
      "[1.]\n",
      "\n",
      "Left:\n",
      "[1.]\n",
      "[ 0.72667917 -0.39223735 -0.56399224]\n",
      "[ 0.54988977 -0.5076079   0.66329139]\n",
      "[ 0.54448258 -0.61483454 -0.57054116]\n",
      "[-1.]\n"
     ]
    }
   ],
   "source": [
    "n = [4, 5, 6, 7]         # Shape of the tensor\n",
    "Y = teneva.rand(n, r=3)  # Create 4-dim random TT-tensor\n",
    "i = [2, 3, 4, 5]         # Targer multi-index\n",
    "phi_r = teneva.interface(Y, i=i)\n",
    "phi_l = teneva.interface(Y, i=i, ltr=True)\n",
    "\n",
    "print('\\nRight:')\n",
    "for phi in phi_r:\n",
    "    print(phi)\n",
    "    \n",
    "print('\\nLeft:')\n",
    "for phi in phi_l:\n",
    "    print(phi)"
   ]
  },
  {
   "cell_type": "code",
   "execution_count": 13,
   "id": "771fb9f7-76fe-444a-874b-ca2153788752",
   "metadata": {},
   "outputs": [
    {
     "name": "stdout",
     "output_type": "stream",
     "text": [
      "\n",
      "Right:\n",
      "[-1.]\n",
      "[ 0.02712957  0.79077339 -0.61150751]\n",
      "[0.30447033 0.7558563  0.57963702]\n",
      "[0.87461345 0.48475263 0.0081361 ]\n",
      "[1.]\n",
      "\n",
      "Left:\n",
      "[1.]\n",
      "[ 0.55886258 -0.31423024  0.76741903]\n",
      "[-0.96060732 -0.24796613 -0.12548457]\n",
      "[-0.81379032  0.03462715 -0.58012609]\n",
      "[-1.]\n"
     ]
    }
   ],
   "source": [
    "n = [4, 5, 6, 7]         # Shape of the tensor\n",
    "Y = teneva.rand(n, r=3)  # Create 4-dim random TT-tensor\n",
    "i = [2, 3, 4, 5]         # Targer multi-index\n",
    "P = [                    # Weight for all modes\n",
    "    [0.1, 0.2, 0.3, 0.4],\n",
    "    [0.1, 0.2, 0.3, 0.4, 0.5],\n",
    "    [0.1, 0.2, 0.3, 0.4, 0.5, 0.6],\n",
    "    [0.1, 0.2, 0.3, 0.4, 0.5, 0.6, 0.7]]\n",
    "phi_r = teneva.interface(Y, P, i)\n",
    "phi_l = teneva.interface(Y, P, i, ltr=True)\n",
    "\n",
    "print('\\nRight:')\n",
    "for phi in phi_r:\n",
    "    print(phi)\n",
    "    \n",
    "print('\\nLeft:')\n",
    "for phi in phi_l:\n",
    "    print(phi)"
   ]
  },
  {
   "cell_type": "code",
   "execution_count": 14,
   "id": "74ffd2c4-90c4-4909-a9b0-c926c9af53e0",
   "metadata": {},
   "outputs": [
    {
     "name": "stdout",
     "output_type": "stream",
     "text": [
      "\n",
      "Right:\n",
      "[1.]\n",
      "[-0.32868849  0.94421494  0.02054309]\n",
      "[-0.99678302  0.00501843 -0.07999011]\n",
      "[ 0.55197584 -0.68846358 -0.47046846]\n",
      "[1.]\n",
      "\n",
      "Left:\n",
      "[1.]\n",
      "[-0.45780124  0.79627937 -0.39542028]\n",
      "[-0.76947865 -0.16291856 -0.61754364]\n",
      "[ 0.06665077 -0.90158264  0.4274417 ]\n",
      "[1.]\n"
     ]
    }
   ],
   "source": [
    "n = [7] * 4              # Shape of the tensor\n",
    "Y = teneva.rand(n, r=3)  # Create 4-dim random TT-tensor\n",
    "i = [2, 3, 4, 5]         # Targer multi-index\n",
    "p = [                    # Weight for all modes (equal)\n",
    "    0.1, 0.2, 0.3, 0.4, 0.5, 0.6, 0.7]\n",
    "phi_r = teneva.interface(Y, p, i)\n",
    "phi_l = teneva.interface(Y, p, i, ltr=True)\n",
    "\n",
    "print('\\nRight:')\n",
    "for phi in phi_r:\n",
    "    print(phi)\n",
    "    \n",
    "print('\\nLeft:')\n",
    "for phi in phi_l:\n",
    "    print(phi)"
   ]
  },
  {
   "cell_type": "code",
   "execution_count": 15,
   "id": "944a51e1-3fc4-479f-9052-d57743ee3f5d",
   "metadata": {},
   "outputs": [
    {
     "name": "stdout",
     "output_type": "stream",
     "text": [
      "\n",
      "Right:\n",
      "[-0.04710111]\n",
      "[-0.05334143 -0.11429042 -0.11918024]\n",
      "[ 0.05111053 -0.15246171  0.26067213]\n",
      "[ 0.58188778  0.419016   -0.11394976]\n",
      "[1.]\n",
      "\n",
      "Left:\n",
      "[1.]\n",
      "[0.19713772 0.03388943 0.27447725]\n",
      "[ 0.05784957  0.03471187 -0.17173144]\n",
      "[-0.05027864 -0.05818472 -0.05735637]\n",
      "[-0.04710111]\n"
     ]
    }
   ],
   "source": [
    "n = [7] * 4              # Shape of the tensor\n",
    "Y = teneva.rand(n, r=3)  # Create 4-dim random TT-tensor\n",
    "i = [2, 3, 4, 5]         # Targer multi-index\n",
    "p = [                    # Weight for all modes (equal)\n",
    "    0.1, 0.2, 0.3, 0.4, 0.5, 0.6, 0.7]\n",
    "phi_r = teneva.interface(Y, p, i, norm=None)\n",
    "phi_l = teneva.interface(Y, p, i, norm=None, ltr=True)\n",
    "\n",
    "print('\\nRight:')\n",
    "for phi in phi_r:\n",
    "    print(phi)\n",
    "    \n",
    "print('\\nLeft:')\n",
    "for phi in phi_l:\n",
    "    print(phi)"
   ]
  },
  {
   "cell_type": "markdown",
   "id": "bbb44618-d51b-4615-a6ae-dff41c7d72d8",
   "metadata": {
    "jp-MarkdownHeadingCollapsed": true
   },
   "source": [
    "## Function `mean`"
   ]
  },
  {
   "cell_type": "markdown",
   "id": "6d2b982b-fab2-4ff6-a29f-eba9475b9b72",
   "metadata": {},
   "source": [
    "Compute mean value of the TT-tensor."
   ]
  },
  {
   "cell_type": "code",
   "execution_count": 16,
   "id": "5e7621ff-ba9e-4b75-b421-bcb0ee166d4d",
   "metadata": {},
   "outputs": [],
   "source": [
    "Y = teneva.rand([5]*10, 2) # 10-dim random TT-tensor with TT-rank 2\n",
    "m = teneva.mean(Y)         # The mean value"
   ]
  },
  {
   "cell_type": "code",
   "execution_count": 17,
   "id": "ed3478df-e475-439e-a6b5-5c01ea8d909c",
   "metadata": {},
   "outputs": [
    {
     "name": "stdout",
     "output_type": "stream",
     "text": [
      "Error     : 1.91e-21\n"
     ]
    }
   ],
   "source": [
    "Y_full = teneva.full(Y)    # Compute tensor in the full format to check the result\n",
    "m_full = np.mean(Y_full)   # The mean value for the numpy array\n",
    "e = abs(m - m_full)        # Compute error for TT-tensor vs full tensor \n",
    "print(f'Error     : {e:-8.2e}')"
   ]
  },
  {
   "cell_type": "markdown",
   "id": "b1507bb0-9771-471c-9daf-b2514dc8ffc4",
   "metadata": {},
   "source": [
    "The probability of tensor inputs my be also set:"
   ]
  },
  {
   "cell_type": "code",
   "execution_count": 18,
   "id": "08610092-3ae3-4421-8354-e4a57673d7de",
   "metadata": {},
   "outputs": [
    {
     "data": {
      "text/plain": [
       "0.0"
      ]
     },
     "execution_count": 18,
     "metadata": {},
     "output_type": "execute_result"
    }
   ],
   "source": [
    "n = [5]*10                   # Shape of the tensor\n",
    "Y = teneva.rand(n, 2)        # 10-dim random TT-tensor with TT-rank 2\n",
    "P = [np.zeros(k) for k in n] # The \"probability\"\n",
    "teneva.mean(Y, P)            # The mean value"
   ]
  },
  {
   "cell_type": "markdown",
   "id": "389290c6-362d-42ae-9b79-f50e4309a3d6",
   "metadata": {
    "jp-MarkdownHeadingCollapsed": true
   },
   "source": [
    "## Function `norm`"
   ]
  },
  {
   "cell_type": "markdown",
   "id": "a76c393d-c3d5-4f78-bcf2-0118e2d7229d",
   "metadata": {},
   "source": [
    "Compute Frobenius norm of the given TT-tensor."
   ]
  },
  {
   "cell_type": "code",
   "execution_count": 19,
   "id": "180b9ef8-a459-418f-b240-a7a3e0253966",
   "metadata": {},
   "outputs": [],
   "source": [
    "Y = teneva.rand([5]*10, 2) # 10-dim random TT-tensor with TT-rank 2"
   ]
  },
  {
   "cell_type": "code",
   "execution_count": 20,
   "id": "ab584f66-87c1-4d61-9e67-839f3091a23c",
   "metadata": {},
   "outputs": [
    {
     "name": "stdout",
     "output_type": "stream",
     "text": [
      "283.64341295400476\n"
     ]
    }
   ],
   "source": [
    "v = teneva.norm(Y)                # Compute the Frobenius norm\n",
    "print(v)                          # Print the resulting value"
   ]
  },
  {
   "cell_type": "code",
   "execution_count": 21,
   "id": "b97aa6ad-8784-49dd-b957-9feced09a95c",
   "metadata": {},
   "outputs": [
    {
     "name": "stdout",
     "output_type": "stream",
     "text": [
      "283.6434129540049\n",
      "Error     : 4.01e-16\n"
     ]
    }
   ],
   "source": [
    "Y_full = teneva.full(Y)           # Compute tensor in the full format to check the result\n",
    "\n",
    "v_full = np.linalg.norm(Y_full)\n",
    "print(v_full)                     # Print the resulting value from full tensor\n",
    "\n",
    "e = abs((v - v_full)/v_full)      # Compute error for TT-tensor vs full tensor \n",
    "print(f'Error     : {e:-8.2e}')   # Rel. error"
   ]
  },
  {
   "cell_type": "markdown",
   "id": "2a66637c-7535-42a4-a539-f8d2696d231f",
   "metadata": {
    "jp-MarkdownHeadingCollapsed": true,
    "tags": []
   },
   "source": [
    "## Function `qtt_to_tt`"
   ]
  },
  {
   "cell_type": "markdown",
   "id": "860eafc3-d4f7-4b16-9b21-2421fb2d6a55",
   "metadata": {},
   "source": [
    "Transform the QTT-tensor into a TT-tensor."
   ]
  },
  {
   "cell_type": "code",
   "execution_count": 22,
   "id": "d8f5db32-ef33-49a7-b872-a5f15fa4de4b",
   "metadata": {},
   "outputs": [
    {
     "name": "stdout",
     "output_type": "stream",
     "text": [
      "TT-tensor    20D : |2| |2| |2| |2| |2| |2| |2| |2| |2| |2| |2| |2| |2| |2| |2| |2| |2| |2| |2| |2|\n",
      "<rank>  =    5.0 :   \\3/ \\4/ \\5/ \\6/ \\7/ \\5/ \\4/ \\3/ \\6/ \\7/ \\5/ \\4/ \\3/ \\6/ \\7/ \\5/ \\4/ \\3/ \\6/\n",
      "\n",
      "TT-tensor     4D : |32| |32| |32| |32|\n",
      "<rank>  =    7.0 :    \\7/  \\7/  \\7/\n"
     ]
    }
   ],
   "source": [
    "d = 4                         # Dimension of the tensor\n",
    "q = 5                         # Quantization value (n=2^q)\n",
    "r = [                         # TT-ranks of the QTT-tensor\n",
    "    1,\n",
    "    3, 4, 5, 6, 7,\n",
    "    5, 4, 3, 6, 7,\n",
    "    5, 4, 3, 6, 7,\n",
    "    5, 4, 3, 6, 1,\n",
    "]      \n",
    "\n",
    "# Random QTT-tensor:\n",
    "Y = teneva.rand([2]*(d*q), r)\n",
    "\n",
    "# Related TT-tensor:\n",
    "Z = teneva.qtt_to_tt(Y, q)\n",
    "\n",
    "teneva.show(Y)                # Show QTT-tensor\n",
    "print()\n",
    "teneva.show(Z)                # Show TT-tensor"
   ]
  },
  {
   "cell_type": "markdown",
   "id": "9c6b72ba-ebf9-47a0-8abd-6bfc91ab1e62",
   "metadata": {},
   "source": [
    "We can check that values of the QTT-tensor and TT-tensor are the same:"
   ]
  },
  {
   "cell_type": "code",
   "execution_count": 23,
   "id": "62c4c093-5343-4145-8978-0a259d661837",
   "metadata": {},
   "outputs": [
    {
     "name": "stdout",
     "output_type": "stream",
     "text": [
      "QTT value :       4.067825\n",
      " TT value :       4.067825\n"
     ]
    }
   ],
   "source": [
    "# Multi-index for QTT-tensor:\n",
    "i = [\n",
    "    0, 1, 1, 0, 0,\n",
    "    0, 0, 1, 1, 0,\n",
    "    0, 1, 1, 1, 1,\n",
    "    0, 1, 1, 1, 0,\n",
    "]\n",
    "\n",
    "# Related multi-index for TT-tensor:\n",
    "j = teneva.ind_qtt_to_tt(i, q)\n",
    "\n",
    "print(f'QTT value : {teneva.get(Y, i):-14.6f}')\n",
    "print(f' TT value : {teneva.get(Z, j):-14.6f}')"
   ]
  },
  {
   "cell_type": "markdown",
   "id": "2a01e53b-a22d-4930-9df9-7c4c6071789f",
   "metadata": {},
   "source": [
    "We can also transform the TT-tensor back into QTT-tensor:"
   ]
  },
  {
   "cell_type": "code",
   "execution_count": 24,
   "id": "ce5e85bc-6398-431a-b17c-e7a6e22b6d1f",
   "metadata": {},
   "outputs": [
    {
     "data": {
      "text/plain": [
       "1.3084361360868113e-08"
      ]
     },
     "execution_count": 24,
     "metadata": {},
     "output_type": "execute_result"
    }
   ],
   "source": [
    "q = int(np.log2(n[0]))\n",
    "U = teneva.tt_to_qtt(Z)\n",
    "\n",
    "teneva.accuracy(Y, U)"
   ]
  },
  {
   "cell_type": "markdown",
   "id": "55e75583-aba6-4e13-ae57-60ac7dbdcdd3",
   "metadata": {
    "jp-MarkdownHeadingCollapsed": true
   },
   "source": [
    "## Function `sum`"
   ]
  },
  {
   "cell_type": "markdown",
   "id": "d3fa8159-401b-4793-973f-047d98492611",
   "metadata": {},
   "source": [
    "Compute sum of all tensor elements."
   ]
  },
  {
   "cell_type": "code",
   "execution_count": 25,
   "id": "7cd851ed-cfd7-4deb-b123-07df535df626",
   "metadata": {},
   "outputs": [
    {
     "data": {
      "text/plain": [
       "-10.421669993532463"
      ]
     },
     "execution_count": 25,
     "metadata": {},
     "output_type": "execute_result"
    }
   ],
   "source": [
    "Y = teneva.rand([10, 12, 8, 9, 30], 2) # 5-dim random TT-tensor with TT-rank 2\n",
    "teneva.sum(Y)                          # Sum of the TT-tensor elements"
   ]
  },
  {
   "cell_type": "code",
   "execution_count": 26,
   "id": "8e2965e7-7e9c-4983-9a78-c714d6a1b679",
   "metadata": {},
   "outputs": [
    {
     "data": {
      "text/plain": [
       "-10.421669993532458"
      ]
     },
     "execution_count": 26,
     "metadata": {},
     "output_type": "execute_result"
    }
   ],
   "source": [
    "Z = teneva.full(Y) # Compute tensor in the full format to check the result\n",
    "np.sum(Z)"
   ]
  },
  {
   "cell_type": "markdown",
   "id": "e8de479b-1b37-413d-9db4-dda4dc035a65",
   "metadata": {
    "tags": []
   },
   "source": [
    "## Function `tt_to_qtt`"
   ]
  },
  {
   "cell_type": "markdown",
   "id": "df355b13-2970-4426-b759-bac539671097",
   "metadata": {},
   "source": [
    "Transform the TT-tensor into a QTT-tensor."
   ]
  },
  {
   "cell_type": "code",
   "execution_count": 27,
   "id": "91bc8de4-cc8e-4c41-9beb-65459cd4a43a",
   "metadata": {
    "tags": []
   },
   "outputs": [
    {
     "name": "stdout",
     "output_type": "stream",
     "text": [
      "TT-tensor     4D : |32| |32| |32| |32|\n",
      "<rank>  =    4.0 :    \\4/  \\3/  \\6/\n",
      "\n",
      "TT-tensor    20D : |2| |2| |2| |2| |2| |2| |2|  |2|  |2| |2| |2| |2|  |2|  |2|  |2| |2|  |2| |2| |2| |2|\n",
      "<rank>  =    9.2 :   \\2/ \\4/ \\8/ \\8/ \\4/ \\8/ \\16/ \\12/ \\6/ \\3/ \\6/ \\12/ \\24/ \\12/ \\6/ \\12/ \\8/ \\4/ \\2/\n"
     ]
    }
   ],
   "source": [
    "d = 4                         # Dimension of the tensor\n",
    "n = [32] * d                  # Shape of the tensor\n",
    "r = [1, 4, 3, 6, 1]           # TT-ranks of the tensor\n",
    "Y = teneva.rand(n, r)         # Random TT-tensor\n",
    "Z = teneva.tt_to_qtt(Y)       # Related QTT-tensor\n",
    "\n",
    "teneva.show(Y)                # Show TT-tensor\n",
    "print()\n",
    "teneva.show(Z)                # Show QTT-tensor"
   ]
  },
  {
   "cell_type": "markdown",
   "id": "44e10d86-2243-4e1e-86c5-32c844e341a9",
   "metadata": {},
   "source": [
    "We can check that values of the TT-tensor and QTT-tensor are the same:"
   ]
  },
  {
   "cell_type": "code",
   "execution_count": 28,
   "id": "381eeb71-b183-4387-a7c6-64b9b25a63ea",
   "metadata": {},
   "outputs": [
    {
     "name": "stdout",
     "output_type": "stream",
     "text": [
      " TT value :      -0.144598\n",
      "QTT value :      -0.144598\n"
     ]
    }
   ],
   "source": [
    "# Multi-index for TT-tensor:\n",
    "i = [5, 10, 20, 30]\n",
    "\n",
    "# Related multi-index for QTT-tensor:\n",
    "j = teneva.ind_tt_to_qtt(i, n[0])\n",
    "\n",
    "print(f' TT value : {teneva.get(Y, i):-14.6f}')\n",
    "print(f'QTT value : {teneva.get(Z, j):-14.6f}')"
   ]
  },
  {
   "cell_type": "markdown",
   "id": "ceadb4d1-0019-4dd6-8989-2ddceabcf311",
   "metadata": {},
   "source": [
    "We can also transform the QTT-tensor back into TT-tensor:"
   ]
  },
  {
   "cell_type": "code",
   "execution_count": 29,
   "id": "2bd3eeb1-5ad6-44c2-b0e4-09a92a5f24ee",
   "metadata": {},
   "outputs": [
    {
     "data": {
      "text/plain": [
       "1.9914054150840573e-08"
      ]
     },
     "execution_count": 29,
     "metadata": {},
     "output_type": "execute_result"
    }
   ],
   "source": [
    "q = int(np.log2(n[0]))\n",
    "U = teneva.qtt_to_tt(Z, q)\n",
    "\n",
    "teneva.accuracy(Y, U)"
   ]
  },
  {
   "cell_type": "markdown",
   "id": "eb3bb4a5-db76-42b8-b0bc-ce9ee32abbca",
   "metadata": {},
   "source": [
    "We can also perform the transformation with limited precision: "
   ]
  },
  {
   "cell_type": "code",
   "execution_count": 30,
   "id": "806edf46-ba63-4328-87da-682991dff949",
   "metadata": {},
   "outputs": [
    {
     "name": "stdout",
     "output_type": "stream",
     "text": [
      "TT-tensor    20D : |2| |2| |2| |2| |2| |2| |2|  |2|  |2| |2| |2| |2|  |2|  |2|  |2| |2|  |2| |2| |2| |2|\n",
      "<rank>  =    8.9 :   \\2/ \\4/ \\8/ \\8/ \\4/ \\8/ \\16/ \\12/ \\6/ \\3/ \\6/ \\12/ \\20/ \\12/ \\6/ \\12/ \\8/ \\4/ \\2/\n"
     ]
    },
    {
     "data": {
      "text/plain": [
       "0.059217550885294686"
      ]
     },
     "execution_count": 30,
     "metadata": {},
     "output_type": "execute_result"
    }
   ],
   "source": [
    "Z = teneva.tt_to_qtt(Y, r=20)\n",
    "teneva.show(Z)\n",
    "\n",
    "U = teneva.qtt_to_tt(Z, q)\n",
    "teneva.accuracy(Y, U)"
   ]
  },
  {
   "cell_type": "markdown",
   "id": "5157c326-a02c-41fc-b82d-af0d55ddfb18",
   "metadata": {},
   "source": [
    "---"
   ]
  }
 ],
 "metadata": {
  "kernelspec": {
   "display_name": "Python 3 (ipykernel)",
   "language": "python",
   "name": "python3"
  },
  "language_info": {
   "codemirror_mode": {
    "name": "ipython",
    "version": 3
   },
   "file_extension": ".py",
   "mimetype": "text/x-python",
   "name": "python",
   "nbconvert_exporter": "python",
   "pygments_lexer": "ipython3",
   "version": "3.8.17"
  }
 },
 "nbformat": 4,
 "nbformat_minor": 5
}

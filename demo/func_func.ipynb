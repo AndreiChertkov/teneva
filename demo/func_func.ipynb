{
 "cells": [
  {
   "cell_type": "markdown",
   "id": "e51b9291-f33c-40ad-96ee-e2f9454ffc69",
   "metadata": {},
   "source": [
    "**Demo for `teneva.func.func`**\n",
    "\n",
    "---\n",
    "\n",
    "This module contains class that represents the multivariable function (black box) with various methods (including TT-ALS, TT-ANOVA and TT-CROSS) for constructing its low-rank tensor approximation in the TT-format and auxiliary utilities for building datasets (train, validation, test), check the accuracy, etc."
   ]
  },
  {
   "cell_type": "markdown",
   "id": "3896a55c-1131-44fc-b746-1433ad4ddb08",
   "metadata": {},
   "source": [
    "## Loading and importing modules"
   ]
  },
  {
   "cell_type": "code",
   "execution_count": 1,
   "id": "9941ed2c-6272-4144-8c96-4e800f0b5c49",
   "metadata": {},
   "outputs": [],
   "source": [
    "import numpy as np\n",
    "import teneva\n",
    "from time import perf_counter as tpc\n",
    "np.random.seed(42)"
   ]
  },
  {
   "cell_type": "markdown",
   "id": "92fb6419-6084-49cc-ac65-893dabcaa0b8",
   "metadata": {},
   "source": [
    "## Class `Func`"
   ]
  },
  {
   "cell_type": "markdown",
   "id": "971219c0-ea38-4e96-88bb-ba6442d8ca5e",
   "metadata": {},
   "source": [
    "Multivariable function with approximation methods and helpers."
   ]
  },
  {
   "cell_type": "markdown",
   "id": "c80b3361-7818-4d13-9ad7-94710437d459",
   "metadata": {},
   "source": [
    "First, let's denote in a compact form a convenient approach for approximating user-defined functions, and then consider the class interface in more detail:"
   ]
  },
  {
   "cell_type": "code",
   "execution_count": 2,
   "id": "7b2edd6a-1b70-4ac7-8db7-2cf7509a32ca",
   "metadata": {},
   "outputs": [],
   "source": [
    "# Prepare simple function (y = x_1^2 + x_2^2 + ... + x_5^2):\n",
    "func = teneva.Func(d=5, f_comp=lambda X: np.sum(X**2, axis=1), name='Sphere')\n",
    "func.set_lim(-2., +3.)\n",
    "func.set_grid(32, kind='cheb')\n",
    "func.build_tst_poi(m=1.E+4)"
   ]
  },
  {
   "cell_type": "code",
   "execution_count": 3,
   "id": "2dc1e7b4-6a05-46f2-a074-efca8baaa904",
   "metadata": {},
   "outputs": [
    {
     "name": "stdout",
     "output_type": "stream",
     "text": [
      "# pre | time:      0.241 | evals: 0.00e+00 (+ 0.00e+00) | rank:   2.0 | \n",
      "#   1 | time:      0.257 | evals: 1.94e+03 (+ 1.68e+02) | rank:   4.0 | eps: 5.3e+00 | \n",
      "#   2 | time:      0.284 | evals: 5.78e+03 (+ 1.77e+03) | rank:   6.0 | eps: 6.4e-09 | \n",
      "#   3 | time:      0.374 | evals: 1.46e+04 (+ 4.24e+03) | rank:   8.8 | eps: 0.0e+00 | stop: e | \n",
      "\n"
     ]
    }
   ],
   "source": [
    "# Approximate the function by TT-CROSS method:\n",
    "func.rand(r=2)\n",
    "func.cross(m=1.E+5, e=1.E-10, log=True)"
   ]
  },
  {
   "cell_type": "code",
   "execution_count": 4,
   "id": "0f349a50-aa5b-46ae-9a58-518f7f4f176b",
   "metadata": {},
   "outputs": [
    {
     "name": "stdout",
     "output_type": "stream",
     "text": [
      "Sphere          [CRO          ] > error: 1.2e-15 / 7.4e-16 | rank:  2.0 | time:   0.376\n"
     ]
    }
   ],
   "source": [
    "# Check accuracy of the approximation on the train and test datasets:\n",
    "func.check()\n",
    "func.info()"
   ]
  },
  {
   "cell_type": "code",
   "execution_count": 5,
   "id": "7d537775-e990-4747-8428-33ab8e8b52ab",
   "metadata": {},
   "outputs": [
    {
     "name": "stdout",
     "output_type": "stream",
     "text": [
      "Tensor multi-index : [1 1 1 1 1]\n",
      "Approximated value : 44.6160218744688848\n",
      "Real (exact) value : 44.6160218744689203\n"
     ]
    }
   ],
   "source": [
    "# Usage of approximation to compute the discretized function:\n",
    "i = np.array([1] * func.d, dtype=int)\n",
    "print(f'Tensor multi-index :', i)\n",
    "print(f'Approximated value : {func[i]:.16f}')\n",
    "print(f'Real (exact) value : {func.get_f_ind(i):.16f}')"
   ]
  },
  {
   "cell_type": "code",
   "execution_count": 6,
   "id": "f1a43d92-b84b-4382-991d-493fefc5114b",
   "metadata": {},
   "outputs": [
    {
     "name": "stdout",
     "output_type": "stream",
     "text": [
      "Spatial point      : [0.5 0.5 0.5 0.5 0.5]\n",
      "Approximated value : 1.2500000000000084\n",
      "Real (exact) value : 1.2500000000000000\n"
     ]
    }
   ],
   "source": [
    "# Usage of approximation to compute the original function:\n",
    "x = np.array([0.5] * func.d, dtype=float)\n",
    "print(f'Spatial point      :', x)\n",
    "print(f'Approximated value : {func(x):.16f}')\n",
    "print(f'Real (exact) value : {func.get_f_poi(x):.16f}')"
   ]
  },
  {
   "cell_type": "markdown",
   "id": "e33f0c66-b161-4531-8078-0a886a76bc66",
   "metadata": {},
   "source": [
    "And now let consider the \"Func\" class interface in more detail. We set simple 5-dimensional analytical function (note that we can set only one function \"f_calc\" / \"f_comp\" or both):"
   ]
  },
  {
   "cell_type": "code",
   "execution_count": 7,
   "id": "9d376868-08f2-4bc1-bb80-8f395ca5e725",
   "metadata": {},
   "outputs": [],
   "source": [
    "d = 5                           # Number of dimensions                   \n",
    "name = 'Sphere'                 # Optional display name of the function\n",
    "\n",
    "def f_calc(x):                  # Calculate function in one point (optional)  \n",
    "    return np.sum(x**2)         # (x is the 1D array of the shape [d])\n",
    "\n",
    "def f_comp(X):                  # Compute function in many points\n",
    "    return np.sum(X**2, axis=1) # (X is the 2D array of the shape [samples, d])"
   ]
  },
  {
   "cell_type": "code",
   "execution_count": 8,
   "id": "8fed30bd-edec-4ecf-a54d-ef941784f228",
   "metadata": {},
   "outputs": [],
   "source": [
    "# Create class instance of the function:\n",
    "func = teneva.Func(d, f_calc, f_comp, name)\n",
    "\n",
    "# Set lower (-2) and upper (+3) spatial bounds (number or list):\n",
    "func.set_lim(-2., [+3., +3., +3., +3., +3.])\n",
    "\n",
    "# Set number of grid points (number or list)\n",
    "# and kind of the grid ('uni' or 'cheb'):\n",
    "func.set_grid(32, kind='cheb')\n",
    "\n",
    "# Prepare test data (random 1.E+5 tensor indices):\n",
    "func.build_tst_ind(m=1.E+5)\n",
    "\n",
    "# Prepare test data (random 1.E+5 spatial points):\n",
    "func.build_tst_poi(m=1.E+5)"
   ]
  },
  {
   "cell_type": "markdown",
   "id": "016f300f-9a26-4e2a-9329-f4e7f57ef8bf",
   "metadata": {},
   "source": [
    "Then we can approximate the function by TT-CROSS (note that the train data will be collected from the cache of the TT-CROSS requests to the target function):"
   ]
  },
  {
   "cell_type": "code",
   "execution_count": 9,
   "id": "07c94243-1810-4364-8bd4-b34eba9ee372",
   "metadata": {},
   "outputs": [
    {
     "name": "stdout",
     "output_type": "stream",
     "text": [
      "# pre | time:      0.004 | evals: 0.00e+00 (+ 0.00e+00) | rank:   2.0 | \n",
      "#   1 | time:      0.022 | evals: 1.94e+03 (+ 1.68e+02) | rank:   4.0 | eps: 6.1e+00 | \n",
      "#   2 | time:      0.054 | evals: 5.78e+03 (+ 1.77e+03) | rank:   6.0 | eps: 6.4e-09 | \n",
      "#   3 | time:      0.145 | evals: 1.45e+04 (+ 4.27e+03) | rank:   8.8 | eps: 0.0e+00 | stop: e | \n",
      "\n",
      "==================================================\n",
      "------------------- | Sphere function\n",
      "Method              : CRO\n",
      "\n",
      "Evals function      : 1.5e+04\n",
      "Evals cache         : 4.3e+03\n",
      "TT-rank             :     2.0\n",
      "Number of params    : 5.1e+02\n",
      "\n",
      "Samples trn ind     : 1.5e+04\n",
      "Samples tst ind     : 1.0e+05\n",
      "Samples tst poi     : 1.0e+05\n",
      "\n",
      "Error trn ind       : 1.2e-15\n",
      "Error tst ind       : 7.8e-16\n",
      "Error tst poi       : 7.4e-16\n",
      "\n",
      "Time approximation  :   0.147\n",
      "Time trn check ind  :   0.042\n",
      "Time tst build ind  :   0.037\n",
      "Time tst check ind  :   0.506\n",
      "Time tst build poi  :   0.970\n",
      "Time tst check poi  :   3.604\n",
      "\n",
      "Sweeps              :       3\n",
      "==================================================\n"
     ]
    }
   ],
   "source": [
    "func.rand(r=2)               # Build initial approximation (random TT-tensor of the rank r)\n",
    "func.cross(m=1.E+5,          # Build TT-approximation by TT-CROSS\n",
    "    e=1.E-10, log=True)          \n",
    "func.check_trn_ind()         # Check accuracy on the train data (tensor indices from TT-CROSS)\n",
    "func.check_tst_ind()         # Check accuracy on the test data (random tensor indices)\n",
    "func.check_tst_poi()         # Check accuracy on the test data (random spatial points)\n",
    "func.info_full()             # Print the result"
   ]
  },
  {
   "cell_type": "markdown",
   "id": "ffd68852-7eaa-4e95-84cb-28b96b068b1c",
   "metadata": {},
   "source": [
    "We can also approximate the function by TT-ANOVA:"
   ]
  },
  {
   "cell_type": "code",
   "execution_count": 10,
   "id": "40425082-b3a9-4cd5-a9ea-fe57a9050abd",
   "metadata": {},
   "outputs": [
    {
     "name": "stdout",
     "output_type": "stream",
     "text": [
      "==================================================\n",
      "------------------- | Sphere function\n",
      "Method              : ANO\n",
      "\n",
      "Evals function      : 1.0e+05\n",
      "TT-rank             :     2.0\n",
      "Number of params    : 5.1e+02\n",
      "\n",
      "Samples trn ind     : 1.0e+05\n",
      "Samples tst ind     : 1.0e+05\n",
      "Samples tst poi     : 1.0e+05\n",
      "\n",
      "Error trn ind       : 1.3e-02\n",
      "Error tst ind       : 1.3e-02\n",
      "Error tst poi       : 1.8e-02\n",
      "\n",
      "Time approximation  :   0.062\n",
      "Time trn build ind  :   0.036\n",
      "Time trn check ind  :   0.280\n",
      "Time tst build ind  :   0.037\n",
      "Time tst check ind  :   0.490\n",
      "Time tst build poi  :   0.970\n",
      "Time tst check poi  :   3.466\n",
      "\n",
      "==================================================\n"
     ]
    }
   ],
   "source": [
    "func.clear()                 # Remove results of the previous approximation\n",
    "func.build_trn_ind(m=1.E+5)  # Prepare train data (random tensor indices)\n",
    "func.anova()                 # Build TT-approximation by TT-ANOVA\n",
    "func.check()                 # Check accuracy on all available data\n",
    "func.info_full()             # Print the result"
   ]
  },
  {
   "cell_type": "markdown",
   "id": "c9d3b3ff-03ea-4e1b-aa8d-4e4bb08223e8",
   "metadata": {},
   "source": [
    "And we can approximate the function by TT-ALS:"
   ]
  },
  {
   "cell_type": "code",
   "execution_count": 14,
   "id": "2af7e00f-5d40-4c7a-83cd-bda7d97e61de",
   "metadata": {},
   "outputs": [
    {
     "name": "stdout",
     "output_type": "stream",
     "text": [
      "# pre | time:      0.033 | rank:   2.0 | \n",
      "#   1 | time:      0.210 | rank:   2.0 | eps: 1.1e+00 | \n",
      "#   2 | time:      0.377 | rank:   2.0 | eps: 4.5e+00 | \n",
      "#   3 | time:      0.552 | rank:   2.0 | eps: 1.9e+00 | \n",
      "#   4 | time:      0.728 | rank:   2.0 | eps: 6.8e-02 | \n",
      "#   5 | time:      0.898 | rank:   2.0 | eps: 1.6e-02 | \n",
      "#   6 | time:      1.066 | rank:   2.0 | eps: 1.3e-04 | \n",
      "#   7 | time:      1.239 | rank:   2.0 | eps: 2.1e-06 | \n",
      "#   8 | time:      1.411 | rank:   2.0 | eps: 3.9e-08 | \n",
      "#   9 | time:      1.581 | rank:   2.0 | eps: 3.7e-08 | \n",
      "#  10 | time:      1.751 | rank:   2.0 | eps: 2.9e-08 | \n",
      "#  11 | time:      1.919 | rank:   2.0 | eps: 1.8e-08 | \n",
      "#  12 | time:      2.088 | rank:   2.0 | eps: 0.0e+00 | stop: e | \n",
      "==================================================\n",
      "------------------- | Sphere function\n",
      "Method              : ALS\n",
      "\n",
      "Evals function      : 1.0e+05\n",
      "TT-rank             :     2.0\n",
      "Number of params    : 5.1e+02\n",
      "\n",
      "Samples trn ind     : 1.0e+05\n",
      "Samples tst ind     : 1.0e+05\n",
      "Samples tst poi     : 1.0e+05\n",
      "\n",
      "Error trn ind       : 1.9e-15\n",
      "Error tst ind       : 1.9e-15\n",
      "Error tst poi       : 2.1e-15\n",
      "\n",
      "Time approximation  :   2.095\n",
      "Time trn build ind  :   0.030\n",
      "Time trn check ind  :   0.258\n",
      "Time tst build ind  :   0.037\n",
      "Time tst check ind  :   0.517\n",
      "Time tst build poi  :   0.970\n",
      "Time tst check poi  :   3.638\n",
      "\n",
      "Sweeps              :      12\n",
      "==================================================\n"
     ]
    }
   ],
   "source": [
    "func.clear()                 # Remove results of the previous approximation\n",
    "func.build_trn_ind(m=1.E+5)  # Prepare train data (random tensor indices)\n",
    "func.rand(r=2)               # Build initial approximation\n",
    "func.als(log=True)           # Build TT-approximation by TT-ALS\n",
    "func.check()                 # Check accuracy on all available data\n",
    "func.info_full()             # Print the result"
   ]
  },
  {
   "cell_type": "markdown",
   "id": "1c6ad8dd-8fa1-430e-8105-ae9cb64cce00",
   "metadata": {},
   "source": [
    "We can approximate the function by TT-ANOVA + TT-ALS (we may combine the approximation methods; in this example we use the result of the TT-ANOVA as an initial approximation for the TT-ALS algorithm):"
   ]
  },
  {
   "cell_type": "code",
   "execution_count": 16,
   "id": "5ff7a212-d770-47bc-b944-77b9781b0b44",
   "metadata": {},
   "outputs": [
    {
     "name": "stdout",
     "output_type": "stream",
     "text": [
      "# pre | time:      0.045 | rank:   2.0 | \n",
      "#   1 | time:      0.216 | rank:   2.0 | eps: 1.1e-02 | \n",
      "#   2 | time:      0.405 | rank:   2.0 | eps: 3.0e-04 | \n",
      "#   3 | time:      0.568 | rank:   2.0 | eps: 3.1e-06 | \n",
      "#   4 | time:      0.735 | rank:   2.0 | eps: 4.6e-08 | \n",
      "#   5 | time:      0.897 | rank:   2.0 | eps: 1.8e-08 | \n",
      "#   6 | time:      1.067 | rank:   2.0 | eps: 1.3e-08 | \n",
      "#   7 | time:      1.244 | rank:   2.0 | eps: 1.9e-08 | \n",
      "#   8 | time:      1.421 | rank:   2.0 | eps: 0.0e+00 | stop: e | \n",
      "==================================================\n",
      "------------------- | Sphere function\n",
      "Method              : ANO-ALS\n",
      "\n",
      "Evals function      : 1.0e+05\n",
      "TT-rank             :     2.0\n",
      "Number of params    : 5.1e+02\n",
      "\n",
      "Samples trn ind     : 1.0e+05\n",
      "Samples tst ind     : 1.0e+05\n",
      "Samples tst poi     : 1.0e+05\n",
      "\n",
      "Error trn ind       : 1.8e-15\n",
      "Error tst ind       : 1.8e-15\n",
      "Error tst poi       : 2.6e-15\n",
      "\n",
      "Time approximation  :   1.486\n",
      "Time trn build ind  :   0.034\n",
      "Time trn check ind  :   0.250\n",
      "Time tst build ind  :   0.037\n",
      "Time tst check ind  :   0.470\n",
      "Time tst build poi  :   0.970\n",
      "Time tst check poi  :   3.620\n",
      "\n",
      "Sweeps              :       8\n",
      "==================================================\n"
     ]
    }
   ],
   "source": [
    "func.clear()                 # Remove results of the previous approximation\n",
    "func.build_trn_ind(m=1.E+5)  # Prepare train data (random tensor indices)\n",
    "func.anova(r=2, order=1)     # Apply TT-ANOVA\n",
    "func.als(log=True)           # Apply TT-ALS, using TT-ANOVA as initial approximation\n",
    "func.check()                 # Check accuracy on all available data\n",
    "func.info_full()             # Print the result"
   ]
  },
  {
   "cell_type": "markdown",
   "id": "22ef3e00-5824-4891-89e2-4d09a0670740",
   "metadata": {},
   "source": [
    "We can approximate the function by TT-ANOVA + TT-CROSS (note that the total number of function queries, i.e. 1.E+4 + 9.E+4) will be the same as above):"
   ]
  },
  {
   "cell_type": "code",
   "execution_count": 17,
   "id": "3a088d1e-c7e1-4033-a6fa-b2fcd0b8801c",
   "metadata": {},
   "outputs": [
    {
     "name": "stdout",
     "output_type": "stream",
     "text": [
      "# pre | time:      0.003 | evals: 0.00e+00 (+ 0.00e+00) | rank:   2.0 | \n",
      "#   1 | time:      0.016 | evals: 1.66e+03 (+ 4.47e+02) | rank:   4.0 | eps: 3.7e-02 | \n",
      "#   2 | time:      0.099 | evals: 5.50e+03 (+ 2.05e+03) | rank:   6.0 | eps: 6.4e-09 | \n",
      "#   3 | time:      0.184 | evals: 1.43e+04 (+ 4.49e+03) | rank:   8.8 | eps: 0.0e+00 | \n",
      "#   4 | time:      0.380 | evals: 2.88e+04 (+ 1.36e+04) | rank:  12.7 | eps: 2.0e-08 | \n",
      "#   5 | time:      0.934 | evals: 5.52e+04 (+ 3.04e+04) | rank:  16.7 | eps: 7.6e-09 | \n",
      "#   5 | time:      1.197 | evals: 8.33e+04 (+ 5.79e+04) | rank:  20.3 | eps: 7.6e-09 | stop: m | \n",
      "\n",
      "==================================================\n",
      "------------------- | Sphere function\n",
      "Method              : ANO-CRO\n",
      "\n",
      "Evals function      : 9.3e+04\n",
      "Evals cache         : 5.8e+04\n",
      "TT-rank             :     3.0\n",
      "Number of params    : 1.1e+03\n",
      "\n",
      "Samples trn ind     : 8.3e+04\n",
      "Samples tst ind     : 1.0e+05\n",
      "Samples tst poi     : 1.0e+05\n",
      "\n",
      "Error trn ind       : 3.3e-15\n",
      "Error tst ind       : 1.9e-15\n",
      "Error tst poi       : 2.0e-15\n",
      "\n",
      "Time approximation  :   1.210\n",
      "Time trn check ind  :   0.221\n",
      "Time tst build ind  :   0.037\n",
      "Time tst check ind  :   0.591\n",
      "Time tst build poi  :   0.970\n",
      "Time tst check poi  :   3.728\n",
      "\n",
      "Sweeps              :       5\n",
      "==================================================\n"
     ]
    }
   ],
   "source": [
    "func.clear()                 # Remove results of the previous approximation\n",
    "func.build_trn_ind(m=1.E+4)  # Prepare train data (random tensor indices)\n",
    "func.anova(r=2, order=1)     # Apply TT-ANOVA\n",
    "func.cross(m=9.E+4, log=True)# Apply TT-CROSS, using TT-ANOVA as initial approximation   \n",
    "func.check()                 # Check accuracy on all available data\n",
    "func.info_full()             # Print the result"
   ]
  },
  {
   "cell_type": "markdown",
   "id": "a9d762af-9e99-44b5-a899-d32a61527979",
   "metadata": {},
   "source": [
    "We can compute the value of approximation for any point inside the grid bounds:"
   ]
  },
  {
   "cell_type": "code",
   "execution_count": 18,
   "id": "f002b4bb-b1d5-4449-ada6-b0b92d8982c8",
   "metadata": {},
   "outputs": [
    {
     "name": "stdout",
     "output_type": "stream",
     "text": [
      "Approximated value :       1.2500000000\n",
      "Real (exact) value :       1.2500000000\n"
     ]
    }
   ],
   "source": [
    "x = np.array([0.5] * 5)     # Spatial point [0.5, ..., 0.5]\n",
    "y_appr = func.get_poi(x)    # Approximated value\n",
    "y_real = func.get_f_poi(x)  # Real (exact) value\n",
    "\n",
    "print(f'Approximated value : {y_appr:-18.10f}')\n",
    "print(f'Real (exact) value : {y_real:-18.10f}')"
   ]
  },
  {
   "cell_type": "markdown",
   "id": "8913a9f5-633e-4d44-94b2-899bc079233e",
   "metadata": {},
   "source": [
    "We can compute the value of approximation for any batch of points inside the grid bounds:"
   ]
  },
  {
   "cell_type": "code",
   "execution_count": 19,
   "id": "56a9b950-5d47-4e13-b2fb-29c5580b7408",
   "metadata": {},
   "outputs": [
    {
     "name": "stdout",
     "output_type": "stream",
     "text": [
      "Appr :      -0.0000000000 | Real:       0.0000000000\n",
      "Appr :       1.2500000000 | Real:       1.2500000000\n",
      "Appr :       5.0000000000 | Real:       5.0000000000\n",
      "Appr :      11.2500000000 | Real:      11.2500000000\n"
     ]
    }
   ],
   "source": [
    "X = np.array([                # Spatial points\n",
    "    [0.] * 5,\n",
    "    [0.5] * 5,\n",
    "    [1.] * 5,\n",
    "    [1.5] * 5,\n",
    "])   \n",
    "Y_appr = func.get_poi(X)      # Approximated values\n",
    "Y_real = func.get_f_poi(X)    # Real (exact) values\n",
    "\n",
    "for y_appr, y_real in zip(Y_appr, Y_real):\n",
    "    print(f'Appr : {y_appr:-18.10f} | Real: {y_real:-18.10f}')"
   ]
  },
  {
   "cell_type": "markdown",
   "id": "ca8050ec-7fbc-415d-8a47-bb6ce5bbfda1",
   "metadata": {},
   "source": [
    "We may also use the \"call\" notation:"
   ]
  },
  {
   "cell_type": "code",
   "execution_count": 20,
   "id": "953d55ce-d745-4644-a8fc-436e53249330",
   "metadata": {},
   "outputs": [
    {
     "name": "stdout",
     "output_type": "stream",
     "text": [
      "[-3.64153152e-14  1.25000000e+00  5.00000000e+00  1.12500000e+01]\n"
     ]
    }
   ],
   "source": [
    "Y_appr = func(X)\n",
    "print(Y_appr)"
   ]
  },
  {
   "cell_type": "markdown",
   "id": "3f0e6365-3b1d-4011-99ad-0e2a6104fe11",
   "metadata": {},
   "source": [
    "We can compute the value of approximation for any tensor multi-indices:"
   ]
  },
  {
   "cell_type": "code",
   "execution_count": 21,
   "id": "0800a332-75a7-4c4f-80dc-1d4ba93d7126",
   "metadata": {},
   "outputs": [
    {
     "name": "stdout",
     "output_type": "stream",
     "text": [
      "Appr :      45.0000000000 | Real:      45.0000000000\n",
      "Appr :      44.6160218745 | Real:      44.6160218745\n",
      "Appr :       1.8059171282 | Real:       1.8059171282\n",
      "Appr :      12.0421015606 | Real:      12.0421015606\n"
     ]
    }
   ],
   "source": [
    "# Tensor multiindices:\n",
    "I = np.array([            \n",
    "    [0] * 5,\n",
    "    [1] * 5,\n",
    "    [20] * 5,\n",
    "    [25] * 5,\n",
    "])\n",
    "\n",
    "# Related spatial points:\n",
    "X = teneva.ind_to_poi(I, func.a, func.b, func.n, func.kind)\n",
    "\n",
    "Y_appr = func.get_ind(I)    # Values of the tensor items\n",
    "Y_real = func.get_f_poi(X)  # Real (exact) values in the related points\n",
    "\n",
    "for y_appr, y_real in zip(Y_appr, Y_real):\n",
    "    print(f'Appr : {y_appr:-18.10f} | Real: {y_real:-18.10f}')"
   ]
  },
  {
   "cell_type": "markdown",
   "id": "9a7f37e7-9708-43b1-900f-feb83e4187fd",
   "metadata": {},
   "source": [
    "We may also use the \"getitem\" notation:"
   ]
  },
  {
   "cell_type": "code",
   "execution_count": 22,
   "id": "0891c0ff-c5b0-47cd-ad38-825970a7770c",
   "metadata": {},
   "outputs": [
    {
     "name": "stdout",
     "output_type": "stream",
     "text": [
      "[45.         44.61602187  1.80591713 12.04210156]\n"
     ]
    }
   ],
   "source": [
    "Y_appr = func[I]\n",
    "print(Y_appr)"
   ]
  },
  {
   "cell_type": "markdown",
   "id": "b0d77937-5135-4e89-a29f-0176382a8386",
   "metadata": {},
   "source": [
    "And for one multi-index:"
   ]
  },
  {
   "cell_type": "code",
   "execution_count": 23,
   "id": "7c6db357-ef4f-4822-b7fb-6ccbb63f76e6",
   "metadata": {},
   "outputs": [
    {
     "name": "stdout",
     "output_type": "stream",
     "text": [
      "45.00000000000045\n"
     ]
    }
   ],
   "source": [
    "i = I[0, :]\n",
    "Y_appr = func[i]\n",
    "print(Y_appr)"
   ]
  },
  {
   "cell_type": "markdown",
   "id": "2c097150-a942-40f8-bf18-dd992661c633",
   "metadata": {},
   "source": [
    "We can also approximate all demo functions (benchmarks) by any method, e.x. TT-CROSS:"
   ]
  },
  {
   "cell_type": "code",
   "execution_count": 24,
   "id": "5ba72e98-ef2e-4b8d-ae2b-3c1fa988bc05",
   "metadata": {},
   "outputs": [
    {
     "name": "stdout",
     "output_type": "stream",
     "text": [
      "Ackley          [CRO          ] > error: 4.1e-05 / 1.5e-07 / 1.6e-02 | rank:  9.1 | time:   0.773\n",
      "Alpine          [CRO          ] > error: 1.3e-14 / 7.1e-15 / 3.5e-02 | rank:  2.3 | time:   0.732\n",
      "Dixon           [CRO          ] > error: 3.2e-12 / 2.2e-12 / 6.8e-12 | rank:  5.1 | time:   0.756\n",
      "Exponential     [CRO          ] > error: 7.5e-16 / 8.7e-16 / 1.1e-15 | rank:  3.3 | time:   0.833\n",
      "Grienwank       [CRO          ] > error: 2.5e-15 / 1.3e-15 / 1.5e-04 | rank:  3.0 | time:   0.722\n",
      "Michalewicz     [CRO          ] > error: 3.6e-15 / 3.9e-15 / 4.0e-01 | rank:  5.4 | time:   0.980\n",
      "Qing            [CRO          ] > error: 2.7e-14 / 5.8e-15 / 6.7e-15 | rank:  5.1 | time:   1.077\n",
      "Rastrigin       [CRO          ] > error: 2.3e-14 / 1.1e-14 / 6.9e-02 | rank:  2.4 | time:   0.993\n",
      "Rosenbrock      [CRO          ] > error: 3.2e-14 / 1.1e-14 / 2.2e-14 | rank:  4.4 | time:   0.778\n",
      "Schaffer        [CRO          ] > error: 1.4e-04 / 8.9e-04 / 5.5e-02 | rank: 12.9 | time:   0.820\n",
      "Schwefel        [CRO          ] > error: 2.7e-14 / 9.3e-15 / 9.1e-03 | rank:  2.3 | time:   0.784\n"
     ]
    }
   ],
   "source": [
    "for func in teneva.func_demo_all(d=10):\n",
    "    func.clear()\n",
    "    func.set_grid(32, kind='cheb')\n",
    "    func.build_tst_ind(m=1.E+5)\n",
    "    func.build_tst_poi(m=1.E+5)\n",
    "    func.rand(r=2)\n",
    "    func.cross(m=1.E+5)\n",
    "    func.check()\n",
    "    func.info()"
   ]
  },
  {
   "cell_type": "markdown",
   "id": "ddea7025-c993-4e39-8ba7-a97293d88038",
   "metadata": {},
   "source": [
    "And for the finer grid and more requests to the target function, we will have the more accurate result:"
   ]
  },
  {
   "cell_type": "code",
   "execution_count": 25,
   "id": "414a1cf8-0d39-4ef1-bba7-c6a72fe19ba1",
   "metadata": {},
   "outputs": [
    {
     "name": "stdout",
     "output_type": "stream",
     "text": [
      "Ackley          [CRO          ] > error: 2.0e-03 / 9.3e-07 / 3.5e-04 | rank: 10.3 | time:  10.198\n",
      "Alpine          [CRO          ] > error: 9.6e-14 / 1.2e-14 / 1.3e-03 | rank:  3.9 | time:   9.800\n",
      "Dixon           [CRO          ] > error: 2.1e-12 / 1.0e-12 / 3.2e-12 | rank:  6.8 | time:  10.060\n",
      "Exponential     [CRO          ] > error: 2.3e-15 / 1.4e-15 / 1.2e-15 | rank:  7.4 | time:   9.596\n",
      "Grienwank       [CRO          ] > error: 1.4e-11 / 2.2e-12 / 1.3e-04 | rank:  5.7 | time:  11.695\n",
      "Michalewicz     [CRO          ] > error: 1.4e-14 / 4.8e-15 / 7.3e-04 | rank:  2.3 | time:  10.420\n",
      "Qing            [CRO          ] > error: 9.0e-14 / 3.5e-15 / 4.3e-15 | rank:  4.5 | time:   9.563\n",
      "Rastrigin       [CRO          ] > error: 7.7e-14 / 1.7e-14 / 2.9e-14 | rank:  3.5 | time:   9.999\n",
      "Rosenbrock      [CRO          ] > error: 2.6e-14 / 1.0e-14 / 2.2e-14 | rank:  5.7 | time:  10.176\n",
      "Schaffer        [CRO          ] > error: 7.4e-03 / 2.2e-02 / 2.9e-02 | rank: 14.4 | time:  10.472\n",
      "Schwefel        [CRO          ] > error: 8.3e-14 / 1.6e-14 / 1.3e-05 | rank:  4.8 | time:   9.488\n"
     ]
    }
   ],
   "source": [
    "for func in teneva.func_demo_all(d=10):\n",
    "    func.clear()\n",
    "    func.set_grid(256, kind='cheb')\n",
    "    func.build_tst_ind(m=1.E+5)\n",
    "    func.build_tst_poi(m=1.E+5)\n",
    "    func.rand(r=3)\n",
    "    func.cross(m=1.E+6)\n",
    "    func.check()\n",
    "    func.info()"
   ]
  },
  {
   "cell_type": "markdown",
   "id": "94285ab7-5809-4d63-a626-092b04a8825b",
   "metadata": {},
   "source": [
    "Note that the errors are displayed in the following order (if there is no corresponding data, then the value is skipped): training set (index, then point), validation set (index, then point), test set (index, then point)."
   ]
  },
  {
   "cell_type": "markdown",
   "id": "5157c326-a02c-41fc-b82d-af0d55ddfb18",
   "metadata": {},
   "source": [
    "---"
   ]
  }
 ],
 "metadata": {
  "kernelspec": {
   "display_name": "Python 3",
   "language": "python",
   "name": "python3"
  },
  "language_info": {
   "codemirror_mode": {
    "name": "ipython",
    "version": 3
   },
   "file_extension": ".py",
   "mimetype": "text/x-python",
   "name": "python",
   "nbconvert_exporter": "python",
   "pygments_lexer": "ipython3",
   "version": "3.8.8"
  }
 },
 "nbformat": 4,
 "nbformat_minor": 5
}

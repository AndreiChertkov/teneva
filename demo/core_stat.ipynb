{
 "cells": [
  {
   "cell_type": "markdown",
   "id": "e51b9291-f33c-40ad-96ee-e2f9454ffc69",
   "metadata": {},
   "source": [
    "**Demo for `teneva.core.stat`**\n",
    "\n",
    "---\n",
    "\n",
    "Module contains helper functions for processing statistics."
   ]
  },
  {
   "cell_type": "markdown",
   "id": "3896a55c-1131-44fc-b746-1433ad4ddb08",
   "metadata": {},
   "source": [
    "## Loading and importing modules"
   ]
  },
  {
   "cell_type": "code",
   "execution_count": 1,
   "id": "9941ed2c-6272-4144-8c96-4e800f0b5c49",
   "metadata": {},
   "outputs": [],
   "source": [
    "import numpy as np\n",
    "import teneva\n",
    "from time import perf_counter as tpc\n",
    "np.random.seed(42)"
   ]
  },
  {
   "cell_type": "markdown",
   "id": "49cadbcf-729c-4e93-bfdf-efb77c4e0d58",
   "metadata": {},
   "source": [
    "## Function `cdf_confidence`"
   ]
  },
  {
   "cell_type": "markdown",
   "id": "fd85c1c4-ba25-4788-a1ad-b42ab5c6d952",
   "metadata": {},
   "source": [
    "Constructs a Dvoretzky-Kiefer-Wolfowitz confidence band for the CDF."
   ]
  },
  {
   "cell_type": "code",
   "execution_count": 2,
   "id": "bf65693b-d3d5-4e42-afc8-d4f5a6631a0c",
   "metadata": {},
   "outputs": [
    {
     "name": "stdout",
     "output_type": "stream",
     "text": [
      "  0.4967 |   0.1461 |   0.8474\n",
      " -0.1383 |   0.0000 |   0.2124\n",
      "  0.6477 |   0.2970 |   0.9983\n",
      "  1.5230 |   1.0000 |   1.0000\n",
      " -0.2342 |   0.0000 |   0.1165\n",
      " -0.2341 |   0.0000 |   0.1165\n",
      "  1.5792 |   1.0000 |   1.0000\n",
      "  0.7674 |   0.4168 |   1.0000\n",
      " -0.4695 |   0.0000 |   0.0000\n",
      "  0.5426 |   0.1919 |   0.8932\n",
      " -0.4634 |   0.0000 |   0.0000\n",
      " -0.4657 |   0.0000 |   0.0000\n",
      "  0.2420 |   0.0000 |   0.5926\n",
      " -1.9133 |   0.0000 |   0.0000\n",
      " -1.7249 |   0.0000 |   0.0000\n"
     ]
    }
   ],
   "source": [
    "points = np.random.randn(15)                     # Statistical points\n",
    "cdf_min, cdf_max = teneva.cdf_confidence(points) # Compute the confidence\n",
    "for p, c_min, c_max in zip(points, cdf_min, cdf_max):\n",
    "    print(f'{p:-8.4f} | {c_min:-8.4f} | {c_max:-8.4f}')"
   ]
  },
  {
   "cell_type": "markdown",
   "id": "ed615c56-8b1a-4965-a57f-1b6cd29ba46e",
   "metadata": {},
   "source": [
    "## Function `cdf_getter`"
   ]
  },
  {
   "cell_type": "markdown",
   "id": "adbf7982-1a8a-449a-a11c-70af81d187c8",
   "metadata": {},
   "source": [
    "Build the getter for CDF."
   ]
  },
  {
   "cell_type": "code",
   "execution_count": 3,
   "id": "48710d3b-e61a-4dad-8351-dfd04fe242d4",
   "metadata": {},
   "outputs": [],
   "source": [
    "x = np.random.randn(1000)      # Statistical points\n",
    "cdf = teneva.cdf_getter(x)     # Build the CDF getter"
   ]
  },
  {
   "cell_type": "code",
   "execution_count": 4,
   "id": "f3fa4468-03d9-47e7-9a63-4f7b52907d35",
   "metadata": {},
   "outputs": [
    {
     "data": {
      "text/plain": [
       "0.0"
      ]
     },
     "execution_count": 4,
     "metadata": {},
     "output_type": "execute_result"
    }
   ],
   "source": [
    "z = -9999  # Point for CDF computations\n",
    "cdf(z)"
   ]
  },
  {
   "cell_type": "code",
   "execution_count": 5,
   "id": "ea57b534-bd33-49dc-af66-500d5752b476",
   "metadata": {},
   "outputs": [
    {
     "data": {
      "text/plain": [
       "1.0"
      ]
     },
     "execution_count": 5,
     "metadata": {},
     "output_type": "execute_result"
    }
   ],
   "source": [
    "z = +9999  # Point for CDF computations\n",
    "cdf(z)"
   ]
  },
  {
   "cell_type": "code",
   "execution_count": 6,
   "id": "540da3ae-b0fc-4834-bbee-57c931fac7ba",
   "metadata": {},
   "outputs": [
    {
     "data": {
      "text/plain": [
       "array([0.   , 0.   , 0.145, 0.485, 1.   ])"
      ]
     },
     "execution_count": 6,
     "metadata": {},
     "output_type": "execute_result"
    }
   ],
   "source": [
    "z = [-10000, -10, -1, 0, 100]  # Several points for CDF computations\n",
    "cdf(z)"
   ]
  },
  {
   "cell_type": "markdown",
   "id": "5157c326-a02c-41fc-b82d-af0d55ddfb18",
   "metadata": {},
   "source": [
    "---"
   ]
  }
 ],
 "metadata": {
  "kernelspec": {
   "display_name": "Python 3",
   "language": "python",
   "name": "python3"
  },
  "language_info": {
   "codemirror_mode": {
    "name": "ipython",
    "version": 3
   },
   "file_extension": ".py",
   "mimetype": "text/x-python",
   "name": "python",
   "nbconvert_exporter": "python",
   "pygments_lexer": "ipython3",
   "version": "3.8.8"
  }
 },
 "nbformat": 4,
 "nbformat_minor": 5
}

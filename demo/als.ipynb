{
 "cells": [
  {
   "cell_type": "markdown",
   "id": "e51b9291-f33c-40ad-96ee-e2f9454ffc69",
   "metadata": {},
   "source": [
    "**Demo for `teneva.als`**\n",
    "\n",
    "---\n",
    "\n",
    "This module contains the function \"als\" which computes the TT-approximation for the tensor by TT-ALS algorithm, using given random samples."
   ]
  },
  {
   "cell_type": "markdown",
   "id": "3896a55c-1131-44fc-b746-1433ad4ddb08",
   "metadata": {},
   "source": [
    "## Loading and importing modules"
   ]
  },
  {
   "cell_type": "code",
   "execution_count": 1,
   "id": "9941ed2c-6272-4144-8c96-4e800f0b5c49",
   "metadata": {
    "ExecuteTime": {
     "end_time": "2023-10-08T22:31:08.203574Z",
     "start_time": "2023-10-08T22:31:08.021951Z"
    }
   },
   "outputs": [],
   "source": [
    "import numpy as np\n",
    "import teneva\n",
    "from time import perf_counter as tpc\n",
    "np.random.seed(42)"
   ]
  },
  {
   "cell_type": "markdown",
   "id": "3f6437a4-a93e-4265-9fc6-7d4f46a76c4d",
   "metadata": {},
   "source": [
    "## Function `als`"
   ]
  },
  {
   "cell_type": "markdown",
   "id": "cfe8a9e9-ac37-4f38-8008-f81f857ad833",
   "metadata": {},
   "source": [
    "Build TT-tensor by TT-ALS method using given random tensor samples."
   ]
  },
  {
   "cell_type": "code",
   "execution_count": 2,
   "id": "d905d98d-0183-4522-9395-60a001494b18",
   "metadata": {
    "ExecuteTime": {
     "end_time": "2023-10-08T22:31:08.207487Z",
     "start_time": "2023-10-08T22:31:08.205039Z"
    }
   },
   "outputs": [],
   "source": [
    "d    = 5                          # Dimension of the function\n",
    "a    = [-5., -4., -3., -2., -1.]  # Lower bounds for spatial grid\n",
    "b    = [+6., +3., +3., +1., +2.]  # Upper bounds for spatial grid\n",
    "n    = [ 10,  12,  14,  16,  18]  # Shape of the tensor"
   ]
  },
  {
   "cell_type": "code",
   "execution_count": 3,
   "id": "aba30907-47c9-42af-b49b-555ed7ad96c9",
   "metadata": {
    "ExecuteTime": {
     "end_time": "2023-10-08T22:31:08.212704Z",
     "start_time": "2023-10-08T22:31:08.208607Z"
    }
   },
   "outputs": [],
   "source": [
    "m    = 1.E+4                      # Number of calls to target function\n",
    "nswp = 50                         # Sweep number for ALS iterations\n",
    "r    = 5                          # TT-rank of the initial random tensor"
   ]
  },
  {
   "cell_type": "markdown",
   "id": "e588a535-a646-4545-9f10-e4d09e0255d2",
   "metadata": {},
   "source": [
    "We set the target function (the function takes as input a set of tensor multi-indices I of the shape [samples, dimension], which are transformed into points X of a uniform spatial grid using the function \"ind_to_poi\"):"
   ]
  },
  {
   "cell_type": "code",
   "execution_count": 4,
   "id": "391dd65e-ca27-46f8-a0cc-15a0e3919f08",
   "metadata": {
    "ExecuteTime": {
     "end_time": "2023-10-08T22:31:08.217788Z",
     "start_time": "2023-10-08T22:31:08.214684Z"
    }
   },
   "outputs": [],
   "source": [
    "def func(I):\n",
    "    \"\"\"Schaffer function.\"\"\"\n",
    "    X = teneva.ind_to_poi(I, a, b, n)\n",
    "    Z = X[:, :-1]**2 + X[:, 1:]**2\n",
    "    y = 0.5 + (np.sin(np.sqrt(Z))**2 - 0.5) / (1. + 0.001 * Z)**2\n",
    "    return np.sum(y, axis=1)"
   ]
  },
  {
   "cell_type": "markdown",
   "id": "bcdae82e-67d7-4177-97e2-d097d5738bbe",
   "metadata": {},
   "source": [
    "We prepare train data from the LHS random distribution:"
   ]
  },
  {
   "cell_type": "code",
   "execution_count": 5,
   "id": "fe4f4875-86df-4026-9129-c400a502e302",
   "metadata": {
    "ExecuteTime": {
     "end_time": "2023-10-08T22:31:08.225511Z",
     "start_time": "2023-10-08T22:31:08.218886Z"
    }
   },
   "outputs": [],
   "source": [
    "I_trn = teneva.sample_lhs(n, m, seed=42) \n",
    "y_trn = func(I_trn)"
   ]
  },
  {
   "cell_type": "markdown",
   "id": "61880140-49a5-404e-9ab1-5172c88e52fa",
   "metadata": {},
   "source": [
    "We prepare test data from the random tensor multi-indices:"
   ]
  },
  {
   "cell_type": "code",
   "execution_count": 6,
   "id": "681f954b-8f65-4691-b72a-7303b8d1a247",
   "metadata": {
    "ExecuteTime": {
     "end_time": "2023-10-08T22:31:08.231646Z",
     "start_time": "2023-10-08T22:31:08.226606Z"
    }
   },
   "outputs": [],
   "source": [
    "I_tst = teneva.sample_rand(n, 1.E+4, seed=42) \n",
    "y_tst = func(I_tst)"
   ]
  },
  {
   "cell_type": "markdown",
   "id": "5588bcc8-939a-4f9d-aac5-58f073e6ab9c",
   "metadata": {},
   "source": [
    "And now we will build the TT-tensor, which approximates the target function by the TT-ALS method. Note that we use TT-ANOVA as an initial approximation (we can instead generate random initial r-rank approximation in the TT-format using the function \"rand\", but convergence will be worse, and there will also be instability of the solution)."
   ]
  },
  {
   "cell_type": "code",
   "execution_count": 7,
   "id": "fec32781-80f8-494e-a25a-a399c916164f",
   "metadata": {
    "ExecuteTime": {
     "end_time": "2023-10-08T22:31:10.399464Z",
     "start_time": "2023-10-08T22:31:08.232840Z"
    }
   },
   "outputs": [
    {
     "name": "stdout",
     "output_type": "stream",
     "text": [
      "Build time     :       1.74\n"
     ]
    }
   ],
   "source": [
    "t = tpc()\n",
    "Y = teneva.anova(I_trn, y_trn, r)\n",
    "Y = teneva.als(I_trn, y_trn, Y, nswp)\n",
    "t = tpc() - t\n",
    "\n",
    "print(f'Build time     : {t:-10.2f}')"
   ]
  },
  {
   "cell_type": "markdown",
   "id": "e74ce8d7-64d1-4ae1-9041-5500a4f8465b",
   "metadata": {},
   "source": [
    "And now we can check the result:"
   ]
  },
  {
   "cell_type": "code",
   "execution_count": 8,
   "id": "292c1545-2e55-46f6-98a3-2e6d4e8e5dc5",
   "metadata": {
    "ExecuteTime": {
     "end_time": "2023-10-08T22:31:10.415512Z",
     "start_time": "2023-10-08T22:31:10.400930Z"
    }
   },
   "outputs": [
    {
     "name": "stdout",
     "output_type": "stream",
     "text": [
      "Error on train :   1.27e-03\n",
      "Error on test  :   1.43e-03\n"
     ]
    }
   ],
   "source": [
    "# Compute approximation in train points:\n",
    "y_our = teneva.get_many(Y, I_trn)\n",
    "\n",
    "# Accuracy of the result for train points:\n",
    "e_trn = np.linalg.norm(y_our - y_trn)          \n",
    "e_trn /= np.linalg.norm(y_trn)\n",
    "\n",
    "# Compute approximation in test points:\n",
    "y_our = teneva.get_many(Y, I_tst)\n",
    "\n",
    "# Accuracy of the result for test points:\n",
    "e_tst = np.linalg.norm(y_our - y_tst)          \n",
    "e_tst /= np.linalg.norm(y_tst)\n",
    "\n",
    "print(f'Error on train : {e_trn:-10.2e}')\n",
    "print(f'Error on test  : {e_tst:-10.2e}')"
   ]
  },
  {
   "cell_type": "markdown",
   "id": "37487e85-4cba-4469-96e3-836a50c69215",
   "metadata": {},
   "source": [
    "We can also set a validation data set and specify as a stop criterion the accuracy of the TT-approximation on this data (and we can also present the logs):"
   ]
  },
  {
   "cell_type": "code",
   "execution_count": 9,
   "id": "8aa380dc-4782-4cc1-bea7-60d215cc2537",
   "metadata": {
    "ExecuteTime": {
     "end_time": "2023-10-08T22:31:10.419585Z",
     "start_time": "2023-10-08T22:31:10.416906Z"
    }
   },
   "outputs": [],
   "source": [
    "I_vld = teneva.sample_rand(n, 1.E+3, seed=99) \n",
    "y_vld = func(I_vld)"
   ]
  },
  {
   "cell_type": "code",
   "execution_count": 10,
   "id": "f912a161-2930-4d90-9783-2cde879f1518",
   "metadata": {
    "ExecuteTime": {
     "end_time": "2023-10-08T22:31:10.625964Z",
     "start_time": "2023-10-08T22:31:10.422405Z"
    },
    "tags": []
   },
   "outputs": [
    {
     "name": "stdout",
     "output_type": "stream",
     "text": [
      "# pre | time:      0.002 | rank:   5.0 | e_vld: 2.1e-01 | \n",
      "#   1 | time:      0.043 | rank:   5.0 | e_vld: 1.1e-01 | e: 1.9e-01 | \n",
      "#   2 | time:      0.078 | rank:   5.0 | e_vld: 1.7e-02 | e: 1.1e-01 | \n",
      "#   3 | time:      0.113 | rank:   5.0 | e_vld: 4.8e-03 | e: 1.5e-02 | stop: e_vld | \n",
      "\n",
      "Build time     :       0.12\n"
     ]
    }
   ],
   "source": [
    "t = tpc()\n",
    "Y = teneva.anova(I_trn, y_trn, r)\n",
    "Y = teneva.als(I_trn, y_trn, Y, nswp, I_vld=I_vld, y_vld=y_vld, e_vld=1.E-2, log=True)\n",
    "t = tpc() - t\n",
    "\n",
    "print(f'\\nBuild time     : {t:-10.2f}')"
   ]
  },
  {
   "cell_type": "markdown",
   "id": "1f35255a-78e8-45d7-bda4-b389596b293b",
   "metadata": {},
   "source": [
    "We can use helper functions to present the resulting accuracy:"
   ]
  },
  {
   "cell_type": "code",
   "execution_count": 11,
   "id": "609329e5-6dd1-4570-b481-f806bac5f36c",
   "metadata": {
    "ExecuteTime": {
     "end_time": "2023-10-08T22:31:10.639263Z",
     "start_time": "2023-10-08T22:31:10.627147Z"
    }
   },
   "outputs": [
    {
     "name": "stdout",
     "output_type": "stream",
     "text": [
      "Error on train :   4.03e-03\n",
      "Error on valid.:   4.82e-03\n",
      "Error on test  :   4.86e-03\n"
     ]
    }
   ],
   "source": [
    "print(f'Error on train : {teneva.accuracy_on_data(Y, I_trn, y_trn):-10.2e}')\n",
    "print(f'Error on valid.: {teneva.accuracy_on_data(Y, I_vld, y_vld):-10.2e}')\n",
    "print(f'Error on test  : {teneva.accuracy_on_data(Y, I_tst, y_tst):-10.2e}')"
   ]
  },
  {
   "cell_type": "markdown",
   "id": "28018274-2dbe-456d-a7bb-52601f7cb0e9",
   "metadata": {},
   "source": [
    "We may also set the value of relative rate of solution change to stop the iterations:"
   ]
  },
  {
   "cell_type": "code",
   "execution_count": 12,
   "id": "7668d2aa-ac83-400b-9f28-f3a62e6bd733",
   "metadata": {
    "ExecuteTime": {
     "end_time": "2023-10-08T22:31:11.053112Z",
     "start_time": "2023-10-08T22:31:10.640422Z"
    },
    "tags": []
   },
   "outputs": [
    {
     "name": "stdout",
     "output_type": "stream",
     "text": [
      "# pre | time:      0.002 | rank:   5.0 | e_vld: 2.1e-01 | \n",
      "#   1 | time:      0.047 | rank:   5.0 | e_vld: 1.1e-01 | e: 1.9e-01 | \n",
      "#   2 | time:      0.083 | rank:   5.0 | e_vld: 2.1e-02 | e: 1.1e-01 | \n",
      "#   3 | time:      0.118 | rank:   5.0 | e_vld: 1.2e-02 | e: 1.6e-02 | \n",
      "#   4 | time:      0.153 | rank:   5.0 | e_vld: 1.0e-02 | e: 4.1e-03 | \n",
      "#   5 | time:      0.188 | rank:   5.0 | e_vld: 8.1e-03 | e: 2.5e-03 | \n",
      "#   6 | time:      0.224 | rank:   5.0 | e_vld: 6.6e-03 | e: 1.6e-03 | \n",
      "#   7 | time:      0.260 | rank:   5.0 | e_vld: 5.5e-03 | e: 1.2e-03 | \n",
      "#   8 | time:      0.296 | rank:   5.0 | e_vld: 4.6e-03 | e: 9.7e-04 | stop: e | \n",
      "\n",
      "Build time     :       0.30\n"
     ]
    }
   ],
   "source": [
    "t = tpc()\n",
    "Y = teneva.anova(I_trn, y_trn, r)\n",
    "Y = teneva.als(I_trn, y_trn, Y, e=1.E-3, I_vld=I_vld, y_vld=y_vld, log=True)\n",
    "t = tpc() - t\n",
    "\n",
    "print(f'\\nBuild time     : {t:-10.2f}')"
   ]
  },
  {
   "cell_type": "code",
   "execution_count": 13,
   "id": "08124e61-4678-4586-b351-4bf185d80b95",
   "metadata": {
    "ExecuteTime": {
     "end_time": "2023-10-08T22:31:11.065977Z",
     "start_time": "2023-10-08T22:31:11.054366Z"
    }
   },
   "outputs": [
    {
     "name": "stdout",
     "output_type": "stream",
     "text": [
      "Error on train :   3.41e-03\n",
      "Error on valid.:   4.62e-03\n",
      "Error on test  :   4.04e-03\n"
     ]
    }
   ],
   "source": [
    "print(f'Error on train : {teneva.accuracy_on_data(Y, I_trn, y_trn):-10.2e}')\n",
    "print(f'Error on valid.: {teneva.accuracy_on_data(Y, I_vld, y_vld):-10.2e}')\n",
    "print(f'Error on test  : {teneva.accuracy_on_data(Y, I_tst, y_tst):-10.2e}')"
   ]
  },
  {
   "cell_type": "code",
   "execution_count": 14,
   "id": "052e8092",
   "metadata": {
    "ExecuteTime": {
     "end_time": "2023-10-08T22:31:14.171375Z",
     "start_time": "2023-10-08T22:31:14.158619Z"
    }
   },
   "outputs": [
    {
     "name": "stdout",
     "output_type": "stream",
     "text": [
      "Error on train :   3.41e-03\n",
      "Error on valid.:   4.62e-03\n",
      "Error on test  :   4.04e-03\n"
     ]
    }
   ],
   "source": [
    "print(f'Error on train : {teneva.accuracy_on_data(Y, I_trn, y_trn):-10.2e}')\n",
    "print(f'Error on valid.: {teneva.accuracy_on_data(Y, I_vld, y_vld):-10.2e}')\n",
    "print(f'Error on test  : {teneva.accuracy_on_data(Y, I_tst, y_tst):-10.2e}')"
   ]
  },
  {
   "cell_type": "markdown",
   "id": "c28f4023-1f98-4cf6-a5bd-945ab5937ec3",
   "metadata": {},
   "source": [
    "We may also pass callback function (it will be called after every sweep):"
   ]
  },
  {
   "cell_type": "code",
   "execution_count": 15,
   "id": "b10725d8-370f-4401-870a-3d5f579b35a2",
   "metadata": {
    "ExecuteTime": {
     "end_time": "2023-10-08T22:31:14.175235Z",
     "start_time": "2023-10-08T22:31:14.172815Z"
    }
   },
   "outputs": [],
   "source": [
    "def cb(Y, info, opts):\n",
    "    e = teneva.accuracy(Y, opts['Yold'])\n",
    "    print(f'Callback : e={e:-7.1e}')\n",
    "    if info['nswp'] == 5:\n",
    "        # Stop the algorithm's work\n",
    "        return True"
   ]
  },
  {
   "cell_type": "code",
   "execution_count": 16,
   "id": "de9192b7-838d-4fe1-9eca-1b373d5e173b",
   "metadata": {
    "ExecuteTime": {
     "end_time": "2023-10-08T22:31:14.574986Z",
     "start_time": "2023-10-08T22:31:14.176529Z"
    }
   },
   "outputs": [
    {
     "name": "stdout",
     "output_type": "stream",
     "text": [
      "# pre | time:      0.001 | rank:   5.0 | \n",
      "Callback : e=1.9e-01\n",
      "#   1 | time:      0.044 | rank:   5.0 | e: 1.9e-01 | \n",
      "Callback : e=1.1e-01\n",
      "#   2 | time:      0.080 | rank:   5.0 | e: 1.1e-01 | \n",
      "Callback : e=2.3e-02\n",
      "#   3 | time:      0.116 | rank:   5.0 | e: 2.3e-02 | \n",
      "Callback : e=3.6e-03\n",
      "#   4 | time:      0.152 | rank:   5.0 | e: 3.6e-03 | \n",
      "Callback : e=1.4e-03\n",
      "#   5 | time:      0.188 | rank:   5.0 | e: 1.4e-03 | stop: cb | \n",
      "\n",
      "Build time     :       0.19\n"
     ]
    }
   ],
   "source": [
    "t = tpc()\n",
    "Y = teneva.anova(I_trn, y_trn, r)\n",
    "Y = teneva.als(I_trn, y_trn, Y, e=1.E-10, cb=cb, log=True)\n",
    "t = tpc() - t\n",
    "\n",
    "print(f'\\nBuild time     : {t:-10.2f}')"
   ]
  },
  {
   "cell_type": "markdown",
   "id": "145dca4d-36fd-42e1-a177-7577ffd8139a",
   "metadata": {},
   "source": [
    "We can also use rank-adaptive version of the TT-ALS method (note that result is very sensitive to \"r\" and \"lamb\" parameter values):"
   ]
  },
  {
   "cell_type": "code",
   "execution_count": 17,
   "id": "3a89ae48-bb04-4262-b8b5-c3b1c9dd90db",
   "metadata": {
    "ExecuteTime": {
     "end_time": "2023-10-08T22:31:15.413505Z",
     "start_time": "2023-10-08T22:31:14.576177Z"
    }
   },
   "outputs": [
    {
     "name": "stdout",
     "output_type": "stream",
     "text": [
      "# pre | time:      0.002 | rank:   2.0 | e_vld: 2.1e-01 | \n",
      "#   1 | time:      0.163 | rank:   5.0 | e_vld: 2.1e-02 | e: 2.2e-01 | \n",
      "#   2 | time:      0.340 | rank:   3.9 | e_vld: 6.9e-03 | e: 2.0e-02 | \n",
      "#   3 | time:      0.497 | rank:   3.9 | e_vld: 6.5e-03 | e: 2.6e-03 | \n",
      "#   4 | time:      0.653 | rank:   4.2 | e_vld: 7.6e-03 | e: 6.3e-03 | \n",
      "#   5 | time:      0.811 | rank:   3.9 | e_vld: 6.6e-03 | e: 6.3e-03 | stop: nswp | \n",
      "\n",
      "Build time     :       0.82\n"
     ]
    }
   ],
   "source": [
    "t = tpc()\n",
    "Y = teneva.anova(I_trn, y_trn, r=2)\n",
    "Y = teneva.als(I_trn, y_trn, Y, nswp=5,\n",
    "    I_vld=I_vld, y_vld=y_vld, r=5, e_adap=1.E-2, lamb=0.00001, log=True)\n",
    "t = tpc() - t\n",
    "\n",
    "print(f'\\nBuild time     : {t:-10.2f}')"
   ]
  },
  {
   "cell_type": "code",
   "execution_count": 18,
   "id": "c9654ed9-6c9e-4400-8cac-64592593caf5",
   "metadata": {
    "ExecuteTime": {
     "end_time": "2023-10-08T22:31:15.432216Z",
     "start_time": "2023-10-08T22:31:15.416056Z"
    }
   },
   "outputs": [
    {
     "name": "stdout",
     "output_type": "stream",
     "text": [
      "Error on train :   6.54e-03\n",
      "Error on valid.:   6.58e-03\n",
      "Error on test  :   7.22e-03\n"
     ]
    }
   ],
   "source": [
    "print(f'Error on train : {teneva.accuracy_on_data(Y, I_trn, y_trn):-10.2e}')\n",
    "print(f'Error on valid.: {teneva.accuracy_on_data(Y, I_vld, y_vld):-10.2e}')\n",
    "print(f'Error on test  : {teneva.accuracy_on_data(Y, I_tst, y_tst):-10.2e}')"
   ]
  },
  {
   "cell_type": "markdown",
   "id": "942d4b39-fdac-488b-be73-d0b69f252294",
   "metadata": {},
   "source": [
    "We can also specify weights for elements of the training dataset. In the following example, we set increased weights for the first 1000 points from the set and expect that the accuracy of the result on them will be higher than on the rest:"
   ]
  },
  {
   "cell_type": "code",
   "execution_count": 19,
   "id": "6caa65a3-d7b7-4004-8387-f61e7faabcbf",
   "metadata": {
    "ExecuteTime": {
     "end_time": "2023-10-08T22:31:15.438680Z",
     "start_time": "2023-10-08T22:31:15.433523Z"
    }
   },
   "outputs": [],
   "source": [
    "m = len(I_trn)\n",
    "dm = 1000\n",
    "I_trn1, y_trn1 = I_trn[:dm], y_trn[:dm]\n",
    "I_trn2, y_trn2 = I_trn[dm:], y_trn[dm:]\n",
    "\n",
    "w = np.ones(m)\n",
    "w[:dm] = 100."
   ]
  },
  {
   "cell_type": "code",
   "execution_count": 20,
   "id": "9e428fa9-f303-4db6-a0e0-8dfad5053793",
   "metadata": {
    "ExecuteTime": {
     "end_time": "2023-10-08T22:31:18.424747Z",
     "start_time": "2023-10-08T22:31:15.440904Z"
    }
   },
   "outputs": [
    {
     "name": "stdout",
     "output_type": "stream",
     "text": [
      "Build time     :       1.92\n"
     ]
    }
   ],
   "source": [
    "t = tpc()\n",
    "Y = teneva.anova(I_trn, y_trn, r)\n",
    "Y = teneva.als(I_trn, y_trn, Y, w=w)\n",
    "t = tpc() - t\n",
    "\n",
    "print(f'Build time     : {t:-10.2f}')"
   ]
  },
  {
   "cell_type": "code",
   "execution_count": 21,
   "id": "dbf4008a-32f1-499b-b093-6ac6f906a130",
   "metadata": {
    "ExecuteTime": {
     "end_time": "2023-10-08T22:31:18.440377Z",
     "start_time": "2023-10-08T22:31:18.427051Z"
    }
   },
   "outputs": [
    {
     "name": "stdout",
     "output_type": "stream",
     "text": [
      "Error full data :   8.23e-03\n",
      "Error for part1 :   2.34e-03\n",
      "Error for part2 :   8.64e-03\n"
     ]
    }
   ],
   "source": [
    "print(f'Error full data : {teneva.accuracy_on_data(Y, I_trn, y_trn):-10.2e}')\n",
    "print(f'Error for part1 : {teneva.accuracy_on_data(Y, I_trn1, y_trn1):-10.2e}')\n",
    "print(f'Error for part2 : {teneva.accuracy_on_data(Y, I_trn2, y_trn2):-10.2e}')"
   ]
  },
  {
   "cell_type": "markdown",
   "id": "778e935e-7c55-433e-a226-55db5ee2effb",
   "metadata": {},
   "source": [
    "(NEW OPTION) We can also use batch updates:"
   ]
  },
  {
   "cell_type": "code",
   "execution_count": 22,
   "id": "266f744a-80f1-426a-850f-2bfd3acc7e11",
   "metadata": {},
   "outputs": [
    {
     "name": "stdout",
     "output_type": "stream",
     "text": [
      "# pre | time:      0.001 | rank:   5.0 | e_vld: 2.1e-01 | \n",
      "#   1 | time:      0.019 | rank:   5.0 | e_vld: 1.6e-01 | e: 1.5e-01 | \n",
      "#   2 | time:      0.035 | rank:   5.0 | e_vld: 1.4e-01 | e: 8.2e-02 | \n",
      "#   3 | time:      0.052 | rank:   5.0 | e_vld: 9.6e-02 | e: 7.1e-02 | \n",
      "#   4 | time:      0.068 | rank:   5.0 | e_vld: 5.4e-02 | e: 7.6e-02 | \n",
      "#   5 | time:      0.084 | rank:   5.0 | e_vld: 5.0e-02 | e: 1.9e-02 | \n",
      "#   6 | time:      0.100 | rank:   5.0 | e_vld: 5.0e-02 | e: 1.2e-02 | \n",
      "#   7 | time:      0.116 | rank:   5.0 | e_vld: 5.1e-02 | e: 7.5e-03 | \n",
      "#   8 | time:      0.132 | rank:   5.0 | e_vld: 5.1e-02 | e: 5.9e-03 | \n",
      "#   9 | time:      0.148 | rank:   5.0 | e_vld: 5.2e-02 | e: 5.0e-03 | \n",
      "#  10 | time:      0.164 | rank:   5.0 | e_vld: 5.2e-02 | e: 4.3e-03 | \n",
      "#  11 | time:      0.181 | rank:   5.0 | e_vld: 5.2e-02 | e: 3.8e-03 | \n",
      "#  12 | time:      0.198 | rank:   5.0 | e_vld: 5.2e-02 | e: 3.4e-03 | \n",
      "#  13 | time:      0.216 | rank:   5.0 | e_vld: 5.2e-02 | e: 3.1e-03 | \n",
      "#  14 | time:      0.232 | rank:   5.0 | e_vld: 5.1e-02 | e: 3.1e-03 | \n",
      "#  15 | time:      0.248 | rank:   5.0 | e_vld: 5.1e-02 | e: 2.8e-03 | \n",
      "#  16 | time:      0.263 | rank:   5.0 | e_vld: 5.1e-02 | e: 2.4e-03 | \n",
      "#  17 | time:      0.279 | rank:   5.0 | e_vld: 5.1e-02 | e: 2.2e-03 | \n",
      "#  18 | time:      0.294 | rank:   5.0 | e_vld: 5.1e-02 | e: 2.1e-03 | \n",
      "#  19 | time:      0.310 | rank:   5.0 | e_vld: 5.1e-02 | e: 2.0e-03 | \n",
      "#  20 | time:      0.326 | rank:   5.0 | e_vld: 5.1e-02 | e: 1.9e-03 | \n",
      "#  21 | time:      0.342 | rank:   5.0 | e_vld: 5.0e-02 | e: 1.7e-03 | \n",
      "#  22 | time:      0.358 | rank:   5.0 | e_vld: 5.0e-02 | e: 1.6e-03 | \n",
      "#  23 | time:      0.374 | rank:   5.0 | e_vld: 5.0e-02 | e: 1.5e-03 | \n",
      "#  24 | time:      0.391 | rank:   5.0 | e_vld: 5.0e-02 | e: 1.4e-03 | \n",
      "#  25 | time:      0.408 | rank:   5.0 | e_vld: 5.0e-02 | e: 1.3e-03 | \n",
      "#  26 | time:      0.425 | rank:   5.0 | e_vld: 5.0e-02 | e: 1.2e-03 | \n",
      "#  27 | time:      0.442 | rank:   5.0 | e_vld: 5.0e-02 | e: 1.2e-03 | \n",
      "#  28 | time:      0.461 | rank:   5.0 | e_vld: 5.0e-02 | e: 1.1e-03 | \n",
      "#  29 | time:      0.479 | rank:   5.0 | e_vld: 5.0e-02 | e: 1.1e-03 | \n",
      "#  30 | time:      0.495 | rank:   5.0 | e_vld: 5.0e-02 | e: 1.0e-03 | \n",
      "#  31 | time:      0.512 | rank:   5.0 | e_vld: 5.0e-02 | e: 9.9e-04 | stop: e | \n",
      "# pre | time:      0.001 | rank:   5.0 | e_vld: 5.0e-02 | \n",
      "#   1 | time:      0.017 | rank:   5.0 | e_vld: 3.4e-02 | e: 3.8e-02 | \n",
      "#   2 | time:      0.034 | rank:   5.0 | e_vld: 3.2e-02 | e: 9.5e-03 | \n",
      "#   3 | time:      0.051 | rank:   5.0 | e_vld: 3.1e-02 | e: 5.3e-03 | \n",
      "#   4 | time:      0.068 | rank:   5.0 | e_vld: 3.1e-02 | e: 3.6e-03 | \n",
      "#   5 | time:      0.088 | rank:   5.0 | e_vld: 3.0e-02 | e: 2.8e-03 | \n",
      "#   6 | time:      0.108 | rank:   5.0 | e_vld: 3.0e-02 | e: 2.3e-03 | \n",
      "#   7 | time:      0.127 | rank:   5.0 | e_vld: 3.0e-02 | e: 2.0e-03 | \n",
      "#   8 | time:      0.144 | rank:   5.0 | e_vld: 2.9e-02 | e: 1.8e-03 | \n",
      "#   9 | time:      0.159 | rank:   5.0 | e_vld: 2.9e-02 | e: 1.6e-03 | \n",
      "#  10 | time:      0.174 | rank:   5.0 | e_vld: 2.9e-02 | e: 1.4e-03 | \n",
      "#  11 | time:      0.189 | rank:   5.0 | e_vld: 2.8e-02 | e: 1.3e-03 | \n",
      "#  12 | time:      0.205 | rank:   5.0 | e_vld: 2.8e-02 | e: 1.2e-03 | \n",
      "#  13 | time:      0.220 | rank:   5.0 | e_vld: 2.8e-02 | e: 1.1e-03 | \n",
      "#  14 | time:      0.235 | rank:   5.0 | e_vld: 2.8e-02 | e: 9.7e-04 | stop: e | \n",
      "# pre | time:      0.001 | rank:   5.0 | e_vld: 2.8e-02 | \n",
      "#   1 | time:      0.016 | rank:   5.0 | e_vld: 2.2e-02 | e: 2.1e-02 | \n",
      "#   2 | time:      0.031 | rank:   5.0 | e_vld: 2.1e-02 | e: 5.1e-03 | \n",
      "#   3 | time:      0.046 | rank:   5.0 | e_vld: 2.1e-02 | e: 2.9e-03 | \n",
      "#   4 | time:      0.063 | rank:   5.0 | e_vld: 2.0e-02 | e: 2.1e-03 | \n",
      "#   5 | time:      0.079 | rank:   5.0 | e_vld: 2.0e-02 | e: 1.6e-03 | \n",
      "#   6 | time:      0.096 | rank:   5.0 | e_vld: 1.9e-02 | e: 1.3e-03 | \n",
      "#   7 | time:      0.113 | rank:   5.0 | e_vld: 1.9e-02 | e: 1.1e-03 | \n",
      "#   8 | time:      0.129 | rank:   5.0 | e_vld: 1.9e-02 | e: 9.5e-04 | stop: e | \n",
      "# pre | time:      0.001 | rank:   5.0 | e_vld: 1.9e-02 | \n",
      "#   1 | time:      0.017 | rank:   5.0 | e_vld: 1.5e-02 | e: 1.4e-02 | \n",
      "#   2 | time:      0.032 | rank:   5.0 | e_vld: 1.4e-02 | e: 3.0e-03 | \n",
      "#   3 | time:      0.047 | rank:   5.0 | e_vld: 1.3e-02 | e: 1.8e-03 | \n",
      "#   4 | time:      0.062 | rank:   5.0 | e_vld: 1.3e-02 | e: 1.2e-03 | \n",
      "#   5 | time:      0.077 | rank:   5.0 | e_vld: 1.3e-02 | e: 9.4e-04 | stop: e | \n",
      "# pre | time:      0.001 | rank:   5.0 | e_vld: 1.3e-02 | \n",
      "#   1 | time:      0.017 | rank:   5.0 | e_vld: 1.1e-02 | e: 9.2e-03 | \n",
      "#   2 | time:      0.033 | rank:   5.0 | e_vld: 1.1e-02 | e: 2.4e-03 | \n",
      "#   3 | time:      0.048 | rank:   5.0 | e_vld: 1.1e-02 | e: 1.4e-03 | \n",
      "#   4 | time:      0.065 | rank:   5.0 | e_vld: 1.1e-02 | e: 9.8e-04 | stop: e | \n",
      "# pre | time:      0.001 | rank:   5.0 | e_vld: 1.1e-02 | \n",
      "#   1 | time:      0.017 | rank:   5.0 | e_vld: 9.2e-03 | e: 7.5e-03 | \n",
      "#   2 | time:      0.034 | rank:   5.0 | e_vld: 9.1e-03 | e: 2.0e-03 | \n",
      "#   3 | time:      0.050 | rank:   5.0 | e_vld: 9.0e-03 | e: 1.1e-03 | \n",
      "#   4 | time:      0.065 | rank:   5.0 | e_vld: 9.0e-03 | e: 8.1e-04 | stop: e | \n",
      "# pre | time:      0.001 | rank:   5.0 | e_vld: 9.0e-03 | \n",
      "#   1 | time:      0.016 | rank:   5.0 | e_vld: 8.1e-03 | e: 6.1e-03 | \n",
      "#   2 | time:      0.031 | rank:   5.0 | e_vld: 8.1e-03 | e: 1.7e-03 | \n",
      "#   3 | time:      0.046 | rank:   5.0 | e_vld: 8.2e-03 | e: 9.4e-04 | stop: e | \n",
      "# pre | time:      0.001 | rank:   5.0 | e_vld: 8.2e-03 | \n",
      "#   1 | time:      0.016 | rank:   5.0 | e_vld: 7.5e-03 | e: 5.8e-03 | \n",
      "#   2 | time:      0.031 | rank:   5.0 | e_vld: 7.6e-03 | e: 1.5e-03 | \n",
      "#   3 | time:      0.046 | rank:   5.0 | e_vld: 7.6e-03 | e: 8.6e-04 | stop: e | \n",
      "# pre | time:      0.001 | rank:   5.0 | e_vld: 7.6e-03 | \n",
      "#   1 | time:      0.016 | rank:   5.0 | e_vld: 7.1e-03 | e: 5.1e-03 | \n",
      "#   2 | time:      0.031 | rank:   5.0 | e_vld: 7.2e-03 | e: 1.4e-03 | \n",
      "#   3 | time:      0.046 | rank:   5.0 | e_vld: 7.2e-03 | e: 7.7e-04 | stop: e | \n",
      "# pre | time:      0.001 | rank:   5.0 | e_vld: 7.2e-03 | \n",
      "#   1 | time:      0.017 | rank:   5.0 | e_vld: 6.3e-03 | e: 4.6e-03 | \n",
      "#   2 | time:      0.032 | rank:   5.0 | e_vld: 6.2e-03 | e: 1.2e-03 | \n",
      "#   3 | time:      0.049 | rank:   5.0 | e_vld: 6.2e-03 | e: 7.1e-04 | stop: e | \n",
      "# pre | time:      0.001 | rank:   5.0 | e_vld: 6.2e-03 | \n",
      "#   1 | time:      0.016 | rank:   5.0 | e_vld: 5.9e-03 | e: 2.9e-03 | \n",
      "#   2 | time:      0.031 | rank:   5.0 | e_vld: 5.8e-03 | e: 8.2e-04 | stop: e | \n",
      "# pre | time:      0.001 | rank:   5.0 | e_vld: 5.8e-03 | \n",
      "#   1 | time:      0.016 | rank:   5.0 | e_vld: 5.5e-03 | e: 2.5e-03 | \n",
      "#   2 | time:      0.031 | rank:   5.0 | e_vld: 5.5e-03 | e: 8.3e-04 | stop: e | \n",
      "# pre | time:      0.001 | rank:   5.0 | e_vld: 5.5e-03 | \n",
      "#   1 | time:      0.016 | rank:   5.0 | e_vld: 5.5e-03 | e: 3.0e-03 | \n",
      "#   2 | time:      0.031 | rank:   5.0 | e_vld: 5.6e-03 | e: 7.8e-04 | stop: e | \n",
      "# pre | time:      0.001 | rank:   5.0 | e_vld: 5.6e-03 | \n",
      "#   1 | time:      0.016 | rank:   5.0 | e_vld: 5.5e-03 | e: 3.1e-03 | \n",
      "#   2 | time:      0.031 | rank:   5.0 | e_vld: 5.5e-03 | e: 8.1e-04 | stop: e | \n",
      "# pre | time:      0.001 | rank:   5.0 | e_vld: 5.5e-03 | \n",
      "#   1 | time:      0.016 | rank:   5.0 | e_vld: 5.4e-03 | e: 2.9e-03 | \n",
      "#   2 | time:      0.032 | rank:   5.0 | e_vld: 5.5e-03 | e: 7.9e-04 | stop: e | \n",
      "# pre | time:      0.001 | rank:   5.0 | e_vld: 5.5e-03 | \n",
      "#   1 | time:      0.017 | rank:   5.0 | e_vld: 5.5e-03 | e: 2.8e-03 | \n",
      "#   2 | time:      0.033 | rank:   5.0 | e_vld: 5.6e-03 | e: 7.8e-04 | stop: e | \n",
      "# pre | time:      0.001 | rank:   5.0 | e_vld: 5.6e-03 | \n",
      "#   1 | time:      0.017 | rank:   5.0 | e_vld: 5.4e-03 | e: 3.3e-03 | \n",
      "#   2 | time:      0.033 | rank:   5.0 | e_vld: 5.5e-03 | e: 7.5e-04 | stop: e | \n",
      "# pre | time:      0.001 | rank:   5.0 | e_vld: 5.5e-03 | \n",
      "#   1 | time:      0.021 | rank:   5.0 | e_vld: 5.2e-03 | e: 2.8e-03 | \n",
      "#   2 | time:      0.038 | rank:   5.0 | e_vld: 5.3e-03 | e: 7.8e-04 | stop: e | \n",
      "# pre | time:      0.001 | rank:   5.0 | e_vld: 5.3e-03 | \n",
      "#   1 | time:      0.017 | rank:   5.0 | e_vld: 5.0e-03 | e: 3.0e-03 | \n",
      "#   2 | time:      0.035 | rank:   5.0 | e_vld: 5.1e-03 | e: 7.5e-04 | stop: e | \n",
      "# pre | time:      0.001 | rank:   5.0 | e_vld: 5.1e-03 | \n",
      "#   1 | time:      0.018 | rank:   5.0 | e_vld: 5.2e-03 | e: 3.0e-03 | \n",
      "#   2 | time:      0.033 | rank:   5.0 | e_vld: 5.3e-03 | e: 7.6e-04 | stop: e | \n",
      "# pre | time:      0.001 | rank:   5.0 | e_vld: 5.3e-03 | \n",
      "#   1 | time:      0.017 | rank:   5.0 | e_vld: 5.1e-03 | e: 2.3e-03 | \n",
      "#   2 | time:      0.033 | rank:   5.0 | e_vld: 5.1e-03 | e: 5.6e-04 | stop: e | \n",
      "# pre | time:      0.001 | rank:   5.0 | e_vld: 5.1e-03 | \n",
      "#   1 | time:      0.017 | rank:   5.0 | e_vld: 4.9e-03 | e: 2.0e-03 | \n",
      "#   2 | time:      0.033 | rank:   5.0 | e_vld: 5.0e-03 | e: 6.1e-04 | stop: e | \n",
      "# pre | time:      0.001 | rank:   5.0 | e_vld: 5.0e-03 | \n",
      "#   1 | time:      0.017 | rank:   5.0 | e_vld: 4.9e-03 | e: 1.8e-03 | \n",
      "#   2 | time:      0.033 | rank:   5.0 | e_vld: 5.0e-03 | e: 5.0e-04 | stop: e | \n",
      "# pre | time:      0.001 | rank:   5.0 | e_vld: 5.0e-03 | \n",
      "#   1 | time:      0.016 | rank:   5.0 | e_vld: 4.7e-03 | e: 1.8e-03 | \n",
      "#   2 | time:      0.031 | rank:   5.0 | e_vld: 4.8e-03 | e: 5.2e-04 | stop: e | \n",
      "# pre | time:      0.001 | rank:   5.0 | e_vld: 4.8e-03 | \n",
      "#   1 | time:      0.017 | rank:   5.0 | e_vld: 4.8e-03 | e: 2.0e-03 | \n",
      "#   2 | time:      0.033 | rank:   5.0 | e_vld: 4.9e-03 | e: 5.4e-04 | stop: e | \n",
      "# pre | time:      0.001 | rank:   5.0 | e_vld: 4.9e-03 | \n",
      "#   1 | time:      0.016 | rank:   5.0 | e_vld: 5.0e-03 | e: 2.1e-03 | \n",
      "#   2 | time:      0.031 | rank:   5.0 | e_vld: 5.1e-03 | e: 5.3e-04 | stop: e | \n",
      "# pre | time:      0.001 | rank:   5.0 | e_vld: 5.1e-03 | \n",
      "#   1 | time:      0.016 | rank:   5.0 | e_vld: 4.8e-03 | e: 1.8e-03 | \n",
      "#   2 | time:      0.031 | rank:   5.0 | e_vld: 4.8e-03 | e: 5.4e-04 | stop: e | \n",
      "# pre | time:      0.001 | rank:   5.0 | e_vld: 4.8e-03 | \n",
      "#   1 | time:      0.019 | rank:   5.0 | e_vld: 4.8e-03 | e: 2.0e-03 | \n",
      "#   2 | time:      0.040 | rank:   5.0 | e_vld: 4.9e-03 | e: 5.1e-04 | stop: e | \n",
      "# pre | time:      0.001 | rank:   5.0 | e_vld: 4.9e-03 | \n",
      "#   1 | time:      0.022 | rank:   5.0 | e_vld: 4.8e-03 | e: 2.2e-03 | \n",
      "#   2 | time:      0.040 | rank:   5.0 | e_vld: 4.9e-03 | e: 5.5e-04 | stop: e | \n",
      "# pre | time:      0.001 | rank:   5.0 | e_vld: 4.9e-03 | \n",
      "#   1 | time:      0.017 | rank:   5.0 | e_vld: 4.8e-03 | e: 1.9e-03 | \n",
      "#   2 | time:      0.033 | rank:   5.0 | e_vld: 4.9e-03 | e: 5.0e-04 | stop: e | \n",
      "# pre | time:      0.001 | rank:   5.0 | e_vld: 4.9e-03 | \n",
      "#   1 | time:      0.017 | rank:   5.0 | e_vld: 4.8e-03 | e: 9.7e-04 | stop: e | \n",
      "# pre | time:      0.001 | rank:   5.0 | e_vld: 4.8e-03 | \n",
      "#   1 | time:      0.017 | rank:   5.0 | e_vld: 4.7e-03 | e: 9.4e-04 | stop: e | \n",
      "# pre | time:      0.001 | rank:   5.0 | e_vld: 4.7e-03 | \n",
      "#   1 | time:      0.017 | rank:   5.0 | e_vld: 4.8e-03 | e: 8.0e-04 | stop: e | \n",
      "# pre | time:      0.001 | rank:   5.0 | e_vld: 4.8e-03 | \n",
      "#   1 | time:      0.017 | rank:   5.0 | e_vld: 4.7e-03 | e: 8.5e-04 | stop: e | \n",
      "# pre | time:      0.001 | rank:   5.0 | e_vld: 4.7e-03 | \n",
      "#   1 | time:      0.017 | rank:   5.0 | e_vld: 4.7e-03 | e: 8.5e-04 | stop: e | \n",
      "# pre | time:      0.001 | rank:   5.0 | e_vld: 4.7e-03 | \n",
      "#   1 | time:      0.017 | rank:   5.0 | e_vld: 4.7e-03 | e: 8.6e-04 | stop: e | \n",
      "# pre | time:      0.001 | rank:   5.0 | e_vld: 4.7e-03 | \n",
      "#   1 | time:      0.018 | rank:   5.0 | e_vld: 4.7e-03 | e: 1.1e-03 | \n",
      "#   2 | time:      0.035 | rank:   5.0 | e_vld: 4.7e-03 | e: 3.8e-04 | stop: e | \n",
      "# pre | time:      0.001 | rank:   5.0 | e_vld: 4.7e-03 | \n",
      "#   1 | time:      0.017 | rank:   5.0 | e_vld: 4.6e-03 | e: 9.5e-04 | stop: e | \n",
      "# pre | time:      0.001 | rank:   5.0 | e_vld: 4.6e-03 | \n",
      "#   1 | time:      0.017 | rank:   5.0 | e_vld: 4.7e-03 | e: 7.8e-04 | stop: e | \n",
      "# pre | time:      0.001 | rank:   5.0 | e_vld: 4.7e-03 | \n",
      "#   1 | time:      0.017 | rank:   5.0 | e_vld: 4.6e-03 | e: 8.9e-04 | stop: e | \n",
      "# pre | time:      0.001 | rank:   5.0 | e_vld: 4.6e-03 | \n",
      "#   1 | time:      0.017 | rank:   5.0 | e_vld: 4.6e-03 | e: 1.8e-04 | stop: e | \n",
      "# pre | time:      0.001 | rank:   5.0 | e_vld: 4.6e-03 | \n",
      "#   1 | time:      0.017 | rank:   5.0 | e_vld: 4.6e-03 | e: 2.3e-04 | stop: e | \n",
      "# pre | time:      0.001 | rank:   5.0 | e_vld: 4.6e-03 | \n",
      "#   1 | time:      0.017 | rank:   5.0 | e_vld: 4.6e-03 | e: 2.3e-04 | stop: e | \n",
      "# pre | time:      0.001 | rank:   5.0 | e_vld: 4.6e-03 | \n",
      "#   1 | time:      0.017 | rank:   5.0 | e_vld: 4.6e-03 | e: 2.2e-04 | stop: e | \n",
      "# pre | time:      0.001 | rank:   5.0 | e_vld: 4.6e-03 | \n",
      "#   1 | time:      0.017 | rank:   5.0 | e_vld: 4.6e-03 | e: 1.8e-04 | stop: e | \n",
      "# pre | time:      0.001 | rank:   5.0 | e_vld: 4.6e-03 | \n",
      "#   1 | time:      0.017 | rank:   5.0 | e_vld: 4.6e-03 | e: 2.1e-04 | stop: e | \n",
      "# pre | time:      0.001 | rank:   5.0 | e_vld: 4.6e-03 | \n",
      "#   1 | time:      0.018 | rank:   5.0 | e_vld: 4.6e-03 | e: 1.9e-04 | stop: e | \n",
      "# pre | time:      0.001 | rank:   5.0 | e_vld: 4.6e-03 | \n",
      "#   1 | time:      0.019 | rank:   5.0 | e_vld: 4.6e-03 | e: 1.6e-04 | stop: e | \n",
      "# pre | time:      0.001 | rank:   5.0 | e_vld: 4.6e-03 | \n",
      "#   1 | time:      0.019 | rank:   5.0 | e_vld: 4.6e-03 | e: 1.8e-04 | stop: e | \n",
      "# pre | time:      0.001 | rank:   5.0 | e_vld: 4.6e-03 | \n",
      "#   1 | time:      0.018 | rank:   5.0 | e_vld: 4.6e-03 | e: 1.7e-04 | stop: e | \n",
      "# pre | time:      0.001 | rank:   5.0 | e_vld: 4.6e-03 | \n",
      "#   1 | time:      0.017 | rank:   5.0 | e_vld: 4.6e-03 | e: 2.4e-05 | stop: e | \n",
      "# pre | time:      0.001 | rank:   5.0 | e_vld: 4.6e-03 | \n",
      "#   1 | time:      0.017 | rank:   5.0 | e_vld: 4.6e-03 | e: 1.8e-05 | stop: e | \n",
      "# pre | time:      0.001 | rank:   5.0 | e_vld: 4.6e-03 | \n",
      "#   1 | time:      0.017 | rank:   5.0 | e_vld: 4.6e-03 | e: 2.6e-05 | stop: e | \n",
      "# pre | time:      0.001 | rank:   5.0 | e_vld: 4.6e-03 | \n",
      "#   1 | time:      0.017 | rank:   5.0 | e_vld: 4.6e-03 | e: 2.3e-05 | stop: e | \n",
      "# pre | time:      0.001 | rank:   5.0 | e_vld: 4.6e-03 | \n",
      "#   1 | time:      0.017 | rank:   5.0 | e_vld: 4.6e-03 | e: 2.5e-05 | stop: e | \n",
      "# pre | time:      0.001 | rank:   5.0 | e_vld: 4.6e-03 | \n",
      "#   1 | time:      0.017 | rank:   5.0 | e_vld: 4.6e-03 | e: 3.3e-05 | stop: e | \n",
      "# pre | time:      0.001 | rank:   5.0 | e_vld: 4.6e-03 | \n",
      "#   1 | time:      0.016 | rank:   5.0 | e_vld: 4.6e-03 | e: 3.2e-05 | stop: e | \n",
      "# pre | time:      0.001 | rank:   5.0 | e_vld: 4.6e-03 | \n",
      "#   1 | time:      0.016 | rank:   5.0 | e_vld: 4.6e-03 | e: 2.8e-05 | stop: e | \n",
      "# pre | time:      0.001 | rank:   5.0 | e_vld: 4.6e-03 | \n",
      "#   1 | time:      0.016 | rank:   5.0 | e_vld: 4.6e-03 | e: 2.4e-05 | stop: e | \n",
      "# pre | time:      0.001 | rank:   5.0 | e_vld: 4.6e-03 | \n",
      "#   1 | time:      0.017 | rank:   5.0 | e_vld: 4.6e-03 | e: 2.4e-05 | stop: e | \n",
      "# pre | time:      0.001 | rank:   5.0 | e_vld: 4.6e-03 | \n",
      "#   1 | time:      0.017 | rank:   5.0 | e_vld: 4.6e-03 | e: 3.4e-06 | stop: e | \n",
      "# pre | time:      0.001 | rank:   5.0 | e_vld: 4.6e-03 | \n",
      "#   1 | time:      0.017 | rank:   5.0 | e_vld: 4.6e-03 | e: 2.7e-06 | stop: e | \n",
      "# pre | time:      0.001 | rank:   5.0 | e_vld: 4.6e-03 | \n",
      "#   1 | time:      0.017 | rank:   5.0 | e_vld: 4.6e-03 | e: 3.1e-06 | stop: e | \n",
      "# pre | time:      0.001 | rank:   5.0 | e_vld: 4.6e-03 | \n",
      "#   1 | time:      0.016 | rank:   5.0 | e_vld: 4.6e-03 | e: 3.2e-06 | stop: e | \n",
      "# pre | time:      0.001 | rank:   5.0 | e_vld: 4.6e-03 | \n",
      "#   1 | time:      0.016 | rank:   5.0 | e_vld: 4.6e-03 | e: 2.9e-06 | stop: e | \n",
      "# pre | time:      0.001 | rank:   5.0 | e_vld: 4.6e-03 | \n",
      "#   1 | time:      0.017 | rank:   5.0 | e_vld: 4.6e-03 | e: 3.5e-06 | stop: e | \n",
      "# pre | time:      0.001 | rank:   5.0 | e_vld: 4.6e-03 | \n",
      "#   1 | time:      0.017 | rank:   5.0 | e_vld: 4.6e-03 | e: 3.4e-06 | stop: e | \n",
      "# pre | time:      0.001 | rank:   5.0 | e_vld: 4.6e-03 | \n",
      "#   1 | time:      0.018 | rank:   5.0 | e_vld: 4.6e-03 | e: 3.0e-06 | stop: e | \n",
      "# pre | time:      0.001 | rank:   5.0 | e_vld: 4.6e-03 | \n",
      "#   1 | time:      0.017 | rank:   5.0 | e_vld: 4.6e-03 | e: 4.4e-06 | stop: e | \n",
      "# pre | time:      0.001 | rank:   5.0 | e_vld: 4.6e-03 | \n",
      "#   1 | time:      0.017 | rank:   5.0 | e_vld: 4.6e-03 | e: 4.0e-06 | stop: e | \n",
      "# pre | time:      0.001 | rank:   5.0 | e_vld: 4.6e-03 | \n",
      "#   1 | time:      0.018 | rank:   5.0 | e_vld: 4.6e-03 | e: 5.2e-07 | stop: e | \n",
      "# pre | time:      0.001 | rank:   5.0 | e_vld: 4.6e-03 | \n",
      "#   1 | time:      0.018 | rank:   5.0 | e_vld: 4.6e-03 | e: 3.6e-07 | stop: e | \n",
      "# pre | time:      0.001 | rank:   5.0 | e_vld: 4.6e-03 | \n",
      "#   1 | time:      0.018 | rank:   5.0 | e_vld: 4.6e-03 | e: 4.0e-07 | stop: e | \n",
      "# pre | time:      0.001 | rank:   5.0 | e_vld: 4.6e-03 | \n",
      "#   1 | time:      0.018 | rank:   5.0 | e_vld: 4.6e-03 | e: 3.6e-07 | stop: e | \n",
      "# pre | time:      0.001 | rank:   5.0 | e_vld: 4.6e-03 | \n",
      "#   1 | time:      0.017 | rank:   5.0 | e_vld: 4.6e-03 | e: 4.1e-07 | stop: e | \n",
      "# pre | time:      0.001 | rank:   5.0 | e_vld: 4.6e-03 | \n",
      "#   1 | time:      0.017 | rank:   5.0 | e_vld: 4.6e-03 | e: 3.5e-07 | stop: e | \n",
      "# pre | time:      0.001 | rank:   5.0 | e_vld: 4.6e-03 | \n",
      "#   1 | time:      0.017 | rank:   5.0 | e_vld: 4.6e-03 | e: 4.9e-07 | stop: e | \n",
      "# pre | time:      0.001 | rank:   5.0 | e_vld: 4.6e-03 | \n",
      "#   1 | time:      0.017 | rank:   5.0 | e_vld: 4.6e-03 | e: 3.8e-07 | stop: e | \n",
      "# pre | time:      0.001 | rank:   5.0 | e_vld: 4.6e-03 | \n",
      "#   1 | time:      0.017 | rank:   5.0 | e_vld: 4.6e-03 | e: 4.7e-07 | stop: e | \n",
      "# pre | time:      0.001 | rank:   5.0 | e_vld: 4.6e-03 | \n",
      "#   1 | time:      0.017 | rank:   5.0 | e_vld: 4.6e-03 | e: 2.7e-07 | stop: e | \n",
      "# pre | time:      0.001 | rank:   5.0 | e_vld: 4.6e-03 | \n",
      "#   1 | time:      0.017 | rank:   5.0 | e_vld: 4.6e-03 | e: 4.6e-08 | stop: e | \n",
      "# pre | time:      0.001 | rank:   5.0 | e_vld: 4.6e-03 | \n",
      "#   1 | time:      0.017 | rank:   5.0 | e_vld: 4.6e-03 | e: 4.2e-08 | stop: e | \n",
      "# pre | time:      0.001 | rank:   5.0 | e_vld: 4.6e-03 | \n",
      "#   1 | time:      0.016 | rank:   5.0 | e_vld: 4.6e-03 | e: 3.5e-08 | stop: e | \n",
      "# pre | time:      0.001 | rank:   5.0 | e_vld: 4.6e-03 | \n",
      "#   1 | time:      0.018 | rank:   5.0 | e_vld: 4.6e-03 | e: 5.7e-08 | stop: e | \n",
      "# pre | time:      0.001 | rank:   5.0 | e_vld: 4.6e-03 | \n",
      "#   1 | time:      0.019 | rank:   5.0 | e_vld: 4.6e-03 | e: 6.1e-08 | stop: e | \n",
      "# pre | time:      0.001 | rank:   5.0 | e_vld: 4.6e-03 | \n",
      "#   1 | time:      0.019 | rank:   5.0 | e_vld: 4.6e-03 | e: 4.2e-08 | stop: e | \n",
      "# pre | time:      0.001 | rank:   5.0 | e_vld: 4.6e-03 | \n",
      "#   1 | time:      0.017 | rank:   5.0 | e_vld: 4.6e-03 | e: 5.8e-08 | stop: e | \n",
      "# pre | time:      0.001 | rank:   5.0 | e_vld: 4.6e-03 | \n",
      "#   1 | time:      0.017 | rank:   5.0 | e_vld: 4.6e-03 | e: 4.5e-08 | stop: e | \n",
      "# pre | time:      0.001 | rank:   5.0 | e_vld: 4.6e-03 | \n",
      "#   1 | time:      0.017 | rank:   5.0 | e_vld: 4.6e-03 | e: 6.6e-08 | stop: e | \n",
      "# pre | time:      0.001 | rank:   5.0 | e_vld: 4.6e-03 | \n",
      "#   1 | time:      0.016 | rank:   5.0 | e_vld: 4.6e-03 | e: 4.2e-08 | stop: e | \n",
      "# pre | time:      0.001 | rank:   5.0 | e_vld: 4.6e-03 | \n",
      "#   1 | time:      0.016 | rank:   5.0 | e_vld: 4.6e-03 | e: 4.2e-09 | stop: e | \n",
      "# pre | time:      0.001 | rank:   5.0 | e_vld: 4.6e-03 | \n",
      "#   1 | time:      0.017 | rank:   5.0 | e_vld: 4.6e-03 | e: 1.5e-08 | stop: e | \n",
      "# pre | time:      0.001 | rank:   5.0 | e_vld: 4.6e-03 | \n",
      "#   1 | time:      0.016 | rank:   5.0 | e_vld: 4.6e-03 | e: 2.0e-08 | stop: e | \n",
      "# pre | time:      0.001 | rank:   5.0 | e_vld: 4.6e-03 | \n",
      "#   1 | time:      0.016 | rank:   5.0 | e_vld: 4.6e-03 | e: 0.0e+00 | stop: e | \n",
      "# pre | time:      0.001 | rank:   5.0 | e_vld: 4.6e-03 | \n",
      "#   1 | time:      0.016 | rank:   5.0 | e_vld: 4.6e-03 | e: 0.0e+00 | stop: e | \n",
      "# pre | time:      0.001 | rank:   5.0 | e_vld: 4.6e-03 | \n",
      "#   1 | time:      0.018 | rank:   5.0 | e_vld: 4.6e-03 | e: 3.1e-08 | stop: e | \n",
      "# pre | time:      0.001 | rank:   5.0 | e_vld: 4.6e-03 | \n",
      "#   1 | time:      0.017 | rank:   5.0 | e_vld: 4.6e-03 | e: 1.7e-08 | stop: e | \n",
      "# pre | time:      0.001 | rank:   5.0 | e_vld: 4.6e-03 | \n",
      "#   1 | time:      0.018 | rank:   5.0 | e_vld: 4.6e-03 | e: 3.3e-08 | stop: e | \n",
      "# pre | time:      0.001 | rank:   5.0 | e_vld: 4.6e-03 | \n",
      "#   1 | time:      0.017 | rank:   5.0 | e_vld: 4.6e-03 | e: 0.0e+00 | stop: e | \n",
      "# pre | time:      0.001 | rank:   5.0 | e_vld: 4.6e-03 | \n",
      "#   1 | time:      0.017 | rank:   5.0 | e_vld: 4.6e-03 | e: 0.0e+00 | stop: e | \n",
      "\n",
      "Build time     :       3.17\n"
     ]
    }
   ],
   "source": [
    "t = tpc()\n",
    "\n",
    "Y = teneva.anova(I_trn, y_trn, r)\n",
    "\n",
    "Nn = I_trn.shape[0]\n",
    "bs = 1000 # batch size\n",
    "iters = 10\n",
    "\n",
    "for i_iter in range(iters):\n",
    "    idx = np.random.permutation(Nn)\n",
    "    for i in range(0, Nn, bs):\n",
    "        I_trn_cur = I_trn[idx[i:i+bs]]\n",
    "        y_trn_cur = y_trn[idx[i:i+bs]]\n",
    "\n",
    "        Y = teneva.als(I_trn_cur, y_trn_cur, Y, e=1.E-3, I_vld=I_vld, y_vld=y_vld, log=True, \n",
    "                       update_sol=True, lamb=2**(i_iter/(iters/30)))\n",
    "        \n",
    "t = tpc() - t\n",
    "\n",
    "print(f'\\nBuild time     : {t:-10.2f}')"
   ]
  },
  {
   "cell_type": "markdown",
   "id": "5fa6be88-4023-4642-8fea-567df27aaad9",
   "metadata": {},
   "source": [
    "---"
   ]
  }
 ],
 "metadata": {
  "kernelspec": {
   "display_name": "Python 3 (ipykernel)",
   "language": "python",
   "name": "python3"
  },
  "language_info": {
   "codemirror_mode": {
    "name": "ipython",
    "version": 3
   },
   "file_extension": ".py",
   "mimetype": "text/x-python",
   "name": "python",
   "nbconvert_exporter": "python",
   "pygments_lexer": "ipython3",
   "version": "3.8.17"
  }
 },
 "nbformat": 4,
 "nbformat_minor": 5
}

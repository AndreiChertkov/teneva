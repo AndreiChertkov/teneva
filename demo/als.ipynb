{
 "cells": [
  {
   "cell_type": "markdown",
   "id": "e51b9291-f33c-40ad-96ee-e2f9454ffc69",
   "metadata": {},
   "source": [
    "**Demo for `teneva.als`**\n",
    "\n",
    "---\n",
    "\n",
    "This module contains the function \"als\" which computes the TT-approximation for the tensor by TT-ALS algorithm, using given random samples."
   ]
  },
  {
   "cell_type": "markdown",
   "id": "3896a55c-1131-44fc-b746-1433ad4ddb08",
   "metadata": {},
   "source": [
    "## Loading and importing modules"
   ]
  },
  {
   "cell_type": "code",
   "execution_count": 1,
   "id": "9941ed2c-6272-4144-8c96-4e800f0b5c49",
   "metadata": {},
   "outputs": [],
   "source": [
    "import numpy as np\n",
    "import teneva\n",
    "from time import perf_counter as tpc\n",
    "np.random.seed(42)"
   ]
  },
  {
   "cell_type": "markdown",
   "id": "3f6437a4-a93e-4265-9fc6-7d4f46a76c4d",
   "metadata": {},
   "source": [
    "## Function `als`"
   ]
  },
  {
   "cell_type": "markdown",
   "id": "cfe8a9e9-ac37-4f38-8008-f81f857ad833",
   "metadata": {},
   "source": [
    "Build TT-tensor by TT-ALS method using given random tensor samples."
   ]
  },
  {
   "cell_type": "code",
   "execution_count": 2,
   "id": "d905d98d-0183-4522-9395-60a001494b18",
   "metadata": {},
   "outputs": [],
   "source": [
    "d    = 5                          # Dimension of the function\n",
    "a    = [-5., -4., -3., -2., -1.]  # Lower bounds for spatial grid\n",
    "b    = [+6., +3., +3., +1., +2.]  # Upper bounds for spatial grid\n",
    "n    = [ 10,  12,  14,  16,  18]  # Shape of the tensor"
   ]
  },
  {
   "cell_type": "code",
   "execution_count": 3,
   "id": "aba30907-47c9-42af-b49b-555ed7ad96c9",
   "metadata": {},
   "outputs": [],
   "source": [
    "m    = 1.E+4                      # Number of calls to target function\n",
    "nswp = 50                         # Sweep number for ALS iterations\n",
    "r    = 5                          # TT-rank of the initial random tensor"
   ]
  },
  {
   "cell_type": "markdown",
   "id": "e588a535-a646-4545-9f10-e4d09e0255d2",
   "metadata": {},
   "source": [
    "We set the target function (the function takes as input a set of tensor multi-indices I of the shape [samples, dimension], which are transformed into points X of a uniform spatial grid using the function \"ind_to_poi\"):"
   ]
  },
  {
   "cell_type": "code",
   "execution_count": 4,
   "id": "391dd65e-ca27-46f8-a0cc-15a0e3919f08",
   "metadata": {},
   "outputs": [],
   "source": [
    "def func(I):\n",
    "    \"\"\"Schaffer function.\"\"\"\n",
    "    X = teneva.ind_to_poi(I, a, b, n)\n",
    "    Z = X[:, :-1]**2 + X[:, 1:]**2\n",
    "    y = 0.5 + (np.sin(np.sqrt(Z))**2 - 0.5) / (1. + 0.001 * Z)**2\n",
    "    return np.sum(y, axis=1)"
   ]
  },
  {
   "cell_type": "markdown",
   "id": "bcdae82e-67d7-4177-97e2-d097d5738bbe",
   "metadata": {},
   "source": [
    "We prepare train data from the LHS random distribution:"
   ]
  },
  {
   "cell_type": "code",
   "execution_count": 5,
   "id": "fe4f4875-86df-4026-9129-c400a502e302",
   "metadata": {},
   "outputs": [],
   "source": [
    "I_trn = teneva.sample_lhs(n, m) \n",
    "y_trn = func(I_trn)"
   ]
  },
  {
   "cell_type": "markdown",
   "id": "61880140-49a5-404e-9ab1-5172c88e52fa",
   "metadata": {},
   "source": [
    "We prepare test data from the random tensor multi-indices:"
   ]
  },
  {
   "cell_type": "code",
   "execution_count": 6,
   "id": "1a65ce75-e437-41fd-834c-a6a6a610ab7a",
   "metadata": {},
   "outputs": [],
   "source": [
    "# Test data:\n",
    "\n",
    "# Number of test points:\n",
    "m_tst = int(1.E+4)\n",
    "\n",
    "# Random multi-indices for the test points:\n",
    "I_tst = np.vstack([np.random.choice(k, m_tst) for k in n]).T\n",
    "\n",
    "# Function values for the test points:\n",
    "y_tst = func(I_tst)"
   ]
  },
  {
   "cell_type": "markdown",
   "id": "5588bcc8-939a-4f9d-aac5-58f073e6ab9c",
   "metadata": {},
   "source": [
    "And now we will build the TT-tensor, which approximates the target function by the TT-ALS method. Note that we use TT-ANOVA as an initial approximation (we can instead generate random initial r-rank approximation in the TT-format using the function \"rand\", but convergence will be worse, and there will also be instability of the solution)."
   ]
  },
  {
   "cell_type": "code",
   "execution_count": 7,
   "id": "fec32781-80f8-494e-a25a-a399c916164f",
   "metadata": {},
   "outputs": [
    {
     "name": "stdout",
     "output_type": "stream",
     "text": [
      "Build time     :       1.70\n"
     ]
    }
   ],
   "source": [
    "t = tpc()\n",
    "Y = teneva.anova(I_trn, y_trn, r)\n",
    "Y = teneva.als(I_trn, y_trn, Y, nswp)\n",
    "t = tpc() - t\n",
    "\n",
    "print(f'Build time     : {t:-10.2f}')"
   ]
  },
  {
   "cell_type": "markdown",
   "id": "e74ce8d7-64d1-4ae1-9041-5500a4f8465b",
   "metadata": {},
   "source": [
    "And now we can check the result:"
   ]
  },
  {
   "cell_type": "code",
   "execution_count": 8,
   "id": "292c1545-2e55-46f6-98a3-2e6d4e8e5dc5",
   "metadata": {},
   "outputs": [
    {
     "name": "stdout",
     "output_type": "stream",
     "text": [
      "Error on train :   1.21e-03\n",
      "Error on test  :   1.38e-03\n"
     ]
    }
   ],
   "source": [
    "# Compute approximation in train points:\n",
    "y_our = teneva.get_many(Y, I_trn)\n",
    "\n",
    "# Accuracy of the result for train points:\n",
    "e_trn = np.linalg.norm(y_our - y_trn)          \n",
    "e_trn /= np.linalg.norm(y_trn)\n",
    "\n",
    "# Compute approximation in test points:\n",
    "y_our = teneva.get_many(Y, I_tst)\n",
    "\n",
    "# Accuracy of the result for test points:\n",
    "e_tst = np.linalg.norm(y_our - y_tst)          \n",
    "e_tst /= np.linalg.norm(y_tst)\n",
    "\n",
    "print(f'Error on train : {e_trn:-10.2e}')\n",
    "print(f'Error on test  : {e_tst:-10.2e}')"
   ]
  },
  {
   "cell_type": "markdown",
   "id": "37487e85-4cba-4469-96e3-836a50c69215",
   "metadata": {},
   "source": [
    "We can also set a validation data set and specify as a stop criterion the accuracy of the TT-approximation on this data (and we can also present the logs):"
   ]
  },
  {
   "cell_type": "code",
   "execution_count": 9,
   "id": "8aa380dc-4782-4cc1-bea7-60d215cc2537",
   "metadata": {},
   "outputs": [],
   "source": [
    "# Validation data:\n",
    "\n",
    "# Number of validation points:\n",
    "m_vld = int(1.E+3)\n",
    "\n",
    "# Random multi-indices for the validation points:\n",
    "I_vld = np.vstack([np.random.choice(k, m_vld) for k in n]).T\n",
    "\n",
    "# Function values for the validation points:\n",
    "y_vld = func(I_vld)"
   ]
  },
  {
   "cell_type": "code",
   "execution_count": 10,
   "id": "f912a161-2930-4d90-9783-2cde879f1518",
   "metadata": {
    "tags": []
   },
   "outputs": [
    {
     "name": "stdout",
     "output_type": "stream",
     "text": [
      "# pre | time:      0.002 | rank:   5.0 | e_vld: 2.1e-01 | \n",
      "#   1 | time:      0.056 | rank:   5.0 | e_vld: 1.2e-01 | e: 1.9e-01 | \n",
      "#   2 | time:      0.091 | rank:   5.0 | e_vld: 1.6e-02 | e: 1.1e-01 | \n",
      "#   3 | time:      0.123 | rank:   5.0 | e_vld: 1.2e-02 | e: 9.3e-03 | \n",
      "#   4 | time:      0.155 | rank:   5.0 | e_vld: 1.0e-02 | e: 2.4e-03 | \n",
      "#   5 | time:      0.188 | rank:   5.0 | e_vld: 7.2e-03 | e: 3.5e-03 | stop: e_vld | \n",
      "\n",
      "Build time     :       0.19\n"
     ]
    }
   ],
   "source": [
    "t = tpc()\n",
    "Y = teneva.anova(I_trn, y_trn, r)\n",
    "Y = teneva.als(I_trn, y_trn, Y, nswp, I_vld=I_vld, y_vld=y_vld, e_vld=1.E-2, log=True)\n",
    "t = tpc() - t\n",
    "\n",
    "print(f'\\nBuild time     : {t:-10.2f}')"
   ]
  },
  {
   "cell_type": "markdown",
   "id": "1f35255a-78e8-45d7-bda4-b389596b293b",
   "metadata": {},
   "source": [
    "We can use helper functions to present the resulting accuracy:"
   ]
  },
  {
   "cell_type": "code",
   "execution_count": 11,
   "id": "609329e5-6dd1-4570-b481-f806bac5f36c",
   "metadata": {},
   "outputs": [
    {
     "name": "stdout",
     "output_type": "stream",
     "text": [
      "Error on train :   6.33e-03\n",
      "Error on valid.:   7.16e-03\n",
      "Error on test  :   7.07e-03\n"
     ]
    }
   ],
   "source": [
    "print(f'Error on train : {teneva.accuracy_on_data(Y, I_trn, y_trn):-10.2e}')\n",
    "print(f'Error on valid.: {teneva.accuracy_on_data(Y, I_vld, y_vld):-10.2e}')\n",
    "print(f'Error on test  : {teneva.accuracy_on_data(Y, I_tst, y_tst):-10.2e}')"
   ]
  },
  {
   "cell_type": "markdown",
   "id": "28018274-2dbe-456d-a7bb-52601f7cb0e9",
   "metadata": {},
   "source": [
    "We may also set the value of relative rate of solution change to stop the iterations:"
   ]
  },
  {
   "cell_type": "code",
   "execution_count": 12,
   "id": "7668d2aa-ac83-400b-9f28-f3a62e6bd733",
   "metadata": {
    "tags": []
   },
   "outputs": [
    {
     "name": "stdout",
     "output_type": "stream",
     "text": [
      "# pre | time:      0.002 | rank:   5.0 | e_vld: 2.1e-01 | \n",
      "#   1 | time:      0.055 | rank:   5.0 | e_vld: 1.2e-01 | e: 1.9e-01 | \n",
      "#   2 | time:      0.090 | rank:   5.0 | e_vld: 1.6e-02 | e: 1.1e-01 | \n",
      "#   3 | time:      0.122 | rank:   5.0 | e_vld: 1.2e-02 | e: 9.0e-03 | \n",
      "#   4 | time:      0.155 | rank:   5.0 | e_vld: 1.1e-02 | e: 1.9e-03 | \n",
      "#   5 | time:      0.186 | rank:   5.0 | e_vld: 8.5e-03 | e: 2.3e-03 | \n",
      "#   6 | time:      0.221 | rank:   5.0 | e_vld: 5.6e-03 | e: 3.0e-03 | \n",
      "#   7 | time:      0.254 | rank:   5.0 | e_vld: 3.8e-03 | e: 1.9e-03 | \n",
      "#   8 | time:      0.287 | rank:   5.0 | e_vld: 3.0e-03 | e: 1.1e-03 | \n",
      "#   9 | time:      0.320 | rank:   5.0 | e_vld: 2.6e-03 | e: 7.1e-04 | stop: e | \n",
      "\n",
      "Build time     :       0.33\n"
     ]
    }
   ],
   "source": [
    "t = tpc()\n",
    "Y = teneva.anova(I_trn, y_trn, r)\n",
    "Y = teneva.als(I_trn, y_trn, Y, e=1.E-3, I_vld=I_vld, y_vld=y_vld, log=True)\n",
    "t = tpc() - t\n",
    "\n",
    "print(f'\\nBuild time     : {t:-10.2f}')"
   ]
  },
  {
   "cell_type": "code",
   "execution_count": 13,
   "id": "08124e61-4678-4586-b351-4bf185d80b95",
   "metadata": {},
   "outputs": [
    {
     "name": "stdout",
     "output_type": "stream",
     "text": [
      "Error on train :   2.25e-03\n",
      "Error on valid.:   2.57e-03\n",
      "Error on test  :   2.53e-03\n"
     ]
    }
   ],
   "source": [
    "print(f'Error on train : {teneva.accuracy_on_data(Y, I_trn, y_trn):-10.2e}')\n",
    "print(f'Error on valid.: {teneva.accuracy_on_data(Y, I_vld, y_vld):-10.2e}')\n",
    "print(f'Error on test  : {teneva.accuracy_on_data(Y, I_tst, y_tst):-10.2e}')"
   ]
  },
  {
   "cell_type": "markdown",
   "id": "c28f4023-1f98-4cf6-a5bd-945ab5937ec3",
   "metadata": {},
   "source": [
    "We may also pass callback function (it will be called after every sweep):"
   ]
  },
  {
   "cell_type": "code",
   "execution_count": 14,
   "id": "b10725d8-370f-4401-870a-3d5f579b35a2",
   "metadata": {},
   "outputs": [],
   "source": [
    "def cb(Y, info, opts):\n",
    "    e = teneva.accuracy(Y, opts['Yold'])\n",
    "    print(f'Callback : e={e:-7.1e}')\n",
    "    if info['nswp'] == 5:\n",
    "        # Stop the algorithm's work\n",
    "        return True"
   ]
  },
  {
   "cell_type": "code",
   "execution_count": 15,
   "id": "de9192b7-838d-4fe1-9eca-1b373d5e173b",
   "metadata": {},
   "outputs": [
    {
     "name": "stdout",
     "output_type": "stream",
     "text": [
      "# pre | time:      0.002 | rank:   5.0 | \n",
      "Callback : e=1.9e-01\n",
      "#   1 | time:      0.056 | rank:   5.0 | e: 1.9e-01 | \n",
      "Callback : e=1.1e-01\n",
      "#   2 | time:      0.092 | rank:   5.0 | e: 1.1e-01 | \n",
      "Callback : e=1.3e-02\n",
      "#   3 | time:      0.124 | rank:   5.0 | e: 1.3e-02 | \n",
      "Callback : e=3.1e-03\n",
      "#   4 | time:      0.158 | rank:   5.0 | e: 3.1e-03 | \n",
      "Callback : e=1.9e-03\n",
      "#   5 | time:      0.191 | rank:   5.0 | e: 1.9e-03 | stop: cb | \n",
      "\n",
      "Build time     :       0.20\n"
     ]
    }
   ],
   "source": [
    "t = tpc()\n",
    "Y = teneva.anova(I_trn, y_trn, r)\n",
    "Y = teneva.als(I_trn, y_trn, Y, e=1.E-10, cb=cb, log=True)\n",
    "t = tpc() - t\n",
    "\n",
    "print(f'\\nBuild time     : {t:-10.2f}')"
   ]
  },
  {
   "cell_type": "markdown",
   "id": "145dca4d-36fd-42e1-a177-7577ffd8139a",
   "metadata": {},
   "source": [
    "We can also use rank-adaptive version of the TT-ALS method (note that result is very sensitive to \"r\" and \"lamb\" parameter values):"
   ]
  },
  {
   "cell_type": "code",
   "execution_count": 16,
   "id": "3a89ae48-bb04-4262-b8b5-c3b1c9dd90db",
   "metadata": {},
   "outputs": [
    {
     "name": "stdout",
     "output_type": "stream",
     "text": [
      "# pre | time:      0.003 | rank:   2.0 | e_vld: 2.1e-01 | \n",
      "#   1 | time:      0.196 | rank:   4.8 | e_vld: 1.8e-02 | e: 2.2e-01 | \n",
      "#   2 | time:      0.356 | rank:   3.9 | e_vld: 6.6e-03 | e: 2.0e-02 | \n",
      "#   3 | time:      0.505 | rank:   3.9 | e_vld: 6.3e-03 | e: 1.7e-03 | \n",
      "#   4 | time:      0.655 | rank:   3.9 | e_vld: 6.3e-03 | e: 1.3e-04 | \n",
      "#   5 | time:      0.803 | rank:   3.9 | e_vld: 6.3e-03 | e: 1.4e-05 | stop: nswp | \n",
      "\n",
      "Build time     :       0.81\n"
     ]
    }
   ],
   "source": [
    "t = tpc()\n",
    "Y = teneva.anova(I_trn, y_trn, r=2)\n",
    "Y = teneva.als(I_trn, y_trn, Y, nswp=5,\n",
    "    I_vld=I_vld, y_vld=y_vld, r=5, e_adap=1.E-2, lamb=0.0000001, log=True)\n",
    "t = tpc() - t\n",
    "\n",
    "print(f'\\nBuild time     : {t:-10.2f}')"
   ]
  },
  {
   "cell_type": "code",
   "execution_count": 17,
   "id": "c9654ed9-6c9e-4400-8cac-64592593caf5",
   "metadata": {},
   "outputs": [
    {
     "name": "stdout",
     "output_type": "stream",
     "text": [
      "Error on train :   5.86e-03\n",
      "Error on valid.:   6.29e-03\n",
      "Error on test  :   5.97e-03\n"
     ]
    }
   ],
   "source": [
    "print(f'Error on train : {teneva.accuracy_on_data(Y, I_trn, y_trn):-10.2e}')\n",
    "print(f'Error on valid.: {teneva.accuracy_on_data(Y, I_vld, y_vld):-10.2e}')\n",
    "print(f'Error on test  : {teneva.accuracy_on_data(Y, I_tst, y_tst):-10.2e}')"
   ]
  },
  {
   "cell_type": "markdown",
   "id": "5fa6be88-4023-4642-8fea-567df27aaad9",
   "metadata": {},
   "source": [
    "---"
   ]
  }
 ],
 "metadata": {
  "kernelspec": {
   "display_name": "Python 3 (ipykernel)",
   "language": "python",
   "name": "python3"
  },
  "language_info": {
   "codemirror_mode": {
    "name": "ipython",
    "version": 3
   },
   "file_extension": ".py",
   "mimetype": "text/x-python",
   "name": "python",
   "nbconvert_exporter": "python",
   "pygments_lexer": "ipython3",
   "version": "3.8.16"
  }
 },
 "nbformat": 4,
 "nbformat_minor": 5
}

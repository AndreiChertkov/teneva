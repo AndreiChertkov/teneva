{
 "cells": [
  {
   "cell_type": "markdown",
   "id": "e51b9291-f33c-40ad-96ee-e2f9454ffc69",
   "metadata": {},
   "source": [
    "**Demo for `teneva.core`**\n",
    "\n",
    "---\n",
    "\n",
    "This module contains functions to work directly with individual TT-cores."
   ]
  },
  {
   "cell_type": "markdown",
   "id": "3896a55c-1131-44fc-b746-1433ad4ddb08",
   "metadata": {},
   "source": [
    "## Loading and importing modules"
   ]
  },
  {
   "cell_type": "code",
   "execution_count": 1,
   "id": "9941ed2c-6272-4144-8c96-4e800f0b5c49",
   "metadata": {},
   "outputs": [],
   "source": [
    "import numpy as np\n",
    "import teneva\n",
    "from time import perf_counter as tpc\n",
    "np.random.seed(42)"
   ]
  },
  {
   "cell_type": "markdown",
   "id": "e653e96c-39b0-40d5-8692-31f430de0113",
   "metadata": {},
   "source": [
    "## Function `core_qtt_to_tt`"
   ]
  },
  {
   "cell_type": "markdown",
   "id": "57f3c6e4-a9c7-4a18-a776-2dbceff818fa",
   "metadata": {},
   "source": [
    "Transform the list of QTT-cores into a TT-core."
   ]
  },
  {
   "cell_type": "code",
   "execution_count": 2,
   "id": "dba8b1b1-d43f-4999-a081-cdab8c75ac2f",
   "metadata": {},
   "outputs": [
    {
     "name": "stdout",
     "output_type": "stream",
     "text": [
      "Shape : (4, 128, 3)\n"
     ]
    }
   ],
   "source": [
    "# TT-ranks for cores:\n",
    "r_list = [4, 3, 5, 8, 18, 2, 4, 3]\n",
    "\n",
    "# Create random QTT-cores:\n",
    "Q_list = []\n",
    "for i in range(1, len(r_list)):\n",
    "    Q = np.random.randn(r_list[i-1], 2, r_list[i]) \n",
    "    Q_list.append(Q)\n",
    "\n",
    "# Transform the QTT-cores into one TT-core:\n",
    "G = teneva.core_qtt_to_tt(Q_list)\n",
    "\n",
    "print(f'Shape : {G.shape}')"
   ]
  },
  {
   "cell_type": "markdown",
   "id": "c73f6184-e339-423b-a43c-51892aa3f60b",
   "metadata": {},
   "source": [
    "## Function `core_stab`"
   ]
  },
  {
   "cell_type": "markdown",
   "id": "1ba7aa15-86d0-4048-bca5-2ad506beee11",
   "metadata": {},
   "source": [
    "Scaling for the passed TT-core, i.e., G -> (Q, p), G = 2^p * Q."
   ]
  },
  {
   "cell_type": "code",
   "execution_count": 3,
   "id": "22ea3536-0dd9-4a30-bc6c-38449681bf59",
   "metadata": {},
   "outputs": [
    {
     "name": "stdout",
     "output_type": "stream",
     "text": [
      "1\n",
      "1.3484433214707858\n",
      "0.0\n"
     ]
    }
   ],
   "source": [
    "r = 4   # Left TT-rank\n",
    "n = 10  # Mode size\n",
    "q = 5   # Right TT-rank\n",
    "\n",
    "# Create random TT-core:\n",
    "G = np.random.randn(r, n, q)\n",
    "\n",
    "# Perform scaling:\n",
    "Q, p = teneva.core_stab(G)\n",
    "\n",
    "print(p)\n",
    "print(np.max(np.abs(Q)))\n",
    "print(np.max(np.abs(G - 2**p * Q)))"
   ]
  },
  {
   "cell_type": "markdown",
   "id": "e81cbd7b-a7c9-48f4-becb-a87eaac1cefa",
   "metadata": {},
   "source": [
    "For convenience, we can set an initial value for the power-factor:"
   ]
  },
  {
   "cell_type": "code",
   "execution_count": 4,
   "id": "e78b2781-488d-4909-96d7-eb29b9797779",
   "metadata": {},
   "outputs": [
    {
     "name": "stdout",
     "output_type": "stream",
     "text": [
      "3\n",
      "1.3484433214707858\n",
      "0.0\n"
     ]
    }
   ],
   "source": [
    "p0 = 2\n",
    "Q, p = teneva.core_stab(G, p0)\n",
    "\n",
    "print(p)\n",
    "print(np.max(np.abs(Q)))\n",
    "print(np.max(np.abs(G - 2**(p-p0) * Q)))"
   ]
  },
  {
   "cell_type": "markdown",
   "id": "422a0233-fbaa-4f2d-8c72-ab099ccdb5cc",
   "metadata": {},
   "source": [
    "## Function `core_tt_to_qtt`"
   ]
  },
  {
   "cell_type": "markdown",
   "id": "72a4df30-990c-4d71-aeeb-79e214cf22c6",
   "metadata": {},
   "source": [
    "Transform the TT-core into a list of QTT-cores."
   ]
  },
  {
   "cell_type": "code",
   "execution_count": 5,
   "id": "4c0d105a-55ac-4b1b-ab82-476ea51daa3f",
   "metadata": {},
   "outputs": [
    {
     "name": "stdout",
     "output_type": "stream",
     "text": [
      "Len  :  10\n",
      "Q  1 :  (3, 2, 6)\n",
      "Q  2 :  (6, 2, 12)\n",
      "Q 10 :  (10, 2, 5)\n"
     ]
    }
   ],
   "source": [
    "r = 3      # Left TT-rank\n",
    "n = 2**10  # Mode size\n",
    "q = 5      # Right TT-rank\n",
    "\n",
    "# Create random TT-core:\n",
    "G = np.random.randn(r, n, q)\n",
    "\n",
    "# Transform the core to QTT:\n",
    "Q_list = teneva.core_tt_to_qtt(G)\n",
    "\n",
    "print('Len  : ', len(Q_list))\n",
    "print('Q  1 : ', Q_list[0].shape)\n",
    "print('Q  2 : ', Q_list[1].shape)\n",
    "print('Q 10 : ', Q_list[-1].shape)"
   ]
  },
  {
   "cell_type": "markdown",
   "id": "dc375dd5-a84e-478b-91ae-2453361a3dff",
   "metadata": {},
   "source": [
    "We can check the result if transform the list of the QTT-cores back:"
   ]
  },
  {
   "cell_type": "code",
   "execution_count": 6,
   "id": "be2be5e4-59c2-47c1-9369-95f6a557d84f",
   "metadata": {},
   "outputs": [
    {
     "name": "stdout",
     "output_type": "stream",
     "text": [
      "Shape : (3, 1024, 5)\n",
      "Eps   : 2.0e-14\n"
     ]
    }
   ],
   "source": [
    "G_new = teneva.core_qtt_to_tt(Q_list)\n",
    "\n",
    "eps = np.max(np.abs(G_new - G))\n",
    "\n",
    "print(f'Shape : {G_new.shape}')\n",
    "print(f'Eps   : {eps:-7.1e}')"
   ]
  },
  {
   "cell_type": "markdown",
   "id": "5157c326-a02c-41fc-b82d-af0d55ddfb18",
   "metadata": {},
   "source": [
    "---"
   ]
  }
 ],
 "metadata": {
  "kernelspec": {
   "display_name": "Python 3 (ipykernel)",
   "language": "python",
   "name": "python3"
  },
  "language_info": {
   "codemirror_mode": {
    "name": "ipython",
    "version": 3
   },
   "file_extension": ".py",
   "mimetype": "text/x-python",
   "name": "python",
   "nbconvert_exporter": "python",
   "pygments_lexer": "ipython3",
   "version": "3.8.17"
  }
 },
 "nbformat": 4,
 "nbformat_minor": 5
}

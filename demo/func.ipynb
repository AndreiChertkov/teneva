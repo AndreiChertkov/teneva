{
 "cells": [
  {
   "cell_type": "markdown",
   "id": "e51b9291-f33c-40ad-96ee-e2f9454ffc69",
   "metadata": {},
   "source": [
    "**Demo for `teneva.func`**\n",
    "\n",
    "---\n",
    "\n",
    "This module contains the functions for construction of the functional TT-representation, including Chebyshev interpolation in the TT-format as well as calculating the values of the function using the constructed interpolation coefficients."
   ]
  },
  {
   "cell_type": "markdown",
   "id": "3896a55c-1131-44fc-b746-1433ad4ddb08",
   "metadata": {},
   "source": [
    "## Loading and importing modules"
   ]
  },
  {
   "cell_type": "code",
   "execution_count": 1,
   "id": "9941ed2c-6272-4144-8c96-4e800f0b5c49",
   "metadata": {},
   "outputs": [],
   "source": [
    "import numpy as np\n",
    "import teneva\n",
    "from time import perf_counter as tpc\n",
    "np.random.seed(42)"
   ]
  },
  {
   "cell_type": "markdown",
   "id": "4d17e8e6-937d-4549-a296-2631aa618c1f",
   "metadata": {},
   "source": [
    "## Function `func_basis`"
   ]
  },
  {
   "cell_type": "markdown",
   "id": "86383703-aa57-4b91-a38f-24292faf7481",
   "metadata": {},
   "source": [
    "Compute the basis function values (e.g., Chebyshev polynomials) in the given points."
   ]
  },
  {
   "cell_type": "code",
   "execution_count": 2,
   "id": "310f6644-c8ec-4ec3-a653-896c423de951",
   "metadata": {
    "tags": []
   },
   "outputs": [
    {
     "name": "stdout",
     "output_type": "stream",
     "text": [
      "(3, 2, 4)\n",
      "[[[ 1.  1.  1.  1.]\n",
      "  [ 1.  1.  1.  1.]]\n",
      "\n",
      " [[ 0.  0.  0.  0.]\n",
      "  [ 1.  1.  1.  1.]]\n",
      "\n",
      " [[-1. -1. -1. -1.]\n",
      "  [ 1.  1.  1.  1.]]]\n"
     ]
    }
   ],
   "source": [
    "X = np.array([           # Two 4-dim points\n",
    "    [0., 0., 0., 0.],\n",
    "    [1., 1., 1., 1.],\n",
    "])\n",
    "\n",
    "m = 3                    # Maximum order of polynomial \n",
    "\n",
    "# Compute Chebyshev polynomials:\n",
    "T = teneva.func_basis(X, m)\n",
    "\n",
    "print(T.shape)\n",
    "print(T)"
   ]
  },
  {
   "cell_type": "markdown",
   "id": "1b2b4a94-ed7d-4dce-8d4f-9dea8c4e71fb",
   "metadata": {
    "tags": []
   },
   "source": [
    "## Function `func_diff_matrix`"
   ]
  },
  {
   "cell_type": "markdown",
   "id": "7df6f2d1-e67e-4369-86f3-431f957f18bf",
   "metadata": {},
   "source": [
    "Construct the differential matrix (Chebyshev or Sin) of any order."
   ]
  },
  {
   "cell_type": "markdown",
   "id": "7d7da8f2-6710-4015-a590-74471c507cd3",
   "metadata": {},
   "source": [
    "Let build an analytic function for demonstration:"
   ]
  },
  {
   "cell_type": "code",
   "execution_count": 3,
   "id": "39fa697f-fb5b-4c3b-bfbe-42e21126d955",
   "metadata": {},
   "outputs": [],
   "source": [
    "a = -2.   # Grid lower bound\n",
    "b = +3.   # Grid upper bound\n",
    "n = 1000  # Grid size\n",
    "\n",
    "# Function and its first derivative:\n",
    "f     = lambda x: np.sin(x**3) + np.exp(-x**2)\n",
    "f_der = lambda x: 3. * x**2 * np.cos(x**3) - 2. * x * np.exp(-x**2)\n",
    "\n",
    "# Chebyshev grid and function values on the grid:\n",
    "i = np.arange(n)\n",
    "x = teneva.ind_to_poi(i, a, b, n, kind='cheb')\n",
    "y = f(x)"
   ]
  },
  {
   "cell_type": "markdown",
   "id": "598aabfd-bbac-4544-9e46-b08bfeea3d17",
   "metadata": {},
   "source": [
    "We can compute the derivative for \"y\" by Chebyshev differential matrix:"
   ]
  },
  {
   "cell_type": "code",
   "execution_count": 4,
   "id": "dc42e459-8579-42eb-83a9-b0e8ee0f9076",
   "metadata": {},
   "outputs": [],
   "source": [
    "D = teneva.func_diff_matrix(a, b, n)\n",
    "z = D @ y"
   ]
  },
  {
   "cell_type": "markdown",
   "id": "58fd8a8c-7efd-48e0-b18b-51c7163fca31",
   "metadata": {},
   "source": [
    "Let check the result:"
   ]
  },
  {
   "cell_type": "code",
   "execution_count": 5,
   "id": "b327c061-79be-4fdb-8dfe-c1ac45739af9",
   "metadata": {},
   "outputs": [
    {
     "name": "stdout",
     "output_type": "stream",
     "text": [
      "Error nrm : 7.5e-13\n",
      "Error max : 1.4e-09\n"
     ]
    }
   ],
   "source": [
    "z_real = f_der(x)\n",
    "\n",
    "e_nrm = np.linalg.norm(z - z_real) / np.linalg.norm(z_real)\n",
    "e_max = np.max(np.abs((z - z_real) / z_real))\n",
    "\n",
    "print(f'Error nrm : {e_nrm:-7.1e}')\n",
    "print(f'Error max : {e_max:-7.1e}')"
   ]
  },
  {
   "cell_type": "markdown",
   "id": "6ae5b311-7744-419f-8849-94ce51ce7040",
   "metadata": {},
   "source": [
    "We can also calculate higher order derivatives:"
   ]
  },
  {
   "cell_type": "code",
   "execution_count": 6,
   "id": "b94e5196-c82e-4ee3-963e-5d7fb5cfea3b",
   "metadata": {},
   "outputs": [],
   "source": [
    "D1, D2, D3 = teneva.func_diff_matrix(a, b, n, m=3)\n",
    "z = [D1 @ y, D2 @ y, D3 @ y]"
   ]
  },
  {
   "cell_type": "markdown",
   "id": "5d8cc2bf-e34c-4408-87be-0fd18f79dac6",
   "metadata": {},
   "source": [
    "Let check the result:"
   ]
  },
  {
   "cell_type": "code",
   "execution_count": 7,
   "id": "044128c2-88de-4b9b-9d9e-a74e9e259f47",
   "metadata": {},
   "outputs": [
    {
     "name": "stdout",
     "output_type": "stream",
     "text": [
      "Der # 1 | Error nrm : 7.5e-13 | Error max : 1.4e-09\n",
      "Der # 2 | Error nrm : 4.9e-09 | Error max : 4.3e-08\n",
      "Der # 3 | Error nrm : 1.3e-05 | Error max : 1.4e-03\n"
     ]
    }
   ],
   "source": [
    "z1_real = 3. * x**2 * np.cos(x**3) - 2. * x * np.exp(-x**2)\n",
    "\n",
    "z2_real = 6. * x * np.cos(x**3) - 9. * x**4 * np.sin(x**3)\n",
    "z2_real += - 2. * np.exp(-x**2) + 4. * x**2 * np.exp(-x**2)\n",
    "\n",
    "z3_real = 6. * np.cos(x**3) - 18. * x**3 * np.sin(x**3)\n",
    "z3_real += - 36. * x**3 * np.sin(x**3) - 27. * x**6 * np.cos(x**3)\n",
    "z3_real += 4. * x * np.exp(-x**2)\n",
    "z3_real += 8. * x * np.exp(-x**2) - 8. * x**3 * np.exp(-x**2)\n",
    "\n",
    "z_real = [z1_real, z2_real, z3_real]\n",
    "\n",
    "for k in range(3):\n",
    "    e_nrm = np.linalg.norm(z[k] - z_real[k]) / np.linalg.norm(z_real[k])\n",
    "    e_max = np.max(np.abs((z[k] - z_real[k]) / z_real[k]))\n",
    "    print(f'Der # {k+1} | Error nrm : {e_nrm:-7.1e} | Error max : {e_max:-7.1e}')"
   ]
  },
  {
   "cell_type": "markdown",
   "id": "ee0f5d79-2739-4f0b-a74f-40f3f2f8df14",
   "metadata": {},
   "source": [
    "We may also use the \"sin\" basis (DRAFT!!!):"
   ]
  },
  {
   "cell_type": "code",
   "execution_count": 8,
   "id": "2a768e06-efca-41a0-b90c-f9a0e43c3937",
   "metadata": {
    "tags": []
   },
   "outputs": [],
   "source": [
    "a = 0.       # Grid lower bound\n",
    "b = np.pi    # Grid upper bound\n",
    "n = 1000     # Grid size\n",
    "\n",
    "# Function and its first derivative:\n",
    "f     = lambda x: np.sin(x)\n",
    "f_der = lambda x: np.cos(x)\n",
    "\n",
    "# Uniform grid and function values on the grid:\n",
    "i = np.arange(n)\n",
    "x = teneva.ind_to_poi(i, a, b, n, kind='uni')\n",
    "y = f(x)"
   ]
  },
  {
   "cell_type": "code",
   "execution_count": 9,
   "id": "c3f63e24-9a59-48ba-a72b-dd7327aa27be",
   "metadata": {
    "tags": []
   },
   "outputs": [],
   "source": [
    "D = teneva.func_diff_matrix(a, b, n, kind='sin')\n",
    "z = D @ y"
   ]
  },
  {
   "cell_type": "code",
   "execution_count": 10,
   "id": "61462a2b-89d7-4c72-8c7b-13059e059dd6",
   "metadata": {
    "tags": []
   },
   "outputs": [
    {
     "name": "stdout",
     "output_type": "stream",
     "text": [
      "Error nrm : 5.3e+02\n",
      "Error max : 3.2e+05\n"
     ]
    }
   ],
   "source": [
    "z_real = f_der(x)\n",
    "\n",
    "e_nrm = np.linalg.norm(z - z_real) / np.linalg.norm(z_real)\n",
    "e_max = np.max(np.abs((z - z_real) / z_real))\n",
    "\n",
    "print(f'Error nrm : {e_nrm:-7.1e}')\n",
    "print(f'Error max : {e_max:-7.1e}')"
   ]
  },
  {
   "cell_type": "markdown",
   "id": "d54a2e0b-abd3-4d96-85b8-6336f3f5d80d",
   "metadata": {},
   "source": [
    "## Function `func_get`"
   ]
  },
  {
   "cell_type": "markdown",
   "id": "e1a50738-6a24-4d34-a145-c828d82b54f6",
   "metadata": {},
   "source": [
    "Compute the function approximation in given points (approx. f(X))."
   ]
  },
  {
   "cell_type": "code",
   "execution_count": 11,
   "id": "08347b96-1e1b-4473-b3a4-d3cc4493d950",
   "metadata": {},
   "outputs": [
    {
     "name": "stdout",
     "output_type": "stream",
     "text": [
      "# pre | time:      0.003 | evals: 0.00e+00 | rank:   2.0 | \n",
      "#   1 | time:      0.010 | evals: 3.12e+02 | rank:   4.0 | e: 7.9e+04 | \n",
      "#   2 | time:      0.015 | evals: 1.09e+03 | rank:   6.0 | e: 0.0e+00 | stop: e | \n",
      "TT-tensor     4D : |5| |6| |7| |8|\n",
      "<rank>  =    3.0 :   \\3/ \\3/ \\3/\n"
     ]
    }
   ],
   "source": [
    "# In the beginning we compute the function values on the Chebyshev\n",
    "# grid using TT-cross (see cross function for more details):\n",
    "from scipy.optimize import rosen\n",
    "f = lambda X: rosen(X.T)        # Target function\n",
    "\n",
    "a = [-2., -4., -3., -2.]        # Grid lower bounds\n",
    "b = [+2., +3., +4., +2.]        # Grid upper bounds\n",
    "n = [5, 6, 7, 8]                # Grid size\n",
    "Y0 = teneva.rand(n, r=2)        # Initial approximation for TT-cross\n",
    "e = 1.E-3                       # Accuracy for TT-CROSS\n",
    "eps = 1.E-6                     # Accuracy for truncation\n",
    "\n",
    "Y = teneva.cross(lambda I: f(teneva.ind_to_poi(I, a, b, n, 'cheb')),\n",
    "    Y0, e=e, log=True)\n",
    "Y = teneva.truncate(Y, eps)\n",
    "teneva.show(Y)"
   ]
  },
  {
   "cell_type": "code",
   "execution_count": 12,
   "id": "46dbc7a4-5502-4a2f-912d-dba923e9bd87",
   "metadata": {},
   "outputs": [
    {
     "name": "stdout",
     "output_type": "stream",
     "text": [
      "TT-tensor     4D : |5| |6| |7| |8|\n",
      "<rank>  =    3.0 :   \\3/ \\3/ \\3/\n"
     ]
    }
   ],
   "source": [
    "# Then we should compute the TT-tensor for Chebyshev interpolation\n",
    "# coefficients (see func_int function for more details):\n",
    "A = teneva.func_int(Y)\n",
    "\n",
    "teneva.show(A) # Show the result"
   ]
  },
  {
   "cell_type": "code",
   "execution_count": 13,
   "id": "e708c36e-6282-40fc-93b6-315e96215302",
   "metadata": {},
   "outputs": [
    {
     "name": "stdout",
     "output_type": "stream",
     "text": [
      "[ 3.00000000e+00  5.40600000e+03  7.73070497e-12 -1.00000000e+00]\n",
      "[3.0000000e+00 5.4060000e+03 0.0000000e+00 9.9999996e+17]\n"
     ]
    }
   ],
   "source": [
    "# Finally we compute the approximation in selected points inside\n",
    "# the bounds (the values for points outside the bounds will be set as \"z\"):\n",
    "X = np.array([\n",
    "    [0., 0., 0., 0.],\n",
    "    [0., 2., 3., 2.],\n",
    "    [1., 1., 1., 1.],\n",
    "    [1., 1., 1., 99999999],\n",
    "])\n",
    "\n",
    "Z = teneva.func_get(X, A, a, b, z=-1.)\n",
    "\n",
    "print(Z)    # Print the result\n",
    "print(f(X)) # We can check the result by comparing it to the true values"
   ]
  },
  {
   "cell_type": "markdown",
   "id": "9fd37a90-5d32-4bb0-8f63-c5f1bc29a147",
   "metadata": {},
   "source": [
    "We may also compute the value for only one point:"
   ]
  },
  {
   "cell_type": "code",
   "execution_count": 14,
   "id": "f4764502-7147-4477-a73b-9fee45fad605",
   "metadata": {},
   "outputs": [
    {
     "name": "stdout",
     "output_type": "stream",
     "text": [
      "5405.999999999997\n",
      "5406.0\n"
     ]
    }
   ],
   "source": [
    "x = np.array([0., 2., 3., 2.])\n",
    "z = teneva.func_get(x, A, a, b, z=-1.)\n",
    "\n",
    "print(z)    # Print the result\n",
    "print(f(x)) # We can check the result by comparing it to the true value"
   ]
  },
  {
   "cell_type": "markdown",
   "id": "ba8cceb9-af8a-4934-9443-c30e4ac98d1b",
   "metadata": {},
   "source": [
    "## Function `func_gets`"
   ]
  },
  {
   "cell_type": "markdown",
   "id": "c4781f74-8c68-432b-9c30-c914e8c39168",
   "metadata": {},
   "source": [
    "Compute the function approximation (TT-tensor) on the full given grid."
   ]
  },
  {
   "cell_type": "code",
   "execution_count": 15,
   "id": "424832cf-c851-42b1-a81a-a2d1d6c8b143",
   "metadata": {
    "tags": []
   },
   "outputs": [
    {
     "name": "stdout",
     "output_type": "stream",
     "text": [
      "# pre | time:      0.005 | evals: 0.00e+00 | rank:   2.0 | \n",
      "#   1 | time:      0.016 | evals: 3.12e+02 | rank:   4.0 | e: 6.7e+04 | \n",
      "#   2 | time:      0.028 | evals: 1.09e+03 | rank:   6.0 | e: 4.3e-09 | stop: e | \n",
      "TT-tensor     4D : |5| |6| |7| |8|\n",
      "<rank>  =    3.0 :   \\3/ \\3/ \\3/\n"
     ]
    }
   ],
   "source": [
    "# In the beginning we compute the function values on the Chebyshev\n",
    "# grid using TT-cross (see cross function for more details):\n",
    "from scipy.optimize import rosen\n",
    "f = lambda X: rosen(X.T)        # Target function\n",
    "\n",
    "a = [-2., -4., -3., -2.]        # Grid lower bounds\n",
    "b = [+2., +3., +4., +2.]        # Grid upper bounds\n",
    "n = [5, 6, 7, 8]                # Grid size\n",
    "Y0 = teneva.rand(n, r=2)        # Initial approximation for TT-cross\n",
    "e = 1.E-3                       # Accuracy for TT-CROSS\n",
    "eps = 1.E-6                     # Accuracy for truncation\n",
    "\n",
    "\n",
    "Y = teneva.cross(lambda I: f(teneva.ind_to_poi(I, a, b, n, 'cheb')),\n",
    "    Y0, e=e, log=True)\n",
    "Y = teneva.truncate(Y, eps)\n",
    "teneva.show(Y)"
   ]
  },
  {
   "cell_type": "code",
   "execution_count": 16,
   "id": "e747e30f-424c-4535-98ab-bf9b942a0111",
   "metadata": {},
   "outputs": [
    {
     "name": "stdout",
     "output_type": "stream",
     "text": [
      "TT-tensor     4D : |5| |6| |7| |8|\n",
      "<rank>  =    3.0 :   \\3/ \\3/ \\3/\n"
     ]
    }
   ],
   "source": [
    "# Then we should compute the TT-tensor for Chebyshev interpolation\n",
    "# coefficients (see func_int function for more details):\n",
    "A = teneva.func_int(Y)\n",
    "\n",
    "teneva.show(A) # Show the result"
   ]
  },
  {
   "cell_type": "code",
   "execution_count": 17,
   "id": "48da0d2b-df2f-4e0e-813d-e84fb52b7991",
   "metadata": {},
   "outputs": [
    {
     "name": "stdout",
     "output_type": "stream",
     "text": [
      "TT-tensor     4D : |7| |8| |9| |10|\n",
      "<rank>  =    3.0 :   \\3/ \\3/ \\3/\n"
     ]
    }
   ],
   "source": [
    "m = [7, 8, 9, 10] # New size of the grid\n",
    "\n",
    "# Compute tensor on finer grid:\n",
    "Z = teneva.func_gets(A, m)\n",
    "\n",
    "teneva.show(Z)"
   ]
  },
  {
   "cell_type": "code",
   "execution_count": 18,
   "id": "62290a85-13df-42b4-9cc8-c26f3224d557",
   "metadata": {},
   "outputs": [
    {
     "name": "stdout",
     "output_type": "stream",
     "text": [
      "TT-tensor     4D : |7| |8| |9| |10|\n",
      "<rank>  =    3.0 :   \\3/ \\3/ \\3/\n"
     ]
    }
   ],
   "source": [
    "# We can compute interpolation coefficients on the new grid:\n",
    "B = teneva.func_int(Z)\n",
    "\n",
    "teneva.show(B)"
   ]
  },
  {
   "cell_type": "code",
   "execution_count": 19,
   "id": "7f711641-b76e-4650-8386-ac29e914a770",
   "metadata": {},
   "outputs": [
    {
     "name": "stdout",
     "output_type": "stream",
     "text": [
      "[ 3.00000000e+00  5.40600000e+03  7.73070497e-12 -1.00000000e+00]\n",
      "[ 3.00000000e+00  5.40600000e+03  1.20365939e-11 -1.00000000e+00]\n",
      "[3.0000000e+00 5.4060000e+03 0.0000000e+00 9.9999996e+17]\n"
     ]
    }
   ],
   "source": [
    "# Finally we compute the approximation in selected points\n",
    "# inside the bounds for 2 different approximations:\n",
    "X = np.array([\n",
    "    [0., 0., 0., 0.],\n",
    "    [0., 2., 3., 2.],\n",
    "    [1., 1., 1., 1.],\n",
    "    [1., 1., 1., 99999999],\n",
    "])\n",
    "\n",
    "z1 = teneva.func_get(X, A, a, b, z=-1.)\n",
    "z2 = teneva.func_get(X, B, a, b, z=-1.)\n",
    "\n",
    "# We can check the result by comparing it to the true values:\n",
    "print(z1)\n",
    "print(z2)\n",
    "print(f(X))    "
   ]
  },
  {
   "cell_type": "markdown",
   "id": "ef95c314-d384-4335-bb66-a88bc5a6572d",
   "metadata": {},
   "source": [
    "We may also use \"sin\" basis:"
   ]
  },
  {
   "cell_type": "code",
   "execution_count": 20,
   "id": "ce33e4b3-ac47-476e-a155-4ff8bbe519a7",
   "metadata": {
    "tags": []
   },
   "outputs": [
    {
     "name": "stdout",
     "output_type": "stream",
     "text": [
      "# pre | time:      0.004 | evals: 0.00e+00 | rank:   2.0 | \n",
      "#   1 | time:      0.013 | evals: 3.12e+02 | rank:   4.0 | e: 5.7e+04 | \n",
      "#   2 | time:      0.019 | evals: 1.09e+03 | rank:   6.0 | e: 0.0e+00 | stop: e | \n",
      "TT-tensor     4D : |7| |8| |9| |10|\n",
      "<rank>  =    3.0 :   \\3/ \\3/ \\3/\n"
     ]
    }
   ],
   "source": [
    "Y = teneva.cross(lambda I: f(teneva.ind_to_poi(I, a, b, n, 'uni')),\n",
    "    Y0, e=e, log=True)\n",
    "Y = teneva.truncate(Y, eps)\n",
    "A = teneva.func_int(Y, kind='sin')\n",
    "Z = teneva.func_gets(A, m, kind='sin')\n",
    "teneva.show(Z)"
   ]
  },
  {
   "cell_type": "markdown",
   "id": "9d2fd251-cff6-4b92-85ee-030d2c7c522d",
   "metadata": {},
   "source": [
    "## Function `func_int`"
   ]
  },
  {
   "cell_type": "markdown",
   "id": "50a259fe-69af-4371-a76c-a34c8171ac34",
   "metadata": {},
   "source": [
    "Compute the TT-tensor for function interpolation coefficients."
   ]
  },
  {
   "cell_type": "code",
   "execution_count": 21,
   "id": "d9298ad6-ef64-4521-91f7-fe96ea2f4064",
   "metadata": {},
   "outputs": [
    {
     "name": "stdout",
     "output_type": "stream",
     "text": [
      "# pre | time:      0.004 | evals: 0.00e+00 | rank:   2.0 | \n",
      "#   1 | time:      0.010 | evals: 3.12e+02 | rank:   4.0 | e: 1.1e+05 | \n",
      "#   2 | time:      0.016 | evals: 1.09e+03 | rank:   6.0 | e: 6.0e-09 | stop: e | \n",
      "TT-tensor     4D : |5| |6| |7| |8|\n",
      "<rank>  =    3.0 :   \\3/ \\3/ \\3/\n"
     ]
    }
   ],
   "source": [
    "# In the beginning we compute the function values on the Chebyshev\n",
    "# grid using TT-cross (see cross function for more details):\n",
    "from scipy.optimize import rosen\n",
    "f = lambda X: rosen(X.T)        # Target function\n",
    "\n",
    "a = [-2., -4., -3., -2.]        # Grid lower bounds\n",
    "b = [+2., +3., +4., +2.]        # Grid upper bounds\n",
    "n = [5, 6, 7, 8]                # Grid size\n",
    "Y0 = teneva.rand(n, r=2)        # Initial approximation for TT-cross\n",
    "e = 1.E-3                       # Accuracy for TT-CROSS\n",
    "eps = 1.E-6                     # Accuracy for truncation\n",
    "\n",
    "\n",
    "Y = teneva.cross(lambda I: f(teneva.ind_to_poi(I, a, b, n, 'cheb')),\n",
    "    Y0, e=e, log=True)\n",
    "Y = teneva.truncate(Y, eps)\n",
    "teneva.show(Y)"
   ]
  },
  {
   "cell_type": "code",
   "execution_count": 22,
   "id": "be0985fb-7a2d-45ea-bb25-c52338a6d96a",
   "metadata": {},
   "outputs": [
    {
     "name": "stdout",
     "output_type": "stream",
     "text": [
      "TT-tensor     4D : |5| |6| |7| |8|\n",
      "<rank>  =    3.0 :   \\3/ \\3/ \\3/\n"
     ]
    }
   ],
   "source": [
    "# Then we can compute the TT-tensor for Chebyshev\n",
    "# interpolation coefficients:\n",
    "A = teneva.func_int(Y)\n",
    "\n",
    "teneva.show(A)"
   ]
  },
  {
   "cell_type": "markdown",
   "id": "e741fef8-ec40-4ba0-af9a-4d48d6cc3084",
   "metadata": {},
   "source": [
    "We may also use \"sin\" basis:"
   ]
  },
  {
   "cell_type": "code",
   "execution_count": 23,
   "id": "ae945717-c1da-4c1b-8d4e-2d4e14d45c80",
   "metadata": {
    "tags": []
   },
   "outputs": [
    {
     "name": "stdout",
     "output_type": "stream",
     "text": [
      "# pre | time:      0.004 | evals: 0.00e+00 | rank:   2.0 | \n",
      "#   1 | time:      0.010 | evals: 3.12e+02 | rank:   4.0 | e: 9.5e+04 | \n",
      "#   2 | time:      0.018 | evals: 1.09e+03 | rank:   6.0 | e: 1.4e-08 | stop: e | \n",
      "TT-tensor     4D : |5| |6| |7| |8|\n",
      "<rank>  =    3.0 :   \\3/ \\3/ \\3/\n"
     ]
    }
   ],
   "source": [
    "Y = teneva.cross(lambda I: f(teneva.ind_to_poi(I, a, b, n, 'uni')),\n",
    "    Y0, e=e, log=True)\n",
    "Y = teneva.truncate(Y, eps)\n",
    "teneva.show(Y)"
   ]
  },
  {
   "cell_type": "code",
   "execution_count": 24,
   "id": "b162ae64-a80e-478d-b0e4-038cb9dcd33f",
   "metadata": {
    "tags": []
   },
   "outputs": [
    {
     "name": "stdout",
     "output_type": "stream",
     "text": [
      "TT-tensor     4D : |5| |6| |7| |8|\n",
      "<rank>  =    3.0 :   \\3/ \\3/ \\3/\n"
     ]
    }
   ],
   "source": [
    "# Then we can compute the TT-tensor for Sin\n",
    "# interpolation coefficients:\n",
    "A = teneva.func_int(Y, kind='sin')\n",
    "\n",
    "teneva.show(A)"
   ]
  },
  {
   "cell_type": "markdown",
   "id": "f766a668-f709-470a-b03d-576063687904",
   "metadata": {},
   "source": [
    "## Function `func_int_general`"
   ]
  },
  {
   "cell_type": "markdown",
   "id": "781f3f1b-75ac-43eb-b0a9-738bbf8a9aa1",
   "metadata": {},
   "source": [
    "Construct the functional TT-approximation for the given TT-tensor."
   ]
  },
  {
   "cell_type": "code",
   "execution_count": 25,
   "id": "f6ece9cb-5e2b-44f9-ac10-7b6e0fdfbc8c",
   "metadata": {
    "tags": []
   },
   "outputs": [],
   "source": [
    "a = -2. # Lower bound for continuous grid\n",
    "b = +3. # Upper bound for continuous grid\n",
    "d = 4   # Dimension of the grid\n",
    "n = 10  # Number of grid points\n",
    "\n",
    "# Build grid points:\n",
    "I = np.arange(n)\n",
    "X = teneva.ind_to_poi(I, a, b, n)\n",
    "\n",
    "# Random TT-tensor:\n",
    "Y = teneva.rand([n]*d, r=4)"
   ]
  },
  {
   "cell_type": "code",
   "execution_count": 26,
   "id": "b4caa1f8-8e2f-4574-99ab-7ff053abfaaa",
   "metadata": {
    "tags": []
   },
   "outputs": [],
   "source": [
    "# basis_func = TODO\n",
    "# A = teneva.func_int_general(Y, X, basis_func, rcond=1e-6)"
   ]
  },
  {
   "cell_type": "markdown",
   "id": "80c80bd4-8e23-423f-96c2-62e736bc3b13",
   "metadata": {},
   "source": [
    "## Function `func_sum`"
   ]
  },
  {
   "cell_type": "markdown",
   "id": "783480c4-adad-4ad1-bfae-96a48ae5b3ce",
   "metadata": {},
   "source": [
    "Integrate the function from its functional approximation in the TT-format. Note that this function works only for symmetric grids!"
   ]
  },
  {
   "cell_type": "code",
   "execution_count": 27,
   "id": "82e6e6fe-a7c5-4db6-ac6d-dd2dec637d07",
   "metadata": {},
   "outputs": [
    {
     "name": "stdout",
     "output_type": "stream",
     "text": [
      "# pre | time:      0.004 | evals: 0.00e+00 | rank:   2.0 | \n",
      "#   1 | time:      0.013 | evals: 2.40e+03 | rank:   4.0 | e: 1.0e+00 | \n",
      "#   2 | time:      0.029 | evals: 8.40e+03 | rank:   6.0 | e: 7.4e-09 | stop: e | \n",
      "TT-tensor     4D : |50| |50| |50| |50|\n",
      "<rank>  =    1.0 :    \\1/  \\1/  \\1/\n"
     ]
    }
   ],
   "source": [
    "# In the beginning we compute the function values on the Chebyshev\n",
    "# grid using TT-cross (see cheb_bld function for more details):\n",
    "                 \n",
    "d = 4\n",
    "def f(X): # Target function\n",
    "    a = 2.\n",
    "    r = np.exp(-np.sum(X*X, axis=1) / a) / (np.pi * a)**(d/2)\n",
    "    return r.reshape(-1)\n",
    "\n",
    "a = [-12., -14., -13., -11.]    # Grid lower bounds\n",
    "b = [+12., +14., +13., +11.]    # Grid upper bounds\n",
    "n = [50, 50, 50, 50]            # Grid size\n",
    "Y0 = teneva.rand(n, r=2)        # Initial approximation for TT-cross\n",
    "e = 1.E-5                       # Accuracy for TT-CROSS\n",
    "eps = 1.E-6                     # Accuracy for truncation\n",
    "\n",
    "Y = teneva.cross(lambda I: f(teneva.ind_to_poi(I, a, b, n, 'cheb')),\n",
    "    Y0, e=e, log=True)\n",
    "Y = teneva.truncate(Y, eps)\n",
    "teneva.show(Y)"
   ]
  },
  {
   "cell_type": "code",
   "execution_count": 28,
   "id": "02c44968-c895-41dd-b6ab-f3d1965d4fd8",
   "metadata": {},
   "outputs": [
    {
     "name": "stdout",
     "output_type": "stream",
     "text": [
      "TT-tensor     4D : |50| |50| |50| |50|\n",
      "<rank>  =    1.0 :    \\1/  \\1/  \\1/\n"
     ]
    }
   ],
   "source": [
    "# Then we should compute the TT-tensor for Chebyshev interpolation\n",
    "# coefficients (see func_int function for more details):\n",
    "A = teneva.func_int(Y)\n",
    "\n",
    "teneva.show(A)"
   ]
  },
  {
   "cell_type": "code",
   "execution_count": 29,
   "id": "07d934d9-59ac-443a-a42e-6abbf79de1b4",
   "metadata": {},
   "outputs": [
    {
     "name": "stdout",
     "output_type": "stream",
     "text": [
      "1.000000019159871\n"
     ]
    }
   ],
   "source": [
    "# Finally we compute the integral:\n",
    "v = teneva.func_sum(A, a, b)\n",
    "\n",
    "print(v) # Print the result (the real value is 1.)"
   ]
  },
  {
   "cell_type": "markdown",
   "id": "5157c326-a02c-41fc-b82d-af0d55ddfb18",
   "metadata": {},
   "source": [
    "---"
   ]
  }
 ],
 "metadata": {
  "kernelspec": {
   "display_name": "Python 3 (ipykernel)",
   "language": "python",
   "name": "python3"
  },
  "language_info": {
   "codemirror_mode": {
    "name": "ipython",
    "version": 3
   },
   "file_extension": ".py",
   "mimetype": "text/x-python",
   "name": "python",
   "nbconvert_exporter": "python",
   "pygments_lexer": "ipython3",
   "version": "3.8.17"
  }
 },
 "nbformat": 4,
 "nbformat_minor": 5
}

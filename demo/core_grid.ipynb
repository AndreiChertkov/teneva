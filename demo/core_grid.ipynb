{
 "cells": [
  {
   "cell_type": "markdown",
   "id": "e51b9291-f33c-40ad-96ee-e2f9454ffc69",
   "metadata": {},
   "source": [
    "**Demo for `teneva.core.grid`**\n",
    "\n",
    "---\n",
    "\n",
    "Module contains a set of functions for creating and transforming multidimensional grids."
   ]
  },
  {
   "cell_type": "markdown",
   "id": "3896a55c-1131-44fc-b746-1433ad4ddb08",
   "metadata": {},
   "source": [
    "## Loading and importing modules"
   ]
  },
  {
   "cell_type": "code",
   "execution_count": 1,
   "id": "9941ed2c-6272-4144-8c96-4e800f0b5c49",
   "metadata": {},
   "outputs": [],
   "source": [
    "import numpy as np\n",
    "import teneva\n",
    "from time import perf_counter as tpc\n",
    "np.random.seed(42)"
   ]
  },
  {
   "cell_type": "markdown",
   "id": "fb18b1d4-c8ef-47ac-bcb8-ba642f260def",
   "metadata": {},
   "source": [
    "## Function `grid_flat`"
   ]
  },
  {
   "cell_type": "markdown",
   "id": "c6335ae4-03a8-4d4e-abcc-dbf4aa009176",
   "metadata": {},
   "source": [
    "Compute the multi-indices for the full grid in the form of flat array."
   ]
  },
  {
   "cell_type": "code",
   "execution_count": 2,
   "id": "cc2d5009-30d9-427f-81ea-530c002e6514",
   "metadata": {},
   "outputs": [
    {
     "name": "stdout",
     "output_type": "stream",
     "text": [
      "[[0 0 0]\n",
      " [1 0 0]\n",
      " [0 1 0]\n",
      " [1 1 0]\n",
      " [0 2 0]\n",
      " [1 2 0]\n",
      " [0 0 1]\n",
      " [1 0 1]\n",
      " [0 1 1]\n",
      " [1 1 1]\n",
      " [0 2 1]\n",
      " [1 2 1]\n",
      " [0 0 2]\n",
      " [1 0 2]\n",
      " [0 1 2]\n",
      " [1 1 2]\n",
      " [0 2 2]\n",
      " [1 2 2]\n",
      " [0 0 3]\n",
      " [1 0 3]\n",
      " [0 1 3]\n",
      " [1 1 3]\n",
      " [0 2 3]\n",
      " [1 2 3]]\n"
     ]
    }
   ],
   "source": [
    "n = [2, 3, 4]           # This is the 3D grid 2 x 3 x 4\n",
    "I = teneva.grid_flat(n) # This is the full list of indices (flatten grid)\n",
    "print(I)"
   ]
  },
  {
   "cell_type": "markdown",
   "id": "b90fb8f4-b11e-4dc6-81c1-40030d1329e3",
   "metadata": {},
   "source": [
    "## Function `grid_prep_opt`"
   ]
  },
  {
   "cell_type": "markdown",
   "id": "7918ecd6-b386-486b-adb3-d2e78e290d50",
   "metadata": {},
   "source": [
    "Helper function that prepare grid parameter."
   ]
  },
  {
   "cell_type": "code",
   "execution_count": 3,
   "id": "02e0e55f-623b-4346-87a5-c4bf38dc0b57",
   "metadata": {},
   "outputs": [
    {
     "data": {
      "text/plain": [
       "array([-5., -5., -5.])"
      ]
     },
     "execution_count": 3,
     "metadata": {},
     "output_type": "execute_result"
    }
   ],
   "source": [
    "teneva.grid_prep_opt(-5., d=3)"
   ]
  },
  {
   "cell_type": "code",
   "execution_count": 4,
   "id": "1914689d-9cd9-4d98-897f-8e49bb9d89ae",
   "metadata": {},
   "outputs": [
    {
     "data": {
      "text/plain": [
       "array([-5.,  4.])"
      ]
     },
     "execution_count": 4,
     "metadata": {},
     "output_type": "execute_result"
    }
   ],
   "source": [
    "teneva.grid_prep_opt([-5., +4])"
   ]
  },
  {
   "cell_type": "code",
   "execution_count": 5,
   "id": "b35eb864-0a51-47c2-abbb-61b6b7f96b57",
   "metadata": {},
   "outputs": [
    {
     "data": {
      "text/plain": [
       "array([5, 4])"
      ]
     },
     "execution_count": 5,
     "metadata": {},
     "output_type": "execute_result"
    }
   ],
   "source": [
    "teneva.grid_prep_opt([5., +4.21], kind=int)"
   ]
  },
  {
   "cell_type": "code",
   "execution_count": 7,
   "id": "c152f411-62a5-4625-81ff-602e175e39a4",
   "metadata": {},
   "outputs": [
    {
     "data": {
      "text/plain": [
       "array([[-5.,  4.],\n",
       "       [-5.,  4.],\n",
       "       [-5.,  4.]])"
      ]
     },
     "execution_count": 7,
     "metadata": {},
     "output_type": "execute_result"
    }
   ],
   "source": [
    "teneva.grid_prep_opt([-5., +4], reps=3)"
   ]
  },
  {
   "cell_type": "markdown",
   "id": "e17b63dc-8aaf-44c0-9806-7fa5257291b5",
   "metadata": {},
   "source": [
    "## Function `grid_prep_opts`"
   ]
  },
  {
   "cell_type": "markdown",
   "id": "a74667b9-762c-468b-916d-e25ff011852f",
   "metadata": {},
   "source": [
    "Helper function that prepare grid parameters (a, b, n)."
   ]
  },
  {
   "cell_type": "code",
   "execution_count": 8,
   "id": "aefc6df5-9801-4beb-8987-bebfe04cafbd",
   "metadata": {},
   "outputs": [
    {
     "data": {
      "text/plain": [
       "(array([-5., -5., -5.]), array([5., 5., 5.]), array([7, 7, 7]))"
      ]
     },
     "execution_count": 8,
     "metadata": {},
     "output_type": "execute_result"
    }
   ],
   "source": [
    "d = 3           # Dimension of the tensor/grid\n",
    "a = -5.         # Lower bounds for grid\n",
    "b = +5.         # Upper bounds for grid\n",
    "n = 7           # Shape of the tensor/grid\n",
    "teneva.grid_prep_opts(a, b, n, d)"
   ]
  },
  {
   "cell_type": "code",
   "execution_count": 10,
   "id": "5b48923f-60cb-444f-91b1-028b5b16ec00",
   "metadata": {},
   "outputs": [
    {
     "data": {
      "text/plain": [
       "(array([-5., -5., -5.]), array([5., 5., 5.]), array([7, 4, 7]))"
      ]
     },
     "execution_count": 10,
     "metadata": {},
     "output_type": "execute_result"
    }
   ],
   "source": [
    "d = None        # Dimension of the tensor/grid\n",
    "a = -5.         # Lower bounds for grid\n",
    "b = +5.         # Upper bounds for grid\n",
    "n = [7, 4, 7]   # Shape of the tensor/grid\n",
    "teneva.grid_prep_opts(a, b, n, d)"
   ]
  },
  {
   "cell_type": "code",
   "execution_count": 11,
   "id": "b104f773-cd16-4a15-8a4e-aa4079481d04",
   "metadata": {},
   "outputs": [
    {
     "data": {
      "text/plain": [
       "(array([-5., -4.]), array([5., 5.]), array([6, 6]))"
      ]
     },
     "execution_count": 11,
     "metadata": {},
     "output_type": "execute_result"
    }
   ],
   "source": [
    "d = None        # Dimension of the tensor/grid\n",
    "a = [-5., -4.]  # Lower bounds for grid\n",
    "b = +5.         # Upper bounds for grid\n",
    "n = 6           # Shape of the tensor/grid\n",
    "teneva.grid_prep_opts(a, b, n, d)"
   ]
  },
  {
   "cell_type": "code",
   "execution_count": 12,
   "id": "97ecd747-b86b-4767-82ea-e06260cdcd3f",
   "metadata": {},
   "outputs": [
    {
     "data": {
      "text/plain": [
       "(array([-5., -4.]), array([5., 4.]), array([100, 200]))"
      ]
     },
     "execution_count": 12,
     "metadata": {},
     "output_type": "execute_result"
    }
   ],
   "source": [
    "a = [-5., -4.]  # Lower bounds for grid\n",
    "b = [+5., +4.]  # Upper bounds for grid\n",
    "n = [100, 200]  # Shape of the tensor/grid\n",
    "teneva.grid_prep_opts(a, b, n)"
   ]
  },
  {
   "cell_type": "code",
   "execution_count": 13,
   "id": "6e3f37ca-6ab7-45dc-9687-a7ed0aa48c76",
   "metadata": {},
   "outputs": [
    {
     "data": {
      "text/plain": [
       "(array([[-5., -4.],\n",
       "        [-5., -4.]]),\n",
       " array([[5., 4.],\n",
       "        [5., 4.]]),\n",
       " array([[100, 200],\n",
       "        [100, 200]]))"
      ]
     },
     "execution_count": 13,
     "metadata": {},
     "output_type": "execute_result"
    }
   ],
   "source": [
    "a = [-5., -4.]  # Lower bounds for grid\n",
    "b = [+5., +4.]  # Upper bounds for grid\n",
    "n = [100, 200]  # Shape of the tensor/grid\n",
    "teneva.grid_prep_opts(a, b, n, reps=2)"
   ]
  },
  {
   "cell_type": "markdown",
   "id": "66a02c03-94c5-4411-9dbc-d5bbe96d1353",
   "metadata": {},
   "source": [
    "## Function `ind_to_poi`"
   ]
  },
  {
   "cell_type": "markdown",
   "id": "c16342ed-ffc8-4fa5-b687-0283910c236f",
   "metadata": {},
   "source": [
    "Transforms multi-indices (samples) into points of the spatial grid."
   ]
  },
  {
   "cell_type": "code",
   "execution_count": 14,
   "id": "c653d9c2-da21-4754-912f-bdaa2e34c0e1",
   "metadata": {},
   "outputs": [],
   "source": [
    "d = 3           # Dimension of the tensor/grid\n",
    "a = [-5.] * d   # Lower bounds for grid\n",
    "b = [+5.] * d   # Upper bounds for grid\n",
    "n = [7] * d     # Shape of the tensor/grid"
   ]
  },
  {
   "cell_type": "code",
   "execution_count": 15,
   "id": "1cc4ce67-1541-42f2-81d0-69d6e721116a",
   "metadata": {},
   "outputs": [
    {
     "name": "stdout",
     "output_type": "stream",
     "text": [
      "(50, 3)\n",
      "[6 4 5]\n"
     ]
    }
   ],
   "source": [
    "# Random multi-indices (samples x dimension):\n",
    "I = np.vstack([np.random.choice(n[i], 50) for i in range(d)]).T\n",
    "print(I.shape)\n",
    "print(I[0, :]) # The 1th sample"
   ]
  },
  {
   "cell_type": "code",
   "execution_count": 16,
   "id": "a4bda307-0688-47e7-9fbf-50dd281bf758",
   "metadata": {},
   "outputs": [
    {
     "name": "stdout",
     "output_type": "stream",
     "text": [
      "(50, 3)\n",
      "[5.         1.66666667 3.33333333]\n"
     ]
    }
   ],
   "source": [
    "X = teneva.ind_to_poi(I, a, b, n)\n",
    "print(X.shape)\n",
    "print(X[0, :]) # The 1th point"
   ]
  },
  {
   "cell_type": "markdown",
   "id": "b730e7f7-ac4b-4724-83aa-84f7696c7b76",
   "metadata": {},
   "source": [
    "Grid bounds and tensor shape may be also numbers:"
   ]
  },
  {
   "cell_type": "code",
   "execution_count": 17,
   "id": "c9d1d4b0-7dd2-4d79-92a8-31312fe10424",
   "metadata": {},
   "outputs": [
    {
     "name": "stdout",
     "output_type": "stream",
     "text": [
      "(50, 3)\n",
      "[5.         1.66666667 3.33333333]\n"
     ]
    }
   ],
   "source": [
    "X = teneva.ind_to_poi(I, -5, 5, 7)\n",
    "print(X.shape)\n",
    "print(X[0, :]) # The 1th point"
   ]
  },
  {
   "cell_type": "markdown",
   "id": "17196d5c-47c2-4ca5-98fe-7e2da3459d3d",
   "metadata": {},
   "source": [
    "We may also compute only one point while function call:"
   ]
  },
  {
   "cell_type": "code",
   "execution_count": 18,
   "id": "96f15a8a-f56d-4d66-82fb-7880ab9dc7f7",
   "metadata": {},
   "outputs": [
    {
     "name": "stdout",
     "output_type": "stream",
     "text": [
      "[5.         1.66666667 3.33333333]\n"
     ]
    }
   ],
   "source": [
    "X = teneva.ind_to_poi(I[0, :], -5, 5, 7)\n",
    "print(X)"
   ]
  },
  {
   "cell_type": "markdown",
   "id": "3fe6aba8-5db2-4fc8-a009-526c290adf62",
   "metadata": {},
   "source": [
    "By default the uniform (kind=\"uni\") grid is used. We may also use the Chebyshev grid:"
   ]
  },
  {
   "cell_type": "code",
   "execution_count": 19,
   "id": "e5d51d3f-6000-4133-81bb-143922616329",
   "metadata": {},
   "outputs": [
    {
     "name": "stdout",
     "output_type": "stream",
     "text": [
      "(50, 3)\n",
      "[-5.         -2.5        -4.33012702]\n"
     ]
    }
   ],
   "source": [
    "X = teneva.ind_to_poi(I, a, b, n, 'cheb')\n",
    "print(X.shape)\n",
    "print(X[0, :]) # The 1th point"
   ]
  },
  {
   "cell_type": "markdown",
   "id": "9c1d8499-fe6c-4d07-b6a9-3fb857e7efca",
   "metadata": {},
   "source": [
    "## Function `ind_to_str`"
   ]
  },
  {
   "cell_type": "markdown",
   "id": "59b14bf0-b712-4f31-9390-a785e5306c05",
   "metadata": {},
   "source": [
    "Helper function which ransforms array of int like [1, 2, 3] into string like '1-2-3'."
   ]
  },
  {
   "cell_type": "code",
   "execution_count": 20,
   "id": "b6f06bf2-ec58-4e49-87df-365de8f9bac1",
   "metadata": {},
   "outputs": [
    {
     "name": "stdout",
     "output_type": "stream",
     "text": [
      "1-2-3-4-5\n"
     ]
    }
   ],
   "source": [
    "i = [1, 2, 3, 4, 5]\n",
    "s = teneva.ind_to_str(i)\n",
    "print(s)"
   ]
  },
  {
   "cell_type": "markdown",
   "id": "c027dcac-4e46-4c03-9a1a-bddbde82da87",
   "metadata": {},
   "source": [
    "## Function `sample_lhs`"
   ]
  },
  {
   "cell_type": "markdown",
   "id": "889193fc-7f79-4875-9300-e641933d7f87",
   "metadata": {},
   "source": [
    "Build LHS samples (indices) for the tensor."
   ]
  },
  {
   "cell_type": "code",
   "execution_count": 21,
   "id": "fc21e3e8-4127-4a77-a5aa-2c7218cd4b60",
   "metadata": {},
   "outputs": [
    {
     "name": "stdout",
     "output_type": "stream",
     "text": [
      "[[3 4 2]\n",
      " [0 1 4]\n",
      " [1 3 1]\n",
      " [2 1 4]\n",
      " [4 0 3]\n",
      " [1 2 0]\n",
      " [0 2 0]\n",
      " [2 3 2]]\n"
     ]
    }
   ],
   "source": [
    "d = 3           # Dimension of the tensor/grid\n",
    "n = [5] * d     # Shape of the tensor/grid\n",
    "m = 8           # Number of samples\n",
    "I = teneva.sample_lhs(n, m)\n",
    "print(I)"
   ]
  },
  {
   "cell_type": "markdown",
   "id": "6f3f4c2a-6e89-469c-8e10-5b4899b9603d",
   "metadata": {},
   "source": [
    "## Function `sample_tt`"
   ]
  },
  {
   "cell_type": "markdown",
   "id": "229ebfe8-89c3-4467-bbd8-99a85ca890c0",
   "metadata": {},
   "source": [
    "Generate special samples (multi-indices) for the tensor, which are are the best (in many cases) for the subsequent construction of the TT-tensor."
   ]
  },
  {
   "cell_type": "code",
   "execution_count": 22,
   "id": "3a21a3a8-6cfa-4f06-9d76-f761cec41efa",
   "metadata": {},
   "outputs": [
    {
     "name": "stdout",
     "output_type": "stream",
     "text": [
      "(40, 3)\n",
      "(4,)\n",
      "(3,)\n"
     ]
    }
   ],
   "source": [
    "d = 3           # Dimension of the tensor/grid\n",
    "n = [5] * d     # Shape of the tensor/grid\n",
    "m = 2           # The expected TT-rank\n",
    "I, idx, idx_many = teneva.sample_tt(n, m)\n",
    "print(I.shape)\n",
    "print(idx.shape)\n",
    "print(idx_many.shape)"
   ]
  },
  {
   "cell_type": "markdown",
   "id": "b2d8ad4e-6feb-4e55-b4ab-43217df6fbc9",
   "metadata": {},
   "source": [
    "## Function `str_to_ind`"
   ]
  },
  {
   "cell_type": "markdown",
   "id": "31f1e8f6-0e04-4f5d-9081-6f8dc018bd5f",
   "metadata": {},
   "source": [
    "Helper function which transforms string like '1-2-3' into array of int like [1, 2, 3]."
   ]
  },
  {
   "cell_type": "code",
   "execution_count": 23,
   "id": "0570088b-ea3c-4bc9-bd08-66d3c8b24b1e",
   "metadata": {},
   "outputs": [
    {
     "name": "stdout",
     "output_type": "stream",
     "text": [
      "[1 2 3 4 5]\n"
     ]
    }
   ],
   "source": [
    "s = '1-2-3-4-5'\n",
    "i = teneva.str_to_ind(s)\n",
    "print(i)"
   ]
  },
  {
   "cell_type": "markdown",
   "id": "5157c326-a02c-41fc-b82d-af0d55ddfb18",
   "metadata": {},
   "source": [
    "---"
   ]
  }
 ],
 "metadata": {
  "kernelspec": {
   "display_name": "Python 3",
   "language": "python",
   "name": "python3"
  },
  "language_info": {
   "codemirror_mode": {
    "name": "ipython",
    "version": 3
   },
   "file_extension": ".py",
   "mimetype": "text/x-python",
   "name": "python",
   "nbconvert_exporter": "python",
   "pygments_lexer": "ipython3",
   "version": "3.8.8"
  }
 },
 "nbformat": 4,
 "nbformat_minor": 5
}

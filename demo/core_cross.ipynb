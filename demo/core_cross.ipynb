{
 "cells": [
  {
   "cell_type": "markdown",
   "id": "e51b9291-f33c-40ad-96ee-e2f9454ffc69",
   "metadata": {},
   "source": [
    "**Demo for `teneva.core.cross`**\n",
    "\n",
    "---\n",
    "\n",
    "This module computes the TT-approximation for implicit tensor given functionally by multidimensional cross approximation method in the TT-format (TT-CROSS)."
   ]
  },
  {
   "cell_type": "markdown",
   "id": "3896a55c-1131-44fc-b746-1433ad4ddb08",
   "metadata": {},
   "source": [
    "## Loading and importing modules"
   ]
  },
  {
   "cell_type": "code",
   "execution_count": 1,
   "id": "9941ed2c-6272-4144-8c96-4e800f0b5c49",
   "metadata": {},
   "outputs": [],
   "source": [
    "import numpy as np\n",
    "import teneva\n",
    "from time import perf_counter as tpc\n",
    "np.random.seed(42)"
   ]
  },
  {
   "cell_type": "markdown",
   "id": "fd009f7c-372c-4461-aab5-597711528485",
   "metadata": {},
   "source": [
    "## Function `cross`"
   ]
  },
  {
   "cell_type": "markdown",
   "id": "78a452a9-795a-4281-b8f5-85ccc034a376",
   "metadata": {},
   "source": [
    "Compute the TT-approximation for implicit tensor given functionally."
   ]
  },
  {
   "cell_type": "code",
   "execution_count": 2,
   "id": "8c3dc811-498d-4b70-9527-0a00f763fd91",
   "metadata": {},
   "outputs": [],
   "source": [
    "d         = 5                           # Dimension of the function\n",
    "a         = [-5., -4., -3., -2., -1.]   # Lower bounds for spatial grid\n",
    "b         = [+6., +3., +3., +1., +2.]   # Upper bounds for spatial grid\n",
    "n         = [ 20,  18,  16,  14,  12]   # Shape of the tensor"
   ]
  },
  {
   "cell_type": "markdown",
   "id": "6e0a9d5f-b207-410e-b3cc-056f7b0d1173",
   "metadata": {},
   "source": [
    "We set the target function (the function takes as input a set of tensor multi-indices I of the shape [samples, dimension], which are transformed into points X of a uniform spatial grid using the function \"ind_to_poi\"):"
   ]
  },
  {
   "cell_type": "code",
   "execution_count": 3,
   "id": "d6b8be5c-a06e-4159-9178-f2a77b1e4281",
   "metadata": {},
   "outputs": [],
   "source": [
    "from scipy.optimize import rosen\n",
    "def func(I): \n",
    "    X = teneva.ind_to_poi(I, a, b, n)\n",
    "    return rosen(X.T)"
   ]
  },
  {
   "cell_type": "markdown",
   "id": "c92a8af0-a8c4-44a4-b19c-ccd8b27927e7",
   "metadata": {},
   "source": [
    "We prepare test data from as a random tensor multi-indices:"
   ]
  },
  {
   "cell_type": "code",
   "execution_count": 4,
   "id": "cec80246-5ec5-4036-9388-eb34a251b7d7",
   "metadata": {},
   "outputs": [],
   "source": [
    "# Number of test points:\n",
    "m_tst = int(1.E+4)\n",
    "\n",
    "# Random multi-indices for the test points:\n",
    "I_tst = np.vstack([np.random.choice(n[i], m_tst) for i in range(d)]).T\n",
    "\n",
    "# Function values for the test points:\n",
    "Y_tst = func(I_tst)"
   ]
  },
  {
   "cell_type": "markdown",
   "id": "c5892885-dcff-4b6e-85af-e8fb83851ddd",
   "metadata": {},
   "source": [
    "We set the parameters of the TT-CROSS algorithm:"
   ]
  },
  {
   "cell_type": "code",
   "execution_count": 5,
   "id": "94566729-884d-4c6c-9dbc-d17edbf8913e",
   "metadata": {},
   "outputs": [],
   "source": [
    "m         = 8.E+3  # Number of calls to target function\n",
    "e         = None   # Desired accuracy\n",
    "nswp      = None   # Sweep number\n",
    "r         = 3      # TT-rank of the initial tensor\n",
    "dr_min    = 1      # Cross parameter (minimum number of added rows)\n",
    "dr_max    = 3      # Cross parameter (maximum number of added rows)"
   ]
  },
  {
   "cell_type": "markdown",
   "id": "4a10b4cc-7fa3-4834-8b9b-02149648e1ef",
   "metadata": {},
   "source": [
    "We build the TT-tensor, which approximates the target function (note that \"cache\" is optional [it may be None] and it is effictive only for complex functions with long computing time for one call):"
   ]
  },
  {
   "cell_type": "code",
   "execution_count": 6,
   "id": "8d04ff4e-0c20-4d70-9491-3e2f25ffc068",
   "metadata": {},
   "outputs": [
    {
     "name": "stdout",
     "output_type": "stream",
     "text": [
      "Build time     :       0.11\n",
      "Evals func     :       6881\n",
      "Cache uses     :       5947\n",
      "Iter accuracy  :   1.44e-08\n",
      "Sweep number   :          2\n",
      "Stop condition :          m\n",
      "TT-rank of res :        3.0\n"
     ]
    }
   ],
   "source": [
    "t = tpc()\n",
    "info, cache = {}, {}\n",
    "Y = teneva.rand(n, r)\n",
    "Y = teneva.cross(func, Y, m, e, nswp, dr_min=dr_min, dr_max=dr_max, info=info, cache=cache)\n",
    "Y = teneva.truncate(Y, 1.e-4) # We round the result\n",
    "t = tpc() - t\n",
    "\n",
    "print(f'Build time     : {t:-10.2f}')\n",
    "print(f'Evals func     : {info[\"m\"]:-10d}')\n",
    "print(f'Cache uses     : {info[\"m_cache\"]:-10d}')\n",
    "print(f'Iter accuracy  : {info[\"e\"]:-10.2e}')\n",
    "print(f'Sweep number   : {info[\"nswp\"]:-10d}')\n",
    "print(f'Stop condition : {info[\"stop\"]:>10}')\n",
    "print(f'TT-rank of res : {teneva.erank(Y):-10.1f}')"
   ]
  },
  {
   "cell_type": "markdown",
   "id": "3013d720-2906-4ecd-9275-fdf7c05f1481",
   "metadata": {},
   "source": [
    "And now we can check the result:"
   ]
  },
  {
   "cell_type": "code",
   "execution_count": 7,
   "id": "e8817326-ef4a-4ea5-ad77-89331a5d89b7",
   "metadata": {},
   "outputs": [
    {
     "name": "stdout",
     "output_type": "stream",
     "text": [
      "Error on test  :   2.76e-15\n"
     ]
    }
   ],
   "source": [
    "# Fast getter for TT-tensor values:\n",
    "get = teneva.getter(Y)                     \n",
    "\n",
    "# Compute approximation in test points:\n",
    "Z = np.array([get(i) for i in I_tst])\n",
    "\n",
    "# Accuracy of the result for test points:\n",
    "e_tst = np.linalg.norm(Z - Y_tst) / np.linalg.norm(Y_tst)\n",
    "\n",
    "print(f'Error on test  : {e_tst:-10.2e}')"
   ]
  },
  {
   "cell_type": "markdown",
   "id": "95e5c200-d00e-487a-b9ab-06559febaaeb",
   "metadata": {},
   "source": [
    "We may not specify a limit on the number of requests (\"m\") to the objective function. In this case, the algorithm will end when the maximum number of iterations (\"nswp\") is reached or after convergence (\"e\") [note the value of the stop condition in the output below]:"
   ]
  },
  {
   "cell_type": "code",
   "execution_count": 8,
   "id": "6eebee95-4f1e-4a95-bff3-9120a34ad6e5",
   "metadata": {},
   "outputs": [],
   "source": [
    "m         = None   # Number of calls to target function\n",
    "e         = 1.E-4  # Desired accuracy\n",
    "nswp      = 10     # Sweep number (to ensure that it will not work very long)"
   ]
  },
  {
   "cell_type": "code",
   "execution_count": 9,
   "id": "db3b7bbf-f41d-48a7-b27c-79ab1c6a7149",
   "metadata": {},
   "outputs": [
    {
     "name": "stdout",
     "output_type": "stream",
     "text": [
      "Build time     :       0.07\n",
      "Evals func     :       4170\n",
      "Cache uses     :       2282\n",
      "Iter accuracy  :   0.00e+00\n",
      "Sweep number   :          2\n",
      "Stop condition :          e\n",
      "TT-rank of res :        3.0\n",
      "Error on test  :   5.56e-16\n"
     ]
    }
   ],
   "source": [
    "t = tpc()\n",
    "info, cache = {}, {}\n",
    "Y = teneva.rand(n, r)\n",
    "Y = teneva.cross(func, Y, m, e, nswp, dr_min=dr_min, dr_max=dr_max, info=info, cache=cache)\n",
    "Y = teneva.truncate(Y, 1.e-4) # We round the result\n",
    "t = tpc() - t\n",
    "\n",
    "print(f'Build time     : {t:-10.2f}')\n",
    "print(f'Evals func     : {info[\"m\"]:-10d}')\n",
    "print(f'Cache uses     : {info[\"m_cache\"]:-10d}')\n",
    "print(f'Iter accuracy  : {info[\"e\"]:-10.2e}')\n",
    "print(f'Sweep number   : {info[\"nswp\"]:-10d}')\n",
    "print(f'Stop condition : {info[\"stop\"]:>10}')\n",
    "print(f'TT-rank of res : {teneva.erank(Y):-10.1f}')\n",
    "\n",
    "get = teneva.getter(Y)\n",
    "Z = np.array([get(i) for i in I_tst])\n",
    "e_tst = np.linalg.norm(Z - Y_tst) / np.linalg.norm(Y_tst)\n",
    "\n",
    "print(f'Error on test  : {e_tst:-10.2e}')"
   ]
  },
  {
   "cell_type": "markdown",
   "id": "6ab2a3b9-a104-4bef-a5dd-75615119e3ce",
   "metadata": {},
   "source": [
    "We may not use the cache (note that the number of requests to the objective function in this case will be more, but the running time will be less, since this function is calculated very quickly):"
   ]
  },
  {
   "cell_type": "code",
   "execution_count": 10,
   "id": "b7397648-2d33-4063-a61e-8a443b888839",
   "metadata": {},
   "outputs": [
    {
     "name": "stdout",
     "output_type": "stream",
     "text": [
      "Build time     :       0.04\n",
      "Evals func     :       6564\n",
      "Cache uses     :          0\n",
      "Iter accuracy  :   1.53e-08\n",
      "Sweep number   :          2\n",
      "Stop condition :          e\n",
      "TT-rank of res :        3.0\n",
      "Error on test  :   6.92e-16\n"
     ]
    }
   ],
   "source": [
    "t = tpc()\n",
    "info, cache = {}, None\n",
    "Y = teneva.rand(n, r)\n",
    "Y = teneva.cross(func, Y, m, e, nswp, dr_min=dr_min, dr_max=dr_max, info=info, cache=cache)\n",
    "Y = teneva.truncate(Y, 1.e-4) # We round the result\n",
    "t = tpc() - t\n",
    "\n",
    "print(f'Build time     : {t:-10.2f}')\n",
    "print(f'Evals func     : {info[\"m\"]:-10d}')\n",
    "print(f'Cache uses     : {info[\"m_cache\"]:-10d}')\n",
    "print(f'Iter accuracy  : {info[\"e\"]:-10.2e}')\n",
    "print(f'Sweep number   : {info[\"nswp\"]:-10d}')\n",
    "print(f'Stop condition : {info[\"stop\"]:>10}')\n",
    "print(f'TT-rank of res : {teneva.erank(Y):-10.1f}')\n",
    "\n",
    "get = teneva.getter(Y)\n",
    "Z = np.array([get(i) for i in I_tst])\n",
    "e_tst = np.linalg.norm(Z - Y_tst) / np.linalg.norm(Y_tst)\n",
    "\n",
    "print(f'Error on test  : {e_tst:-10.2e}')"
   ]
  },
  {
   "cell_type": "markdown",
   "id": "572ef589-feda-4e53-aa19-423837480642",
   "metadata": {},
   "source": [
    "We may also specify all stop conditions. In this case, the algorithm will terminate when at least one stop criterion is met:"
   ]
  },
  {
   "cell_type": "code",
   "execution_count": 11,
   "id": "58392f68-bd85-4e8c-8820-8cdc7ed0cc7c",
   "metadata": {},
   "outputs": [],
   "source": [
    "m         = 1.E+4  # Number of calls to target function\n",
    "e         = 1.E-16 # Desired accuracy\n",
    "nswp      = 10     # Sweep number (to ensure that it will not work very long)"
   ]
  },
  {
   "cell_type": "code",
   "execution_count": 12,
   "id": "cc006827-2d13-4283-8e18-25e1d259aeb0",
   "metadata": {},
   "outputs": [
    {
     "name": "stdout",
     "output_type": "stream",
     "text": [
      "Build time     :       0.04\n",
      "Evals func     :       5736\n",
      "Cache uses     :          0\n",
      "Iter accuracy  :   0.00e+00\n",
      "Sweep number   :          2\n",
      "Stop condition :          e\n",
      "TT-rank of res :        3.0\n",
      "Error on test  :   6.03e-16\n"
     ]
    }
   ],
   "source": [
    "t = tpc()\n",
    "info, cache = {}, None\n",
    "Y = teneva.rand(n, r)\n",
    "Y = teneva.cross(func, Y, m, e, nswp, dr_min=dr_min, dr_max=dr_max, info=info, cache=cache)\n",
    "Y = teneva.truncate(Y, 1.e-4) # We round the result\n",
    "t = tpc() - t\n",
    "\n",
    "print(f'Build time     : {t:-10.2f}')\n",
    "print(f'Evals func     : {info[\"m\"]:-10d}')\n",
    "print(f'Cache uses     : {info[\"m_cache\"]:-10d}')\n",
    "print(f'Iter accuracy  : {info[\"e\"]:-10.2e}')\n",
    "print(f'Sweep number   : {info[\"nswp\"]:-10d}')\n",
    "print(f'Stop condition : {info[\"stop\"]:>10}')\n",
    "print(f'TT-rank of res : {teneva.erank(Y):-10.1f}')\n",
    "\n",
    "get = teneva.getter(Y)\n",
    "Z = np.array([get(i) for i in I_tst])\n",
    "e_tst = np.linalg.norm(Z - Y_tst) / np.linalg.norm(Y_tst)\n",
    "\n",
    "print(f'Error on test  : {e_tst:-10.2e}')"
   ]
  },
  {
   "cell_type": "code",
   "execution_count": 13,
   "id": "6c4d0dbb-99a1-4cdf-8704-306689e066a6",
   "metadata": {},
   "outputs": [],
   "source": [
    "m         = 1.E+4  # Number of calls to target function\n",
    "e         = 1.E-16 # Desired accuracy\n",
    "nswp      = 1      # Sweep number (to ensure that it will not work very long)"
   ]
  },
  {
   "cell_type": "code",
   "execution_count": 14,
   "id": "915a03dc-6a6d-460b-a71e-e4e6750dfa06",
   "metadata": {},
   "outputs": [
    {
     "name": "stdout",
     "output_type": "stream",
     "text": [
      "Build time     :       0.02\n",
      "Evals func     :       1792\n",
      "Cache uses     :          0\n",
      "Iter accuracy  :   7.84e+03\n",
      "Sweep number   :          1\n",
      "Stop condition :       nswp\n",
      "TT-rank of res :        3.0\n",
      "Error on test  :   6.15e-16\n"
     ]
    }
   ],
   "source": [
    "t = tpc()\n",
    "info, cache = {}, None\n",
    "Y = teneva.rand(n, r)\n",
    "Y = teneva.cross(func, Y, m, e, nswp, dr_min=dr_min, dr_max=dr_max, info=info, cache=cache)\n",
    "Y = teneva.truncate(Y, 1.e-4) # We round the result\n",
    "t = tpc() - t\n",
    "\n",
    "print(f'Build time     : {t:-10.2f}')\n",
    "print(f'Evals func     : {info[\"m\"]:-10d}')\n",
    "print(f'Cache uses     : {info[\"m_cache\"]:-10d}')\n",
    "print(f'Iter accuracy  : {info[\"e\"]:-10.2e}')\n",
    "print(f'Sweep number   : {info[\"nswp\"]:-10d}')\n",
    "print(f'Stop condition : {info[\"stop\"]:>10}')\n",
    "print(f'TT-rank of res : {teneva.erank(Y):-10.1f}')\n",
    "\n",
    "get = teneva.getter(Y)\n",
    "Z = np.array([get(i) for i in I_tst])\n",
    "e_tst = np.linalg.norm(Z - Y_tst) / np.linalg.norm(Y_tst)\n",
    "\n",
    "print(f'Error on test  : {e_tst:-10.2e}')"
   ]
  },
  {
   "cell_type": "markdown",
   "id": "5157c326-a02c-41fc-b82d-af0d55ddfb18",
   "metadata": {},
   "source": [
    "---"
   ]
  }
 ],
 "metadata": {
  "kernelspec": {
   "display_name": "Python 3",
   "language": "python",
   "name": "python3"
  },
  "language_info": {
   "codemirror_mode": {
    "name": "ipython",
    "version": 3
   },
   "file_extension": ".py",
   "mimetype": "text/x-python",
   "name": "python",
   "nbconvert_exporter": "python",
   "pygments_lexer": "ipython3",
   "version": "3.8.8"
  }
 },
 "nbformat": 4,
 "nbformat_minor": 5
}

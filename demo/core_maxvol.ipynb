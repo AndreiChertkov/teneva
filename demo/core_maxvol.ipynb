{
 "cells": [
  {
   "cell_type": "markdown",
   "id": "e51b9291-f33c-40ad-96ee-e2f9454ffc69",
   "metadata": {},
   "source": [
    "**Demo for `teneva.core.maxvol`**\n",
    "\n",
    "---\n",
    "\n",
    "Module contains functions with maxvol-like algorithms."
   ]
  },
  {
   "cell_type": "markdown",
   "id": "3896a55c-1131-44fc-b746-1433ad4ddb08",
   "metadata": {},
   "source": [
    "## Loading and importing modules"
   ]
  },
  {
   "cell_type": "code",
   "execution_count": 1,
   "id": "9941ed2c-6272-4144-8c96-4e800f0b5c49",
   "metadata": {},
   "outputs": [],
   "source": [
    "import numpy as np\n",
    "import teneva\n",
    "from time import perf_counter as tpc\n",
    "np.random.seed(42)"
   ]
  },
  {
   "cell_type": "markdown",
   "id": "bcceb54e-bd28-4988-8f41-e95db6fa1a9c",
   "metadata": {},
   "source": [
    "## Function `maxvol`"
   ]
  },
  {
   "cell_type": "markdown",
   "id": "8ad406ff-52c8-414a-bce6-0ae855f11e00",
   "metadata": {},
   "source": [
    "Compute the maximal-volume submatrix for the given tall matrix."
   ]
  },
  {
   "cell_type": "code",
   "execution_count": 2,
   "id": "e0861025-eb41-42c4-a9a2-efc1a4e0f150",
   "metadata": {},
   "outputs": [],
   "source": [
    "n = 5000                        # Number of rows\n",
    "r = 50                          # Number of columns\n",
    "A = np.random.randn(n, r)       # Random tall matrix"
   ]
  },
  {
   "cell_type": "code",
   "execution_count": 3,
   "id": "f96fb1ff-a5c2-496c-99f8-dbc004630dbf",
   "metadata": {},
   "outputs": [],
   "source": [
    "e = 1.01                        # Accuracy parameter\n",
    "k = 500                         # Maximum number of iterations"
   ]
  },
  {
   "cell_type": "code",
   "execution_count": 4,
   "id": "9523fc57-4da1-44b6-a2e8-109ccd0480ae",
   "metadata": {},
   "outputs": [],
   "source": [
    "I, B = teneva.maxvol(A, e, k)   # Compute row numbers and coefficient matrix\n",
    "C = A[I, :]                     # Maximal-volume square submatrix"
   ]
  },
  {
   "cell_type": "code",
   "execution_count": 5,
   "id": "05e7c3c3-9862-4188-85db-027895b01a75",
   "metadata": {},
   "outputs": [
    {
     "name": "stdout",
     "output_type": "stream",
     "text": [
      "|Det C|        :   2.41e+40\n",
      "Max |B|        :   1.01e+00\n",
      "Max |A - B C|  :   1.20e-14\n",
      "Selected rows  :         50 >  [  70  138  169  230  239  278  346  387  393  416  549  670  673  821\n",
      "  931 1007 1195 1278 1281 1551 1658 1822 1823 1927 2312 2335 2381 2529\n",
      " 2570 2634 2757 2818 3208 3239 3408 3626 3688 3739 3822 3833 3834 4079\n",
      " 4144 4197 4529 4627 4874 4896 4905 4977]\n"
     ]
    }
   ],
   "source": [
    "print(f'|Det C|        : {np.abs(np.linalg.det(C)):-10.2e}')\n",
    "print(f'Max |B|        : {np.max(np.abs(B)):-10.2e}')\n",
    "print(f'Max |A - B C|  : {np.max(np.abs(A - B @ C)):-10.2e}')\n",
    "print(f'Selected rows  : {I.size:-10d} > ', np.sort(I))"
   ]
  },
  {
   "cell_type": "markdown",
   "id": "61ecfd95-4afd-4b77-bca6-359bea2993c8",
   "metadata": {},
   "source": [
    "## Function `maxvol_rect`"
   ]
  },
  {
   "cell_type": "markdown",
   "id": "260ee8e6-f164-485f-8bb8-2b8448f61b2b",
   "metadata": {},
   "source": [
    "Compute the maximal-volume rectangular submatrix for the given tall matrix."
   ]
  },
  {
   "cell_type": "code",
   "execution_count": 6,
   "id": "93b6d1ac-17cd-4c97-8d42-70cac4131f55",
   "metadata": {},
   "outputs": [],
   "source": [
    "n = 5000                        # Number of rows\n",
    "r = 50                          # Number of columns\n",
    "A = np.random.randn(n, r)       # Random tall matrix"
   ]
  },
  {
   "cell_type": "code",
   "execution_count": 7,
   "id": "df5ce836-893b-4e27-ae74-337d7da1ccc8",
   "metadata": {},
   "outputs": [],
   "source": [
    "e = 1.01                        # Accuracy parameter\n",
    "dr_min = 2                      # Minimum number of added rows\n",
    "dr_max = 8                      # Maximum number of added rows\n",
    "e0 = 1.05                       # Accuracy parameter for the original maxvol algorithm\n",
    "k0 = 50                         # Maximum number of iterations for the original maxvol algorithm"
   ]
  },
  {
   "cell_type": "code",
   "execution_count": 8,
   "id": "afaafdb6-1ead-4db4-8bd3-c398c373b456",
   "metadata": {},
   "outputs": [],
   "source": [
    "I, B = teneva.maxvol_rect(A, e,\n",
    "    dr_min, dr_max, e0, k0)     # Row numbers and coefficient matrix\n",
    "C = A[I, :]                     # Maximal-volume rectangular submatrix"
   ]
  },
  {
   "cell_type": "code",
   "execution_count": 9,
   "id": "f6998868-993d-416b-9e3c-8c7af8370c49",
   "metadata": {},
   "outputs": [
    {
     "name": "stdout",
     "output_type": "stream",
     "text": [
      "Max |B|        :   1.00e+00\n",
      "Max |A - B C|  :   9.71e-15\n",
      "Selected rows  :         58 >  [ 233  294  306  553  564  566  574  623  732  739  754  899  901 1095\n",
      " 1142 1190 1275 1316 1416 1560 1605 1622 2028 2051 2084 2085 2108 2293\n",
      " 2339 2519 2574 2667 2705 2757 2782 2975 3147 3159 3170 3251 3330 3360\n",
      " 3499 3564 3599 3627 3641 3849 3893 4135 4274 4453 4549 4740 4819 4837\n",
      " 4891 4933]\n"
     ]
    }
   ],
   "source": [
    "print(f'Max |B|        : {np.max(np.abs(B)):-10.2e}')\n",
    "print(f'Max |A - B C|  : {np.max(np.abs(A - B @ C)):-10.2e}')\n",
    "print(f'Selected rows  : {I.size:-10d} > ', np.sort(I))"
   ]
  },
  {
   "cell_type": "markdown",
   "id": "fbf8e6ec-1005-4073-afab-5c09c3930dc5",
   "metadata": {},
   "source": [
    "We may select \"dr_max\" as None. In this case the number of added rows will be determined by the precision parameter \"e\" (the resulting submatrix can even has the same size as the original matrix \"A\"):"
   ]
  },
  {
   "cell_type": "code",
   "execution_count": 10,
   "id": "e7512d6b-6752-4628-9388-1bc3eb9cc44b",
   "metadata": {},
   "outputs": [
    {
     "name": "stdout",
     "output_type": "stream",
     "text": [
      "Max |B|        :   1.00e+00\n",
      "Max |A - B C|  :   7.27e-15\n",
      "Selected rows  :         93 >  [ 233  281  294  306  362  526  553  564  566  574  608  623  642  732\n",
      "  739  745  754  761  899  901 1095 1102 1142 1190 1219 1275 1283 1316\n",
      " 1416 1560 1605 1622 1955 1968 2028 2051 2084 2085 2108 2214 2243 2292\n",
      " 2293 2339 2409 2422 2507 2519 2566 2574 2643 2661 2665 2667 2705 2757\n",
      " 2782 2864 2975 3147 3159 3170 3251 3258 3330 3360 3487 3499 3506 3532\n",
      " 3564 3599 3627 3641 3849 3893 3907 4066 4115 4135 4201 4274 4453 4502\n",
      " 4526 4549 4740 4767 4819 4837 4891 4933 4979]\n"
     ]
    }
   ],
   "source": [
    "e = 1.01                        # Accuracy parameter\n",
    "dr_max = None                   # Maximum number of added rows\n",
    "I, B = teneva.maxvol_rect(A, e,\n",
    "    dr_min, dr_max, e0, k0)     # Compute row numbers and coefficient matrix\n",
    "C = A[I, :]                     # Maximal-volume rectangular submatrix\n",
    "\n",
    "print(f'Max |B|        : {np.max(np.abs(B)):-10.2e}')\n",
    "print(f'Max |A - B C|  : {np.max(np.abs(A - B @ C)):-10.2e}')\n",
    "print(f'Selected rows  : {I.size:-10d} > ', np.sort(I))"
   ]
  },
  {
   "cell_type": "code",
   "execution_count": 11,
   "id": "283041ff-7d8e-4f98-abce-0c88f19de064",
   "metadata": {},
   "outputs": [
    {
     "name": "stdout",
     "output_type": "stream",
     "text": [
      "Max |B|        :   1.00e+00\n",
      "Max |A - B C|  :   0.00e+00\n",
      "Selected rows  :         20 >  [ 0  1  2  3  4  5  6  7  8  9 10 11 12 13 14 15 16 17 18 19]\n"
     ]
    }
   ],
   "source": [
    "A = np.random.randn(20, 5)      # Random tall matrix\n",
    "e = 0.1                         # Accuracy parameter (we select very small value here)\n",
    "dr_max = None                   # Maximum number of added rows\n",
    "I, B = teneva.maxvol_rect(A, e,\n",
    "    dr_min, dr_max, e0, k0)     # Row numbers and coefficient matrix\n",
    "C = A[I, :]                     # Maximal-volume rectangular submatrix\n",
    "\n",
    "print(f'Max |B|        : {np.max(np.abs(B)):-10.2e}')\n",
    "print(f'Max |A - B C|  : {np.max(np.abs(A - B @ C)):-10.2e}')\n",
    "print(f'Selected rows  : {I.size:-10d} > ', np.sort(I))"
   ]
  },
  {
   "cell_type": "markdown",
   "id": "5157c326-a02c-41fc-b82d-af0d55ddfb18",
   "metadata": {},
   "source": [
    "---"
   ]
  }
 ],
 "metadata": {
  "kernelspec": {
   "display_name": "Python 3",
   "language": "python",
   "name": "python3"
  },
  "language_info": {
   "codemirror_mode": {
    "name": "ipython",
    "version": 3
   },
   "file_extension": ".py",
   "mimetype": "text/x-python",
   "name": "python",
   "nbconvert_exporter": "python",
   "pygments_lexer": "ipython3",
   "version": "3.8.8"
  }
 },
 "nbformat": 4,
 "nbformat_minor": 5
}

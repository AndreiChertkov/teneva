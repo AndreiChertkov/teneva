{
 "cells": [
  {
   "cell_type": "markdown",
   "id": "e51b9291-f33c-40ad-96ee-e2f9454ffc69",
   "metadata": {},
   "source": [
    "**Demo for `teneva.anova`**\n",
    "\n",
    "---\n",
    "\n",
    "This module contains the function \"anova\" which computes the TT-approximation for the tensor by TT-ANOVA method, using given random samples."
   ]
  },
  {
   "cell_type": "markdown",
   "id": "3896a55c-1131-44fc-b746-1433ad4ddb08",
   "metadata": {},
   "source": [
    "## Loading and importing modules"
   ]
  },
  {
   "cell_type": "code",
   "execution_count": 1,
   "id": "9941ed2c-6272-4144-8c96-4e800f0b5c49",
   "metadata": {},
   "outputs": [],
   "source": [
    "import numpy as np\n",
    "import teneva\n",
    "from time import perf_counter as tpc\n",
    "np.random.seed(42)"
   ]
  },
  {
   "cell_type": "markdown",
   "id": "3f6437a4-a93e-4265-9fc6-7d4f46a76c4d",
   "metadata": {},
   "source": [
    "## Function `anova`"
   ]
  },
  {
   "cell_type": "markdown",
   "id": "cfe8a9e9-ac37-4f38-8008-f81f857ad833",
   "metadata": {},
   "source": [
    "Construct TT-ANOVA from the given random tensor samples."
   ]
  },
  {
   "cell_type": "code",
   "execution_count": 2,
   "id": "d905d98d-0183-4522-9395-60a001494b18",
   "metadata": {},
   "outputs": [],
   "source": [
    "d = 5                           # Dimension of the function\n",
    "a = [-5., -4., -3., -2., -1.]   # Lower bounds for spatial grid\n",
    "b = [+6., +3., +3., +1., +2.]   # Upper bounds for spatial grid\n",
    "n = [ 20,  18,  16,  14,  12]   # Shape of the tensor"
   ]
  },
  {
   "cell_type": "code",
   "execution_count": 3,
   "id": "b8984729-1716-4d17-b814-ed31b19c7340",
   "metadata": {},
   "outputs": [],
   "source": [
    "m     = 1.E+4  # Number of calls to target function\n",
    "order = 1      # Order of ANOVA decomposition (1 or 2)\n",
    "r     = 2      # TT-rank of the resulting tensor"
   ]
  },
  {
   "cell_type": "markdown",
   "id": "4e995036-24e9-4323-8ebc-1c805b915ead",
   "metadata": {},
   "source": [
    "We set the target function (the function takes as input a set of tensor multi-indices I of the shape [samples, dimension], which are transformed into points X of a uniform spatial grid using the function \"ind_to_poi\"):"
   ]
  },
  {
   "cell_type": "code",
   "execution_count": 4,
   "id": "51a6bac5-1b28-4f1c-a0de-fc14c261f984",
   "metadata": {},
   "outputs": [],
   "source": [
    "from scipy.optimize import rosen\n",
    "def func(I): \n",
    "    X = teneva.ind_to_poi(I, a, b, n)\n",
    "    return rosen(X.T)"
   ]
  },
  {
   "cell_type": "markdown",
   "id": "cbe58d9b-1e25-4688-a117-c889b096910e",
   "metadata": {},
   "source": [
    "We prepare train data from the LHS random distribution:"
   ]
  },
  {
   "cell_type": "code",
   "execution_count": 5,
   "id": "cbddfdee-254a-48f0-a0aa-db3dcd825acb",
   "metadata": {},
   "outputs": [],
   "source": [
    "I_trn = teneva.sample_lhs(n, m) \n",
    "y_trn = func(I_trn)"
   ]
  },
  {
   "cell_type": "markdown",
   "id": "56e44a81-d5e6-4ea4-a4fe-a2bc9f362af8",
   "metadata": {},
   "source": [
    "We prepare test data from random tensor multi-indices:"
   ]
  },
  {
   "cell_type": "code",
   "execution_count": 6,
   "id": "a123290f-bc98-457c-b784-fcc018281255",
   "metadata": {},
   "outputs": [],
   "source": [
    "# Number of test points:\n",
    "m_tst = int(1.E+4)\n",
    "\n",
    "# Random multi-indices for the test points:\n",
    "I_tst = np.vstack([np.random.choice(k, m_tst) for k in n]).T\n",
    "\n",
    "# Function values for the test points:\n",
    "y_tst = func(I_tst)"
   ]
  },
  {
   "cell_type": "markdown",
   "id": "1743cbcb-ad3d-43bb-b17b-5ad017784762",
   "metadata": {},
   "source": [
    "We build the TT-tensor, which approximates the target function:"
   ]
  },
  {
   "cell_type": "code",
   "execution_count": 7,
   "id": "08bf81fa-5330-4c10-b20f-575f1c7066d0",
   "metadata": {},
   "outputs": [
    {
     "name": "stdout",
     "output_type": "stream",
     "text": [
      "Build time     :       0.01\n"
     ]
    }
   ],
   "source": [
    "t = tpc()\n",
    "Y = teneva.anova(I_trn, y_trn, r, order, seed=12345)\n",
    "t = tpc() - t\n",
    "\n",
    "print(f'Build time     : {t:-10.2f}')"
   ]
  },
  {
   "cell_type": "markdown",
   "id": "6efe5ddf-2212-4ee7-bddb-9469ba8e1fb4",
   "metadata": {},
   "source": [
    "And now we can check the result:"
   ]
  },
  {
   "cell_type": "code",
   "execution_count": 8,
   "id": "82d84038-4762-4291-809a-66638158f9ec",
   "metadata": {},
   "outputs": [
    {
     "name": "stdout",
     "output_type": "stream",
     "text": [
      "Error on train :   1.08e-01\n",
      "Error on test  :   1.11e-01\n"
     ]
    }
   ],
   "source": [
    "# Compute approximation in train points:\n",
    "y_our = teneva.get_many(Y, I_trn)\n",
    "\n",
    "# Accuracy of the result for train points:\n",
    "e_trn = np.linalg.norm(y_our - y_trn)          \n",
    "e_trn /= np.linalg.norm(y_trn)\n",
    "\n",
    "# Compute approximation in test points:\n",
    "y_our = teneva.get_many(Y, I_tst)\n",
    "\n",
    "# Accuracy of the result for test points:\n",
    "e_tst = np.linalg.norm(y_our - y_tst)          \n",
    "e_tst /= np.linalg.norm(y_tst)\n",
    "\n",
    "print(f'Error on train : {e_trn:-10.2e}')\n",
    "print(f'Error on test  : {e_tst:-10.2e}')"
   ]
  },
  {
   "cell_type": "markdown",
   "id": "c4479d76-b610-4381-bee1-56c272476394",
   "metadata": {},
   "source": [
    "We can also build approximation using 2-th order ANOVA decomposition:"
   ]
  },
  {
   "cell_type": "code",
   "execution_count": 9,
   "id": "4649c57c-aa15-4bce-bb7c-f32f6d9b65a3",
   "metadata": {},
   "outputs": [
    {
     "name": "stdout",
     "output_type": "stream",
     "text": [
      "Build time     :       0.09\n",
      "Error on train :   8.41e-02\n",
      "Error on test  :   8.51e-02\n"
     ]
    }
   ],
   "source": [
    "t = tpc()\n",
    "Y = teneva.anova(I_trn, y_trn, r, order=2, seed=12345)\n",
    "t = tpc() - t\n",
    "\n",
    "y_our = teneva.get_many(Y, I_trn)\n",
    "e_trn = np.linalg.norm(y_our - y_trn)          \n",
    "e_trn /= np.linalg.norm(y_trn)\n",
    "\n",
    "y_our = teneva.get_many(Y, I_tst)\n",
    "e_tst = np.linalg.norm(y_our - y_tst)          \n",
    "e_tst /= np.linalg.norm(y_tst)\n",
    "\n",
    "print(f'Build time     : {t:-10.2f}')\n",
    "print(f'Error on train : {e_trn:-10.2e}')\n",
    "print(f'Error on test  : {e_tst:-10.2e}')"
   ]
  },
  {
   "cell_type": "markdown",
   "id": "8d0fb91d-7551-4cfa-8858-73e53e12312c",
   "metadata": {},
   "source": [
    "Let's look at the quality of approximation for a linear function:"
   ]
  },
  {
   "cell_type": "code",
   "execution_count": 10,
   "id": "01ef798e-d9aa-44d5-916f-e6f6df6c88cd",
   "metadata": {},
   "outputs": [],
   "source": [
    "d = 4\n",
    "a = -2.\n",
    "b = +3.\n",
    "n = [10] * d\n",
    "r = 3\n",
    "m_trn = int(1.E+5)\n",
    "m_tst = int(1.E+4)"
   ]
  },
  {
   "cell_type": "code",
   "execution_count": 11,
   "id": "959f7153-ab54-4b13-af1d-41522be0b1aa",
   "metadata": {},
   "outputs": [],
   "source": [
    "def func(I): \n",
    "    X = teneva.ind_to_poi(I, a, b, n)\n",
    "    return 5. + 0.1 * X[:, 0] + 0.2 * X[:, 1] + 0.3 * X[:, 2] + 0.4 * X[:, 3]"
   ]
  },
  {
   "cell_type": "code",
   "execution_count": 12,
   "id": "32e0255d-6bcd-450f-9a55-80bfe1d8acef",
   "metadata": {},
   "outputs": [],
   "source": [
    "I_trn = teneva.sample_lhs(n, m_trn) \n",
    "y_trn = func(I_trn)\n",
    "\n",
    "I_tst = np.vstack([np.random.choice(n[i], m_tst) for i in range(d)]).T\n",
    "y_tst = func(I_tst)"
   ]
  },
  {
   "cell_type": "code",
   "execution_count": 13,
   "id": "c648288a-067c-410e-b1e5-f11cc453c5be",
   "metadata": {},
   "outputs": [
    {
     "name": "stdout",
     "output_type": "stream",
     "text": [
      "Build time     :       0.03\n",
      "Error on train :   2.70e-03\n",
      "Error on test  :   2.72e-03\n"
     ]
    }
   ],
   "source": [
    "t = tpc()\n",
    "Y = teneva.anova(I_trn, y_trn, r, order=1, seed=12345)\n",
    "t = tpc() - t\n",
    "\n",
    "y_our = teneva.get_many(Y, I_trn)\n",
    "e_trn = np.linalg.norm(y_our - y_trn)          \n",
    "e_trn /= np.linalg.norm(y_trn)\n",
    "\n",
    "y_our = teneva.get_many(Y, I_tst)\n",
    "e_tst = np.linalg.norm(y_our - y_tst)          \n",
    "e_tst /= np.linalg.norm(y_tst)\n",
    "\n",
    "print(f'Build time     : {t:-10.2f}')\n",
    "print(f'Error on train : {e_trn:-10.2e}')\n",
    "print(f'Error on test  : {e_tst:-10.2e}')"
   ]
  },
  {
   "cell_type": "markdown",
   "id": "20782b7d-b9de-4140-8d08-1f59f42bde22",
   "metadata": {},
   "source": [
    "Let's look at the quality of approximation for a quadratic function"
   ]
  },
  {
   "cell_type": "code",
   "execution_count": 14,
   "id": "59022494-1ccf-461a-925d-e854b48964fd",
   "metadata": {},
   "outputs": [],
   "source": [
    "d = 4\n",
    "a = -2.\n",
    "b = +3.\n",
    "n = [10] * d\n",
    "r = 3\n",
    "m_trn = int(1.E+5)\n",
    "m_tst = int(1.E+4)"
   ]
  },
  {
   "cell_type": "code",
   "execution_count": 15,
   "id": "b6eeb114-c3ef-4961-8739-803bd7721184",
   "metadata": {},
   "outputs": [],
   "source": [
    "def func(I): \n",
    "    X = teneva.ind_to_poi(I, a, b, n)\n",
    "    return 5. + 0.1 * X[:, 0]**2 + 0.2 * X[:, 1]**2 + 0.3 * X[:, 2]**2 + 0.4 * X[:, 3]**2"
   ]
  },
  {
   "cell_type": "code",
   "execution_count": 16,
   "id": "57b590b3-e465-4b42-a08f-004a95c87568",
   "metadata": {},
   "outputs": [],
   "source": [
    "I_trn = teneva.sample_lhs(n, m_trn) \n",
    "y_trn = func(I_trn)\n",
    "\n",
    "I_tst = np.vstack([np.random.choice(n[i], m_tst) for i in range(d)]).T\n",
    "y_tst = func(I_tst)"
   ]
  },
  {
   "cell_type": "code",
   "execution_count": 17,
   "id": "c4493a79-badb-4952-b97e-e96fcc8296f1",
   "metadata": {},
   "outputs": [
    {
     "name": "stdout",
     "output_type": "stream",
     "text": [
      "Build time     :       0.03\n",
      "Error on train :   3.49e-03\n",
      "Error on test  :   3.51e-03\n"
     ]
    }
   ],
   "source": [
    "t = tpc()\n",
    "Y = teneva.anova(I_trn, y_trn, r, order=1, seed=12345)\n",
    "t = tpc() - t\n",
    "\n",
    "y_our = teneva.get_many(Y, I_trn)\n",
    "e_trn = np.linalg.norm(y_our - y_trn)          \n",
    "e_trn /= np.linalg.norm(y_trn)\n",
    "\n",
    "y_our = teneva.get_many(Y, I_tst)\n",
    "e_tst = np.linalg.norm(y_our - y_tst)          \n",
    "e_tst /= np.linalg.norm(y_tst)\n",
    "\n",
    "print(f'Build time     : {t:-10.2f}')\n",
    "print(f'Error on train : {e_trn:-10.2e}')\n",
    "print(f'Error on test  : {e_tst:-10.2e}')"
   ]
  },
  {
   "cell_type": "markdown",
   "id": "a14fc942-6047-44a1-8806-2559785ce429",
   "metadata": {},
   "source": [
    "[Draft] We can also sample, using ANOVA decomposition: "
   ]
  },
  {
   "cell_type": "code",
   "execution_count": 18,
   "id": "ac9f3a4f-e830-4383-9833-9081a5fe541f",
   "metadata": {
    "tags": []
   },
   "outputs": [],
   "source": [
    "d         = 5                           # Dimension of the function\n",
    "a         = [-5., -4., -3., -2., -1.]   # Lower bounds for spatial grid\n",
    "b         = [+6., +3., +3., +1., +2.]   # Upper bounds for spatial grid\n",
    "n         = [ 20,  18,  16,  14,  12]   # Shape of the tensor"
   ]
  },
  {
   "cell_type": "code",
   "execution_count": 19,
   "id": "b1e3558e-3217-422b-9c94-6af27572ae62",
   "metadata": {
    "tags": []
   },
   "outputs": [],
   "source": [
    "m         = 1.E+4  # Number of calls to target function\n",
    "order     = 2      # Order of ANOVA decomposition (1 or 2)"
   ]
  },
  {
   "cell_type": "code",
   "execution_count": 20,
   "id": "da369d3b-a55c-4445-b1fd-6c91987a0358",
   "metadata": {
    "tags": []
   },
   "outputs": [],
   "source": [
    "from scipy.optimize import rosen\n",
    "def func(I): \n",
    "    X = teneva.ind_to_poi(I, a, b, n)\n",
    "    return rosen(X.T)"
   ]
  },
  {
   "cell_type": "code",
   "execution_count": 21,
   "id": "a3a981c3-50af-4979-8648-a834732f72f6",
   "metadata": {
    "tags": []
   },
   "outputs": [],
   "source": [
    "I_trn = teneva.sample_lhs(n, m) \n",
    "y_trn = func(I_trn)"
   ]
  },
  {
   "cell_type": "code",
   "execution_count": 22,
   "id": "b0c5dc07-ad2a-4be3-8bbb-0d0b63f44895",
   "metadata": {
    "tags": []
   },
   "outputs": [
    {
     "name": "stdout",
     "output_type": "stream",
     "text": [
      "Build time     :       0.07\n"
     ]
    }
   ],
   "source": [
    "t = tpc()\n",
    "ano = teneva.ANOVA(I_trn, y_trn, order, seed=12345)\n",
    "t = tpc() - t\n",
    "\n",
    "print(f'Build time     : {t:-10.2f}')"
   ]
  },
  {
   "cell_type": "code",
   "execution_count": 23,
   "id": "46bd2826-acb9-481f-afda-36516d53fec2",
   "metadata": {
    "tags": []
   },
   "outputs": [
    {
     "name": "stdout",
     "output_type": "stream",
     "text": [
      "[2, 3, 12, 9, 4]\n",
      "[8, 5, 1, 9, 11]\n",
      "[3, 16, 8, 2, 4]\n",
      "[19, 11, 5, 10, 2]\n",
      "[0, 1, 5, 6, 3]\n",
      "[19, 2, 2, 1, 7]\n",
      "[19, 9, 14, 10, 10]\n",
      "[19, 8, 15, 6, 3]\n",
      "[15, 9, 4, 12, 3]\n",
      "[9, 1, 4, 0, 7]\n"
     ]
    }
   ],
   "source": [
    "for _ in range(10):\n",
    "    print(ano.sample())"
   ]
  },
  {
   "cell_type": "markdown",
   "id": "5157c326-a02c-41fc-b82d-af0d55ddfb18",
   "metadata": {},
   "source": [
    "---"
   ]
  }
 ],
 "metadata": {
  "kernelspec": {
   "display_name": "Python 3 (ipykernel)",
   "language": "python",
   "name": "python3"
  },
  "language_info": {
   "codemirror_mode": {
    "name": "ipython",
    "version": 3
   },
   "file_extension": ".py",
   "mimetype": "text/x-python",
   "name": "python",
   "nbconvert_exporter": "python",
   "pygments_lexer": "ipython3",
   "version": "3.8.17"
  }
 },
 "nbformat": 4,
 "nbformat_minor": 5
}

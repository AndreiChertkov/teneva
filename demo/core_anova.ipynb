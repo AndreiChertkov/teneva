{
 "cells": [
  {
   "cell_type": "markdown",
   "id": "e51b9291-f33c-40ad-96ee-e2f9454ffc69",
   "metadata": {},
   "source": [
    "**Demo for `teneva.core.anova`**\n",
    "\n",
    "---\n",
    "\n",
    "This module contains the function \"anova\" which computes the TT-approximation for the tensor by TT-ANOVA method, using given random samples."
   ]
  },
  {
   "cell_type": "markdown",
   "id": "3896a55c-1131-44fc-b746-1433ad4ddb08",
   "metadata": {},
   "source": [
    "## Loading and importing modules"
   ]
  },
  {
   "cell_type": "code",
   "execution_count": 1,
   "id": "9941ed2c-6272-4144-8c96-4e800f0b5c49",
   "metadata": {},
   "outputs": [],
   "source": [
    "import numpy as np\n",
    "import teneva\n",
    "from time import perf_counter as tpc\n",
    "np.random.seed(42)"
   ]
  },
  {
   "cell_type": "markdown",
   "id": "3f6437a4-a93e-4265-9fc6-7d4f46a76c4d",
   "metadata": {},
   "source": [
    "## Function `anova`"
   ]
  },
  {
   "cell_type": "markdown",
   "id": "cfe8a9e9-ac37-4f38-8008-f81f857ad833",
   "metadata": {},
   "source": [
    "Construct TT-ANOVA from the given random tensor samples."
   ]
  },
  {
   "cell_type": "code",
   "execution_count": 2,
   "id": "d905d98d-0183-4522-9395-60a001494b18",
   "metadata": {},
   "outputs": [],
   "source": [
    "d         = 5                           # Dimension of the function\n",
    "a         = [-5., -4., -3., -2., -1.]   # Lower bounds for spatial grid\n",
    "b         = [+6., +3., +3., +1., +2.]   # Upper bounds for spatial grid\n",
    "n         = [ 20,  18,  16,  14,  12]   # Shape of the tensor"
   ]
  },
  {
   "cell_type": "code",
   "execution_count": 3,
   "id": "b8984729-1716-4d17-b814-ed31b19c7340",
   "metadata": {},
   "outputs": [],
   "source": [
    "m         = 1.E+4  # Number of calls to target function\n",
    "order     = 1      # Order of ANOVA decomposition (1 or 2)\n",
    "r         = 3      # TT-rank of the resulting tensor"
   ]
  },
  {
   "cell_type": "markdown",
   "id": "4e995036-24e9-4323-8ebc-1c805b915ead",
   "metadata": {},
   "source": [
    "We set the target function (the function takes as input a set of tensor multi-indices I of the shape [samples, dimension], which are transformed into points X of a uniform spatial grid using the function \"ind_to_poi\"):"
   ]
  },
  {
   "cell_type": "code",
   "execution_count": 4,
   "id": "51a6bac5-1b28-4f1c-a0de-fc14c261f984",
   "metadata": {},
   "outputs": [],
   "source": [
    "from scipy.optimize import rosen\n",
    "def func(I): \n",
    "    X = teneva.ind_to_poi(I, a, b, n)\n",
    "    return rosen(X.T)"
   ]
  },
  {
   "cell_type": "markdown",
   "id": "cbe58d9b-1e25-4688-a117-c889b096910e",
   "metadata": {},
   "source": [
    "We prepare train data from the LHS random distribution:"
   ]
  },
  {
   "cell_type": "code",
   "execution_count": 5,
   "id": "cbddfdee-254a-48f0-a0aa-db3dcd825acb",
   "metadata": {},
   "outputs": [],
   "source": [
    "I_trn = teneva.sample_lhs(n, m) \n",
    "Y_trn = func(I_trn)"
   ]
  },
  {
   "cell_type": "markdown",
   "id": "56e44a81-d5e6-4ea4-a4fe-a2bc9f362af8",
   "metadata": {},
   "source": [
    "We prepare test data from as a random tensor multi-indices:"
   ]
  },
  {
   "cell_type": "code",
   "execution_count": 6,
   "id": "a123290f-bc98-457c-b784-fcc018281255",
   "metadata": {},
   "outputs": [],
   "source": [
    "# Number of test points:\n",
    "m_tst = int(1.E+4)\n",
    "\n",
    "# Random multi-indices for the test points:\n",
    "I_tst = np.vstack([np.random.choice(n[i], m_tst) for i in range(d)]).T\n",
    "\n",
    "# Function values for the test points:\n",
    "Y_tst = func(I_tst)"
   ]
  },
  {
   "cell_type": "markdown",
   "id": "1743cbcb-ad3d-43bb-b17b-5ad017784762",
   "metadata": {},
   "source": [
    "We build the TT-tensor, which approximates the target function:"
   ]
  },
  {
   "cell_type": "code",
   "execution_count": 7,
   "id": "08bf81fa-5330-4c10-b20f-575f1c7066d0",
   "metadata": {},
   "outputs": [
    {
     "name": "stdout",
     "output_type": "stream",
     "text": [
      "Build time     :       0.01\n"
     ]
    }
   ],
   "source": [
    "t = tpc()\n",
    "Y = teneva.anova(I_trn, Y_trn, r, order)\n",
    "t = tpc() - t\n",
    "\n",
    "print(f'Build time     : {t:-10.2f}')"
   ]
  },
  {
   "cell_type": "markdown",
   "id": "6efe5ddf-2212-4ee7-bddb-9469ba8e1fb4",
   "metadata": {},
   "source": [
    "And now we can check the result:"
   ]
  },
  {
   "cell_type": "code",
   "execution_count": 8,
   "id": "82d84038-4762-4291-809a-66638158f9ec",
   "metadata": {},
   "outputs": [
    {
     "name": "stdout",
     "output_type": "stream",
     "text": [
      "Error on train :   1.11e-01\n",
      "Error on test  :   1.14e-01\n"
     ]
    }
   ],
   "source": [
    "# Fast getter for TT-tensor values:\n",
    "get = teneva.getter(Y)                     \n",
    "\n",
    "# Compute approximation in train points:\n",
    "Z = np.array([get(i) for i in I_trn])\n",
    "\n",
    "# Accuracy of the result for train points:\n",
    "e_trn = np.linalg.norm(Z - Y_trn)          \n",
    "e_trn /= np.linalg.norm(Y_trn)\n",
    "\n",
    "# Compute approximation in test points:\n",
    "Z = np.array([get(i) for i in I_tst])\n",
    "\n",
    "# Accuracy of the result for test points:\n",
    "e_tst = np.linalg.norm(Z - Y_tst)          \n",
    "e_tst /= np.linalg.norm(Y_tst)\n",
    "\n",
    "print(f'Error on train : {e_trn:-10.2e}')\n",
    "print(f'Error on test  : {e_tst:-10.2e}')"
   ]
  },
  {
   "cell_type": "markdown",
   "id": "c4479d76-b610-4381-bee1-56c272476394",
   "metadata": {},
   "source": [
    "We can also build approximation using 2-th order ANOVA decomposition:"
   ]
  },
  {
   "cell_type": "code",
   "execution_count": 9,
   "id": "01fd26fd-d253-433f-b159-8d67b7c815fb",
   "metadata": {},
   "outputs": [
    {
     "name": "stdout",
     "output_type": "stream",
     "text": [
      "Build time     :       0.17\n",
      "Error on train :   8.67e-02\n",
      "Error on test  :   8.18e-02\n"
     ]
    }
   ],
   "source": [
    "t = tpc()\n",
    "Y = teneva.anova(I_trn, Y_trn, r=2, order=2)\n",
    "t = tpc() - t\n",
    "\n",
    "get = teneva.getter(Y)                     \n",
    "\n",
    "Z = np.array([get(i) for i in I_trn])\n",
    "e_trn = np.linalg.norm(Z - Y_trn)          \n",
    "e_trn /= np.linalg.norm(Y_trn)\n",
    "\n",
    "Z = np.array([get(i) for i in I_tst])\n",
    "e_tst = np.linalg.norm(Z - Y_tst)          \n",
    "e_tst /= np.linalg.norm(Y_tst)\n",
    "\n",
    "print(f'Build time     : {t:-10.2f}')\n",
    "print(f'Error on train : {e_trn:-10.2e}')\n",
    "print(f'Error on test  : {e_tst:-10.2e}')"
   ]
  },
  {
   "cell_type": "markdown",
   "id": "8d0fb91d-7551-4cfa-8858-73e53e12312c",
   "metadata": {},
   "source": [
    "Add let check:"
   ]
  },
  {
   "cell_type": "code",
   "execution_count": 30,
   "id": "01ef798e-d9aa-44d5-916f-e6f6df6c88cd",
   "metadata": {},
   "outputs": [],
   "source": [
    "d = 4\n",
    "a = -2.\n",
    "b = +3.\n",
    "n = [10] * d\n",
    "m_trn = int(1.E+4)\n",
    "m_tst = int(1.E+4)"
   ]
  },
  {
   "cell_type": "code",
   "execution_count": 31,
   "id": "959f7153-ab54-4b13-af1d-41522be0b1aa",
   "metadata": {},
   "outputs": [],
   "source": [
    "def func(I): \n",
    "    X = teneva.ind_to_poi(I, a, b, n)\n",
    "    return 5. + 0.1 * X[:, 0] + 0.2 * X[:, 1] + 0.3 * X[:, 2] + 0.4 * X[:, 3]"
   ]
  },
  {
   "cell_type": "code",
   "execution_count": 32,
   "id": "32e0255d-6bcd-450f-9a55-80bfe1d8acef",
   "metadata": {},
   "outputs": [],
   "source": [
    "I_trn = teneva.sample_lhs(n, m_trn) \n",
    "Y_trn = func(I_trn)\n",
    "\n",
    "I_tst = np.vstack([np.random.choice(n[i], m_tst) for i in range(d)]).T\n",
    "Y_tst = func(I_tst)"
   ]
  },
  {
   "cell_type": "code",
   "execution_count": 33,
   "id": "c648288a-067c-410e-b1e5-f11cc453c5be",
   "metadata": {},
   "outputs": [
    {
     "name": "stdout",
     "output_type": "stream",
     "text": [
      "Build time     :       0.00\n",
      "Error on train :   9.31e-03\n",
      "Error on test  :   9.48e-03\n"
     ]
    }
   ],
   "source": [
    "t = tpc()\n",
    "# Y = teneva.anova(I_trn, Y_trn, r=2, order=1)\n",
    "ano = teneva.ANOVA(I_trn, Y_trn, order=1)\n",
    "Y = ano.cores(r)\n",
    "t = tpc() - t\n",
    "\n",
    "get = teneva.getter(Y)                     \n",
    "\n",
    "Z = np.array([get(i) for i in I_trn])\n",
    "e_trn = np.linalg.norm(Z - Y_trn)          \n",
    "e_trn /= np.linalg.norm(Y_trn)\n",
    "\n",
    "Z = np.array([get(i) for i in I_tst])\n",
    "e_tst = np.linalg.norm(Z - Y_tst)          \n",
    "e_tst /= np.linalg.norm(Y_tst)\n",
    "\n",
    "print(f'Build time     : {t:-10.2f}')\n",
    "print(f'Error on train : {e_trn:-10.2e}')\n",
    "print(f'Error on test  : {e_tst:-10.2e}')"
   ]
  },
  {
   "cell_type": "markdown",
   "id": "5157c326-a02c-41fc-b82d-af0d55ddfb18",
   "metadata": {},
   "source": [
    "---"
   ]
  }
 ],
 "metadata": {
  "kernelspec": {
   "display_name": "Python 3",
   "language": "python",
   "name": "python3"
  },
  "language_info": {
   "codemirror_mode": {
    "name": "ipython",
    "version": 3
   },
   "file_extension": ".py",
   "mimetype": "text/x-python",
   "name": "python",
   "nbconvert_exporter": "python",
   "pygments_lexer": "ipython3",
   "version": "3.8.8"
  }
 },
 "nbformat": 4,
 "nbformat_minor": 5
}

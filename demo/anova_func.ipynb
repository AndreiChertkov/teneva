{
 "cells": [
  {
   "cell_type": "markdown",
   "id": "e51b9291-f33c-40ad-96ee-e2f9454ffc69",
   "metadata": {},
   "source": [
    "**Demo for `teneva.anova_func`**\n",
    "\n",
    "---\n",
    "\n",
    "This module contains the function \"anova_func\" which computes the TT-approximation of Chebyshev interpolation coefficients' tensor, using given train dataset with random points."
   ]
  },
  {
   "cell_type": "markdown",
   "id": "3896a55c-1131-44fc-b746-1433ad4ddb08",
   "metadata": {},
   "source": [
    "## Loading and importing modules"
   ]
  },
  {
   "cell_type": "code",
   "execution_count": 1,
   "id": "9941ed2c-6272-4144-8c96-4e800f0b5c49",
   "metadata": {},
   "outputs": [],
   "source": [
    "import numpy as np\n",
    "import teneva\n",
    "from time import perf_counter as tpc\n",
    "np.random.seed(42)"
   ]
  },
  {
   "cell_type": "markdown",
   "id": "3f6437a4-a93e-4265-9fc6-7d4f46a76c4d",
   "metadata": {},
   "source": [
    "## Function `anova_func`"
   ]
  },
  {
   "cell_type": "markdown",
   "id": "cfe8a9e9-ac37-4f38-8008-f81f857ad833",
   "metadata": {},
   "source": [
    "Build functional TT-tensor by TT-ANOVA from the given random points."
   ]
  },
  {
   "cell_type": "code",
   "execution_count": 2,
   "id": "d905d98d-0183-4522-9395-60a001494b18",
   "metadata": {},
   "outputs": [],
   "source": [
    "d = 5                           # Dimension of the function\n",
    "a = [-5., -4., -3., -2., -1.]   # Lower bounds for spatial grid\n",
    "b = [+6., +3., +3., +1., +2.]   # Upper bounds for spatial grid\n",
    "n = 3                           # Shape of interpolation tensor"
   ]
  },
  {
   "cell_type": "code",
   "execution_count": 3,
   "id": "b8984729-1716-4d17-b814-ed31b19c7340",
   "metadata": {},
   "outputs": [],
   "source": [
    "m     = 1.E+4  # Number of calls to target function\n",
    "e     = 1.E-8  # Truncation accuracy"
   ]
  },
  {
   "cell_type": "markdown",
   "id": "4e995036-24e9-4323-8ebc-1c805b915ead",
   "metadata": {},
   "source": [
    "We set the target function (the function takes as input a set of multidimensional points X of the shape [samples, dimension]):"
   ]
  },
  {
   "cell_type": "code",
   "execution_count": 4,
   "id": "51a6bac5-1b28-4f1c-a0de-fc14c261f984",
   "metadata": {},
   "outputs": [],
   "source": [
    "def func(X):\n",
    "    return np.sum(X, axis=1)"
   ]
  },
  {
   "cell_type": "markdown",
   "id": "cbe58d9b-1e25-4688-a117-c889b096910e",
   "metadata": {},
   "source": [
    "We prepare train data from the random distribution:"
   ]
  },
  {
   "cell_type": "code",
   "execution_count": 5,
   "id": "cbddfdee-254a-48f0-a0aa-db3dcd825acb",
   "metadata": {},
   "outputs": [],
   "source": [
    "X_trn = teneva.sample_rand_poi(a, b, m) \n",
    "y_trn = func(X_trn)"
   ]
  },
  {
   "cell_type": "markdown",
   "id": "56e44a81-d5e6-4ea4-a4fe-a2bc9f362af8",
   "metadata": {},
   "source": [
    "We prepare test data from random points:"
   ]
  },
  {
   "cell_type": "code",
   "execution_count": 6,
   "id": "a123290f-bc98-457c-b784-fcc018281255",
   "metadata": {},
   "outputs": [],
   "source": [
    "# Number of test points:\n",
    "m_tst = int(1.E+4)\n",
    "\n",
    "# Random points:\n",
    "X_tst = teneva.sample_rand_poi(a, b, m_tst) \n",
    "\n",
    "# Function values for the test points:\n",
    "y_tst = func(X_tst)"
   ]
  },
  {
   "cell_type": "markdown",
   "id": "1743cbcb-ad3d-43bb-b17b-5ad017784762",
   "metadata": {},
   "source": [
    "We build the TT-tensor of interpolation coefficients:"
   ]
  },
  {
   "cell_type": "code",
   "execution_count": 7,
   "id": "08bf81fa-5330-4c10-b20f-575f1c7066d0",
   "metadata": {},
   "outputs": [
    {
     "name": "stdout",
     "output_type": "stream",
     "text": [
      "Build time     :       0.01\n"
     ]
    }
   ],
   "source": [
    "t = tpc()\n",
    "A = teneva.anova_func(X_trn, y_trn, n, a, b, 1.E-5, e=e)\n",
    "t = tpc() - t\n",
    "\n",
    "print(f'Build time     : {t:-10.2f}')"
   ]
  },
  {
   "cell_type": "markdown",
   "id": "6efe5ddf-2212-4ee7-bddb-9469ba8e1fb4",
   "metadata": {},
   "source": [
    "And now we can check the result:"
   ]
  },
  {
   "cell_type": "code",
   "execution_count": 8,
   "id": "82d84038-4762-4291-809a-66638158f9ec",
   "metadata": {},
   "outputs": [
    {
     "name": "stdout",
     "output_type": "stream",
     "text": [
      "Error on train :   2.87e-02\n",
      "Error on test  :   2.78e-02\n"
     ]
    }
   ],
   "source": [
    "# Compute approximation in train points:\n",
    "y_our = teneva.func_get(X_trn, A, a, b)\n",
    "\n",
    "# Accuracy of the result for train points:\n",
    "e_trn = np.linalg.norm(y_our - y_trn)          \n",
    "e_trn /= np.linalg.norm(y_trn)\n",
    "\n",
    "# Compute approximation in test points:\n",
    "y_our = teneva.func_get(X_tst, A, a, b)\n",
    "\n",
    "# Accuracy of the result for test points:\n",
    "e_tst = np.linalg.norm(y_our - y_tst)          \n",
    "e_tst /= np.linalg.norm(y_tst)\n",
    "\n",
    "print(f'Error on train : {e_trn:-10.2e}')\n",
    "print(f'Error on test  : {e_tst:-10.2e}')"
   ]
  },
  {
   "cell_type": "markdown",
   "id": "5157c326-a02c-41fc-b82d-af0d55ddfb18",
   "metadata": {},
   "source": [
    "---"
   ]
  }
 ],
 "metadata": {
  "kernelspec": {
   "display_name": "Python 3 (ipykernel)",
   "language": "python",
   "name": "python3"
  },
  "language_info": {
   "codemirror_mode": {
    "name": "ipython",
    "version": 3
   },
   "file_extension": ".py",
   "mimetype": "text/x-python",
   "name": "python",
   "nbconvert_exporter": "python",
   "pygments_lexer": "ipython3",
   "version": "3.8.17"
  }
 },
 "nbformat": 4,
 "nbformat_minor": 5
}

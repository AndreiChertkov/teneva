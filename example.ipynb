{
 "cells": [
  {
   "cell_type": "markdown",
   "metadata": {},
   "source": [
    "**teneva** (examples)\n",
    "\n",
    "This python package, named teneva (**ten**sor **eva**luation), provides very compact implementation for the multidimensional cross approximation algorithm in the tensor-train (TT) format. This package also contains a function for quickly calculating the values of the constructed low-rank tensor approximation, as well as a number of auxiliary useful utilities.\n",
    "\n",
    "> See [github repo](https://github.com/AndreiChertkov/teneva) for more details and the License file.\n",
    "\n",
    "---"
   ]
  },
  {
   "cell_type": "code",
   "execution_count": 1,
   "metadata": {},
   "outputs": [],
   "source": [
    "import numpy as np\n",
    "import teneva\n",
    "from time import perf_counter as tpc\n",
    "np.random.seed(42)"
   ]
  },
  {
   "cell_type": "markdown",
   "metadata": {},
   "source": [
    "# Example for tt-cross (TODO)"
   ]
  },
  {
   "cell_type": "code",
   "execution_count": 2,
   "metadata": {},
   "outputs": [],
   "source": [
    "def f(x):\n",
    "    y = np.sum([x[i]**(i+1) for i in range(d)])\n",
    "    y = np.sin(y)**2 / (1 + y**2)\n",
    "    return  y\n",
    "\n",
    "def f_vect(X):\n",
    "    \"\"\"Naively vectorized model function.\"\"\"\n",
    "    return np.array([f(x) for x in X])"
   ]
  },
  {
   "cell_type": "code",
   "execution_count": 3,
   "metadata": {},
   "outputs": [],
   "source": [
    "N = [9, 8, 8, 9, 8]  # Shape of the tensor\n",
    "d = len(N)           # Dimension of the problem\n",
    "M = 10000            # Number of test cases\n",
    "nswp     = 10        # Sweep number\n",
    "eps      = 1.E-6     # Desired accuracy\n",
    "kickrank = 1         # Cross parameter\n",
    "rf       = 1         # Cross parameter"
   ]
  },
  {
   "cell_type": "code",
   "execution_count": 4,
   "metadata": {},
   "outputs": [],
   "source": [
    "X_tst = np.vstack([np.random.choice(N[i], M) for i in range(d)]).T\n",
    "Y_tst = np.array([f(x) for x in X_tst])"
   ]
  },
  {
   "cell_type": "code",
   "execution_count": 5,
   "metadata": {},
   "outputs": [
    {
     "name": "stdout",
     "output_type": "stream",
     "text": [
      "  9  8  8  9  8 \n",
      " / \\/ \\/ \\/ \\/ \\\n",
      " 1  2  2  2  2  1 \n",
      "\n"
     ]
    }
   ],
   "source": [
    "Y0 = teneva.rand(N, 2)\n",
    "teneva.show(Y0)"
   ]
  },
  {
   "cell_type": "code",
   "execution_count": 6,
   "metadata": {},
   "outputs": [
    {
     "name": "stdout",
     "output_type": "stream",
     "text": [
      "  9  8  8  9  8 \n",
      " / \\/ \\/ \\/ \\/ \\\n",
      " 1 10 31 31  8  1 \n",
      "\n",
      "  9  8  8  9  8 \n",
      " / \\/ \\/ \\/ \\/ \\\n",
      " 1  9 19 17  6  1 \n",
      "\n",
      "Build time (sec) :    4.555\n"
     ]
    }
   ],
   "source": [
    "t = tpc()\n",
    "\n",
    "Y = teneva.cross(f_vect, Y0, nswp, kickrank, rf)\n",
    "teneva.show(Y)\n",
    "\n",
    "Y = teneva.truncate(Y, eps)\n",
    "teneva.show(Y)\n",
    "\n",
    "t = tpc() - t\n",
    "print(f'Build time (sec) : {t:-8.3f}')"
   ]
  },
  {
   "cell_type": "code",
   "execution_count": 7,
   "metadata": {},
   "outputs": [
    {
     "name": "stdout",
     "output_type": "stream",
     "text": [
      "Comp time  (sec) :    0.622\n"
     ]
    }
   ],
   "source": [
    "t = tpc()\n",
    "\n",
    "get = teneva.getter(Y)\n",
    "\n",
    "t = tpc() - t\n",
    "print(f'Comp time  (sec) : {t:-8.3f}')"
   ]
  },
  {
   "cell_type": "code",
   "execution_count": 8,
   "metadata": {},
   "outputs": [
    {
     "name": "stdout",
     "output_type": "stream",
     "text": [
      "Check time (sec) :    0.436\n",
      "Time 1-calc (ms) :    0.044\n",
      "Relative error   : 4.54e-07\n",
      "Erank is         :    13.80\n"
     ]
    }
   ],
   "source": [
    "t = tpc()\n",
    "\n",
    "Z = np.array([get(x) for x in X_tst])\n",
    "\n",
    "t = tpc() - t\n",
    "\n",
    "e = np.linalg.norm(Z - Y_tst) / np.linalg.norm(Y_tst)\n",
    "\n",
    "print(f'Check time (sec) : {t:-8.3f}')\n",
    "print(f'Time 1-calc (ms) : {t/len(Z) * 1000:-8.3f}')\n",
    "print(f'Relative error   : {e:-8.2e}')\n",
    "print(f'Erank is         : {teneva.erank(Y):-8.2f}')"
   ]
  },
  {
   "cell_type": "markdown",
   "metadata": {},
   "source": [
    "## Compare with ttpy"
   ]
  },
  {
   "cell_type": "code",
   "execution_count": 9,
   "metadata": {},
   "outputs": [],
   "source": [
    "import tt\n",
    "from tt.cross.rectcross import cross as ttpy_cross"
   ]
  },
  {
   "cell_type": "code",
   "execution_count": 10,
   "metadata": {},
   "outputs": [
    {
     "name": "stdout",
     "output_type": "stream",
     "text": [
      "Build time (sec) :    3.109\n"
     ]
    }
   ],
   "source": [
    "t = tpc()\n",
    "\n",
    "x0 = tt.tensor.from_list(Y0)\n",
    "Y = ttpy_cross(\n",
    "    f_vect, x0=x0, nswp=nswp, eps=1.E-16, eps_abs=0., kickrank=kickrank, rf=rf, verbose=False)\n",
    "Y = Y.round(eps)\n",
    "Y = tt.tensor.to_list(Y)  \n",
    "\n",
    "t = tpc() - t\n",
    "print(f'Build time (sec) : {t:-8.3f}')"
   ]
  },
  {
   "cell_type": "code",
   "execution_count": 11,
   "metadata": {},
   "outputs": [
    {
     "name": "stdout",
     "output_type": "stream",
     "text": [
      "Relative error   : 4.54e-07\n",
      "Erank is         :    13.80\n"
     ]
    }
   ],
   "source": [
    "get = teneva.getter(Y)\n",
    "Z = np.array([get(x) for x in X_tst])\n",
    "e = np.linalg.norm(Z - Y_tst) / np.linalg.norm(Y_tst)\n",
    "\n",
    "print(f'Relative error   : {e:-8.2e}')\n",
    "print(f'Erank is         : {teneva.erank(Y):-8.2f}')"
   ]
  },
  {
   "cell_type": "markdown",
   "metadata": {},
   "source": [
    "# Example for maxvol"
   ]
  },
  {
   "cell_type": "code",
   "execution_count": 12,
   "metadata": {},
   "outputs": [],
   "source": [
    "from maxvolpy.maxvol import maxvol as base_maxvol"
   ]
  },
  {
   "cell_type": "code",
   "execution_count": 13,
   "metadata": {},
   "outputs": [],
   "source": [
    "N = 5000\n",
    "r = 50\n",
    "A = 2. * np.random.rand(N, r) - 1.\n",
    "e = 1.01\n",
    "K = 500"
   ]
  },
  {
   "cell_type": "code",
   "execution_count": 14,
   "metadata": {},
   "outputs": [],
   "source": [
    "t = tpc()\n",
    "I, B = teneva.maxvol(A, e, K)\n",
    "t = tpc() - t"
   ]
  },
  {
   "cell_type": "code",
   "execution_count": 15,
   "metadata": {},
   "outputs": [],
   "source": [
    "t0 = tpc()\n",
    "I0, B0 = base_maxvol(A, tol=e, max_iters=K)\n",
    "t0 = tpc() - t0"
   ]
  },
  {
   "cell_type": "code",
   "execution_count": 16,
   "metadata": {},
   "outputs": [],
   "source": [
    "ei = np.max(np.abs(I - I0))\n",
    "eb = np.max(np.abs(B - B0))"
   ]
  },
  {
   "cell_type": "code",
   "execution_count": 17,
   "metadata": {},
   "outputs": [
    {
     "name": "stdout",
     "output_type": "stream",
     "text": [
      "Time own   :   0.2763\n",
      "Time base  :   0.0220\n",
      "Error I    : 0.00e+00\n",
      "Error B    : 3.05e-15\n",
      "Det own    : 1.54e+27\n",
      "Det base   : 1.54e+27\n",
      "Max B own  : 1.00e+00\n",
      "Max B base : 1.00e+00\n"
     ]
    }
   ],
   "source": [
    "print(f'Time own   : {t:-8.4f}')\n",
    "print(f'Time base  : {t0:-8.4f}')\n",
    "print(f'Error I    : {ei:-8.2e}')\n",
    "print(f'Error B    : {eb:-8.2e}')\n",
    "print(f'Det own    : {np.linalg.det(A[I, :]):-8.2e}')\n",
    "print(f'Det base   : {np.linalg.det(A[I0, :]):-8.2e}')\n",
    "print(f'Max B own  : {np.max(np.abs(B)):-8.2e}')\n",
    "print(f'Max B base : {np.max(np.abs(B0)):-8.2e}')"
   ]
  },
  {
   "cell_type": "code",
   "execution_count": 18,
   "metadata": {},
   "outputs": [
    {
     "name": "stdout",
     "output_type": "stream",
     "text": [
      "Mean (time own / time base) :   20.369\n",
      "Max error for I             : 0.00e+00\n",
      "Max error for B             : 4.66e-15\n"
     ]
    }
   ],
   "source": [
    "tr, ei, eb = [], [], []\n",
    "for i in range(10):\n",
    "    A = 2. * np.random.rand(N, r) - 1.\n",
    "    t = tpc(); I, B = teneva.maxvol(A, e, K); t = tpc() - t\n",
    "    t0 = tpc(); I0, B0 = base_maxvol(A, tol=e, max_iters=K); t0 = tpc() - t0\n",
    "    tr.append(t / t0)\n",
    "    ei.append(np.max(np.abs(I - I0)))\n",
    "    eb.append(np.max(np.abs(B - B0)))\n",
    "\n",
    "print(f'Mean (time own / time base) : {np.mean(tr):-8.3f}')\n",
    "print(f'Max error for I             : {np.max(ei):-8.2e}')\n",
    "print(f'Max error for B             : {np.max(eb):-8.2e}')"
   ]
  },
  {
   "cell_type": "markdown",
   "metadata": {},
   "source": [
    "# Example for rect_maxvol"
   ]
  },
  {
   "cell_type": "code",
   "execution_count": 19,
   "metadata": {},
   "outputs": [],
   "source": [
    "from maxvolpy.maxvol import rect_maxvol as base_rect_maxvol"
   ]
  },
  {
   "cell_type": "code",
   "execution_count": 20,
   "metadata": {},
   "outputs": [],
   "source": [
    "N = 5000\n",
    "r = 50\n",
    "A = 2. * np.random.rand(N, r) - 1.\n",
    "e = 1.01\n",
    "N_min = r + 10\n",
    "N_max = r + 30\n",
    "\n",
    "# Special function syntax from maxvolpy package:\n",
    "maxK = N_max           \n",
    "min_add_K = N_min - r\n",
    "minK = None"
   ]
  },
  {
   "cell_type": "code",
   "execution_count": 21,
   "metadata": {},
   "outputs": [],
   "source": [
    "t = tpc()\n",
    "I, B = teneva.rect_maxvol(A, e, N_min, N_max)\n",
    "t = tpc() - t"
   ]
  },
  {
   "cell_type": "code",
   "execution_count": 22,
   "metadata": {},
   "outputs": [],
   "source": [
    "t0 = tpc()\n",
    "I0, B0 = base_rect_maxvol(A, e, maxK, min_add_K, minK)\n",
    "t0 = tpc() - t0"
   ]
  },
  {
   "cell_type": "code",
   "execution_count": 23,
   "metadata": {},
   "outputs": [],
   "source": [
    "ei = np.max(np.abs(I - I0))\n",
    "eb = np.max(np.abs(B - B0))"
   ]
  },
  {
   "cell_type": "code",
   "execution_count": 24,
   "metadata": {},
   "outputs": [
    {
     "name": "stdout",
     "output_type": "stream",
     "text": [
      "Time own   :   0.4266\n",
      "Time base  :   0.0420\n",
      "Error I    : 0.00e+00\n",
      "Error B    : 1.62e-15\n",
      "Max B elem : 1.00e+00\n"
     ]
    }
   ],
   "source": [
    "print(f'Time own   : {t:-8.4f}')\n",
    "print(f'Time base  : {t0:-8.4f}')\n",
    "print(f'Error I    : {ei:-8.2e}')\n",
    "print(f'Error B    : {eb:-8.2e}')\n",
    "print(f'Max B elem : {np.max(np.abs(B)):-8.2e}')"
   ]
  },
  {
   "cell_type": "code",
   "execution_count": 25,
   "metadata": {},
   "outputs": [
    {
     "name": "stdout",
     "output_type": "stream",
     "text": [
      "Mean (time own / time base) :   15.484\n",
      "Max error for I             : 0.00e+00\n",
      "Max error for B             : 2.56e-15\n"
     ]
    }
   ],
   "source": [
    "tr, ei, eb = [], [], []\n",
    "for i in range(10):\n",
    "    A = 2. * np.random.rand(N, r) - 1.\n",
    "    t = tpc()\n",
    "    I, B = teneva.rect_maxvol(A, e, N_min, N_max)\n",
    "    t = tpc() - t\n",
    "    t0 = tpc()\n",
    "    I0, B0 = base_rect_maxvol(A, e, maxK, min_add_K, minK)\n",
    "    t0 = tpc() - t0\n",
    "    tr.append(t / t0)\n",
    "    ei.append(np.max(np.abs(I - I0)))\n",
    "    eb.append(np.max(np.abs(B - B0)))\n",
    "    \n",
    "print(f'Mean (time own / time base) : {np.mean(tr):-8.3f}')\n",
    "print(f'Max error for I             : {np.max(ei):-8.2e}')\n",
    "print(f'Max error for B             : {np.max(eb):-8.2e}')"
   ]
  },
  {
   "cell_type": "markdown",
   "metadata": {},
   "source": [
    "# Example for cross 2D (draft)"
   ]
  },
  {
   "cell_type": "code",
   "execution_count": 26,
   "metadata": {},
   "outputs": [],
   "source": [
    "M = 1000\n",
    "N = 500\n",
    "r = 100\n",
    "idx = np.random.choice(r, size=M)\n",
    "A = np.random.randn(r, N)[idx]\n",
    "# A = np.random.randn(M, r) @ np.random.randn(r, N)"
   ]
  },
  {
   "cell_type": "code",
   "execution_count": 27,
   "metadata": {},
   "outputs": [
    {
     "name": "stdout",
     "output_type": "stream",
     "text": [
      "Error                   : 2.73e-15\n",
      "Time (sec)              :   0.1237\n"
     ]
    }
   ],
   "source": [
    "t = tpc()\n",
    "U1, S1, V1 = np.linalg.svd(A)\n",
    "t = tpc() - t\n",
    "\n",
    "A1 = U1[:, :r] @ np.diag(S1[:r]) @ V1[:r, :]\n",
    "e = np.linalg.norm(A - A1) / np.linalg.norm(A)\n",
    "\n",
    "print(f'Error                   : {e:-8.2e}')\n",
    "print(f'Time (sec)              : {t:-8.4f}')"
   ]
  },
  {
   "cell_type": "code",
   "execution_count": 28,
   "metadata": {},
   "outputs": [
    {
     "name": "stdout",
     "output_type": "stream",
     "text": [
      "Error                   : 1.79e-14\n",
      "Time (sec)              :   0.1299\n"
     ]
    }
   ],
   "source": [
    "t = tpc()\n",
    "I, J = None, np.arange(r)\n",
    "for q in range(5):\n",
    "    I, B = teneva.maxvol(A[:, J], e=1.01, K=500)\n",
    "    J, B = teneva.maxvol(A[I, :].T, e=1.01, K=500)\n",
    "\n",
    "C, U, R = A[:, J], np.linalg.inv(A[np.ix_(I, J)]), A[I, :]\n",
    "t = tpc() - t\n",
    "\n",
    "A2 = C @ U @ R\n",
    "# e = np.linalg.norm(A - A2) / np.linalg.norm(A)\n",
    "# e = np.linalg.norm((A - A2).ravel()  , np.inf)\n",
    "e = np.max(np.abs(A - A2))\n",
    "\n",
    "print(f'Error                   : {e:-8.2e}')\n",
    "print(f'Time (sec)              : {t:-8.4f}')"
   ]
  },
  {
   "cell_type": "code",
   "execution_count": 29,
   "metadata": {},
   "outputs": [
    {
     "name": "stdout",
     "output_type": "stream",
     "text": [
      "Error max : 4.63e-10\n"
     ]
    }
   ],
   "source": [
    "M = 1000\n",
    "N = 2000\n",
    "r = 20\n",
    "e = []\n",
    "for i in range(100):\n",
    "    A = np.random.randn(M, r) @ np.random.rand(r, N)\n",
    "    I = np.random.choice(M, size=r, replace=False)\n",
    "    J = np.random.choice(N, size=r, replace=False)\n",
    "    C = A[:, J]\n",
    "    U = np.linalg.inv(A[np.ix_(I, J)])\n",
    "    R = A[I, :]\n",
    "    B = C @ U @ R\n",
    "    e.append(np.max(np.abs(A-B)))\n",
    "print(f'Error max : {np.max(e):-8.2e}')"
   ]
  },
  {
   "cell_type": "markdown",
   "metadata": {},
   "source": [
    "---"
   ]
  }
 ],
 "metadata": {
  "kernelspec": {
   "display_name": "Python 3",
   "language": "python",
   "name": "python3"
  },
  "language_info": {
   "codemirror_mode": {
    "name": "ipython",
    "version": 3
   },
   "file_extension": ".py",
   "mimetype": "text/x-python",
   "name": "python",
   "nbconvert_exporter": "python",
   "pygments_lexer": "ipython3",
   "version": "3.7.4"
  }
 },
 "nbformat": 4,
 "nbformat_minor": 4
}

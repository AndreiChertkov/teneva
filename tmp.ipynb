{
 "cells": [
  {
   "cell_type": "code",
   "execution_count": 1,
   "metadata": {},
   "outputs": [],
   "source": [
    "import numpy as np\n",
    "import teneva\n",
    "from time import perf_counter as tpc\n",
    "np.random.seed(42)"
   ]
  },
  {
   "cell_type": "code",
   "execution_count": 2,
   "metadata": {},
   "outputs": [],
   "source": [
    "def f(x):\n",
    "    y = np.sum([x[i]**(i+1) for i in range(d)])\n",
    "    y = np.sin(y)**2 / (1 + y**2)\n",
    "    return  y\n",
    "\n",
    "def f_vect(X):\n",
    "    \"\"\"Naively vectorized model function.\"\"\"\n",
    "    return np.array([f(x) for x in X])"
   ]
  },
  {
   "cell_type": "code",
   "execution_count": 3,
   "metadata": {},
   "outputs": [],
   "source": [
    "N = [9, 8, 8, 9, 8]  # Shape of the tensor\n",
    "d = len(N)           # Dimension of the problem\n",
    "M = 10000            # Number of test cases\n",
    "nswp     = 10        # Sweep number\n",
    "eps      = 1.E-6     # Desired accuracy\n",
    "kickrank = 1         # Cross parameter\n",
    "rf       = 1         # Cross parameter"
   ]
  },
  {
   "cell_type": "code",
   "execution_count": 4,
   "metadata": {},
   "outputs": [],
   "source": [
    "from teneva import maxvol\n",
    "from teneva import rect_maxvol\n",
    "from teneva.utils import kron\n",
    "from teneva.utils import reshape"
   ]
  },
  {
   "cell_type": "code",
   "execution_count": 5,
   "metadata": {},
   "outputs": [],
   "source": [
    "def _index_merge(i1, i2, i3):\n",
    "    r1 = i1.shape[0] or 1\n",
    "    r2 = i2.shape[0]\n",
    "    r3 = i3.shape[0] or 1\n",
    "    e1 = np.ones((r1, 1), dtype=np.int32)\n",
    "    e3 = np.ones((r3, 1), dtype=np.int32)\n",
    "    e23 = np.ones((r2 * r3, 1), dtype=np.int32)\n",
    "    e12 = np.ones((r1 * r2, 1), dtype=np.int32)\n",
    "    w1 = kron(e23, i1)\n",
    "    w2 = np.empty((w1.shape[0], 0))\n",
    "    if i3.size and r2:\n",
    "        w2 = kron(i3, e12)\n",
    "    return np.hstack((\n",
    "        w1,\n",
    "        kron(kron(e3, i2), e1),\n",
    "        w2\n",
    "    ))"
   ]
  },
  {
   "cell_type": "code",
   "execution_count": 6,
   "metadata": {},
   "outputs": [],
   "source": [
    "def _index_stack(n, r, Il, Ir, right=True):\n",
    "    e1 = np.ones((r, 1), dtype=np.int32)\n",
    "    e2 = np.ones((n, 1), dtype=np.int32)\n",
    "    e3 = reshape(np.arange(n, dtype=np.int32), (-1, 1))\n",
    "    if right:\n",
    "        J = kron(e1, e3)\n",
    "        if Ir.size:\n",
    "            J = np.hstack((J, kron(Ir, e2)))\n",
    "    else:\n",
    "        J = kron(e3, e1)\n",
    "        if Il.size:\n",
    "            J = np.hstack((kron(e2, Il), J))\n",
    "    return reshape(J, (n * r, -1))"
   ]
  },
  {
   "cell_type": "code",
   "execution_count": 7,
   "metadata": {},
   "outputs": [],
   "source": [
    "def _qr_maxvol(G, R0, I0=None, right=True):\n",
    "    r1, n, r2 = G.shape\n",
    "    if right:\n",
    "        G = np.tensordot(G, R0, 1)\n",
    "        r = G.shape[2]\n",
    "        r2 = r\n",
    "        G = reshape(G, (G.shape[0], -1)).T\n",
    "    else:\n",
    "        G = np.tensordot(R0, G, 1)\n",
    "        r = G.shape[0]\n",
    "        G = reshape(G, (-1, G.shape[-1]))\n",
    "\n",
    "    Q, R = np.linalg.qr(G)\n",
    "    I, B = maxvol(Q)\n",
    "    G = reshape(B.T, (-1, n, r2))\n",
    "    J = _index_stack(n, r, I0, I0, right)[I, :]\n",
    "    R = np.dot(Q[I, :], R)\n",
    "    if right:\n",
    "        R = R.T\n",
    "    return G, J, R"
   ]
  },
  {
   "cell_type": "code",
   "execution_count": 8,
   "metadata": {},
   "outputs": [],
   "source": [
    "def _update_core(G, Il, Ir, fun, kickrank, rf, tau=1.1, right=True):\n",
    "    r1, n, r2 = G.shape\n",
    "    p = reshape(np.arange(n, dtype=np.int32), (-1, 1))\n",
    "    G = fun(_index_merge(Il, p, Ir))\n",
    "\n",
    "    if right:\n",
    "        r = r2\n",
    "        G = reshape(G, (r1, -1)).T\n",
    "    else:\n",
    "        r = r1\n",
    "        G = reshape(G, (-1, r2))\n",
    "\n",
    "    q, s1, v1 = np.linalg.svd(G, full_matrices=False)\n",
    "    R = np.diag(s1) @ v1\n",
    "\n",
    "    N, u = q.shape\n",
    "    N_min = min(N, u + kickrank)\n",
    "    N_max = min(N, u + kickrank + rf)\n",
    "    if N <= u:\n",
    "        I = np.arange(q.shape[0], dtype=np.int32)\n",
    "        B = np.eye(q.shape[0], dtype=q.dtype)\n",
    "    else:\n",
    "        I, B = rect_maxvol(q, tau, N_min, N_max)\n",
    "\n",
    "    if right:\n",
    "        G = reshape(B.T, (-1, n, r2))\n",
    "    else:\n",
    "        G = reshape(B, (r1, n, -1))\n",
    "\n",
    "    R = q[I, :].dot(R)\n",
    "\n",
    "    J = _index_stack(n, r, Il, Ir, right)[I, :]\n",
    "\n",
    "    if right:\n",
    "        R = R.T\n",
    "    return G, J, R"
   ]
  },
  {
   "cell_type": "code",
   "execution_count": 9,
   "metadata": {},
   "outputs": [],
   "source": [
    "def cross(f, Y0, nswp=10, kickrank=2, rf=2):\n",
    "    d = len(Y0)\n",
    "    Y = [Y0[k].copy() for k in range(d)]\n",
    "    Il = [np.empty((1, 0), dtype=np.int32)] + [None for _ in range(d)]\n",
    "    Ir = [None for _ in range(d)] + [np.empty((1, 0), dtype=np.int32)]\n",
    "\n",
    "    R = np.ones((1, 1))\n",
    "    for i in range(d-1):\n",
    "        Y[i], Il[i+1], R = _qr_maxvol(Y[i], R, Il[i], right=False)\n",
    "\n",
    "    R = np.ones((1, 1))\n",
    "    for i in range(d-1, 0, -1):\n",
    "        Y[i], Ir[i], R = _qr_maxvol(Y[i], R, Ir[i+1], right=True)\n",
    "\n",
    "    for _ in range(nswp):\n",
    "        R = np.ones((1, 1))\n",
    "        for i in range(d):\n",
    "            Y[i] = np.tensordot(R, Y[i], 1)\n",
    "            Y[i], Il[i+1], R = _update_core(Y[i], Il[i], Ir[i+1], f, kickrank, rf, right=False)\n",
    "        Y[d-1] = np.tensordot(Y[d-1], R, 1)\n",
    "\n",
    "        R = np.ones((1, 1))\n",
    "        for i in range(d-1, -1, -1):\n",
    "            Y[i] = np.tensordot(Y[i], R, 1)\n",
    "            Y[i], Ir[i], R = _update_core(Y[i], Il[i], Ir[i+1], f, kickrank, rf, right=True)\n",
    "        Y[0] = np.tensordot(R, Y[0], 1)\n",
    "\n",
    "    return Y"
   ]
  },
  {
   "cell_type": "code",
   "execution_count": 10,
   "metadata": {},
   "outputs": [
    {
     "name": "stdout",
     "output_type": "stream",
     "text": [
      "Build time (sec) :    3.804\n",
      "Comp time  (sec) :    0.588\n",
      "Check time (sec) :    0.455\n",
      "Time 1-calc (ms) :    0.046\n",
      "Relative error   : 4.54e-07\n",
      "Erank is         :    13.80\n"
     ]
    }
   ],
   "source": [
    "X_tst = np.vstack([np.random.choice(N[i], M) for i in range(d)]).T\n",
    "Y_tst = np.array([f(x) for x in X_tst])\n",
    "Y0 = teneva.rand(N, 2)\n",
    "\n",
    "t = tpc()\n",
    "\n",
    "Y = teneva.cross(f_vect, Y0, nswp, kickrank, rf)\n",
    "Y = teneva.truncate(Y, eps)\n",
    "\n",
    "t = tpc() - t\n",
    "print(f'Build time (sec) : {t:-8.3f}')\n",
    "\n",
    "t = tpc()\n",
    "\n",
    "get = teneva.getter(Y)\n",
    "\n",
    "t = tpc() - t\n",
    "print(f'Comp time  (sec) : {t:-8.3f}')\n",
    "\n",
    "t = tpc()\n",
    "\n",
    "Z = np.array([get(x) for x in X_tst])\n",
    "\n",
    "t = tpc() - t\n",
    "\n",
    "e = np.linalg.norm(Z - Y_tst) / np.linalg.norm(Y_tst)\n",
    "\n",
    "print(f'Check time (sec) : {t:-8.3f}')\n",
    "print(f'Time 1-calc (ms) : {t/len(Z) * 1000:-8.3f}')\n",
    "print(f'Relative error   : {e:-8.2e}')\n",
    "print(f'Erank is         : {teneva.erank(Y):-8.2f}')"
   ]
  },
  {
   "cell_type": "code",
   "execution_count": 11,
   "metadata": {},
   "outputs": [
    {
     "name": "stdout",
     "output_type": "stream",
     "text": [
      "Build time (sec) :    3.113\n",
      "Relative error   : 4.54e-07\n",
      "Erank is         :    13.80\n"
     ]
    }
   ],
   "source": [
    "import tt\n",
    "from tt.cross.rectcross import cross as ttpy_cross\n",
    "\n",
    "t = tpc()\n",
    "\n",
    "x0 = tt.tensor.from_list(Y0)\n",
    "Y = ttpy_cross(\n",
    "    f_vect, x0=x0, nswp=nswp, eps=1.E-16, eps_abs=0., kickrank=kickrank, rf=rf, verbose=False)\n",
    "Y = Y.round(eps)\n",
    "Y = tt.tensor.to_list(Y)  \n",
    "\n",
    "t = tpc() - t\n",
    "print(f'Build time (sec) : {t:-8.3f}')\n",
    "\n",
    "get = teneva.getter(Y)\n",
    "Z = np.array([get(x) for x in X_tst])\n",
    "e = np.linalg.norm(Z - Y_tst) / np.linalg.norm(Y_tst)\n",
    "\n",
    "print(f'Relative error   : {e:-8.2e}')\n",
    "print(f'Erank is         : {teneva.erank(Y):-8.2f}')"
   ]
  },
  {
   "cell_type": "code",
   "execution_count": null,
   "metadata": {},
   "outputs": [],
   "source": []
  }
 ],
 "metadata": {
  "kernelspec": {
   "display_name": "Python 3",
   "language": "python",
   "name": "python3"
  },
  "language_info": {
   "codemirror_mode": {
    "name": "ipython",
    "version": 3
   },
   "file_extension": ".py",
   "mimetype": "text/x-python",
   "name": "python",
   "nbconvert_exporter": "python",
   "pygments_lexer": "ipython3",
   "version": "3.7.4"
  }
 },
 "nbformat": 4,
 "nbformat_minor": 4
}

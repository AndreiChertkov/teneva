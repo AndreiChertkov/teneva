{
 "cells": [
  {
   "cell_type": "code",
   "execution_count": 1,
   "metadata": {},
   "outputs": [],
   "source": [
    "import numpy as np\n",
    "from time import perf_counter as tpc\n",
    "\n",
    "from teneva import cross, erank, getter, rand, truncate\n",
    "\n",
    "np.random.seed(42)"
   ]
  },
  {
   "cell_type": "code",
   "execution_count": 2,
   "metadata": {},
   "outputs": [],
   "source": [
    "def check(X_tst, Y_tst, Y, get, name):\n",
    "    \"\"\"Check the model Y for the given test data (X_tst, Y_tst).\"\"\"\n",
    "    t = tpc()\n",
    "    Z = np.array([get(x) for x in X_tst])\n",
    "    t = tpc() - t\n",
    "    e = np.linalg.norm(Z - Y_tst) / np.linalg.norm(Y_tst)\n",
    "\n",
    "    print(f'------------------ {name}')\n",
    "    print(f'Check time (sec) : {t:-8.3f}')\n",
    "    print(f'Time 1-calc (ms) : {t/len(Z) * 1000:-8.3f}')\n",
    "    print(f'Relative error   : {e:-8.2e}')\n",
    "    print(f'Erank is         : {erank(Y):-8.2f}')"
   ]
  },
  {
   "cell_type": "code",
   "execution_count": 8,
   "metadata": {},
   "outputs": [],
   "source": [
    "N = [9, 8, 8, 9, 8]  # Shape of the tensor\n",
    "d = len(N)           # Dimension of the problem\n",
    "M = 10000            # Number of test cases\n",
    "nswp     = 6         # Sweep number\n",
    "eps      = 1.E-6     # Desired accuracy\n",
    "kickrank = 2         # Cross parameter\n",
    "rf       = 1.5       # Cross parameter"
   ]
  },
  {
   "cell_type": "code",
   "execution_count": 9,
   "metadata": {},
   "outputs": [],
   "source": [
    "def f(x):\n",
    "    y = np.sum([x[i]**(i+1) for i in range(d)])\n",
    "    y = np.sin(y)**2 / (1 + y**2)\n",
    "    return  y\n",
    "\n",
    "def f_vect(X):\n",
    "    \"\"\"Naively vectorized model function.\"\"\"\n",
    "    return np.array([f(x) for x in X])"
   ]
  },
  {
   "cell_type": "code",
   "execution_count": 10,
   "metadata": {},
   "outputs": [],
   "source": [
    "X_tst = np.vstack([np.random.choice(N[i], M) for i in range(d)]).T\n",
    "Y_tst = np.array([f(x) for x in X_tst])"
   ]
  },
  {
   "cell_type": "code",
   "execution_count": 11,
   "metadata": {},
   "outputs": [],
   "source": [
    "Y0 = rand(N, 2)"
   ]
  },
  {
   "cell_type": "code",
   "execution_count": 12,
   "metadata": {},
   "outputs": [
    {
     "name": "stdout",
     "output_type": "stream",
     "text": [
      "------------------ Cross own\n",
      "Check time (sec) :    0.415\n",
      "Time 1-calc (ms) :    0.041\n",
      "Relative error   : 4.11e-07\n",
      "Erank is         :    13.80\n",
      "Build time (sec) :    1.886\n"
     ]
    }
   ],
   "source": [
    "t = tpc()\n",
    "Y = cross(f_vect, Y0, nswp, kickrank=2, rf=1.5)\n",
    "Y = truncate(Y, eps)\n",
    "t = tpc() - t\n",
    "\n",
    "get = getter(Y)\n",
    "check(X_tst, Y_tst, Y, get, 'Cross own')\n",
    "print(f'Build time (sec) : {t:-8.3f}')"
   ]
  },
  {
   "cell_type": "markdown",
   "metadata": {},
   "source": [
    "## Compare with ttpy"
   ]
  },
  {
   "cell_type": "code",
   "execution_count": 8,
   "metadata": {},
   "outputs": [],
   "source": [
    "import tt                                   \n",
    "from tt.cross.rectcross import cross as ttpy_cross"
   ]
  },
  {
   "cell_type": "code",
   "execution_count": 9,
   "metadata": {},
   "outputs": [],
   "source": [
    "def solver_cro(f, Y0, nswp=10, eps=None, kickrank=2, rf=1.5):\n",
    "    Y0 = tt.tensor.from_list(Y0)\n",
    "    Y = ttpy_cross(myfun=f, x0=Y0, nswp=nswp, eps=1.E-16,\n",
    "              eps_abs=0., kickrank=kickrank, rf=rf,\n",
    "              verbose=True, stop_fun=None, approx_fun=None)\n",
    "    if eps:\n",
    "        Y = Y.round(eps)\n",
    "    return tt.tensor.to_list(Y)  "
   ]
  },
  {
   "cell_type": "code",
   "execution_count": 10,
   "metadata": {},
   "outputs": [
    {
     "name": "stdout",
     "output_type": "stream",
     "text": [
      "swp: 0/1 er_rel = 7.2e+02 er_abs = 7.2e+02 erank = 6.0 fun_eval: 936\n",
      "swp: 1/1 er_rel = 3.1e-01 er_abs = 3.1e-01 erank = 9.6 fun_eval: 4264\n",
      "------------------ Cross\n",
      "Check time (sec) :    0.458\n",
      "Time 1-calc (ms) :    0.046\n",
      "Relative error   : 9.45e-03\n",
      "Erank is         :     8.69\n",
      "Build time (sec) :    0.186\n"
     ]
    }
   ],
   "source": [
    "t = tpc()\n",
    "Yr_cro = solver_cro(f_vect, Y0, nswp, eps, kickrank, rf)\n",
    "t = tpc() - t\n",
    "\n",
    "get_cro = getter(Yr_cro)\n",
    "check(X_tst, Y_tst, Yr_cro, get_cro, 'Cross')\n",
    "print(f'Build time (sec) : {t:-8.3f}')"
   ]
  },
  {
   "cell_type": "markdown",
   "metadata": {},
   "source": [
    "---"
   ]
  },
  {
   "cell_type": "markdown",
   "metadata": {},
   "source": [
    "## Tests"
   ]
  },
  {
   "cell_type": "code",
   "execution_count": 11,
   "metadata": {},
   "outputs": [],
   "source": [
    "import tt"
   ]
  },
  {
   "cell_type": "code",
   "execution_count": 12,
   "metadata": {},
   "outputs": [
    {
     "name": "stdout",
     "output_type": "stream",
     "text": [
      "Erank ttpy   :    2.000\n",
      "Erank teneva :    2.000\n"
     ]
    }
   ],
   "source": [
    "from teneva import erank\n",
    "\n",
    "Z = tt.rand(np.array([5, 6, 7, 8, 9]))\n",
    "Y = tt.tensor.to_list(Z)\n",
    "\n",
    "print(f'Erank ttpy   : {Z.erank:-8.3f}')\n",
    "print(f'Erank teneva : {erank(Y):-8.3f}')"
   ]
  },
  {
   "cell_type": "code",
   "execution_count": 13,
   "metadata": {},
   "outputs": [
    {
     "name": "stdout",
     "output_type": "stream",
     "text": [
      "Element ttpy   :    9.230\n",
      "Element teneva :    9.230\n"
     ]
    }
   ],
   "source": [
    "from teneva import get\n",
    "\n",
    "\n",
    "Z = tt.rand(np.array([5, 6, 7, 8, 9]))\n",
    "Y = tt.tensor.to_list(Z)\n",
    "\n",
    "x = [0, 1, 2, 1, 0]\n",
    "\n",
    "y1 = Z[x]\n",
    "y2 = get(Y, x)\n",
    "\n",
    "print(f'Element ttpy   : {y1:-8.3f}')\n",
    "print(f'Element teneva : {y2:-8.3f}')"
   ]
  },
  {
   "cell_type": "code",
   "execution_count": 14,
   "metadata": {},
   "outputs": [
    {
     "name": "stdout",
     "output_type": "stream",
     "text": [
      "Element ttpy   :   -0.999\n",
      "Element teneva :   -0.999\n"
     ]
    }
   ],
   "source": [
    "from teneva import getter\n",
    "\n",
    "Z = tt.rand(np.array([5, 6, 7, 8, 9]))\n",
    "Y = tt.tensor.to_list(Z)\n",
    "\n",
    "get = getter(Y)\n",
    "\n",
    "x = np.array([0, 1, 2, 1, 0])\n",
    "\n",
    "y1 = Z[x]\n",
    "y2 = get(x)\n",
    "\n",
    "print(f'Element ttpy   : {y1:-8.3f}')\n",
    "print(f'Element teneva : {y2:-8.3f}')"
   ]
  },
  {
   "cell_type": "code",
   "execution_count": 15,
   "metadata": {},
   "outputs": [
    {
     "name": "stdout",
     "output_type": "stream",
     "text": [
      "Mean ttpy   :    0.01657\n",
      "Mean teneva :    0.01657\n"
     ]
    }
   ],
   "source": [
    "from teneva import mean\n",
    "\n",
    "Z = tt.rand(np.array([5, 6, 7, 8, 9]))\n",
    "Y = tt.tensor.to_list(Z)\n",
    "\n",
    "m1 = tt.sum(Z) / np.prod([G.shape[1] for G in Y])\n",
    "m2 = mean(Y)\n",
    "\n",
    "print(f'Mean ttpy   : {m1:-10.5f}')\n",
    "print(f'Mean teneva : {m2:-10.5f}')"
   ]
  },
  {
   "cell_type": "code",
   "execution_count": 16,
   "metadata": {},
   "outputs": [
    {
     "name": "stdout",
     "output_type": "stream",
     "text": [
      "Norm ttpy   : 2580.77399\n",
      "Norm teneva : 2580.77399\n"
     ]
    }
   ],
   "source": [
    "from teneva import mul\n",
    "\n",
    "Z1 = tt.rand(np.array([5, 6, 7, 8, 9]))\n",
    "Z2 = tt.rand(np.array([5, 6, 7, 8, 9]))\n",
    "Y1 = tt.tensor.to_list(Z1)\n",
    "Y2 = tt.tensor.to_list(Z2)\n",
    "\n",
    "Z3 = Z1 * Z2\n",
    "Y3 = mul(Y1, Y2)\n",
    "\n",
    "n1 = Z3.norm()\n",
    "n2 = tt.tensor.from_list(Y3).norm()\n",
    "\n",
    "print(f'Norm ttpy   : {n1:-10.5f}')\n",
    "print(f'Norm teneva : {n2:-10.5f}')"
   ]
  },
  {
   "cell_type": "code",
   "execution_count": 17,
   "metadata": {},
   "outputs": [
    {
     "name": "stdout",
     "output_type": "stream",
     "text": [
      "Norm ttpy   :  294.88505\n",
      "Norm teneva :  294.88505\n"
     ]
    }
   ],
   "source": [
    "from teneva import norm\n",
    "\n",
    "Z = tt.rand(np.array([5, 6, 7, 8, 9]))\n",
    "Y = tt.tensor.to_list(Z)\n",
    "\n",
    "n1 = Z.norm()\n",
    "n2 = norm(Y)\n",
    "\n",
    "print(f'Norm ttpy   : {n1:-10.5f}')\n",
    "print(f'Norm teneva : {n2:-10.5f}')"
   ]
  },
  {
   "cell_type": "code",
   "execution_count": 18,
   "metadata": {},
   "outputs": [
    {
     "name": "stdout",
     "output_type": "stream",
     "text": [
      "Norm of error   :   3.57e-16\n"
     ]
    }
   ],
   "source": [
    "from teneva import rand\n",
    "\n",
    "def sf(k):\n",
    "    return np.array([0.1] * k)\n",
    "\n",
    "n = np.array([5, 6, 7, 8, 9])\n",
    "r = 4\n",
    "Z = tt.rand(n, r=r, samplefunc=sf)\n",
    "Y = rand(n, r, sf)\n",
    "\n",
    "n = (Z - tt.tensor.from_list(Y)).norm() / Z.norm()\n",
    "\n",
    "print(f'Norm of error   : {n:-10.2e}')"
   ]
  },
  {
   "cell_type": "code",
   "execution_count": 19,
   "metadata": {},
   "outputs": [
    {
     "name": "stdout",
     "output_type": "stream",
     "text": [
      "Mean ttpy   : 1722.55537\n",
      "Mean teneva : 1722.55537\n"
     ]
    }
   ],
   "source": [
    "from teneva import recap\n",
    "\n",
    "Z = tt.rand(np.array([5, 6, 7, 8, 9]))\n",
    "Y = tt.tensor.to_list(Z)\n",
    "\n",
    "m1 = tt.sum(Z)\n",
    "m2 = recap(Y)\n",
    "\n",
    "print(f'Mean ttpy   : {m1:-10.5f}')\n",
    "print(f'Mean teneva : {m2:-10.5f}')"
   ]
  },
  {
   "cell_type": "code",
   "execution_count": 20,
   "metadata": {},
   "outputs": [
    {
     "name": "stdout",
     "output_type": "stream",
     "text": [
      "Norm of error   :   3.38e-15\n"
     ]
    }
   ],
   "source": [
    "from teneva import truncate\n",
    "\n",
    "Z = tt.rand(np.array([5, 6, 7, 8, 9]), r=10)\n",
    "Y = tt.tensor.to_list(Z)\n",
    "\n",
    "e = 1.E-2\n",
    "Z = Z.round(e)\n",
    "Y = truncate(Y, e)\n",
    "\n",
    "n = (Z - tt.tensor.from_list(Y)).norm() / Z.norm()\n",
    "\n",
    "print(f'Norm of error   : {n:-10.2e}')"
   ]
  },
  {
   "cell_type": "markdown",
   "metadata": {},
   "source": [
    "---"
   ]
  }
 ],
 "metadata": {
  "kernelspec": {
   "display_name": "Python 3",
   "language": "python",
   "name": "python3"
  },
  "language_info": {
   "codemirror_mode": {
    "name": "ipython",
    "version": 3
   },
   "file_extension": ".py",
   "mimetype": "text/x-python",
   "name": "python",
   "nbconvert_exporter": "python",
   "pygments_lexer": "ipython3",
   "version": "3.7.4"
  }
 },
 "nbformat": 4,
 "nbformat_minor": 4
}

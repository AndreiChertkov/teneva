{
 "cells": [
  {
   "cell_type": "code",
   "execution_count": 10,
   "metadata": {},
   "outputs": [],
   "source": [
    "import numpy as np\n",
    "from time import perf_counter as tpc\n",
    "\n",
    "from teneva import getter, cross, rand, erank\n",
    "\n",
    "np.random.seed(42)"
   ]
  },
  {
   "cell_type": "code",
   "execution_count": 31,
   "metadata": {},
   "outputs": [],
   "source": [
    "def check(X_tst, Y_tst, Y, get, name):\n",
    "    \"\"\"Проверяет точность модели на заданном наборе данных.\"\"\"\n",
    "    t = tpc()\n",
    "    Z = np.array([get(x) for x in X_tst])\n",
    "    t = tpc() - t\n",
    "    e = np.linalg.norm(Z - Y_tst) / np.linalg.norm(Y_tst)\n",
    "\n",
    "    print(f'------------------ {name}')\n",
    "    print(f'Check time (sec) : {t:-8.3f}')\n",
    "    print(f'Time 1-calc (ms) : {t/len(Z) * 1000:-8.3f}')\n",
    "    print(f'Relative error   : {e:-8.2e}')\n",
    "    print(f'Erank is         : {erank(Y):-8.2f}')"
   ]
  },
  {
   "cell_type": "code",
   "execution_count": 32,
   "metadata": {},
   "outputs": [],
   "source": [
    "N = [3, 4, 5, 7]    # Форма тензора\n",
    "d = len(N)          # Размерность задачи\n",
    "K = 1000            # Количество обучающих примеров\n",
    "M = 10000           # Количество проверочных примеров"
   ]
  },
  {
   "cell_type": "code",
   "execution_count": 45,
   "metadata": {},
   "outputs": [],
   "source": [
    "def f(x):\n",
    "    y = np.sum([x[i]**(i+1) for i in range(d)])\n",
    "    y = np.sin(y)**2 / (1 + y**2)\n",
    "    return  y\n",
    "\n",
    "def f_vect(X): # \"Наивно векторизованная\" модельная функция\n",
    "    return np.array([f(x) for x in X])"
   ]
  },
  {
   "cell_type": "code",
   "execution_count": 46,
   "metadata": {},
   "outputs": [],
   "source": [
    "X_tst = np.vstack([np.random.choice(N[i], M) for i in range(d)]).T\n",
    "Y_tst = np.array([f(x) for x in X_tst])"
   ]
  },
  {
   "cell_type": "code",
   "execution_count": 47,
   "metadata": {},
   "outputs": [],
   "source": [
    "Y0 = rand(N, 2)"
   ]
  },
  {
   "cell_type": "code",
   "execution_count": 48,
   "metadata": {},
   "outputs": [],
   "source": [
    "# Здесь мы используем maxvol из пакета ttpy:\n",
    "import tt\n",
    "from tt.cross.rectcross.rect_maxvol import maxvol as base_maxvol\n",
    "from tt.cross.rectcross.rect_maxvol import rect_maxvol as base_rect_maxvol"
   ]
  },
  {
   "cell_type": "code",
   "execution_count": 49,
   "metadata": {},
   "outputs": [
    {
     "name": "stdout",
     "output_type": "stream",
     "text": [
      "Build time (sec) :    0.100\n",
      "------------------ Cross own\n",
      "Check time (sec) :    0.451\n",
      "Time 1-calc (ms) :    0.045\n",
      "Relative error   : 1.23e-16\n",
      "Erank is         :     9.09\n"
     ]
    }
   ],
   "source": [
    "t = tpc()\n",
    "\n",
    "maxvol = base_maxvol\n",
    "rect_maxvol = base_rect_maxvol\n",
    "Y = cross(f_vect, Y0, nswp=3, kickrank=2, rf=1.5, mv=maxvol, rmv=rect_maxvol)\n",
    "\n",
    "print(f'Build time (sec) : {tpc() - t:-8.3f}')\n",
    "\n",
    "get = getter(Y)\n",
    "check(X_tst, Y_tst, Y, get, 'Cross own')"
   ]
  },
  {
   "cell_type": "code",
   "execution_count": 51,
   "metadata": {},
   "outputs": [
    {
     "name": "stdout",
     "output_type": "stream",
     "text": [
      "swp: 0/2 er_rel = 3.9e+01 er_abs = 3.4e+01 erank = 5.8 fun_eval: 333\n",
      "swp: 1/2 er_rel = 2.0e-01 er_abs = 1.7e-01 erank = 7.7 fun_eval: 1187\n",
      "swp: 2/2 er_rel = 3.3e-04 er_abs = 2.7e-04 erank = 9.1 fun_eval: 2471\n",
      "Build time (sec) :    0.120\n",
      "------------------ Cross\n",
      "Check time (sec) :    0.472\n",
      "Time 1-calc (ms) :    0.047\n",
      "Relative error   : 1.23e-16\n",
      "Erank is         :     9.09\n"
     ]
    }
   ],
   "source": [
    "# Считаем то же самое, используя ttpy:\n",
    "import tt                                   # Только для Cross\n",
    "from tt.cross.rectcross import cross as cr  # Только для Cross\n",
    "\n",
    "def solver_cro(f, Y0, nswp=10, e=1.E-6):\n",
    "    Y0 = tt.tensor.from_list(Y0).round(e)\n",
    "    Y = cr(myfun=f, x0=Y0, nswp=nswp, eps=e,\n",
    "              eps_abs=0., kickrank=2, rf=1.5,\n",
    "              verbose=True, stop_fun=None, approx_fun=None)\n",
    "    return tt.tensor.to_list(Y) # (Y.round(e))       \n",
    "\n",
    "t = tpc()\n",
    "Yr_cro = solver_cro(f_vect, Y0, nswp=3, e=1.E-10)\n",
    "\n",
    "print(f'Build time (sec) : {tpc() - t:-8.3f}')\n",
    "\n",
    "get_cro = getter(Yr_cro)\n",
    "check(X_tst, Y_tst, Yr_cro, get_cro, 'Cross')"
   ]
  },
  {
   "cell_type": "markdown",
   "metadata": {},
   "source": [
    "# Below is old code !!!"
   ]
  },
  {
   "cell_type": "code",
   "execution_count": null,
   "metadata": {},
   "outputs": [],
   "source": []
  },
  {
   "cell_type": "code",
   "execution_count": null,
   "metadata": {},
   "outputs": [],
   "source": []
  },
  {
   "cell_type": "code",
   "execution_count": null,
   "metadata": {},
   "outputs": [],
   "source": []
  },
  {
   "cell_type": "code",
   "execution_count": null,
   "metadata": {},
   "outputs": [],
   "source": []
  },
  {
   "cell_type": "code",
   "execution_count": null,
   "metadata": {},
   "outputs": [],
   "source": []
  },
  {
   "cell_type": "code",
   "execution_count": null,
   "metadata": {},
   "outputs": [],
   "source": []
  },
  {
   "cell_type": "code",
   "execution_count": null,
   "metadata": {},
   "outputs": [],
   "source": []
  },
  {
   "cell_type": "code",
   "execution_count": null,
   "metadata": {},
   "outputs": [],
   "source": []
  },
  {
   "cell_type": "code",
   "execution_count": null,
   "metadata": {},
   "outputs": [],
   "source": []
  },
  {
   "cell_type": "code",
   "execution_count": null,
   "metadata": {},
   "outputs": [],
   "source": []
  },
  {
   "cell_type": "code",
   "execution_count": null,
   "metadata": {},
   "outputs": [],
   "source": []
  },
  {
   "cell_type": "code",
   "execution_count": null,
   "metadata": {},
   "outputs": [],
   "source": [
    "from code_ import rand_\n",
    "from code_ import mul_\n",
    "from code_ import getter_"
   ]
  },
  {
   "cell_type": "code",
   "execution_count": null,
   "metadata": {},
   "outputs": [],
   "source": [
    "from code import getter"
   ]
  },
  {
   "cell_type": "code",
   "execution_count": null,
   "metadata": {},
   "outputs": [],
   "source": [
    "def tcheck(func, K, title=''):\n",
    "    t = tpc()\n",
    "\n",
    "    for k in range(K):\n",
    "        func()\n",
    "\n",
    "    t = tpc() - t\n",
    "    if title:\n",
    "        print(f'>>> {title}')\n",
    "    print(f'Total time    (sec ) : {t:-10.4f}')\n",
    "    print(f'Time for 1 op (msec) : {t/K:-10.6f}')"
   ]
  },
  {
   "cell_type": "code",
   "execution_count": null,
   "metadata": {},
   "outputs": [],
   "source": [
    "N = [10] * 50\n",
    "d = len(N)\n",
    "A = rand_(N, 7)\n",
    "B = rand_(N, 6)\n",
    "C = mul_(A, B)"
   ]
  },
  {
   "cell_type": "code",
   "execution_count": null,
   "metadata": {},
   "outputs": [],
   "source": [
    "get_ = getter_(C)\n",
    "get = getter(C)"
   ]
  },
  {
   "cell_type": "code",
   "execution_count": null,
   "metadata": {},
   "outputs": [],
   "source": [
    "x = np.zeros(d, dtype=int)\n",
    "get(x)"
   ]
  },
  {
   "cell_type": "code",
   "execution_count": null,
   "metadata": {},
   "outputs": [],
   "source": [
    "x = np.zeros(d, dtype=int)\n",
    "get_(x)"
   ]
  },
  {
   "cell_type": "code",
   "execution_count": null,
   "metadata": {},
   "outputs": [],
   "source": [
    "tcheck(lambda: get_(x), 1000, 'get | Numpy')"
   ]
  },
  {
   "cell_type": "code",
   "execution_count": null,
   "metadata": {},
   "outputs": [],
   "source": [
    "tcheck(lambda: get(x), 1000, 'get | Numba')"
   ]
  },
  {
   "cell_type": "code",
   "execution_count": null,
   "metadata": {},
   "outputs": [],
   "source": [
    "A_tt = tt.tensor.from_list(A)\n",
    "B_tt = tt.tensor.from_list(B)\n",
    "C_tt = A_tt * B_tt\n",
    "\n",
    "tcheck(lambda: C_tt[x], 1000, 'get | Ttpy')"
   ]
  },
  {
   "cell_type": "code",
   "execution_count": null,
   "metadata": {},
   "outputs": [],
   "source": []
  },
  {
   "cell_type": "code",
   "execution_count": null,
   "metadata": {},
   "outputs": [],
   "source": [
    "tcheck(lambda: mul_(A, B), 1000, 'mul | Numpy')"
   ]
  },
  {
   "cell_type": "code",
   "execution_count": null,
   "metadata": {},
   "outputs": [],
   "source": [
    "A_tt = tt.tensor.from_list(A)\n",
    "B_tt = tt.tensor.from_list(B)\n",
    "\n",
    "tcheck(lambda: A_tt * B_tt, 1000, 'mul | Ttpy')"
   ]
  },
  {
   "cell_type": "code",
   "execution_count": null,
   "metadata": {},
   "outputs": [],
   "source": []
  },
  {
   "cell_type": "code",
   "execution_count": null,
   "metadata": {},
   "outputs": [],
   "source": []
  },
  {
   "cell_type": "code",
   "execution_count": null,
   "metadata": {},
   "outputs": [],
   "source": [
    "A_tt = tt.tensor.from_list(A)\n",
    "B_tt = tt.tensor.from_list(B)\n",
    "C_tt = A_tt * B_tt"
   ]
  },
  {
   "cell_type": "code",
   "execution_count": null,
   "metadata": {},
   "outputs": [],
   "source": [
    "if False:\n",
    "    X1 = tt.tensor.from_list(C).full()\n",
    "    X2 = C_tt.full()\n",
    "    e = np.max(np.abs(X1 - X2))\n",
    "    print(f'Error {e:-8.2e}')"
   ]
  },
  {
   "cell_type": "code",
   "execution_count": null,
   "metadata": {},
   "outputs": [],
   "source": [
    "t = tpc()\n",
    "\n",
    "K = 1000\n",
    "for k in range(K):\n",
    "    C_tt = A_tt * B_tt\n",
    "    \n",
    "t = tpc() - t\n",
    "print(f'Total time    (sec ) : {t:-10.4f}')\n",
    "print(f'Time for 1 op (msec) : {t/K:-10.6f}')"
   ]
  },
  {
   "cell_type": "code",
   "execution_count": null,
   "metadata": {},
   "outputs": [],
   "source": [
    "t = tpc()\n",
    "\n",
    "K = 1000\n",
    "for k in range(K):\n",
    "    C = mul(A, B)\n",
    "    \n",
    "t = tpc() - t\n",
    "print(f'Total time    (sec ) : {t:-10.4f}')\n",
    "print(f'Time for 1 op (msec) : {t/K:-10.6f}')"
   ]
  },
  {
   "cell_type": "code",
   "execution_count": null,
   "metadata": {},
   "outputs": [],
   "source": [
    "t = tpc()\n",
    "\n",
    "K = 1000\n",
    "for k in range(K):\n",
    "    C = mul_nb(A, B)\n",
    "    \n",
    "t = tpc() - t\n",
    "print(f'Total time    (sec ) : {t:-10.4f}')\n",
    "print(f'Time for 1 op (msec) : {t/K:-10.6f}')"
   ]
  },
  {
   "cell_type": "code",
   "execution_count": null,
   "metadata": {},
   "outputs": [],
   "source": []
  }
 ],
 "metadata": {
  "kernelspec": {
   "display_name": "Python 3",
   "language": "python",
   "name": "python3"
  },
  "language_info": {
   "codemirror_mode": {
    "name": "ipython",
    "version": 3
   },
   "file_extension": ".py",
   "mimetype": "text/x-python",
   "name": "python",
   "nbconvert_exporter": "python",
   "pygments_lexer": "ipython3",
   "version": "3.7.4"
  }
 },
 "nbformat": 4,
 "nbformat_minor": 4
}
